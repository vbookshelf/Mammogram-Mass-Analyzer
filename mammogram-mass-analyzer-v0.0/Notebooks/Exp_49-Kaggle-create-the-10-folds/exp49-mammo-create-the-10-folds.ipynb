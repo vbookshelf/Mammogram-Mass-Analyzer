{
 "cells": [
  {
   "cell_type": "code",
   "execution_count": null,
   "id": "5aa6b6cb",
   "metadata": {
    "papermill": {
     "duration": 0.011537,
     "end_time": "2022-11-29T01:15:26.862052",
     "exception": false,
     "start_time": "2022-11-29T01:15:26.850515",
     "status": "completed"
    },
    "tags": []
   },
   "outputs": [],
   "source": []
  },
  {
   "cell_type": "markdown",
   "id": "335f2a82",
   "metadata": {
    "papermill": {
     "duration": 0.008323,
     "end_time": "2022-11-29T01:15:26.880878",
     "exception": false,
     "start_time": "2022-11-29T01:15:26.872555",
     "status": "completed"
    },
    "tags": []
   },
   "source": [
    "## Approach\n",
    "\n",
    "The original VinDR-Mammo dataset has more than 20000 images. This smaller dataset has only 1426 images. It's made up of all images that contain masses plus 200 images that don't contain masses.\n",
    "\n",
    "1. Group by study_id because there are duplicate image_ids. There are duplicate image_ids because when there is more than one bbox on an image, then each bbox is on a separate row. Each of those rows has the same image_id. We grouby study_id because we want to ensure that images with multiple bboxes stay together i.e. one bbox does not end up in the train set and another in the val set.\n",
    "\n",
    "2. Stratify by density. This dataset contains 1148 Density C images. From experiments I've found that the model struggles to correctly detect masses on breasts with a high density. Therefore, we need to ensure that the val fold does not contain only hard examples.\n",
    "\n",
    "3. To create a dataset to use for training and validation, I chose all images that contain masses and 200 images that don't have masses. This was a total of 1426 dicom files - much less than the over 20000 dicom files in the VinDr-Mammo datset. Yolo only needs about 10% normal images. From experiments I found that there were many false positives so that's why I increased the number of normal images to more than 10% of the number of images with masses. \n",
    "\n",
    "4. I converted the 1426 dicom files to png images (Exp06) before uploading them to a private Kaggle dataset. Converting to png reduced the size of the data that needed to be uploaded,\n",
    "\n",
    "5. I'm using a train/test split of approx. 11% (10 folds). The task is hard and the dataset is small. Therefore, I'm trying to put as many images as possible in the train set.\n",
    "\n",
    "6. I will only be using fold 0 to train and validate the model.\n"
   ]
  },
  {
   "cell_type": "code",
   "execution_count": 1,
   "id": "06376d80",
   "metadata": {
    "execution": {
     "iopub.execute_input": "2022-11-29T01:15:26.902244Z",
     "iopub.status.busy": "2022-11-29T01:15:26.901374Z",
     "iopub.status.idle": "2022-11-29T01:15:26.912661Z",
     "shell.execute_reply": "2022-11-29T01:15:26.911709Z"
    },
    "papermill": {
     "duration": 0.02535,
     "end_time": "2022-11-29T01:15:26.915327",
     "exception": false,
     "start_time": "2022-11-29T01:15:26.889977",
     "status": "completed"
    },
    "tags": []
   },
   "outputs": [],
   "source": [
    "import pandas as pd\n",
    "import numpy as np\n",
    "import os\n",
    "\n",
    "import shutil\n",
    "from tqdm import tqdm_notebook as tqdm\n",
    "\n",
    "import matplotlib.pyplot as plt\n",
    "\n",
    "# Don't Show Warning Messages\n",
    "import warnings\n",
    "warnings.filterwarnings('ignore')"
   ]
  },
  {
   "cell_type": "code",
   "execution_count": 2,
   "id": "594175ec",
   "metadata": {
    "execution": {
     "iopub.execute_input": "2022-11-29T01:15:26.935308Z",
     "iopub.status.busy": "2022-11-29T01:15:26.934623Z",
     "iopub.status.idle": "2022-11-29T01:15:26.938821Z",
     "shell.execute_reply": "2022-11-29T01:15:26.938040Z"
    },
    "papermill": {
     "duration": 0.016714,
     "end_time": "2022-11-29T01:15:26.941194",
     "exception": false,
     "start_time": "2022-11-29T01:15:26.924480",
     "status": "completed"
    },
    "tags": []
   },
   "outputs": [],
   "source": [
    "base_path = '../input/smart-mammo-data/'"
   ]
  },
  {
   "cell_type": "code",
   "execution_count": 3,
   "id": "4c13e752",
   "metadata": {
    "execution": {
     "iopub.execute_input": "2022-11-29T01:15:26.963159Z",
     "iopub.status.busy": "2022-11-29T01:15:26.962423Z",
     "iopub.status.idle": "2022-11-29T01:15:26.971826Z",
     "shell.execute_reply": "2022-11-29T01:15:26.970654Z"
    },
    "papermill": {
     "duration": 0.022821,
     "end_time": "2022-11-29T01:15:26.974446",
     "exception": false,
     "start_time": "2022-11-29T01:15:26.951625",
     "status": "completed"
    },
    "tags": []
   },
   "outputs": [
    {
     "data": {
      "text/plain": [
       "['smart-mammo-data']"
      ]
     },
     "execution_count": 3,
     "metadata": {},
     "output_type": "execute_result"
    }
   ],
   "source": [
    "os.listdir('../input/')"
   ]
  },
  {
   "cell_type": "code",
   "execution_count": 4,
   "id": "1b714da6",
   "metadata": {
    "execution": {
     "iopub.execute_input": "2022-11-29T01:15:26.994492Z",
     "iopub.status.busy": "2022-11-29T01:15:26.993844Z",
     "iopub.status.idle": "2022-11-29T01:15:27.001114Z",
     "shell.execute_reply": "2022-11-29T01:15:26.999941Z"
    },
    "papermill": {
     "duration": 0.019946,
     "end_time": "2022-11-29T01:15:27.003363",
     "exception": false,
     "start_time": "2022-11-29T01:15:26.983417",
     "status": "completed"
    },
    "tags": []
   },
   "outputs": [
    {
     "data": {
      "text/plain": [
       "4"
      ]
     },
     "execution_count": 4,
     "metadata": {},
     "output_type": "execute_result"
    }
   ],
   "source": [
    "NUM_FOLDS = 10\n",
    "\n",
    "CHOSEN_FOLD = 0\n",
    "\n",
    "NUM_CORES = os.cpu_count()\n",
    "NUM_CORES"
   ]
  },
  {
   "cell_type": "markdown",
   "id": "38816fcb",
   "metadata": {
    "papermill": {
     "duration": 0.008924,
     "end_time": "2022-11-29T01:15:27.021293",
     "exception": false,
     "start_time": "2022-11-29T01:15:27.012369",
     "status": "completed"
    },
    "tags": []
   },
   "source": [
    "## Load the data"
   ]
  },
  {
   "cell_type": "code",
   "execution_count": 5,
   "id": "e5a0a2bb",
   "metadata": {
    "execution": {
     "iopub.execute_input": "2022-11-29T01:15:27.042594Z",
     "iopub.status.busy": "2022-11-29T01:15:27.041909Z",
     "iopub.status.idle": "2022-11-29T01:15:27.134496Z",
     "shell.execute_reply": "2022-11-29T01:15:27.132734Z"
    },
    "papermill": {
     "duration": 0.10637,
     "end_time": "2022-11-29T01:15:27.137249",
     "exception": false,
     "start_time": "2022-11-29T01:15:27.030879",
     "status": "completed"
    },
    "tags": []
   },
   "outputs": [
    {
     "name": "stdout",
     "output_type": "stream",
     "text": [
      "(1426, 19)\n"
     ]
    },
    {
     "data": {
      "text/html": [
       "<div>\n",
       "<style scoped>\n",
       "    .dataframe tbody tr th:only-of-type {\n",
       "        vertical-align: middle;\n",
       "    }\n",
       "\n",
       "    .dataframe tbody tr th {\n",
       "        vertical-align: top;\n",
       "    }\n",
       "\n",
       "    .dataframe thead th {\n",
       "        text-align: right;\n",
       "    }\n",
       "</style>\n",
       "<table border=\"1\" class=\"dataframe\">\n",
       "  <thead>\n",
       "    <tr style=\"text-align: right;\">\n",
       "      <th></th>\n",
       "      <th>study_id</th>\n",
       "      <th>series_id</th>\n",
       "      <th>image_id</th>\n",
       "      <th>laterality</th>\n",
       "      <th>view_position</th>\n",
       "      <th>height</th>\n",
       "      <th>width</th>\n",
       "      <th>breast_birads</th>\n",
       "      <th>breast_density</th>\n",
       "      <th>finding_categories</th>\n",
       "      <th>finding_birads</th>\n",
       "      <th>xmin</th>\n",
       "      <th>ymin</th>\n",
       "      <th>xmax</th>\n",
       "      <th>ymax</th>\n",
       "      <th>split</th>\n",
       "      <th>path</th>\n",
       "      <th>num_findings</th>\n",
       "      <th>target</th>\n",
       "    </tr>\n",
       "  </thead>\n",
       "  <tbody>\n",
       "    <tr>\n",
       "      <th>0</th>\n",
       "      <td>48575a27b7c992427041a82fa750d3fa</td>\n",
       "      <td>26de4993fa6b8ae50a91c8baf49b92b0</td>\n",
       "      <td>4e3a578fe535ea4f5258d3f7f4419db8</td>\n",
       "      <td>R</td>\n",
       "      <td>CC</td>\n",
       "      <td>3518</td>\n",
       "      <td>2800</td>\n",
       "      <td>BI-RADS 4</td>\n",
       "      <td>DENSITY C</td>\n",
       "      <td>['Mass']</td>\n",
       "      <td>BI-RADS 4</td>\n",
       "      <td>2355.139893</td>\n",
       "      <td>1731.640015</td>\n",
       "      <td>2482.979980</td>\n",
       "      <td>1852.750000</td>\n",
       "      <td>training</td>\n",
       "      <td>/Volumes/WDExtDrive/Woza-Mammogram-Analyzer/Ra...</td>\n",
       "      <td>1</td>\n",
       "      <td>1</td>\n",
       "    </tr>\n",
       "    <tr>\n",
       "      <th>1</th>\n",
       "      <td>48575a27b7c992427041a82fa750d3fa</td>\n",
       "      <td>26de4993fa6b8ae50a91c8baf49b92b0</td>\n",
       "      <td>dac39351b0f3a8c670b7f8dc88029364</td>\n",
       "      <td>R</td>\n",
       "      <td>MLO</td>\n",
       "      <td>3518</td>\n",
       "      <td>2800</td>\n",
       "      <td>BI-RADS 4</td>\n",
       "      <td>DENSITY C</td>\n",
       "      <td>['Mass']</td>\n",
       "      <td>BI-RADS 4</td>\n",
       "      <td>2386.679932</td>\n",
       "      <td>1240.609985</td>\n",
       "      <td>2501.800049</td>\n",
       "      <td>1354.040039</td>\n",
       "      <td>training</td>\n",
       "      <td>/Volumes/WDExtDrive/Woza-Mammogram-Analyzer/Ra...</td>\n",
       "      <td>1</td>\n",
       "      <td>1</td>\n",
       "    </tr>\n",
       "    <tr>\n",
       "      <th>2</th>\n",
       "      <td>5683854eafabc34f6d854000d2ac6c2d</td>\n",
       "      <td>4ac33111294b83d43537cb8604b0808c</td>\n",
       "      <td>2f944efb1cb9579442df2d7fe6a579b7</td>\n",
       "      <td>L</td>\n",
       "      <td>CC</td>\n",
       "      <td>3518</td>\n",
       "      <td>2800</td>\n",
       "      <td>BI-RADS 3</td>\n",
       "      <td>DENSITY C</td>\n",
       "      <td>['Mass']</td>\n",
       "      <td>BI-RADS 3</td>\n",
       "      <td>142.899002</td>\n",
       "      <td>2171.810059</td>\n",
       "      <td>439.584991</td>\n",
       "      <td>2403.370117</td>\n",
       "      <td>test</td>\n",
       "      <td>/Volumes/WDExtDrive/Woza-Mammogram-Analyzer/Ra...</td>\n",
       "      <td>1</td>\n",
       "      <td>1</td>\n",
       "    </tr>\n",
       "    <tr>\n",
       "      <th>3</th>\n",
       "      <td>5683854eafabc34f6d854000d2ac6c2d</td>\n",
       "      <td>4ac33111294b83d43537cb8604b0808c</td>\n",
       "      <td>7385e8cf7b29764525c81de4aa1aebe4</td>\n",
       "      <td>L</td>\n",
       "      <td>MLO</td>\n",
       "      <td>3518</td>\n",
       "      <td>2800</td>\n",
       "      <td>BI-RADS 3</td>\n",
       "      <td>DENSITY C</td>\n",
       "      <td>['Mass']</td>\n",
       "      <td>BI-RADS 3</td>\n",
       "      <td>142.899002</td>\n",
       "      <td>2045.170044</td>\n",
       "      <td>417.876007</td>\n",
       "      <td>2265.879883</td>\n",
       "      <td>test</td>\n",
       "      <td>/Volumes/WDExtDrive/Woza-Mammogram-Analyzer/Ra...</td>\n",
       "      <td>1</td>\n",
       "      <td>1</td>\n",
       "    </tr>\n",
       "    <tr>\n",
       "      <th>4</th>\n",
       "      <td>7c51789da6c462e55bcb95c2a7d437ee</td>\n",
       "      <td>ac4d0771f6d7a7400ab463458f789dbe</td>\n",
       "      <td>f581ef53bb7e61f4575db33eceac8ff8</td>\n",
       "      <td>L</td>\n",
       "      <td>CC</td>\n",
       "      <td>3518</td>\n",
       "      <td>2800</td>\n",
       "      <td>BI-RADS 4</td>\n",
       "      <td>DENSITY C</td>\n",
       "      <td>['Nipple Retraction', 'Mass']</td>\n",
       "      <td>BI-RADS 4</td>\n",
       "      <td>588.874023</td>\n",
       "      <td>1397.709961</td>\n",
       "      <td>812.362000</td>\n",
       "      <td>1734.719971</td>\n",
       "      <td>training</td>\n",
       "      <td>/Volumes/WDExtDrive/Woza-Mammogram-Analyzer/Ra...</td>\n",
       "      <td>2</td>\n",
       "      <td>1</td>\n",
       "    </tr>\n",
       "  </tbody>\n",
       "</table>\n",
       "</div>"
      ],
      "text/plain": [
       "                           study_id                         series_id  \\\n",
       "0  48575a27b7c992427041a82fa750d3fa  26de4993fa6b8ae50a91c8baf49b92b0   \n",
       "1  48575a27b7c992427041a82fa750d3fa  26de4993fa6b8ae50a91c8baf49b92b0   \n",
       "2  5683854eafabc34f6d854000d2ac6c2d  4ac33111294b83d43537cb8604b0808c   \n",
       "3  5683854eafabc34f6d854000d2ac6c2d  4ac33111294b83d43537cb8604b0808c   \n",
       "4  7c51789da6c462e55bcb95c2a7d437ee  ac4d0771f6d7a7400ab463458f789dbe   \n",
       "\n",
       "                           image_id laterality view_position  height  width  \\\n",
       "0  4e3a578fe535ea4f5258d3f7f4419db8          R            CC    3518   2800   \n",
       "1  dac39351b0f3a8c670b7f8dc88029364          R           MLO    3518   2800   \n",
       "2  2f944efb1cb9579442df2d7fe6a579b7          L            CC    3518   2800   \n",
       "3  7385e8cf7b29764525c81de4aa1aebe4          L           MLO    3518   2800   \n",
       "4  f581ef53bb7e61f4575db33eceac8ff8          L            CC    3518   2800   \n",
       "\n",
       "  breast_birads breast_density             finding_categories finding_birads  \\\n",
       "0     BI-RADS 4      DENSITY C                       ['Mass']      BI-RADS 4   \n",
       "1     BI-RADS 4      DENSITY C                       ['Mass']      BI-RADS 4   \n",
       "2     BI-RADS 3      DENSITY C                       ['Mass']      BI-RADS 3   \n",
       "3     BI-RADS 3      DENSITY C                       ['Mass']      BI-RADS 3   \n",
       "4     BI-RADS 4      DENSITY C  ['Nipple Retraction', 'Mass']      BI-RADS 4   \n",
       "\n",
       "          xmin         ymin         xmax         ymax     split  \\\n",
       "0  2355.139893  1731.640015  2482.979980  1852.750000  training   \n",
       "1  2386.679932  1240.609985  2501.800049  1354.040039  training   \n",
       "2   142.899002  2171.810059   439.584991  2403.370117      test   \n",
       "3   142.899002  2045.170044   417.876007  2265.879883      test   \n",
       "4   588.874023  1397.709961   812.362000  1734.719971  training   \n",
       "\n",
       "                                                path  num_findings  target  \n",
       "0  /Volumes/WDExtDrive/Woza-Mammogram-Analyzer/Ra...             1       1  \n",
       "1  /Volumes/WDExtDrive/Woza-Mammogram-Analyzer/Ra...             1       1  \n",
       "2  /Volumes/WDExtDrive/Woza-Mammogram-Analyzer/Ra...             1       1  \n",
       "3  /Volumes/WDExtDrive/Woza-Mammogram-Analyzer/Ra...             1       1  \n",
       "4  /Volumes/WDExtDrive/Woza-Mammogram-Analyzer/Ra...             2       1  "
      ]
     },
     "execution_count": 5,
     "metadata": {},
     "output_type": "execute_result"
    }
   ],
   "source": [
    "# df_data.csv was prepared locally in Exp06.\n",
    "\n",
    "path = base_path + 'df_data.csv'\n",
    "\n",
    "df_data = pd.read_csv(path)\n",
    "\n",
    "print(df_data.shape)\n",
    "\n",
    "df_data.head()"
   ]
  },
  {
   "cell_type": "code",
   "execution_count": 6,
   "id": "2f6efdf6",
   "metadata": {
    "execution": {
     "iopub.execute_input": "2022-11-29T01:15:27.159067Z",
     "iopub.status.busy": "2022-11-29T01:15:27.157781Z",
     "iopub.status.idle": "2022-11-29T01:15:27.178874Z",
     "shell.execute_reply": "2022-11-29T01:15:27.177317Z"
    },
    "papermill": {
     "duration": 0.034956,
     "end_time": "2022-11-29T01:15:27.181869",
     "exception": false,
     "start_time": "2022-11-29T01:15:27.146913",
     "status": "completed"
    },
    "tags": []
   },
   "outputs": [
    {
     "data": {
      "text/plain": [
       "1    1226\n",
       "0     200\n",
       "Name: target, dtype: int64"
      ]
     },
     "execution_count": 6,
     "metadata": {},
     "output_type": "execute_result"
    }
   ],
   "source": [
    "df_data['target'].value_counts()"
   ]
  },
  {
   "cell_type": "code",
   "execution_count": null,
   "id": "aa1c18d2",
   "metadata": {
    "papermill": {
     "duration": 0.009406,
     "end_time": "2022-11-29T01:15:27.201463",
     "exception": false,
     "start_time": "2022-11-29T01:15:27.192057",
     "status": "completed"
    },
    "tags": []
   },
   "outputs": [],
   "source": []
  },
  {
   "cell_type": "markdown",
   "id": "d9259734",
   "metadata": {
    "papermill": {
     "duration": 0.009352,
     "end_time": "2022-11-29T01:15:27.220926",
     "exception": false,
     "start_time": "2022-11-29T01:15:27.211574",
     "status": "completed"
    },
    "tags": []
   },
   "source": [
    "## Process the train data"
   ]
  },
  {
   "cell_type": "code",
   "execution_count": 7,
   "id": "9b04ef56",
   "metadata": {
    "execution": {
     "iopub.execute_input": "2022-11-29T01:15:27.242197Z",
     "iopub.status.busy": "2022-11-29T01:15:27.241764Z",
     "iopub.status.idle": "2022-11-29T01:15:27.275053Z",
     "shell.execute_reply": "2022-11-29T01:15:27.273354Z"
    },
    "papermill": {
     "duration": 0.047015,
     "end_time": "2022-11-29T01:15:27.277596",
     "exception": false,
     "start_time": "2022-11-29T01:15:27.230581",
     "status": "completed"
    },
    "tags": []
   },
   "outputs": [
    {
     "name": "stdout",
     "output_type": "stream",
     "text": [
      "(1426, 19)\n"
     ]
    }
   ],
   "source": [
    "# Get the path to each image\n",
    "\n",
    "def get_path(row):\n",
    "    \n",
    "    study_id = row['study_id']\n",
    "    image_id = row['image_id']\n",
    "    path = base_path + 'images_dir/images_dir/' + image_id + '.png'\n",
    "    \n",
    "    return path\n",
    "\n",
    "\n",
    "df_data['path'] = df_data.apply(get_path, axis=1)\n",
    "\n",
    "print(df_data.shape)\n",
    "\n",
    "#df_data.head()"
   ]
  },
  {
   "cell_type": "code",
   "execution_count": 8,
   "id": "2a167cc4",
   "metadata": {
    "execution": {
     "iopub.execute_input": "2022-11-29T01:15:27.298682Z",
     "iopub.status.busy": "2022-11-29T01:15:27.298307Z",
     "iopub.status.idle": "2022-11-29T01:15:27.307111Z",
     "shell.execute_reply": "2022-11-29T01:15:27.305674Z"
    },
    "papermill": {
     "duration": 0.022224,
     "end_time": "2022-11-29T01:15:27.309446",
     "exception": false,
     "start_time": "2022-11-29T01:15:27.287222",
     "status": "completed"
    },
    "tags": []
   },
   "outputs": [
    {
     "data": {
      "text/plain": [
       "1    1226\n",
       "0     200\n",
       "Name: target, dtype: int64"
      ]
     },
     "execution_count": 8,
     "metadata": {},
     "output_type": "execute_result"
    }
   ],
   "source": [
    "# Check the target distribution\n",
    "\n",
    "df_data['target'].value_counts()"
   ]
  },
  {
   "cell_type": "code",
   "execution_count": 9,
   "id": "3476552b",
   "metadata": {
    "execution": {
     "iopub.execute_input": "2022-11-29T01:15:27.330950Z",
     "iopub.status.busy": "2022-11-29T01:15:27.330561Z",
     "iopub.status.idle": "2022-11-29T01:15:27.339922Z",
     "shell.execute_reply": "2022-11-29T01:15:27.338606Z"
    },
    "papermill": {
     "duration": 0.02328,
     "end_time": "2022-11-29T01:15:27.342542",
     "exception": false,
     "start_time": "2022-11-29T01:15:27.319262",
     "status": "completed"
    },
    "tags": []
   },
   "outputs": [
    {
     "data": {
      "text/plain": [
       "DENSITY C    1148\n",
       "DENSITY B     174\n",
       "DENSITY D      98\n",
       "DENSITY A       6\n",
       "Name: breast_density, dtype: int64"
      ]
     },
     "execution_count": 9,
     "metadata": {},
     "output_type": "execute_result"
    }
   ],
   "source": [
    "# Check the density distribution\n",
    "\n",
    "df_data['breast_density'].value_counts()"
   ]
  },
  {
   "cell_type": "markdown",
   "id": "596d4130",
   "metadata": {
    "papermill": {
     "duration": 0.009725,
     "end_time": "2022-11-29T01:15:27.362527",
     "exception": false,
     "start_time": "2022-11-29T01:15:27.352802",
     "status": "completed"
    },
    "tags": []
   },
   "source": [
    "## Create df_normal and df_mass"
   ]
  },
  {
   "cell_type": "code",
   "execution_count": 10,
   "id": "98f85d3b",
   "metadata": {
    "execution": {
     "iopub.execute_input": "2022-11-29T01:15:27.384872Z",
     "iopub.status.busy": "2022-11-29T01:15:27.384469Z",
     "iopub.status.idle": "2022-11-29T01:15:27.396773Z",
     "shell.execute_reply": "2022-11-29T01:15:27.395858Z"
    },
    "papermill": {
     "duration": 0.0264,
     "end_time": "2022-11-29T01:15:27.399193",
     "exception": false,
     "start_time": "2022-11-29T01:15:27.372793",
     "status": "completed"
    },
    "tags": []
   },
   "outputs": [
    {
     "name": "stdout",
     "output_type": "stream",
     "text": [
      "(200, 19)\n",
      "(1226, 19)\n"
     ]
    }
   ],
   "source": [
    "# Filter out all normal images\n",
    "df_normal = df_data[df_data['target'] == 0]\n",
    "\n",
    "# Filter out all mass images\n",
    "df_mass = df_data[df_data['target'] == 1]\n",
    "\n",
    "df_normal = df_normal.reset_index(drop=True)\n",
    "df_mass = df_mass.reset_index(drop=True)\n",
    "\n",
    "print(df_normal.shape)\n",
    "print(df_mass.shape)"
   ]
  },
  {
   "cell_type": "markdown",
   "id": "0165a8c2",
   "metadata": {
    "papermill": {
     "duration": 0.009964,
     "end_time": "2022-11-29T01:15:27.419252",
     "exception": false,
     "start_time": "2022-11-29T01:15:27.409288",
     "status": "completed"
    },
    "tags": []
   },
   "source": [
    "## Create the normal folds"
   ]
  },
  {
   "cell_type": "code",
   "execution_count": 11,
   "id": "529e8607",
   "metadata": {
    "execution": {
     "iopub.execute_input": "2022-11-29T01:15:27.441736Z",
     "iopub.status.busy": "2022-11-29T01:15:27.440622Z",
     "iopub.status.idle": "2022-11-29T01:15:29.036999Z",
     "shell.execute_reply": "2022-11-29T01:15:29.035791Z"
    },
    "papermill": {
     "duration": 1.610485,
     "end_time": "2022-11-29T01:15:29.039662",
     "exception": false,
     "start_time": "2022-11-29T01:15:27.429177",
     "status": "completed"
    },
    "tags": []
   },
   "outputs": [
    {
     "data": {
      "text/plain": [
       "2.0    21\n",
       "8.0    21\n",
       "5.0    20\n",
       "3.0    20\n",
       "7.0    20\n",
       "4.0    20\n",
       "1.0    20\n",
       "0.0    20\n",
       "6.0    19\n",
       "9.0    19\n",
       "Name: fold, dtype: int64"
      ]
     },
     "execution_count": 11,
     "metadata": {},
     "output_type": "execute_result"
    }
   ],
   "source": [
    "from sklearn.model_selection import KFold, StratifiedKFold, StratifiedGroupKFold\n",
    "\n",
    "skf = StratifiedGroupKFold(n_splits=NUM_FOLDS, shuffle=True, random_state=101)\n",
    "\n",
    "for fold, ( _, val_) in enumerate(skf.split(X=df_normal, y=df_normal.breast_density, groups=df_normal.study_id)):\n",
    "      df_normal.loc[val_ , \"fold\"] = fold\n",
    "        \n",
    "df_normal['fold'].value_counts()"
   ]
  },
  {
   "cell_type": "markdown",
   "id": "1c521e85",
   "metadata": {
    "papermill": {
     "duration": 0.009748,
     "end_time": "2022-11-29T01:15:29.059502",
     "exception": false,
     "start_time": "2022-11-29T01:15:29.049754",
     "status": "completed"
    },
    "tags": []
   },
   "source": [
    "## Create the mass folds"
   ]
  },
  {
   "cell_type": "code",
   "execution_count": 12,
   "id": "d237f50b",
   "metadata": {
    "execution": {
     "iopub.execute_input": "2022-11-29T01:15:29.081873Z",
     "iopub.status.busy": "2022-11-29T01:15:29.081168Z",
     "iopub.status.idle": "2022-11-29T01:15:29.676668Z",
     "shell.execute_reply": "2022-11-29T01:15:29.675386Z"
    },
    "papermill": {
     "duration": 0.609916,
     "end_time": "2022-11-29T01:15:29.679425",
     "exception": false,
     "start_time": "2022-11-29T01:15:29.069509",
     "status": "completed"
    },
    "tags": []
   },
   "outputs": [
    {
     "data": {
      "text/plain": [
       "3.0    126\n",
       "1.0    126\n",
       "0.0    126\n",
       "6.0    126\n",
       "7.0    123\n",
       "9.0    122\n",
       "4.0    121\n",
       "8.0    121\n",
       "5.0    118\n",
       "2.0    117\n",
       "Name: fold, dtype: int64"
      ]
     },
     "execution_count": 12,
     "metadata": {},
     "output_type": "execute_result"
    }
   ],
   "source": [
    "from sklearn.model_selection import KFold, StratifiedKFold, StratifiedGroupKFold\n",
    "\n",
    "skf = StratifiedGroupKFold(n_splits=NUM_FOLDS, shuffle=True, random_state=101)\n",
    "\n",
    "for fold, ( _, val_) in enumerate(skf.split(X=df_mass, y=df_mass.breast_density, groups=df_mass.study_id)):\n",
    "      df_mass.loc[val_ , \"fold\"] = fold\n",
    "        \n",
    "df_mass['fold'].value_counts()"
   ]
  },
  {
   "cell_type": "markdown",
   "id": "75bc0ac2",
   "metadata": {
    "papermill": {
     "duration": 0.009813,
     "end_time": "2022-11-29T01:15:29.699712",
     "exception": false,
     "start_time": "2022-11-29T01:15:29.689899",
     "status": "completed"
    },
    "tags": []
   },
   "source": [
    "## Concat the dataframes"
   ]
  },
  {
   "cell_type": "code",
   "execution_count": 13,
   "id": "f5031322",
   "metadata": {
    "execution": {
     "iopub.execute_input": "2022-11-29T01:15:29.722729Z",
     "iopub.status.busy": "2022-11-29T01:15:29.721913Z",
     "iopub.status.idle": "2022-11-29T01:15:29.735334Z",
     "shell.execute_reply": "2022-11-29T01:15:29.734105Z"
    },
    "papermill": {
     "duration": 0.027743,
     "end_time": "2022-11-29T01:15:29.737721",
     "exception": false,
     "start_time": "2022-11-29T01:15:29.709978",
     "status": "completed"
    },
    "tags": []
   },
   "outputs": [
    {
     "data": {
      "text/plain": [
       "(1426, 20)"
      ]
     },
     "execution_count": 13,
     "metadata": {},
     "output_type": "execute_result"
    }
   ],
   "source": [
    "df_data = pd.concat([df_normal, df_mass], axis=0)\n",
    "\n",
    "df_data = df_data.reset_index(drop=True)\n",
    "\n",
    "df_data.shape"
   ]
  },
  {
   "cell_type": "code",
   "execution_count": 14,
   "id": "75738feb",
   "metadata": {
    "execution": {
     "iopub.execute_input": "2022-11-29T01:15:29.761284Z",
     "iopub.status.busy": "2022-11-29T01:15:29.760742Z",
     "iopub.status.idle": "2022-11-29T01:15:29.773683Z",
     "shell.execute_reply": "2022-11-29T01:15:29.772229Z"
    },
    "papermill": {
     "duration": 0.028684,
     "end_time": "2022-11-29T01:15:29.777336",
     "exception": false,
     "start_time": "2022-11-29T01:15:29.748652",
     "status": "completed"
    },
    "tags": []
   },
   "outputs": [
    {
     "name": "stdout",
     "output_type": "stream",
     "text": [
      "Train\n",
      "1280\n",
      "1    1100\n",
      "0     180\n",
      "Name: target, dtype: int64\n",
      "\n",
      "Val\n",
      "146\n",
      "1    126\n",
      "0     20\n",
      "Name: target, dtype: int64\n"
     ]
    }
   ],
   "source": [
    "# How to choose the fold to train on.\n",
    "\n",
    "fold_index = CHOSEN_FOLD\n",
    "\n",
    "df_train = df_data[df_data['fold'] != fold_index]\n",
    "df_val = df_data[df_data['fold'] == fold_index]\n",
    "\n",
    "print('Train')\n",
    "print(len(df_train))\n",
    "print(df_train['target'].value_counts())\n",
    "print('')\n",
    "print('Val')\n",
    "print(len(df_val))\n",
    "print(df_val['target'].value_counts())"
   ]
  },
  {
   "cell_type": "code",
   "execution_count": 15,
   "id": "11b9547f",
   "metadata": {
    "execution": {
     "iopub.execute_input": "2022-11-29T01:15:29.799830Z",
     "iopub.status.busy": "2022-11-29T01:15:29.799440Z",
     "iopub.status.idle": "2022-11-29T01:15:29.806261Z",
     "shell.execute_reply": "2022-11-29T01:15:29.805097Z"
    },
    "papermill": {
     "duration": 0.021237,
     "end_time": "2022-11-29T01:15:29.808929",
     "exception": false,
     "start_time": "2022-11-29T01:15:29.787692",
     "status": "completed"
    },
    "tags": []
   },
   "outputs": [
    {
     "data": {
      "text/plain": [
       "0.1140625"
      ]
     },
     "execution_count": 15,
     "metadata": {},
     "output_type": "execute_result"
    }
   ],
   "source": [
    "# Calculate the train/test split\n",
    "\n",
    "len(df_val)/len(df_train)"
   ]
  },
  {
   "cell_type": "code",
   "execution_count": 16,
   "id": "4db23b03",
   "metadata": {
    "execution": {
     "iopub.execute_input": "2022-11-29T01:15:29.832098Z",
     "iopub.status.busy": "2022-11-29T01:15:29.831685Z",
     "iopub.status.idle": "2022-11-29T01:15:29.840789Z",
     "shell.execute_reply": "2022-11-29T01:15:29.839563Z"
    },
    "papermill": {
     "duration": 0.023869,
     "end_time": "2022-11-29T01:15:29.843379",
     "exception": false,
     "start_time": "2022-11-29T01:15:29.819510",
     "status": "completed"
    },
    "tags": []
   },
   "outputs": [
    {
     "data": {
      "text/plain": [
       "DENSITY C    1035\n",
       "DENSITY B     158\n",
       "DENSITY D      81\n",
       "DENSITY A       6\n",
       "Name: breast_density, dtype: int64"
      ]
     },
     "execution_count": 16,
     "metadata": {},
     "output_type": "execute_result"
    }
   ],
   "source": [
    "# Train set breast density distribution\n",
    "\n",
    "df_train['breast_density'].value_counts()"
   ]
  },
  {
   "cell_type": "code",
   "execution_count": 17,
   "id": "70ebe389",
   "metadata": {
    "execution": {
     "iopub.execute_input": "2022-11-29T01:15:29.866634Z",
     "iopub.status.busy": "2022-11-29T01:15:29.866232Z",
     "iopub.status.idle": "2022-11-29T01:15:29.875177Z",
     "shell.execute_reply": "2022-11-29T01:15:29.873992Z"
    },
    "papermill": {
     "duration": 0.023234,
     "end_time": "2022-11-29T01:15:29.877557",
     "exception": false,
     "start_time": "2022-11-29T01:15:29.854323",
     "status": "completed"
    },
    "tags": []
   },
   "outputs": [
    {
     "data": {
      "text/plain": [
       "DENSITY C    113\n",
       "DENSITY D     17\n",
       "DENSITY B     16\n",
       "Name: breast_density, dtype: int64"
      ]
     },
     "execution_count": 17,
     "metadata": {},
     "output_type": "execute_result"
    }
   ],
   "source": [
    "# Val set breast density distribution\n",
    "\n",
    "df_val['breast_density'].value_counts()"
   ]
  },
  {
   "cell_type": "markdown",
   "id": "a5f08b54",
   "metadata": {
    "papermill": {
     "duration": 0.010691,
     "end_time": "2022-11-29T01:15:29.898966",
     "exception": false,
     "start_time": "2022-11-29T01:15:29.888275",
     "status": "completed"
    },
    "tags": []
   },
   "source": [
    "## Save the dataframe containing the folds"
   ]
  },
  {
   "cell_type": "code",
   "execution_count": 18,
   "id": "3187d144",
   "metadata": {
    "execution": {
     "iopub.execute_input": "2022-11-29T01:15:29.922945Z",
     "iopub.status.busy": "2022-11-29T01:15:29.921841Z",
     "iopub.status.idle": "2022-11-29T01:15:29.942741Z",
     "shell.execute_reply": "2022-11-29T01:15:29.941428Z"
    },
    "papermill": {
     "duration": 0.035069,
     "end_time": "2022-11-29T01:15:29.944966",
     "exception": false,
     "start_time": "2022-11-29T01:15:29.909897",
     "status": "completed"
    },
    "tags": []
   },
   "outputs": [
    {
     "data": {
      "text/html": [
       "<div>\n",
       "<style scoped>\n",
       "    .dataframe tbody tr th:only-of-type {\n",
       "        vertical-align: middle;\n",
       "    }\n",
       "\n",
       "    .dataframe tbody tr th {\n",
       "        vertical-align: top;\n",
       "    }\n",
       "\n",
       "    .dataframe thead th {\n",
       "        text-align: right;\n",
       "    }\n",
       "</style>\n",
       "<table border=\"1\" class=\"dataframe\">\n",
       "  <thead>\n",
       "    <tr style=\"text-align: right;\">\n",
       "      <th></th>\n",
       "      <th>study_id</th>\n",
       "      <th>series_id</th>\n",
       "      <th>image_id</th>\n",
       "      <th>laterality</th>\n",
       "      <th>view_position</th>\n",
       "      <th>height</th>\n",
       "      <th>width</th>\n",
       "      <th>breast_birads</th>\n",
       "      <th>breast_density</th>\n",
       "      <th>finding_categories</th>\n",
       "      <th>finding_birads</th>\n",
       "      <th>xmin</th>\n",
       "      <th>ymin</th>\n",
       "      <th>xmax</th>\n",
       "      <th>ymax</th>\n",
       "      <th>split</th>\n",
       "      <th>path</th>\n",
       "      <th>num_findings</th>\n",
       "      <th>target</th>\n",
       "      <th>fold</th>\n",
       "    </tr>\n",
       "  </thead>\n",
       "  <tbody>\n",
       "    <tr>\n",
       "      <th>0</th>\n",
       "      <td>517563a43eab4f90efc650fcb0d215d5</td>\n",
       "      <td>37d2595b7ec81bd31a18d26afdb0aabf</td>\n",
       "      <td>c54fbe3a374b9e157280479c4649b11a</td>\n",
       "      <td>L</td>\n",
       "      <td>MLO</td>\n",
       "      <td>2812</td>\n",
       "      <td>2012</td>\n",
       "      <td>BI-RADS 1</td>\n",
       "      <td>DENSITY C</td>\n",
       "      <td>['No Finding']</td>\n",
       "      <td>NaN</td>\n",
       "      <td>NaN</td>\n",
       "      <td>NaN</td>\n",
       "      <td>NaN</td>\n",
       "      <td>NaN</td>\n",
       "      <td>test</td>\n",
       "      <td>../input/smart-mammo-data/images_dir/images_di...</td>\n",
       "      <td>1</td>\n",
       "      <td>0</td>\n",
       "      <td>2.0</td>\n",
       "    </tr>\n",
       "    <tr>\n",
       "      <th>1</th>\n",
       "      <td>f8894c9173aaa865bd43751eeeacd3b0</td>\n",
       "      <td>1225d3a302306aca94552c0f8c30fe2c</td>\n",
       "      <td>78dfa5f3dd380341cc17955f52279728</td>\n",
       "      <td>R</td>\n",
       "      <td>MLO</td>\n",
       "      <td>3518</td>\n",
       "      <td>2800</td>\n",
       "      <td>BI-RADS 1</td>\n",
       "      <td>DENSITY C</td>\n",
       "      <td>['No Finding']</td>\n",
       "      <td>NaN</td>\n",
       "      <td>NaN</td>\n",
       "      <td>NaN</td>\n",
       "      <td>NaN</td>\n",
       "      <td>NaN</td>\n",
       "      <td>test</td>\n",
       "      <td>../input/smart-mammo-data/images_dir/images_di...</td>\n",
       "      <td>1</td>\n",
       "      <td>0</td>\n",
       "      <td>2.0</td>\n",
       "    </tr>\n",
       "  </tbody>\n",
       "</table>\n",
       "</div>"
      ],
      "text/plain": [
       "                           study_id                         series_id  \\\n",
       "0  517563a43eab4f90efc650fcb0d215d5  37d2595b7ec81bd31a18d26afdb0aabf   \n",
       "1  f8894c9173aaa865bd43751eeeacd3b0  1225d3a302306aca94552c0f8c30fe2c   \n",
       "\n",
       "                           image_id laterality view_position  height  width  \\\n",
       "0  c54fbe3a374b9e157280479c4649b11a          L           MLO    2812   2012   \n",
       "1  78dfa5f3dd380341cc17955f52279728          R           MLO    3518   2800   \n",
       "\n",
       "  breast_birads breast_density finding_categories finding_birads  xmin  ymin  \\\n",
       "0     BI-RADS 1      DENSITY C     ['No Finding']            NaN   NaN   NaN   \n",
       "1     BI-RADS 1      DENSITY C     ['No Finding']            NaN   NaN   NaN   \n",
       "\n",
       "   xmax  ymax split                                               path  \\\n",
       "0   NaN   NaN  test  ../input/smart-mammo-data/images_dir/images_di...   \n",
       "1   NaN   NaN  test  ../input/smart-mammo-data/images_dir/images_di...   \n",
       "\n",
       "   num_findings  target  fold  \n",
       "0             1       0   2.0  \n",
       "1             1       0   2.0  "
      ]
     },
     "execution_count": 18,
     "metadata": {},
     "output_type": "execute_result"
    }
   ],
   "source": [
    "df_data.head(2)"
   ]
  },
  {
   "cell_type": "code",
   "execution_count": 19,
   "id": "c439ebe4",
   "metadata": {
    "execution": {
     "iopub.execute_input": "2022-11-29T01:15:29.968550Z",
     "iopub.status.busy": "2022-11-29T01:15:29.968169Z",
     "iopub.status.idle": "2022-11-29T01:15:29.994957Z",
     "shell.execute_reply": "2022-11-29T01:15:29.993649Z"
    },
    "papermill": {
     "duration": 0.042016,
     "end_time": "2022-11-29T01:15:29.997865",
     "exception": false,
     "start_time": "2022-11-29T01:15:29.955849",
     "status": "completed"
    },
    "tags": []
   },
   "outputs": [],
   "source": [
    "# Save df_data\n",
    "\n",
    "path = 'df_data_w_folds.csv'\n",
    "df_data.to_csv(path, index=False)"
   ]
  },
  {
   "cell_type": "code",
   "execution_count": 20,
   "id": "64f56a9c",
   "metadata": {
    "execution": {
     "iopub.execute_input": "2022-11-29T01:15:30.021230Z",
     "iopub.status.busy": "2022-11-29T01:15:30.020790Z",
     "iopub.status.idle": "2022-11-29T01:15:31.118822Z",
     "shell.execute_reply": "2022-11-29T01:15:31.117101Z"
    },
    "papermill": {
     "duration": 1.112784,
     "end_time": "2022-11-29T01:15:31.121640",
     "exception": false,
     "start_time": "2022-11-29T01:15:30.008856",
     "status": "completed"
    },
    "tags": []
   },
   "outputs": [
    {
     "name": "stdout",
     "output_type": "stream",
     "text": [
      "__notebook__.ipynb  df_data_w_folds.csv\r\n"
     ]
    }
   ],
   "source": [
    "!ls"
   ]
  },
  {
   "cell_type": "markdown",
   "id": "57088daf",
   "metadata": {
    "papermill": {
     "duration": 0.010833,
     "end_time": "2022-11-29T01:15:31.143747",
     "exception": false,
     "start_time": "2022-11-29T01:15:31.132914",
     "status": "completed"
    },
    "tags": []
   },
   "source": [
    "## Save the train and val images in folders"
   ]
  },
  {
   "cell_type": "code",
   "execution_count": 21,
   "id": "28376c90",
   "metadata": {
    "execution": {
     "iopub.execute_input": "2022-11-29T01:15:31.167851Z",
     "iopub.status.busy": "2022-11-29T01:15:31.167419Z",
     "iopub.status.idle": "2022-11-29T01:15:31.174273Z",
     "shell.execute_reply": "2022-11-29T01:15:31.173045Z"
    },
    "papermill": {
     "duration": 0.021986,
     "end_time": "2022-11-29T01:15:31.176709",
     "exception": false,
     "start_time": "2022-11-29T01:15:31.154723",
     "status": "completed"
    },
    "tags": []
   },
   "outputs": [],
   "source": [
    "# Create a new directory\n",
    "train_images_dir = 'train_images_dir'\n",
    "os.mkdir(train_images_dir)\n",
    "\n",
    "# Create a new directory\n",
    "val_images_dir = 'val_images_dir'\n",
    "os.mkdir(val_images_dir)"
   ]
  },
  {
   "cell_type": "code",
   "execution_count": 22,
   "id": "aa5fd869",
   "metadata": {
    "execution": {
     "iopub.execute_input": "2022-11-29T01:15:31.200795Z",
     "iopub.status.busy": "2022-11-29T01:15:31.199561Z",
     "iopub.status.idle": "2022-11-29T01:15:31.208011Z",
     "shell.execute_reply": "2022-11-29T01:15:31.206814Z"
    },
    "papermill": {
     "duration": 0.023358,
     "end_time": "2022-11-29T01:15:31.210934",
     "exception": false,
     "start_time": "2022-11-29T01:15:31.187576",
     "status": "completed"
    },
    "tags": []
   },
   "outputs": [],
   "source": [
    "df_train = df_train.reset_index(drop=True)\n",
    "df_val = df_val.reset_index(drop=True)"
   ]
  },
  {
   "cell_type": "code",
   "execution_count": 23,
   "id": "ed9a7961",
   "metadata": {
    "execution": {
     "iopub.execute_input": "2022-11-29T01:15:31.234718Z",
     "iopub.status.busy": "2022-11-29T01:15:31.234309Z",
     "iopub.status.idle": "2022-11-29T01:15:31.242811Z",
     "shell.execute_reply": "2022-11-29T01:15:31.241512Z"
    },
    "papermill": {
     "duration": 0.023399,
     "end_time": "2022-11-29T01:15:31.245458",
     "exception": false,
     "start_time": "2022-11-29T01:15:31.222059",
     "status": "completed"
    },
    "tags": []
   },
   "outputs": [
    {
     "data": {
      "text/plain": [
       "'../input/smart-mammo-data/images_dir/images_dir/c54fbe3a374b9e157280479c4649b11a.png'"
      ]
     },
     "execution_count": 23,
     "metadata": {},
     "output_type": "execute_result"
    }
   ],
   "source": [
    "df_train.loc[0, 'path']"
   ]
  },
  {
   "cell_type": "code",
   "execution_count": 24,
   "id": "df92832f",
   "metadata": {
    "execution": {
     "iopub.execute_input": "2022-11-29T01:15:31.270651Z",
     "iopub.status.busy": "2022-11-29T01:15:31.269787Z",
     "iopub.status.idle": "2022-11-29T01:15:55.304624Z",
     "shell.execute_reply": "2022-11-29T01:15:55.303331Z"
    },
    "papermill": {
     "duration": 24.050737,
     "end_time": "2022-11-29T01:15:55.307294",
     "exception": false,
     "start_time": "2022-11-29T01:15:31.256557",
     "status": "completed"
    },
    "tags": []
   },
   "outputs": [
    {
     "data": {
      "application/vnd.jupyter.widget-view+json": {
       "model_id": "f4bdd239d78141fbb6773a90ebf5e057",
       "version_major": 2,
       "version_minor": 0
      },
      "text/plain": [
       "  0%|          | 0/1280 [00:00<?, ?it/s]"
      ]
     },
     "metadata": {},
     "output_type": "display_data"
    }
   ],
   "source": [
    "# Copy the train images\n",
    "\n",
    "df = df_train\n",
    "\n",
    "image_id_list = list(df['image_id'])\n",
    "\n",
    "for i, image_id in tqdm(enumerate(image_id_list), total=len(image_id_list)):\n",
    "    \n",
    "    fname = image_id + '.png'\n",
    "    \n",
    "    src = df.loc[i, 'path']\n",
    "    dst = os.path.join('train_images_dir', fname)\n",
    "    \n",
    "    shutil.copyfile(src, dst)"
   ]
  },
  {
   "cell_type": "code",
   "execution_count": 25,
   "id": "c846baf9",
   "metadata": {
    "execution": {
     "iopub.execute_input": "2022-11-29T01:15:55.332574Z",
     "iopub.status.busy": "2022-11-29T01:15:55.332173Z",
     "iopub.status.idle": "2022-11-29T01:15:57.861094Z",
     "shell.execute_reply": "2022-11-29T01:15:57.859812Z"
    },
    "papermill": {
     "duration": 2.544751,
     "end_time": "2022-11-29T01:15:57.863816",
     "exception": false,
     "start_time": "2022-11-29T01:15:55.319065",
     "status": "completed"
    },
    "tags": []
   },
   "outputs": [
    {
     "data": {
      "application/vnd.jupyter.widget-view+json": {
       "model_id": "2bab7c0ee28d4d109866808917ccc487",
       "version_major": 2,
       "version_minor": 0
      },
      "text/plain": [
       "  0%|          | 0/146 [00:00<?, ?it/s]"
      ]
     },
     "metadata": {},
     "output_type": "display_data"
    }
   ],
   "source": [
    "# Copy the val images\n",
    "\n",
    "df = df_val\n",
    "\n",
    "image_id_list = list(df['image_id'])\n",
    "\n",
    "for i, image_id in tqdm(enumerate(image_id_list), total=len(image_id_list)):\n",
    "    \n",
    "    fname = image_id + '.png'\n",
    "    \n",
    "    src = df.loc[i, 'path']\n",
    "    dst = os.path.join('val_images_dir', fname)\n",
    "    \n",
    "    shutil.copyfile(src, dst)"
   ]
  },
  {
   "cell_type": "code",
   "execution_count": 26,
   "id": "4206d4d2",
   "metadata": {
    "execution": {
     "iopub.execute_input": "2022-11-29T01:15:57.889063Z",
     "iopub.status.busy": "2022-11-29T01:15:57.888603Z",
     "iopub.status.idle": "2022-11-29T01:15:58.991216Z",
     "shell.execute_reply": "2022-11-29T01:15:58.989817Z"
    },
    "papermill": {
     "duration": 1.118779,
     "end_time": "2022-11-29T01:15:58.994210",
     "exception": false,
     "start_time": "2022-11-29T01:15:57.875431",
     "status": "completed"
    },
    "tags": []
   },
   "outputs": [
    {
     "name": "stdout",
     "output_type": "stream",
     "text": [
      "__notebook__.ipynb  df_data_w_folds.csv  train_images_dir  val_images_dir\r\n"
     ]
    }
   ],
   "source": [
    "!ls"
   ]
  },
  {
   "cell_type": "code",
   "execution_count": null,
   "id": "6c856def",
   "metadata": {
    "papermill": {
     "duration": 0.011021,
     "end_time": "2022-11-29T01:15:59.016537",
     "exception": false,
     "start_time": "2022-11-29T01:15:59.005516",
     "status": "completed"
    },
    "tags": []
   },
   "outputs": [],
   "source": []
  },
  {
   "cell_type": "code",
   "execution_count": 27,
   "id": "90d3d61b",
   "metadata": {
    "execution": {
     "iopub.execute_input": "2022-11-29T01:15:59.041132Z",
     "iopub.status.busy": "2022-11-29T01:15:59.040677Z",
     "iopub.status.idle": "2022-11-29T01:16:04.157796Z",
     "shell.execute_reply": "2022-11-29T01:16:04.156099Z"
    },
    "papermill": {
     "duration": 5.134358,
     "end_time": "2022-11-29T01:16:04.162228",
     "exception": false,
     "start_time": "2022-11-29T01:15:59.027870",
     "status": "completed"
    },
    "tags": []
   },
   "outputs": [
    {
     "name": "stdout",
     "output_type": "stream",
     "text": [
      "Note: you may need to restart the kernel to use updated packages.\n"
     ]
    }
   ],
   "source": [
    "pip freeze > requirements.txt"
   ]
  },
  {
   "cell_type": "code",
   "execution_count": null,
   "id": "616a5b49",
   "metadata": {
    "papermill": {
     "duration": 0.044706,
     "end_time": "2022-11-29T01:16:04.233507",
     "exception": false,
     "start_time": "2022-11-29T01:16:04.188801",
     "status": "completed"
    },
    "tags": []
   },
   "outputs": [],
   "source": []
  }
 ],
 "metadata": {
  "kernelspec": {
   "display_name": "Python 3",
   "language": "python",
   "name": "python3"
  },
  "language_info": {
   "codemirror_mode": {
    "name": "ipython",
    "version": 3
   },
   "file_extension": ".py",
   "mimetype": "text/x-python",
   "name": "python",
   "nbconvert_exporter": "python",
   "pygments_lexer": "ipython3",
   "version": "3.7.12"
  },
  "papermill": {
   "default_parameters": {},
   "duration": 47.440999,
   "end_time": "2022-11-29T01:16:05.098670",
   "environment_variables": {},
   "exception": null,
   "input_path": "__notebook__.ipynb",
   "output_path": "__notebook__.ipynb",
   "parameters": {},
   "start_time": "2022-11-29T01:15:17.657671",
   "version": "2.3.4"
  },
  "widgets": {
   "application/vnd.jupyter.widget-state+json": {
    "state": {
     "00606ee4ad1e49bba1acc6f4348de5f7": {
      "model_module": "@jupyter-widgets/base",
      "model_module_version": "1.2.0",
      "model_name": "LayoutModel",
      "state": {
       "_model_module": "@jupyter-widgets/base",
       "_model_module_version": "1.2.0",
       "_model_name": "LayoutModel",
       "_view_count": null,
       "_view_module": "@jupyter-widgets/base",
       "_view_module_version": "1.2.0",
       "_view_name": "LayoutView",
       "align_content": null,
       "align_items": null,
       "align_self": null,
       "border": null,
       "bottom": null,
       "display": null,
       "flex": null,
       "flex_flow": null,
       "grid_area": null,
       "grid_auto_columns": null,
       "grid_auto_flow": null,
       "grid_auto_rows": null,
       "grid_column": null,
       "grid_gap": null,
       "grid_row": null,
       "grid_template_areas": null,
       "grid_template_columns": null,
       "grid_template_rows": null,
       "height": null,
       "justify_content": null,
       "justify_items": null,
       "left": null,
       "margin": null,
       "max_height": null,
       "max_width": null,
       "min_height": null,
       "min_width": null,
       "object_fit": null,
       "object_position": null,
       "order": null,
       "overflow": null,
       "overflow_x": null,
       "overflow_y": null,
       "padding": null,
       "right": null,
       "top": null,
       "visibility": null,
       "width": null
      }
     },
     "08ec943601c544bb8358293f4971621b": {
      "model_module": "@jupyter-widgets/controls",
      "model_module_version": "1.5.0",
      "model_name": "FloatProgressModel",
      "state": {
       "_dom_classes": [],
       "_model_module": "@jupyter-widgets/controls",
       "_model_module_version": "1.5.0",
       "_model_name": "FloatProgressModel",
       "_view_count": null,
       "_view_module": "@jupyter-widgets/controls",
       "_view_module_version": "1.5.0",
       "_view_name": "ProgressView",
       "bar_style": "success",
       "description": "",
       "description_tooltip": null,
       "layout": "IPY_MODEL_e26fea6445fb4e90b6dcd48320e58b75",
       "max": 1280.0,
       "min": 0.0,
       "orientation": "horizontal",
       "style": "IPY_MODEL_d46512a5127b4dbf9e9957372e805a8c",
       "value": 1280.0
      }
     },
     "0d726768ffef4e58b9c445970f335580": {
      "model_module": "@jupyter-widgets/controls",
      "model_module_version": "1.5.0",
      "model_name": "HTMLModel",
      "state": {
       "_dom_classes": [],
       "_model_module": "@jupyter-widgets/controls",
       "_model_module_version": "1.5.0",
       "_model_name": "HTMLModel",
       "_view_count": null,
       "_view_module": "@jupyter-widgets/controls",
       "_view_module_version": "1.5.0",
       "_view_name": "HTMLView",
       "description": "",
       "description_tooltip": null,
       "layout": "IPY_MODEL_54537a1618c04f63a507294a2763a651",
       "placeholder": "​",
       "style": "IPY_MODEL_eb624cdef39f439bb8c4f5d2a96f4ab7",
       "value": "100%"
      }
     },
     "10fbb851c9bb4c4b98a0fbebd84b47a1": {
      "model_module": "@jupyter-widgets/base",
      "model_module_version": "1.2.0",
      "model_name": "LayoutModel",
      "state": {
       "_model_module": "@jupyter-widgets/base",
       "_model_module_version": "1.2.0",
       "_model_name": "LayoutModel",
       "_view_count": null,
       "_view_module": "@jupyter-widgets/base",
       "_view_module_version": "1.2.0",
       "_view_name": "LayoutView",
       "align_content": null,
       "align_items": null,
       "align_self": null,
       "border": null,
       "bottom": null,
       "display": null,
       "flex": null,
       "flex_flow": null,
       "grid_area": null,
       "grid_auto_columns": null,
       "grid_auto_flow": null,
       "grid_auto_rows": null,
       "grid_column": null,
       "grid_gap": null,
       "grid_row": null,
       "grid_template_areas": null,
       "grid_template_columns": null,
       "grid_template_rows": null,
       "height": null,
       "justify_content": null,
       "justify_items": null,
       "left": null,
       "margin": null,
       "max_height": null,
       "max_width": null,
       "min_height": null,
       "min_width": null,
       "object_fit": null,
       "object_position": null,
       "order": null,
       "overflow": null,
       "overflow_x": null,
       "overflow_y": null,
       "padding": null,
       "right": null,
       "top": null,
       "visibility": null,
       "width": null
      }
     },
     "1ee3fa9c4a984f48962560484f48cba5": {
      "model_module": "@jupyter-widgets/controls",
      "model_module_version": "1.5.0",
      "model_name": "DescriptionStyleModel",
      "state": {
       "_model_module": "@jupyter-widgets/controls",
       "_model_module_version": "1.5.0",
       "_model_name": "DescriptionStyleModel",
       "_view_count": null,
       "_view_module": "@jupyter-widgets/base",
       "_view_module_version": "1.2.0",
       "_view_name": "StyleView",
       "description_width": ""
      }
     },
     "2bab7c0ee28d4d109866808917ccc487": {
      "model_module": "@jupyter-widgets/controls",
      "model_module_version": "1.5.0",
      "model_name": "HBoxModel",
      "state": {
       "_dom_classes": [],
       "_model_module": "@jupyter-widgets/controls",
       "_model_module_version": "1.5.0",
       "_model_name": "HBoxModel",
       "_view_count": null,
       "_view_module": "@jupyter-widgets/controls",
       "_view_module_version": "1.5.0",
       "_view_name": "HBoxView",
       "box_style": "",
       "children": [
        "IPY_MODEL_eb52c8d795454ed9bd7b37b472f62e08",
        "IPY_MODEL_c2ac4342be4446c4b8efdf50f6ad84a7",
        "IPY_MODEL_5fcafcf0f8904d62bea2c289d606b927"
       ],
       "layout": "IPY_MODEL_9d21ce71192545409a6d8d947d33c241"
      }
     },
     "313af24e08084e9f874b88d340ac5a68": {
      "model_module": "@jupyter-widgets/controls",
      "model_module_version": "1.5.0",
      "model_name": "HTMLModel",
      "state": {
       "_dom_classes": [],
       "_model_module": "@jupyter-widgets/controls",
       "_model_module_version": "1.5.0",
       "_model_name": "HTMLModel",
       "_view_count": null,
       "_view_module": "@jupyter-widgets/controls",
       "_view_module_version": "1.5.0",
       "_view_name": "HTMLView",
       "description": "",
       "description_tooltip": null,
       "layout": "IPY_MODEL_10fbb851c9bb4c4b98a0fbebd84b47a1",
       "placeholder": "​",
       "style": "IPY_MODEL_1ee3fa9c4a984f48962560484f48cba5",
       "value": " 1280/1280 [00:23&lt;00:00, 71.93it/s]"
      }
     },
     "353b9d9d40b24c278db3b5782956aaca": {
      "model_module": "@jupyter-widgets/controls",
      "model_module_version": "1.5.0",
      "model_name": "DescriptionStyleModel",
      "state": {
       "_model_module": "@jupyter-widgets/controls",
       "_model_module_version": "1.5.0",
       "_model_name": "DescriptionStyleModel",
       "_view_count": null,
       "_view_module": "@jupyter-widgets/base",
       "_view_module_version": "1.2.0",
       "_view_name": "StyleView",
       "description_width": ""
      }
     },
     "54537a1618c04f63a507294a2763a651": {
      "model_module": "@jupyter-widgets/base",
      "model_module_version": "1.2.0",
      "model_name": "LayoutModel",
      "state": {
       "_model_module": "@jupyter-widgets/base",
       "_model_module_version": "1.2.0",
       "_model_name": "LayoutModel",
       "_view_count": null,
       "_view_module": "@jupyter-widgets/base",
       "_view_module_version": "1.2.0",
       "_view_name": "LayoutView",
       "align_content": null,
       "align_items": null,
       "align_self": null,
       "border": null,
       "bottom": null,
       "display": null,
       "flex": null,
       "flex_flow": null,
       "grid_area": null,
       "grid_auto_columns": null,
       "grid_auto_flow": null,
       "grid_auto_rows": null,
       "grid_column": null,
       "grid_gap": null,
       "grid_row": null,
       "grid_template_areas": null,
       "grid_template_columns": null,
       "grid_template_rows": null,
       "height": null,
       "justify_content": null,
       "justify_items": null,
       "left": null,
       "margin": null,
       "max_height": null,
       "max_width": null,
       "min_height": null,
       "min_width": null,
       "object_fit": null,
       "object_position": null,
       "order": null,
       "overflow": null,
       "overflow_x": null,
       "overflow_y": null,
       "padding": null,
       "right": null,
       "top": null,
       "visibility": null,
       "width": null
      }
     },
     "5fcafcf0f8904d62bea2c289d606b927": {
      "model_module": "@jupyter-widgets/controls",
      "model_module_version": "1.5.0",
      "model_name": "HTMLModel",
      "state": {
       "_dom_classes": [],
       "_model_module": "@jupyter-widgets/controls",
       "_model_module_version": "1.5.0",
       "_model_name": "HTMLModel",
       "_view_count": null,
       "_view_module": "@jupyter-widgets/controls",
       "_view_module_version": "1.5.0",
       "_view_name": "HTMLView",
       "description": "",
       "description_tooltip": null,
       "layout": "IPY_MODEL_00606ee4ad1e49bba1acc6f4348de5f7",
       "placeholder": "​",
       "style": "IPY_MODEL_fd83dff127e34ca0b8d5e89f8e14f0f4",
       "value": " 146/146 [00:02&lt;00:00, 64.83it/s]"
      }
     },
     "799640cc5e0c4309903539c4790c6d72": {
      "model_module": "@jupyter-widgets/base",
      "model_module_version": "1.2.0",
      "model_name": "LayoutModel",
      "state": {
       "_model_module": "@jupyter-widgets/base",
       "_model_module_version": "1.2.0",
       "_model_name": "LayoutModel",
       "_view_count": null,
       "_view_module": "@jupyter-widgets/base",
       "_view_module_version": "1.2.0",
       "_view_name": "LayoutView",
       "align_content": null,
       "align_items": null,
       "align_self": null,
       "border": null,
       "bottom": null,
       "display": null,
       "flex": null,
       "flex_flow": null,
       "grid_area": null,
       "grid_auto_columns": null,
       "grid_auto_flow": null,
       "grid_auto_rows": null,
       "grid_column": null,
       "grid_gap": null,
       "grid_row": null,
       "grid_template_areas": null,
       "grid_template_columns": null,
       "grid_template_rows": null,
       "height": null,
       "justify_content": null,
       "justify_items": null,
       "left": null,
       "margin": null,
       "max_height": null,
       "max_width": null,
       "min_height": null,
       "min_width": null,
       "object_fit": null,
       "object_position": null,
       "order": null,
       "overflow": null,
       "overflow_x": null,
       "overflow_y": null,
       "padding": null,
       "right": null,
       "top": null,
       "visibility": null,
       "width": null
      }
     },
     "958e8d95f24d4983922513ee0157b0f0": {
      "model_module": "@jupyter-widgets/controls",
      "model_module_version": "1.5.0",
      "model_name": "ProgressStyleModel",
      "state": {
       "_model_module": "@jupyter-widgets/controls",
       "_model_module_version": "1.5.0",
       "_model_name": "ProgressStyleModel",
       "_view_count": null,
       "_view_module": "@jupyter-widgets/base",
       "_view_module_version": "1.2.0",
       "_view_name": "StyleView",
       "bar_color": null,
       "description_width": ""
      }
     },
     "9d21ce71192545409a6d8d947d33c241": {
      "model_module": "@jupyter-widgets/base",
      "model_module_version": "1.2.0",
      "model_name": "LayoutModel",
      "state": {
       "_model_module": "@jupyter-widgets/base",
       "_model_module_version": "1.2.0",
       "_model_name": "LayoutModel",
       "_view_count": null,
       "_view_module": "@jupyter-widgets/base",
       "_view_module_version": "1.2.0",
       "_view_name": "LayoutView",
       "align_content": null,
       "align_items": null,
       "align_self": null,
       "border": null,
       "bottom": null,
       "display": null,
       "flex": null,
       "flex_flow": null,
       "grid_area": null,
       "grid_auto_columns": null,
       "grid_auto_flow": null,
       "grid_auto_rows": null,
       "grid_column": null,
       "grid_gap": null,
       "grid_row": null,
       "grid_template_areas": null,
       "grid_template_columns": null,
       "grid_template_rows": null,
       "height": null,
       "justify_content": null,
       "justify_items": null,
       "left": null,
       "margin": null,
       "max_height": null,
       "max_width": null,
       "min_height": null,
       "min_width": null,
       "object_fit": null,
       "object_position": null,
       "order": null,
       "overflow": null,
       "overflow_x": null,
       "overflow_y": null,
       "padding": null,
       "right": null,
       "top": null,
       "visibility": null,
       "width": null
      }
     },
     "aa8e1a8abcd44fdd8fb9960991cca8c6": {
      "model_module": "@jupyter-widgets/base",
      "model_module_version": "1.2.0",
      "model_name": "LayoutModel",
      "state": {
       "_model_module": "@jupyter-widgets/base",
       "_model_module_version": "1.2.0",
       "_model_name": "LayoutModel",
       "_view_count": null,
       "_view_module": "@jupyter-widgets/base",
       "_view_module_version": "1.2.0",
       "_view_name": "LayoutView",
       "align_content": null,
       "align_items": null,
       "align_self": null,
       "border": null,
       "bottom": null,
       "display": null,
       "flex": null,
       "flex_flow": null,
       "grid_area": null,
       "grid_auto_columns": null,
       "grid_auto_flow": null,
       "grid_auto_rows": null,
       "grid_column": null,
       "grid_gap": null,
       "grid_row": null,
       "grid_template_areas": null,
       "grid_template_columns": null,
       "grid_template_rows": null,
       "height": null,
       "justify_content": null,
       "justify_items": null,
       "left": null,
       "margin": null,
       "max_height": null,
       "max_width": null,
       "min_height": null,
       "min_width": null,
       "object_fit": null,
       "object_position": null,
       "order": null,
       "overflow": null,
       "overflow_x": null,
       "overflow_y": null,
       "padding": null,
       "right": null,
       "top": null,
       "visibility": null,
       "width": null
      }
     },
     "b658c8133f0f449cb9125be4dc2a5cea": {
      "model_module": "@jupyter-widgets/base",
      "model_module_version": "1.2.0",
      "model_name": "LayoutModel",
      "state": {
       "_model_module": "@jupyter-widgets/base",
       "_model_module_version": "1.2.0",
       "_model_name": "LayoutModel",
       "_view_count": null,
       "_view_module": "@jupyter-widgets/base",
       "_view_module_version": "1.2.0",
       "_view_name": "LayoutView",
       "align_content": null,
       "align_items": null,
       "align_self": null,
       "border": null,
       "bottom": null,
       "display": null,
       "flex": null,
       "flex_flow": null,
       "grid_area": null,
       "grid_auto_columns": null,
       "grid_auto_flow": null,
       "grid_auto_rows": null,
       "grid_column": null,
       "grid_gap": null,
       "grid_row": null,
       "grid_template_areas": null,
       "grid_template_columns": null,
       "grid_template_rows": null,
       "height": null,
       "justify_content": null,
       "justify_items": null,
       "left": null,
       "margin": null,
       "max_height": null,
       "max_width": null,
       "min_height": null,
       "min_width": null,
       "object_fit": null,
       "object_position": null,
       "order": null,
       "overflow": null,
       "overflow_x": null,
       "overflow_y": null,
       "padding": null,
       "right": null,
       "top": null,
       "visibility": null,
       "width": null
      }
     },
     "c2ac4342be4446c4b8efdf50f6ad84a7": {
      "model_module": "@jupyter-widgets/controls",
      "model_module_version": "1.5.0",
      "model_name": "FloatProgressModel",
      "state": {
       "_dom_classes": [],
       "_model_module": "@jupyter-widgets/controls",
       "_model_module_version": "1.5.0",
       "_model_name": "FloatProgressModel",
       "_view_count": null,
       "_view_module": "@jupyter-widgets/controls",
       "_view_module_version": "1.5.0",
       "_view_name": "ProgressView",
       "bar_style": "success",
       "description": "",
       "description_tooltip": null,
       "layout": "IPY_MODEL_aa8e1a8abcd44fdd8fb9960991cca8c6",
       "max": 146.0,
       "min": 0.0,
       "orientation": "horizontal",
       "style": "IPY_MODEL_958e8d95f24d4983922513ee0157b0f0",
       "value": 146.0
      }
     },
     "d46512a5127b4dbf9e9957372e805a8c": {
      "model_module": "@jupyter-widgets/controls",
      "model_module_version": "1.5.0",
      "model_name": "ProgressStyleModel",
      "state": {
       "_model_module": "@jupyter-widgets/controls",
       "_model_module_version": "1.5.0",
       "_model_name": "ProgressStyleModel",
       "_view_count": null,
       "_view_module": "@jupyter-widgets/base",
       "_view_module_version": "1.2.0",
       "_view_name": "StyleView",
       "bar_color": null,
       "description_width": ""
      }
     },
     "e26fea6445fb4e90b6dcd48320e58b75": {
      "model_module": "@jupyter-widgets/base",
      "model_module_version": "1.2.0",
      "model_name": "LayoutModel",
      "state": {
       "_model_module": "@jupyter-widgets/base",
       "_model_module_version": "1.2.0",
       "_model_name": "LayoutModel",
       "_view_count": null,
       "_view_module": "@jupyter-widgets/base",
       "_view_module_version": "1.2.0",
       "_view_name": "LayoutView",
       "align_content": null,
       "align_items": null,
       "align_self": null,
       "border": null,
       "bottom": null,
       "display": null,
       "flex": null,
       "flex_flow": null,
       "grid_area": null,
       "grid_auto_columns": null,
       "grid_auto_flow": null,
       "grid_auto_rows": null,
       "grid_column": null,
       "grid_gap": null,
       "grid_row": null,
       "grid_template_areas": null,
       "grid_template_columns": null,
       "grid_template_rows": null,
       "height": null,
       "justify_content": null,
       "justify_items": null,
       "left": null,
       "margin": null,
       "max_height": null,
       "max_width": null,
       "min_height": null,
       "min_width": null,
       "object_fit": null,
       "object_position": null,
       "order": null,
       "overflow": null,
       "overflow_x": null,
       "overflow_y": null,
       "padding": null,
       "right": null,
       "top": null,
       "visibility": null,
       "width": null
      }
     },
     "eb52c8d795454ed9bd7b37b472f62e08": {
      "model_module": "@jupyter-widgets/controls",
      "model_module_version": "1.5.0",
      "model_name": "HTMLModel",
      "state": {
       "_dom_classes": [],
       "_model_module": "@jupyter-widgets/controls",
       "_model_module_version": "1.5.0",
       "_model_name": "HTMLModel",
       "_view_count": null,
       "_view_module": "@jupyter-widgets/controls",
       "_view_module_version": "1.5.0",
       "_view_name": "HTMLView",
       "description": "",
       "description_tooltip": null,
       "layout": "IPY_MODEL_b658c8133f0f449cb9125be4dc2a5cea",
       "placeholder": "​",
       "style": "IPY_MODEL_353b9d9d40b24c278db3b5782956aaca",
       "value": "100%"
      }
     },
     "eb624cdef39f439bb8c4f5d2a96f4ab7": {
      "model_module": "@jupyter-widgets/controls",
      "model_module_version": "1.5.0",
      "model_name": "DescriptionStyleModel",
      "state": {
       "_model_module": "@jupyter-widgets/controls",
       "_model_module_version": "1.5.0",
       "_model_name": "DescriptionStyleModel",
       "_view_count": null,
       "_view_module": "@jupyter-widgets/base",
       "_view_module_version": "1.2.0",
       "_view_name": "StyleView",
       "description_width": ""
      }
     },
     "f4bdd239d78141fbb6773a90ebf5e057": {
      "model_module": "@jupyter-widgets/controls",
      "model_module_version": "1.5.0",
      "model_name": "HBoxModel",
      "state": {
       "_dom_classes": [],
       "_model_module": "@jupyter-widgets/controls",
       "_model_module_version": "1.5.0",
       "_model_name": "HBoxModel",
       "_view_count": null,
       "_view_module": "@jupyter-widgets/controls",
       "_view_module_version": "1.5.0",
       "_view_name": "HBoxView",
       "box_style": "",
       "children": [
        "IPY_MODEL_0d726768ffef4e58b9c445970f335580",
        "IPY_MODEL_08ec943601c544bb8358293f4971621b",
        "IPY_MODEL_313af24e08084e9f874b88d340ac5a68"
       ],
       "layout": "IPY_MODEL_799640cc5e0c4309903539c4790c6d72"
      }
     },
     "fd83dff127e34ca0b8d5e89f8e14f0f4": {
      "model_module": "@jupyter-widgets/controls",
      "model_module_version": "1.5.0",
      "model_name": "DescriptionStyleModel",
      "state": {
       "_model_module": "@jupyter-widgets/controls",
       "_model_module_version": "1.5.0",
       "_model_name": "DescriptionStyleModel",
       "_view_count": null,
       "_view_module": "@jupyter-widgets/base",
       "_view_module_version": "1.2.0",
       "_view_name": "StyleView",
       "description_width": ""
      }
     }
    },
    "version_major": 2,
    "version_minor": 0
   }
  }
 },
 "nbformat": 4,
 "nbformat_minor": 5
}
