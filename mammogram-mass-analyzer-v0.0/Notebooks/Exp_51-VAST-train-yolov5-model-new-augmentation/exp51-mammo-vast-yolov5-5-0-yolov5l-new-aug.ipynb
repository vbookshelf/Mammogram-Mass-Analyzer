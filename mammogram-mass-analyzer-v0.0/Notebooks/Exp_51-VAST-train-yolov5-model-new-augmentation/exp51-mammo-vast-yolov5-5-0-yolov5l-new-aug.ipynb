{
 "cells": [
  {
   "cell_type": "code",
   "execution_count": null,
   "metadata": {},
   "outputs": [],
   "source": []
  },
  {
   "cell_type": "code",
   "execution_count": 1,
   "metadata": {
    "execution": {
     "iopub.execute_input": "2022-11-28T02:15:43.927745Z",
     "iopub.status.busy": "2022-11-28T02:15:43.927264Z",
     "iopub.status.idle": "2022-11-28T02:15:43.933461Z",
     "shell.execute_reply": "2022-11-28T02:15:43.932519Z",
     "shell.execute_reply.started": "2022-11-28T02:15:43.927708Z"
    }
   },
   "outputs": [],
   "source": [
    "ENV = 'VAST' # Colab, VAST, Kaggle"
   ]
  },
  {
   "cell_type": "code",
   "execution_count": 2,
   "metadata": {
    "execution": {
     "iopub.execute_input": "2022-11-28T02:15:43.935917Z",
     "iopub.status.busy": "2022-11-28T02:15:43.935290Z",
     "iopub.status.idle": "2022-11-28T02:15:43.949284Z",
     "shell.execute_reply": "2022-11-28T02:15:43.948356Z",
     "shell.execute_reply.started": "2022-11-28T02:15:43.935882Z"
    },
    "papermill": {
     "duration": 11.55616,
     "end_time": "2021-07-18T05:38:38.821538",
     "exception": false,
     "start_time": "2021-07-18T05:38:27.265378",
     "status": "completed"
    },
    "tags": []
   },
   "outputs": [
    {
     "name": "stdout",
     "output_type": "stream",
     "text": [
      "1.12.0.dev20220327+cu113\n",
      "0.13.0.dev20220327+cu113\n"
     ]
    }
   ],
   "source": [
    "import pandas as pd\n",
    "import numpy as np\n",
    "import os\n",
    "\n",
    "\n",
    "import cv2\n",
    "import time\n",
    "import shutil\n",
    "\n",
    "import torch\n",
    "import torch.nn as nn\n",
    "import torch.optim as optim\n",
    "import torch.nn.functional as F\n",
    "\n",
    "import torchvision\n",
    "import torchvision.transforms as transforms\n",
    "\n",
    "from torch.utils.data import Dataset, DataLoader\n",
    "from torchvision import transforms, utils\n",
    "\n",
    "from torch.utils.data import Dataset, DataLoader\n",
    "\n",
    "#from tqdm import tqdm\n",
    "\n",
    "# tqdm doesn't work well in colab.\n",
    "# This is the solution:\n",
    "# https://stackoverflow.com/questions/41707229/tqdm-printing-to-newline\n",
    "import tqdm.notebook as tq\n",
    "#for i in tq.tqdm(...):\n",
    "\n",
    "from tqdm import tqdm_notebook as tqdm\n",
    "\n",
    "import gc\n",
    "\n",
    "\n",
    "import albumentations as albu\n",
    "from albumentations import Compose\n",
    "\n",
    "\n",
    "from sklearn import model_selection\n",
    "from sklearn.utils import shuffle\n",
    "from sklearn import metrics\n",
    "from sklearn.metrics import confusion_matrix\n",
    "from sklearn.metrics import classification_report, jaccard_score\n",
    "import itertools\n",
    "\n",
    "\n",
    "# load image with Pillow\n",
    "from PIL import Image\n",
    "\n",
    "from numpy import asarray\n",
    "\n",
    "from skimage.transform import resize\n",
    "\n",
    "\n",
    "import matplotlib.pyplot as plt\n",
    "\n",
    "# Don't Show Warning Messages\n",
    "import warnings\n",
    "warnings.filterwarnings('ignore')\n",
    "\n",
    "# Note: Pytorch uses a channels-first format:\n",
    "# [batch_size, num_channels, height, width]\n",
    "\n",
    "print(torch.__version__)\n",
    "\n",
    "print(torchvision.__version__)"
   ]
  },
  {
   "cell_type": "code",
   "execution_count": 3,
   "metadata": {
    "execution": {
     "iopub.execute_input": "2022-11-28T02:15:43.952167Z",
     "iopub.status.busy": "2022-11-28T02:15:43.951214Z",
     "iopub.status.idle": "2022-11-28T02:15:43.969053Z",
     "shell.execute_reply": "2022-11-28T02:15:43.967988Z",
     "shell.execute_reply.started": "2022-11-28T02:15:43.952087Z"
    },
    "papermill": {
     "duration": 0.227737,
     "end_time": "2021-07-18T05:38:39.265366",
     "exception": false,
     "start_time": "2021-07-18T05:38:39.037629",
     "status": "completed"
    },
    "tags": []
   },
   "outputs": [],
   "source": [
    "# Set the seed values\n",
    "\n",
    "import random\n",
    "\n",
    "# Set the seed value all over the place to make this reproducible.\n",
    "seed_val = 101\n",
    "\n",
    "os.environ['PYTHONHASHSEED'] = str(seed_val)\n",
    "random.seed(seed_val)\n",
    "np.random.seed(seed_val)\n",
    "torch.manual_seed(seed_val)\n",
    "torch.cuda.manual_seed_all(seed_val)\n",
    "torch.backends.cudnn.deterministic = True"
   ]
  },
  {
   "cell_type": "code",
   "execution_count": 4,
   "metadata": {
    "execution": {
     "iopub.execute_input": "2022-11-28T02:15:43.971625Z",
     "iopub.status.busy": "2022-11-28T02:15:43.970869Z",
     "iopub.status.idle": "2022-11-28T02:15:43.981815Z",
     "shell.execute_reply": "2022-11-28T02:15:43.980494Z",
     "shell.execute_reply.started": "2022-11-28T02:15:43.971577Z"
    }
   },
   "outputs": [
    {
     "name": "stdout",
     "output_type": "stream",
     "text": [
      "VAST\n"
     ]
    }
   ],
   "source": [
    "IMAGES_FOLDER = 'images_dir'\n",
    "\n",
    "if ENV == 'VAST':\n",
    "    \n",
    "    root = '/root'\n",
    "    base_path = '/root/smart-mammo-data/'\n",
    "    data_path = '/root/exp49_10f_df_data_w_folds.csv'\n",
    "    \n",
    "\n",
    "if ENV == 'Kaggle':\n",
    "    \n",
    "    root = '/kaggle/working'\n",
    "    base_path = '../input/smart-mammo-data/'\n",
    "    data_path = '../input/exp49-mammo-create-the-7-folds/df_data_w_folds.csv'\n",
    "    \n",
    "    \n",
    "print(ENV)"
   ]
  },
  {
   "cell_type": "code",
   "execution_count": 5,
   "metadata": {
    "execution": {
     "iopub.execute_input": "2022-11-28T02:15:43.984650Z",
     "iopub.status.busy": "2022-11-28T02:15:43.984160Z",
     "iopub.status.idle": "2022-11-28T02:15:43.995862Z",
     "shell.execute_reply": "2022-11-28T02:15:43.994602Z",
     "shell.execute_reply.started": "2022-11-28T02:15:43.984613Z"
    },
    "papermill": {
     "duration": 0.22636,
     "end_time": "2021-07-18T05:38:39.705411",
     "exception": false,
     "start_time": "2021-07-18T05:38:39.479051",
     "status": "completed"
    },
    "tags": []
   },
   "outputs": [
    {
     "data": {
      "text/plain": [
       "['Exp_50-VAST',\n",
       " 'VinDR-Mammo-Data',\n",
       " 'bens_images_dir',\n",
       " 'data_for_simulation',\n",
       " 'df_data.csv',\n",
       " 'df_data_bens.csv',\n",
       " 'df_data_padded.csv',\n",
       " 'exp06-spine-prepare-the-images-original-size.ipynb',\n",
       " 'exp17-LOCAL-pad--prepare-the-images-original-size.ipynb',\n",
       " 'exp33_best.pt',\n",
       " 'images_dir',\n",
       " 'v2_images_dir']"
      ]
     },
     "execution_count": 5,
     "metadata": {},
     "output_type": "execute_result"
    }
   ],
   "source": [
    "os.listdir(base_path)"
   ]
  },
  {
   "cell_type": "markdown",
   "metadata": {},
   "source": [
    "## Config"
   ]
  },
  {
   "cell_type": "code",
   "execution_count": 36,
   "metadata": {
    "execution": {
     "iopub.execute_input": "2022-11-28T02:15:43.998583Z",
     "iopub.status.busy": "2022-11-28T02:15:43.997775Z",
     "iopub.status.idle": "2022-11-28T02:15:44.010341Z",
     "shell.execute_reply": "2022-11-28T02:15:44.009579Z",
     "shell.execute_reply.started": "2022-11-28T02:15:43.998535Z"
    },
    "papermill": {
     "duration": 0.225834,
     "end_time": "2021-07-18T05:38:40.577433",
     "exception": false,
     "start_time": "2021-07-18T05:38:40.351599",
     "status": "completed"
    },
    "tags": []
   },
   "outputs": [
    {
     "data": {
      "text/plain": [
       "128"
      ]
     },
     "execution_count": 36,
     "metadata": {},
     "output_type": "execute_result"
    }
   ],
   "source": [
    "# This is the fold that Yolo is trained on\n",
    "CHOSEN_FOLD = 0\n",
    "\n",
    "\n",
    "# Yolo setup:\n",
    "NUM_EPOCHS = 90\n",
    "\n",
    "# The batch size must be an even number when using multiple GPUs\n",
    "BATCH_SIZE = 32\n",
    "IMAGE_SIZE = 1024 # Yolo will automatically resize the input images to this size.\n",
    "\n",
    "NUM_CORES = os.cpu_count()\n",
    "NUM_CORES"
   ]
  },
  {
   "cell_type": "markdown",
   "metadata": {
    "papermill": {
     "duration": 0.215149,
     "end_time": "2021-07-18T05:38:41.008781",
     "exception": false,
     "start_time": "2021-07-18T05:38:40.793632",
     "status": "completed"
    },
    "tags": []
   },
   "source": [
    "## Set up Yolov5 - For offline use\n",
    "\n",
    "The Yolov5 model being used here needs to have the internet turned for training to work. However, it does not need to have the internet on during inference."
   ]
  },
  {
   "cell_type": "code",
   "execution_count": 7,
   "metadata": {
    "execution": {
     "iopub.execute_input": "2022-11-28T02:15:44.012102Z",
     "iopub.status.busy": "2022-11-28T02:15:44.011610Z",
     "iopub.status.idle": "2022-11-28T02:15:49.430560Z",
     "shell.execute_reply": "2022-11-28T02:15:49.429465Z",
     "shell.execute_reply.started": "2022-11-28T02:15:44.012071Z"
    },
    "papermill": {
     "duration": 1.303094,
     "end_time": "2021-07-18T05:38:42.525305",
     "exception": false,
     "start_time": "2021-07-18T05:38:41.222211",
     "status": "completed"
    },
    "tags": []
   },
   "outputs": [],
   "source": [
    "# Copy the yolov5 folder from the notebook to  /kaggle/working/\n",
    "# The folder will be renamed yolov5 when copied.\n",
    "# The yolov5-v5.0 folder also contains the trained weights.\n",
    "\n",
    "\n",
    "if os.path.isdir(f'{root}/yolov5') == False:\n",
    "    \n",
    "    if ENV == 'Kaggle':\n",
    "        shutil.copytree('../input/my-yolov5-for-offline-use/yolov5-v5.0', '/kaggle/working/yolov5')\n",
    "        \n",
    "    if ENV == 'VAST':\n",
    "        shutil.copytree('my-yolov5-for-offline-use/yolov5-v5.0', f'{root}/yolov5')"
   ]
  },
  {
   "cell_type": "code",
   "execution_count": 8,
   "metadata": {
    "execution": {
     "iopub.execute_input": "2022-11-28T02:15:49.433561Z",
     "iopub.status.busy": "2022-11-28T02:15:49.432931Z",
     "iopub.status.idle": "2022-11-28T02:15:50.549812Z",
     "shell.execute_reply": "2022-11-28T02:15:50.548472Z",
     "shell.execute_reply.started": "2022-11-28T02:15:49.433527Z"
    },
    "papermill": {
     "duration": 1.013171,
     "end_time": "2021-07-18T05:38:43.756671",
     "exception": false,
     "start_time": "2021-07-18T05:38:42.7435",
     "status": "completed"
    },
    "tags": []
   },
   "outputs": [
    {
     "name": "stdout",
     "output_type": "stream",
     "text": [
      "/bin/bash: warning: setlocale: LC_ALL: cannot change locale (en_US.UTF-8)\r\n",
      "VAST_Setup_Notebook_for_Mammo.ipynb\t\t   onstart.sh\r\n",
      "exp49_10f_df_data_w_folds.csv\t\t\t   ports.log\r\n",
      "exp51-mammo-vast-yolov5-5-0-yolov5l-new-aug.ipynb  requirements.txt\r\n",
      "input\t\t\t\t\t\t   smart-mammo-data\r\n",
      "my-yolov5-for-offline-use\t\t\t   yolov5\r\n",
      "onstart.log\r\n"
     ]
    }
   ],
   "source": [
    "!ls"
   ]
  },
  {
   "cell_type": "markdown",
   "metadata": {
    "papermill": {
     "duration": 0.215286,
     "end_time": "2021-07-18T05:38:44.189361",
     "exception": false,
     "start_time": "2021-07-18T05:38:43.974075",
     "status": "completed"
    },
    "tags": []
   },
   "source": [
    "## Load the train data"
   ]
  },
  {
   "cell_type": "code",
   "execution_count": 9,
   "metadata": {
    "execution": {
     "iopub.execute_input": "2022-11-28T02:15:50.552104Z",
     "iopub.status.busy": "2022-11-28T02:15:50.551749Z",
     "iopub.status.idle": "2022-11-28T02:15:50.616081Z",
     "shell.execute_reply": "2022-11-28T02:15:50.615192Z",
     "shell.execute_reply.started": "2022-11-28T02:15:50.552071Z"
    },
    "papermill": {
     "duration": 0.415195,
     "end_time": "2021-07-18T05:38:44.823811",
     "exception": false,
     "start_time": "2021-07-18T05:38:44.408616",
     "status": "completed"
    },
    "tags": []
   },
   "outputs": [
    {
     "name": "stdout",
     "output_type": "stream",
     "text": [
      "(1426, 20)\n"
     ]
    },
    {
     "data": {
      "text/html": [
       "<div>\n",
       "<style scoped>\n",
       "    .dataframe tbody tr th:only-of-type {\n",
       "        vertical-align: middle;\n",
       "    }\n",
       "\n",
       "    .dataframe tbody tr th {\n",
       "        vertical-align: top;\n",
       "    }\n",
       "\n",
       "    .dataframe thead th {\n",
       "        text-align: right;\n",
       "    }\n",
       "</style>\n",
       "<table border=\"1\" class=\"dataframe\">\n",
       "  <thead>\n",
       "    <tr style=\"text-align: right;\">\n",
       "      <th></th>\n",
       "      <th>study_id</th>\n",
       "      <th>series_id</th>\n",
       "      <th>image_id</th>\n",
       "      <th>laterality</th>\n",
       "      <th>view_position</th>\n",
       "      <th>height</th>\n",
       "      <th>width</th>\n",
       "      <th>breast_birads</th>\n",
       "      <th>breast_density</th>\n",
       "      <th>finding_categories</th>\n",
       "      <th>finding_birads</th>\n",
       "      <th>xmin</th>\n",
       "      <th>ymin</th>\n",
       "      <th>xmax</th>\n",
       "      <th>ymax</th>\n",
       "      <th>split</th>\n",
       "      <th>path</th>\n",
       "      <th>num_findings</th>\n",
       "      <th>target</th>\n",
       "      <th>fold</th>\n",
       "    </tr>\n",
       "  </thead>\n",
       "  <tbody>\n",
       "    <tr>\n",
       "      <th>0</th>\n",
       "      <td>517563a43eab4f90efc650fcb0d215d5</td>\n",
       "      <td>37d2595b7ec81bd31a18d26afdb0aabf</td>\n",
       "      <td>c54fbe3a374b9e157280479c4649b11a</td>\n",
       "      <td>L</td>\n",
       "      <td>MLO</td>\n",
       "      <td>2812</td>\n",
       "      <td>2012</td>\n",
       "      <td>BI-RADS 1</td>\n",
       "      <td>DENSITY C</td>\n",
       "      <td>['No Finding']</td>\n",
       "      <td>NaN</td>\n",
       "      <td>NaN</td>\n",
       "      <td>NaN</td>\n",
       "      <td>NaN</td>\n",
       "      <td>NaN</td>\n",
       "      <td>test</td>\n",
       "      <td>../input/smart-mammo-data/images_dir/images_di...</td>\n",
       "      <td>1</td>\n",
       "      <td>0</td>\n",
       "      <td>2.0</td>\n",
       "    </tr>\n",
       "    <tr>\n",
       "      <th>1</th>\n",
       "      <td>f8894c9173aaa865bd43751eeeacd3b0</td>\n",
       "      <td>1225d3a302306aca94552c0f8c30fe2c</td>\n",
       "      <td>78dfa5f3dd380341cc17955f52279728</td>\n",
       "      <td>R</td>\n",
       "      <td>MLO</td>\n",
       "      <td>3518</td>\n",
       "      <td>2800</td>\n",
       "      <td>BI-RADS 1</td>\n",
       "      <td>DENSITY C</td>\n",
       "      <td>['No Finding']</td>\n",
       "      <td>NaN</td>\n",
       "      <td>NaN</td>\n",
       "      <td>NaN</td>\n",
       "      <td>NaN</td>\n",
       "      <td>NaN</td>\n",
       "      <td>test</td>\n",
       "      <td>../input/smart-mammo-data/images_dir/images_di...</td>\n",
       "      <td>1</td>\n",
       "      <td>0</td>\n",
       "      <td>2.0</td>\n",
       "    </tr>\n",
       "    <tr>\n",
       "      <th>2</th>\n",
       "      <td>05783bf55ed93d5ec21d4e0e8546a5f0</td>\n",
       "      <td>da0aae7d4ed0388e3e15da1fd90af2e1</td>\n",
       "      <td>f9c2fd2f75598e0d7c311687693c31a7</td>\n",
       "      <td>R</td>\n",
       "      <td>CC</td>\n",
       "      <td>3518</td>\n",
       "      <td>2800</td>\n",
       "      <td>BI-RADS 1</td>\n",
       "      <td>DENSITY C</td>\n",
       "      <td>['No Finding']</td>\n",
       "      <td>NaN</td>\n",
       "      <td>NaN</td>\n",
       "      <td>NaN</td>\n",
       "      <td>NaN</td>\n",
       "      <td>NaN</td>\n",
       "      <td>training</td>\n",
       "      <td>../input/smart-mammo-data/images_dir/images_di...</td>\n",
       "      <td>1</td>\n",
       "      <td>0</td>\n",
       "      <td>5.0</td>\n",
       "    </tr>\n",
       "    <tr>\n",
       "      <th>3</th>\n",
       "      <td>ea8a09a16763d310b4065fe94c6c04cd</td>\n",
       "      <td>b714ced6a887a6528768db77b239dcd9</td>\n",
       "      <td>58d70109b957243aeaf19b95ed5322d4</td>\n",
       "      <td>R</td>\n",
       "      <td>MLO</td>\n",
       "      <td>3518</td>\n",
       "      <td>2800</td>\n",
       "      <td>BI-RADS 1</td>\n",
       "      <td>DENSITY C</td>\n",
       "      <td>['No Finding']</td>\n",
       "      <td>NaN</td>\n",
       "      <td>NaN</td>\n",
       "      <td>NaN</td>\n",
       "      <td>NaN</td>\n",
       "      <td>NaN</td>\n",
       "      <td>training</td>\n",
       "      <td>../input/smart-mammo-data/images_dir/images_di...</td>\n",
       "      <td>1</td>\n",
       "      <td>0</td>\n",
       "      <td>3.0</td>\n",
       "    </tr>\n",
       "    <tr>\n",
       "      <th>4</th>\n",
       "      <td>38c28cfa153bb4a7a1ade330738df1b7</td>\n",
       "      <td>9b0f078012d78f9ddc0fe2482a33bf28</td>\n",
       "      <td>6cf20761dccfd17caa6ae4877b744db5</td>\n",
       "      <td>R</td>\n",
       "      <td>CC</td>\n",
       "      <td>2812</td>\n",
       "      <td>2012</td>\n",
       "      <td>BI-RADS 1</td>\n",
       "      <td>DENSITY D</td>\n",
       "      <td>['No Finding']</td>\n",
       "      <td>NaN</td>\n",
       "      <td>NaN</td>\n",
       "      <td>NaN</td>\n",
       "      <td>NaN</td>\n",
       "      <td>NaN</td>\n",
       "      <td>test</td>\n",
       "      <td>../input/smart-mammo-data/images_dir/images_di...</td>\n",
       "      <td>1</td>\n",
       "      <td>0</td>\n",
       "      <td>7.0</td>\n",
       "    </tr>\n",
       "  </tbody>\n",
       "</table>\n",
       "</div>"
      ],
      "text/plain": [
       "                           study_id                         series_id  \\\n",
       "0  517563a43eab4f90efc650fcb0d215d5  37d2595b7ec81bd31a18d26afdb0aabf   \n",
       "1  f8894c9173aaa865bd43751eeeacd3b0  1225d3a302306aca94552c0f8c30fe2c   \n",
       "2  05783bf55ed93d5ec21d4e0e8546a5f0  da0aae7d4ed0388e3e15da1fd90af2e1   \n",
       "3  ea8a09a16763d310b4065fe94c6c04cd  b714ced6a887a6528768db77b239dcd9   \n",
       "4  38c28cfa153bb4a7a1ade330738df1b7  9b0f078012d78f9ddc0fe2482a33bf28   \n",
       "\n",
       "                           image_id laterality view_position  height  width  \\\n",
       "0  c54fbe3a374b9e157280479c4649b11a          L           MLO    2812   2012   \n",
       "1  78dfa5f3dd380341cc17955f52279728          R           MLO    3518   2800   \n",
       "2  f9c2fd2f75598e0d7c311687693c31a7          R            CC    3518   2800   \n",
       "3  58d70109b957243aeaf19b95ed5322d4          R           MLO    3518   2800   \n",
       "4  6cf20761dccfd17caa6ae4877b744db5          R            CC    2812   2012   \n",
       "\n",
       "  breast_birads breast_density finding_categories finding_birads  xmin  ymin  \\\n",
       "0     BI-RADS 1      DENSITY C     ['No Finding']            NaN   NaN   NaN   \n",
       "1     BI-RADS 1      DENSITY C     ['No Finding']            NaN   NaN   NaN   \n",
       "2     BI-RADS 1      DENSITY C     ['No Finding']            NaN   NaN   NaN   \n",
       "3     BI-RADS 1      DENSITY C     ['No Finding']            NaN   NaN   NaN   \n",
       "4     BI-RADS 1      DENSITY D     ['No Finding']            NaN   NaN   NaN   \n",
       "\n",
       "   xmax  ymax     split                                               path  \\\n",
       "0   NaN   NaN      test  ../input/smart-mammo-data/images_dir/images_di...   \n",
       "1   NaN   NaN      test  ../input/smart-mammo-data/images_dir/images_di...   \n",
       "2   NaN   NaN  training  ../input/smart-mammo-data/images_dir/images_di...   \n",
       "3   NaN   NaN  training  ../input/smart-mammo-data/images_dir/images_di...   \n",
       "4   NaN   NaN      test  ../input/smart-mammo-data/images_dir/images_di...   \n",
       "\n",
       "   num_findings  target  fold  \n",
       "0             1       0   2.0  \n",
       "1             1       0   2.0  \n",
       "2             1       0   5.0  \n",
       "3             1       0   3.0  \n",
       "4             1       0   7.0  "
      ]
     },
     "execution_count": 9,
     "metadata": {},
     "output_type": "execute_result"
    }
   ],
   "source": [
    "path = data_path\n",
    "\n",
    "df_data = pd.read_csv(path)\n",
    "\n",
    "print(df_data.shape)\n",
    "\n",
    "df_data.head()"
   ]
  },
  {
   "cell_type": "markdown",
   "metadata": {
    "papermill": {
     "duration": 0.217084,
     "end_time": "2021-07-18T05:38:45.726327",
     "exception": false,
     "start_time": "2021-07-18T05:38:45.509243",
     "status": "completed"
    },
    "tags": []
   },
   "source": [
    "## Process the train data"
   ]
  },
  {
   "cell_type": "code",
   "execution_count": 10,
   "metadata": {
    "execution": {
     "iopub.execute_input": "2022-11-28T02:15:50.617796Z",
     "iopub.status.busy": "2022-11-28T02:15:50.617266Z",
     "iopub.status.idle": "2022-11-28T02:15:50.655915Z",
     "shell.execute_reply": "2022-11-28T02:15:50.654597Z",
     "shell.execute_reply.started": "2022-11-28T02:15:50.617764Z"
    }
   },
   "outputs": [
    {
     "name": "stdout",
     "output_type": "stream",
     "text": [
      "(1426, 20)\n"
     ]
    }
   ],
   "source": [
    "# Get the path to each image\n",
    "\n",
    "def get_path(row):\n",
    "    \n",
    "    study_id = row['study_id']\n",
    "    image_id = row['image_id']\n",
    "    path = base_path + f'{IMAGES_FOLDER}/{IMAGES_FOLDER}/' + image_id + '.png'\n",
    "    \n",
    "    return path\n",
    "\n",
    "\n",
    "df_data['path'] = df_data.apply(get_path, axis=1)\n",
    "\n",
    "print(df_data.shape)\n",
    "\n",
    "#df_data.head()"
   ]
  },
  {
   "cell_type": "markdown",
   "metadata": {},
   "source": [
    "## Create a column for the bbox info"
   ]
  },
  {
   "cell_type": "code",
   "execution_count": 11,
   "metadata": {
    "execution": {
     "iopub.execute_input": "2022-11-28T02:15:50.657937Z",
     "iopub.status.busy": "2022-11-28T02:15:50.657559Z",
     "iopub.status.idle": "2022-11-28T02:15:50.772796Z",
     "shell.execute_reply": "2022-11-28T02:15:50.771555Z",
     "shell.execute_reply.started": "2022-11-28T02:15:50.657904Z"
    }
   },
   "outputs": [],
   "source": [
    "# Put the bbox info for each image into a list of bbox dicts\n",
    "\n",
    "\n",
    "bbox_list = []\n",
    "\n",
    "for i in range(0, len(df_data)):\n",
    "    \n",
    "    target = df_data.loc[i, 'target']\n",
    "    study_slice = df_data.loc[i, 'image_id']\n",
    "    \n",
    "    if target == 1:\n",
    "    \n",
    "        xmin = df_data.loc[i, 'xmin']\n",
    "        ymin = df_data.loc[i, 'ymin']\n",
    "        xmax = df_data.loc[i, 'xmax']\n",
    "        ymax = df_data.loc[i, 'ymax']\n",
    "        \n",
    "        x = round(xmin)\n",
    "        y = round(ymin)\n",
    "        width = round(xmax - xmin)\n",
    "        height = round(ymax - ymin)\n",
    "\n",
    "        bbox_dict ={\n",
    "            'x': x,\n",
    "            'y': y,\n",
    "            'width': width,\n",
    "            'height': height\n",
    "        }\n",
    "\n",
    "        bbox_list.append(bbox_dict)\n",
    "        \n",
    "    else:\n",
    "        bbox_list.append('none')\n",
    "        \n",
    "        \n",
    "# Add the bbox_list to df_data\n",
    "\n",
    "df_data['boxes'] = bbox_list\n",
    "\n",
    "#print(df_data.shape)\n",
    "\n",
    "#df_data.head()"
   ]
  },
  {
   "cell_type": "code",
   "execution_count": 12,
   "metadata": {
    "execution": {
     "iopub.execute_input": "2022-11-28T02:15:50.774573Z",
     "iopub.status.busy": "2022-11-28T02:15:50.774189Z",
     "iopub.status.idle": "2022-11-28T02:15:50.804571Z",
     "shell.execute_reply": "2022-11-28T02:15:50.803084Z",
     "shell.execute_reply.started": "2022-11-28T02:15:50.774540Z"
    }
   },
   "outputs": [
    {
     "data": {
      "text/html": [
       "<div>\n",
       "<style scoped>\n",
       "    .dataframe tbody tr th:only-of-type {\n",
       "        vertical-align: middle;\n",
       "    }\n",
       "\n",
       "    .dataframe tbody tr th {\n",
       "        vertical-align: top;\n",
       "    }\n",
       "\n",
       "    .dataframe thead th {\n",
       "        text-align: right;\n",
       "    }\n",
       "</style>\n",
       "<table border=\"1\" class=\"dataframe\">\n",
       "  <thead>\n",
       "    <tr style=\"text-align: right;\">\n",
       "      <th></th>\n",
       "      <th>study_id</th>\n",
       "      <th>series_id</th>\n",
       "      <th>image_id</th>\n",
       "      <th>laterality</th>\n",
       "      <th>view_position</th>\n",
       "      <th>height</th>\n",
       "      <th>width</th>\n",
       "      <th>breast_birads</th>\n",
       "      <th>breast_density</th>\n",
       "      <th>finding_categories</th>\n",
       "      <th>...</th>\n",
       "      <th>xmin</th>\n",
       "      <th>ymin</th>\n",
       "      <th>xmax</th>\n",
       "      <th>ymax</th>\n",
       "      <th>split</th>\n",
       "      <th>path</th>\n",
       "      <th>num_findings</th>\n",
       "      <th>target</th>\n",
       "      <th>fold</th>\n",
       "      <th>boxes</th>\n",
       "    </tr>\n",
       "  </thead>\n",
       "  <tbody>\n",
       "    <tr>\n",
       "      <th>0</th>\n",
       "      <td>517563a43eab4f90efc650fcb0d215d5</td>\n",
       "      <td>37d2595b7ec81bd31a18d26afdb0aabf</td>\n",
       "      <td>c54fbe3a374b9e157280479c4649b11a</td>\n",
       "      <td>L</td>\n",
       "      <td>MLO</td>\n",
       "      <td>2812</td>\n",
       "      <td>2012</td>\n",
       "      <td>BI-RADS 1</td>\n",
       "      <td>DENSITY C</td>\n",
       "      <td>['No Finding']</td>\n",
       "      <td>...</td>\n",
       "      <td>NaN</td>\n",
       "      <td>NaN</td>\n",
       "      <td>NaN</td>\n",
       "      <td>NaN</td>\n",
       "      <td>test</td>\n",
       "      <td>/root/smart-mammo-data/images_dir/images_dir/c...</td>\n",
       "      <td>1</td>\n",
       "      <td>0</td>\n",
       "      <td>2.0</td>\n",
       "      <td>none</td>\n",
       "    </tr>\n",
       "    <tr>\n",
       "      <th>1</th>\n",
       "      <td>f8894c9173aaa865bd43751eeeacd3b0</td>\n",
       "      <td>1225d3a302306aca94552c0f8c30fe2c</td>\n",
       "      <td>78dfa5f3dd380341cc17955f52279728</td>\n",
       "      <td>R</td>\n",
       "      <td>MLO</td>\n",
       "      <td>3518</td>\n",
       "      <td>2800</td>\n",
       "      <td>BI-RADS 1</td>\n",
       "      <td>DENSITY C</td>\n",
       "      <td>['No Finding']</td>\n",
       "      <td>...</td>\n",
       "      <td>NaN</td>\n",
       "      <td>NaN</td>\n",
       "      <td>NaN</td>\n",
       "      <td>NaN</td>\n",
       "      <td>test</td>\n",
       "      <td>/root/smart-mammo-data/images_dir/images_dir/7...</td>\n",
       "      <td>1</td>\n",
       "      <td>0</td>\n",
       "      <td>2.0</td>\n",
       "      <td>none</td>\n",
       "    </tr>\n",
       "  </tbody>\n",
       "</table>\n",
       "<p>2 rows × 21 columns</p>\n",
       "</div>"
      ],
      "text/plain": [
       "                           study_id                         series_id  \\\n",
       "0  517563a43eab4f90efc650fcb0d215d5  37d2595b7ec81bd31a18d26afdb0aabf   \n",
       "1  f8894c9173aaa865bd43751eeeacd3b0  1225d3a302306aca94552c0f8c30fe2c   \n",
       "\n",
       "                           image_id laterality view_position  height  width  \\\n",
       "0  c54fbe3a374b9e157280479c4649b11a          L           MLO    2812   2012   \n",
       "1  78dfa5f3dd380341cc17955f52279728          R           MLO    3518   2800   \n",
       "\n",
       "  breast_birads breast_density finding_categories  ... xmin  ymin  xmax  ymax  \\\n",
       "0     BI-RADS 1      DENSITY C     ['No Finding']  ...  NaN   NaN   NaN   NaN   \n",
       "1     BI-RADS 1      DENSITY C     ['No Finding']  ...  NaN   NaN   NaN   NaN   \n",
       "\n",
       "   split                                               path num_findings  \\\n",
       "0   test  /root/smart-mammo-data/images_dir/images_dir/c...            1   \n",
       "1   test  /root/smart-mammo-data/images_dir/images_dir/7...            1   \n",
       "\n",
       "   target  fold  boxes  \n",
       "0       0   2.0   none  \n",
       "1       0   2.0   none  \n",
       "\n",
       "[2 rows x 21 columns]"
      ]
     },
     "execution_count": 12,
     "metadata": {},
     "output_type": "execute_result"
    }
   ],
   "source": [
    "df_data.head(2)"
   ]
  },
  {
   "cell_type": "code",
   "execution_count": 13,
   "metadata": {
    "execution": {
     "iopub.execute_input": "2022-11-28T02:15:50.806378Z",
     "iopub.status.busy": "2022-11-28T02:15:50.805999Z",
     "iopub.status.idle": "2022-11-28T02:15:50.815183Z",
     "shell.execute_reply": "2022-11-28T02:15:50.813899Z",
     "shell.execute_reply.started": "2022-11-28T02:15:50.806333Z"
    }
   },
   "outputs": [
    {
     "data": {
      "text/plain": [
       "'none'"
      ]
     },
     "execution_count": 13,
     "metadata": {},
     "output_type": "execute_result"
    }
   ],
   "source": [
    "# Display one entry\n",
    "\n",
    "df_data.loc[0, 'boxes']"
   ]
  },
  {
   "cell_type": "markdown",
   "metadata": {},
   "source": [
    "## Create df_train and df_val"
   ]
  },
  {
   "cell_type": "code",
   "execution_count": 14,
   "metadata": {
    "execution": {
     "iopub.execute_input": "2022-11-28T02:15:50.821149Z",
     "iopub.status.busy": "2022-11-28T02:15:50.820081Z",
     "iopub.status.idle": "2022-11-28T02:15:50.832539Z",
     "shell.execute_reply": "2022-11-28T02:15:50.831038Z",
     "shell.execute_reply.started": "2022-11-28T02:15:50.821114Z"
    }
   },
   "outputs": [
    {
     "name": "stdout",
     "output_type": "stream",
     "text": [
      "1    1100\n",
      "0     180\n",
      "Name: target, dtype: int64\n",
      "\n",
      "1    126\n",
      "0     20\n",
      "Name: target, dtype: int64\n"
     ]
    }
   ],
   "source": [
    "# Choose the fold to train on.\n",
    "fold_index = CHOSEN_FOLD\n",
    "\n",
    "df_train = df_data[df_data['fold'] != fold_index]\n",
    "df_val = df_data[df_data['fold'] == fold_index]\n",
    "\n",
    "print(df_train['target'].value_counts())\n",
    "print('')\n",
    "print(df_val['target'].value_counts())"
   ]
  },
  {
   "cell_type": "code",
   "execution_count": 15,
   "metadata": {
    "execution": {
     "iopub.execute_input": "2022-11-28T02:15:50.834151Z",
     "iopub.status.busy": "2022-11-28T02:15:50.833836Z",
     "iopub.status.idle": "2022-11-28T02:15:50.843794Z",
     "shell.execute_reply": "2022-11-28T02:15:50.842642Z",
     "shell.execute_reply.started": "2022-11-28T02:15:50.834122Z"
    }
   },
   "outputs": [
    {
     "name": "stdout",
     "output_type": "stream",
     "text": [
      "DENSITY C    1035\n",
      "DENSITY B     158\n",
      "DENSITY D      81\n",
      "DENSITY A       6\n",
      "Name: breast_density, dtype: int64\n",
      "\n",
      "DENSITY C    113\n",
      "DENSITY D     17\n",
      "DENSITY B     16\n",
      "Name: breast_density, dtype: int64\n"
     ]
    }
   ],
   "source": [
    "print(df_train['breast_density'].value_counts())\n",
    "print('')\n",
    "print(df_val['breast_density'].value_counts())"
   ]
  },
  {
   "cell_type": "markdown",
   "metadata": {
    "papermill": {
     "duration": 0.401781,
     "end_time": "2021-07-18T05:38:47.878685",
     "exception": false,
     "start_time": "2021-07-18T05:38:47.476904",
     "status": "completed"
    },
    "tags": []
   },
   "source": [
    "## Helper functions"
   ]
  },
  {
   "cell_type": "code",
   "execution_count": 16,
   "metadata": {
    "execution": {
     "iopub.execute_input": "2022-11-28T02:15:50.845856Z",
     "iopub.status.busy": "2022-11-28T02:15:50.845522Z",
     "iopub.status.idle": "2022-11-28T02:15:50.857987Z",
     "shell.execute_reply": "2022-11-28T02:15:50.856879Z",
     "shell.execute_reply.started": "2022-11-28T02:15:50.845825Z"
    },
    "papermill": {
     "duration": 0.227809,
     "end_time": "2021-07-18T05:38:48.408535",
     "exception": false,
     "start_time": "2021-07-18T05:38:48.180726",
     "status": "completed"
    },
    "tags": []
   },
   "outputs": [],
   "source": [
    "# Confusion matrix where the size of the plot and the text size can be changed\n",
    "\n",
    "# Source: Scikit Learn website\n",
    "# http://scikit-learn.org/stable/auto_examples/\n",
    "# model_selection/plot_confusion_matrix.html#sphx-glr-auto-examples-model-\n",
    "# selection-plot-confusion-matrix-py\n",
    "\n",
    "\n",
    "def plot_confusion_matrix(cm, classes,\n",
    "                          normalize=False,\n",
    "                          title='Confusion matrix',\n",
    "                          cmap=plt.cm.Blues,\n",
    "                         text_size=12):\n",
    "    \"\"\"\n",
    "    This function prints and plots the confusion matrix.\n",
    "    Normalization can be applied by setting `normalize=True`.\n",
    "    \"\"\"\n",
    "    if normalize:\n",
    "        cm = cm.astype('float') / cm.sum(axis=1)[:, np.newaxis]\n",
    "        print(\"Normalized confusion matrix\")\n",
    "    else:\n",
    "        print('Confusion matrix, without normalization')\n",
    "\n",
    "    print(cm)\n",
    "\n",
    "    plt.imshow(cm, interpolation='nearest', cmap=cmap)\n",
    "    plt.title(title)\n",
    "    plt.colorbar()\n",
    "    tick_marks = np.arange(len(classes))\n",
    "    plt.xticks(tick_marks, classes, rotation=45, fontsize=text_size)\n",
    "    plt.yticks(tick_marks, classes, fontsize=text_size)\n",
    "\n",
    "    fmt = '.2f' if normalize else 'd'\n",
    "    thresh = cm.max() / 2.\n",
    "    for i, j in itertools.product(range(cm.shape[0]), range(cm.shape[1])):\n",
    "        plt.text(j, i, format(cm[i, j], fmt),\n",
    "                 horizontalalignment=\"center\",\n",
    "                 color=\"white\" if cm[i, j] > thresh else \"black\", fontsize=text_size)\n",
    "\n",
    "    plt.ylabel('True label', fontsize=text_size)\n",
    "    plt.xlabel('Predicted label', fontsize=text_size)\n",
    "    plt.tight_layout()"
   ]
  },
  {
   "cell_type": "code",
   "execution_count": 17,
   "metadata": {
    "execution": {
     "iopub.execute_input": "2022-11-28T02:15:50.859590Z",
     "iopub.status.busy": "2022-11-28T02:15:50.859233Z",
     "iopub.status.idle": "2022-11-28T02:15:51.001913Z",
     "shell.execute_reply": "2022-11-28T02:15:51.000872Z",
     "shell.execute_reply.started": "2022-11-28T02:15:50.859559Z"
    },
    "papermill": {
     "duration": 0.411458,
     "end_time": "2021-07-18T05:38:50.75773",
     "exception": false,
     "start_time": "2021-07-18T05:38:50.346272",
     "status": "completed"
    },
    "tags": []
   },
   "outputs": [],
   "source": [
    "# Source: https://www.kaggle.com/xhlulu/siim-covid-19-convert-to-jpg-256px\n",
    "\n",
    "from PIL import Image\n",
    "import pydicom\n",
    "from pydicom.pixel_data_handlers.util import apply_voi_lut\n",
    "\n",
    "\n",
    "def read_xray(path, voi_lut = True, fix_monochrome = True):\n",
    "    # Original from: https://www.kaggle.com/raddar/convert-dicom-to-np-array-the-correct-way\n",
    "    dicom = pydicom.read_file(path)\n",
    "    \n",
    "    # VOI LUT (if available by DICOM device) is used to transform raw DICOM data to \n",
    "    # \"human-friendly\" view\n",
    "    if voi_lut:\n",
    "        data = apply_voi_lut(dicom.pixel_array, dicom)\n",
    "    else:\n",
    "        data = dicom.pixel_array\n",
    "               \n",
    "    # depending on this value, X-ray may look inverted - fix that:\n",
    "    if fix_monochrome and dicom.PhotometricInterpretation == \"MONOCHROME1\":\n",
    "        data = np.amax(data) - data\n",
    "        \n",
    "    data = data - np.min(data)\n",
    "    data = data / np.max(data)\n",
    "    data = (data * 255).astype(np.uint8)\n",
    "        \n",
    "    return data\n",
    "\n",
    "\n",
    "\n",
    "\n",
    "def resize(array, size, keep_ratio=False, resample=Image.LANCZOS):\n",
    "    # Original from: https://www.kaggle.com/xhlulu/vinbigdata-process-and-resize-to-image\n",
    "    im = Image.fromarray(array)\n",
    "    \n",
    "    if keep_ratio:\n",
    "        im.thumbnail((size, size), resample)\n",
    "    else:\n",
    "        im = im.resize((size, size), resample)\n",
    "    \n",
    "    return im"
   ]
  },
  {
   "cell_type": "markdown",
   "metadata": {
    "papermill": {
     "duration": 0.214448,
     "end_time": "2021-07-18T05:39:00.717004",
     "exception": false,
     "start_time": "2021-07-18T05:39:00.502556",
     "status": "completed"
    },
    "tags": []
   },
   "source": [
    "## Create the Yolo directory structure\n",
    "\n",
    "We need to create a directory structure inside the yolov5 folder. This is where the training and validation data will need to be stored"
   ]
  },
  {
   "cell_type": "code",
   "execution_count": 18,
   "metadata": {
    "execution": {
     "iopub.execute_input": "2022-11-28T02:15:51.003800Z",
     "iopub.status.busy": "2022-11-28T02:15:51.003446Z",
     "iopub.status.idle": "2022-11-28T02:15:51.009302Z",
     "shell.execute_reply": "2022-11-28T02:15:51.008094Z",
     "shell.execute_reply.started": "2022-11-28T02:15:51.003766Z"
    },
    "papermill": {
     "duration": 0.241002,
     "end_time": "2021-07-18T05:39:01.171558",
     "exception": false,
     "start_time": "2021-07-18T05:39:00.930556",
     "status": "completed"
    },
    "tags": []
   },
   "outputs": [],
   "source": [
    "# Note the the following folder structure must be\n",
    "# located inside the yolov5 folder\n",
    "\n",
    "# base_dir\n",
    "    # images\n",
    "        # train (contains image files)\n",
    "        # validation (contains image files)\n",
    "    # labels \n",
    "        # train (contains .txt files)\n",
    "        # validation (contains .txt files)\n",
    "        \n",
    "# Yolo expects the bounding box dimensions to be\n",
    "# normalized to have values between 0 and 1.\n",
    "        \n",
    "# Label format in .txt file\n",
    "# class x-center y-center width height\n",
    "# E.g. 0 0.1 0.2 200 300\n",
    "\n",
    "# Each label is on a new line, in the .txt file:\n",
    "# 0 0.1 0.2 200 300\n",
    "# 0 0.1 0.2 200 300"
   ]
  },
  {
   "cell_type": "code",
   "execution_count": 19,
   "metadata": {
    "execution": {
     "iopub.execute_input": "2022-11-28T02:15:51.011345Z",
     "iopub.status.busy": "2022-11-28T02:15:51.010993Z",
     "iopub.status.idle": "2022-11-28T02:15:52.146328Z",
     "shell.execute_reply": "2022-11-28T02:15:52.144817Z",
     "shell.execute_reply.started": "2022-11-28T02:15:51.011312Z"
    },
    "papermill": {
     "duration": 1.026715,
     "end_time": "2021-07-18T05:39:02.410223",
     "exception": false,
     "start_time": "2021-07-18T05:39:01.383508",
     "status": "completed"
    },
    "tags": []
   },
   "outputs": [
    {
     "name": "stdout",
     "output_type": "stream",
     "text": [
      "/bin/bash: warning: setlocale: LC_ALL: cannot change locale (en_US.UTF-8)\r\n",
      "/bin/bash: tree: command not found\r\n"
     ]
    }
   ],
   "source": [
    "# change the working directory to yolov5\n",
    "os.chdir(f'{root}/yolov5')\n",
    "\n",
    "# Create a new directory (this is happening inside the yolov5 directory)\n",
    "\n",
    "base_dir = 'base_dir'\n",
    "os.mkdir(base_dir)\n",
    "\n",
    "\n",
    "# Now we create folders inside 'base_dir':\n",
    "\n",
    "# base_dir\n",
    "\n",
    "    # images\n",
    "        # train\n",
    "        # validation\n",
    "\n",
    "    # labels\n",
    "        # train\n",
    "        # validation\n",
    "\n",
    "# images\n",
    "images = os.path.join(base_dir, 'images')\n",
    "os.mkdir(images)\n",
    "\n",
    "# labels\n",
    "labels = os.path.join(base_dir, 'labels')\n",
    "os.mkdir(labels)\n",
    "\n",
    "\n",
    "\n",
    "# Inside each folder we create seperate folders for each class\n",
    "\n",
    "# create new folders inside images\n",
    "train = os.path.join(images, 'train')\n",
    "os.mkdir(train)\n",
    "validation = os.path.join(images, 'validation')\n",
    "os.mkdir(validation)\n",
    "\n",
    "\n",
    "# create new folders inside labels\n",
    "train = os.path.join(labels, 'train')\n",
    "os.mkdir(train)\n",
    "validation = os.path.join(labels, 'validation')\n",
    "os.mkdir(validation)\n",
    "\n",
    "# Display the folder structure\n",
    "!tree base_dir"
   ]
  },
  {
   "cell_type": "markdown",
   "metadata": {
    "papermill": {
     "duration": 0.376731,
     "end_time": "2021-07-18T05:39:03.198014",
     "exception": false,
     "start_time": "2021-07-18T05:39:02.821283",
     "status": "completed"
    },
    "tags": []
   },
   "source": [
    "## Process the data\n",
    "\n",
    "Here we will write a function to process the training and validation data. \n",
    "\n",
    "We need to create a separate txt file for each image that contains the details of all the bounding boxes on that image.  This function will also move the training and val data into the directory structure that we created above. We won't need to do any image resizing for Yolo. It will do that automatically during training."
   ]
  },
  {
   "cell_type": "code",
   "execution_count": 20,
   "metadata": {
    "execution": {
     "iopub.execute_input": "2022-11-28T02:15:52.148637Z",
     "iopub.status.busy": "2022-11-28T02:15:52.148241Z",
     "iopub.status.idle": "2022-11-28T02:15:53.239246Z",
     "shell.execute_reply": "2022-11-28T02:15:53.237961Z",
     "shell.execute_reply.started": "2022-11-28T02:15:52.148603Z"
    },
    "papermill": {
     "duration": 0.227543,
     "end_time": "2021-07-18T05:39:03.850619",
     "exception": false,
     "start_time": "2021-07-18T05:39:03.623076",
     "status": "completed"
    },
    "tags": []
   },
   "outputs": [
    {
     "name": "stdout",
     "output_type": "stream",
     "text": [
      "/bin/bash: warning: setlocale: LC_ALL: cannot change locale (en_US.UTF-8)\r\n",
      "/root\r\n"
     ]
    }
   ],
   "source": [
    "# Change the working directory\n",
    "os.chdir(root)\n",
    "\n",
    "!pwd"
   ]
  },
  {
   "cell_type": "code",
   "execution_count": 21,
   "metadata": {
    "execution": {
     "iopub.execute_input": "2022-11-28T02:15:53.242559Z",
     "iopub.status.busy": "2022-11-28T02:15:53.242035Z",
     "iopub.status.idle": "2022-11-28T02:16:27.184301Z",
     "shell.execute_reply": "2022-11-28T02:16:27.183155Z",
     "shell.execute_reply.started": "2022-11-28T02:15:53.242509Z"
    },
    "papermill": {
     "duration": 3.555252,
     "end_time": "2021-07-18T05:39:11.818383",
     "exception": false,
     "start_time": "2021-07-18T05:39:08.263131",
     "status": "completed"
    },
    "tags": []
   },
   "outputs": [
    {
     "data": {
      "application/vnd.jupyter.widget-view+json": {
       "model_id": "101970896fcd41179d5c90c439899d7e",
       "version_major": 2,
       "version_minor": 0
      },
      "text/plain": [
       "  0%|          | 0/1280 [00:00<?, ?it/s]"
      ]
     },
     "metadata": {},
     "output_type": "display_data"
    },
    {
     "data": {
      "application/vnd.jupyter.widget-view+json": {
       "model_id": "ae7060695a3f427fbcc3fd3bf1062a6a",
       "version_major": 2,
       "version_minor": 0
      },
      "text/plain": [
       "  0%|          | 0/146 [00:00<?, ?it/s]"
      ]
     },
     "metadata": {},
     "output_type": "display_data"
    }
   ],
   "source": [
    "# Iterate through each row in the dataframe\n",
    "\n",
    "# We run the function below separately for\n",
    "# the train and val sets.\n",
    "# Remember that each image gets it's own text file\n",
    "# containing the info for all bboxes on that image.\n",
    "\n",
    "# For each image:\n",
    "# 1- get the info for each bounding box\n",
    "# 2- write the bounding box info to a txt file\n",
    "# 3- save the txt file in the correct folder\n",
    "# 4- copy the image to the correct folder\n",
    "\n",
    "# Note on bboxes:\n",
    "# For each image we have a list of dictionaries. Each dict \n",
    "# contains the coords one one bbox on that image.\n",
    "# We don't need to do anything if the image does not have any bboxes.\n",
    "\n",
    "\n",
    "def process_data_for_yolo(df, data_type='train'):\n",
    "\n",
    "    for _, row in tq.tqdm(df.iterrows(), total=len(df)):\n",
    "        \n",
    "        # Get the target\n",
    "        target = row['target']\n",
    "        \n",
    "        # Create the image file name\n",
    "        image_id = row['image_id']\n",
    "        fname = image_id + '.png'\n",
    "        \n",
    "        \n",
    "        # Only create txt files for class 1 images\n",
    "        if target == 1:\n",
    "        \n",
    "            # Get the list of bboxes on the image.\n",
    "            # Each item in the list is a dict containing the image coords.\n",
    "            bbox_dict = row['boxes']\n",
    "            \n",
    "            # put the coords into a list\n",
    "            bbox_list = [bbox_dict]\n",
    "            \n",
    "            # These are the original image sizes.\n",
    "            # If we have resized the images then this must be changed to\n",
    "            # the new sizes. We will then also be using resized bbox coords.\n",
    "            image_width = row['width']\n",
    "            image_height = row['height']\n",
    "\n",
    "\n",
    "            # Convert into the Yolo input format\n",
    "            # ...................................\n",
    "            \n",
    "            yolo_data = []\n",
    "\n",
    "            # row by row\n",
    "            for coord_dict in bbox_list:\n",
    "\n",
    "                xmin = int(coord_dict['x'])\n",
    "                ymin = int(coord_dict['y'])\n",
    "                bbox_w = int(coord_dict['width'])\n",
    "                bbox_h = int(coord_dict['height'])\n",
    "\n",
    "                # We only have one class i.e. opacity\n",
    "                # We will set the class_id to 0 for all images.\n",
    "                # Class numbers must start from 0.\n",
    "                class_id = target\n",
    "\n",
    "                x_center = xmin + (bbox_w/2)\n",
    "                y_center = ymin + (bbox_h/2)\n",
    "\n",
    "\n",
    "                # Normalize\n",
    "                # Yolo expects the dimensions to be normalized i.e.\n",
    "                # all values between 0 and 1.\n",
    "\n",
    "                x_center = x_center/image_width\n",
    "                y_center = y_center/image_height\n",
    "                bbox_w = bbox_w/image_width\n",
    "                bbox_h = bbox_h/image_height\n",
    "\n",
    "                # [class_id, x-center, y-center, width, height]\n",
    "                yolo_list = [class_id, x_center, y_center, bbox_w, bbox_h]\n",
    "\n",
    "                yolo_data.append(yolo_list)\n",
    "\n",
    "            # convert to nump array\n",
    "            yolo_data = np.array(yolo_data)\n",
    "\n",
    "\n",
    "            # Write the image bbox info to a txt file\n",
    "            #image_id = image_name.split('.')[0]\n",
    "            np.savetxt(os.path.join('yolov5/base_dir', \n",
    "                        f\"labels/{data_type}/{image_id}.txt\"),\n",
    "                        yolo_data, \n",
    "                        fmt=[\"%d\", \"%f\", \"%f\", \"%f\", \"%f\"]\n",
    "                        ) # fmt means format the columns\n",
    "\n",
    "\n",
    "\n",
    "        # Copy the image to images\n",
    "        # Set the path to the images here.\n",
    "        shutil.copyfile(\n",
    "            f\"{base_path}/{IMAGES_FOLDER}/{IMAGES_FOLDER}/{fname}\",\n",
    "            os.path.join('yolov5/base_dir', f\"images/{data_type}/{fname}\")\n",
    "        )\n",
    "        \n",
    "        \n",
    "\n",
    "# Call the function    \n",
    "process_data_for_yolo(df_train, data_type='train')\n",
    "process_data_for_yolo(df_val, data_type='validation')"
   ]
  },
  {
   "cell_type": "code",
   "execution_count": 22,
   "metadata": {
    "execution": {
     "iopub.execute_input": "2022-11-28T02:16:27.186177Z",
     "iopub.status.busy": "2022-11-28T02:16:27.185833Z",
     "iopub.status.idle": "2022-11-28T02:16:28.277496Z",
     "shell.execute_reply": "2022-11-28T02:16:28.275808Z",
     "shell.execute_reply.started": "2022-11-28T02:16:27.186147Z"
    }
   },
   "outputs": [
    {
     "name": "stdout",
     "output_type": "stream",
     "text": [
      "/bin/bash: warning: setlocale: LC_ALL: cannot change locale (en_US.UTF-8)\r\n",
      "VAST_Setup_Notebook_for_Mammo.ipynb\t\t   onstart.sh\r\n",
      "exp49_10f_df_data_w_folds.csv\t\t\t   ports.log\r\n",
      "exp51-mammo-vast-yolov5-5-0-yolov5l-new-aug.ipynb  requirements.txt\r\n",
      "input\t\t\t\t\t\t   smart-mammo-data\r\n",
      "my-yolov5-for-offline-use\t\t\t   yolov5\r\n",
      "onstart.log\r\n"
     ]
    }
   ],
   "source": [
    "!ls"
   ]
  },
  {
   "cell_type": "code",
   "execution_count": 23,
   "metadata": {
    "execution": {
     "iopub.execute_input": "2022-11-28T02:16:28.279877Z",
     "iopub.status.busy": "2022-11-28T02:16:28.279472Z",
     "iopub.status.idle": "2022-11-28T02:16:28.290089Z",
     "shell.execute_reply": "2022-11-28T02:16:28.288848Z",
     "shell.execute_reply.started": "2022-11-28T02:16:28.279840Z"
    },
    "papermill": {
     "duration": 0.237175,
     "end_time": "2021-07-18T05:39:12.278949",
     "exception": false,
     "start_time": "2021-07-18T05:39:12.041774",
     "status": "completed"
    },
    "tags": []
   },
   "outputs": [
    {
     "name": "stdout",
     "output_type": "stream",
     "text": [
      "1173\n",
      "132\n",
      "1001\n",
      "112\n"
     ]
    }
   ],
   "source": [
    "# Check that the files have been created\n",
    "\n",
    "print(len(os.listdir('yolov5/base_dir/images/train')))\n",
    "print(len(os.listdir('yolov5/base_dir/images/validation')))\n",
    "\n",
    "print(len(os.listdir('yolov5/base_dir/labels/train')))\n",
    "print(len(os.listdir('yolov5/base_dir/labels/validation')))"
   ]
  },
  {
   "cell_type": "code",
   "execution_count": 24,
   "metadata": {
    "execution": {
     "iopub.execute_input": "2022-11-28T02:16:28.292582Z",
     "iopub.status.busy": "2022-11-28T02:16:28.292061Z",
     "iopub.status.idle": "2022-11-28T02:16:28.301125Z",
     "shell.execute_reply": "2022-11-28T02:16:28.300096Z",
     "shell.execute_reply.started": "2022-11-28T02:16:28.292535Z"
    },
    "papermill": {
     "duration": 0.234228,
     "end_time": "2021-07-18T05:39:12.743254",
     "exception": false,
     "start_time": "2021-07-18T05:39:12.509026",
     "status": "completed"
    },
    "tags": []
   },
   "outputs": [
    {
     "data": {
      "text/plain": [
       "'4e3a578fe535ea4f5258d3f7f4419db8.txt'"
      ]
     },
     "execution_count": 24,
     "metadata": {},
     "output_type": "execute_result"
    }
   ],
   "source": [
    "text_file_list = os.listdir('yolov5/base_dir/labels/train')\n",
    "\n",
    "text_file = text_file_list[0]\n",
    "\n",
    "text_file"
   ]
  },
  {
   "cell_type": "code",
   "execution_count": 25,
   "metadata": {
    "execution": {
     "iopub.execute_input": "2022-11-28T02:16:28.302956Z",
     "iopub.status.busy": "2022-11-28T02:16:28.302531Z",
     "iopub.status.idle": "2022-11-28T02:16:29.397515Z",
     "shell.execute_reply": "2022-11-28T02:16:29.396294Z",
     "shell.execute_reply.started": "2022-11-28T02:16:28.302924Z"
    },
    "papermill": {
     "duration": 1.008666,
     "end_time": "2021-07-18T05:39:13.974188",
     "exception": false,
     "start_time": "2021-07-18T05:39:12.965522",
     "status": "completed"
    },
    "tags": []
   },
   "outputs": [
    {
     "name": "stdout",
     "output_type": "stream",
     "text": [
      "/bin/bash: warning: setlocale: LC_ALL: cannot change locale (en_US.UTF-8)\r\n",
      "1 0.148750 0.478539 0.148214 0.146958\r\n"
     ]
    }
   ],
   "source": [
    "# Display the contents of a text file\n",
    "\n",
    "! cat 'yolov5/base_dir/labels/train/19aa7e28743b204e978558c4fed12fd2.txt'"
   ]
  },
  {
   "cell_type": "markdown",
   "metadata": {
    "papermill": {
     "duration": 0.222359,
     "end_time": "2021-07-18T05:39:14.419466",
     "exception": false,
     "start_time": "2021-07-18T05:39:14.197107",
     "status": "completed"
    },
    "tags": []
   },
   "source": [
    "## Create the yaml file\n",
    "Yolo requires that we also create a yaml file inside the yolov5 folder."
   ]
  },
  {
   "cell_type": "code",
   "execution_count": 26,
   "metadata": {
    "execution": {
     "iopub.execute_input": "2022-11-28T02:16:29.400596Z",
     "iopub.status.busy": "2022-11-28T02:16:29.400094Z",
     "iopub.status.idle": "2022-11-28T02:16:29.409541Z",
     "shell.execute_reply": "2022-11-28T02:16:29.408648Z",
     "shell.execute_reply.started": "2022-11-28T02:16:29.400548Z"
    },
    "papermill": {
     "duration": 0.245553,
     "end_time": "2021-07-18T05:39:14.886293",
     "exception": false,
     "start_time": "2021-07-18T05:39:14.64074",
     "status": "completed"
    },
    "tags": []
   },
   "outputs": [],
   "source": [
    "# Ref:\n",
    "# Reading and Writing YAML to a File in Python\n",
    "# https://stackabuse.com/reading-and-writing-yaml-to-a-file-in-python\n",
    "\n",
    "yaml_dict = {'train': 'base_dir/images/train',   # path to the train folder\n",
    "            'val': 'base_dir/images/validation', # path to the val folder\n",
    "            'nc': 2,                             # number of classes\n",
    "            'names': ['0', '1']}                # list of label names\n",
    "\n",
    "\n",
    "\n",
    "# Create the yaml file called my_data.yaml\n",
    "# We will save this file inside the yolov5 folder.\n",
    "\n",
    "import yaml\n",
    "\n",
    "with open(r'yolov5/my_data.yaml', 'w') as file:\n",
    "    documents = yaml.dump(yaml_dict, file)"
   ]
  },
  {
   "cell_type": "code",
   "execution_count": 27,
   "metadata": {
    "execution": {
     "iopub.execute_input": "2022-11-28T02:16:29.411338Z",
     "iopub.status.busy": "2022-11-28T02:16:29.411024Z",
     "iopub.status.idle": "2022-11-28T02:16:29.645432Z",
     "shell.execute_reply": "2022-11-28T02:16:29.644515Z",
     "shell.execute_reply.started": "2022-11-28T02:16:29.411309Z"
    },
    "papermill": {
     "duration": 0.233988,
     "end_time": "2021-07-18T05:39:15.342968",
     "exception": false,
     "start_time": "2021-07-18T05:39:15.10898",
     "status": "completed"
    },
    "tags": []
   },
   "outputs": [
    {
     "data": {
      "text/plain": [
       "['.dockerignore',\n",
       " '.gitattributes',\n",
       " '.github',\n",
       " '.gitignore',\n",
       " 'Dockerfile',\n",
       " 'LICENSE',\n",
       " 'README.md',\n",
       " 'data',\n",
       " 'detect.py',\n",
       " 'hubconf.py',\n",
       " 'models',\n",
       " 'requirements.txt',\n",
       " 'test.py',\n",
       " 'train.py',\n",
       " 'tutorial.ipynb',\n",
       " 'utils',\n",
       " 'weights',\n",
       " 'yolov5-v5.0-performance-graph.png',\n",
       " 'yolov5l.pt',\n",
       " 'yolov5l6.pt',\n",
       " 'yolov5m.pt',\n",
       " 'yolov5m6.pt',\n",
       " 'yolov5x.pt',\n",
       " 'yolov5x6.pt',\n",
       " 'base_dir',\n",
       " 'my_data.yaml']"
      ]
     },
     "execution_count": 27,
     "metadata": {},
     "output_type": "execute_result"
    }
   ],
   "source": [
    "# Check that the my_data.yaml file is in the yolov5 folder.\n",
    "# It should appear in the list of files.\n",
    "\n",
    "os.listdir('yolov5')"
   ]
  },
  {
   "cell_type": "code",
   "execution_count": 28,
   "metadata": {
    "execution": {
     "iopub.execute_input": "2022-11-28T02:16:29.646853Z",
     "iopub.status.busy": "2022-11-28T02:16:29.646517Z",
     "iopub.status.idle": "2022-11-28T02:16:30.733746Z",
     "shell.execute_reply": "2022-11-28T02:16:30.732516Z",
     "shell.execute_reply.started": "2022-11-28T02:16:29.646824Z"
    },
    "papermill": {
     "duration": 1.026811,
     "end_time": "2021-07-18T05:39:16.593576",
     "exception": false,
     "start_time": "2021-07-18T05:39:15.566765",
     "status": "completed"
    },
    "tags": []
   },
   "outputs": [
    {
     "name": "stdout",
     "output_type": "stream",
     "text": [
      "/bin/bash: warning: setlocale: LC_ALL: cannot change locale (en_US.UTF-8)\r\n",
      "names:\r\n",
      "- '0'\r\n",
      "- '1'\r\n",
      "nc: 2\r\n",
      "train: base_dir/images/train\r\n",
      "val: base_dir/images/validation\r\n"
     ]
    }
   ],
   "source": [
    "# Display the contents of the yaml file\n",
    "\n",
    "! cat 'yolov5/my_data.yaml'"
   ]
  },
  {
   "cell_type": "markdown",
   "metadata": {
    "papermill": {
     "duration": 0.223307,
     "end_time": "2021-07-18T05:39:17.039924",
     "exception": false,
     "start_time": "2021-07-18T05:39:16.816617",
     "status": "completed"
    },
    "tags": []
   },
   "source": [
    "## Create a custom hyperameter/augmentation yaml file"
   ]
  },
  {
   "cell_type": "code",
   "execution_count": 29,
   "metadata": {
    "execution": {
     "iopub.execute_input": "2022-11-28T02:16:30.735692Z",
     "iopub.status.busy": "2022-11-28T02:16:30.735262Z",
     "iopub.status.idle": "2022-11-28T02:16:30.749827Z",
     "shell.execute_reply": "2022-11-28T02:16:30.748468Z",
     "shell.execute_reply.started": "2022-11-28T02:16:30.735654Z"
    },
    "papermill": {
     "duration": 0.239227,
     "end_time": "2021-07-18T05:39:17.506221",
     "exception": false,
     "start_time": "2021-07-18T05:39:17.266994",
     "status": "completed"
    },
    "tags": []
   },
   "outputs": [],
   "source": [
    "# Ref:\n",
    "# Reading and Writing YAML to a File in Python\n",
    "# https://stackabuse.com/reading-and-writing-yaml-to-a-file-in-python\n",
    "\n",
    "\n",
    "yaml_dict = {\n",
    "    \n",
    "'lr0': 0.01,  # initial learning rate (SGD=1E-2, Adam=1E-3)\n",
    "'lrf': 0.032,  # final OneCycleLR learning rate (lr0 * lrf)\n",
    "'momentum': 0.937,  # SGD momentum/Adam beta1\n",
    "'weight_decay': 0.0005,  # optimizer weight decay 5e-4\n",
    "'warmup_epochs': 3.0,  # warmup epochs (fractions ok)\n",
    "'warmup_momentum': 0.8,  # warmup initial momentum\n",
    "'warmup_bias_lr': 0.1,  # warmup initial bias lr\n",
    "'box': 0.1,  # box loss gain\n",
    "'cls': 1.0,  # cls loss gain\n",
    "'cls_pw': 0.5,  # cls BCELoss positive_weight\n",
    "'obj': 2.0,  # obj loss gain (scale with pixels)\n",
    "'obj_pw': 0.5,  # obj BCELoss positive_weight\n",
    "'iou_t': 0.20,  # IoU training threshold\n",
    "'anchor_t': 4.0,  # anchor-multiple threshold\n",
    "'anchors': 0,  # anchors per output layer (0 to ignore)\n",
    "'fl_gamma': 0.0,  # focal loss gamma (efficientDet default gamma=1.5)\n",
    "'hsv_h': 0,  # image HSV-Hue augmentation (fraction)\n",
    "'hsv_s': 0,  # image HSV-Saturation augmentation (fraction)\n",
    "'hsv_v': 0,  # image HSV-Value augmentation (fraction)\n",
    "'degrees': 90.0,  # image rotation (+/- deg) # exp51 change\n",
    "'translate': 0.2,  # image translation (+/- fraction)\n",
    "'scale': 0.5,  # image scale (+/- gain) # exp51 change\n",
    "'shear': 0.0,  # image shear (+/- deg)\n",
    "'perspective': 0.0,  # image perspective (+/- fraction), range 0-0.001\n",
    "'flipud': 0.4,  # image flip up-down (probability) # exp51 change\n",
    "'fliplr': 0.5,  # image flip left-right (probability)\n",
    "'mosaic': 0.9,  # image mosaic (probability) # exp51 change\n",
    "'mixup': 0.0  # image mixup (probability)\n",
    "    \n",
    "}\n",
    "\n",
    "\n",
    "# Create the yaml file called my_hyp.yaml\n",
    "# We will save this file inside the yolov5 folder.\n",
    "\n",
    "import yaml\n",
    "\n",
    "with open(r'yolov5/my_hyp.yaml', 'w') as file:\n",
    "    documents = yaml.dump(yaml_dict, file)"
   ]
  },
  {
   "cell_type": "code",
   "execution_count": 30,
   "metadata": {
    "execution": {
     "iopub.execute_input": "2022-11-28T02:16:30.752004Z",
     "iopub.status.busy": "2022-11-28T02:16:30.751557Z",
     "iopub.status.idle": "2022-11-28T02:16:30.761623Z",
     "shell.execute_reply": "2022-11-28T02:16:30.760554Z",
     "shell.execute_reply.started": "2022-11-28T02:16:30.751960Z"
    },
    "papermill": {
     "duration": 0.234891,
     "end_time": "2021-07-18T05:39:17.96441",
     "exception": false,
     "start_time": "2021-07-18T05:39:17.729519",
     "status": "completed"
    },
    "tags": []
   },
   "outputs": [
    {
     "data": {
      "text/plain": [
       "['.dockerignore',\n",
       " '.gitattributes',\n",
       " '.github',\n",
       " '.gitignore',\n",
       " 'Dockerfile',\n",
       " 'LICENSE',\n",
       " 'README.md',\n",
       " 'data',\n",
       " 'detect.py',\n",
       " 'hubconf.py',\n",
       " 'models',\n",
       " 'requirements.txt',\n",
       " 'test.py',\n",
       " 'train.py',\n",
       " 'tutorial.ipynb',\n",
       " 'utils',\n",
       " 'weights',\n",
       " 'yolov5-v5.0-performance-graph.png',\n",
       " 'yolov5l.pt',\n",
       " 'yolov5l6.pt',\n",
       " 'yolov5m.pt',\n",
       " 'yolov5m6.pt',\n",
       " 'yolov5x.pt',\n",
       " 'yolov5x6.pt',\n",
       " 'base_dir',\n",
       " 'my_data.yaml',\n",
       " 'my_hyp.yaml']"
      ]
     },
     "execution_count": 30,
     "metadata": {},
     "output_type": "execute_result"
    }
   ],
   "source": [
    "# Check that the my_data.yaml file is in the yolov5 folder.\n",
    "# It should appear in the list of files.\n",
    "\n",
    "os.listdir('yolov5')"
   ]
  },
  {
   "cell_type": "code",
   "execution_count": 31,
   "metadata": {
    "execution": {
     "iopub.execute_input": "2022-11-28T02:16:30.763832Z",
     "iopub.status.busy": "2022-11-28T02:16:30.763021Z",
     "iopub.status.idle": "2022-11-28T02:16:31.857009Z",
     "shell.execute_reply": "2022-11-28T02:16:31.855658Z",
     "shell.execute_reply.started": "2022-11-28T02:16:30.763777Z"
    },
    "papermill": {
     "duration": 1.010899,
     "end_time": "2021-07-18T05:39:19.194646",
     "exception": false,
     "start_time": "2021-07-18T05:39:18.183747",
     "status": "completed"
    },
    "tags": []
   },
   "outputs": [
    {
     "name": "stdout",
     "output_type": "stream",
     "text": [
      "/bin/bash: warning: setlocale: LC_ALL: cannot change locale (en_US.UTF-8)\r\n",
      "anchor_t: 4.0\r\n",
      "anchors: 0\r\n",
      "box: 0.1\r\n",
      "cls: 1.0\r\n",
      "cls_pw: 0.5\r\n",
      "degrees: 90.0\r\n",
      "fl_gamma: 0.0\r\n",
      "fliplr: 0.5\r\n",
      "flipud: 0.4\r\n",
      "hsv_h: 0\r\n",
      "hsv_s: 0\r\n",
      "hsv_v: 0\r\n",
      "iou_t: 0.2\r\n",
      "lr0: 0.01\r\n",
      "lrf: 0.032\r\n",
      "mixup: 0.0\r\n",
      "momentum: 0.937\r\n",
      "mosaic: 0.9\r\n",
      "obj: 2.0\r\n",
      "obj_pw: 0.5\r\n",
      "perspective: 0.0\r\n",
      "scale: 0.5\r\n",
      "shear: 0.0\r\n",
      "translate: 0.2\r\n",
      "warmup_bias_lr: 0.1\r\n",
      "warmup_epochs: 3.0\r\n",
      "warmup_momentum: 0.8\r\n",
      "weight_decay: 0.0005\r\n"
     ]
    }
   ],
   "source": [
    "# Display the contents of the  my_hyp.yaml file\n",
    "\n",
    "! cat 'yolov5/my_hyp.yaml'"
   ]
  },
  {
   "cell_type": "markdown",
   "metadata": {
    "papermill": {
     "duration": 0.239099,
     "end_time": "2021-07-18T05:39:19.65831",
     "exception": false,
     "start_time": "2021-07-18T05:39:19.419211",
     "status": "completed"
    },
    "tags": []
   },
   "source": [
    "## Train the model"
   ]
  },
  {
   "cell_type": "code",
   "execution_count": 32,
   "metadata": {
    "execution": {
     "iopub.execute_input": "2022-11-28T02:16:31.868377Z",
     "iopub.status.busy": "2022-11-28T02:16:31.867957Z",
     "iopub.status.idle": "2022-11-28T02:16:32.960354Z",
     "shell.execute_reply": "2022-11-28T02:16:32.958963Z",
     "shell.execute_reply.started": "2022-11-28T02:16:31.868343Z"
    },
    "papermill": {
     "duration": 1.119913,
     "end_time": "2021-07-18T05:39:21.005032",
     "exception": false,
     "start_time": "2021-07-18T05:39:19.885119",
     "status": "completed"
    },
    "tags": []
   },
   "outputs": [
    {
     "name": "stdout",
     "output_type": "stream",
     "text": [
      "/bin/bash: warning: setlocale: LC_ALL: cannot change locale (en_US.UTF-8)\r\n",
      "/root/yolov5\r\n"
     ]
    }
   ],
   "source": [
    "# change the working directory to yolov5\n",
    "os.chdir(f'{root}/yolov5')\n",
    "\n",
    "!pwd"
   ]
  },
  {
   "cell_type": "code",
   "execution_count": 33,
   "metadata": {
    "execution": {
     "iopub.execute_input": "2022-11-28T02:16:32.962605Z",
     "iopub.status.busy": "2022-11-28T02:16:32.962220Z",
     "iopub.status.idle": "2022-11-28T02:16:32.968624Z",
     "shell.execute_reply": "2022-11-28T02:16:32.967330Z",
     "shell.execute_reply.started": "2022-11-28T02:16:32.962569Z"
    },
    "papermill": {
     "duration": 0.234227,
     "end_time": "2021-07-18T05:39:21.512445",
     "exception": false,
     "start_time": "2021-07-18T05:39:21.278218",
     "status": "completed"
    },
    "tags": []
   },
   "outputs": [],
   "source": [
    "# What some of the parameters mean:\n",
    "\n",
    "# --weights => the path to the pre-trained model that we are using\n",
    "# --save-txt => The predicted bbox coordinates get saved to a txt file. One txt file per image.\n",
    "# --save-conf => The conf score gets included in the above txt file.\n",
    "# --img => The image will be resized to this size before creating the mosaic.\n",
    "# --conf => The confidence threshold\n",
    "# --rect => Means don't use mosaic augmentation during training\n",
    "# --name => Give a model a name e.g. --name my_model\n",
    "# --batch => batch size\n",
    "# --epochs => number of training epochs\n",
    "# --data => the yaml file path\n",
    "# --exist-ok => do not increment the project names with each run i.e. don't change exp to epx2, exp3 etc.\n",
    "# --nosave => do not save the images/videos (helpful when deploying to a server)\n",
    "\n",
    "# It's helpful to review the source code in detect.py to know what the above parameters mean.\n",
    "# detect.py is located inside the yolov5 folder."
   ]
  },
  {
   "cell_type": "code",
   "execution_count": 37,
   "metadata": {
    "_kg_hide-output": false,
    "execution": {
     "iopub.execute_input": "2022-11-28T02:16:32.971744Z",
     "iopub.status.busy": "2022-11-28T02:16:32.970593Z",
     "iopub.status.idle": "2022-11-28T02:17:11.536815Z",
     "shell.execute_reply": "2022-11-28T02:17:11.535213Z",
     "shell.execute_reply.started": "2022-11-28T02:16:32.971672Z"
    },
    "papermill": {
     "duration": 4424.742752,
     "end_time": "2021-07-18T06:53:06.478556",
     "exception": false,
     "start_time": "2021-07-18T05:39:21.735804",
     "status": "completed"
    },
    "tags": []
   },
   "outputs": [
    {
     "name": "stdout",
     "output_type": "stream",
     "text": [
      "/bin/bash: warning: setlocale: LC_ALL: cannot change locale (en_US.UTF-8)\n",
      "\u001b[34m\u001b[1mgithub: \u001b[0mskipping check (not a git repository)\n",
      "YOLOv5 🚀 2022-11-22 torch 1.12.0.dev20220327+cu113 CUDA:0 (NVIDIA RTX A5000, 24256.375MB)\n",
      "                                                   CUDA:1 (NVIDIA RTX A5000, 24256.375MB)\n",
      "\n",
      "Namespace(adam=False, artifact_alias='latest', batch_size=32, bbox_interval=-1, bucket='', cache_images=False, cfg='', data='my_data.yaml', device='', entity=None, epochs=90, evolve=False, exist_ok=False, global_rank=-1, hyp='my_hyp.yaml', image_weights=False, img_size=[1024, 1024], label_smoothing=0.0, linear_lr=False, local_rank=-1, multi_scale=False, name='exp', noautoanchor=False, nosave=False, notest=False, project='runs/train', quad=False, rect=False, resume=False, save_dir='runs/train/exp', save_period=-1, single_cls=False, sync_bn=False, total_batch_size=32, upload_dataset=False, weights='yolov5l.pt', workers=8, world_size=1)\n",
      "\u001b[34m\u001b[1mtensorboard: \u001b[0mStart with 'tensorboard --logdir runs/train', view at http://localhost:6006/\n",
      "\u001b[34m\u001b[1mhyperparameters: \u001b[0manchor_t=4.0, anchors=0, box=0.1, cls=1.0, cls_pw=0.5, degrees=90.0, fl_gamma=0.0, fliplr=0.5, flipud=0.4, hsv_h=0, hsv_s=0, hsv_v=0, iou_t=0.2, lr0=0.01, lrf=0.032, mixup=0.0, momentum=0.937, mosaic=0.9, obj=2.0, obj_pw=0.5, perspective=0.0, scale=0.5, shear=0.0, translate=0.2, warmup_bias_lr=0.1, warmup_epochs=3.0, warmup_momentum=0.8, weight_decay=0.0005\n",
      "\u001b[34m\u001b[1mwandb: \u001b[0mInstall Weights & Biases for YOLOv5 logging with 'pip install wandb' (recommended)\n",
      "Overriding model.yaml nc=80 with nc=2\n",
      "\n",
      "                 from  n    params  module                                  arguments                     \n",
      "  0                -1  1      7040  models.common.Focus                     [3, 64, 3]                    \n",
      "  1                -1  1     73984  models.common.Conv                      [64, 128, 3, 2]               \n",
      "  2                -1  1    156928  models.common.C3                        [128, 128, 3]                 \n",
      "  3                -1  1    295424  models.common.Conv                      [128, 256, 3, 2]              \n",
      "  4                -1  1   1611264  models.common.C3                        [256, 256, 9]                 \n",
      "  5                -1  1   1180672  models.common.Conv                      [256, 512, 3, 2]              \n",
      "  6                -1  1   6433792  models.common.C3                        [512, 512, 9]                 \n",
      "  7                -1  1   4720640  models.common.Conv                      [512, 1024, 3, 2]             \n",
      "  8                -1  1   2624512  models.common.SPP                       [1024, 1024, [5, 9, 13]]      \n",
      "  9                -1  1   9971712  models.common.C3                        [1024, 1024, 3, False]        \n",
      " 10                -1  1    525312  models.common.Conv                      [1024, 512, 1, 1]             \n",
      " 11                -1  1         0  torch.nn.modules.upsampling.Upsample    [None, 2, 'nearest']          \n",
      " 12           [-1, 6]  1         0  models.common.Concat                    [1]                           \n",
      " 13                -1  1   2757632  models.common.C3                        [1024, 512, 3, False]         \n",
      " 14                -1  1    131584  models.common.Conv                      [512, 256, 1, 1]              \n",
      " 15                -1  1         0  torch.nn.modules.upsampling.Upsample    [None, 2, 'nearest']          \n",
      " 16           [-1, 4]  1         0  models.common.Concat                    [1]                           \n",
      " 17                -1  1    690688  models.common.C3                        [512, 256, 3, False]          \n",
      " 18                -1  1    590336  models.common.Conv                      [256, 256, 3, 2]              \n",
      " 19          [-1, 14]  1         0  models.common.Concat                    [1]                           \n",
      " 20                -1  1   2495488  models.common.C3                        [512, 512, 3, False]          \n",
      " 21                -1  1   2360320  models.common.Conv                      [512, 512, 3, 2]              \n",
      " 22          [-1, 10]  1         0  models.common.Concat                    [1]                           \n",
      " 23                -1  1   9971712  models.common.C3                        [1024, 1024, 3, False]        \n",
      " 24      [17, 20, 23]  1     37695  models.yolo.Detect                      [2, [[10, 13, 16, 30, 33, 23], [30, 61, 62, 45, 59, 119], [116, 90, 156, 198, 373, 326]], [256, 512, 1024]]\n",
      "/usr/local/lib/python3.8/dist-packages/torch/functional.py:599: UserWarning: torch.meshgrid: in an upcoming release, it will be required to pass the indexing argument. (Triggered internally at  ../aten/src/ATen/native/TensorShape.cpp:2315.)\n",
      "  return _VF.meshgrid(tensors, **kwargs)  # type: ignore[attr-defined]\n",
      "Model Summary: 499 layers, 46636735 parameters, 46636735 gradients, 114.6 GFLOPS\n",
      "\n",
      "/usr/local/lib/python3.8/dist-packages/torch/nn/modules/module.py:1383: UserWarning: positional arguments and argument \"destination\" are deprecated. nn.Module.state_dict will not accept them in the future. Refer to https://pytorch.org/docs/master/generated/torch.nn.Module.html#torch.nn.Module.state_dict for details.\n",
      "  warnings.warn(\n",
      "Transferred 644/650 items from yolov5l.pt\n",
      "Scaled weight_decay = 0.0005\n",
      "Optimizer groups: 110 .bias, 110 conv.weight, 107 other\n",
      "\u001b[34m\u001b[1mtrain: \u001b[0mScanning 'base_dir/labels/train' images and labels... 1001 found, 172 mis\u001b[0m\n",
      "\u001b[34m\u001b[1mtrain: \u001b[0mNew cache created: base_dir/labels/train.cache\n",
      "\u001b[34m\u001b[1mval: \u001b[0mScanning 'base_dir/labels/validation' images and labels... 112 found, 20 mi\u001b[0m\n",
      "\u001b[34m\u001b[1mval: \u001b[0mNew cache created: base_dir/labels/validation.cache\n",
      "Plotting labels... \n",
      "\n",
      "\u001b[34m\u001b[1mautoanchor: \u001b[0mAnalyzing anchors... anchors/target = 5.97, Best Possible Recall (BPR) = 1.0000\n",
      "Image sizes 1024 train, 1024 test\n",
      "Using 8 dataloader workers\n",
      "Logging results to runs/train/exp\n",
      "Starting training for 90 epochs...\n",
      "\n",
      "     Epoch   gpu_mem       box       obj       cls     total    labels  img_size\n",
      "  0%|                                                    | 0/37 [00:00<?, ?it/s]/usr/local/lib/python3.8/dist-packages/torch/nn/modules/module.py:1383: UserWarning: positional arguments and argument \"destination\" are deprecated. nn.Module.state_dict will not accept them in the future. Refer to https://pytorch.org/docs/master/generated/torch.nn.Module.html#torch.nn.Module.state_dict for details.\n",
      "  warnings.warn(\n",
      "      0/89       19G     0.191   0.05032   0.02721    0.2685        33      1024\n",
      "               Class      Images      Labels           P           R      mAP@.5\n",
      "                 all         132         112     0.00151      0.0268    0.000576     0.00011\n",
      "\n",
      "     Epoch   gpu_mem       box       obj       cls     total    labels  img_size\n",
      "      1/89     22.8G    0.1504   0.02672   0.00802    0.1851        21      1024\n",
      "               Class      Images      Labels           P           R      mAP@.5\n",
      "                 all         132         112      0.0562       0.179      0.0371     0.00714\n",
      "\n",
      "     Epoch   gpu_mem       box       obj       cls     total    labels  img_size\n",
      "      2/89     22.8G    0.1289   0.02454  0.003507    0.1569        25      1024\n",
      "               Class      Images      Labels           P           R      mAP@.5\n",
      "                 all         132         112      0.0859       0.188       0.051      0.0132\n",
      "\n",
      "     Epoch   gpu_mem       box       obj       cls     total    labels  img_size\n",
      "      3/89     22.8G    0.1176   0.02311  0.002673    0.1434        27      1024\n",
      "               Class      Images      Labels           P           R      mAP@.5\n",
      "                 all         132         112       0.162       0.196      0.0571      0.0118\n",
      "\n",
      "     Epoch   gpu_mem       box       obj       cls     total    labels  img_size\n",
      "      4/89     22.8G    0.1144   0.02224  0.002405    0.1391        27      1024\n",
      "               Class      Images      Labels           P           R      mAP@.5\n",
      "                 all         132         112       0.442       0.375        0.32      0.0836\n",
      "\n",
      "     Epoch   gpu_mem       box       obj       cls     total    labels  img_size\n",
      "      5/89     22.8G    0.1095   0.02153  0.002063    0.1331        26      1024\n",
      "               Class      Images      Labels           P           R      mAP@.5\n",
      "                 all         132         112       0.446       0.321       0.305         0.1\n",
      "\n",
      "     Epoch   gpu_mem       box       obj       cls     total    labels  img_size\n",
      "      6/89     22.8G      0.11   0.01944  0.001832    0.1312        28      1024\n",
      "               Class      Images      Labels           P           R      mAP@.5\n",
      "                 all         132         112       0.273       0.357       0.196      0.0495\n",
      "\n",
      "     Epoch   gpu_mem       box       obj       cls     total    labels  img_size\n",
      "      7/89     22.8G    0.1075   0.01887  0.001752    0.1282        26      1024\n",
      "               Class      Images      Labels           P           R      mAP@.5\n",
      "                 all         132         112       0.244        0.33       0.193      0.0445\n",
      "\n",
      "     Epoch   gpu_mem       box       obj       cls     total    labels  img_size\n",
      "      8/89     22.8G    0.1092   0.01811  0.001696     0.129        28      1024\n",
      "               Class      Images      Labels           P           R      mAP@.5\n",
      "                 all         132         112       0.597       0.462       0.421       0.137\n",
      "\n",
      "     Epoch   gpu_mem       box       obj       cls     total    labels  img_size\n",
      "      9/89     22.8G    0.1066   0.01774  0.001499    0.1258        25      1024\n",
      "               Class      Images      Labels           P           R      mAP@.5\n",
      "                 all         132         112       0.626       0.463       0.448        0.14\n",
      "\n",
      "     Epoch   gpu_mem       box       obj       cls     total    labels  img_size\n",
      "     10/89     22.8G    0.1052   0.01735  0.001508     0.124        28      1024\n",
      "               Class      Images      Labels           P           R      mAP@.5\n",
      "                 all         132         112       0.443       0.339       0.337      0.0895\n",
      "\n",
      "     Epoch   gpu_mem       box       obj       cls     total    labels  img_size\n",
      "     11/89     22.8G    0.1044   0.01668  0.001346    0.1224        29      1024\n",
      "               Class      Images      Labels           P           R      mAP@.5\n",
      "                 all         132         112       0.464       0.402        0.34      0.0878\n",
      "\n",
      "     Epoch   gpu_mem       box       obj       cls     total    labels  img_size\n",
      "     12/89     22.8G    0.1044   0.01699  0.001248    0.1227        30      1024\n",
      "               Class      Images      Labels           P           R      mAP@.5\n",
      "                 all         132         112       0.557       0.393       0.398       0.108\n",
      "\n",
      "     Epoch   gpu_mem       box       obj       cls     total    labels  img_size\n",
      "     13/89     22.8G    0.1074   0.01673  0.001436    0.1256        29      1024\n",
      "               Class      Images      Labels           P           R      mAP@.5\n",
      "                 all         132         112       0.321        0.33       0.227      0.0568\n",
      "\n",
      "     Epoch   gpu_mem       box       obj       cls     total    labels  img_size\n",
      "     14/89     22.8G    0.1112   0.01656  0.001797    0.1296        23      1024\n",
      "               Class      Images      Labels           P           R      mAP@.5\n",
      "                 all         132         112       0.412       0.491       0.346       0.107\n",
      "\n",
      "     Epoch   gpu_mem       box       obj       cls     total    labels  img_size\n",
      "     15/89     22.8G    0.1076   0.01698  0.001594    0.1262        24      1024\n",
      "               Class      Images      Labels           P           R      mAP@.5\n",
      "                 all         132         112       0.532       0.438       0.401       0.153\n",
      "\n",
      "     Epoch   gpu_mem       box       obj       cls     total    labels  img_size\n",
      "     16/89     22.8G    0.1066   0.01627  0.001639    0.1245        19      1024\n",
      "               Class      Images      Labels           P           R      mAP@.5\n",
      "                 all         132         112       0.387       0.384       0.263      0.0693\n",
      "\n",
      "     Epoch   gpu_mem       box       obj       cls     total    labels  img_size\n",
      "     17/89     22.8G    0.1054   0.01624  0.001454    0.1231        31      1024\n",
      "               Class      Images      Labels           P           R      mAP@.5\n",
      "                 all         132         112       0.533       0.428       0.423       0.126\n",
      "\n",
      "     Epoch   gpu_mem       box       obj       cls     total    labels  img_size\n",
      "     18/89     22.8G    0.1054   0.01659  0.001339    0.1234        24      1024\n",
      "               Class      Images      Labels           P           R      mAP@.5\n",
      "                 all         132         112       0.565       0.429       0.422       0.144\n",
      "\n",
      "     Epoch   gpu_mem       box       obj       cls     total    labels  img_size\n",
      "     19/89     22.8G     0.103    0.0161  0.001239    0.1203        23      1024\n",
      "               Class      Images      Labels           P           R      mAP@.5\n",
      "                 all         132         112       0.349        0.25       0.197      0.0448\n",
      "\n",
      "     Epoch   gpu_mem       box       obj       cls     total    labels  img_size\n",
      "     20/89     22.8G    0.1048   0.01591  0.001127    0.1218        32      1024\n",
      "               Class      Images      Labels           P           R      mAP@.5\n",
      "                 all         132         112       0.769       0.446       0.532       0.138\n",
      "\n",
      "     Epoch   gpu_mem       box       obj       cls     total    labels  img_size\n",
      "     21/89     22.8G    0.1052   0.01617    0.0012    0.1226        29      1024\n",
      "               Class      Images      Labels           P           R      mAP@.5\n",
      "                 all         132         112       0.684       0.445       0.512       0.151\n",
      "\n",
      "     Epoch   gpu_mem       box       obj       cls     total    labels  img_size\n",
      "     22/89     22.8G    0.1057   0.01651  0.001114    0.1233        28      1024\n",
      "               Class      Images      Labels           P           R      mAP@.5\n",
      "                 all         132         112       0.471       0.373       0.278      0.0849\n",
      "\n",
      "     Epoch   gpu_mem       box       obj       cls     total    labels  img_size\n",
      "     23/89     22.8G    0.1037   0.01576  0.001119    0.1206        24      1024\n",
      "               Class      Images      Labels           P           R      mAP@.5\n",
      "                 all         132         112       0.542       0.402       0.361        0.12\n",
      "\n",
      "     Epoch   gpu_mem       box       obj       cls     total    labels  img_size\n",
      "     24/89     22.8G    0.1025   0.01596  0.001002    0.1195        21      1024\n",
      "               Class      Images      Labels           P           R      mAP@.5\n",
      "                 all         132         112       0.424       0.401       0.341      0.0967\n",
      "\n",
      "     Epoch   gpu_mem       box       obj       cls     total    labels  img_size\n",
      "     25/89     22.8G    0.1042   0.01593 0.0009769    0.1211        18      1024\n",
      "               Class      Images      Labels           P           R      mAP@.5\n",
      "                 all         132         112       0.442       0.346       0.299      0.0889\n",
      "\n",
      "     Epoch   gpu_mem       box       obj       cls     total    labels  img_size\n",
      "     26/89     22.8G    0.1032   0.01609 0.0009386    0.1202        26      1024\n",
      "               Class      Images      Labels           P           R      mAP@.5\n",
      "                 all         132         112       0.531       0.518        0.49       0.156\n",
      "\n",
      "     Epoch   gpu_mem       box       obj       cls     total    labels  img_size\n",
      "     27/89     22.8G    0.1013   0.01582 0.0008381    0.1179        21      1024\n",
      "               Class      Images      Labels           P           R      mAP@.5\n",
      "                 all         132         112       0.413       0.339       0.298      0.0831\n",
      "\n",
      "     Epoch   gpu_mem       box       obj       cls     total    labels  img_size\n",
      "     28/89     22.8G     0.102   0.01629 0.0008651    0.1191        29      1024\n",
      "               Class      Images      Labels           P           R      mAP@.5\n",
      "                 all         132         112       0.584       0.464       0.405       0.118\n",
      "\n",
      "     Epoch   gpu_mem       box       obj       cls     total    labels  img_size\n",
      "     29/89     22.8G    0.1007   0.01541 0.0007362    0.1169        31      1024\n",
      "               Class      Images      Labels           P           R      mAP@.5\n",
      "                 all         132         112       0.541       0.453       0.426       0.157\n",
      "\n",
      "     Epoch   gpu_mem       box       obj       cls     total    labels  img_size\n",
      "     30/89     22.8G   0.09834   0.01543  0.000675    0.1144        27      1024\n",
      "               Class      Images      Labels           P           R      mAP@.5\n",
      "                 all         132         112       0.436       0.373       0.273      0.0734\n",
      "\n",
      "     Epoch   gpu_mem       box       obj       cls     total    labels  img_size\n",
      "     31/89     22.8G    0.1003   0.01555 0.0007275    0.1166        29      1024\n",
      "               Class      Images      Labels           P           R      mAP@.5\n",
      "                 all         132         112       0.534       0.545       0.483       0.188\n",
      "\n",
      "     Epoch   gpu_mem       box       obj       cls     total    labels  img_size\n",
      "     32/89     22.8G    0.0982   0.01574 0.0006248    0.1146        29      1024\n",
      "               Class      Images      Labels           P           R      mAP@.5\n",
      "                 all         132         112       0.455       0.402        0.35       0.122\n",
      "\n",
      "     Epoch   gpu_mem       box       obj       cls     total    labels  img_size\n",
      "     33/89     22.8G   0.09743    0.0154  0.000544    0.1134        31      1024\n",
      "               Class      Images      Labels           P           R      mAP@.5\n",
      "                 all         132         112       0.662       0.375       0.406       0.139\n",
      "\n",
      "     Epoch   gpu_mem       box       obj       cls     total    labels  img_size\n",
      "     34/89     22.8G   0.09571   0.01529 0.0004921    0.1115        24      1024\n",
      "               Class      Images      Labels           P           R      mAP@.5\n",
      "                 all         132         112       0.493       0.464        0.41       0.156\n",
      "\n",
      "     Epoch   gpu_mem       box       obj       cls     total    labels  img_size\n",
      "     35/89     22.8G   0.09675   0.01557 0.0005801    0.1129        32      1024\n",
      "               Class      Images      Labels           P           R      mAP@.5\n",
      "                 all         132         112        0.39       0.491       0.376       0.105\n",
      "\n",
      "     Epoch   gpu_mem       box       obj       cls     total    labels  img_size\n",
      "     36/89     22.8G   0.09442    0.0156 0.0005252    0.1106        26      1024\n",
      "               Class      Images      Labels           P           R      mAP@.5\n",
      "                 all         132         112       0.711       0.571       0.629       0.238\n",
      "\n",
      "     Epoch   gpu_mem       box       obj       cls     total    labels  img_size\n",
      "     37/89     22.8G   0.09667   0.01542 0.0005273    0.1126        30      1024\n",
      "               Class      Images      Labels           P           R      mAP@.5\n",
      "                 all         132         112       0.571       0.464       0.514        0.17\n",
      "\n",
      "     Epoch   gpu_mem       box       obj       cls     total    labels  img_size\n",
      "     38/89     22.8G   0.09294    0.0156 0.0004594     0.109        21      1024\n",
      "               Class      Images      Labels           P           R      mAP@.5\n",
      "                 all         132         112       0.652       0.518       0.472       0.155\n",
      "\n",
      "     Epoch   gpu_mem       box       obj       cls     total    labels  img_size\n",
      "     39/89     22.8G   0.09262   0.01474 0.0004387    0.1078        23      1024\n",
      "               Class      Images      Labels           P           R      mAP@.5\n",
      "                 all         132         112       0.682       0.499       0.481       0.153\n",
      "\n",
      "     Epoch   gpu_mem       box       obj       cls     total    labels  img_size\n",
      "     40/89     22.8G   0.09339   0.01513  0.000469     0.109        31      1024\n",
      "               Class      Images      Labels           P           R      mAP@.5\n",
      "                 all         132         112       0.595       0.473       0.418       0.123\n",
      "\n",
      "     Epoch   gpu_mem       box       obj       cls     total    labels  img_size\n",
      "     41/89     22.8G   0.09144   0.01512 0.0004525     0.107        25      1024\n",
      "               Class      Images      Labels           P           R      mAP@.5\n",
      "                 all         132         112       0.584       0.518       0.514       0.207\n",
      "\n",
      "     Epoch   gpu_mem       box       obj       cls     total    labels  img_size\n",
      "     42/89     22.8G   0.09016   0.01527 0.0003879    0.1058        25      1024\n",
      "               Class      Images      Labels           P           R      mAP@.5\n",
      "                 all         132         112        0.61       0.544       0.543       0.224\n",
      "\n",
      "     Epoch   gpu_mem       box       obj       cls     total    labels  img_size\n",
      "     43/89     22.8G   0.09062   0.01501 0.0003926     0.106        24      1024\n",
      "               Class      Images      Labels           P           R      mAP@.5\n",
      "                 all         132         112       0.589         0.5       0.459       0.184\n",
      "\n",
      "     Epoch   gpu_mem       box       obj       cls     total    labels  img_size\n",
      "     44/89     22.8G   0.08767   0.01509 0.0003463    0.1031        22      1024\n",
      "               Class      Images      Labels           P           R      mAP@.5\n",
      "                 all         132         112       0.699        0.58       0.619       0.235\n",
      "\n",
      "     Epoch   gpu_mem       box       obj       cls     total    labels  img_size\n",
      "     45/89     22.8G   0.08702   0.01551 0.0003292    0.1029        27      1024\n",
      "               Class      Images      Labels           P           R      mAP@.5\n",
      "                 all         132         112       0.756         0.5       0.584       0.214\n",
      "\n",
      "     Epoch   gpu_mem       box       obj       cls     total    labels  img_size\n",
      "     46/89     22.8G   0.08692   0.01455 0.0003341    0.1018        25      1024\n",
      "               Class      Images      Labels           P           R      mAP@.5\n",
      "                 all         132         112       0.667       0.518       0.538       0.172\n",
      "\n",
      "     Epoch   gpu_mem       box       obj       cls     total    labels  img_size\n",
      "     47/89     22.8G   0.08741   0.01519 0.0003527     0.103        21      1024\n",
      "               Class      Images      Labels           P           R      mAP@.5\n",
      "                 all         132         112       0.688       0.482       0.503       0.214\n",
      "\n",
      "     Epoch   gpu_mem       box       obj       cls     total    labels  img_size\n",
      "     48/89     22.8G     0.087   0.01461 0.0003374     0.102        21      1024\n",
      "               Class      Images      Labels           P           R      mAP@.5\n",
      "                 all         132         112       0.656       0.595       0.595        0.24\n",
      "\n",
      "     Epoch   gpu_mem       box       obj       cls     total    labels  img_size\n",
      "     49/89     22.8G   0.08537   0.01462 0.0003094    0.1003        30      1024\n",
      "               Class      Images      Labels           P           R      mAP@.5\n",
      "                 all         132         112       0.609       0.571       0.577       0.256\n",
      "\n",
      "     Epoch   gpu_mem       box       obj       cls     total    labels  img_size\n",
      "     50/89     22.8G   0.08337   0.01503 0.0002871   0.09869        21      1024\n",
      "               Class      Images      Labels           P           R      mAP@.5\n",
      "                 all         132         112       0.684       0.561       0.578       0.245\n",
      "\n",
      "     Epoch   gpu_mem       box       obj       cls     total    labels  img_size\n",
      "     51/89     22.8G   0.08464   0.01437 0.0003036   0.09931        29      1024\n",
      "               Class      Images      Labels           P           R      mAP@.5\n",
      "                 all         132         112       0.595       0.616       0.579        0.22\n",
      "\n",
      "     Epoch   gpu_mem       box       obj       cls     total    labels  img_size\n",
      "     52/89     22.8G    0.0846   0.01479 0.0002911   0.09969        24      1024\n",
      "               Class      Images      Labels           P           R      mAP@.5\n",
      "                 all         132         112       0.507       0.411       0.375       0.128\n",
      "\n",
      "     Epoch   gpu_mem       box       obj       cls     total    labels  img_size\n",
      "     53/89     22.8G   0.08303   0.01476 0.0002803   0.09807        26      1024\n",
      "               Class      Images      Labels           P           R      mAP@.5\n",
      "                 all         132         112       0.766         0.5       0.574       0.228\n",
      "\n",
      "     Epoch   gpu_mem       box       obj       cls     total    labels  img_size\n",
      "     54/89     22.8G   0.08198   0.01463 0.0002889    0.0969        24      1024\n",
      "               Class      Images      Labels           P           R      mAP@.5\n",
      "                 all         132         112       0.706       0.535       0.531         0.2\n",
      "\n",
      "     Epoch   gpu_mem       box       obj       cls     total    labels  img_size\n",
      "     55/89     22.8G   0.08335   0.01461 0.0002871   0.09825        26      1024\n",
      "               Class      Images      Labels           P           R      mAP@.5\n",
      "                 all         132         112       0.749       0.482       0.548       0.222\n",
      "\n",
      "     Epoch   gpu_mem       box       obj       cls     total    labels  img_size\n",
      "     56/89     22.8G   0.08252   0.01478 0.0002684   0.09757        26      1024\n",
      "               Class      Images      Labels           P           R      mAP@.5\n",
      "                 all         132         112        0.72       0.554       0.597        0.25\n",
      "\n",
      "     Epoch   gpu_mem       box       obj       cls     total    labels  img_size\n",
      "     57/89     22.8G     0.083   0.01429 0.0002572   0.09755        25      1024\n",
      "               Class      Images      Labels           P           R      mAP@.5\n",
      "                 all         132         112       0.629       0.607       0.604       0.245\n",
      "\n",
      "     Epoch   gpu_mem       box       obj       cls     total    labels  img_size\n",
      "     58/89     22.8G   0.08159   0.01451 0.0002578   0.09636        28      1024\n",
      "               Class      Images      Labels           P           R      mAP@.5\n",
      "                 all         132         112       0.719       0.571       0.604        0.25\n",
      "\n",
      "     Epoch   gpu_mem       box       obj       cls     total    labels  img_size\n",
      "     59/89     22.8G   0.08117   0.01415 0.0002486   0.09557        33      1024\n",
      "               Class      Images      Labels           P           R      mAP@.5\n",
      "                 all         132         112       0.651       0.517        0.53       0.222\n",
      "\n",
      "     Epoch   gpu_mem       box       obj       cls     total    labels  img_size\n",
      "     60/89     22.8G   0.08172   0.01445 0.0002534   0.09643        23      1024\n",
      "               Class      Images      Labels           P           R      mAP@.5\n",
      "                 all         132         112       0.689       0.553        0.59       0.225\n",
      "\n",
      "     Epoch   gpu_mem       box       obj       cls     total    labels  img_size\n",
      "     61/89     22.8G    0.0795   0.01446   0.00024   0.09419        21      1024\n",
      "               Class      Images      Labels           P           R      mAP@.5\n",
      "                 all         132         112        0.82       0.571       0.617       0.248\n",
      "\n",
      "     Epoch   gpu_mem       box       obj       cls     total    labels  img_size\n",
      "     62/89     22.8G   0.07816   0.01424 0.0002278   0.09263        22      1024\n",
      "               Class      Images      Labels           P           R      mAP@.5\n",
      "                 all         132         112       0.792       0.545       0.601       0.232\n",
      "\n",
      "     Epoch   gpu_mem       box       obj       cls     total    labels  img_size\n",
      "     63/89     22.8G   0.08067   0.01373 0.0002294   0.09463        22      1024\n",
      "               Class      Images      Labels           P           R      mAP@.5\n",
      "                 all         132         112       0.714        0.58       0.623       0.262\n",
      "\n",
      "     Epoch   gpu_mem       box       obj       cls     total    labels  img_size\n",
      "     64/89     22.8G   0.07693   0.01361 0.0002097   0.09074        18      1024\n",
      "               Class      Images      Labels           P           R      mAP@.5\n",
      "                 all         132         112       0.596        0.58       0.579       0.254\n",
      "\n",
      "     Epoch   gpu_mem       box       obj       cls     total    labels  img_size\n",
      "     65/89     22.8G    0.0777   0.01419 0.0002115    0.0921        25      1024\n",
      "               Class      Images      Labels           P           R      mAP@.5\n",
      "                 all         132         112       0.787       0.562       0.631       0.262\n",
      "\n",
      "     Epoch   gpu_mem       box       obj       cls     total    labels  img_size\n",
      "     66/89     22.8G   0.07725   0.01433 0.0002084   0.09179        21      1024\n",
      "               Class      Images      Labels           P           R      mAP@.5\n",
      "                 all         132         112       0.782       0.545       0.599       0.263\n",
      "\n",
      "     Epoch   gpu_mem       box       obj       cls     total    labels  img_size\n",
      "     67/89     22.8G   0.07614   0.01395 0.0002031   0.09029        31      1024\n",
      "               Class      Images      Labels           P           R      mAP@.5\n",
      "                 all         132         112         0.8       0.535       0.639       0.275\n",
      "\n",
      "     Epoch   gpu_mem       box       obj       cls     total    labels  img_size\n",
      "     68/89     22.8G   0.07488   0.01422 0.0002045   0.08931        23      1024\n",
      "               Class      Images      Labels           P           R      mAP@.5\n",
      "                 all         132         112       0.768       0.562       0.652       0.302\n",
      "\n",
      "     Epoch   gpu_mem       box       obj       cls     total    labels  img_size\n",
      "     69/89     22.8G   0.07528    0.0133 0.0001922   0.08876        28      1024\n",
      "               Class      Images      Labels           P           R      mAP@.5\n",
      "                 all         132         112       0.775       0.554       0.658       0.299\n",
      "\n",
      "     Epoch   gpu_mem       box       obj       cls     total    labels  img_size\n",
      "     70/89     22.8G    0.0744   0.01392 0.0001792    0.0885        26      1024\n",
      "               Class      Images      Labels           P           R      mAP@.5\n",
      "                 all         132         112       0.724       0.634       0.646       0.282\n",
      "\n",
      "     Epoch   gpu_mem       box       obj       cls     total    labels  img_size\n",
      "     71/89     22.8G   0.07481   0.01388 0.0001821   0.08886        26      1024\n",
      "               Class      Images      Labels           P           R      mAP@.5\n",
      "                 all         132         112        0.72       0.598       0.658       0.287\n",
      "\n",
      "     Epoch   gpu_mem       box       obj       cls     total    labels  img_size\n",
      "     72/89     22.8G   0.07429   0.01423 0.0001738   0.08868        26      1024\n",
      "               Class      Images      Labels           P           R      mAP@.5\n",
      "                 all         132         112       0.814       0.554       0.647       0.273\n",
      "\n",
      "     Epoch   gpu_mem       box       obj       cls     total    labels  img_size\n",
      "     73/89     22.8G   0.07543   0.01419 0.0001761    0.0898        23      1024\n",
      "               Class      Images      Labels           P           R      mAP@.5\n",
      "                 all         132         112       0.823        0.58       0.663       0.295\n",
      "\n",
      "     Epoch   gpu_mem       box       obj       cls     total    labels  img_size\n",
      "     74/89     22.8G    0.0718   0.01401 0.0001674   0.08598        20      1024\n",
      "               Class      Images      Labels           P           R      mAP@.5\n",
      "                 all         132         112       0.716       0.607       0.653       0.295\n",
      "\n",
      "     Epoch   gpu_mem       box       obj       cls     total    labels  img_size\n",
      "     75/89     22.8G   0.07421   0.01371  0.000165   0.08808        27      1024\n",
      "               Class      Images      Labels           P           R      mAP@.5\n",
      "                 all         132         112       0.683       0.598       0.614       0.277\n",
      "\n",
      "     Epoch   gpu_mem       box       obj       cls     total    labels  img_size\n",
      "     76/89     22.8G   0.07233   0.01361 0.0001615    0.0861        25      1024\n",
      "               Class      Images      Labels           P           R      mAP@.5\n",
      "                 all         132         112       0.793        0.58       0.667       0.287\n",
      "\n",
      "     Epoch   gpu_mem       box       obj       cls     total    labels  img_size\n",
      "     77/89     22.8G   0.07182   0.01375 0.0001534   0.08572        28      1024\n",
      "               Class      Images      Labels           P           R      mAP@.5\n",
      "                 all         132         112       0.765        0.58       0.651       0.297\n",
      "\n",
      "     Epoch   gpu_mem       box       obj       cls     total    labels  img_size\n",
      "     78/89     22.8G   0.07124   0.01463 0.0001534   0.08603        32      1024\n",
      "               Class      Images      Labels           P           R      mAP@.5\n",
      "                 all         132         112       0.802       0.544       0.639         0.3\n",
      "\n",
      "     Epoch   gpu_mem       box       obj       cls     total    labels  img_size\n",
      "     79/89     22.8G    0.0711   0.01364 0.0001455   0.08489        36      1024\n",
      "               Class      Images      Labels           P           R      mAP@.5\n",
      "                 all         132         112        0.78       0.571        0.66       0.294\n",
      "\n",
      "     Epoch   gpu_mem       box       obj       cls     total    labels  img_size\n",
      "     80/89     22.8G   0.06995   0.01363 0.0001441   0.08372        27      1024\n",
      "               Class      Images      Labels           P           R      mAP@.5\n",
      "                 all         132         112       0.778       0.562       0.623       0.291\n",
      "\n",
      "     Epoch   gpu_mem       box       obj       cls     total    labels  img_size\n",
      "     81/89     22.8G   0.06974   0.01319 0.0001411   0.08307        22      1024\n",
      "               Class      Images      Labels           P           R      mAP@.5\n",
      "                 all         132         112       0.776       0.589       0.662       0.295\n",
      "\n",
      "     Epoch   gpu_mem       box       obj       cls     total    labels  img_size\n",
      "     82/89     22.8G   0.06866   0.01349 0.0001355   0.08228        16      1024\n",
      "               Class      Images      Labels           P           R      mAP@.5\n",
      "                 all         132         112       0.788       0.598       0.676       0.308\n",
      "\n",
      "     Epoch   gpu_mem       box       obj       cls     total    labels  img_size\n",
      "     83/89     22.8G   0.06936   0.01341 0.0001414   0.08291        26      1024\n",
      "               Class      Images      Labels           P           R      mAP@.5\n",
      "                 all         132         112       0.784       0.589       0.641         0.3\n",
      "\n",
      "     Epoch   gpu_mem       box       obj       cls     total    labels  img_size\n",
      "     84/89     22.8G    0.0689   0.01343 0.0001379   0.08247        24      1024\n",
      "               Class      Images      Labels           P           R      mAP@.5\n",
      "                 all         132         112        0.76       0.598       0.651         0.3\n",
      "\n",
      "     Epoch   gpu_mem       box       obj       cls     total    labels  img_size\n",
      "     85/89     22.8G   0.06888   0.01344  0.000142   0.08246        29      1024\n",
      "               Class      Images      Labels           P           R      mAP@.5\n",
      "                 all         132         112       0.778       0.562       0.643       0.289\n",
      "\n",
      "     Epoch   gpu_mem       box       obj       cls     total    labels  img_size\n",
      "     86/89     22.8G   0.06916   0.01356 0.0001425   0.08286        24      1024\n",
      "               Class      Images      Labels           P           R      mAP@.5\n",
      "                 all         132         112       0.802        0.58        0.64       0.294\n",
      "\n",
      "     Epoch   gpu_mem       box       obj       cls     total    labels  img_size\n",
      "     87/89     22.8G   0.06781   0.01339 0.0001375   0.08133        23      1024\n",
      "               Class      Images      Labels           P           R      mAP@.5\n",
      "                 all         132         112       0.741       0.589       0.653         0.3\n",
      "\n",
      "     Epoch   gpu_mem       box       obj       cls     total    labels  img_size\n",
      "     88/89     22.8G   0.06923   0.01362 0.0001378   0.08298        29      1024\n",
      "               Class      Images      Labels           P           R      mAP@.5\n",
      "                 all         132         112       0.753       0.571       0.646       0.297\n",
      "\n",
      "     Epoch   gpu_mem       box       obj       cls     total    labels  img_size\n",
      "     89/89     22.8G   0.06716   0.01325 0.0001377   0.08056        30      1024\n",
      "               Class      Images      Labels           P           R      mAP@.5\n",
      "                 all         132         112       0.773        0.58       0.645       0.299\n",
      "                   1         132         112       0.773        0.58       0.645       0.299\n",
      "90 epochs completed in 0.879 hours.\n",
      "\n",
      "Optimizer stripped from runs/train/exp/weights/last.pt, 93.8MB\n",
      "Optimizer stripped from runs/train/exp/weights/best.pt, 93.8MB\n"
     ]
    }
   ],
   "source": [
    "# Path to the weights stored in the yolov5 folder\n",
    "yolo_model_path = 'yolov5l.pt'\n",
    "\n",
    "\n",
    "# Note that now hyp=my_hyp.yaml in the printout below.\n",
    "!WANDB_MODE=\"dryrun\" python train.py --img $IMAGE_SIZE --batch $BATCH_SIZE --epochs $NUM_EPOCHS --data my_data.yaml --hyp my_hyp.yaml --weights $yolo_model_path\n"
   ]
  },
  {
   "cell_type": "code",
   "execution_count": null,
   "metadata": {
    "papermill": {
     "duration": 4.359494,
     "end_time": "2021-07-18T06:53:14.249096",
     "exception": false,
     "start_time": "2021-07-18T06:53:09.889602",
     "status": "completed"
    },
    "tags": []
   },
   "outputs": [],
   "source": []
  },
  {
   "cell_type": "markdown",
   "metadata": {
    "papermill": {
     "duration": 3.382839,
     "end_time": "2021-07-18T06:53:20.977817",
     "exception": false,
     "start_time": "2021-07-18T06:53:17.594978",
     "status": "completed"
    },
    "tags": []
   },
   "source": [
    "## Copy the trained model\n",
    "\n",
    "We will copy the trained model to the Kaggle working directory. This will make the model easier to access."
   ]
  },
  {
   "cell_type": "code",
   "execution_count": 38,
   "metadata": {
    "execution": {
     "iopub.execute_input": "2022-11-28T02:17:11.539997Z",
     "iopub.status.busy": "2022-11-28T02:17:11.539505Z",
     "iopub.status.idle": "2022-11-28T02:17:11.549161Z",
     "shell.execute_reply": "2022-11-28T02:17:11.547706Z",
     "shell.execute_reply.started": "2022-11-28T02:17:11.539945Z"
    },
    "papermill": {
     "duration": 3.680092,
     "end_time": "2021-07-18T06:53:27.975342",
     "exception": false,
     "start_time": "2021-07-18T06:53:24.29525",
     "status": "completed"
    },
    "tags": []
   },
   "outputs": [
    {
     "data": {
      "text/plain": [
       "['last.pt', 'best.pt']"
      ]
     },
     "execution_count": 38,
     "metadata": {},
     "output_type": "execute_result"
    }
   ],
   "source": [
    "# This is where the trained model is stored\n",
    "\n",
    "path = 'runs/train/exp/weights/'\n",
    "\n",
    "os.listdir(path)"
   ]
  },
  {
   "cell_type": "code",
   "execution_count": 39,
   "metadata": {
    "execution": {
     "iopub.execute_input": "2022-11-28T02:17:11.550813Z",
     "iopub.status.busy": "2022-11-28T02:17:11.550485Z",
     "iopub.status.idle": "2022-11-28T02:17:12.646604Z",
     "shell.execute_reply": "2022-11-28T02:17:12.644930Z",
     "shell.execute_reply.started": "2022-11-28T02:17:11.550776Z"
    },
    "papermill": {
     "duration": 4.147132,
     "end_time": "2021-07-18T06:53:35.505998",
     "exception": false,
     "start_time": "2021-07-18T06:53:31.358866",
     "status": "completed"
    },
    "tags": []
   },
   "outputs": [
    {
     "name": "stdout",
     "output_type": "stream",
     "text": [
      "/bin/bash: warning: setlocale: LC_ALL: cannot change locale (en_US.UTF-8)\r\n",
      "/root\r\n"
     ]
    }
   ],
   "source": [
    "# change the working directory\n",
    "os.chdir(root)\n",
    "\n",
    "!pwd"
   ]
  },
  {
   "cell_type": "code",
   "execution_count": 40,
   "metadata": {
    "execution": {
     "iopub.execute_input": "2022-11-28T02:17:12.649105Z",
     "iopub.status.busy": "2022-11-28T02:17:12.648613Z",
     "iopub.status.idle": "2022-11-28T02:17:12.692633Z",
     "shell.execute_reply": "2022-11-28T02:17:12.690969Z",
     "shell.execute_reply.started": "2022-11-28T02:17:12.649070Z"
    },
    "papermill": {
     "duration": 4.267281,
     "end_time": "2021-07-18T06:53:43.461979",
     "exception": false,
     "start_time": "2021-07-18T06:53:39.194698",
     "status": "completed"
    },
    "tags": []
   },
   "outputs": [
    {
     "name": "stdout",
     "output_type": "stream",
     "text": [
      "/bin/bash: warning: setlocale: LC_ALL: cannot change locale (en_US.UTF-8)\r\n",
      "VAST_Setup_Notebook_for_Mammo.ipynb\t\t   onstart.log\r\n",
      "best.pt\t\t\t\t\t\t   onstart.sh\r\n",
      "exp49_10f_df_data_w_folds.csv\t\t\t   ports.log\r\n",
      "exp51-mammo-vast-yolov5-5-0-yolov5l-new-aug.ipynb  requirements.txt\r\n",
      "input\t\t\t\t\t\t   smart-mammo-data\r\n",
      "my-yolov5-for-offline-use\t\t\t   yolov5\r\n"
     ]
    }
   ],
   "source": [
    "# Copy the best model to the kaggle/working\n",
    "\n",
    "shutil.copyfile(\n",
    "    f'{root}/yolov5/runs/train/exp/weights/best.pt',\n",
    "    f'{root}/best.pt')\n",
    "\n",
    "\n",
    "!ls"
   ]
  },
  {
   "cell_type": "markdown",
   "metadata": {
    "papermill": {
     "duration": 3.532048,
     "end_time": "2021-07-18T06:53:51.514652",
     "exception": false,
     "start_time": "2021-07-18T06:53:47.982604",
     "status": "completed"
    },
    "tags": []
   },
   "source": [
    "## Get the name of the last experiment\n",
    "\n",
    "Yolov5 saves every training run as an experiment."
   ]
  },
  {
   "cell_type": "code",
   "execution_count": 41,
   "metadata": {
    "execution": {
     "iopub.status.busy": "2022-11-28T02:17:12.693882Z",
     "iopub.status.idle": "2022-11-28T02:17:12.694280Z",
     "shell.execute_reply": "2022-11-28T02:17:12.694109Z",
     "shell.execute_reply.started": "2022-11-28T02:17:12.694091Z"
    },
    "papermill": {
     "duration": 4.55418,
     "end_time": "2021-07-18T06:53:59.475607",
     "exception": false,
     "start_time": "2021-07-18T06:53:54.921427",
     "status": "completed"
    },
    "tags": []
   },
   "outputs": [
    {
     "name": "stdout",
     "output_type": "stream",
     "text": [
      "/bin/bash: warning: setlocale: LC_ALL: cannot change locale (en_US.UTF-8)\r\n",
      "/root/yolov5\r\n"
     ]
    }
   ],
   "source": [
    "# change the working directory to yolov5\n",
    "os.chdir(f'{root}/yolov5')\n",
    "\n",
    "!pwd"
   ]
  },
  {
   "cell_type": "code",
   "execution_count": 42,
   "metadata": {
    "execution": {
     "iopub.status.busy": "2022-11-28T02:17:12.695454Z",
     "iopub.status.idle": "2022-11-28T02:17:12.696469Z",
     "shell.execute_reply": "2022-11-28T02:17:12.695809Z",
     "shell.execute_reply.started": "2022-11-28T02:17:12.695787Z"
    },
    "papermill": {
     "duration": 3.405475,
     "end_time": "2021-07-18T06:54:06.248916",
     "exception": false,
     "start_time": "2021-07-18T06:54:02.843441",
     "status": "completed"
    },
    "tags": []
   },
   "outputs": [
    {
     "data": {
      "text/plain": [
       "['exp']"
      ]
     },
     "execution_count": 42,
     "metadata": {},
     "output_type": "execute_result"
    }
   ],
   "source": [
    "os.listdir('runs/train/')"
   ]
  },
  {
   "cell_type": "code",
   "execution_count": 43,
   "metadata": {
    "execution": {
     "iopub.status.busy": "2022-11-28T02:17:12.698048Z",
     "iopub.status.idle": "2022-11-28T02:17:12.698436Z",
     "shell.execute_reply": "2022-11-28T02:17:12.698255Z",
     "shell.execute_reply.started": "2022-11-28T02:17:12.698237Z"
    },
    "papermill": {
     "duration": 3.377704,
     "end_time": "2021-07-18T06:54:13.375338",
     "exception": false,
     "start_time": "2021-07-18T06:54:09.997634",
     "status": "completed"
    },
    "tags": []
   },
   "outputs": [
    {
     "data": {
      "text/plain": [
       "['exp']"
      ]
     },
     "execution_count": 43,
     "metadata": {},
     "output_type": "execute_result"
    }
   ],
   "source": [
    "# get a list of experiments\n",
    "exp_list = os.listdir('runs/train/')\n",
    "\n",
    "exp_list"
   ]
  },
  {
   "cell_type": "code",
   "execution_count": 44,
   "metadata": {
    "execution": {
     "iopub.status.busy": "2022-11-28T02:17:12.700238Z",
     "iopub.status.idle": "2022-11-28T02:17:12.700931Z",
     "shell.execute_reply": "2022-11-28T02:17:12.700605Z",
     "shell.execute_reply.started": "2022-11-28T02:17:12.700571Z"
    },
    "papermill": {
     "duration": 4.272773,
     "end_time": "2021-07-18T06:54:21.146894",
     "exception": false,
     "start_time": "2021-07-18T06:54:16.874121",
     "status": "completed"
    },
    "tags": []
   },
   "outputs": [
    {
     "data": {
      "text/plain": [
       "'exp'"
      ]
     },
     "execution_count": 44,
     "metadata": {},
     "output_type": "execute_result"
    }
   ],
   "source": [
    "# Get the latest exp.\n",
    "# Because this is comitted on Kaggle there should be only one experiment.\n",
    "# Be careful here. Sometimes the latest experiment is the first list item and\n",
    "# sometimes it's the last item.\n",
    "exp = exp_list[0]\n",
    "\n",
    "exp"
   ]
  },
  {
   "cell_type": "code",
   "execution_count": 45,
   "metadata": {
    "execution": {
     "iopub.status.busy": "2022-11-28T02:17:12.703268Z",
     "iopub.status.idle": "2022-11-28T02:17:12.705324Z",
     "shell.execute_reply": "2022-11-28T02:17:12.705110Z",
     "shell.execute_reply.started": "2022-11-28T02:17:12.705088Z"
    },
    "papermill": {
     "duration": 3.352582,
     "end_time": "2021-07-18T06:54:27.864267",
     "exception": false,
     "start_time": "2021-07-18T06:54:24.511685",
     "status": "completed"
    },
    "tags": []
   },
   "outputs": [
    {
     "data": {
      "text/plain": [
       "['events.out.tfevents.1669695852.ce3020ccd5b9.4305.0',\n",
       " 'weights',\n",
       " 'hyp.yaml',\n",
       " 'opt.yaml',\n",
       " 'labels_correlogram.jpg',\n",
       " 'labels.jpg',\n",
       " 'train_batch0.jpg',\n",
       " 'train_batch1.jpg',\n",
       " 'train_batch2.jpg',\n",
       " 'results.txt',\n",
       " 'test_batch0_pred.jpg',\n",
       " 'test_batch0_labels.jpg',\n",
       " 'test_batch2_labels.jpg',\n",
       " 'PR_curve.png',\n",
       " 'test_batch2_pred.jpg',\n",
       " 'test_batch1_labels.jpg',\n",
       " 'F1_curve.png',\n",
       " 'test_batch1_pred.jpg',\n",
       " 'P_curve.png',\n",
       " 'R_curve.png',\n",
       " 'confusion_matrix.png',\n",
       " 'results.png']"
      ]
     },
     "execution_count": 45,
     "metadata": {},
     "output_type": "execute_result"
    }
   ],
   "source": [
    "# Display the contents of the \"exp\" folder\n",
    "os.listdir(f'runs/train/{exp}')"
   ]
  },
  {
   "cell_type": "markdown",
   "metadata": {
    "papermill": {
     "duration": 3.34843,
     "end_time": "2021-07-18T06:54:34.867454",
     "exception": false,
     "start_time": "2021-07-18T06:54:31.519024",
     "status": "completed"
    },
    "tags": []
   },
   "source": [
    "## Training and Validation Review"
   ]
  },
  {
   "cell_type": "code",
   "execution_count": 46,
   "metadata": {
    "execution": {
     "iopub.status.busy": "2022-11-28T02:17:12.706656Z",
     "iopub.status.idle": "2022-11-28T02:17:12.707051Z",
     "shell.execute_reply": "2022-11-28T02:17:12.706878Z",
     "shell.execute_reply.started": "2022-11-28T02:17:12.706859Z"
    },
    "papermill": {
     "duration": 3.490772,
     "end_time": "2021-07-18T06:54:41.697612",
     "exception": false,
     "start_time": "2021-07-18T06:54:38.20684",
     "status": "completed"
    },
    "tags": []
   },
   "outputs": [
    {
     "data": {
      "text/plain": [
       "['events.out.tfevents.1669695852.ce3020ccd5b9.4305.0',\n",
       " 'weights',\n",
       " 'hyp.yaml',\n",
       " 'opt.yaml',\n",
       " 'labels_correlogram.jpg',\n",
       " 'labels.jpg',\n",
       " 'train_batch0.jpg',\n",
       " 'train_batch1.jpg',\n",
       " 'train_batch2.jpg',\n",
       " 'results.txt',\n",
       " 'test_batch0_pred.jpg',\n",
       " 'test_batch0_labels.jpg',\n",
       " 'test_batch2_labels.jpg',\n",
       " 'PR_curve.png',\n",
       " 'test_batch2_pred.jpg',\n",
       " 'test_batch1_labels.jpg',\n",
       " 'F1_curve.png',\n",
       " 'test_batch1_pred.jpg',\n",
       " 'P_curve.png',\n",
       " 'R_curve.png',\n",
       " 'confusion_matrix.png',\n",
       " 'results.png']"
      ]
     },
     "execution_count": 46,
     "metadata": {},
     "output_type": "execute_result"
    }
   ],
   "source": [
    "# Display the contents of the \"exp\" folder\n",
    "os.listdir(f'runs/train/{exp}')"
   ]
  },
  {
   "cell_type": "code",
   "execution_count": 47,
   "metadata": {
    "execution": {
     "iopub.status.busy": "2022-11-28T02:17:12.709005Z",
     "iopub.status.idle": "2022-11-28T02:17:12.709523Z",
     "shell.execute_reply": "2022-11-28T02:17:12.709265Z",
     "shell.execute_reply.started": "2022-11-28T02:17:12.709242Z"
    },
    "papermill": {
     "duration": 4.17146,
     "end_time": "2021-07-18T06:54:49.377868",
     "exception": false,
     "start_time": "2021-07-18T06:54:45.206408",
     "status": "completed"
    },
    "tags": []
   },
   "outputs": [
    {
     "name": "stdout",
     "output_type": "stream",
     "text": [
      "/bin/bash: warning: setlocale: LC_ALL: cannot change locale (en_US.UTF-8)\r\n",
      "/root/yolov5\r\n"
     ]
    }
   ],
   "source": [
    "# change the working directory to yolov5\n",
    "\n",
    "os.chdir(f'{root}/yolov5')\n",
    "\n",
    "!pwd"
   ]
  },
  {
   "cell_type": "markdown",
   "metadata": {
    "papermill": {
     "duration": 3.348482,
     "end_time": "2021-07-18T06:54:56.99484",
     "exception": false,
     "start_time": "2021-07-18T06:54:53.646358",
     "status": "completed"
    },
    "tags": []
   },
   "source": [
    "## Display the training curves"
   ]
  },
  {
   "cell_type": "code",
   "execution_count": 48,
   "metadata": {
    "execution": {
     "iopub.status.busy": "2022-11-28T02:17:12.710767Z",
     "iopub.status.idle": "2022-11-28T02:17:12.711302Z",
     "shell.execute_reply": "2022-11-28T02:17:12.711022Z",
     "shell.execute_reply.started": "2022-11-28T02:17:12.711000Z"
    },
    "papermill": {
     "duration": 4.331596,
     "end_time": "2021-07-18T06:55:04.665328",
     "exception": false,
     "start_time": "2021-07-18T06:55:00.333732",
     "status": "completed"
    },
    "tags": []
   },
   "outputs": [
    {
     "data": {
      "text/plain": [
       "<Figure size 1080x1080 with 0 Axes>"
      ]
     },
     "execution_count": 48,
     "metadata": {},
     "output_type": "execute_result"
    },
    {
     "data": {
      "text/plain": [
       "<Figure size 1080x1080 with 0 Axes>"
      ]
     },
     "metadata": {},
     "output_type": "display_data"
    }
   ],
   "source": [
    "plt.figure(figsize = (15, 15))\n",
    "#plt.imshow(plt.imread(f'runs/train/{exp}/results.png'))"
   ]
  },
  {
   "cell_type": "markdown",
   "metadata": {
    "papermill": {
     "duration": 3.325504,
     "end_time": "2021-07-18T06:55:11.376077",
     "exception": false,
     "start_time": "2021-07-18T06:55:08.050573",
     "status": "completed"
    },
    "tags": []
   },
   "source": [
    "## Get the best mAP and best epoch"
   ]
  },
  {
   "cell_type": "code",
   "execution_count": 49,
   "metadata": {
    "execution": {
     "iopub.status.busy": "2022-11-28T02:17:12.713003Z",
     "iopub.status.idle": "2022-11-28T02:17:12.713435Z",
     "shell.execute_reply": "2022-11-28T02:17:12.713233Z",
     "shell.execute_reply.started": "2022-11-28T02:17:12.713213Z"
    },
    "papermill": {
     "duration": 4.486321,
     "end_time": "2021-07-18T06:55:19.433214",
     "exception": false,
     "start_time": "2021-07-18T06:55:14.946893",
     "status": "completed"
    },
    "tags": []
   },
   "outputs": [
    {
     "name": "stdout",
     "output_type": "stream",
     "text": [
      "/bin/bash: warning: setlocale: LC_ALL: cannot change locale (en_US.UTF-8)\r\n",
      "Dockerfile   hubconf.py        train.py\t\t\t\t  yolov5m.pt\r\n",
      "LICENSE      models\t       tutorial.ipynb\t\t\t  yolov5m6.pt\r\n",
      "README.md    my_data.yaml      utils\t\t\t\t  yolov5x.pt\r\n",
      "__pycache__  my_hyp.yaml       weights\t\t\t\t  yolov5x6.pt\r\n",
      "base_dir     requirements.txt  yolov5-v5.0-performance-graph.png\r\n",
      "data\t     runs\t       yolov5l.pt\r\n",
      "detect.py    test.py\t       yolov5l6.pt\r\n"
     ]
    }
   ],
   "source": [
    "!ls"
   ]
  },
  {
   "cell_type": "code",
   "execution_count": 50,
   "metadata": {
    "execution": {
     "iopub.status.busy": "2022-11-28T02:17:12.716224Z",
     "iopub.status.idle": "2022-11-28T02:17:12.716947Z",
     "shell.execute_reply": "2022-11-28T02:17:12.716721Z",
     "shell.execute_reply.started": "2022-11-28T02:17:12.716699Z"
    },
    "papermill": {
     "duration": 5.156095,
     "end_time": "2021-07-18T06:55:27.939715",
     "exception": false,
     "start_time": "2021-07-18T06:55:22.78362",
     "status": "completed"
    },
    "tags": []
   },
   "outputs": [
    {
     "name": "stdout",
     "output_type": "stream",
     "text": [
      "/bin/bash: warning: setlocale: LC_ALL: cannot change locale (en_US.UTF-8)\r\n",
      "      0/89       19G     0.191   0.05032   0.02721    0.2685        33      1024  0.001506   0.02679 0.0005764 0.0001102    0.1729   0.02549   0.01501\r\n",
      "      1/89     22.8G    0.1504   0.02672   0.00802    0.1851        21      1024   0.05625    0.1786   0.03706  0.007137    0.1315   0.02488   0.00342\r\n",
      "      2/89     22.8G    0.1289   0.02454  0.003507    0.1569        25      1024   0.08593    0.1875   0.05102   0.01315    0.1353   0.02235  0.002519\r\n",
      "      3/89     22.8G    0.1176   0.02311  0.002673    0.1434        27      1024    0.1621    0.1964   0.05705    0.0118    0.1619    0.0189  0.002049\r\n",
      "      4/89     22.8G    0.1144   0.02224  0.002405    0.1391        27      1024    0.4422    0.3752    0.3198    0.0836    0.1088   0.02119   0.00173\r\n",
      "      5/89     22.8G    0.1095   0.02153  0.002063    0.1331        26      1024    0.4463    0.3214    0.3054    0.1003    0.1055    0.0213  0.001664\r\n",
      "      6/89     22.8G      0.11   0.01944  0.001832    0.1312        28      1024    0.2732    0.3571    0.1956   0.04949    0.1212   0.01818  0.001518\r\n",
      "      7/89     22.8G    0.1075   0.01887  0.001752    0.1282        26      1024     0.244    0.3304    0.1926   0.04451    0.1253    0.0172  0.001357\r\n",
      "      8/89     22.8G    0.1092   0.01811  0.001696     0.129        28      1024    0.5966    0.4622    0.4206    0.1369    0.1121   0.01772  0.001407\r\n",
      "      9/89     22.8G    0.1066   0.01774  0.001499    0.1258        25      1024    0.6258    0.4629    0.4479    0.1399    0.1182   0.01613  0.001375\r\n",
      "     10/89     22.8G    0.1052   0.01735  0.001508     0.124        28      1024    0.4435    0.3393    0.3367   0.08953    0.1136   0.01693   0.00133\r\n",
      "     11/89     22.8G    0.1044   0.01668  0.001346    0.1224        29      1024     0.464    0.4018    0.3399   0.08781    0.1203    0.0171  0.001011\r\n",
      "     12/89     22.8G    0.1044   0.01699  0.001248    0.1227        30      1024    0.5569    0.3928    0.3983    0.1082    0.1201   0.01505 0.0009786\r\n",
      "     13/89     22.8G    0.1074   0.01673  0.001436    0.1256        29      1024    0.3207    0.3304    0.2269   0.05679    0.1308   0.01584   0.00174\r\n",
      "     14/89     22.8G    0.1112   0.01656  0.001797    0.1296        23      1024     0.412    0.4911    0.3461    0.1074    0.1079   0.01717  0.001659\r\n",
      "     15/89     22.8G    0.1076   0.01698  0.001594    0.1262        24      1024     0.532    0.4375    0.4013    0.1532   0.09594    0.0176  0.001619\r\n",
      "     16/89     22.8G    0.1066   0.01627  0.001639    0.1245        19      1024    0.3869    0.3839     0.263   0.06931    0.1141   0.01598  0.001397\r\n",
      "     17/89     22.8G    0.1054   0.01624  0.001454    0.1231        31      1024    0.5331    0.4282    0.4229    0.1261    0.1036   0.01613  0.001364\r\n",
      "     18/89     22.8G    0.1054   0.01659  0.001339    0.1234        24      1024    0.5646    0.4286    0.4215    0.1444    0.1037    0.0164  0.001131\r\n",
      "     19/89     22.8G     0.103    0.0161  0.001239    0.1203        23      1024    0.3493      0.25     0.197   0.04479    0.1364   0.01508   0.00118\r\n",
      "     20/89     22.8G    0.1048   0.01591  0.001127    0.1218        32      1024    0.7689    0.4456    0.5319    0.1378    0.1079   0.01568 0.0009792\r\n",
      "     21/89     22.8G    0.1052   0.01617    0.0012    0.1226        29      1024    0.6843    0.4452    0.5123    0.1507     0.108   0.01578  0.000988\r\n",
      "     22/89     22.8G    0.1057   0.01651  0.001114    0.1233        28      1024    0.4706    0.3731    0.2784    0.0849    0.1172   0.01598  0.001044\r\n",
      "     23/89     22.8G    0.1037   0.01576  0.001119    0.1206        24      1024    0.5418    0.4018    0.3612    0.1199    0.1098   0.01867 0.0009576\r\n",
      "     24/89     22.8G    0.1025   0.01596  0.001002    0.1195        21      1024    0.4243    0.4013    0.3413    0.0967    0.1212    0.0162  0.001232\r\n",
      "     25/89     22.8G    0.1042   0.01593 0.0009769    0.1211        18      1024    0.4417    0.3462    0.2987   0.08885    0.1238   0.01588 0.0009902\r\n",
      "     26/89     22.8G    0.1032   0.01609 0.0009386    0.1202        26      1024     0.531    0.5179      0.49    0.1563    0.1046   0.01555  0.000972\r\n",
      "     27/89     22.8G    0.1013   0.01582 0.0008381    0.1179        21      1024    0.4128    0.3393     0.298   0.08307    0.1158    0.0175 0.0009481\r\n",
      "     28/89     22.8G     0.102   0.01629 0.0008651    0.1191        29      1024    0.5836    0.4643    0.4052    0.1177    0.1111   0.01558 0.0008088\r\n",
      "     29/89     22.8G    0.1007   0.01541 0.0007362    0.1169        31      1024    0.5414    0.4533    0.4262    0.1567    0.1014   0.01555 0.0006374\r\n",
      "     30/89     22.8G   0.09834   0.01543  0.000675    0.1144        27      1024    0.4361    0.3728    0.2732   0.07335     0.129   0.01432 0.0008023\r\n",
      "     31/89     22.8G    0.1003   0.01555 0.0007275    0.1166        29      1024     0.534    0.5446    0.4829    0.1877    0.0978   0.01635 0.0006255\r\n",
      "     32/89     22.8G    0.0982   0.01574 0.0006248    0.1146        29      1024    0.4551    0.4018    0.3498    0.1217    0.1108   0.01589 0.0005377\r\n",
      "     33/89     22.8G   0.09743    0.0154  0.000544    0.1134        31      1024    0.6618     0.375     0.406    0.1386    0.1047   0.01552 0.0004934\r\n",
      "     34/89     22.8G   0.09571   0.01529 0.0004921    0.1115        24      1024     0.493    0.4643    0.4098    0.1562    0.1018   0.01525  0.000537\r\n",
      "     35/89     22.8G   0.09675   0.01557 0.0005801    0.1129        32      1024    0.3903    0.4911    0.3759    0.1046    0.1192   0.01471 0.0005978\r\n",
      "     36/89     22.8G   0.09442    0.0156 0.0005252    0.1106        26      1024     0.711    0.5714    0.6288    0.2381   0.09832   0.01455 0.0004781\r\n",
      "     37/89     22.8G   0.09667   0.01542 0.0005273    0.1126        30      1024     0.571    0.4643     0.514    0.1705    0.1009   0.01552 0.0004544\r\n",
      "     38/89     22.8G   0.09294    0.0156 0.0004594     0.109        21      1024    0.6516    0.5179     0.472     0.155   0.09906    0.0146 0.0003898\r\n",
      "     39/89     22.8G   0.09262   0.01474 0.0004387    0.1078        23      1024    0.6825     0.499    0.4808    0.1534    0.1095   0.01491 0.0004324\r\n",
      "     40/89     22.8G   0.09339   0.01513  0.000469     0.109        31      1024    0.5955    0.4732    0.4184    0.1232    0.1097   0.01464 0.0004582\r\n",
      "     41/89     22.8G   0.09144   0.01512 0.0004525     0.107        25      1024    0.5836    0.5179    0.5138    0.2073    0.1013   0.01471 0.0003825\r\n",
      "     42/89     22.8G   0.09016   0.01527 0.0003879    0.1058        25      1024    0.6095    0.5436    0.5425    0.2244   0.09664    0.0146 0.0004111\r\n",
      "     43/89     22.8G   0.09062   0.01501 0.0003926     0.106        24      1024    0.5892       0.5    0.4588    0.1835    0.1068   0.01421 0.0003994\r\n",
      "     44/89     22.8G   0.08767   0.01509 0.0003463    0.1031        22      1024    0.6988    0.5804    0.6192    0.2351   0.09096   0.01384 0.0002953\r\n",
      "     45/89     22.8G   0.08702   0.01551 0.0003292    0.1029        27      1024    0.7559       0.5    0.5837    0.2138   0.09793   0.01367   0.00031\r\n",
      "     46/89     22.8G   0.08692   0.01455 0.0003341    0.1018        25      1024    0.6667    0.5178    0.5378    0.1717   0.09912   0.01441 0.0003138\r\n",
      "     47/89     22.8G   0.08741   0.01519 0.0003527     0.103        21      1024    0.6883    0.4821    0.5026     0.214   0.09342   0.01444 0.0003668\r\n",
      "     48/89     22.8G     0.087   0.01461 0.0003374     0.102        21      1024    0.6557    0.5951    0.5948    0.2396   0.09392   0.01417 0.0003125\r\n",
      "     49/89     22.8G   0.08537   0.01462 0.0003094    0.1003        30      1024    0.6092    0.5714    0.5772    0.2561   0.09602   0.01415 0.0002857\r\n",
      "     50/89     22.8G   0.08337   0.01503 0.0002871   0.09869        21      1024    0.6843    0.5613    0.5784     0.245   0.09774   0.01415 0.0002997\r\n",
      "     51/89     22.8G   0.08464   0.01437 0.0003036   0.09931        29      1024    0.5947    0.6161    0.5787    0.2204   0.09487   0.01383 0.0002851\r\n",
      "     52/89     22.8G    0.0846   0.01479 0.0002911   0.09969        24      1024    0.5069    0.4107    0.3747    0.1282    0.1167   0.01515 0.0003563\r\n",
      "     53/89     22.8G   0.08303   0.01476 0.0002803   0.09807        26      1024    0.7664       0.5     0.574    0.2282   0.09575   0.01416  0.000268\r\n",
      "     54/89     22.8G   0.08198   0.01463 0.0002889    0.0969        24      1024    0.7057    0.5353    0.5313    0.1999    0.1003   0.01385 0.0002853\r\n",
      "     55/89     22.8G   0.08335   0.01461 0.0002871   0.09825        26      1024    0.7495    0.4821    0.5477    0.2216   0.09497   0.01404  0.000278\r\n",
      "     56/89     22.8G   0.08252   0.01478 0.0002684   0.09757        26      1024    0.7202    0.5536    0.5968    0.2496   0.09311   0.01432 0.0002646\r\n",
      "     57/89     22.8G     0.083   0.01429 0.0002572   0.09755        25      1024    0.6293    0.6071    0.6043    0.2451   0.09382   0.01442 0.0002753\r\n",
      "     58/89     22.8G   0.08159   0.01451 0.0002578   0.09636        28      1024     0.719    0.5713     0.604    0.2504   0.09037   0.01406 0.0002378\r\n",
      "     59/89     22.8G   0.08117   0.01415 0.0002486   0.09557        33      1024    0.6514    0.5173    0.5299    0.2223   0.09473   0.01423 0.0002488\r\n",
      "     60/89     22.8G   0.08172   0.01445 0.0002534   0.09643        23      1024    0.6887     0.553    0.5897    0.2247   0.09465   0.01456  0.000243\r\n",
      "     61/89     22.8G    0.0795   0.01446   0.00024   0.09419        21      1024    0.8202    0.5714    0.6173    0.2479   0.08783     0.015 0.0002298\r\n",
      "     62/89     22.8G   0.07816   0.01424 0.0002278   0.09263        22      1024    0.7922    0.5446    0.6009    0.2321   0.08789   0.01435 0.0002175\r\n",
      "     63/89     22.8G   0.08067   0.01373 0.0002294   0.09463        22      1024    0.7139    0.5804    0.6231    0.2616   0.08914   0.01431 0.0002145\r\n",
      "     64/89     22.8G   0.07693   0.01361 0.0002097   0.09074        18      1024    0.5962    0.5804    0.5788    0.2536   0.08871   0.01516 0.0002144\r\n",
      "     65/89     22.8G    0.0777   0.01419 0.0002115    0.0921        25      1024    0.7873    0.5618    0.6315    0.2623   0.08779   0.01447 0.0001985\r\n",
      "     66/89     22.8G   0.07725   0.01433 0.0002084   0.09179        21      1024    0.7815    0.5446    0.5993    0.2625   0.08609   0.01568 0.0002084\r\n",
      "     67/89     22.8G   0.07614   0.01395 0.0002031   0.09029        31      1024    0.7998    0.5352    0.6394     0.275    0.0885   0.01539 0.0002123\r\n",
      "     68/89     22.8G   0.07488   0.01422 0.0002045   0.08931        23      1024    0.7681    0.5625    0.6522    0.3024   0.08578   0.01421 0.0001795\r\n",
      "     69/89     22.8G   0.07528    0.0133 0.0001922   0.08876        28      1024    0.7747    0.5536    0.6583    0.2992   0.08738   0.01413 0.0001842\r\n",
      "     70/89     22.8G    0.0744   0.01392 0.0001792    0.0885        26      1024    0.7241    0.6339    0.6455    0.2819   0.08702   0.01463 0.0001825\r\n",
      "     71/89     22.8G   0.07481   0.01388 0.0001821   0.08886        26      1024      0.72    0.5982     0.658    0.2873   0.08798   0.01459 0.0001709\r\n",
      "     72/89     22.8G   0.07429   0.01423 0.0001738   0.08868        26      1024    0.8144    0.5536    0.6467    0.2726   0.08971   0.01435 0.0001758\r\n",
      "     73/89     22.8G   0.07543   0.01419 0.0001761    0.0898        23      1024    0.8227      0.58    0.6628    0.2947   0.08675    0.0138 0.0001626\r\n",
      "     74/89     22.8G    0.0718   0.01401 0.0001674   0.08598        20      1024    0.7156    0.6071    0.6534    0.2945   0.08576   0.01387 0.0001609\r\n",
      "     75/89     22.8G   0.07421   0.01371  0.000165   0.08808        27      1024    0.6827    0.5982    0.6139    0.2775   0.08695   0.01416 0.0001576\r\n",
      "     76/89     22.8G   0.07233   0.01361 0.0001615    0.0861        25      1024    0.7926      0.58    0.6666    0.2869   0.08585   0.01368 0.0001582\r\n",
      "     77/89     22.8G   0.07182   0.01375 0.0001534   0.08572        28      1024    0.7647    0.5802    0.6505    0.2967   0.08454   0.01407 0.0001471\r\n",
      "     78/89     22.8G   0.07124   0.01463 0.0001534   0.08603        32      1024    0.8025    0.5441    0.6385    0.3004   0.08508   0.01413 0.0001461\r\n",
      "     79/89     22.8G    0.0711   0.01364 0.0001455   0.08489        36      1024    0.7799    0.5714      0.66     0.294    0.0854   0.01423 0.0001474\r\n",
      "     80/89     22.8G   0.06995   0.01363 0.0001441   0.08372        27      1024    0.7777    0.5625    0.6226    0.2905   0.08553    0.0143 0.0001446\r\n",
      "     81/89     22.8G   0.06974   0.01319 0.0001411   0.08307        22      1024    0.7765    0.5892    0.6625    0.2949   0.08469   0.01397 0.0001373\r\n",
      "     82/89     22.8G   0.06866   0.01349 0.0001355   0.08228        16      1024    0.7881    0.5982     0.676     0.308   0.08397   0.01442 0.0001348\r\n",
      "     83/89     22.8G   0.06936   0.01341 0.0001414   0.08291        26      1024    0.7842    0.5893    0.6408    0.2997   0.08342   0.01429 0.0001357\r\n",
      "     84/89     22.8G    0.0689   0.01343 0.0001379   0.08247        24      1024    0.7604    0.5982    0.6514    0.3001   0.08376   0.01436 0.0001318\r\n",
      "     85/89     22.8G   0.06888   0.01344  0.000142   0.08246        29      1024    0.7775    0.5617    0.6427    0.2893   0.08348   0.01477 0.0001409\r\n",
      "     86/89     22.8G   0.06916   0.01356 0.0001425   0.08286        24      1024    0.8022    0.5804    0.6395    0.2944   0.08401   0.01503 0.0001484\r\n",
      "     87/89     22.8G   0.06781   0.01339 0.0001375   0.08133        23      1024    0.7415    0.5889    0.6534    0.3005   0.08277   0.01474 0.0001375\r\n",
      "     88/89     22.8G   0.06923   0.01362 0.0001378   0.08298        29      1024    0.7528     0.571    0.6463    0.2975   0.08454   0.01477 0.0001424\r\n",
      "     89/89     22.8G   0.06716   0.01325 0.0001377   0.08056        30      1024    0.7734    0.5804    0.6449    0.2986   0.08393   0.01472 0.0001354\r\n"
     ]
    }
   ],
   "source": [
    "# Display the contents of the results.txt file\n",
    "\n",
    "path = f'runs/train/{exp}/results.txt'\n",
    "\n",
    "!cat $path"
   ]
  },
  {
   "cell_type": "code",
   "execution_count": 51,
   "metadata": {
    "execution": {
     "iopub.status.busy": "2022-11-28T02:17:12.718180Z",
     "iopub.status.idle": "2022-11-28T02:17:12.718968Z",
     "shell.execute_reply": "2022-11-28T02:17:12.718727Z",
     "shell.execute_reply.started": "2022-11-28T02:17:12.718701Z"
    },
    "papermill": {
     "duration": 3.36078,
     "end_time": "2021-07-18T06:55:34.638954",
     "exception": false,
     "start_time": "2021-07-18T06:55:31.278174",
     "status": "completed"
    },
    "tags": []
   },
   "outputs": [
    {
     "data": {
      "text/plain": [
       "90"
      ]
     },
     "execution_count": 51,
     "metadata": {},
     "output_type": "execute_result"
    }
   ],
   "source": [
    "# Read the results from the training log: results.txt\n",
    "\n",
    "# https://stackoverflow.com/questions/3277503/how-to-read-a-file-line-by-line-into-a-list\n",
    "# https://stackoverflow.com/questions/65381312/how-to-convert-a-yolo-darknet-format-into-csv-file\n",
    "\n",
    "\n",
    "filename = f'runs/train/{exp}/results.txt'\n",
    "\n",
    "file_list = []\n",
    "\n",
    "with open(filename) as f:\n",
    "    # read a line into a list, format: ['item item item', 'item item item', ...]\n",
    "    file_line_list = f.readlines()\n",
    "    \n",
    "    \n",
    "for i in range(0, len(file_line_list)):\n",
    "    \n",
    "    # Get the first item in the list and split on the spaces.\n",
    "    # This returns a list of all items in the line: ['item', 'item', 'item']\n",
    "    line_list = file_line_list[i].split()\n",
    "    \n",
    "    # remove whitespace characters like `\\n` at the end of each line\n",
    "    line_list = [x.strip() for x in line_list]\n",
    "    \n",
    "    # Save the list.\n",
    "    # all_lines_list is a list of lists\n",
    "    file_list.append(line_list)\n",
    "    \n",
    "len(file_list)"
   ]
  },
  {
   "cell_type": "code",
   "execution_count": 52,
   "metadata": {
    "execution": {
     "iopub.status.busy": "2022-11-28T02:17:12.720281Z",
     "iopub.status.idle": "2022-11-28T02:17:12.721506Z",
     "shell.execute_reply": "2022-11-28T02:17:12.721213Z",
     "shell.execute_reply.started": "2022-11-28T02:17:12.721187Z"
    },
    "papermill": {
     "duration": 3.393293,
     "end_time": "2021-07-18T06:55:41.765059",
     "exception": false,
     "start_time": "2021-07-18T06:55:38.371766",
     "status": "completed"
    },
    "tags": []
   },
   "outputs": [
    {
     "data": {
      "text/html": [
       "<div>\n",
       "<style scoped>\n",
       "    .dataframe tbody tr th:only-of-type {\n",
       "        vertical-align: middle;\n",
       "    }\n",
       "\n",
       "    .dataframe tbody tr th {\n",
       "        vertical-align: top;\n",
       "    }\n",
       "\n",
       "    .dataframe thead th {\n",
       "        text-align: right;\n",
       "    }\n",
       "</style>\n",
       "<table border=\"1\" class=\"dataframe\">\n",
       "  <thead>\n",
       "    <tr style=\"text-align: right;\">\n",
       "      <th></th>\n",
       "      <th>0</th>\n",
       "      <th>1</th>\n",
       "      <th>2</th>\n",
       "      <th>3</th>\n",
       "      <th>4</th>\n",
       "      <th>5</th>\n",
       "      <th>6</th>\n",
       "      <th>7</th>\n",
       "      <th>8</th>\n",
       "      <th>9</th>\n",
       "      <th>10</th>\n",
       "      <th>11</th>\n",
       "      <th>12</th>\n",
       "      <th>13</th>\n",
       "      <th>14</th>\n",
       "    </tr>\n",
       "  </thead>\n",
       "  <tbody>\n",
       "    <tr>\n",
       "      <th>0</th>\n",
       "      <td>0/89</td>\n",
       "      <td>19G</td>\n",
       "      <td>0.191</td>\n",
       "      <td>0.05032</td>\n",
       "      <td>0.02721</td>\n",
       "      <td>0.2685</td>\n",
       "      <td>33</td>\n",
       "      <td>1024</td>\n",
       "      <td>0.001506</td>\n",
       "      <td>0.02679</td>\n",
       "      <td>0.0005764</td>\n",
       "      <td>0.0001102</td>\n",
       "      <td>0.1729</td>\n",
       "      <td>0.02549</td>\n",
       "      <td>0.01501</td>\n",
       "    </tr>\n",
       "    <tr>\n",
       "      <th>1</th>\n",
       "      <td>1/89</td>\n",
       "      <td>22.8G</td>\n",
       "      <td>0.1504</td>\n",
       "      <td>0.02672</td>\n",
       "      <td>0.00802</td>\n",
       "      <td>0.1851</td>\n",
       "      <td>21</td>\n",
       "      <td>1024</td>\n",
       "      <td>0.05625</td>\n",
       "      <td>0.1786</td>\n",
       "      <td>0.03706</td>\n",
       "      <td>0.007137</td>\n",
       "      <td>0.1315</td>\n",
       "      <td>0.02488</td>\n",
       "      <td>0.00342</td>\n",
       "    </tr>\n",
       "    <tr>\n",
       "      <th>2</th>\n",
       "      <td>2/89</td>\n",
       "      <td>22.8G</td>\n",
       "      <td>0.1289</td>\n",
       "      <td>0.02454</td>\n",
       "      <td>0.003507</td>\n",
       "      <td>0.1569</td>\n",
       "      <td>25</td>\n",
       "      <td>1024</td>\n",
       "      <td>0.08593</td>\n",
       "      <td>0.1875</td>\n",
       "      <td>0.05102</td>\n",
       "      <td>0.01315</td>\n",
       "      <td>0.1353</td>\n",
       "      <td>0.02235</td>\n",
       "      <td>0.002519</td>\n",
       "    </tr>\n",
       "    <tr>\n",
       "      <th>3</th>\n",
       "      <td>3/89</td>\n",
       "      <td>22.8G</td>\n",
       "      <td>0.1176</td>\n",
       "      <td>0.02311</td>\n",
       "      <td>0.002673</td>\n",
       "      <td>0.1434</td>\n",
       "      <td>27</td>\n",
       "      <td>1024</td>\n",
       "      <td>0.1621</td>\n",
       "      <td>0.1964</td>\n",
       "      <td>0.05705</td>\n",
       "      <td>0.0118</td>\n",
       "      <td>0.1619</td>\n",
       "      <td>0.0189</td>\n",
       "      <td>0.002049</td>\n",
       "    </tr>\n",
       "    <tr>\n",
       "      <th>4</th>\n",
       "      <td>4/89</td>\n",
       "      <td>22.8G</td>\n",
       "      <td>0.1144</td>\n",
       "      <td>0.02224</td>\n",
       "      <td>0.002405</td>\n",
       "      <td>0.1391</td>\n",
       "      <td>27</td>\n",
       "      <td>1024</td>\n",
       "      <td>0.4422</td>\n",
       "      <td>0.3752</td>\n",
       "      <td>0.3198</td>\n",
       "      <td>0.0836</td>\n",
       "      <td>0.1088</td>\n",
       "      <td>0.02119</td>\n",
       "      <td>0.00173</td>\n",
       "    </tr>\n",
       "    <tr>\n",
       "      <th>5</th>\n",
       "      <td>5/89</td>\n",
       "      <td>22.8G</td>\n",
       "      <td>0.1095</td>\n",
       "      <td>0.02153</td>\n",
       "      <td>0.002063</td>\n",
       "      <td>0.1331</td>\n",
       "      <td>26</td>\n",
       "      <td>1024</td>\n",
       "      <td>0.4463</td>\n",
       "      <td>0.3214</td>\n",
       "      <td>0.3054</td>\n",
       "      <td>0.1003</td>\n",
       "      <td>0.1055</td>\n",
       "      <td>0.0213</td>\n",
       "      <td>0.001664</td>\n",
       "    </tr>\n",
       "    <tr>\n",
       "      <th>6</th>\n",
       "      <td>6/89</td>\n",
       "      <td>22.8G</td>\n",
       "      <td>0.11</td>\n",
       "      <td>0.01944</td>\n",
       "      <td>0.001832</td>\n",
       "      <td>0.1312</td>\n",
       "      <td>28</td>\n",
       "      <td>1024</td>\n",
       "      <td>0.2732</td>\n",
       "      <td>0.3571</td>\n",
       "      <td>0.1956</td>\n",
       "      <td>0.04949</td>\n",
       "      <td>0.1212</td>\n",
       "      <td>0.01818</td>\n",
       "      <td>0.001518</td>\n",
       "    </tr>\n",
       "    <tr>\n",
       "      <th>7</th>\n",
       "      <td>7/89</td>\n",
       "      <td>22.8G</td>\n",
       "      <td>0.1075</td>\n",
       "      <td>0.01887</td>\n",
       "      <td>0.001752</td>\n",
       "      <td>0.1282</td>\n",
       "      <td>26</td>\n",
       "      <td>1024</td>\n",
       "      <td>0.244</td>\n",
       "      <td>0.3304</td>\n",
       "      <td>0.1926</td>\n",
       "      <td>0.04451</td>\n",
       "      <td>0.1253</td>\n",
       "      <td>0.0172</td>\n",
       "      <td>0.001357</td>\n",
       "    </tr>\n",
       "    <tr>\n",
       "      <th>8</th>\n",
       "      <td>8/89</td>\n",
       "      <td>22.8G</td>\n",
       "      <td>0.1092</td>\n",
       "      <td>0.01811</td>\n",
       "      <td>0.001696</td>\n",
       "      <td>0.129</td>\n",
       "      <td>28</td>\n",
       "      <td>1024</td>\n",
       "      <td>0.5966</td>\n",
       "      <td>0.4622</td>\n",
       "      <td>0.4206</td>\n",
       "      <td>0.1369</td>\n",
       "      <td>0.1121</td>\n",
       "      <td>0.01772</td>\n",
       "      <td>0.001407</td>\n",
       "    </tr>\n",
       "    <tr>\n",
       "      <th>9</th>\n",
       "      <td>9/89</td>\n",
       "      <td>22.8G</td>\n",
       "      <td>0.1066</td>\n",
       "      <td>0.01774</td>\n",
       "      <td>0.001499</td>\n",
       "      <td>0.1258</td>\n",
       "      <td>25</td>\n",
       "      <td>1024</td>\n",
       "      <td>0.6258</td>\n",
       "      <td>0.4629</td>\n",
       "      <td>0.4479</td>\n",
       "      <td>0.1399</td>\n",
       "      <td>0.1182</td>\n",
       "      <td>0.01613</td>\n",
       "      <td>0.001375</td>\n",
       "    </tr>\n",
       "  </tbody>\n",
       "</table>\n",
       "</div>"
      ],
      "text/plain": [
       "     0      1       2        3         4       5   6     7         8   \\\n",
       "0  0/89    19G   0.191  0.05032   0.02721  0.2685  33  1024  0.001506   \n",
       "1  1/89  22.8G  0.1504  0.02672   0.00802  0.1851  21  1024   0.05625   \n",
       "2  2/89  22.8G  0.1289  0.02454  0.003507  0.1569  25  1024   0.08593   \n",
       "3  3/89  22.8G  0.1176  0.02311  0.002673  0.1434  27  1024    0.1621   \n",
       "4  4/89  22.8G  0.1144  0.02224  0.002405  0.1391  27  1024    0.4422   \n",
       "5  5/89  22.8G  0.1095  0.02153  0.002063  0.1331  26  1024    0.4463   \n",
       "6  6/89  22.8G    0.11  0.01944  0.001832  0.1312  28  1024    0.2732   \n",
       "7  7/89  22.8G  0.1075  0.01887  0.001752  0.1282  26  1024     0.244   \n",
       "8  8/89  22.8G  0.1092  0.01811  0.001696   0.129  28  1024    0.5966   \n",
       "9  9/89  22.8G  0.1066  0.01774  0.001499  0.1258  25  1024    0.6258   \n",
       "\n",
       "        9          10         11      12       13        14  \n",
       "0  0.02679  0.0005764  0.0001102  0.1729  0.02549   0.01501  \n",
       "1   0.1786    0.03706   0.007137  0.1315  0.02488   0.00342  \n",
       "2   0.1875    0.05102    0.01315  0.1353  0.02235  0.002519  \n",
       "3   0.1964    0.05705     0.0118  0.1619   0.0189  0.002049  \n",
       "4   0.3752     0.3198     0.0836  0.1088  0.02119   0.00173  \n",
       "5   0.3214     0.3054     0.1003  0.1055   0.0213  0.001664  \n",
       "6   0.3571     0.1956    0.04949  0.1212  0.01818  0.001518  \n",
       "7   0.3304     0.1926    0.04451  0.1253   0.0172  0.001357  \n",
       "8   0.4622     0.4206     0.1369  0.1121  0.01772  0.001407  \n",
       "9   0.4629     0.4479     0.1399  0.1182  0.01613  0.001375  "
      ]
     },
     "execution_count": 52,
     "metadata": {},
     "output_type": "execute_result"
    }
   ],
   "source": [
    "# Put the file data into a dataframe\n",
    "\n",
    "df = pd.DataFrame(file_list)\n",
    "\n",
    "df.head(10)"
   ]
  },
  {
   "cell_type": "code",
   "execution_count": 53,
   "metadata": {
    "execution": {
     "iopub.status.busy": "2022-11-28T02:17:12.723117Z",
     "iopub.status.idle": "2022-11-28T02:17:12.723950Z",
     "shell.execute_reply": "2022-11-28T02:17:12.723745Z",
     "shell.execute_reply.started": "2022-11-28T02:17:12.723714Z"
    },
    "papermill": {
     "duration": 3.75076,
     "end_time": "2021-07-18T06:55:48.88542",
     "exception": false,
     "start_time": "2021-07-18T06:55:45.13466",
     "status": "completed"
    },
    "tags": []
   },
   "outputs": [
    {
     "data": {
      "text/html": [
       "<div>\n",
       "<style scoped>\n",
       "    .dataframe tbody tr th:only-of-type {\n",
       "        vertical-align: middle;\n",
       "    }\n",
       "\n",
       "    .dataframe tbody tr th {\n",
       "        vertical-align: top;\n",
       "    }\n",
       "\n",
       "    .dataframe thead th {\n",
       "        text-align: right;\n",
       "    }\n",
       "</style>\n",
       "<table border=\"1\" class=\"dataframe\">\n",
       "  <thead>\n",
       "    <tr style=\"text-align: right;\">\n",
       "      <th></th>\n",
       "      <th>epoch</th>\n",
       "      <th>P</th>\n",
       "      <th>R</th>\n",
       "      <th>map0.5</th>\n",
       "      <th>map0.5:0.95</th>\n",
       "    </tr>\n",
       "  </thead>\n",
       "  <tbody>\n",
       "    <tr>\n",
       "      <th>0</th>\n",
       "      <td>0/89</td>\n",
       "      <td>0.001506</td>\n",
       "      <td>0.02679</td>\n",
       "      <td>0.0005764</td>\n",
       "      <td>0.0001102</td>\n",
       "    </tr>\n",
       "    <tr>\n",
       "      <th>1</th>\n",
       "      <td>1/89</td>\n",
       "      <td>0.05625</td>\n",
       "      <td>0.1786</td>\n",
       "      <td>0.03706</td>\n",
       "      <td>0.007137</td>\n",
       "    </tr>\n",
       "    <tr>\n",
       "      <th>2</th>\n",
       "      <td>2/89</td>\n",
       "      <td>0.08593</td>\n",
       "      <td>0.1875</td>\n",
       "      <td>0.05102</td>\n",
       "      <td>0.01315</td>\n",
       "    </tr>\n",
       "    <tr>\n",
       "      <th>3</th>\n",
       "      <td>3/89</td>\n",
       "      <td>0.1621</td>\n",
       "      <td>0.1964</td>\n",
       "      <td>0.05705</td>\n",
       "      <td>0.0118</td>\n",
       "    </tr>\n",
       "    <tr>\n",
       "      <th>4</th>\n",
       "      <td>4/89</td>\n",
       "      <td>0.4422</td>\n",
       "      <td>0.3752</td>\n",
       "      <td>0.3198</td>\n",
       "      <td>0.0836</td>\n",
       "    </tr>\n",
       "    <tr>\n",
       "      <th>5</th>\n",
       "      <td>5/89</td>\n",
       "      <td>0.4463</td>\n",
       "      <td>0.3214</td>\n",
       "      <td>0.3054</td>\n",
       "      <td>0.1003</td>\n",
       "    </tr>\n",
       "    <tr>\n",
       "      <th>6</th>\n",
       "      <td>6/89</td>\n",
       "      <td>0.2732</td>\n",
       "      <td>0.3571</td>\n",
       "      <td>0.1956</td>\n",
       "      <td>0.04949</td>\n",
       "    </tr>\n",
       "    <tr>\n",
       "      <th>7</th>\n",
       "      <td>7/89</td>\n",
       "      <td>0.244</td>\n",
       "      <td>0.3304</td>\n",
       "      <td>0.1926</td>\n",
       "      <td>0.04451</td>\n",
       "    </tr>\n",
       "    <tr>\n",
       "      <th>8</th>\n",
       "      <td>8/89</td>\n",
       "      <td>0.5966</td>\n",
       "      <td>0.4622</td>\n",
       "      <td>0.4206</td>\n",
       "      <td>0.1369</td>\n",
       "    </tr>\n",
       "    <tr>\n",
       "      <th>9</th>\n",
       "      <td>9/89</td>\n",
       "      <td>0.6258</td>\n",
       "      <td>0.4629</td>\n",
       "      <td>0.4479</td>\n",
       "      <td>0.1399</td>\n",
       "    </tr>\n",
       "  </tbody>\n",
       "</table>\n",
       "</div>"
      ],
      "text/plain": [
       "  epoch         P        R     map0.5 map0.5:0.95\n",
       "0  0/89  0.001506  0.02679  0.0005764   0.0001102\n",
       "1  1/89   0.05625   0.1786    0.03706    0.007137\n",
       "2  2/89   0.08593   0.1875    0.05102     0.01315\n",
       "3  3/89    0.1621   0.1964    0.05705      0.0118\n",
       "4  4/89    0.4422   0.3752     0.3198      0.0836\n",
       "5  5/89    0.4463   0.3214     0.3054      0.1003\n",
       "6  6/89    0.2732   0.3571     0.1956     0.04949\n",
       "7  7/89     0.244   0.3304     0.1926     0.04451\n",
       "8  8/89    0.5966   0.4622     0.4206      0.1369\n",
       "9  9/89    0.6258   0.4629     0.4479      0.1399"
      ]
     },
     "execution_count": 53,
     "metadata": {},
     "output_type": "execute_result"
    }
   ],
   "source": [
    "# choose only the columns we want\n",
    "\n",
    "col_names = ['epoch', 'P', 'R', 'map0.5', 'map0.5:0.95']\n",
    "\n",
    "# filter out specific columns\n",
    "df_results = df[[0, 8, 9, 10, 11]]\n",
    "\n",
    "df_results.columns = col_names\n",
    "\n",
    "# change the column names\n",
    "df_results.head(10)"
   ]
  },
  {
   "cell_type": "code",
   "execution_count": 54,
   "metadata": {
    "execution": {
     "iopub.status.busy": "2022-11-28T02:17:12.725686Z",
     "iopub.status.idle": "2022-11-28T02:17:12.726528Z",
     "shell.execute_reply": "2022-11-28T02:17:12.726251Z",
     "shell.execute_reply.started": "2022-11-28T02:17:12.726225Z"
    },
    "papermill": {
     "duration": 3.438387,
     "end_time": "2021-07-18T06:55:55.694216",
     "exception": false,
     "start_time": "2021-07-18T06:55:52.255829",
     "status": "completed"
    },
    "tags": []
   },
   "outputs": [
    {
     "name": "stdout",
     "output_type": "stream",
     "text": [
      "---------------------\n",
      "Best map0.5: 0.676\n",
      "\n",
      "    epoch       P       R map0.5 map0.5:0.95\n",
      "82  82/89  0.7881  0.5982  0.676       0.308\n",
      "---------------------\n"
     ]
    }
   ],
   "source": [
    "# Get the best map0.5\n",
    "\n",
    "best_map = df_results['map0.5'].max()\n",
    "\n",
    "print('---------------------')\n",
    "\n",
    "print('Best map0.5:', best_map)\n",
    "print()\n",
    "\n",
    "# print the row that contains the best map0.5\n",
    "df = df_results[df_results['map0.5'] == best_map]\n",
    "\n",
    "print(df.head())\n",
    "\n",
    "print('---------------------')"
   ]
  },
  {
   "cell_type": "markdown",
   "metadata": {
    "execution": {
     "iopub.execute_input": "2021-07-05T08:19:53.683161Z",
     "iopub.status.busy": "2021-07-05T08:19:53.682523Z",
     "iopub.status.idle": "2021-07-05T08:19:53.68887Z",
     "shell.execute_reply": "2021-07-05T08:19:53.687579Z",
     "shell.execute_reply.started": "2021-07-05T08:19:53.683105Z"
    },
    "papermill": {
     "duration": 3.572099,
     "end_time": "2021-07-18T06:56:03.775207",
     "exception": false,
     "start_time": "2021-07-18T06:56:00.203108",
     "status": "completed"
    },
    "tags": []
   },
   "source": [
    "## Display one batch of train images"
   ]
  },
  {
   "cell_type": "code",
   "execution_count": 55,
   "metadata": {
    "execution": {
     "iopub.status.busy": "2022-11-28T02:17:12.727796Z",
     "iopub.status.idle": "2022-11-28T02:17:12.728633Z",
     "shell.execute_reply": "2022-11-28T02:17:12.728353Z",
     "shell.execute_reply.started": "2022-11-28T02:17:12.728326Z"
    },
    "papermill": {
     "duration": 4.375391,
     "end_time": "2021-07-18T06:56:11.494857",
     "exception": false,
     "start_time": "2021-07-18T06:56:07.119466",
     "status": "completed"
    },
    "tags": []
   },
   "outputs": [
    {
     "data": {
      "text/plain": [
       "<Figure size 1080x1080 with 0 Axes>"
      ]
     },
     "execution_count": 55,
     "metadata": {},
     "output_type": "execute_result"
    },
    {
     "data": {
      "text/plain": [
       "<Figure size 1080x1080 with 0 Axes>"
      ]
     },
     "metadata": {},
     "output_type": "display_data"
    }
   ],
   "source": [
    "# Train\n",
    "# One mosaic batch of train images with labels\n",
    "\n",
    "plt.figure(figsize = (15, 15))\n",
    "#plt.imshow(plt.imread(f'runs/train/{exp}/train_batch0.jpg'))"
   ]
  },
  {
   "cell_type": "markdown",
   "metadata": {
    "papermill": {
     "duration": 3.378424,
     "end_time": "2021-07-18T06:56:18.287695",
     "exception": false,
     "start_time": "2021-07-18T06:56:14.909271",
     "status": "completed"
    },
    "tags": []
   },
   "source": [
    "## Display true and predicted val set bboxes\n",
    "\n",
    "Here we will display the true and predicted bboxes for two val batches."
   ]
  },
  {
   "cell_type": "code",
   "execution_count": 56,
   "metadata": {
    "execution": {
     "iopub.status.busy": "2022-11-28T02:17:12.730552Z",
     "iopub.status.idle": "2022-11-28T02:17:12.731052Z",
     "shell.execute_reply": "2022-11-28T02:17:12.730820Z",
     "shell.execute_reply.started": "2022-11-28T02:17:12.730798Z"
    },
    "papermill": {
     "duration": 3.956924,
     "end_time": "2021-07-18T06:56:25.962776",
     "exception": false,
     "start_time": "2021-07-18T06:56:22.005852",
     "status": "completed"
    },
    "tags": []
   },
   "outputs": [
    {
     "data": {
      "text/plain": [
       "<Figure size 1080x1080 with 0 Axes>"
      ]
     },
     "execution_count": 56,
     "metadata": {},
     "output_type": "execute_result"
    },
    {
     "data": {
      "text/plain": [
       "<Figure size 1080x1080 with 0 Axes>"
      ]
     },
     "metadata": {},
     "output_type": "display_data"
    }
   ],
   "source": [
    "# BATCH 0 - TRUE BBOXES\n",
    "\n",
    "plt.figure(figsize = (15, 15))\n",
    "#plt.imshow(plt.imread(f'runs/train/{exp}/test_batch0_labels.jpg'))"
   ]
  },
  {
   "cell_type": "code",
   "execution_count": 57,
   "metadata": {
    "execution": {
     "iopub.status.busy": "2022-11-28T02:17:12.732470Z",
     "iopub.status.idle": "2022-11-28T02:17:12.733130Z",
     "shell.execute_reply": "2022-11-28T02:17:12.732951Z",
     "shell.execute_reply.started": "2022-11-28T02:17:12.732931Z"
    },
    "papermill": {
     "duration": 4.657357,
     "end_time": "2021-07-18T06:56:34.292266",
     "exception": false,
     "start_time": "2021-07-18T06:56:29.634909",
     "status": "completed"
    },
    "tags": []
   },
   "outputs": [
    {
     "data": {
      "text/plain": [
       "<Figure size 1080x1080 with 0 Axes>"
      ]
     },
     "execution_count": 57,
     "metadata": {},
     "output_type": "execute_result"
    },
    {
     "data": {
      "text/plain": [
       "<Figure size 1080x1080 with 0 Axes>"
      ]
     },
     "metadata": {},
     "output_type": "display_data"
    }
   ],
   "source": [
    "# BATCH 0 - PREDICTED BBOXES\n",
    "\n",
    "plt.figure(figsize = (15, 15))\n",
    "#plt.imshow(plt.imread(f'runs/train/{exp}/test_batch0_pred.jpg'))"
   ]
  },
  {
   "cell_type": "code",
   "execution_count": 58,
   "metadata": {
    "execution": {
     "iopub.status.busy": "2022-11-28T02:17:12.734491Z",
     "iopub.status.idle": "2022-11-28T02:17:12.734864Z",
     "shell.execute_reply": "2022-11-28T02:17:12.734699Z",
     "shell.execute_reply.started": "2022-11-28T02:17:12.734681Z"
    },
    "papermill": {
     "duration": 4.052771,
     "end_time": "2021-07-18T06:56:41.741357",
     "exception": false,
     "start_time": "2021-07-18T06:56:37.688586",
     "status": "completed"
    },
    "tags": []
   },
   "outputs": [
    {
     "data": {
      "text/plain": [
       "<Figure size 1080x1080 with 0 Axes>"
      ]
     },
     "execution_count": 58,
     "metadata": {},
     "output_type": "execute_result"
    },
    {
     "data": {
      "text/plain": [
       "<Figure size 1080x1080 with 0 Axes>"
      ]
     },
     "metadata": {},
     "output_type": "display_data"
    }
   ],
   "source": [
    "# BATCH 1 - TRUE BBOXES\n",
    "\n",
    "plt.figure(figsize = (15, 15))\n",
    "#plt.imshow(plt.imread(f'runs/train/{exp}/test_batch1_labels.jpg'))"
   ]
  },
  {
   "cell_type": "code",
   "execution_count": 59,
   "metadata": {
    "execution": {
     "iopub.status.busy": "2022-11-28T02:17:12.736117Z",
     "iopub.status.idle": "2022-11-28T02:17:12.736557Z",
     "shell.execute_reply": "2022-11-28T02:17:12.736328Z",
     "shell.execute_reply.started": "2022-11-28T02:17:12.736311Z"
    },
    "papermill": {
     "duration": 4.138354,
     "end_time": "2021-07-18T06:56:49.649222",
     "exception": false,
     "start_time": "2021-07-18T06:56:45.510868",
     "status": "completed"
    },
    "tags": []
   },
   "outputs": [
    {
     "data": {
      "text/plain": [
       "<Figure size 1080x1080 with 0 Axes>"
      ]
     },
     "execution_count": 59,
     "metadata": {},
     "output_type": "execute_result"
    },
    {
     "data": {
      "text/plain": [
       "<Figure size 1080x1080 with 0 Axes>"
      ]
     },
     "metadata": {},
     "output_type": "display_data"
    }
   ],
   "source": [
    "# BATCH 1 - PREDICTED BBOXES\n",
    "\n",
    "plt.figure(figsize = (15, 15))\n",
    "#plt.imshow(plt.imread(f'runs/train/{exp}/test_batch1_pred.jpg'))"
   ]
  },
  {
   "cell_type": "code",
   "execution_count": null,
   "metadata": {
    "papermill": {
     "duration": 3.82951,
     "end_time": "2021-07-18T06:56:56.920429",
     "exception": false,
     "start_time": "2021-07-18T06:56:53.090919",
     "status": "completed"
    },
    "tags": []
   },
   "outputs": [],
   "source": []
  },
  {
   "cell_type": "markdown",
   "metadata": {
    "papermill": {
     "duration": 4.04488,
     "end_time": "2021-07-18T06:57:04.446831",
     "exception": false,
     "start_time": "2021-07-18T06:57:00.401951",
     "status": "completed"
    },
    "tags": []
   },
   "source": [
    "## Make a prediction on the val set"
   ]
  },
  {
   "cell_type": "code",
   "execution_count": 60,
   "metadata": {
    "execution": {
     "iopub.status.busy": "2022-11-28T02:17:12.737933Z",
     "iopub.status.idle": "2022-11-28T02:17:12.738576Z",
     "shell.execute_reply": "2022-11-28T02:17:12.738382Z",
     "shell.execute_reply.started": "2022-11-28T02:17:12.738362Z"
    },
    "papermill": {
     "duration": 4.204321,
     "end_time": "2021-07-18T06:57:12.466427",
     "exception": false,
     "start_time": "2021-07-18T06:57:08.262106",
     "status": "completed"
    },
    "tags": []
   },
   "outputs": [
    {
     "name": "stdout",
     "output_type": "stream",
     "text": [
      "/bin/bash: warning: setlocale: LC_ALL: cannot change locale (en_US.UTF-8)\r\n",
      "/root\r\n"
     ]
    }
   ],
   "source": [
    "# change the working directory\n",
    "os.chdir(root)\n",
    "\n",
    "!pwd"
   ]
  },
  {
   "cell_type": "code",
   "execution_count": 61,
   "metadata": {
    "execution": {
     "iopub.status.busy": "2022-11-28T02:17:12.739729Z",
     "iopub.status.idle": "2022-11-28T02:17:12.740142Z",
     "shell.execute_reply": "2022-11-28T02:17:12.739975Z",
     "shell.execute_reply.started": "2022-11-28T02:17:12.739957Z"
    },
    "papermill": {
     "duration": 5.227336,
     "end_time": "2021-07-18T06:57:28.383883",
     "exception": false,
     "start_time": "2021-07-18T06:57:23.156547",
     "status": "completed"
    },
    "tags": []
   },
   "outputs": [
    {
     "data": {
      "text/plain": [
       "132"
      ]
     },
     "execution_count": 61,
     "metadata": {},
     "output_type": "execute_result"
    }
   ],
   "source": [
    "# Create a folder to store the extracted files\n",
    "if os.path.isdir('yolo_images_dir') == False:\n",
    "    yolo_images_dir = 'yolo_images_dir'\n",
    "    os.mkdir(yolo_images_dir)\n",
    "    \n",
    "    \n",
    "    \n",
    "val_fname_list = list(df_val['image_id'])\n",
    "\n",
    "for image_id in val_fname_list:\n",
    "    \n",
    "    fname = image_id + '.png'\n",
    "    \n",
    "    # Copy the image to images\n",
    "    # Set the path to the images here.\n",
    "    shutil.copyfile(\n",
    "        f\"{base_path}/{IMAGES_FOLDER}/{IMAGES_FOLDER}/{fname}\",\n",
    "        f\"yolo_images_dir/{fname}\")\n",
    "    \n",
    "    \n",
    "len(os.listdir('yolo_images_dir'))"
   ]
  },
  {
   "cell_type": "code",
   "execution_count": 62,
   "metadata": {
    "execution": {
     "iopub.status.busy": "2022-11-28T02:17:12.741345Z",
     "iopub.status.idle": "2022-11-28T02:17:12.742109Z",
     "shell.execute_reply": "2022-11-28T02:17:12.741905Z",
     "shell.execute_reply.started": "2022-11-28T02:17:12.741863Z"
    },
    "papermill": {
     "duration": 4.662857,
     "end_time": "2021-07-18T06:57:36.513146",
     "exception": false,
     "start_time": "2021-07-18T06:57:31.850289",
     "status": "completed"
    },
    "tags": []
   },
   "outputs": [
    {
     "name": "stdout",
     "output_type": "stream",
     "text": [
      "/bin/bash: warning: setlocale: LC_ALL: cannot change locale (en_US.UTF-8)\r\n",
      "VAST_Setup_Notebook_for_Mammo.ipynb\t\t   onstart.sh\r\n",
      "best.pt\t\t\t\t\t\t   ports.log\r\n",
      "exp49_10f_df_data_w_folds.csv\t\t\t   requirements.txt\r\n",
      "exp51-mammo-vast-yolov5-5-0-yolov5l-new-aug.ipynb  smart-mammo-data\r\n",
      "input\t\t\t\t\t\t   yolo_images_dir\r\n",
      "my-yolov5-for-offline-use\t\t\t   yolov5\r\n",
      "onstart.log\r\n"
     ]
    }
   ],
   "source": [
    "!ls"
   ]
  },
  {
   "cell_type": "code",
   "execution_count": 63,
   "metadata": {
    "execution": {
     "iopub.status.busy": "2022-11-28T02:17:12.743199Z",
     "iopub.status.idle": "2022-11-28T02:17:12.743598Z",
     "shell.execute_reply": "2022-11-28T02:17:12.743396Z",
     "shell.execute_reply.started": "2022-11-28T02:17:12.743380Z"
    },
    "papermill": {
     "duration": 4.277636,
     "end_time": "2021-07-18T06:57:44.58411",
     "exception": false,
     "start_time": "2021-07-18T06:57:40.306474",
     "status": "completed"
    },
    "tags": []
   },
   "outputs": [
    {
     "name": "stdout",
     "output_type": "stream",
     "text": [
      "/bin/bash: warning: setlocale: LC_ALL: cannot change locale (en_US.UTF-8)\r\n",
      "/root/yolov5\r\n"
     ]
    }
   ],
   "source": [
    "# change the working directory\n",
    "os.chdir(f'{root}/yolov5')\n",
    "\n",
    "!pwd"
   ]
  },
  {
   "cell_type": "code",
   "execution_count": 64,
   "metadata": {
    "_kg_hide-output": true,
    "execution": {
     "iopub.status.busy": "2022-11-28T02:17:12.745473Z",
     "iopub.status.idle": "2022-11-28T02:17:12.747599Z",
     "shell.execute_reply": "2022-11-28T02:17:12.747301Z",
     "shell.execute_reply.started": "2022-11-28T02:17:12.747261Z"
    },
    "papermill": {
     "duration": 41.782806,
     "end_time": "2021-07-18T06:58:29.775248",
     "exception": false,
     "start_time": "2021-07-18T06:57:47.992442",
     "status": "completed"
    },
    "tags": []
   },
   "outputs": [
    {
     "name": "stdout",
     "output_type": "stream",
     "text": [
      "/bin/bash: warning: setlocale: LC_ALL: cannot change locale (en_US.UTF-8)\n",
      "Namespace(agnostic_nms=False, augment=False, classes=None, conf_thres=0.25, device='', exist_ok=True, img_size=1024, iou_thres=0.45, name='exp', nosave=False, project='runs/detect', save_conf=True, save_txt=True, source='/root/yolo_images_dir', update=False, view_img=False, weights=['/root/best.pt'])\n",
      "YOLOv5 🚀 2022-11-22 torch 1.12.0.dev20220327+cu113 CUDA:0 (NVIDIA RTX A5000, 24256.375MB)\n",
      "                                                   CUDA:1 (NVIDIA RTX A5000, 24256.375MB)\n",
      "\n",
      "Fusing layers... \n",
      "/usr/local/lib/python3.8/dist-packages/torch/functional.py:599: UserWarning: torch.meshgrid: in an upcoming release, it will be required to pass the indexing argument. (Triggered internally at  ../aten/src/ATen/native/TensorShape.cpp:2315.)\n",
      "  return _VF.meshgrid(tensors, **kwargs)  # type: ignore[attr-defined]\n",
      "Model Summary: 392 layers, 46605951 parameters, 0 gradients, 113.9 GFLOPS\n",
      "image 1/132 /root/yolo_images_dir/008c66563c73b2f5b8e42915b2cd6af5.png: 1024x736 1 1, Done. (0.049s)\n",
      "image 2/132 /root/yolo_images_dir/01fb871dc222684a9950609b62b76772.png: 1024x832 1 1, Done. (0.041s)\n",
      "image 3/132 /root/yolo_images_dir/031592807c30b54e2fb4bd2400e634e8.png: 1024x832 Done. (0.013s)\n",
      "image 4/132 /root/yolo_images_dir/033e4f9ee05749cd591c958aa873dc8b.png: 1024x832 Done. (0.013s)\n",
      "image 5/132 /root/yolo_images_dir/06073969e7453f71ac8108c6081dc9b8.png: 1024x832 1 1, Done. (0.016s)\n",
      "image 6/132 /root/yolo_images_dir/074775a9e94c93ed3ee32a82d2864c68.png: 1024x832 2 1s, Done. (0.013s)\n",
      "image 7/132 /root/yolo_images_dir/07f468d6fff5b3e3b512e4b95cf0cdda.png: 1024x832 2 1s, Done. (0.013s)\n",
      "image 8/132 /root/yolo_images_dir/0c48ef2d25c7fe685e4a9d20b676c3a7.png: 1024x832 1 1, Done. (0.013s)\n",
      "image 9/132 /root/yolo_images_dir/0d0c76cf04069b224806e8d8d3a9351b.png: 1024x832 1 1, Done. (0.013s)\n",
      "image 10/132 /root/yolo_images_dir/0dc38f7b2936fff46ec10a0beb5aaeb2.png: 1024x832 1 1, Done. (0.014s)\n",
      "image 11/132 /root/yolo_images_dir/0f0009a94c664c2b67ae78fd675f323c.png: 1024x800 Done. (0.041s)\n",
      "image 12/132 /root/yolo_images_dir/100f9f1f5392774416f1a1e66a5a4c71.png: 1024x832 Done. (0.013s)\n",
      "image 13/132 /root/yolo_images_dir/1176a356c1d5571f4aefeff8fbf5bb4b.png: 1024x832 Done. (0.013s)\n",
      "image 14/132 /root/yolo_images_dir/11b953e33bdaee7933f8d1db574942af.png: 1024x832 1 1, Done. (0.013s)\n",
      "image 15/132 /root/yolo_images_dir/1a726ea772cfde63af2de1d9d1fba472.png: 1024x832 1 1, Done. (0.013s)\n",
      "image 16/132 /root/yolo_images_dir/1bad693bff15cd631e84f1cfc717f3bb.png: 1024x800 Done. (0.012s)\n",
      "image 17/132 /root/yolo_images_dir/1c77399720e266b2124c6151b7bec82b.png: 1024x832 Done. (0.013s)\n",
      "image 18/132 /root/yolo_images_dir/1d136d5f293069a1f77f544cf0f8265b.png: 1024x832 2 1s, Done. (0.013s)\n",
      "image 19/132 /root/yolo_images_dir/20e22b55458ddc1002871f0b10bc0c91.png: 1024x832 1 1, Done. (0.013s)\n",
      "image 20/132 /root/yolo_images_dir/26eff7e7822b45d98c11fc3e51b46277.png: 1024x832 1 1, Done. (0.015s)\n",
      "image 21/132 /root/yolo_images_dir/27fdb282ea9e69942db9b9917472932d.png: 1024x832 1 1, Done. (0.013s)\n",
      "image 22/132 /root/yolo_images_dir/2973bcf878fad1e9edade25be62602ce.png: 1024x736 1 1, Done. (0.015s)\n",
      "image 23/132 /root/yolo_images_dir/2b5cec9cad04a6c5eaf1cd2ec2e7a6f2.png: 1024x736 1 1, Done. (0.014s)\n",
      "image 24/132 /root/yolo_images_dir/2cbc958d02aef84dc63e210e2ed810a2.png: 1024x768 Done. (0.043s)\n",
      "image 25/132 /root/yolo_images_dir/2ce389a2252ceb3a87a7be9a14721692.png: 1024x832 1 1, Done. (0.015s)\n",
      "image 26/132 /root/yolo_images_dir/30caea823462601262e5d393e6d0312a.png: 1024x832 1 1, Done. (0.013s)\n",
      "image 27/132 /root/yolo_images_dir/31c3acc9ef4579964abea92c254709a4.png: 1024x832 1 1, Done. (0.013s)\n",
      "image 28/132 /root/yolo_images_dir/32778aee1d68f09b110dcca3ea5a549e.png: 1024x832 Done. (0.015s)\n",
      "image 29/132 /root/yolo_images_dir/338460bf0c6de576629169b75370964b.png: 1024x832 1 1, Done. (0.013s)\n",
      "image 30/132 /root/yolo_images_dir/389c6de05c56e4f55375be89356b31f7.png: 1024x832 1 1, Done. (0.013s)\n",
      "image 31/132 /root/yolo_images_dir/395bca158c0fcea6171e410a19a019a8.png: 1024x832 Done. (0.015s)\n",
      "image 32/132 /root/yolo_images_dir/396bea28fd4be11598bc53bf5f2b7460.png: 1024x832 1 1, Done. (0.013s)\n",
      "image 33/132 /root/yolo_images_dir/39f3ef0e8046a9b4e6c81262d634053d.png: 1024x832 1 1, Done. (0.014s)\n",
      "image 34/132 /root/yolo_images_dir/4222799fe0cfa6c38deebb89967baec9.png: 1024x832 2 1s, Done. (0.013s)\n",
      "image 35/132 /root/yolo_images_dir/45a8bc598847fa7a8ccb5f6e77e95ed5.png: 1024x736 1 1, Done. (0.014s)\n",
      "image 36/132 /root/yolo_images_dir/46d9c0dced48fa61647ce80db623491e.png: 1024x832 1 1, Done. (0.013s)\n",
      "image 37/132 /root/yolo_images_dir/493609b26e1341ce737a60b5b930a757.png: 1024x832 2 1s, Done. (0.013s)\n",
      "image 38/132 /root/yolo_images_dir/49cf189f3a033a24396459793ad27017.png: 1024x736 Done. (0.014s)\n",
      "image 39/132 /root/yolo_images_dir/49d1e8a82b271d3d589dfad38f72f73d.png: 1024x832 1 1, Done. (0.016s)\n",
      "image 40/132 /root/yolo_images_dir/4b1e47252823c8f580ac4b9e6c2429ce.png: 1024x832 1 1, Done. (0.014s)\n",
      "image 41/132 /root/yolo_images_dir/52b403c5c51efa04629aebd1629bd1a5.png: 1024x832 2 1s, Done. (0.012s)\n",
      "image 42/132 /root/yolo_images_dir/53c092e62d94e3193734c7bdf81a6b49.png: 1024x832 2 1s, Done. (0.013s)\n",
      "image 43/132 /root/yolo_images_dir/54cdbb11f9da7660575eef584b9ce520.png: 1024x832 Done. (0.012s)\n",
      "image 44/132 /root/yolo_images_dir/592fc7ae253f7e6d8f070f06c5d3bed0.png: 1024x832 Done. (0.012s)\n",
      "image 45/132 /root/yolo_images_dir/59cdcc53f76f8c12741f7770d8fb372d.png: 1024x736 Done. (0.014s)\n",
      "image 46/132 /root/yolo_images_dir/59efa30f975f06c7d17042c190fd7c42.png: 1024x832 1 1, Done. (0.015s)\n",
      "image 47/132 /root/yolo_images_dir/5d9efa5b29d0b6ac316a010f3f77acf6.png: 1024x832 1 1, Done. (0.013s)\n",
      "image 48/132 /root/yolo_images_dir/60fafaf810c5967c7f3bc03ebca7591d.png: 1024x832 1 1, Done. (0.013s)\n",
      "image 49/132 /root/yolo_images_dir/6266ffa44d75d2edc9d3c725b20b6d49.png: 1024x736 1 1, Done. (0.015s)\n",
      "image 50/132 /root/yolo_images_dir/638d80ea028aed5905c4a2acb4cfbb0f.png: 1024x832 Done. (0.013s)\n",
      "image 51/132 /root/yolo_images_dir/6392630b844031e3aa5ce15acd2852af.png: 1024x832 Done. (0.012s)\n",
      "image 52/132 /root/yolo_images_dir/66d392ec44df82ac333d01411a01679d.png: 1024x832 1 1, Done. (0.013s)\n",
      "image 53/132 /root/yolo_images_dir/6c571a3fb5a3abe21141333f65b5bf09.png: 1024x832 2 1s, Done. (0.013s)\n",
      "image 54/132 /root/yolo_images_dir/6e4448eaeab5fd0eb114a59553faae7c.png: 1024x832 2 1s, Done. (0.013s)\n",
      "image 55/132 /root/yolo_images_dir/6ec73d7e74c73265c4f9ed781ccecd71.png: 1024x736 Done. (0.014s)\n",
      "image 56/132 /root/yolo_images_dir/700d65782e684be66b823b388366620e.png: 1024x832 1 1, Done. (0.013s)\n",
      "image 57/132 /root/yolo_images_dir/7147d78a9fef08b6eba38c0cae4d822f.png: 1024x832 Done. (0.013s)\n",
      "image 58/132 /root/yolo_images_dir/726e579eb8982c5fb3c120039a64fe01.png: 1024x832 Done. (0.013s)\n",
      "image 59/132 /root/yolo_images_dir/7323314998471cde47c6fba70ae6d32c.png: 1024x736 1 1, Done. (0.014s)\n",
      "image 60/132 /root/yolo_images_dir/7518414a42a0f0e517b57067066f6dd7.png: 1024x832 Done. (0.014s)\n",
      "image 61/132 /root/yolo_images_dir/7a53b6689ed19c4006227e46b158906f.png: 1024x832 1 1, Done. (0.015s)\n",
      "image 62/132 /root/yolo_images_dir/7be2e5f9ade68ae2bfe4e5edb4968654.png: 1024x736 2 1s, Done. (0.015s)\n",
      "image 63/132 /root/yolo_images_dir/7d0b427e2b5e194df200885b9008a9fb.png: 1024x832 1 1, Done. (0.013s)\n",
      "image 64/132 /root/yolo_images_dir/7fd757ca1303a6a62f157b83f1f0c929.png: 1024x832 Done. (0.015s)\n",
      "image 65/132 /root/yolo_images_dir/80440acf117f4cecd3ac74097adc8101.png: 1024x832 1 1, Done. (0.013s)\n",
      "image 66/132 /root/yolo_images_dir/80ae11a78bfd7c9598138c82cd756ad3.png: 1024x832 1 1, Done. (0.014s)\n",
      "image 67/132 /root/yolo_images_dir/8294fb1bf4db22fa923e36f8b12997dd.png: 1024x832 1 1, Done. (0.013s)\n",
      "image 68/132 /root/yolo_images_dir/82ce050e4866fc273dd87e0a7498c0da.png: 1024x832 1 1, Done. (0.013s)\n",
      "image 69/132 /root/yolo_images_dir/8470557fec9bd5f0f1b30ec48b1d8654.png: 1024x736 Done. (0.014s)\n",
      "image 70/132 /root/yolo_images_dir/85939e3cfdb707f342917c1f56a56306.png: 1024x832 Done. (0.013s)\n",
      "image 71/132 /root/yolo_images_dir/86ab85b00f60d2d8e238594886880438.png: 1024x832 1 1, Done. (0.013s)\n",
      "image 72/132 /root/yolo_images_dir/899a09abd9ab542682b3a41724bcccdc.png: 1024x736 Done. (0.015s)\n",
      "image 73/132 /root/yolo_images_dir/8ed0618edab59a40763a118c052a52ba.png: 1024x832 2 1s, Done. (0.014s)\n",
      "image 74/132 /root/yolo_images_dir/93960b56ba5808e9047aff73cf9b0762.png: 1024x832 Done. (0.014s)\n",
      "image 75/132 /root/yolo_images_dir/944ae44a56fe698b87f5b435c32b3769.png: 1024x832 1 1, Done. (0.013s)\n",
      "image 76/132 /root/yolo_images_dir/96eb9c4bdf059f2f8da825bfc0a3ba69.png: 1024x832 Done. (0.012s)\n",
      "image 77/132 /root/yolo_images_dir/98325e2b9e96c4423e9818411a7a862f.png: 1024x832 Done. (0.012s)\n",
      "image 78/132 /root/yolo_images_dir/98d9121596f36834a1de8441d0aab483.png: 1024x832 Done. (0.012s)\n",
      "image 79/132 /root/yolo_images_dir/9a728250069ba3419ccc1f35b94bd252.png: 1024x832 Done. (0.012s)\n",
      "image 80/132 /root/yolo_images_dir/9dc911bbf82a852387976bad85e7a142.png: 1024x832 1 1, Done. (0.014s)\n",
      "image 81/132 /root/yolo_images_dir/a3214c506a005b639b4d720de9cea847.png: 1024x832 Done. (0.012s)\n",
      "image 82/132 /root/yolo_images_dir/a4940f4a5e68cc3f959039fc7a7101fa.png: 1024x832 2 1s, Done. (0.013s)\n",
      "image 83/132 /root/yolo_images_dir/a4d498287af7763bac9ccb7b596d4939.png: 1024x832 1 1, Done. (0.013s)\n",
      "image 84/132 /root/yolo_images_dir/a7215359f4ab5efc6d81f57543d0a8bd.png: 1024x736 1 1, Done. (0.015s)\n",
      "image 85/132 /root/yolo_images_dir/a726e03b371093bf18cf884c39dad799.png: 1024x736 1 1, Done. (0.014s)\n",
      "image 86/132 /root/yolo_images_dir/aa02e8c5422114d20da11c573d0ee8ee.png: 1024x832 Done. (0.013s)\n",
      "image 87/132 /root/yolo_images_dir/ad1006a223318d07bbc3e58443a621a0.png: 1024x832 1 1, Done. (0.013s)\n",
      "image 88/132 /root/yolo_images_dir/ae672f355541acfae894998dea1ec998.png: 1024x832 1 1, Done. (0.013s)\n",
      "image 89/132 /root/yolo_images_dir/af34fd8e49975ab42bd8343e4f5eb821.png: 1024x736 1 1, Done. (0.015s)\n",
      "image 90/132 /root/yolo_images_dir/b245b5394e517f3950c4268471e92d20.png: 1024x832 Done. (0.014s)\n",
      "image 91/132 /root/yolo_images_dir/b68bf8e5a0640f159ad977f0e64aac69.png: 1024x832 1 1, Done. (0.013s)\n",
      "image 92/132 /root/yolo_images_dir/b6db414be07dc1fb3cbf82a9e3a4966a.png: 1024x832 Done. (0.013s)\n",
      "image 93/132 /root/yolo_images_dir/b74f95f32636aff0b94540891c6b1f14.png: 1024x832 Done. (0.015s)\n",
      "image 94/132 /root/yolo_images_dir/b7d9bfff242190b8793b2a412ae1d68e.png: 1024x832 1 1, Done. (0.013s)\n",
      "image 95/132 /root/yolo_images_dir/bb8713e5123f6c09c16aca25c51845b5.png: 1024x832 Done. (0.012s)\n",
      "image 96/132 /root/yolo_images_dir/bc44e100d187ad2eecc32236ec7c2b11.png: 1024x832 Done. (0.014s)\n",
      "image 97/132 /root/yolo_images_dir/c09132c25d096cb951dd2d99f29c8230.png: 1024x832 1 1, Done. (0.013s)\n",
      "image 98/132 /root/yolo_images_dir/c171fed7a869e9cb41c9a10e7ee6f4f9.png: 1024x832 Done. (0.013s)\n",
      "image 99/132 /root/yolo_images_dir/c58233033d21865c0c1e8f9b353d60ba.png: 1024x832 Done. (0.013s)\n",
      "image 100/132 /root/yolo_images_dir/c8fc55b240f0f3dd7c075b367160f289.png: 1024x832 1 1, Done. (0.016s)\n",
      "image 101/132 /root/yolo_images_dir/c99fc0b9b7bc0618d0b156db5d1905d8.png: 1024x832 Done. (0.012s)\n",
      "image 102/132 /root/yolo_images_dir/cac15b7c21ed74ac4f86a1adc37cd40e.png: 1024x832 1 1, Done. (0.013s)\n",
      "image 103/132 /root/yolo_images_dir/cb02caed6492a9619e93a3bd265a9c7f.png: 1024x832 Done. (0.013s)\n",
      "image 104/132 /root/yolo_images_dir/d55fe35cb1cac106c8b5f05967642991.png: 1024x832 1 1, Done. (0.013s)\n",
      "image 105/132 /root/yolo_images_dir/da4b052520acb60e2711a091f8f0bba3.png: 1024x832 1 1, Done. (0.013s)\n",
      "image 106/132 /root/yolo_images_dir/db3d24caffbb3814596361025e73aca3.png: 1024x736 1 1, Done. (0.014s)\n",
      "image 107/132 /root/yolo_images_dir/db70c6572ab2f8633feb484aa6d7d38d.png: 1024x736 1 1, Done. (0.014s)\n",
      "image 108/132 /root/yolo_images_dir/dba34fe8cb1a32449568d8da90f786cb.png: 1024x832 Done. (0.013s)\n",
      "image 109/132 /root/yolo_images_dir/dbfffde4219dfb6aab1a5fe2d21a99d0.png: 1024x832 1 1, Done. (0.013s)\n",
      "image 110/132 /root/yolo_images_dir/dce7898554efd8b922dd5425d828db8d.png: 1024x832 Done. (0.013s)\n",
      "image 111/132 /root/yolo_images_dir/dee30355cc67413cbe4c12770a0d088f.png: 1024x832 1 1, Done. (0.013s)\n",
      "image 112/132 /root/yolo_images_dir/df17a9f399b214cb863d754e376f8673.png: 1024x832 1 1, Done. (0.013s)\n",
      "image 113/132 /root/yolo_images_dir/df4b1cfb384dab76abc34cc4db0f5b30.png: 1024x832 1 1, Done. (0.013s)\n",
      "image 114/132 /root/yolo_images_dir/e13c80239d7714e3d964b5f3e37bcff6.png: 1024x832 Done. (0.013s)\n",
      "image 115/132 /root/yolo_images_dir/e22e24c243bde531bd5ed18e90702768.png: 1024x832 Done. (0.012s)\n",
      "image 116/132 /root/yolo_images_dir/e358f2f0c30528fdb453c51e21f9e3f1.png: 1024x832 1 1, Done. (0.013s)\n",
      "image 117/132 /root/yolo_images_dir/e584baaff798425b74b2f255c6eaf02e.png: 1024x768 Done. (0.014s)\n",
      "image 118/132 /root/yolo_images_dir/e61d36901ebb6b37ac41f6ca84e5c81b.png: 1024x832 Done. (0.013s)\n",
      "image 119/132 /root/yolo_images_dir/e6a5252283c2aea95e089c564ca6260f.png: 1024x832 1 1, Done. (0.013s)\n",
      "image 120/132 /root/yolo_images_dir/e788be650ac8e1f81beda55451f217e3.png: 1024x832 1 1, Done. (0.013s)\n",
      "image 121/132 /root/yolo_images_dir/e793562ebc24362abe53753378f9cf28.png: 1024x768 1 1, Done. (0.014s)\n",
      "image 122/132 /root/yolo_images_dir/e79f419d756e9902fc6ff80ca0d7f7a3.png: 1024x832 1 1, Done. (0.013s)\n",
      "image 123/132 /root/yolo_images_dir/e9c639f5926584509413a6d71f7be603.png: 1024x832 1 1, Done. (0.013s)\n",
      "image 124/132 /root/yolo_images_dir/eceb26b4e6e65380b4e320233a755cfc.png: 1024x832 1 1, Done. (0.014s)\n",
      "image 125/132 /root/yolo_images_dir/f1f79501410a98782c0a03b48e66df83.png: 1024x832 Done. (0.012s)\n",
      "image 126/132 /root/yolo_images_dir/f5b9c502a087f77d0606b0291a2e0606.png: 1024x832 1 1, Done. (0.013s)\n",
      "image 127/132 /root/yolo_images_dir/f75e7aff7268ba2e462c284e30cfc5b5.png: 1024x832 1 1, Done. (0.013s)\n",
      "image 128/132 /root/yolo_images_dir/f78853b3aa2445fb60d677f6f5d82ca7.png: 1024x736 Done. (0.014s)\n",
      "image 129/132 /root/yolo_images_dir/f978cb9d32a74171873fb280779aa37f.png: 1024x736 2 1s, Done. (0.014s)\n",
      "image 130/132 /root/yolo_images_dir/f9a54449757586583a8f36ccc821f7ac.png: 1024x832 1 1, Done. (0.014s)\n",
      "image 131/132 /root/yolo_images_dir/fa2f7816bf1b07f2104aa4edeff9b107.png: 1024x832 2 1s, Done. (0.013s)\n",
      "image 132/132 /root/yolo_images_dir/fc6a348a61d4282a66ac2dc6dbec5981.png: 1024x832 Done. (0.012s)\n",
      "Results saved to runs/detect/exp\n",
      "83 labels saved to runs/detect/exp/labels\n",
      "Done. (30.666s)\n"
     ]
    }
   ],
   "source": [
    "# Make a prediction on all images in images_dir\n",
    "\n",
    "# The model only creates a txt file if it finds objects on an image.\n",
    "\n",
    "test_images_path = f'{root}/yolo_images_dir'\n",
    "yolo_model_path = f'{root}/best.pt'\n",
    "\n",
    "# Ensembling two Yolo models\n",
    "# How to ensemble Yolov5 models:\n",
    "# Ref: https://github.com/ultralytics/yolov5/issues/318\n",
    "\n",
    "!python detect.py --source $test_images_path --weights $yolo_model_path --img $IMAGE_SIZE --save-txt --save-conf --exist-ok"
   ]
  },
  {
   "cell_type": "markdown",
   "metadata": {
    "papermill": {
     "duration": 3.642808,
     "end_time": "2021-07-18T06:58:37.370203",
     "exception": false,
     "start_time": "2021-07-18T06:58:33.727395",
     "status": "completed"
    },
    "tags": []
   },
   "source": [
    "## Process the predictions"
   ]
  },
  {
   "cell_type": "code",
   "execution_count": 65,
   "metadata": {
    "execution": {
     "iopub.status.busy": "2022-11-28T02:17:12.748900Z",
     "iopub.status.idle": "2022-11-28T02:17:12.749818Z",
     "shell.execute_reply": "2022-11-28T02:17:12.749539Z",
     "shell.execute_reply.started": "2022-11-28T02:17:12.749510Z"
    },
    "papermill": {
     "duration": 4.536142,
     "end_time": "2021-07-18T06:58:45.507384",
     "exception": false,
     "start_time": "2021-07-18T06:58:40.971242",
     "status": "completed"
    },
    "tags": []
   },
   "outputs": [
    {
     "name": "stdout",
     "output_type": "stream",
     "text": [
      "83\n",
      "008c66563c73b2f5b8e42915b2cd6af5.txt\n"
     ]
    }
   ],
   "source": [
    "txt_files_list = os.listdir('runs/detect/exp/labels')\n",
    "\n",
    "print(len(txt_files_list))\n",
    "print(txt_files_list[0])"
   ]
  },
  {
   "cell_type": "code",
   "execution_count": 66,
   "metadata": {
    "execution": {
     "iopub.status.busy": "2022-11-28T02:17:12.751569Z",
     "iopub.status.idle": "2022-11-28T02:17:12.751977Z",
     "shell.execute_reply": "2022-11-28T02:17:12.751801Z",
     "shell.execute_reply.started": "2022-11-28T02:17:12.751783Z"
    },
    "papermill": {
     "duration": 5.758562,
     "end_time": "2021-07-18T06:58:54.922543",
     "exception": false,
     "start_time": "2021-07-18T06:58:49.163981",
     "status": "completed"
    },
    "tags": []
   },
   "outputs": [
    {
     "name": "stdout",
     "output_type": "stream",
     "text": [
      "83\n",
      "83\n",
      "(97, 7)\n"
     ]
    },
    {
     "data": {
      "text/html": [
       "<div>\n",
       "<style scoped>\n",
       "    .dataframe tbody tr th:only-of-type {\n",
       "        vertical-align: middle;\n",
       "    }\n",
       "\n",
       "    .dataframe tbody tr th {\n",
       "        vertical-align: top;\n",
       "    }\n",
       "\n",
       "    .dataframe thead th {\n",
       "        text-align: right;\n",
       "    }\n",
       "</style>\n",
       "<table border=\"1\" class=\"dataframe\">\n",
       "  <thead>\n",
       "    <tr style=\"text-align: right;\">\n",
       "      <th></th>\n",
       "      <th>class</th>\n",
       "      <th>x-center</th>\n",
       "      <th>y-center</th>\n",
       "      <th>bbox_width</th>\n",
       "      <th>bbox_height</th>\n",
       "      <th>conf-score</th>\n",
       "      <th>id</th>\n",
       "    </tr>\n",
       "  </thead>\n",
       "  <tbody>\n",
       "    <tr>\n",
       "      <th>0</th>\n",
       "      <td>1</td>\n",
       "      <td>0.041252</td>\n",
       "      <td>0.594239</td>\n",
       "      <td>0.058648</td>\n",
       "      <td>0.041252</td>\n",
       "      <td>0.396729</td>\n",
       "      <td>008c66563c73b2f5b8e42915b2cd6af5.png</td>\n",
       "    </tr>\n",
       "    <tr>\n",
       "      <th>0</th>\n",
       "      <td>1</td>\n",
       "      <td>0.228929</td>\n",
       "      <td>0.416998</td>\n",
       "      <td>0.065000</td>\n",
       "      <td>0.055145</td>\n",
       "      <td>0.303223</td>\n",
       "      <td>01fb871dc222684a9950609b62b76772.png</td>\n",
       "    </tr>\n",
       "    <tr>\n",
       "      <th>0</th>\n",
       "      <td>1</td>\n",
       "      <td>0.065893</td>\n",
       "      <td>0.533684</td>\n",
       "      <td>0.076071</td>\n",
       "      <td>0.060546</td>\n",
       "      <td>0.719727</td>\n",
       "      <td>06073969e7453f71ac8108c6081dc9b8.png</td>\n",
       "    </tr>\n",
       "    <tr>\n",
       "      <th>0</th>\n",
       "      <td>1</td>\n",
       "      <td>0.807321</td>\n",
       "      <td>0.416430</td>\n",
       "      <td>0.108929</td>\n",
       "      <td>0.089255</td>\n",
       "      <td>0.281250</td>\n",
       "      <td>074775a9e94c93ed3ee32a82d2864c68.png</td>\n",
       "    </tr>\n",
       "    <tr>\n",
       "      <th>1</th>\n",
       "      <td>1</td>\n",
       "      <td>0.728929</td>\n",
       "      <td>0.566941</td>\n",
       "      <td>0.061429</td>\n",
       "      <td>0.048039</td>\n",
       "      <td>0.742676</td>\n",
       "      <td>074775a9e94c93ed3ee32a82d2864c68.png</td>\n",
       "    </tr>\n",
       "  </tbody>\n",
       "</table>\n",
       "</div>"
      ],
      "text/plain": [
       "   class  x-center  y-center  bbox_width  bbox_height  conf-score  \\\n",
       "0      1  0.041252  0.594239    0.058648     0.041252    0.396729   \n",
       "0      1  0.228929  0.416998    0.065000     0.055145    0.303223   \n",
       "0      1  0.065893  0.533684    0.076071     0.060546    0.719727   \n",
       "0      1  0.807321  0.416430    0.108929     0.089255    0.281250   \n",
       "1      1  0.728929  0.566941    0.061429     0.048039    0.742676   \n",
       "\n",
       "                                     id  \n",
       "0  008c66563c73b2f5b8e42915b2cd6af5.png  \n",
       "0  01fb871dc222684a9950609b62b76772.png  \n",
       "0  06073969e7453f71ac8108c6081dc9b8.png  \n",
       "0  074775a9e94c93ed3ee32a82d2864c68.png  \n",
       "1  074775a9e94c93ed3ee32a82d2864c68.png  "
      ]
     },
     "execution_count": 66,
     "metadata": {},
     "output_type": "execute_result"
    }
   ],
   "source": [
    "# Put the info inside all the txt files into one dataframe.\n",
    "# Remember that if the image does not have any bounding boxes\n",
    "# then Yolo does not create a txt file for it.\n",
    "\n",
    "txt_files_list = os.listdir('runs/detect/exp/labels')\n",
    "\n",
    "for i, txt_file in enumerate(txt_files_list):\n",
    "    \n",
    "    # set the path\n",
    "    path = f'runs/detect/exp/labels/{txt_file}'\n",
    "    \n",
    "    # create a list of column names\n",
    "    cols = ['class', 'x-center', 'y-center', 'bbox_width', 'bbox_height', 'conf-score']\n",
    "\n",
    "    # put the file contents into a dataframe\n",
    "    df = pd.read_csv(path, sep=\" \", header=None)\n",
    "    \n",
    "    # add the column names to the datafrae\n",
    "    df.columns = cols\n",
    "    \n",
    "    # Split the txt fname on the full stop and choose the first item \n",
    "    # in the list. The add the .jpg extension.\n",
    "    # 87a0829f53c1.txt becomes 87a0829f53c1_image\n",
    "    #fname = txt_file.split('.')[0] + '.png'\n",
    "    fname = txt_file.replace(\"txt\", \"png\")\n",
    "    \n",
    "    # add a new column with the fname\n",
    "    df['id'] = fname\n",
    " \n",
    "    # stack the dataframes for each txt file\n",
    "    if i == 0:\n",
    "        \n",
    "        df_test_preds = df\n",
    "    else:\n",
    "        \n",
    "        df_test_preds = pd.concat([df_test_preds, df], axis=0)\n",
    "       \n",
    "    \n",
    "    \n",
    "print(len(txt_files_list))\n",
    "print(df_test_preds['id'].nunique())\n",
    "print(df_test_preds.shape)\n",
    "\n",
    "df_test_preds.head()"
   ]
  },
  {
   "cell_type": "code",
   "execution_count": 67,
   "metadata": {
    "execution": {
     "iopub.status.busy": "2022-11-28T02:17:12.753196Z",
     "iopub.status.idle": "2022-11-28T02:17:12.753616Z",
     "shell.execute_reply": "2022-11-28T02:17:12.753405Z",
     "shell.execute_reply.started": "2022-11-28T02:17:12.753387Z"
    },
    "papermill": {
     "duration": 3.732707,
     "end_time": "2021-07-18T06:59:02.462832",
     "exception": false,
     "start_time": "2021-07-18T06:58:58.730125",
     "status": "completed"
    },
    "tags": []
   },
   "outputs": [
    {
     "data": {
      "text/plain": [
       "1    96\n",
       "0    50\n",
       "Name: preds, dtype: int64"
      ]
     },
     "execution_count": 67,
     "metadata": {},
     "output_type": "execute_result"
    }
   ],
   "source": [
    "# Add the predictions to df_val\n",
    "\n",
    "# reset the index\n",
    "df_val = df_val.reset_index(drop=True)\n",
    "\n",
    "# create a new column called 'id'\n",
    "df_val['id'] =  df_val['image_id'] + '.png'\n",
    "\n",
    "val_pred_list = []\n",
    "\n",
    "pred_list = list(df_test_preds['id'])\n",
    "\n",
    "for i in range(0, len(df_val)):\n",
    "    \n",
    "    #fname = df_val.loc[i, 'study_slice']\n",
    "    #fname = study_slice + '.png'\n",
    "    \n",
    "    # get the fname\n",
    "    fname = df_val.loc[i, 'id']\n",
    "    \n",
    "    # The fname will only be in the pred list if Yolo created a txt file for the val image.\n",
    "    # Yolo will only create a txt file if a fracture was detected on the image.\n",
    "    if fname in pred_list:\n",
    "        \n",
    "        val_pred_list.append(1)\n",
    "    else:\n",
    "        val_pred_list.append(0)\n",
    "    \n",
    "    \n",
    "df_val['preds'] = val_pred_list\n",
    "\n",
    "# Check the distribution of the predicted classes\n",
    "df_val['preds'].value_counts()"
   ]
  },
  {
   "cell_type": "markdown",
   "metadata": {},
   "source": [
    "## Convert the true bboxes into masks"
   ]
  },
  {
   "cell_type": "code",
   "execution_count": 68,
   "metadata": {
    "execution": {
     "iopub.status.busy": "2022-11-28T02:17:12.756035Z",
     "iopub.status.idle": "2022-11-28T02:17:12.756628Z",
     "shell.execute_reply": "2022-11-28T02:17:12.756348Z",
     "shell.execute_reply.started": "2022-11-28T02:17:12.756321Z"
    }
   },
   "outputs": [
    {
     "name": "stdout",
     "output_type": "stream",
     "text": [
      "/bin/bash: warning: setlocale: LC_ALL: cannot change locale (en_US.UTF-8)\r\n",
      "/root\r\n"
     ]
    }
   ],
   "source": [
    "# change the working directory\n",
    "os.chdir(root)\n",
    "\n",
    "!pwd"
   ]
  },
  {
   "cell_type": "code",
   "execution_count": 69,
   "metadata": {
    "execution": {
     "iopub.status.busy": "2022-11-28T02:17:12.758029Z",
     "iopub.status.idle": "2022-11-28T02:17:12.758931Z",
     "shell.execute_reply": "2022-11-28T02:17:12.758658Z",
     "shell.execute_reply.started": "2022-11-28T02:17:12.758630Z"
    }
   },
   "outputs": [
    {
     "name": "stdout",
     "output_type": "stream",
     "text": [
      "/bin/bash: warning: setlocale: LC_ALL: cannot change locale (en_US.UTF-8)\r\n",
      "VAST_Setup_Notebook_for_Mammo.ipynb\t\t   onstart.sh\r\n",
      "best.pt\t\t\t\t\t\t   ports.log\r\n",
      "exp49_10f_df_data_w_folds.csv\t\t\t   requirements.txt\r\n",
      "exp51-mammo-vast-yolov5-5-0-yolov5l-new-aug.ipynb  smart-mammo-data\r\n",
      "input\t\t\t\t\t\t   true_masks_dir\r\n",
      "my-yolov5-for-offline-use\t\t\t   yolo_images_dir\r\n",
      "onstart.log\t\t\t\t\t   yolov5\r\n"
     ]
    }
   ],
   "source": [
    "# Create a folder to store the true val masks\n",
    "\n",
    "if os.path.isdir('true_masks_dir') != True:\n",
    "    \n",
    "    true_masks_dir = 'true_masks_dir'\n",
    "    os.mkdir(true_masks_dir)\n",
    "    \n",
    "!ls"
   ]
  },
  {
   "cell_type": "code",
   "execution_count": 70,
   "metadata": {
    "execution": {
     "iopub.status.busy": "2022-11-28T02:17:12.760862Z",
     "iopub.status.idle": "2022-11-28T02:17:12.761440Z",
     "shell.execute_reply": "2022-11-28T02:17:12.761157Z",
     "shell.execute_reply.started": "2022-11-28T02:17:12.761130Z"
    }
   },
   "outputs": [
    {
     "data": {
      "application/vnd.jupyter.widget-view+json": {
       "model_id": "fba5c3e0f9914134b562c28ef8cf53c6",
       "version_major": 2,
       "version_minor": 0
      },
      "text/plain": [
       "  0%|          | 0/146 [00:00<?, ?it/s]"
      ]
     },
     "metadata": {},
     "output_type": "display_data"
    },
    {
     "data": {
      "text/plain": [
       "132"
      ]
     },
     "execution_count": 70,
     "metadata": {},
     "output_type": "execute_result"
    }
   ],
   "source": [
    "# Create true val masks\n",
    "\n",
    "df = df_val.reset_index(drop=True)\n",
    "\n",
    "saved_list = []\n",
    "\n",
    "for index in tqdm(range(0, len(df)), total=len(df)):\n",
    "    \n",
    "    target = df.loc[index, 'target']\n",
    "    \n",
    "    image_id = df.loc[index, 'image_id']\n",
    "    \n",
    "    fname = image_id + '.png'\n",
    "    \n",
    "    # Read the image using cv2.\n",
    "    # We use cv2 because it's the fastest by far.\n",
    "    # But be careful. Keep in mind that cv2 uses a (width, height) input format\n",
    "    # instead of the (height, width) format used by matplotlib.\n",
    "    # Also, cv2 reads images in BGR format by default instead of RGB.\n",
    "    # If your images look blue then they have been read in BGR format.\n",
    "    path = base_path + 'images_dir/images_dir/' + image_id + '.png'\n",
    "    image = cv2.imread(path)\n",
    "    \n",
    "    # cv2 reads in BGR format therefore convert from BGR to RGB.\n",
    "    image = cv2.cvtColor(image, cv2.COLOR_BGR2RGB)\n",
    "\n",
    "    # create a blank mask\n",
    "    mask = np.zeros((image.shape[0], image.shape[1]))\n",
    "    \n",
    "    # Only create a mask if the target is 1 else the\n",
    "    # blank mask will be saved.\n",
    "    if target == 1:\n",
    "        \n",
    "        if fname not in saved_list:\n",
    "\n",
    "            x = round(df.loc[index, 'xmin'])\n",
    "            y = round(df.loc[index, 'ymin'])\n",
    "            xmax = round(df.loc[index, 'xmax'])\n",
    "            ymax = round(df.loc[index, 'ymax'])\n",
    "\n",
    "            w = xmax - x\n",
    "            h = ymax - y\n",
    "\n",
    "            # Add the bbox mask to the blank mask created above.\n",
    "            # Remember that in images the origin coord (0,0) is\n",
    "            # in the top left corner and not in the botton left corner\n",
    "            # like on a graph.\n",
    "            mask[y:y+h, x:x+w] = 1\n",
    "            \n",
    "        else: # Some images have more than on bbox\n",
    "            \n",
    "            # Load the previously saved mask\n",
    "            path = 'true_masks_dir/' + fname\n",
    "            mask = plt.imread(path)\n",
    "            \n",
    "            x = round(df.loc[index, 'xmin'])\n",
    "            y = round(df.loc[index, 'ymin'])\n",
    "            xmax = round(df.loc[index, 'xmax'])\n",
    "            ymax = round(df.loc[index, 'ymax'])\n",
    "\n",
    "            w = xmax - x\n",
    "            h = ymax - y\n",
    "\n",
    "            # Add the bbox mask to the blank mask created above.\n",
    "            # Remember that in images the origin coord (0,0) is\n",
    "            # in the top left corner and not in the botton left corner\n",
    "            # like on a graph.\n",
    "            mask[y:y+h, x:x+w] = 1\n",
    "            \n",
    "    \n",
    "    # Save the mask as an image in the folder\n",
    "    # that we created.\n",
    "    #fname = image_id + '.png'\n",
    "    dst = os.path.join(true_masks_dir, fname)\n",
    "    \n",
    "    cv2.imwrite(dst, mask)\n",
    "    \n",
    "    saved_list.append(fname)\n",
    "    \n",
    "    \n",
    "\n",
    "# Check how mane files are in the new directory\n",
    "\n",
    "file_list = os.listdir('true_masks_dir')\n",
    "\n",
    "len(file_list)"
   ]
  },
  {
   "cell_type": "code",
   "execution_count": 71,
   "metadata": {
    "execution": {
     "iopub.status.busy": "2022-11-28T02:17:12.763136Z",
     "iopub.status.idle": "2022-11-28T02:17:12.763713Z",
     "shell.execute_reply": "2022-11-28T02:17:12.763453Z",
     "shell.execute_reply.started": "2022-11-28T02:17:12.763406Z"
    }
   },
   "outputs": [
    {
     "name": "stdout",
     "output_type": "stream",
     "text": [
      "(3518, 2800)\n"
     ]
    },
    {
     "data": {
      "text/plain": [
       "<matplotlib.image.AxesImage at 0x7f79cdd79190>"
      ]
     },
     "execution_count": 71,
     "metadata": {},
     "output_type": "execute_result"
    },
    {
     "data": {
      "image/png": "[encoded data removed]",
      "text/plain": [
       "<Figure size 432x288 with 1 Axes>"
      ]
     },
     "metadata": {
      "needs_background": "light"
     },
     "output_type": "display_data"
    }
   ],
   "source": [
    "true_mask_list = os.listdir('true_masks_dir')\n",
    "\n",
    "i = 0\n",
    "\n",
    "path = 'true_masks_dir/' + true_mask_list[i]\n",
    "\n",
    "image = plt.imread(path)\n",
    "\n",
    "print(image.shape)\n",
    "\n",
    "plt.imshow(image)"
   ]
  },
  {
   "cell_type": "markdown",
   "metadata": {},
   "source": [
    "## Convert the pred bboxes into masks"
   ]
  },
  {
   "cell_type": "code",
   "execution_count": 72,
   "metadata": {
    "execution": {
     "iopub.status.busy": "2022-11-28T02:17:12.764908Z",
     "iopub.status.idle": "2022-11-28T02:17:12.765474Z",
     "shell.execute_reply": "2022-11-28T02:17:12.765189Z",
     "shell.execute_reply.started": "2022-11-28T02:17:12.765163Z"
    }
   },
   "outputs": [
    {
     "name": "stdout",
     "output_type": "stream",
     "text": [
      "/bin/bash: warning: setlocale: LC_ALL: cannot change locale (en_US.UTF-8)\r\n",
      "VAST_Setup_Notebook_for_Mammo.ipynb\t\t   ports.log\r\n",
      "best.pt\t\t\t\t\t\t   pred_masks_dir\r\n",
      "exp49_10f_df_data_w_folds.csv\t\t\t   requirements.txt\r\n",
      "exp51-mammo-vast-yolov5-5-0-yolov5l-new-aug.ipynb  smart-mammo-data\r\n",
      "input\t\t\t\t\t\t   true_masks_dir\r\n",
      "my-yolov5-for-offline-use\t\t\t   yolo_images_dir\r\n",
      "onstart.log\t\t\t\t\t   yolov5\r\n",
      "onstart.sh\r\n"
     ]
    }
   ],
   "source": [
    "# Create a folder to store the true val masks\n",
    "\n",
    "if os.path.isdir('pred_masks_dir') != True:\n",
    "    \n",
    "    pred_masks_dir = 'pred_masks_dir'\n",
    "    os.mkdir(pred_masks_dir)\n",
    "    \n",
    "!ls"
   ]
  },
  {
   "cell_type": "code",
   "execution_count": 73,
   "metadata": {
    "execution": {
     "iopub.status.busy": "2022-11-28T02:17:12.767405Z",
     "iopub.status.idle": "2022-11-28T02:17:12.768070Z",
     "shell.execute_reply": "2022-11-28T02:17:12.767812Z",
     "shell.execute_reply.started": "2022-11-28T02:17:12.767785Z"
    }
   },
   "outputs": [
    {
     "data": {
      "application/vnd.jupyter.widget-view+json": {
       "model_id": "0ecdf210da88426a931ffa90cc303604",
       "version_major": 2,
       "version_minor": 0
      },
      "text/plain": [
       "  0%|          | 0/97 [00:00<?, ?it/s]"
      ]
     },
     "metadata": {},
     "output_type": "display_data"
    },
    {
     "data": {
      "text/plain": [
       "83"
      ]
     },
     "execution_count": 73,
     "metadata": {},
     "output_type": "execute_result"
    }
   ],
   "source": [
    "saved_list = []\n",
    "\n",
    "df_test_preds = df_test_preds.reset_index(drop=True)\n",
    "\n",
    "for i in tqdm(range(0, len(df_test_preds)), total=len(df_test_preds)):\n",
    "    \n",
    "    fname = df_test_preds.loc[i, 'id']\n",
    "    \n",
    "    # Read the image\n",
    "    path = base_path + 'images_dir/images_dir/' + fname\n",
    "    \n",
    "    image = cv2.imread(path)\n",
    "    \n",
    "    # cv2 reads in BGR format therefore convert from BGR to RGB.\n",
    "    image = cv2.cvtColor(image, cv2.COLOR_BGR2RGB)\n",
    "\n",
    "    # create a blank mask\n",
    "    mask = np.zeros((image.shape[0], image.shape[1])).astype(np.uint8)\n",
    "    \n",
    "\n",
    "        \n",
    "    if fname not in saved_list:\n",
    "\n",
    "        # image_png_size_list: [(h,w), ...]\n",
    "        orig_image_h = image.shape[0]\n",
    "        orig_image_w = image.shape[1]\n",
    "\n",
    "\n",
    "        w = int(df_test_preds.loc[i,'bbox_width'] * orig_image_w)\n",
    "        h = int(df_test_preds.loc[i,'bbox_height'] * orig_image_h)\n",
    "\n",
    "        x_cent = orig_image_w * df_test_preds.loc[i,'x-center']\n",
    "        y_cent = orig_image_h * df_test_preds.loc[i,'y-center']\n",
    "\n",
    "        x = int(x_cent - (w / 2))\n",
    "        y = int(y_cent - (h / 2))\n",
    "\n",
    "        xmax = xmin + w\n",
    "        ymax = ymin + h\n",
    "\n",
    "        # Add the bbox mask to the blank mask created above.\n",
    "        # Remember that in images the origin coord (0,0) is\n",
    "        # in the top left corner and not in the botton left corner\n",
    "        # like on a graph.\n",
    "        mask[y:y+h, x:x+w] = 1\n",
    "\n",
    "    else: # some pred images have more than one mask\n",
    "\n",
    "        # Load the previous mask\n",
    "        # Read the image\n",
    "        path = 'pred_masks_dir/' + fname\n",
    "        mask = plt.imread(path)\n",
    "\n",
    "        # image_png_size_list: [(h,w), ...]\n",
    "        orig_image_h = image.shape[0]\n",
    "        orig_image_w = image.shape[1]\n",
    "\n",
    "\n",
    "        w = int(df_test_preds.loc[i,'bbox_width'] * orig_image_w)\n",
    "        h = int(df_test_preds.loc[i,'bbox_height'] * orig_image_h)\n",
    "\n",
    "        x_cent = orig_image_w * df_test_preds.loc[i,'x-center']\n",
    "        y_cent = orig_image_h * df_test_preds.loc[i,'y-center']\n",
    "\n",
    "        x = int(x_cent - (w / 2))\n",
    "        y = int(y_cent - (h / 2))\n",
    "\n",
    "        xmax = xmin + w\n",
    "        ymax = ymin + h\n",
    "\n",
    "        # Add the bbox mask to the blank mask created above.\n",
    "        # Remember that in images the origin coord (0,0) is\n",
    "        # in the top left corner and not in the botton left corner\n",
    "        # like on a graph.\n",
    "        mask[y:y+h, x:x+w] = 1\n",
    "        \n",
    "    \n",
    "    # Save the mask as an image in the folder\n",
    "    # that we created.\n",
    "    dst = os.path.join(pred_masks_dir, fname)\n",
    "    \n",
    "    cv2.imwrite(dst, mask)\n",
    "    \n",
    "    saved_list.append(fname)\n",
    "    \n",
    "\n",
    "# Check how mane files are in the new directory\n",
    "file_list = os.listdir('pred_masks_dir')\n",
    "\n",
    "len(file_list)"
   ]
  },
  {
   "cell_type": "code",
   "execution_count": 74,
   "metadata": {
    "execution": {
     "iopub.status.busy": "2022-11-28T02:17:12.769578Z",
     "iopub.status.idle": "2022-11-28T02:17:12.770537Z",
     "shell.execute_reply": "2022-11-28T02:17:12.770331Z",
     "shell.execute_reply.started": "2022-11-28T02:17:12.770310Z"
    }
   },
   "outputs": [
    {
     "data": {
      "application/vnd.jupyter.widget-view+json": {
       "model_id": "05127ee560a449d4bc8c2ddc3dcd1169",
       "version_major": 2,
       "version_minor": 0
      },
      "text/plain": [
       "  0%|          | 0/146 [00:00<?, ?it/s]"
      ]
     },
     "metadata": {},
     "output_type": "display_data"
    },
    {
     "data": {
      "text/plain": [
       "132"
      ]
     },
     "execution_count": 74,
     "metadata": {},
     "output_type": "execute_result"
    }
   ],
   "source": [
    "# Create blank masks for all val images for which\n",
    "# no bboxes were predicted.\n",
    "# Store these masks in pred_masks_dir\n",
    "\n",
    "pred_list = list(df_test_preds['id'])\n",
    "\n",
    "for i in tqdm(range(0, len(df_val)), total=len(df_val)):\n",
    "    \n",
    "    fname = df_val.loc[i, 'id']\n",
    "    \n",
    "    if fname not in pred_list:\n",
    "        \n",
    "        path = base_path + 'images_dir/images_dir/' + fname\n",
    "        image = cv2.imread(path)\n",
    "\n",
    "        # cv2 reads in BGR format therefore convert from BGR to RGB.\n",
    "        image = cv2.cvtColor(image, cv2.COLOR_BGR2RGB)\n",
    "\n",
    "        # create a blank mask\n",
    "        mask = np.zeros((image.shape[0], image.shape[1]))\n",
    "        \n",
    "        # Save the blank mask in pred_nasks_dir\n",
    "        dst = os.path.join(pred_masks_dir, fname)\n",
    "\n",
    "        cv2.imwrite(dst, mask)\n",
    "        \n",
    "        \n",
    "# Check how mane files are in the new directory\n",
    "file_list = os.listdir('pred_masks_dir')\n",
    "\n",
    "len(file_list)"
   ]
  },
  {
   "cell_type": "code",
   "execution_count": 75,
   "metadata": {
    "execution": {
     "iopub.status.busy": "2022-11-28T02:17:12.774201Z",
     "iopub.status.idle": "2022-11-28T02:17:12.774815Z",
     "shell.execute_reply": "2022-11-28T02:17:12.774543Z",
     "shell.execute_reply.started": "2022-11-28T02:17:12.774514Z"
    }
   },
   "outputs": [
    {
     "name": "stdout",
     "output_type": "stream",
     "text": [
      "(3518, 2800)\n"
     ]
    },
    {
     "data": {
      "text/plain": [
       "<matplotlib.image.AxesImage at 0x7f79cdc78070>"
      ]
     },
     "execution_count": 75,
     "metadata": {},
     "output_type": "execute_result"
    },
    {
     "data": {
      "image/png": "[encoded data removed]",
      "text/plain": [
       "<Figure size 432x288 with 1 Axes>"
      ]
     },
     "metadata": {
      "needs_background": "light"
     },
     "output_type": "display_data"
    }
   ],
   "source": [
    "pred_mask_list = os.listdir('pred_masks_dir')\n",
    "\n",
    "i = 21\n",
    "\n",
    "path = 'true_masks_dir/' + pred_mask_list[i]\n",
    "\n",
    "image = plt.imread(path)\n",
    "\n",
    "print(image.shape)\n",
    "\n",
    "plt.imshow(image)"
   ]
  },
  {
   "cell_type": "markdown",
   "metadata": {},
   "source": [
    "## Test the iou code"
   ]
  },
  {
   "cell_type": "code",
   "execution_count": 76,
   "metadata": {
    "execution": {
     "iopub.status.busy": "2022-11-28T02:17:12.776275Z",
     "iopub.status.idle": "2022-11-28T02:17:12.776933Z",
     "shell.execute_reply": "2022-11-28T02:17:12.776592Z",
     "shell.execute_reply.started": "2022-11-28T02:17:12.776566Z"
    }
   },
   "outputs": [],
   "source": [
    "def calculate_iou(y_true, y_pred):\n",
    "    \n",
    "    \"\"\"\n",
    "    Input: Numpy arrays with shape (image_h, image_w)\n",
    "    Values must be either 1 or 0.\n",
    "    \n",
    "    Output: IOU value as a number.\n",
    "    \n",
    "    \n",
    "    This works only for single images and not\n",
    "    for a batch of images.\n",
    "    \"\"\"\n",
    "    \n",
    "\n",
    "    # If both images are blank\n",
    "    if y_true.max() == 0 and y_pred.max() == 0:\n",
    "        \n",
    "        IOU = 'both_blank'\n",
    "        \n",
    "    else:\n",
    "    \n",
    "        # Set the matrix values to be either 1 or 0.\n",
    "        # This can also be done like this: mask = (mask > 0).astype(np.uint8)\n",
    "        y_true = y_true.astype(np.bool)\n",
    "        y_pred = y_pred.astype(np.bool)\n",
    "\n",
    "        y_true_flat = y_true.flatten()\n",
    "        y_pred_flat = y_pred.flatten()\n",
    "\n",
    "        result = (y_true_flat * y_pred_flat)\n",
    "\n",
    "        area_of_intersection = np.sum(result)\n",
    "\n",
    "        area_of_union = (np.sum(y_true_flat) + np.sum(y_pred_flat)) - area_of_intersection\n",
    "\n",
    "        # add 0.00001 to prevent a zero division error.\n",
    "        IOU = (area_of_intersection)/(area_of_union + 0.00001)\n",
    "\n",
    "        # Round to three decimal places\n",
    "        IOU = round(IOU, 3)\n",
    "    \n",
    "    return IOU"
   ]
  },
  {
   "cell_type": "code",
   "execution_count": 77,
   "metadata": {
    "execution": {
     "iopub.status.busy": "2022-11-28T02:17:12.778228Z",
     "iopub.status.idle": "2022-11-28T02:17:12.779450Z",
     "shell.execute_reply": "2022-11-28T02:17:12.779152Z",
     "shell.execute_reply.started": "2022-11-28T02:17:12.779124Z"
    }
   },
   "outputs": [
    {
     "name": "stdout",
     "output_type": "stream",
     "text": [
      "(3518, 2800)\n",
      "float32\n",
      "0.0\n",
      "0.0\n"
     ]
    },
    {
     "data": {
      "text/plain": [
       "<matplotlib.image.AxesImage at 0x7f79cdbd1970>"
      ]
     },
     "execution_count": 77,
     "metadata": {},
     "output_type": "execute_result"
    },
    {
     "data": {
      "image/png": "[encoded data removed]",
      "text/plain": [
       "<Figure size 432x288 with 1 Axes>"
      ]
     },
     "metadata": {
      "needs_background": "light"
     },
     "output_type": "display_data"
    }
   ],
   "source": [
    "# Test the IOU function\n",
    "\n",
    "pred_mask_list = os.listdir('pred_masks_dir')\n",
    "\n",
    "i = 10\n",
    "\n",
    "path = 'true_masks_dir/' + pred_mask_list[i]\n",
    "\n",
    "mask = plt.imread(path) #.astype(np.bool)\n",
    "\n",
    "# Threshold the mask\n",
    "#mask = (mask > 0).astype(np.uint8)\n",
    "\n",
    "print(mask.shape)\n",
    "print(mask.dtype)\n",
    "print(mask.min())\n",
    "print(mask.max())\n",
    "\n",
    "plt.imshow(mask)"
   ]
  },
  {
   "cell_type": "code",
   "execution_count": 78,
   "metadata": {
    "execution": {
     "iopub.status.busy": "2022-11-28T02:17:12.781893Z",
     "iopub.status.idle": "2022-11-28T02:17:12.782465Z",
     "shell.execute_reply": "2022-11-28T02:17:12.782189Z",
     "shell.execute_reply.started": "2022-11-28T02:17:12.782163Z"
    }
   },
   "outputs": [],
   "source": [
    "# Change all values to zero\n",
    "mask1 = mask * 0"
   ]
  },
  {
   "cell_type": "code",
   "execution_count": 79,
   "metadata": {
    "execution": {
     "iopub.status.busy": "2022-11-28T02:17:12.784038Z",
     "iopub.status.idle": "2022-11-28T02:17:12.784996Z",
     "shell.execute_reply": "2022-11-28T02:17:12.784715Z",
     "shell.execute_reply.started": "2022-11-28T02:17:12.784687Z"
    }
   },
   "outputs": [
    {
     "data": {
      "text/plain": [
       "'both_blank'"
      ]
     },
     "execution_count": 79,
     "metadata": {},
     "output_type": "execute_result"
    }
   ],
   "source": [
    "# *** Note that if both masks are blank then the iou returned is 0.\n",
    "\n",
    "y_true = mask1\n",
    "y_pred = mask1\n",
    "\n",
    "iou = calculate_iou(y_true, y_pred)\n",
    "\n",
    "iou"
   ]
  },
  {
   "cell_type": "markdown",
   "metadata": {},
   "source": [
    "## Calculate the IOU for all val rows"
   ]
  },
  {
   "cell_type": "code",
   "execution_count": 80,
   "metadata": {
    "execution": {
     "iopub.status.busy": "2022-11-28T02:17:12.787071Z",
     "iopub.status.idle": "2022-11-28T02:17:12.787652Z",
     "shell.execute_reply": "2022-11-28T02:17:12.787362Z",
     "shell.execute_reply.started": "2022-11-28T02:17:12.787337Z"
    }
   },
   "outputs": [
    {
     "data": {
      "application/vnd.jupyter.widget-view+json": {
       "model_id": "c48e0ddca1d84f38ac6cde0bbc593bd9",
       "version_major": 2,
       "version_minor": 0
      },
      "text/plain": [
       "  0%|          | 0/146 [00:00<?, ?it/s]"
      ]
     },
     "metadata": {},
     "output_type": "display_data"
    }
   ],
   "source": [
    "iou_list = []\n",
    "\n",
    "for i in tqdm(range(0, len(df_val)), total=len(df_val)):\n",
    "    \n",
    "    # Get the fname\n",
    "    fname = df_val.loc[i, 'id']\n",
    "    \n",
    "    # Load the mask from true_masks_dir\n",
    "    path = 'true_masks_dir/' + fname\n",
    "    true_mask = plt.imread(path)\n",
    "    \n",
    "    \n",
    "    # Load the pred mask\n",
    "    path =  'pred_masks_dir/' + fname\n",
    "    pred_mask = plt.imread(path)\n",
    "    \n",
    "    # Calculate the iou\n",
    "    iou = calculate_iou(true_mask, pred_mask)\n",
    "    \n",
    "    iou_list.append(iou)\n",
    "    \n",
    "    \n",
    "# Add iou list to df_val\n",
    "df_val['iou'] = iou_list"
   ]
  },
  {
   "cell_type": "code",
   "execution_count": 81,
   "metadata": {
    "execution": {
     "iopub.status.busy": "2022-11-28T02:17:12.790181Z",
     "iopub.status.idle": "2022-11-28T02:17:12.790773Z",
     "shell.execute_reply": "2022-11-28T02:17:12.790508Z",
     "shell.execute_reply.started": "2022-11-28T02:17:12.790480Z"
    }
   },
   "outputs": [
    {
     "name": "stdout",
     "output_type": "stream",
     "text": [
      "0.0\n",
      "0.938\n",
      "0.3989312977099235\n"
     ]
    }
   ],
   "source": [
    "df = df_val[df_val['iou'] != 'both_blank']\n",
    "\n",
    "print(df['iou'].min())\n",
    "print(df['iou'].max())\n",
    "print(df['iou'].mean())"
   ]
  },
  {
   "cell_type": "markdown",
   "metadata": {},
   "source": [
    "## Adjust the preds\n",
    "There are cases where the true image has a bbox, and the model also predicted a bbox for that image - but the pred bbox did not overlap with the true bbox. In those cases we need to change the pred from 1 to 0."
   ]
  },
  {
   "cell_type": "code",
   "execution_count": 82,
   "metadata": {
    "execution": {
     "iopub.status.busy": "2022-11-28T02:17:12.792977Z",
     "iopub.status.idle": "2022-11-28T02:17:12.793567Z",
     "shell.execute_reply": "2022-11-28T02:17:12.793284Z",
     "shell.execute_reply.started": "2022-11-28T02:17:12.793259Z"
    }
   },
   "outputs": [],
   "source": [
    "def check_pred_iou(row):\n",
    "    \n",
    "    target = row['target']\n",
    "    pred = row['preds']\n",
    "    iou = row['iou']\n",
    "    \n",
    "    if target == 1 and pred == 1:\n",
    "        \n",
    "        if iou > 0:\n",
    "            return pred # pred is 1\n",
    "        else:\n",
    "            return 0\n",
    "    else:\n",
    "        \n",
    "        return pred\n",
    "\n",
    "        \n",
    "df_val['iou_preds'] = df_val.apply(check_pred_iou, axis=1)"
   ]
  },
  {
   "cell_type": "code",
   "execution_count": 83,
   "metadata": {
    "execution": {
     "iopub.status.busy": "2022-11-28T02:17:12.795699Z",
     "iopub.status.idle": "2022-11-28T02:17:12.796276Z",
     "shell.execute_reply": "2022-11-28T02:17:12.796013Z",
     "shell.execute_reply.started": "2022-11-28T02:17:12.795986Z"
    }
   },
   "outputs": [
    {
     "data": {
      "text/plain": [
       "1    81\n",
       "0    65\n",
       "Name: iou_preds, dtype: int64"
      ]
     },
     "execution_count": 83,
     "metadata": {},
     "output_type": "execute_result"
    }
   ],
   "source": [
    "df_val['iou_preds'].value_counts()"
   ]
  },
  {
   "cell_type": "code",
   "execution_count": null,
   "metadata": {},
   "outputs": [],
   "source": []
  },
  {
   "cell_type": "markdown",
   "metadata": {
    "papermill": {
     "duration": 3.706424,
     "end_time": "2021-07-18T06:59:10.094022",
     "exception": false,
     "start_time": "2021-07-18T06:59:06.387598",
     "status": "completed"
    },
    "tags": []
   },
   "source": [
    "## Confusion Matrix"
   ]
  },
  {
   "cell_type": "code",
   "execution_count": 84,
   "metadata": {
    "execution": {
     "iopub.status.busy": "2022-11-28T02:17:12.798082Z",
     "iopub.status.idle": "2022-11-28T02:17:12.798679Z",
     "shell.execute_reply": "2022-11-28T02:17:12.798387Z",
     "shell.execute_reply.started": "2022-11-28T02:17:12.798360Z"
    },
    "papermill": {
     "duration": 4.773196,
     "end_time": "2021-07-18T06:59:18.504453",
     "exception": false,
     "start_time": "2021-07-18T06:59:13.731257",
     "status": "completed"
    },
    "tags": []
   },
   "outputs": [
    {
     "name": "stdout",
     "output_type": "stream",
     "text": [
      "\n",
      "[[15  5]\n",
      " [50 76]]\n",
      "['Normal', 'Mass']\n"
     ]
    }
   ],
   "source": [
    "from sklearn.metrics import confusion_matrix\n",
    "\n",
    "CLASS_LIST = ['Normal', 'Mass']\n",
    "    \n",
    "# targets\n",
    "y_true = list(df_val['target'])\n",
    "\n",
    "# get the preds as integers\n",
    "#y_pred = list(df_val['preds'])\n",
    "y_pred = list(df_val['iou_preds'])\n",
    "\n",
    "# argmax returns the index of the max value in each row.\n",
    "cm = confusion_matrix(y_true, y_pred)\n",
    "\n",
    "# Display the confusion matrix.\n",
    "print()\n",
    "print(cm)\n",
    "print(CLASS_LIST)"
   ]
  },
  {
   "cell_type": "code",
   "execution_count": 85,
   "metadata": {
    "execution": {
     "iopub.status.busy": "2022-11-28T02:17:12.800636Z",
     "iopub.status.idle": "2022-11-28T02:17:12.801197Z",
     "shell.execute_reply": "2022-11-28T02:17:12.800940Z",
     "shell.execute_reply.started": "2022-11-28T02:17:12.800913Z"
    },
    "papermill": {
     "duration": 3.838768,
     "end_time": "2021-07-18T06:59:26.204345",
     "exception": false,
     "start_time": "2021-07-18T06:59:22.365577",
     "status": "completed"
    },
    "tags": []
   },
   "outputs": [
    {
     "name": "stdout",
     "output_type": "stream",
     "text": [
      "Confusion matrix, without normalization\n",
      "[[15  5]\n",
      " [50 76]]\n"
     ]
    },
    {
     "data": {
      "image/png": "[encoded data removed]",
      "text/plain": [
       "<Figure size 432x288 with 2 Axes>"
      ]
     },
     "metadata": {
      "needs_background": "light"
     },
     "output_type": "display_data"
    }
   ],
   "source": [
    "cm_plot_labels = ['normal', 'mass']\n",
    "\n",
    "# Set the size of the plot.\n",
    "#plt.figure(figsize=(10,7))\n",
    "\n",
    "# Set the size of the text\n",
    "text_size=12\n",
    "\n",
    "plot_confusion_matrix(cm, cm_plot_labels, title='Confusion Matrix', text_size=text_size)"
   ]
  },
  {
   "cell_type": "markdown",
   "metadata": {
    "papermill": {
     "duration": 3.649494,
     "end_time": "2021-07-18T06:59:33.878606",
     "exception": false,
     "start_time": "2021-07-18T06:59:30.229112",
     "status": "completed"
    },
    "tags": []
   },
   "source": [
    "## Classification Report"
   ]
  },
  {
   "cell_type": "code",
   "execution_count": 86,
   "metadata": {
    "execution": {
     "iopub.status.busy": "2022-11-28T02:17:12.802464Z",
     "iopub.status.idle": "2022-11-28T02:17:12.803012Z",
     "shell.execute_reply": "2022-11-28T02:17:12.802748Z",
     "shell.execute_reply.started": "2022-11-28T02:17:12.802723Z"
    },
    "papermill": {
     "duration": 4.01076,
     "end_time": "2021-07-18T06:59:41.630028",
     "exception": false,
     "start_time": "2021-07-18T06:59:37.619268",
     "status": "completed"
    },
    "tags": []
   },
   "outputs": [
    {
     "name": "stdout",
     "output_type": "stream",
     "text": [
      "\n",
      "              precision    recall  f1-score   support\n",
      "\n",
      "      normal       0.23      0.75      0.35        20\n",
      "        mass       0.94      0.60      0.73       126\n",
      "\n",
      "    accuracy                           0.62       146\n",
      "   macro avg       0.58      0.68      0.54       146\n",
      "weighted avg       0.84      0.62      0.68       146\n",
      "\n"
     ]
    }
   ],
   "source": [
    "from sklearn.metrics import classification_report\n",
    "    \n",
    "report = classification_report(y_true, y_pred, target_names=cm_plot_labels)\n",
    "\n",
    "print()\n",
    "print(report)"
   ]
  },
  {
   "cell_type": "markdown",
   "metadata": {
    "papermill": {
     "duration": 4.032807,
     "end_time": "2021-07-18T07:01:09.4492",
     "exception": false,
     "start_time": "2021-07-18T07:01:05.416393",
     "status": "completed"
    },
    "tags": []
   },
   "source": [
    "### Precision\n",
    "\n",
    "Given a prediction, what is the probability that the prediction is correct. In other words, how much can we trust a prediction made by the model?\n",
    "\n",
    "### Recall\n",
    "\n",
    "What percentage of the total number of objects did the model detect? Given an object, what is the probability that the model will detect it? Example: Did the computer vision model in the self driving car detect all the pedestrians?"
   ]
  },
  {
   "cell_type": "markdown",
   "metadata": {},
   "source": [
    "## Save df_val"
   ]
  },
  {
   "cell_type": "code",
   "execution_count": 87,
   "metadata": {
    "execution": {
     "iopub.status.busy": "2022-11-28T02:17:12.805275Z",
     "iopub.status.idle": "2022-11-28T02:17:12.805830Z",
     "shell.execute_reply": "2022-11-28T02:17:12.805575Z",
     "shell.execute_reply.started": "2022-11-28T02:17:12.805549Z"
    }
   },
   "outputs": [],
   "source": [
    "path = 'df_val.csv'\n",
    "df_val.to_csv(path, index=False)"
   ]
  },
  {
   "cell_type": "markdown",
   "metadata": {
    "papermill": {
     "duration": 3.660432,
     "end_time": "2021-07-18T07:01:16.804923",
     "exception": false,
     "start_time": "2021-07-18T07:01:13.144491",
     "status": "completed"
    },
    "tags": []
   },
   "source": [
    "## Delete images to prevent notebook commit errors"
   ]
  },
  {
   "cell_type": "code",
   "execution_count": 88,
   "metadata": {
    "execution": {
     "iopub.status.busy": "2022-11-28T02:17:12.807855Z",
     "iopub.status.idle": "2022-11-28T02:17:12.808242Z",
     "shell.execute_reply": "2022-11-28T02:17:12.808075Z",
     "shell.execute_reply.started": "2022-11-28T02:17:12.808057Z"
    },
    "papermill": {
     "duration": 4.440213,
     "end_time": "2021-07-18T07:01:25.213035",
     "exception": false,
     "start_time": "2021-07-18T07:01:20.772822",
     "status": "completed"
    },
    "tags": []
   },
   "outputs": [
    {
     "name": "stdout",
     "output_type": "stream",
     "text": [
      "/bin/bash: warning: setlocale: LC_ALL: cannot change locale (en_US.UTF-8)\r\n",
      "/root/yolov5\r\n"
     ]
    }
   ],
   "source": [
    "# change the working directory to yolov5\n",
    "\n",
    "os.chdir(f'{root}/yolov5')\n",
    "\n",
    "!pwd"
   ]
  },
  {
   "cell_type": "code",
   "execution_count": 89,
   "metadata": {
    "execution": {
     "iopub.status.busy": "2022-11-28T02:17:12.809288Z",
     "iopub.status.idle": "2022-11-28T02:17:12.809710Z",
     "shell.execute_reply": "2022-11-28T02:17:12.809528Z",
     "shell.execute_reply.started": "2022-11-28T02:17:12.809510Z"
    },
    "papermill": {
     "duration": 3.868434,
     "end_time": "2021-07-18T07:01:33.690109",
     "exception": false,
     "start_time": "2021-07-18T07:01:29.821675",
     "status": "completed"
    },
    "tags": []
   },
   "outputs": [],
   "source": [
    "# Delete the folder to prevent a Kaggle error.\n",
    "\n",
    "if os.path.isdir('base_dir') == True:\n",
    "    shutil.rmtree('base_dir')"
   ]
  },
  {
   "cell_type": "code",
   "execution_count": null,
   "metadata": {
    "papermill": {
     "duration": 3.962382,
     "end_time": "2021-07-18T07:01:41.32886",
     "exception": false,
     "start_time": "2021-07-18T07:01:37.366478",
     "status": "completed"
    },
    "tags": []
   },
   "outputs": [],
   "source": []
  },
  {
   "cell_type": "code",
   "execution_count": 90,
   "metadata": {
    "execution": {
     "iopub.status.busy": "2022-11-28T02:17:12.810783Z",
     "iopub.status.idle": "2022-11-28T02:17:12.811144Z",
     "shell.execute_reply": "2022-11-28T02:17:12.810982Z",
     "shell.execute_reply.started": "2022-11-28T02:17:12.810965Z"
    },
    "papermill": {
     "duration": 4.532111,
     "end_time": "2021-07-18T07:01:49.531092",
     "exception": false,
     "start_time": "2021-07-18T07:01:44.998981",
     "status": "completed"
    },
    "tags": []
   },
   "outputs": [
    {
     "name": "stdout",
     "output_type": "stream",
     "text": [
      "/bin/bash: warning: setlocale: LC_ALL: cannot change locale (en_US.UTF-8)\r\n",
      "/root\r\n"
     ]
    }
   ],
   "source": [
    "# change the working directory\n",
    "\n",
    "os.chdir(root)\n",
    "\n",
    "!pwd"
   ]
  },
  {
   "cell_type": "code",
   "execution_count": 91,
   "metadata": {
    "execution": {
     "iopub.status.busy": "2022-11-28T02:17:12.813331Z",
     "iopub.status.idle": "2022-11-28T02:17:12.813911Z",
     "shell.execute_reply": "2022-11-28T02:17:12.813641Z",
     "shell.execute_reply.started": "2022-11-28T02:17:12.813615Z"
    },
    "papermill": {
     "duration": 3.99797,
     "end_time": "2021-07-18T07:01:57.52992",
     "exception": false,
     "start_time": "2021-07-18T07:01:53.53195",
     "status": "completed"
    },
    "tags": []
   },
   "outputs": [],
   "source": [
    "# Delete the folder to prevent a Kaggle error.\n",
    "\n",
    "if os.path.isdir('images_dir') == True:\n",
    "    shutil.rmtree('images_dir')\n",
    "    \n",
    "if os.path.isdir('val_images_dir') == True:\n",
    "    shutil.rmtree('val_images_dir')"
   ]
  },
  {
   "cell_type": "code",
   "execution_count": 92,
   "metadata": {
    "execution": {
     "iopub.status.busy": "2022-11-28T02:17:12.815678Z",
     "iopub.status.idle": "2022-11-28T02:17:12.816231Z",
     "shell.execute_reply": "2022-11-28T02:17:12.815974Z",
     "shell.execute_reply.started": "2022-11-28T02:17:12.815946Z"
    },
    "papermill": {
     "duration": 4.459884,
     "end_time": "2021-07-18T07:02:06.52872",
     "exception": false,
     "start_time": "2021-07-18T07:02:02.068836",
     "status": "completed"
    },
    "tags": []
   },
   "outputs": [
    {
     "name": "stdout",
     "output_type": "stream",
     "text": [
      "/bin/bash: warning: setlocale: LC_ALL: cannot change locale (en_US.UTF-8)\r\n",
      "VAST_Setup_Notebook_for_Mammo.ipynb\t\t   onstart.sh\r\n",
      "best.pt\t\t\t\t\t\t   ports.log\r\n",
      "df_val.csv\t\t\t\t\t   pred_masks_dir\r\n",
      "exp49_10f_df_data_w_folds.csv\t\t\t   requirements.txt\r\n",
      "exp51-mammo-vast-yolov5-5-0-yolov5l-new-aug.ipynb  smart-mammo-data\r\n",
      "input\t\t\t\t\t\t   true_masks_dir\r\n",
      "my-yolov5-for-offline-use\t\t\t   yolo_images_dir\r\n",
      "onstart.log\t\t\t\t\t   yolov5\r\n"
     ]
    }
   ],
   "source": [
    "!ls"
   ]
  },
  {
   "cell_type": "code",
   "execution_count": null,
   "metadata": {
    "papermill": {
     "duration": 3.959534,
     "end_time": "2021-07-18T07:02:14.134322",
     "exception": false,
     "start_time": "2021-07-18T07:02:10.174788",
     "status": "completed"
    },
    "tags": []
   },
   "outputs": [],
   "source": []
  },
  {
   "cell_type": "code",
   "execution_count": null,
   "metadata": {},
   "outputs": [],
   "source": []
  }
 ],
 "metadata": {
  "kernelspec": {
   "display_name": "Python 3 (ipykernel)",
   "language": "python",
   "name": "python3"
  },
  "language_info": {
   "codemirror_mode": {
    "name": "ipython",
    "version": 3
   },
   "file_extension": ".py",
   "mimetype": "text/x-python",
   "name": "python",
   "nbconvert_exporter": "python",
   "pygments_lexer": "ipython3",
   "version": "3.8.10"
  }
 },
 "nbformat": 4,
 "nbformat_minor": 4
}
