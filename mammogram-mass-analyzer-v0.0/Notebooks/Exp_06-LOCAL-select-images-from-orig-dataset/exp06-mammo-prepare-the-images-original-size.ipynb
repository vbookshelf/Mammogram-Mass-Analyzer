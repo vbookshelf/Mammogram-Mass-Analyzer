{
 "cells": [
  {
   "cell_type": "code",
   "execution_count": 2,
   "metadata": {
    "execution": {
     "iopub.execute_input": "2022-07-30T20:04:21.078790Z",
     "iopub.status.busy": "2022-07-30T20:04:21.078405Z",
     "iopub.status.idle": "2022-07-30T20:04:21.082940Z",
     "shell.execute_reply": "2022-07-30T20:04:21.081735Z"
    },
    "papermill": {
     "duration": 0.01913,
     "end_time": "2022-07-30T20:04:21.085528",
     "exception": false,
     "start_time": "2022-07-30T20:04:21.066398",
     "status": "completed"
    },
    "tags": []
   },
   "outputs": [],
   "source": [
    "# 1. Don't resize the images or the bbox coords that we have will be wrong.\n",
    "# Yolo does the image resizing internally."
   ]
  },
  {
   "cell_type": "code",
   "execution_count": 99,
   "metadata": {
    "_cell_guid": "79c7e3d0-c299-4dcb-8224-4455121ee9b0",
    "_uuid": "d629ff2d2480ee46fbb7e2d37f6b5fab8052498a",
    "execution": {
     "iopub.execute_input": "2022-07-30T20:05:25.429979Z",
     "iopub.status.busy": "2022-07-30T20:05:25.429527Z",
     "iopub.status.idle": "2022-07-30T20:05:26.925023Z",
     "shell.execute_reply": "2022-07-30T20:05:26.923743Z"
    },
    "papermill": {
     "duration": 1.514566,
     "end_time": "2022-07-30T20:05:26.927731",
     "exception": false,
     "start_time": "2022-07-30T20:05:25.413165",
     "status": "completed"
    },
    "tags": []
   },
   "outputs": [],
   "source": [
    "import pandas as pd\n",
    "import numpy as np\n",
    "import os\n",
    "\n",
    "import cv2\n",
    "\n",
    "import shutil\n",
    "import ast\n",
    "\n",
    "\n",
    "from PIL import Image\n",
    "from numpy import asarray\n",
    "from skimage.transform import resize\n",
    "\n",
    "# tqdm doesn't work well in colab.\n",
    "# This is the solution:\n",
    "# https://stackoverflow.com/questions/41707229/tqdm-printing-to-newline\n",
    "# import tqdm as tq\n",
    "#for i in tq.tqdm(...):\n",
    "\n",
    "#from tqdm import tqdm\n",
    "from tqdm import tqdm_notebook as tqdm\n",
    "\n",
    "# Don't Show Warning Messages\n",
    "import warnings\n",
    "warnings.filterwarnings('ignore')\n",
    "\n",
    "import matplotlib.pyplot as plt\n",
    "%matplotlib inline"
   ]
  },
  {
   "cell_type": "code",
   "execution_count": 65,
   "metadata": {
    "execution": {
     "iopub.execute_input": "2022-07-30T20:05:26.960287Z",
     "iopub.status.busy": "2022-07-30T20:05:26.959832Z",
     "iopub.status.idle": "2022-07-30T20:05:26.964292Z",
     "shell.execute_reply": "2022-07-30T20:05:26.963451Z"
    },
    "papermill": {
     "duration": 0.022772,
     "end_time": "2022-07-30T20:05:26.966367",
     "exception": false,
     "start_time": "2022-07-30T20:05:26.943595",
     "status": "completed"
    },
    "tags": []
   },
   "outputs": [],
   "source": [
    "IMAGE_SIZE = 512"
   ]
  },
  {
   "cell_type": "code",
   "execution_count": 66,
   "metadata": {
    "execution": {
     "iopub.execute_input": "2022-07-30T20:05:26.997881Z",
     "iopub.status.busy": "2022-07-30T20:05:26.997263Z",
     "iopub.status.idle": "2022-07-30T20:05:27.001609Z",
     "shell.execute_reply": "2022-07-30T20:05:27.000434Z"
    },
    "papermill": {
     "duration": 0.022957,
     "end_time": "2022-07-30T20:05:27.004148",
     "exception": false,
     "start_time": "2022-07-30T20:05:26.981191",
     "status": "completed"
    },
    "tags": []
   },
   "outputs": [],
   "source": [
    "base_path = '/Volumes/WDExtDrive/Woza-Mammogram-Analyzer/Raw-Downloaded-Data/vindr-mammo-1.0.0-raw-data/'\n"
   ]
  },
  {
   "cell_type": "code",
   "execution_count": 67,
   "metadata": {
    "execution": {
     "iopub.execute_input": "2022-07-30T20:05:27.036224Z",
     "iopub.status.busy": "2022-07-30T20:05:27.035769Z",
     "iopub.status.idle": "2022-07-30T20:05:27.045365Z",
     "shell.execute_reply": "2022-07-30T20:05:27.044089Z"
    },
    "papermill": {
     "duration": 0.028747,
     "end_time": "2022-07-30T20:05:27.048114",
     "exception": false,
     "start_time": "2022-07-30T20:05:27.019367",
     "status": "completed"
    },
    "tags": []
   },
   "outputs": [
    {
     "data": {
      "text/plain": [
       "['LICENSE.txt',\n",
       " 'SHA256SUMS.txt',\n",
       " 'breast-level_annotations.csv',\n",
       " 'finding_annotations.csv',\n",
       " 'images',\n",
       " 'metadata.csv',\n",
       " '._LICENSE.txt',\n",
       " '._SHA256SUMS.txt',\n",
       " '._breast-level_annotations.csv',\n",
       " '._finding_annotations.csv',\n",
       " '._images',\n",
       " '._metadata.csv',\n",
       " 'base_dir']"
      ]
     },
     "execution_count": 67,
     "metadata": {},
     "output_type": "execute_result"
    }
   ],
   "source": [
    "os.listdir('/Volumes/WDExtDrive/Woza-Mammogram-Analyzer/Raw-Downloaded-Data/vindr-mammo-1.0.0-raw-data/')\n"
   ]
  },
  {
   "cell_type": "markdown",
   "metadata": {
    "papermill": {
     "duration": 0.014715,
     "end_time": "2022-07-30T20:05:27.077990",
     "exception": false,
     "start_time": "2022-07-30T20:05:27.063275",
     "status": "completed"
    },
    "tags": []
   },
   "source": [
    "## Load the data"
   ]
  },
  {
   "cell_type": "code",
   "execution_count": 68,
   "metadata": {
    "execution": {
     "iopub.execute_input": "2022-07-30T20:05:27.109974Z",
     "iopub.status.busy": "2022-07-30T20:05:27.109371Z",
     "iopub.status.idle": "2022-07-30T20:05:30.650219Z",
     "shell.execute_reply": "2022-07-30T20:05:30.648749Z"
    },
    "papermill": {
     "duration": 3.56066,
     "end_time": "2022-07-30T20:05:30.653594",
     "exception": false,
     "start_time": "2022-07-30T20:05:27.092934",
     "status": "completed"
    },
    "tags": []
   },
   "outputs": [
    {
     "name": "stdout",
     "output_type": "stream",
     "text": [
      "(20486, 16)\n"
     ]
    },
    {
     "data": {
      "text/html": [
       "<div>\n",
       "<style scoped>\n",
       "    .dataframe tbody tr th:only-of-type {\n",
       "        vertical-align: middle;\n",
       "    }\n",
       "\n",
       "    .dataframe tbody tr th {\n",
       "        vertical-align: top;\n",
       "    }\n",
       "\n",
       "    .dataframe thead th {\n",
       "        text-align: right;\n",
       "    }\n",
       "</style>\n",
       "<table border=\"1\" class=\"dataframe\">\n",
       "  <thead>\n",
       "    <tr style=\"text-align: right;\">\n",
       "      <th></th>\n",
       "      <th>study_id</th>\n",
       "      <th>series_id</th>\n",
       "      <th>image_id</th>\n",
       "      <th>laterality</th>\n",
       "      <th>view_position</th>\n",
       "      <th>height</th>\n",
       "      <th>width</th>\n",
       "      <th>breast_birads</th>\n",
       "      <th>breast_density</th>\n",
       "      <th>finding_categories</th>\n",
       "      <th>finding_birads</th>\n",
       "      <th>xmin</th>\n",
       "      <th>ymin</th>\n",
       "      <th>xmax</th>\n",
       "      <th>ymax</th>\n",
       "      <th>split</th>\n",
       "    </tr>\n",
       "  </thead>\n",
       "  <tbody>\n",
       "    <tr>\n",
       "      <th>0</th>\n",
       "      <td>48575a27b7c992427041a82fa750d3fa</td>\n",
       "      <td>26de4993fa6b8ae50a91c8baf49b92b0</td>\n",
       "      <td>4e3a578fe535ea4f5258d3f7f4419db8</td>\n",
       "      <td>R</td>\n",
       "      <td>CC</td>\n",
       "      <td>3518</td>\n",
       "      <td>2800</td>\n",
       "      <td>BI-RADS 4</td>\n",
       "      <td>DENSITY C</td>\n",
       "      <td>['Mass']</td>\n",
       "      <td>BI-RADS 4</td>\n",
       "      <td>2355.139893</td>\n",
       "      <td>1731.640015</td>\n",
       "      <td>2482.979980</td>\n",
       "      <td>1852.750000</td>\n",
       "      <td>training</td>\n",
       "    </tr>\n",
       "    <tr>\n",
       "      <th>1</th>\n",
       "      <td>48575a27b7c992427041a82fa750d3fa</td>\n",
       "      <td>26de4993fa6b8ae50a91c8baf49b92b0</td>\n",
       "      <td>dac39351b0f3a8c670b7f8dc88029364</td>\n",
       "      <td>R</td>\n",
       "      <td>MLO</td>\n",
       "      <td>3518</td>\n",
       "      <td>2800</td>\n",
       "      <td>BI-RADS 4</td>\n",
       "      <td>DENSITY C</td>\n",
       "      <td>['Mass']</td>\n",
       "      <td>BI-RADS 4</td>\n",
       "      <td>2386.679932</td>\n",
       "      <td>1240.609985</td>\n",
       "      <td>2501.800049</td>\n",
       "      <td>1354.040039</td>\n",
       "      <td>training</td>\n",
       "    </tr>\n",
       "    <tr>\n",
       "      <th>2</th>\n",
       "      <td>75e8e48933289d70b407379a564f8594</td>\n",
       "      <td>853b70e7e6f39133497909d9ca4c756d</td>\n",
       "      <td>c83f780904f25eacb44e9030f32c66e1</td>\n",
       "      <td>R</td>\n",
       "      <td>CC</td>\n",
       "      <td>3518</td>\n",
       "      <td>2800</td>\n",
       "      <td>BI-RADS 3</td>\n",
       "      <td>DENSITY C</td>\n",
       "      <td>['Global Asymmetry']</td>\n",
       "      <td>BI-RADS 3</td>\n",
       "      <td>2279.179932</td>\n",
       "      <td>1166.510010</td>\n",
       "      <td>2704.439941</td>\n",
       "      <td>2184.260010</td>\n",
       "      <td>training</td>\n",
       "    </tr>\n",
       "    <tr>\n",
       "      <th>3</th>\n",
       "      <td>75e8e48933289d70b407379a564f8594</td>\n",
       "      <td>853b70e7e6f39133497909d9ca4c756d</td>\n",
       "      <td>893528bc38a0362928a89364f1b692fd</td>\n",
       "      <td>R</td>\n",
       "      <td>MLO</td>\n",
       "      <td>3518</td>\n",
       "      <td>2800</td>\n",
       "      <td>BI-RADS 3</td>\n",
       "      <td>DENSITY C</td>\n",
       "      <td>['Global Asymmetry']</td>\n",
       "      <td>BI-RADS 3</td>\n",
       "      <td>1954.270020</td>\n",
       "      <td>1443.640015</td>\n",
       "      <td>2589.760010</td>\n",
       "      <td>2193.810059</td>\n",
       "      <td>training</td>\n",
       "    </tr>\n",
       "    <tr>\n",
       "      <th>4</th>\n",
       "      <td>c3487424fee1bdd4515b72dc3fd69813</td>\n",
       "      <td>77619c914263eae44e9099f1ce07192c</td>\n",
       "      <td>318264c881bf12f2c1efe5f93920cc37</td>\n",
       "      <td>R</td>\n",
       "      <td>CC</td>\n",
       "      <td>3518</td>\n",
       "      <td>2800</td>\n",
       "      <td>BI-RADS 4</td>\n",
       "      <td>DENSITY C</td>\n",
       "      <td>['Architectural Distortion']</td>\n",
       "      <td>BI-RADS 4</td>\n",
       "      <td>2172.300049</td>\n",
       "      <td>1967.410034</td>\n",
       "      <td>2388.699951</td>\n",
       "      <td>2147.159912</td>\n",
       "      <td>training</td>\n",
       "    </tr>\n",
       "  </tbody>\n",
       "</table>\n",
       "</div>"
      ],
      "text/plain": [
       "                           study_id                         series_id  \\\n",
       "0  48575a27b7c992427041a82fa750d3fa  26de4993fa6b8ae50a91c8baf49b92b0   \n",
       "1  48575a27b7c992427041a82fa750d3fa  26de4993fa6b8ae50a91c8baf49b92b0   \n",
       "2  75e8e48933289d70b407379a564f8594  853b70e7e6f39133497909d9ca4c756d   \n",
       "3  75e8e48933289d70b407379a564f8594  853b70e7e6f39133497909d9ca4c756d   \n",
       "4  c3487424fee1bdd4515b72dc3fd69813  77619c914263eae44e9099f1ce07192c   \n",
       "\n",
       "                           image_id laterality view_position  height  width  \\\n",
       "0  4e3a578fe535ea4f5258d3f7f4419db8          R            CC    3518   2800   \n",
       "1  dac39351b0f3a8c670b7f8dc88029364          R           MLO    3518   2800   \n",
       "2  c83f780904f25eacb44e9030f32c66e1          R            CC    3518   2800   \n",
       "3  893528bc38a0362928a89364f1b692fd          R           MLO    3518   2800   \n",
       "4  318264c881bf12f2c1efe5f93920cc37          R            CC    3518   2800   \n",
       "\n",
       "  breast_birads breast_density            finding_categories finding_birads  \\\n",
       "0     BI-RADS 4      DENSITY C                      ['Mass']      BI-RADS 4   \n",
       "1     BI-RADS 4      DENSITY C                      ['Mass']      BI-RADS 4   \n",
       "2     BI-RADS 3      DENSITY C          ['Global Asymmetry']      BI-RADS 3   \n",
       "3     BI-RADS 3      DENSITY C          ['Global Asymmetry']      BI-RADS 3   \n",
       "4     BI-RADS 4      DENSITY C  ['Architectural Distortion']      BI-RADS 4   \n",
       "\n",
       "          xmin         ymin         xmax         ymax     split  \n",
       "0  2355.139893  1731.640015  2482.979980  1852.750000  training  \n",
       "1  2386.679932  1240.609985  2501.800049  1354.040039  training  \n",
       "2  2279.179932  1166.510010  2704.439941  2184.260010  training  \n",
       "3  1954.270020  1443.640015  2589.760010  2193.810059  training  \n",
       "4  2172.300049  1967.410034  2388.699951  2147.159912  training  "
      ]
     },
     "execution_count": 68,
     "metadata": {},
     "output_type": "execute_result"
    }
   ],
   "source": [
    "# Load the prepared train data\n",
    "\n",
    "path = base_path + 'finding_annotations.csv'\n",
    "df_train_info = pd.read_csv(path)\n",
    "\n",
    "print(df_train_info.shape)\n",
    "\n",
    "df_train_info.head()"
   ]
  },
  {
   "cell_type": "code",
   "execution_count": 69,
   "metadata": {},
   "outputs": [
    {
     "name": "stdout",
     "output_type": "stream",
     "text": [
      "(20486, 17)\n"
     ]
    },
    {
     "data": {
      "text/html": [
       "<div>\n",
       "<style scoped>\n",
       "    .dataframe tbody tr th:only-of-type {\n",
       "        vertical-align: middle;\n",
       "    }\n",
       "\n",
       "    .dataframe tbody tr th {\n",
       "        vertical-align: top;\n",
       "    }\n",
       "\n",
       "    .dataframe thead th {\n",
       "        text-align: right;\n",
       "    }\n",
       "</style>\n",
       "<table border=\"1\" class=\"dataframe\">\n",
       "  <thead>\n",
       "    <tr style=\"text-align: right;\">\n",
       "      <th></th>\n",
       "      <th>study_id</th>\n",
       "      <th>series_id</th>\n",
       "      <th>image_id</th>\n",
       "      <th>laterality</th>\n",
       "      <th>view_position</th>\n",
       "      <th>height</th>\n",
       "      <th>width</th>\n",
       "      <th>breast_birads</th>\n",
       "      <th>breast_density</th>\n",
       "      <th>finding_categories</th>\n",
       "      <th>finding_birads</th>\n",
       "      <th>xmin</th>\n",
       "      <th>ymin</th>\n",
       "      <th>xmax</th>\n",
       "      <th>ymax</th>\n",
       "      <th>split</th>\n",
       "      <th>path</th>\n",
       "    </tr>\n",
       "  </thead>\n",
       "  <tbody>\n",
       "    <tr>\n",
       "      <th>0</th>\n",
       "      <td>48575a27b7c992427041a82fa750d3fa</td>\n",
       "      <td>26de4993fa6b8ae50a91c8baf49b92b0</td>\n",
       "      <td>4e3a578fe535ea4f5258d3f7f4419db8</td>\n",
       "      <td>R</td>\n",
       "      <td>CC</td>\n",
       "      <td>3518</td>\n",
       "      <td>2800</td>\n",
       "      <td>BI-RADS 4</td>\n",
       "      <td>DENSITY C</td>\n",
       "      <td>['Mass']</td>\n",
       "      <td>BI-RADS 4</td>\n",
       "      <td>2355.139893</td>\n",
       "      <td>1731.640015</td>\n",
       "      <td>2482.979980</td>\n",
       "      <td>1852.750000</td>\n",
       "      <td>training</td>\n",
       "      <td>/Volumes/WDExtDrive/Woza-Mammogram-Analyzer/Ra...</td>\n",
       "    </tr>\n",
       "    <tr>\n",
       "      <th>1</th>\n",
       "      <td>48575a27b7c992427041a82fa750d3fa</td>\n",
       "      <td>26de4993fa6b8ae50a91c8baf49b92b0</td>\n",
       "      <td>dac39351b0f3a8c670b7f8dc88029364</td>\n",
       "      <td>R</td>\n",
       "      <td>MLO</td>\n",
       "      <td>3518</td>\n",
       "      <td>2800</td>\n",
       "      <td>BI-RADS 4</td>\n",
       "      <td>DENSITY C</td>\n",
       "      <td>['Mass']</td>\n",
       "      <td>BI-RADS 4</td>\n",
       "      <td>2386.679932</td>\n",
       "      <td>1240.609985</td>\n",
       "      <td>2501.800049</td>\n",
       "      <td>1354.040039</td>\n",
       "      <td>training</td>\n",
       "      <td>/Volumes/WDExtDrive/Woza-Mammogram-Analyzer/Ra...</td>\n",
       "    </tr>\n",
       "    <tr>\n",
       "      <th>2</th>\n",
       "      <td>75e8e48933289d70b407379a564f8594</td>\n",
       "      <td>853b70e7e6f39133497909d9ca4c756d</td>\n",
       "      <td>c83f780904f25eacb44e9030f32c66e1</td>\n",
       "      <td>R</td>\n",
       "      <td>CC</td>\n",
       "      <td>3518</td>\n",
       "      <td>2800</td>\n",
       "      <td>BI-RADS 3</td>\n",
       "      <td>DENSITY C</td>\n",
       "      <td>['Global Asymmetry']</td>\n",
       "      <td>BI-RADS 3</td>\n",
       "      <td>2279.179932</td>\n",
       "      <td>1166.510010</td>\n",
       "      <td>2704.439941</td>\n",
       "      <td>2184.260010</td>\n",
       "      <td>training</td>\n",
       "      <td>/Volumes/WDExtDrive/Woza-Mammogram-Analyzer/Ra...</td>\n",
       "    </tr>\n",
       "    <tr>\n",
       "      <th>3</th>\n",
       "      <td>75e8e48933289d70b407379a564f8594</td>\n",
       "      <td>853b70e7e6f39133497909d9ca4c756d</td>\n",
       "      <td>893528bc38a0362928a89364f1b692fd</td>\n",
       "      <td>R</td>\n",
       "      <td>MLO</td>\n",
       "      <td>3518</td>\n",
       "      <td>2800</td>\n",
       "      <td>BI-RADS 3</td>\n",
       "      <td>DENSITY C</td>\n",
       "      <td>['Global Asymmetry']</td>\n",
       "      <td>BI-RADS 3</td>\n",
       "      <td>1954.270020</td>\n",
       "      <td>1443.640015</td>\n",
       "      <td>2589.760010</td>\n",
       "      <td>2193.810059</td>\n",
       "      <td>training</td>\n",
       "      <td>/Volumes/WDExtDrive/Woza-Mammogram-Analyzer/Ra...</td>\n",
       "    </tr>\n",
       "    <tr>\n",
       "      <th>4</th>\n",
       "      <td>c3487424fee1bdd4515b72dc3fd69813</td>\n",
       "      <td>77619c914263eae44e9099f1ce07192c</td>\n",
       "      <td>318264c881bf12f2c1efe5f93920cc37</td>\n",
       "      <td>R</td>\n",
       "      <td>CC</td>\n",
       "      <td>3518</td>\n",
       "      <td>2800</td>\n",
       "      <td>BI-RADS 4</td>\n",
       "      <td>DENSITY C</td>\n",
       "      <td>['Architectural Distortion']</td>\n",
       "      <td>BI-RADS 4</td>\n",
       "      <td>2172.300049</td>\n",
       "      <td>1967.410034</td>\n",
       "      <td>2388.699951</td>\n",
       "      <td>2147.159912</td>\n",
       "      <td>training</td>\n",
       "      <td>/Volumes/WDExtDrive/Woza-Mammogram-Analyzer/Ra...</td>\n",
       "    </tr>\n",
       "  </tbody>\n",
       "</table>\n",
       "</div>"
      ],
      "text/plain": [
       "                           study_id                         series_id  \\\n",
       "0  48575a27b7c992427041a82fa750d3fa  26de4993fa6b8ae50a91c8baf49b92b0   \n",
       "1  48575a27b7c992427041a82fa750d3fa  26de4993fa6b8ae50a91c8baf49b92b0   \n",
       "2  75e8e48933289d70b407379a564f8594  853b70e7e6f39133497909d9ca4c756d   \n",
       "3  75e8e48933289d70b407379a564f8594  853b70e7e6f39133497909d9ca4c756d   \n",
       "4  c3487424fee1bdd4515b72dc3fd69813  77619c914263eae44e9099f1ce07192c   \n",
       "\n",
       "                           image_id laterality view_position  height  width  \\\n",
       "0  4e3a578fe535ea4f5258d3f7f4419db8          R            CC    3518   2800   \n",
       "1  dac39351b0f3a8c670b7f8dc88029364          R           MLO    3518   2800   \n",
       "2  c83f780904f25eacb44e9030f32c66e1          R            CC    3518   2800   \n",
       "3  893528bc38a0362928a89364f1b692fd          R           MLO    3518   2800   \n",
       "4  318264c881bf12f2c1efe5f93920cc37          R            CC    3518   2800   \n",
       "\n",
       "  breast_birads breast_density            finding_categories finding_birads  \\\n",
       "0     BI-RADS 4      DENSITY C                      ['Mass']      BI-RADS 4   \n",
       "1     BI-RADS 4      DENSITY C                      ['Mass']      BI-RADS 4   \n",
       "2     BI-RADS 3      DENSITY C          ['Global Asymmetry']      BI-RADS 3   \n",
       "3     BI-RADS 3      DENSITY C          ['Global Asymmetry']      BI-RADS 3   \n",
       "4     BI-RADS 4      DENSITY C  ['Architectural Distortion']      BI-RADS 4   \n",
       "\n",
       "          xmin         ymin         xmax         ymax     split  \\\n",
       "0  2355.139893  1731.640015  2482.979980  1852.750000  training   \n",
       "1  2386.679932  1240.609985  2501.800049  1354.040039  training   \n",
       "2  2279.179932  1166.510010  2704.439941  2184.260010  training   \n",
       "3  1954.270020  1443.640015  2589.760010  2193.810059  training   \n",
       "4  2172.300049  1967.410034  2388.699951  2147.159912  training   \n",
       "\n",
       "                                                path  \n",
       "0  /Volumes/WDExtDrive/Woza-Mammogram-Analyzer/Ra...  \n",
       "1  /Volumes/WDExtDrive/Woza-Mammogram-Analyzer/Ra...  \n",
       "2  /Volumes/WDExtDrive/Woza-Mammogram-Analyzer/Ra...  \n",
       "3  /Volumes/WDExtDrive/Woza-Mammogram-Analyzer/Ra...  \n",
       "4  /Volumes/WDExtDrive/Woza-Mammogram-Analyzer/Ra...  "
      ]
     },
     "execution_count": 69,
     "metadata": {},
     "output_type": "execute_result"
    }
   ],
   "source": [
    "# Get the path to each image\n",
    "\n",
    "def get_path(row):\n",
    "    \n",
    "    study_id = row['study_id']\n",
    "    image_id = row['image_id']\n",
    "    path = base_path + 'images/' + study_id + '/' + image_id + '.dicom'\n",
    "    \n",
    "    return path\n",
    "\n",
    "\n",
    "df_train_info['path'] = df_train_info.apply(get_path, axis=1)\n",
    "\n",
    "print(df_train_info.shape)\n",
    "\n",
    "df_train_info.head()"
   ]
  },
  {
   "cell_type": "code",
   "execution_count": 70,
   "metadata": {
    "execution": {
     "iopub.execute_input": "2022-07-30T20:05:30.687471Z",
     "iopub.status.busy": "2022-07-30T20:05:30.687024Z",
     "iopub.status.idle": "2022-07-30T20:05:30.714720Z",
     "shell.execute_reply": "2022-07-30T20:05:30.713259Z"
    },
    "papermill": {
     "duration": 0.047245,
     "end_time": "2022-07-30T20:05:30.717481",
     "exception": false,
     "start_time": "2022-07-30T20:05:30.670236",
     "status": "completed"
    },
    "tags": []
   },
   "outputs": [
    {
     "data": {
      "text/plain": [
       "['No Finding']                                                                                      18232\n",
       "['Mass']                                                                                             1123\n",
       "['Suspicious Calcification']                                                                          402\n",
       "['Focal Asymmetry']                                                                                   232\n",
       "['Architectural Distortion']                                                                           95\n",
       "['Asymmetry']                                                                                          90\n",
       "['Suspicious Calcification', 'Mass']                                                                   82\n",
       "['Suspicious Lymph Node']                                                                              57\n",
       "['Skin Thickening']                                                                                    38\n",
       "['Suspicious Calcification', 'Focal Asymmetry']                                                        31\n",
       "['Global Asymmetry']                                                                                   24\n",
       "['Suspicious Calcification', 'Architectural Distortion']                                               13\n",
       "['Nipple Retraction']                                                                                  12\n",
       "['Skin Retraction']                                                                                     7\n",
       "['Skin Thickening', 'Nipple Retraction']                                                                6\n",
       "['Suspicious Calcification', 'Nipple Retraction', 'Mass']                                               4\n",
       "['Skin Thickening', 'Focal Asymmetry']                                                                  4\n",
       "['Suspicious Calcification', 'Architectural Distortion', 'Mass']                                        4\n",
       "['Skin Retraction', 'Nipple Retraction', 'Mass']                                                        3\n",
       "['Suspicious Calcification', 'Asymmetry']                                                               3\n",
       "['Nipple Retraction', 'Mass']                                                                           3\n",
       "['Skin Retraction', 'Skin Thickening']                                                                  3\n",
       "['Nipple Retraction', 'Skin Thickening', 'Mass']                                                        2\n",
       "['Skin Retraction', 'Nipple Retraction']                                                                2\n",
       "['Skin Thickening', 'Global Asymmetry', 'Nipple Retraction']                                            2\n",
       "['Architectural Distortion', 'Mass']                                                                    2\n",
       "['Suspicious Calcification', 'Architectural Distortion', 'Nipple Retraction', 'Skin Retraction']        2\n",
       "['Nipple Retraction', 'Asymmetry']                                                                      1\n",
       "['Skin Thickening', 'Asymmetry']                                                                        1\n",
       "['Skin Thickening', 'Mass']                                                                             1\n",
       "['Asymmetry', 'Mass']                                                                                   1\n",
       "['Focal Asymmetry', 'Mass']                                                                             1\n",
       "['Architectural Distortion', 'Asymmetry']                                                               1\n",
       "['Suspicious Calcification', 'Architectural Distortion', 'Focal Asymmetry']                             1\n",
       "['Skin Retraction', 'Architectural Distortion', 'Suspicious Calcification']                             1\n",
       "Name: finding_categories, dtype: int64"
      ]
     },
     "execution_count": 70,
     "metadata": {},
     "output_type": "execute_result"
    }
   ],
   "source": [
    "df_train_info['finding_categories'].value_counts()"
   ]
  },
  {
   "cell_type": "markdown",
   "metadata": {},
   "source": [
    "## Identify images with more than 1 finding"
   ]
  },
  {
   "cell_type": "code",
   "execution_count": 71,
   "metadata": {},
   "outputs": [
    {
     "data": {
      "text/html": [
       "<div>\n",
       "<style scoped>\n",
       "    .dataframe tbody tr th:only-of-type {\n",
       "        vertical-align: middle;\n",
       "    }\n",
       "\n",
       "    .dataframe tbody tr th {\n",
       "        vertical-align: top;\n",
       "    }\n",
       "\n",
       "    .dataframe thead th {\n",
       "        text-align: right;\n",
       "    }\n",
       "</style>\n",
       "<table border=\"1\" class=\"dataframe\">\n",
       "  <thead>\n",
       "    <tr style=\"text-align: right;\">\n",
       "      <th></th>\n",
       "      <th>study_id</th>\n",
       "      <th>series_id</th>\n",
       "      <th>image_id</th>\n",
       "      <th>laterality</th>\n",
       "      <th>view_position</th>\n",
       "      <th>height</th>\n",
       "      <th>width</th>\n",
       "      <th>breast_birads</th>\n",
       "      <th>breast_density</th>\n",
       "      <th>finding_categories</th>\n",
       "      <th>finding_birads</th>\n",
       "      <th>xmin</th>\n",
       "      <th>ymin</th>\n",
       "      <th>xmax</th>\n",
       "      <th>ymax</th>\n",
       "      <th>split</th>\n",
       "      <th>path</th>\n",
       "      <th>num_findings</th>\n",
       "    </tr>\n",
       "  </thead>\n",
       "  <tbody>\n",
       "    <tr>\n",
       "      <th>0</th>\n",
       "      <td>48575a27b7c992427041a82fa750d3fa</td>\n",
       "      <td>26de4993fa6b8ae50a91c8baf49b92b0</td>\n",
       "      <td>4e3a578fe535ea4f5258d3f7f4419db8</td>\n",
       "      <td>R</td>\n",
       "      <td>CC</td>\n",
       "      <td>3518</td>\n",
       "      <td>2800</td>\n",
       "      <td>BI-RADS 4</td>\n",
       "      <td>DENSITY C</td>\n",
       "      <td>['Mass']</td>\n",
       "      <td>BI-RADS 4</td>\n",
       "      <td>2355.139893</td>\n",
       "      <td>1731.640015</td>\n",
       "      <td>2482.979980</td>\n",
       "      <td>1852.750000</td>\n",
       "      <td>training</td>\n",
       "      <td>/Volumes/WDExtDrive/Woza-Mammogram-Analyzer/Ra...</td>\n",
       "      <td>1</td>\n",
       "    </tr>\n",
       "    <tr>\n",
       "      <th>1</th>\n",
       "      <td>48575a27b7c992427041a82fa750d3fa</td>\n",
       "      <td>26de4993fa6b8ae50a91c8baf49b92b0</td>\n",
       "      <td>dac39351b0f3a8c670b7f8dc88029364</td>\n",
       "      <td>R</td>\n",
       "      <td>MLO</td>\n",
       "      <td>3518</td>\n",
       "      <td>2800</td>\n",
       "      <td>BI-RADS 4</td>\n",
       "      <td>DENSITY C</td>\n",
       "      <td>['Mass']</td>\n",
       "      <td>BI-RADS 4</td>\n",
       "      <td>2386.679932</td>\n",
       "      <td>1240.609985</td>\n",
       "      <td>2501.800049</td>\n",
       "      <td>1354.040039</td>\n",
       "      <td>training</td>\n",
       "      <td>/Volumes/WDExtDrive/Woza-Mammogram-Analyzer/Ra...</td>\n",
       "      <td>1</td>\n",
       "    </tr>\n",
       "    <tr>\n",
       "      <th>2</th>\n",
       "      <td>75e8e48933289d70b407379a564f8594</td>\n",
       "      <td>853b70e7e6f39133497909d9ca4c756d</td>\n",
       "      <td>c83f780904f25eacb44e9030f32c66e1</td>\n",
       "      <td>R</td>\n",
       "      <td>CC</td>\n",
       "      <td>3518</td>\n",
       "      <td>2800</td>\n",
       "      <td>BI-RADS 3</td>\n",
       "      <td>DENSITY C</td>\n",
       "      <td>['Global Asymmetry']</td>\n",
       "      <td>BI-RADS 3</td>\n",
       "      <td>2279.179932</td>\n",
       "      <td>1166.510010</td>\n",
       "      <td>2704.439941</td>\n",
       "      <td>2184.260010</td>\n",
       "      <td>training</td>\n",
       "      <td>/Volumes/WDExtDrive/Woza-Mammogram-Analyzer/Ra...</td>\n",
       "      <td>1</td>\n",
       "    </tr>\n",
       "    <tr>\n",
       "      <th>3</th>\n",
       "      <td>75e8e48933289d70b407379a564f8594</td>\n",
       "      <td>853b70e7e6f39133497909d9ca4c756d</td>\n",
       "      <td>893528bc38a0362928a89364f1b692fd</td>\n",
       "      <td>R</td>\n",
       "      <td>MLO</td>\n",
       "      <td>3518</td>\n",
       "      <td>2800</td>\n",
       "      <td>BI-RADS 3</td>\n",
       "      <td>DENSITY C</td>\n",
       "      <td>['Global Asymmetry']</td>\n",
       "      <td>BI-RADS 3</td>\n",
       "      <td>1954.270020</td>\n",
       "      <td>1443.640015</td>\n",
       "      <td>2589.760010</td>\n",
       "      <td>2193.810059</td>\n",
       "      <td>training</td>\n",
       "      <td>/Volumes/WDExtDrive/Woza-Mammogram-Analyzer/Ra...</td>\n",
       "      <td>1</td>\n",
       "    </tr>\n",
       "    <tr>\n",
       "      <th>4</th>\n",
       "      <td>c3487424fee1bdd4515b72dc3fd69813</td>\n",
       "      <td>77619c914263eae44e9099f1ce07192c</td>\n",
       "      <td>318264c881bf12f2c1efe5f93920cc37</td>\n",
       "      <td>R</td>\n",
       "      <td>CC</td>\n",
       "      <td>3518</td>\n",
       "      <td>2800</td>\n",
       "      <td>BI-RADS 4</td>\n",
       "      <td>DENSITY C</td>\n",
       "      <td>['Architectural Distortion']</td>\n",
       "      <td>BI-RADS 4</td>\n",
       "      <td>2172.300049</td>\n",
       "      <td>1967.410034</td>\n",
       "      <td>2388.699951</td>\n",
       "      <td>2147.159912</td>\n",
       "      <td>training</td>\n",
       "      <td>/Volumes/WDExtDrive/Woza-Mammogram-Analyzer/Ra...</td>\n",
       "      <td>1</td>\n",
       "    </tr>\n",
       "  </tbody>\n",
       "</table>\n",
       "</div>"
      ],
      "text/plain": [
       "                           study_id                         series_id  \\\n",
       "0  48575a27b7c992427041a82fa750d3fa  26de4993fa6b8ae50a91c8baf49b92b0   \n",
       "1  48575a27b7c992427041a82fa750d3fa  26de4993fa6b8ae50a91c8baf49b92b0   \n",
       "2  75e8e48933289d70b407379a564f8594  853b70e7e6f39133497909d9ca4c756d   \n",
       "3  75e8e48933289d70b407379a564f8594  853b70e7e6f39133497909d9ca4c756d   \n",
       "4  c3487424fee1bdd4515b72dc3fd69813  77619c914263eae44e9099f1ce07192c   \n",
       "\n",
       "                           image_id laterality view_position  height  width  \\\n",
       "0  4e3a578fe535ea4f5258d3f7f4419db8          R            CC    3518   2800   \n",
       "1  dac39351b0f3a8c670b7f8dc88029364          R           MLO    3518   2800   \n",
       "2  c83f780904f25eacb44e9030f32c66e1          R            CC    3518   2800   \n",
       "3  893528bc38a0362928a89364f1b692fd          R           MLO    3518   2800   \n",
       "4  318264c881bf12f2c1efe5f93920cc37          R            CC    3518   2800   \n",
       "\n",
       "  breast_birads breast_density            finding_categories finding_birads  \\\n",
       "0     BI-RADS 4      DENSITY C                      ['Mass']      BI-RADS 4   \n",
       "1     BI-RADS 4      DENSITY C                      ['Mass']      BI-RADS 4   \n",
       "2     BI-RADS 3      DENSITY C          ['Global Asymmetry']      BI-RADS 3   \n",
       "3     BI-RADS 3      DENSITY C          ['Global Asymmetry']      BI-RADS 3   \n",
       "4     BI-RADS 4      DENSITY C  ['Architectural Distortion']      BI-RADS 4   \n",
       "\n",
       "          xmin         ymin         xmax         ymax     split  \\\n",
       "0  2355.139893  1731.640015  2482.979980  1852.750000  training   \n",
       "1  2386.679932  1240.609985  2501.800049  1354.040039  training   \n",
       "2  2279.179932  1166.510010  2704.439941  2184.260010  training   \n",
       "3  1954.270020  1443.640015  2589.760010  2193.810059  training   \n",
       "4  2172.300049  1967.410034  2388.699951  2147.159912  training   \n",
       "\n",
       "                                                path  num_findings  \n",
       "0  /Volumes/WDExtDrive/Woza-Mammogram-Analyzer/Ra...             1  \n",
       "1  /Volumes/WDExtDrive/Woza-Mammogram-Analyzer/Ra...             1  \n",
       "2  /Volumes/WDExtDrive/Woza-Mammogram-Analyzer/Ra...             1  \n",
       "3  /Volumes/WDExtDrive/Woza-Mammogram-Analyzer/Ra...             1  \n",
       "4  /Volumes/WDExtDrive/Woza-Mammogram-Analyzer/Ra...             1  "
      ]
     },
     "execution_count": 71,
     "metadata": {},
     "output_type": "execute_result"
    }
   ],
   "source": [
    "# Identify rows that have a mass\n",
    "\n",
    "# Note that some images have both a mass and another \n",
    "# finding e.g. calcification. We want those images because a mass is present.\n",
    "\n",
    "def get_num_findings(x):\n",
    "    \n",
    "    # This list is a string: \"[...]\"\n",
    "    list_as_str = x\n",
    "    \n",
    "    # Convert to pyton list: [...]\n",
    "    target_list = ast.literal_eval(list_as_str)\n",
    "    \n",
    "    return len(target_list)\n",
    "    \n",
    "df_train_info['num_findings'] = df_train_info['finding_categories'].apply(get_num_findings)\n",
    "\n",
    "df_train_info.head()"
   ]
  },
  {
   "cell_type": "markdown",
   "metadata": {},
   "source": [
    "## Set up the target\n",
    "\n",
    "0 - Normal\n",
    "1 - Mass"
   ]
  },
  {
   "cell_type": "code",
   "execution_count": 72,
   "metadata": {},
   "outputs": [
    {
     "data": {
      "text/plain": [
       "'Mass'"
      ]
     },
     "execution_count": 72,
     "metadata": {},
     "output_type": "execute_result"
    }
   ],
   "source": [
    "# Example\n",
    "# Convert a string list ('[...]') to a python list ([...]).\n",
    "\n",
    "import ast\n",
    "\n",
    "list_as_str = df_train_info.loc[0, 'finding_categories']\n",
    "\n",
    "target_list = ast.literal_eval(list_as_str)\n",
    "\n",
    "target_list[0]"
   ]
  },
  {
   "cell_type": "code",
   "execution_count": 73,
   "metadata": {},
   "outputs": [
    {
     "data": {
      "text/html": [
       "<div>\n",
       "<style scoped>\n",
       "    .dataframe tbody tr th:only-of-type {\n",
       "        vertical-align: middle;\n",
       "    }\n",
       "\n",
       "    .dataframe tbody tr th {\n",
       "        vertical-align: top;\n",
       "    }\n",
       "\n",
       "    .dataframe thead th {\n",
       "        text-align: right;\n",
       "    }\n",
       "</style>\n",
       "<table border=\"1\" class=\"dataframe\">\n",
       "  <thead>\n",
       "    <tr style=\"text-align: right;\">\n",
       "      <th></th>\n",
       "      <th>study_id</th>\n",
       "      <th>series_id</th>\n",
       "      <th>image_id</th>\n",
       "      <th>laterality</th>\n",
       "      <th>view_position</th>\n",
       "      <th>height</th>\n",
       "      <th>width</th>\n",
       "      <th>breast_birads</th>\n",
       "      <th>breast_density</th>\n",
       "      <th>finding_categories</th>\n",
       "      <th>finding_birads</th>\n",
       "      <th>xmin</th>\n",
       "      <th>ymin</th>\n",
       "      <th>xmax</th>\n",
       "      <th>ymax</th>\n",
       "      <th>split</th>\n",
       "      <th>path</th>\n",
       "      <th>num_findings</th>\n",
       "      <th>target</th>\n",
       "    </tr>\n",
       "  </thead>\n",
       "  <tbody>\n",
       "    <tr>\n",
       "      <th>0</th>\n",
       "      <td>48575a27b7c992427041a82fa750d3fa</td>\n",
       "      <td>26de4993fa6b8ae50a91c8baf49b92b0</td>\n",
       "      <td>4e3a578fe535ea4f5258d3f7f4419db8</td>\n",
       "      <td>R</td>\n",
       "      <td>CC</td>\n",
       "      <td>3518</td>\n",
       "      <td>2800</td>\n",
       "      <td>BI-RADS 4</td>\n",
       "      <td>DENSITY C</td>\n",
       "      <td>['Mass']</td>\n",
       "      <td>BI-RADS 4</td>\n",
       "      <td>2355.139893</td>\n",
       "      <td>1731.640015</td>\n",
       "      <td>2482.979980</td>\n",
       "      <td>1852.750000</td>\n",
       "      <td>training</td>\n",
       "      <td>/Volumes/WDExtDrive/Woza-Mammogram-Analyzer/Ra...</td>\n",
       "      <td>1</td>\n",
       "      <td>1</td>\n",
       "    </tr>\n",
       "    <tr>\n",
       "      <th>1</th>\n",
       "      <td>48575a27b7c992427041a82fa750d3fa</td>\n",
       "      <td>26de4993fa6b8ae50a91c8baf49b92b0</td>\n",
       "      <td>dac39351b0f3a8c670b7f8dc88029364</td>\n",
       "      <td>R</td>\n",
       "      <td>MLO</td>\n",
       "      <td>3518</td>\n",
       "      <td>2800</td>\n",
       "      <td>BI-RADS 4</td>\n",
       "      <td>DENSITY C</td>\n",
       "      <td>['Mass']</td>\n",
       "      <td>BI-RADS 4</td>\n",
       "      <td>2386.679932</td>\n",
       "      <td>1240.609985</td>\n",
       "      <td>2501.800049</td>\n",
       "      <td>1354.040039</td>\n",
       "      <td>training</td>\n",
       "      <td>/Volumes/WDExtDrive/Woza-Mammogram-Analyzer/Ra...</td>\n",
       "      <td>1</td>\n",
       "      <td>1</td>\n",
       "    </tr>\n",
       "    <tr>\n",
       "      <th>2</th>\n",
       "      <td>75e8e48933289d70b407379a564f8594</td>\n",
       "      <td>853b70e7e6f39133497909d9ca4c756d</td>\n",
       "      <td>c83f780904f25eacb44e9030f32c66e1</td>\n",
       "      <td>R</td>\n",
       "      <td>CC</td>\n",
       "      <td>3518</td>\n",
       "      <td>2800</td>\n",
       "      <td>BI-RADS 3</td>\n",
       "      <td>DENSITY C</td>\n",
       "      <td>['Global Asymmetry']</td>\n",
       "      <td>BI-RADS 3</td>\n",
       "      <td>2279.179932</td>\n",
       "      <td>1166.510010</td>\n",
       "      <td>2704.439941</td>\n",
       "      <td>2184.260010</td>\n",
       "      <td>training</td>\n",
       "      <td>/Volumes/WDExtDrive/Woza-Mammogram-Analyzer/Ra...</td>\n",
       "      <td>1</td>\n",
       "      <td>0</td>\n",
       "    </tr>\n",
       "    <tr>\n",
       "      <th>3</th>\n",
       "      <td>75e8e48933289d70b407379a564f8594</td>\n",
       "      <td>853b70e7e6f39133497909d9ca4c756d</td>\n",
       "      <td>893528bc38a0362928a89364f1b692fd</td>\n",
       "      <td>R</td>\n",
       "      <td>MLO</td>\n",
       "      <td>3518</td>\n",
       "      <td>2800</td>\n",
       "      <td>BI-RADS 3</td>\n",
       "      <td>DENSITY C</td>\n",
       "      <td>['Global Asymmetry']</td>\n",
       "      <td>BI-RADS 3</td>\n",
       "      <td>1954.270020</td>\n",
       "      <td>1443.640015</td>\n",
       "      <td>2589.760010</td>\n",
       "      <td>2193.810059</td>\n",
       "      <td>training</td>\n",
       "      <td>/Volumes/WDExtDrive/Woza-Mammogram-Analyzer/Ra...</td>\n",
       "      <td>1</td>\n",
       "      <td>0</td>\n",
       "    </tr>\n",
       "    <tr>\n",
       "      <th>4</th>\n",
       "      <td>c3487424fee1bdd4515b72dc3fd69813</td>\n",
       "      <td>77619c914263eae44e9099f1ce07192c</td>\n",
       "      <td>318264c881bf12f2c1efe5f93920cc37</td>\n",
       "      <td>R</td>\n",
       "      <td>CC</td>\n",
       "      <td>3518</td>\n",
       "      <td>2800</td>\n",
       "      <td>BI-RADS 4</td>\n",
       "      <td>DENSITY C</td>\n",
       "      <td>['Architectural Distortion']</td>\n",
       "      <td>BI-RADS 4</td>\n",
       "      <td>2172.300049</td>\n",
       "      <td>1967.410034</td>\n",
       "      <td>2388.699951</td>\n",
       "      <td>2147.159912</td>\n",
       "      <td>training</td>\n",
       "      <td>/Volumes/WDExtDrive/Woza-Mammogram-Analyzer/Ra...</td>\n",
       "      <td>1</td>\n",
       "      <td>0</td>\n",
       "    </tr>\n",
       "  </tbody>\n",
       "</table>\n",
       "</div>"
      ],
      "text/plain": [
       "                           study_id                         series_id  \\\n",
       "0  48575a27b7c992427041a82fa750d3fa  26de4993fa6b8ae50a91c8baf49b92b0   \n",
       "1  48575a27b7c992427041a82fa750d3fa  26de4993fa6b8ae50a91c8baf49b92b0   \n",
       "2  75e8e48933289d70b407379a564f8594  853b70e7e6f39133497909d9ca4c756d   \n",
       "3  75e8e48933289d70b407379a564f8594  853b70e7e6f39133497909d9ca4c756d   \n",
       "4  c3487424fee1bdd4515b72dc3fd69813  77619c914263eae44e9099f1ce07192c   \n",
       "\n",
       "                           image_id laterality view_position  height  width  \\\n",
       "0  4e3a578fe535ea4f5258d3f7f4419db8          R            CC    3518   2800   \n",
       "1  dac39351b0f3a8c670b7f8dc88029364          R           MLO    3518   2800   \n",
       "2  c83f780904f25eacb44e9030f32c66e1          R            CC    3518   2800   \n",
       "3  893528bc38a0362928a89364f1b692fd          R           MLO    3518   2800   \n",
       "4  318264c881bf12f2c1efe5f93920cc37          R            CC    3518   2800   \n",
       "\n",
       "  breast_birads breast_density            finding_categories finding_birads  \\\n",
       "0     BI-RADS 4      DENSITY C                      ['Mass']      BI-RADS 4   \n",
       "1     BI-RADS 4      DENSITY C                      ['Mass']      BI-RADS 4   \n",
       "2     BI-RADS 3      DENSITY C          ['Global Asymmetry']      BI-RADS 3   \n",
       "3     BI-RADS 3      DENSITY C          ['Global Asymmetry']      BI-RADS 3   \n",
       "4     BI-RADS 4      DENSITY C  ['Architectural Distortion']      BI-RADS 4   \n",
       "\n",
       "          xmin         ymin         xmax         ymax     split  \\\n",
       "0  2355.139893  1731.640015  2482.979980  1852.750000  training   \n",
       "1  2386.679932  1240.609985  2501.800049  1354.040039  training   \n",
       "2  2279.179932  1166.510010  2704.439941  2184.260010  training   \n",
       "3  1954.270020  1443.640015  2589.760010  2193.810059  training   \n",
       "4  2172.300049  1967.410034  2388.699951  2147.159912  training   \n",
       "\n",
       "                                                path  num_findings  target  \n",
       "0  /Volumes/WDExtDrive/Woza-Mammogram-Analyzer/Ra...             1       1  \n",
       "1  /Volumes/WDExtDrive/Woza-Mammogram-Analyzer/Ra...             1       1  \n",
       "2  /Volumes/WDExtDrive/Woza-Mammogram-Analyzer/Ra...             1       0  \n",
       "3  /Volumes/WDExtDrive/Woza-Mammogram-Analyzer/Ra...             1       0  \n",
       "4  /Volumes/WDExtDrive/Woza-Mammogram-Analyzer/Ra...             1       0  "
      ]
     },
     "execution_count": 73,
     "metadata": {},
     "output_type": "execute_result"
    }
   ],
   "source": [
    "# Identify rows that have a mass\n",
    "\n",
    "# Note that some images have both a mass and another \n",
    "# finding e.g. calcification. We want those images because a mass is present.\n",
    "\n",
    "def set_target(x):\n",
    "    \n",
    "    # This list is a string: \"[...]\"\n",
    "    list_as_str = x\n",
    "    \n",
    "    # Convert to pyton list: [...]\n",
    "    target_list = ast.literal_eval(list_as_str)\n",
    "    \n",
    "    if 'Mass' in target_list:\n",
    "        return 1\n",
    "    else:\n",
    "        return 0\n",
    "    \n",
    "df_train_info['target'] = df_train_info['finding_categories'].apply(set_target)\n",
    "\n",
    "df_train_info.head()"
   ]
  },
  {
   "cell_type": "code",
   "execution_count": 74,
   "metadata": {},
   "outputs": [
    {
     "data": {
      "text/plain": [
       "0    19260\n",
       "1     1226\n",
       "Name: target, dtype: int64"
      ]
     },
     "execution_count": 74,
     "metadata": {},
     "output_type": "execute_result"
    }
   ],
   "source": [
    "df_train_info['target'].value_counts()"
   ]
  },
  {
   "cell_type": "code",
   "execution_count": null,
   "metadata": {},
   "outputs": [],
   "source": []
  },
  {
   "cell_type": "markdown",
   "metadata": {
    "papermill": {
     "duration": 0.014915,
     "end_time": "2022-07-30T20:05:30.747584",
     "exception": false,
     "start_time": "2022-07-30T20:05:30.732669",
     "status": "completed"
    },
    "tags": []
   },
   "source": [
    "## Select the images we want to use for training"
   ]
  },
  {
   "cell_type": "code",
   "execution_count": 75,
   "metadata": {
    "execution": {
     "iopub.execute_input": "2022-07-30T20:05:30.781095Z",
     "iopub.status.busy": "2022-07-30T20:05:30.780408Z",
     "iopub.status.idle": "2022-07-30T20:05:30.866358Z",
     "shell.execute_reply": "2022-07-30T20:05:30.864951Z"
    },
    "papermill": {
     "duration": 0.105744,
     "end_time": "2022-07-30T20:05:30.869061",
     "exception": false,
     "start_time": "2022-07-30T20:05:30.763317",
     "status": "completed"
    },
    "tags": []
   },
   "outputs": [
    {
     "name": "stdout",
     "output_type": "stream",
     "text": [
      "(19260, 19)\n",
      "(1226, 19)\n"
     ]
    }
   ],
   "source": [
    "# These images do not show Mass\n",
    "df0 = df_train_info[df_train_info['target'] == 0]\n",
    "\n",
    "# These images show Mass \n",
    "df1 = df_train_info[df_train_info['target'] == 1]\n",
    "\n",
    "print(df0.shape)\n",
    "print(df1.shape)"
   ]
  },
  {
   "cell_type": "code",
   "execution_count": 76,
   "metadata": {
    "execution": {
     "iopub.execute_input": "2022-07-30T20:05:30.903327Z",
     "iopub.status.busy": "2022-07-30T20:05:30.902919Z",
     "iopub.status.idle": "2022-07-30T20:05:30.965233Z",
     "shell.execute_reply": "2022-07-30T20:05:30.963549Z"
    },
    "papermill": {
     "duration": 0.082539,
     "end_time": "2022-07-30T20:05:30.967942",
     "exception": false,
     "start_time": "2022-07-30T20:05:30.885403",
     "status": "completed"
    },
    "tags": []
   },
   "outputs": [
    {
     "name": "stdout",
     "output_type": "stream",
     "text": [
      "(200, 19)\n"
     ]
    }
   ],
   "source": [
    "# Select all images with fractures and only\n",
    "# 200 images without fractures\n",
    "\n",
    "df0 = df0.reset_index(drop=True)\n",
    "\n",
    "df0 = df0.sample(n=200, random_state=101)\n",
    "\n",
    "print(df0.shape)\n",
    "\n",
    "#df0.head()"
   ]
  },
  {
   "cell_type": "code",
   "execution_count": 77,
   "metadata": {
    "execution": {
     "iopub.execute_input": "2022-07-30T20:05:31.003223Z",
     "iopub.status.busy": "2022-07-30T20:05:31.002490Z",
     "iopub.status.idle": "2022-07-30T20:05:31.027834Z",
     "shell.execute_reply": "2022-07-30T20:05:31.026336Z"
    },
    "papermill": {
     "duration": 0.047439,
     "end_time": "2022-07-30T20:05:31.031116",
     "exception": false,
     "start_time": "2022-07-30T20:05:30.983677",
     "status": "completed"
    },
    "tags": []
   },
   "outputs": [
    {
     "name": "stdout",
     "output_type": "stream",
     "text": [
      "(1426, 19)\n"
     ]
    },
    {
     "data": {
      "text/html": [
       "<div>\n",
       "<style scoped>\n",
       "    .dataframe tbody tr th:only-of-type {\n",
       "        vertical-align: middle;\n",
       "    }\n",
       "\n",
       "    .dataframe tbody tr th {\n",
       "        vertical-align: top;\n",
       "    }\n",
       "\n",
       "    .dataframe thead th {\n",
       "        text-align: right;\n",
       "    }\n",
       "</style>\n",
       "<table border=\"1\" class=\"dataframe\">\n",
       "  <thead>\n",
       "    <tr style=\"text-align: right;\">\n",
       "      <th></th>\n",
       "      <th>study_id</th>\n",
       "      <th>series_id</th>\n",
       "      <th>image_id</th>\n",
       "      <th>laterality</th>\n",
       "      <th>view_position</th>\n",
       "      <th>height</th>\n",
       "      <th>width</th>\n",
       "      <th>breast_birads</th>\n",
       "      <th>breast_density</th>\n",
       "      <th>finding_categories</th>\n",
       "      <th>finding_birads</th>\n",
       "      <th>xmin</th>\n",
       "      <th>ymin</th>\n",
       "      <th>xmax</th>\n",
       "      <th>ymax</th>\n",
       "      <th>split</th>\n",
       "      <th>path</th>\n",
       "      <th>num_findings</th>\n",
       "      <th>target</th>\n",
       "    </tr>\n",
       "  </thead>\n",
       "  <tbody>\n",
       "    <tr>\n",
       "      <th>0</th>\n",
       "      <td>48575a27b7c992427041a82fa750d3fa</td>\n",
       "      <td>26de4993fa6b8ae50a91c8baf49b92b0</td>\n",
       "      <td>4e3a578fe535ea4f5258d3f7f4419db8</td>\n",
       "      <td>R</td>\n",
       "      <td>CC</td>\n",
       "      <td>3518</td>\n",
       "      <td>2800</td>\n",
       "      <td>BI-RADS 4</td>\n",
       "      <td>DENSITY C</td>\n",
       "      <td>['Mass']</td>\n",
       "      <td>BI-RADS 4</td>\n",
       "      <td>2355.139893</td>\n",
       "      <td>1731.640015</td>\n",
       "      <td>2482.979980</td>\n",
       "      <td>1852.750000</td>\n",
       "      <td>training</td>\n",
       "      <td>/Volumes/WDExtDrive/Woza-Mammogram-Analyzer/Ra...</td>\n",
       "      <td>1</td>\n",
       "      <td>1</td>\n",
       "    </tr>\n",
       "    <tr>\n",
       "      <th>1</th>\n",
       "      <td>48575a27b7c992427041a82fa750d3fa</td>\n",
       "      <td>26de4993fa6b8ae50a91c8baf49b92b0</td>\n",
       "      <td>dac39351b0f3a8c670b7f8dc88029364</td>\n",
       "      <td>R</td>\n",
       "      <td>MLO</td>\n",
       "      <td>3518</td>\n",
       "      <td>2800</td>\n",
       "      <td>BI-RADS 4</td>\n",
       "      <td>DENSITY C</td>\n",
       "      <td>['Mass']</td>\n",
       "      <td>BI-RADS 4</td>\n",
       "      <td>2386.679932</td>\n",
       "      <td>1240.609985</td>\n",
       "      <td>2501.800049</td>\n",
       "      <td>1354.040039</td>\n",
       "      <td>training</td>\n",
       "      <td>/Volumes/WDExtDrive/Woza-Mammogram-Analyzer/Ra...</td>\n",
       "      <td>1</td>\n",
       "      <td>1</td>\n",
       "    </tr>\n",
       "    <tr>\n",
       "      <th>2</th>\n",
       "      <td>5683854eafabc34f6d854000d2ac6c2d</td>\n",
       "      <td>4ac33111294b83d43537cb8604b0808c</td>\n",
       "      <td>2f944efb1cb9579442df2d7fe6a579b7</td>\n",
       "      <td>L</td>\n",
       "      <td>CC</td>\n",
       "      <td>3518</td>\n",
       "      <td>2800</td>\n",
       "      <td>BI-RADS 3</td>\n",
       "      <td>DENSITY C</td>\n",
       "      <td>['Mass']</td>\n",
       "      <td>BI-RADS 3</td>\n",
       "      <td>142.899002</td>\n",
       "      <td>2171.810059</td>\n",
       "      <td>439.584991</td>\n",
       "      <td>2403.370117</td>\n",
       "      <td>test</td>\n",
       "      <td>/Volumes/WDExtDrive/Woza-Mammogram-Analyzer/Ra...</td>\n",
       "      <td>1</td>\n",
       "      <td>1</td>\n",
       "    </tr>\n",
       "    <tr>\n",
       "      <th>3</th>\n",
       "      <td>5683854eafabc34f6d854000d2ac6c2d</td>\n",
       "      <td>4ac33111294b83d43537cb8604b0808c</td>\n",
       "      <td>7385e8cf7b29764525c81de4aa1aebe4</td>\n",
       "      <td>L</td>\n",
       "      <td>MLO</td>\n",
       "      <td>3518</td>\n",
       "      <td>2800</td>\n",
       "      <td>BI-RADS 3</td>\n",
       "      <td>DENSITY C</td>\n",
       "      <td>['Mass']</td>\n",
       "      <td>BI-RADS 3</td>\n",
       "      <td>142.899002</td>\n",
       "      <td>2045.170044</td>\n",
       "      <td>417.876007</td>\n",
       "      <td>2265.879883</td>\n",
       "      <td>test</td>\n",
       "      <td>/Volumes/WDExtDrive/Woza-Mammogram-Analyzer/Ra...</td>\n",
       "      <td>1</td>\n",
       "      <td>1</td>\n",
       "    </tr>\n",
       "    <tr>\n",
       "      <th>4</th>\n",
       "      <td>7c51789da6c462e55bcb95c2a7d437ee</td>\n",
       "      <td>ac4d0771f6d7a7400ab463458f789dbe</td>\n",
       "      <td>f581ef53bb7e61f4575db33eceac8ff8</td>\n",
       "      <td>L</td>\n",
       "      <td>CC</td>\n",
       "      <td>3518</td>\n",
       "      <td>2800</td>\n",
       "      <td>BI-RADS 4</td>\n",
       "      <td>DENSITY C</td>\n",
       "      <td>['Nipple Retraction', 'Mass']</td>\n",
       "      <td>BI-RADS 4</td>\n",
       "      <td>588.874023</td>\n",
       "      <td>1397.709961</td>\n",
       "      <td>812.362000</td>\n",
       "      <td>1734.719971</td>\n",
       "      <td>training</td>\n",
       "      <td>/Volumes/WDExtDrive/Woza-Mammogram-Analyzer/Ra...</td>\n",
       "      <td>2</td>\n",
       "      <td>1</td>\n",
       "    </tr>\n",
       "  </tbody>\n",
       "</table>\n",
       "</div>"
      ],
      "text/plain": [
       "                           study_id                         series_id  \\\n",
       "0  48575a27b7c992427041a82fa750d3fa  26de4993fa6b8ae50a91c8baf49b92b0   \n",
       "1  48575a27b7c992427041a82fa750d3fa  26de4993fa6b8ae50a91c8baf49b92b0   \n",
       "2  5683854eafabc34f6d854000d2ac6c2d  4ac33111294b83d43537cb8604b0808c   \n",
       "3  5683854eafabc34f6d854000d2ac6c2d  4ac33111294b83d43537cb8604b0808c   \n",
       "4  7c51789da6c462e55bcb95c2a7d437ee  ac4d0771f6d7a7400ab463458f789dbe   \n",
       "\n",
       "                           image_id laterality view_position  height  width  \\\n",
       "0  4e3a578fe535ea4f5258d3f7f4419db8          R            CC    3518   2800   \n",
       "1  dac39351b0f3a8c670b7f8dc88029364          R           MLO    3518   2800   \n",
       "2  2f944efb1cb9579442df2d7fe6a579b7          L            CC    3518   2800   \n",
       "3  7385e8cf7b29764525c81de4aa1aebe4          L           MLO    3518   2800   \n",
       "4  f581ef53bb7e61f4575db33eceac8ff8          L            CC    3518   2800   \n",
       "\n",
       "  breast_birads breast_density             finding_categories finding_birads  \\\n",
       "0     BI-RADS 4      DENSITY C                       ['Mass']      BI-RADS 4   \n",
       "1     BI-RADS 4      DENSITY C                       ['Mass']      BI-RADS 4   \n",
       "2     BI-RADS 3      DENSITY C                       ['Mass']      BI-RADS 3   \n",
       "3     BI-RADS 3      DENSITY C                       ['Mass']      BI-RADS 3   \n",
       "4     BI-RADS 4      DENSITY C  ['Nipple Retraction', 'Mass']      BI-RADS 4   \n",
       "\n",
       "          xmin         ymin         xmax         ymax     split  \\\n",
       "0  2355.139893  1731.640015  2482.979980  1852.750000  training   \n",
       "1  2386.679932  1240.609985  2501.800049  1354.040039  training   \n",
       "2   142.899002  2171.810059   439.584991  2403.370117      test   \n",
       "3   142.899002  2045.170044   417.876007  2265.879883      test   \n",
       "4   588.874023  1397.709961   812.362000  1734.719971  training   \n",
       "\n",
       "                                                path  num_findings  target  \n",
       "0  /Volumes/WDExtDrive/Woza-Mammogram-Analyzer/Ra...             1       1  \n",
       "1  /Volumes/WDExtDrive/Woza-Mammogram-Analyzer/Ra...             1       1  \n",
       "2  /Volumes/WDExtDrive/Woza-Mammogram-Analyzer/Ra...             1       1  \n",
       "3  /Volumes/WDExtDrive/Woza-Mammogram-Analyzer/Ra...             1       1  \n",
       "4  /Volumes/WDExtDrive/Woza-Mammogram-Analyzer/Ra...             2       1  "
      ]
     },
     "execution_count": 77,
     "metadata": {},
     "output_type": "execute_result"
    }
   ],
   "source": [
    "# Combine the dataframes\n",
    "\n",
    "df_data = pd.concat([df1, df0], axis=0)\n",
    "\n",
    "df_data = df_data.reset_index(drop=True)\n",
    "\n",
    "print(df_data.shape)\n",
    "\n",
    "df_data.head()"
   ]
  },
  {
   "cell_type": "code",
   "execution_count": 78,
   "metadata": {
    "execution": {
     "iopub.execute_input": "2022-07-30T20:05:31.066310Z",
     "iopub.status.busy": "2022-07-30T20:05:31.065375Z",
     "iopub.status.idle": "2022-07-30T20:05:31.075603Z",
     "shell.execute_reply": "2022-07-30T20:05:31.074412Z"
    },
    "papermill": {
     "duration": 0.030852,
     "end_time": "2022-07-30T20:05:31.078070",
     "exception": false,
     "start_time": "2022-07-30T20:05:31.047218",
     "status": "completed"
    },
    "tags": []
   },
   "outputs": [
    {
     "data": {
      "text/plain": [
       "1    1226\n",
       "0     200\n",
       "Name: target, dtype: int64"
      ]
     },
     "execution_count": 78,
     "metadata": {},
     "output_type": "execute_result"
    }
   ],
   "source": [
    "df_data['target'].value_counts()"
   ]
  },
  {
   "cell_type": "markdown",
   "metadata": {},
   "source": [
    "## Set negative coords to 0\n",
    "\n",
    "We know from the EDA that some coords have negative values."
   ]
  },
  {
   "cell_type": "code",
   "execution_count": 79,
   "metadata": {},
   "outputs": [
    {
     "data": {
      "text/html": [
       "<div>\n",
       "<style scoped>\n",
       "    .dataframe tbody tr th:only-of-type {\n",
       "        vertical-align: middle;\n",
       "    }\n",
       "\n",
       "    .dataframe tbody tr th {\n",
       "        vertical-align: top;\n",
       "    }\n",
       "\n",
       "    .dataframe thead th {\n",
       "        text-align: right;\n",
       "    }\n",
       "</style>\n",
       "<table border=\"1\" class=\"dataframe\">\n",
       "  <thead>\n",
       "    <tr style=\"text-align: right;\">\n",
       "      <th></th>\n",
       "      <th>study_id</th>\n",
       "      <th>series_id</th>\n",
       "      <th>image_id</th>\n",
       "      <th>laterality</th>\n",
       "      <th>view_position</th>\n",
       "      <th>height</th>\n",
       "      <th>width</th>\n",
       "      <th>breast_birads</th>\n",
       "      <th>breast_density</th>\n",
       "      <th>finding_categories</th>\n",
       "      <th>finding_birads</th>\n",
       "      <th>xmin</th>\n",
       "      <th>ymin</th>\n",
       "      <th>xmax</th>\n",
       "      <th>ymax</th>\n",
       "      <th>split</th>\n",
       "      <th>path</th>\n",
       "      <th>num_findings</th>\n",
       "      <th>target</th>\n",
       "    </tr>\n",
       "  </thead>\n",
       "  <tbody>\n",
       "    <tr>\n",
       "      <th>10</th>\n",
       "      <td>57674c2def92287668ed5bc51092fbef</td>\n",
       "      <td>080c6eda9556d5bf5c10e2299b1f6fbc</td>\n",
       "      <td>dc4694b543793f89c7003f4d52adbbcb</td>\n",
       "      <td>L</td>\n",
       "      <td>CC</td>\n",
       "      <td>3518</td>\n",
       "      <td>2800</td>\n",
       "      <td>BI-RADS 5</td>\n",
       "      <td>DENSITY C</td>\n",
       "      <td>['Mass']</td>\n",
       "      <td>BI-RADS 4</td>\n",
       "      <td>-6.25297</td>\n",
       "      <td>1805.459961</td>\n",
       "      <td>180.511002</td>\n",
       "      <td>1996.949951</td>\n",
       "      <td>training</td>\n",
       "      <td>/Volumes/WDExtDrive/Woza-Mammogram-Analyzer/Ra...</td>\n",
       "      <td>1</td>\n",
       "      <td>1</td>\n",
       "    </tr>\n",
       "    <tr>\n",
       "      <th>234</th>\n",
       "      <td>bcb0736132d431b4b79b564afbb3fa8d</td>\n",
       "      <td>a48d60781e2e61b55cd90e1095b719ae</td>\n",
       "      <td>63fc9a74c6faa9ea7a869fe657201e70</td>\n",
       "      <td>L</td>\n",
       "      <td>MLO</td>\n",
       "      <td>3518</td>\n",
       "      <td>2800</td>\n",
       "      <td>BI-RADS 4</td>\n",
       "      <td>DENSITY B</td>\n",
       "      <td>['Mass']</td>\n",
       "      <td>BI-RADS 4</td>\n",
       "      <td>-3.37092</td>\n",
       "      <td>1575.550049</td>\n",
       "      <td>237.561005</td>\n",
       "      <td>1841.989990</td>\n",
       "      <td>training</td>\n",
       "      <td>/Volumes/WDExtDrive/Woza-Mammogram-Analyzer/Ra...</td>\n",
       "      <td>1</td>\n",
       "      <td>1</td>\n",
       "    </tr>\n",
       "    <tr>\n",
       "      <th>547</th>\n",
       "      <td>81885e37a9a42bd351516b83bc3f6d66</td>\n",
       "      <td>4418b806ba8f4312af9f31f878e6af70</td>\n",
       "      <td>6e0cfd8cdae637f4613868dbbc34b453</td>\n",
       "      <td>L</td>\n",
       "      <td>CC</td>\n",
       "      <td>3518</td>\n",
       "      <td>2800</td>\n",
       "      <td>BI-RADS 5</td>\n",
       "      <td>DENSITY B</td>\n",
       "      <td>['Skin Retraction', 'Nipple Retraction', 'Mass']</td>\n",
       "      <td>BI-RADS 5</td>\n",
       "      <td>-9.85353</td>\n",
       "      <td>910.143982</td>\n",
       "      <td>372.868011</td>\n",
       "      <td>1381.189941</td>\n",
       "      <td>test</td>\n",
       "      <td>/Volumes/WDExtDrive/Woza-Mammogram-Analyzer/Ra...</td>\n",
       "      <td>3</td>\n",
       "      <td>1</td>\n",
       "    </tr>\n",
       "    <tr>\n",
       "      <th>637</th>\n",
       "      <td>9355c6b80ab80257f1c99ec644a5798e</td>\n",
       "      <td>d7867e90f10442eb0a277fb08fb9b4b1</td>\n",
       "      <td>87207460ecda3b86f570e495a65cef48</td>\n",
       "      <td>L</td>\n",
       "      <td>CC</td>\n",
       "      <td>3518</td>\n",
       "      <td>2800</td>\n",
       "      <td>BI-RADS 4</td>\n",
       "      <td>DENSITY C</td>\n",
       "      <td>['Mass']</td>\n",
       "      <td>BI-RADS 4</td>\n",
       "      <td>-7.99082</td>\n",
       "      <td>1027.099976</td>\n",
       "      <td>867.283997</td>\n",
       "      <td>1954.430054</td>\n",
       "      <td>training</td>\n",
       "      <td>/Volumes/WDExtDrive/Woza-Mammogram-Analyzer/Ra...</td>\n",
       "      <td>1</td>\n",
       "      <td>1</td>\n",
       "    </tr>\n",
       "    <tr>\n",
       "      <th>833</th>\n",
       "      <td>7047eb7f28a47d9f5fee20a6b1e10954</td>\n",
       "      <td>8c1548d11c0f620b370ad8f2bafcac55</td>\n",
       "      <td>1fa586cd078894845bf4a1648232cde7</td>\n",
       "      <td>L</td>\n",
       "      <td>MLO</td>\n",
       "      <td>3580</td>\n",
       "      <td>2812</td>\n",
       "      <td>BI-RADS 5</td>\n",
       "      <td>DENSITY C</td>\n",
       "      <td>['Suspicious Calcification', 'Mass']</td>\n",
       "      <td>BI-RADS 5</td>\n",
       "      <td>-1.58878</td>\n",
       "      <td>2075.379883</td>\n",
       "      <td>502.992004</td>\n",
       "      <td>2422.790039</td>\n",
       "      <td>training</td>\n",
       "      <td>/Volumes/WDExtDrive/Woza-Mammogram-Analyzer/Ra...</td>\n",
       "      <td>2</td>\n",
       "      <td>1</td>\n",
       "    </tr>\n",
       "  </tbody>\n",
       "</table>\n",
       "</div>"
      ],
      "text/plain": [
       "                             study_id                         series_id  \\\n",
       "10   57674c2def92287668ed5bc51092fbef  080c6eda9556d5bf5c10e2299b1f6fbc   \n",
       "234  bcb0736132d431b4b79b564afbb3fa8d  a48d60781e2e61b55cd90e1095b719ae   \n",
       "547  81885e37a9a42bd351516b83bc3f6d66  4418b806ba8f4312af9f31f878e6af70   \n",
       "637  9355c6b80ab80257f1c99ec644a5798e  d7867e90f10442eb0a277fb08fb9b4b1   \n",
       "833  7047eb7f28a47d9f5fee20a6b1e10954  8c1548d11c0f620b370ad8f2bafcac55   \n",
       "\n",
       "                             image_id laterality view_position  height  width  \\\n",
       "10   dc4694b543793f89c7003f4d52adbbcb          L            CC    3518   2800   \n",
       "234  63fc9a74c6faa9ea7a869fe657201e70          L           MLO    3518   2800   \n",
       "547  6e0cfd8cdae637f4613868dbbc34b453          L            CC    3518   2800   \n",
       "637  87207460ecda3b86f570e495a65cef48          L            CC    3518   2800   \n",
       "833  1fa586cd078894845bf4a1648232cde7          L           MLO    3580   2812   \n",
       "\n",
       "    breast_birads breast_density  \\\n",
       "10      BI-RADS 5      DENSITY C   \n",
       "234     BI-RADS 4      DENSITY B   \n",
       "547     BI-RADS 5      DENSITY B   \n",
       "637     BI-RADS 4      DENSITY C   \n",
       "833     BI-RADS 5      DENSITY C   \n",
       "\n",
       "                                   finding_categories finding_birads     xmin  \\\n",
       "10                                           ['Mass']      BI-RADS 4 -6.25297   \n",
       "234                                          ['Mass']      BI-RADS 4 -3.37092   \n",
       "547  ['Skin Retraction', 'Nipple Retraction', 'Mass']      BI-RADS 5 -9.85353   \n",
       "637                                          ['Mass']      BI-RADS 4 -7.99082   \n",
       "833              ['Suspicious Calcification', 'Mass']      BI-RADS 5 -1.58878   \n",
       "\n",
       "            ymin        xmax         ymax     split  \\\n",
       "10   1805.459961  180.511002  1996.949951  training   \n",
       "234  1575.550049  237.561005  1841.989990  training   \n",
       "547   910.143982  372.868011  1381.189941      test   \n",
       "637  1027.099976  867.283997  1954.430054  training   \n",
       "833  2075.379883  502.992004  2422.790039  training   \n",
       "\n",
       "                                                  path  num_findings  target  \n",
       "10   /Volumes/WDExtDrive/Woza-Mammogram-Analyzer/Ra...             1       1  \n",
       "234  /Volumes/WDExtDrive/Woza-Mammogram-Analyzer/Ra...             1       1  \n",
       "547  /Volumes/WDExtDrive/Woza-Mammogram-Analyzer/Ra...             3       1  \n",
       "637  /Volumes/WDExtDrive/Woza-Mammogram-Analyzer/Ra...             1       1  \n",
       "833  /Volumes/WDExtDrive/Woza-Mammogram-Analyzer/Ra...             2       1  "
      ]
     },
     "execution_count": 79,
     "metadata": {},
     "output_type": "execute_result"
    }
   ],
   "source": [
    "df = df_data[df_data['xmin'] < 0]\n",
    "\n",
    "df.head()"
   ]
  },
  {
   "cell_type": "code",
   "execution_count": 80,
   "metadata": {},
   "outputs": [],
   "source": [
    "def set_neg_to_zero(x):\n",
    "    \n",
    "    if x < 0:\n",
    "        return 0\n",
    "    else:\n",
    "        return x\n",
    "    \n",
    "df_data['xmin'] = df_data['xmin'].apply(set_neg_to_zero)\n",
    "df_data['ymin'] = df_data['ymin'].apply(set_neg_to_zero)\n",
    "df_data['xmax'] = df_data['xmax'].apply(set_neg_to_zero)\n",
    "df_data['ymax'] = df_data['ymax'].apply(set_neg_to_zero)"
   ]
  },
  {
   "cell_type": "code",
   "execution_count": 81,
   "metadata": {},
   "outputs": [
    {
     "data": {
      "text/html": [
       "<div>\n",
       "<style scoped>\n",
       "    .dataframe tbody tr th:only-of-type {\n",
       "        vertical-align: middle;\n",
       "    }\n",
       "\n",
       "    .dataframe tbody tr th {\n",
       "        vertical-align: top;\n",
       "    }\n",
       "\n",
       "    .dataframe thead th {\n",
       "        text-align: right;\n",
       "    }\n",
       "</style>\n",
       "<table border=\"1\" class=\"dataframe\">\n",
       "  <thead>\n",
       "    <tr style=\"text-align: right;\">\n",
       "      <th></th>\n",
       "      <th>study_id</th>\n",
       "      <th>series_id</th>\n",
       "      <th>image_id</th>\n",
       "      <th>laterality</th>\n",
       "      <th>view_position</th>\n",
       "      <th>height</th>\n",
       "      <th>width</th>\n",
       "      <th>breast_birads</th>\n",
       "      <th>breast_density</th>\n",
       "      <th>finding_categories</th>\n",
       "      <th>finding_birads</th>\n",
       "      <th>xmin</th>\n",
       "      <th>ymin</th>\n",
       "      <th>xmax</th>\n",
       "      <th>ymax</th>\n",
       "      <th>split</th>\n",
       "      <th>path</th>\n",
       "      <th>num_findings</th>\n",
       "      <th>target</th>\n",
       "    </tr>\n",
       "  </thead>\n",
       "  <tbody>\n",
       "    <tr>\n",
       "      <th>234</th>\n",
       "      <td>bcb0736132d431b4b79b564afbb3fa8d</td>\n",
       "      <td>a48d60781e2e61b55cd90e1095b719ae</td>\n",
       "      <td>63fc9a74c6faa9ea7a869fe657201e70</td>\n",
       "      <td>L</td>\n",
       "      <td>MLO</td>\n",
       "      <td>3518</td>\n",
       "      <td>2800</td>\n",
       "      <td>BI-RADS 4</td>\n",
       "      <td>DENSITY B</td>\n",
       "      <td>['Mass']</td>\n",
       "      <td>BI-RADS 4</td>\n",
       "      <td>0.0</td>\n",
       "      <td>1575.550049</td>\n",
       "      <td>237.561005</td>\n",
       "      <td>1841.98999</td>\n",
       "      <td>training</td>\n",
       "      <td>/Volumes/WDExtDrive/Woza-Mammogram-Analyzer/Ra...</td>\n",
       "      <td>1</td>\n",
       "      <td>1</td>\n",
       "    </tr>\n",
       "  </tbody>\n",
       "</table>\n",
       "</div>"
      ],
      "text/plain": [
       "                             study_id                         series_id  \\\n",
       "234  bcb0736132d431b4b79b564afbb3fa8d  a48d60781e2e61b55cd90e1095b719ae   \n",
       "\n",
       "                             image_id laterality view_position  height  width  \\\n",
       "234  63fc9a74c6faa9ea7a869fe657201e70          L           MLO    3518   2800   \n",
       "\n",
       "    breast_birads breast_density finding_categories finding_birads  xmin  \\\n",
       "234     BI-RADS 4      DENSITY B           ['Mass']      BI-RADS 4   0.0   \n",
       "\n",
       "            ymin        xmax        ymax     split  \\\n",
       "234  1575.550049  237.561005  1841.98999  training   \n",
       "\n",
       "                                                  path  num_findings  target  \n",
       "234  /Volumes/WDExtDrive/Woza-Mammogram-Analyzer/Ra...             1       1  "
      ]
     },
     "execution_count": 81,
     "metadata": {},
     "output_type": "execute_result"
    }
   ],
   "source": [
    "# Check one image to make sure everything is okay\n",
    "\n",
    "df_data[df_data['image_id'] == '63fc9a74c6faa9ea7a869fe657201e70']"
   ]
  },
  {
   "cell_type": "code",
   "execution_count": null,
   "metadata": {},
   "outputs": [],
   "source": []
  },
  {
   "cell_type": "markdown",
   "metadata": {
    "papermill": {
     "duration": 0.016374,
     "end_time": "2022-07-30T20:05:31.110668",
     "exception": false,
     "start_time": "2022-07-30T20:05:31.094294",
     "status": "completed"
    },
    "tags": []
   },
   "source": [
    "## Helper functions"
   ]
  },
  {
   "cell_type": "code",
   "execution_count": 82,
   "metadata": {
    "execution": {
     "iopub.execute_input": "2022-07-30T20:05:31.147785Z",
     "iopub.status.busy": "2022-07-30T20:05:31.146508Z",
     "iopub.status.idle": "2022-07-30T20:05:31.328071Z",
     "shell.execute_reply": "2022-07-30T20:05:31.326743Z"
    },
    "papermill": {
     "duration": 0.202594,
     "end_time": "2022-07-30T20:05:31.330787",
     "exception": false,
     "start_time": "2022-07-30T20:05:31.128193",
     "status": "completed"
    },
    "tags": []
   },
   "outputs": [],
   "source": [
    "# Source: https://www.kaggle.com/xhlulu/siim-covid-19-convert-to-jpg-256px\n",
    "\n",
    "from PIL import Image\n",
    "import pydicom\n",
    "from pydicom.pixel_data_handlers.util import apply_voi_lut\n",
    "\n",
    "\n",
    "def read_xray(path, voi_lut = True, fix_monochrome = True):\n",
    "    # Original from: https://www.kaggle.com/raddar/convert-dicom-to-np-array-the-correct-way\n",
    "    dicom = pydicom.read_file(path)\n",
    "    \n",
    "    # VOI LUT (if available by DICOM device) is used to transform raw DICOM data to \n",
    "    # \"human-friendly\" view\n",
    "    if voi_lut:\n",
    "        data = apply_voi_lut(dicom.pixel_array, dicom)\n",
    "    else:\n",
    "        data = dicom.pixel_array\n",
    "               \n",
    "    # depending on this value, X-ray may look inverted - fix that:\n",
    "    if fix_monochrome and dicom.PhotometricInterpretation == \"MONOCHROME1\":\n",
    "        data = np.amax(data) - data\n",
    "        \n",
    "    data = data - np.min(data)\n",
    "    data = data / np.max(data)\n",
    "    data = (data * 255).astype(np.uint8)\n",
    "        \n",
    "    return data\n",
    "\n",
    "\n",
    "\n",
    "\n",
    "def resize(array, size, keep_ratio=False, resample=Image.LANCZOS):\n",
    "    # Original from: https://www.kaggle.com/xhlulu/vinbigdata-process-and-resize-to-image\n",
    "    im = Image.fromarray(array)\n",
    "    \n",
    "    if keep_ratio:\n",
    "        im.thumbnail((size, size), resample)\n",
    "    else:\n",
    "        im = im.resize((size, size), resample)\n",
    "    \n",
    "    return im"
   ]
  },
  {
   "cell_type": "markdown",
   "metadata": {
    "papermill": {
     "duration": 0.016784,
     "end_time": "2022-07-30T20:05:31.363811",
     "exception": false,
     "start_time": "2022-07-30T20:05:31.347027",
     "status": "completed"
    },
    "tags": []
   },
   "source": [
    "## Code to convert and resize one image\n",
    "\n",
    "Remember we are not doing resizing here."
   ]
  },
  {
   "cell_type": "code",
   "execution_count": 83,
   "metadata": {},
   "outputs": [
    {
     "data": {
      "text/html": [
       "<div>\n",
       "<style scoped>\n",
       "    .dataframe tbody tr th:only-of-type {\n",
       "        vertical-align: middle;\n",
       "    }\n",
       "\n",
       "    .dataframe tbody tr th {\n",
       "        vertical-align: top;\n",
       "    }\n",
       "\n",
       "    .dataframe thead th {\n",
       "        text-align: right;\n",
       "    }\n",
       "</style>\n",
       "<table border=\"1\" class=\"dataframe\">\n",
       "  <thead>\n",
       "    <tr style=\"text-align: right;\">\n",
       "      <th></th>\n",
       "      <th>study_id</th>\n",
       "      <th>series_id</th>\n",
       "      <th>image_id</th>\n",
       "      <th>laterality</th>\n",
       "      <th>view_position</th>\n",
       "      <th>height</th>\n",
       "      <th>width</th>\n",
       "      <th>breast_birads</th>\n",
       "      <th>breast_density</th>\n",
       "      <th>finding_categories</th>\n",
       "      <th>finding_birads</th>\n",
       "      <th>xmin</th>\n",
       "      <th>ymin</th>\n",
       "      <th>xmax</th>\n",
       "      <th>ymax</th>\n",
       "      <th>split</th>\n",
       "      <th>path</th>\n",
       "      <th>num_findings</th>\n",
       "      <th>target</th>\n",
       "    </tr>\n",
       "  </thead>\n",
       "  <tbody>\n",
       "    <tr>\n",
       "      <th>0</th>\n",
       "      <td>48575a27b7c992427041a82fa750d3fa</td>\n",
       "      <td>26de4993fa6b8ae50a91c8baf49b92b0</td>\n",
       "      <td>4e3a578fe535ea4f5258d3f7f4419db8</td>\n",
       "      <td>R</td>\n",
       "      <td>CC</td>\n",
       "      <td>3518</td>\n",
       "      <td>2800</td>\n",
       "      <td>BI-RADS 4</td>\n",
       "      <td>DENSITY C</td>\n",
       "      <td>['Mass']</td>\n",
       "      <td>BI-RADS 4</td>\n",
       "      <td>2355.139893</td>\n",
       "      <td>1731.640015</td>\n",
       "      <td>2482.979980</td>\n",
       "      <td>1852.750000</td>\n",
       "      <td>training</td>\n",
       "      <td>/Volumes/WDExtDrive/Woza-Mammogram-Analyzer/Ra...</td>\n",
       "      <td>1</td>\n",
       "      <td>1</td>\n",
       "    </tr>\n",
       "    <tr>\n",
       "      <th>1</th>\n",
       "      <td>48575a27b7c992427041a82fa750d3fa</td>\n",
       "      <td>26de4993fa6b8ae50a91c8baf49b92b0</td>\n",
       "      <td>dac39351b0f3a8c670b7f8dc88029364</td>\n",
       "      <td>R</td>\n",
       "      <td>MLO</td>\n",
       "      <td>3518</td>\n",
       "      <td>2800</td>\n",
       "      <td>BI-RADS 4</td>\n",
       "      <td>DENSITY C</td>\n",
       "      <td>['Mass']</td>\n",
       "      <td>BI-RADS 4</td>\n",
       "      <td>2386.679932</td>\n",
       "      <td>1240.609985</td>\n",
       "      <td>2501.800049</td>\n",
       "      <td>1354.040039</td>\n",
       "      <td>training</td>\n",
       "      <td>/Volumes/WDExtDrive/Woza-Mammogram-Analyzer/Ra...</td>\n",
       "      <td>1</td>\n",
       "      <td>1</td>\n",
       "    </tr>\n",
       "    <tr>\n",
       "      <th>2</th>\n",
       "      <td>5683854eafabc34f6d854000d2ac6c2d</td>\n",
       "      <td>4ac33111294b83d43537cb8604b0808c</td>\n",
       "      <td>2f944efb1cb9579442df2d7fe6a579b7</td>\n",
       "      <td>L</td>\n",
       "      <td>CC</td>\n",
       "      <td>3518</td>\n",
       "      <td>2800</td>\n",
       "      <td>BI-RADS 3</td>\n",
       "      <td>DENSITY C</td>\n",
       "      <td>['Mass']</td>\n",
       "      <td>BI-RADS 3</td>\n",
       "      <td>142.899002</td>\n",
       "      <td>2171.810059</td>\n",
       "      <td>439.584991</td>\n",
       "      <td>2403.370117</td>\n",
       "      <td>test</td>\n",
       "      <td>/Volumes/WDExtDrive/Woza-Mammogram-Analyzer/Ra...</td>\n",
       "      <td>1</td>\n",
       "      <td>1</td>\n",
       "    </tr>\n",
       "    <tr>\n",
       "      <th>3</th>\n",
       "      <td>5683854eafabc34f6d854000d2ac6c2d</td>\n",
       "      <td>4ac33111294b83d43537cb8604b0808c</td>\n",
       "      <td>7385e8cf7b29764525c81de4aa1aebe4</td>\n",
       "      <td>L</td>\n",
       "      <td>MLO</td>\n",
       "      <td>3518</td>\n",
       "      <td>2800</td>\n",
       "      <td>BI-RADS 3</td>\n",
       "      <td>DENSITY C</td>\n",
       "      <td>['Mass']</td>\n",
       "      <td>BI-RADS 3</td>\n",
       "      <td>142.899002</td>\n",
       "      <td>2045.170044</td>\n",
       "      <td>417.876007</td>\n",
       "      <td>2265.879883</td>\n",
       "      <td>test</td>\n",
       "      <td>/Volumes/WDExtDrive/Woza-Mammogram-Analyzer/Ra...</td>\n",
       "      <td>1</td>\n",
       "      <td>1</td>\n",
       "    </tr>\n",
       "    <tr>\n",
       "      <th>4</th>\n",
       "      <td>7c51789da6c462e55bcb95c2a7d437ee</td>\n",
       "      <td>ac4d0771f6d7a7400ab463458f789dbe</td>\n",
       "      <td>f581ef53bb7e61f4575db33eceac8ff8</td>\n",
       "      <td>L</td>\n",
       "      <td>CC</td>\n",
       "      <td>3518</td>\n",
       "      <td>2800</td>\n",
       "      <td>BI-RADS 4</td>\n",
       "      <td>DENSITY C</td>\n",
       "      <td>['Nipple Retraction', 'Mass']</td>\n",
       "      <td>BI-RADS 4</td>\n",
       "      <td>588.874023</td>\n",
       "      <td>1397.709961</td>\n",
       "      <td>812.362000</td>\n",
       "      <td>1734.719971</td>\n",
       "      <td>training</td>\n",
       "      <td>/Volumes/WDExtDrive/Woza-Mammogram-Analyzer/Ra...</td>\n",
       "      <td>2</td>\n",
       "      <td>1</td>\n",
       "    </tr>\n",
       "  </tbody>\n",
       "</table>\n",
       "</div>"
      ],
      "text/plain": [
       "                           study_id                         series_id  \\\n",
       "0  48575a27b7c992427041a82fa750d3fa  26de4993fa6b8ae50a91c8baf49b92b0   \n",
       "1  48575a27b7c992427041a82fa750d3fa  26de4993fa6b8ae50a91c8baf49b92b0   \n",
       "2  5683854eafabc34f6d854000d2ac6c2d  4ac33111294b83d43537cb8604b0808c   \n",
       "3  5683854eafabc34f6d854000d2ac6c2d  4ac33111294b83d43537cb8604b0808c   \n",
       "4  7c51789da6c462e55bcb95c2a7d437ee  ac4d0771f6d7a7400ab463458f789dbe   \n",
       "\n",
       "                           image_id laterality view_position  height  width  \\\n",
       "0  4e3a578fe535ea4f5258d3f7f4419db8          R            CC    3518   2800   \n",
       "1  dac39351b0f3a8c670b7f8dc88029364          R           MLO    3518   2800   \n",
       "2  2f944efb1cb9579442df2d7fe6a579b7          L            CC    3518   2800   \n",
       "3  7385e8cf7b29764525c81de4aa1aebe4          L           MLO    3518   2800   \n",
       "4  f581ef53bb7e61f4575db33eceac8ff8          L            CC    3518   2800   \n",
       "\n",
       "  breast_birads breast_density             finding_categories finding_birads  \\\n",
       "0     BI-RADS 4      DENSITY C                       ['Mass']      BI-RADS 4   \n",
       "1     BI-RADS 4      DENSITY C                       ['Mass']      BI-RADS 4   \n",
       "2     BI-RADS 3      DENSITY C                       ['Mass']      BI-RADS 3   \n",
       "3     BI-RADS 3      DENSITY C                       ['Mass']      BI-RADS 3   \n",
       "4     BI-RADS 4      DENSITY C  ['Nipple Retraction', 'Mass']      BI-RADS 4   \n",
       "\n",
       "          xmin         ymin         xmax         ymax     split  \\\n",
       "0  2355.139893  1731.640015  2482.979980  1852.750000  training   \n",
       "1  2386.679932  1240.609985  2501.800049  1354.040039  training   \n",
       "2   142.899002  2171.810059   439.584991  2403.370117      test   \n",
       "3   142.899002  2045.170044   417.876007  2265.879883      test   \n",
       "4   588.874023  1397.709961   812.362000  1734.719971  training   \n",
       "\n",
       "                                                path  num_findings  target  \n",
       "0  /Volumes/WDExtDrive/Woza-Mammogram-Analyzer/Ra...             1       1  \n",
       "1  /Volumes/WDExtDrive/Woza-Mammogram-Analyzer/Ra...             1       1  \n",
       "2  /Volumes/WDExtDrive/Woza-Mammogram-Analyzer/Ra...             1       1  \n",
       "3  /Volumes/WDExtDrive/Woza-Mammogram-Analyzer/Ra...             1       1  \n",
       "4  /Volumes/WDExtDrive/Woza-Mammogram-Analyzer/Ra...             2       1  "
      ]
     },
     "execution_count": 83,
     "metadata": {},
     "output_type": "execute_result"
    }
   ],
   "source": [
    "df_data.head()"
   ]
  },
  {
   "cell_type": "code",
   "execution_count": 84,
   "metadata": {
    "execution": {
     "iopub.execute_input": "2022-07-30T20:05:31.398881Z",
     "iopub.status.busy": "2022-07-30T20:05:31.397748Z",
     "iopub.status.idle": "2022-07-30T20:05:31.692315Z",
     "shell.execute_reply": "2022-07-30T20:05:31.690855Z"
    },
    "papermill": {
     "duration": 0.314717,
     "end_time": "2022-07-30T20:05:31.694928",
     "exception": false,
     "start_time": "2022-07-30T20:05:31.380211",
     "status": "completed"
    },
    "tags": []
   },
   "outputs": [
    {
     "name": "stdout",
     "output_type": "stream",
     "text": [
      "(3518, 2800)\n"
     ]
    },
    {
     "data": {
      "image/png": "[encoded data removed]",
      "text/plain": [
       "<Figure size 432x288 with 1 Axes>"
      ]
     },
     "metadata": {
      "needs_background": "light"
     },
     "output_type": "display_data"
    }
   ],
   "source": [
    "index = 0\n",
    "\n",
    "path = df_data.loc[index, 'path']\n",
    "image = read_xray(path, voi_lut=True, fix_monochrome=True)\n",
    "\n",
    "print(image.shape)\n",
    "\n",
    "plt.imshow(image)\n",
    "plt.show()"
   ]
  },
  {
   "cell_type": "code",
   "execution_count": 85,
   "metadata": {
    "execution": {
     "iopub.execute_input": "2022-07-30T20:05:31.732594Z",
     "iopub.status.busy": "2022-07-30T20:05:31.731835Z",
     "iopub.status.idle": "2022-07-30T20:05:32.535427Z",
     "shell.execute_reply": "2022-07-30T20:05:32.534023Z"
    },
    "papermill": {
     "duration": 0.826038,
     "end_time": "2022-07-30T20:05:32.538581",
     "exception": false,
     "start_time": "2022-07-30T20:05:31.712543",
     "status": "completed"
    },
    "tags": []
   },
   "outputs": [
    {
     "name": "stdout",
     "output_type": "stream",
     "text": [
      "exp06-spine-prepare-the-images-original-size.ipynb\r\n",
      "image.png\r\n"
     ]
    }
   ],
   "source": [
    "# resize the image\n",
    "\n",
    "image1 = resize(image, size=IMAGE_SIZE, keep_ratio=False, resample=Image.LANCZOS)\n",
    "\n",
    "image1.save('image.png')\n",
    "\n",
    "!ls"
   ]
  },
  {
   "cell_type": "code",
   "execution_count": 87,
   "metadata": {
    "execution": {
     "iopub.execute_input": "2022-07-30T20:05:32.577418Z",
     "iopub.status.busy": "2022-07-30T20:05:32.576449Z",
     "iopub.status.idle": "2022-07-30T20:05:32.813061Z",
     "shell.execute_reply": "2022-07-30T20:05:32.812123Z"
    },
    "papermill": {
     "duration": 0.258834,
     "end_time": "2022-07-30T20:05:32.815290",
     "exception": false,
     "start_time": "2022-07-30T20:05:32.556456",
     "status": "completed"
    },
    "tags": []
   },
   "outputs": [
    {
     "name": "stdout",
     "output_type": "stream",
     "text": [
      "(512, 512)\n"
     ]
    },
    {
     "data": {
      "image/png": "[encoded data removed]",
      "text/plain": [
       "<Figure size 432x288 with 1 Axes>"
      ]
     },
     "metadata": {
      "needs_background": "light"
     },
     "output_type": "display_data"
    }
   ],
   "source": [
    "# Load the saved (resized) image\n",
    "\n",
    "image = plt.imread('image.png')\n",
    "\n",
    "print(image.shape)\n",
    "\n",
    "plt.imshow(image)\n",
    "plt.show()"
   ]
  },
  {
   "cell_type": "markdown",
   "metadata": {
    "papermill": {
     "duration": 0.018492,
     "end_time": "2022-07-30T20:05:32.852826",
     "exception": false,
     "start_time": "2022-07-30T20:05:32.834334",
     "status": "completed"
    },
    "tags": []
   },
   "source": [
    "## Process all the images"
   ]
  },
  {
   "cell_type": "code",
   "execution_count": 88,
   "metadata": {
    "execution": {
     "iopub.execute_input": "2022-07-30T20:05:32.892745Z",
     "iopub.status.busy": "2022-07-30T20:05:32.892132Z",
     "iopub.status.idle": "2022-07-30T20:05:32.897653Z",
     "shell.execute_reply": "2022-07-30T20:05:32.896475Z"
    },
    "papermill": {
     "duration": 0.028618,
     "end_time": "2022-07-30T20:05:32.900199",
     "exception": false,
     "start_time": "2022-07-30T20:05:32.871581",
     "status": "completed"
    },
    "tags": []
   },
   "outputs": [],
   "source": [
    "# Create the directories\n",
    "\n",
    "if os.path.isdir('images_dir') == False:\n",
    "\n",
    "    images_dir = 'images_dir'\n",
    "    os.mkdir(images_dir)\n",
    "    "
   ]
  },
  {
   "cell_type": "code",
   "execution_count": 89,
   "metadata": {
    "execution": {
     "iopub.execute_input": "2022-07-30T20:05:32.939737Z",
     "iopub.status.busy": "2022-07-30T20:05:32.939354Z",
     "iopub.status.idle": "2022-07-30T20:05:33.700076Z",
     "shell.execute_reply": "2022-07-30T20:05:33.698404Z"
    },
    "papermill": {
     "duration": 0.785764,
     "end_time": "2022-07-30T20:05:33.704834",
     "exception": false,
     "start_time": "2022-07-30T20:05:32.919070",
     "status": "completed"
    },
    "tags": []
   },
   "outputs": [
    {
     "name": "stdout",
     "output_type": "stream",
     "text": [
      "exp06-spine-prepare-the-images-original-size.ipynb\r\n",
      "image.png\r\n",
      "\u001b[34mimages_dir\u001b[m\u001b[m\r\n"
     ]
    }
   ],
   "source": [
    "!ls"
   ]
  },
  {
   "cell_type": "code",
   "execution_count": 110,
   "metadata": {
    "execution": {
     "iopub.execute_input": "2022-07-30T20:05:33.812387Z",
     "iopub.status.busy": "2022-07-30T20:05:33.811836Z",
     "iopub.status.idle": "2022-07-30T20:13:42.870134Z",
     "shell.execute_reply": "2022-07-30T20:13:42.868169Z"
    },
    "papermill": {
     "duration": 489.084755,
     "end_time": "2022-07-30T20:13:42.873528",
     "exception": false,
     "start_time": "2022-07-30T20:05:33.788773",
     "status": "completed"
    },
    "tags": []
   },
   "outputs": [
    {
     "data": {
      "application/vnd.jupyter.widget-view+json": {
       "model_id": "df4a05c35f4f4080be15ae3f4ef341d4",
       "version_major": 2,
       "version_minor": 0
      },
      "text/plain": [
       "HBox(children=(IntProgress(value=0, max=1426), HTML(value='')))"
      ]
     },
     "metadata": {},
     "output_type": "display_data"
    }
   ],
   "source": [
    "# Prepare the images\n",
    "\n",
    "for i in tqdm(range(0, len(df_data)), total=len(df_data)):\n",
    "    \n",
    "    # Images\n",
    "    # -------\n",
    "    \n",
    "    # load the image fname\n",
    "    image_fname = df_data.loc[i, 'image_id']\n",
    "    \n",
    "    # add the .png extension\n",
    "    fname = image_fname + '.png'\n",
    "\n",
    "    # Load an image\n",
    "    path = df_data.loc[i, 'path']\n",
    "    image = read_xray(path, voi_lut=True, fix_monochrome=True)\n",
    "    \n",
    "    # \n",
    "    #image_size = image.shape[0]\n",
    "    #print(image_size)\n",
    "    \n",
    "    # Don't resize the image\n",
    "    # This step just enables the code to run. It doesn't change\n",
    "    # the input image size.\n",
    "    #image = resize(image, size=image_size, keep_ratio=False, resample=Image.LANCZOS)\n",
    "    \n",
    "    # Use this line when we are not resizing\n",
    "    image = Image.fromarray(image)\n",
    "    \n",
    "    # Save the image in the folder\n",
    "    # that we created.\n",
    "    dst = os.path.join(images_dir, fname)\n",
    "    image.save(dst)\n",
    "    \n",
    "    \n",
    "    \n",
    "    \n",
    "# Compress the folders so they can appear\n",
    "# in the notebook output.\n",
    "# Source: https://www.kaggle.com/xhlulu/vinbigdata-process-and-resize-to-image\n",
    "\n",
    "#!tar -zcf images.tar.gz -C \"images_dir/\" .\n",
    "#!tar -zcf masks.tar.gz -C \"masks_dir/\" ."
   ]
  },
  {
   "cell_type": "code",
   "execution_count": 101,
   "metadata": {
    "execution": {
     "iopub.execute_input": "2022-07-30T20:13:42.917687Z",
     "iopub.status.busy": "2022-07-30T20:13:42.917227Z",
     "iopub.status.idle": "2022-07-30T20:13:42.931484Z",
     "shell.execute_reply": "2022-07-30T20:13:42.930102Z"
    },
    "papermill": {
     "duration": 0.040015,
     "end_time": "2022-07-30T20:13:42.933991",
     "exception": false,
     "start_time": "2022-07-30T20:13:42.893976",
     "status": "completed"
    },
    "tags": []
   },
   "outputs": [
    {
     "name": "stdout",
     "output_type": "stream",
     "text": [
      "42\n"
     ]
    }
   ],
   "source": [
    "print(len(os.listdir('images_dir')))"
   ]
  },
  {
   "cell_type": "code",
   "execution_count": 107,
   "metadata": {
    "execution": {
     "iopub.execute_input": "2022-07-30T20:13:42.976644Z",
     "iopub.status.busy": "2022-07-30T20:13:42.976216Z",
     "iopub.status.idle": "2022-07-30T20:13:43.221161Z",
     "shell.execute_reply": "2022-07-30T20:13:43.220014Z"
    },
    "papermill": {
     "duration": 0.270007,
     "end_time": "2022-07-30T20:13:43.224311",
     "exception": false,
     "start_time": "2022-07-30T20:13:42.954304",
     "status": "completed"
    },
    "tags": []
   },
   "outputs": [
    {
     "name": "stdout",
     "output_type": "stream",
     "text": [
      "5a94dd668eaa9865b907450c37db6ecc.png\n",
      "(3518, 2800)\n",
      "0.0\n",
      "1.0\n"
     ]
    },
    {
     "data": {
      "image/png": "[encoded data removed]",
      "text/plain": [
       "<Figure size 432x288 with 1 Axes>"
      ]
     },
     "metadata": {
      "needs_background": "light"
     },
     "output_type": "display_data"
    }
   ],
   "source": [
    "image_list = os.listdir('images_dir')\n",
    "\n",
    "path = 'images_dir/' + image_list[0]\n",
    "image = plt.imread(path)\n",
    "\n",
    "print(image_list[0])\n",
    "\n",
    "print(image.shape)\n",
    "print(image.min())\n",
    "print(image.max())\n",
    "\n",
    "plt.imshow(image)\n",
    "\n",
    "plt.show()"
   ]
  },
  {
   "cell_type": "code",
   "execution_count": 106,
   "metadata": {},
   "outputs": [
    {
     "data": {
      "text/html": [
       "<div>\n",
       "<style scoped>\n",
       "    .dataframe tbody tr th:only-of-type {\n",
       "        vertical-align: middle;\n",
       "    }\n",
       "\n",
       "    .dataframe tbody tr th {\n",
       "        vertical-align: top;\n",
       "    }\n",
       "\n",
       "    .dataframe thead th {\n",
       "        text-align: right;\n",
       "    }\n",
       "</style>\n",
       "<table border=\"1\" class=\"dataframe\">\n",
       "  <thead>\n",
       "    <tr style=\"text-align: right;\">\n",
       "      <th></th>\n",
       "      <th>study_id</th>\n",
       "      <th>series_id</th>\n",
       "      <th>image_id</th>\n",
       "      <th>laterality</th>\n",
       "      <th>view_position</th>\n",
       "      <th>height</th>\n",
       "      <th>width</th>\n",
       "      <th>breast_birads</th>\n",
       "      <th>breast_density</th>\n",
       "      <th>finding_categories</th>\n",
       "      <th>finding_birads</th>\n",
       "      <th>xmin</th>\n",
       "      <th>ymin</th>\n",
       "      <th>xmax</th>\n",
       "      <th>ymax</th>\n",
       "      <th>split</th>\n",
       "      <th>path</th>\n",
       "      <th>num_findings</th>\n",
       "      <th>target</th>\n",
       "    </tr>\n",
       "  </thead>\n",
       "  <tbody>\n",
       "    <tr>\n",
       "      <th>6</th>\n",
       "      <td>89524e5f372d9aff8ed43b4ef29c1435</td>\n",
       "      <td>0838a0b906894e0cc06c993426a2d143</td>\n",
       "      <td>5a94dd668eaa9865b907450c37db6ecc</td>\n",
       "      <td>R</td>\n",
       "      <td>CC</td>\n",
       "      <td>3518</td>\n",
       "      <td>2800</td>\n",
       "      <td>BI-RADS 3</td>\n",
       "      <td>DENSITY C</td>\n",
       "      <td>['Mass']</td>\n",
       "      <td>BI-RADS 3</td>\n",
       "      <td>1988.060059</td>\n",
       "      <td>1793.73999</td>\n",
       "      <td>2139.909912</td>\n",
       "      <td>1967.459961</td>\n",
       "      <td>training</td>\n",
       "      <td>/Volumes/WDExtDrive/Woza-Mammogram-Analyzer/Ra...</td>\n",
       "      <td>1</td>\n",
       "      <td>1</td>\n",
       "    </tr>\n",
       "  </tbody>\n",
       "</table>\n",
       "</div>"
      ],
      "text/plain": [
       "                           study_id                         series_id  \\\n",
       "6  89524e5f372d9aff8ed43b4ef29c1435  0838a0b906894e0cc06c993426a2d143   \n",
       "\n",
       "                           image_id laterality view_position  height  width  \\\n",
       "6  5a94dd668eaa9865b907450c37db6ecc          R            CC    3518   2800   \n",
       "\n",
       "  breast_birads breast_density finding_categories finding_birads         xmin  \\\n",
       "6     BI-RADS 3      DENSITY C           ['Mass']      BI-RADS 3  1988.060059   \n",
       "\n",
       "         ymin         xmax         ymax     split  \\\n",
       "6  1793.73999  2139.909912  1967.459961  training   \n",
       "\n",
       "                                                path  num_findings  target  \n",
       "6  /Volumes/WDExtDrive/Woza-Mammogram-Analyzer/Ra...             1       1  "
      ]
     },
     "execution_count": 106,
     "metadata": {},
     "output_type": "execute_result"
    }
   ],
   "source": [
    "# Check that the size matches the size shown in the dataframe\n",
    "\n",
    "df_data[df_data['image_id'] == '5a94dd668eaa9865b907450c37db6ecc']"
   ]
  },
  {
   "cell_type": "code",
   "execution_count": null,
   "metadata": {},
   "outputs": [],
   "source": []
  },
  {
   "cell_type": "code",
   "execution_count": 108,
   "metadata": {},
   "outputs": [
    {
     "data": {
      "text/plain": [
       "3518    975\n",
       "2812    227\n",
       "3580    224\n",
       "Name: height, dtype: int64"
      ]
     },
     "execution_count": 108,
     "metadata": {},
     "output_type": "execute_result"
    }
   ],
   "source": [
    "df_data['height'].value_counts()"
   ]
  },
  {
   "cell_type": "code",
   "execution_count": 109,
   "metadata": {},
   "outputs": [
    {
     "data": {
      "text/plain": [
       "2800    975\n",
       "2012    227\n",
       "2812    155\n",
       "2609      8\n",
       "2706      7\n",
       "2606      6\n",
       "2702      5\n",
       "2718      5\n",
       "2675      4\n",
       "2638      4\n",
       "2654      4\n",
       "2670      3\n",
       "2622      2\n",
       "2657      2\n",
       "2663      2\n",
       "2766      2\n",
       "2782      2\n",
       "2736      2\n",
       "2681      2\n",
       "2686      1\n",
       "2754      1\n",
       "2694      1\n",
       "2798      1\n",
       "2724      1\n",
       "2734      1\n",
       "2750      1\n",
       "2621      1\n",
       "2808      1\n",
       "Name: width, dtype: int64"
      ]
     },
     "execution_count": 109,
     "metadata": {},
     "output_type": "execute_result"
    }
   ],
   "source": [
    "df_data['width'].value_counts()"
   ]
  },
  {
   "cell_type": "markdown",
   "metadata": {
    "papermill": {
     "duration": 0.020631,
     "end_time": "2022-07-30T20:13:43.265935",
     "exception": false,
     "start_time": "2022-07-30T20:13:43.245304",
     "status": "completed"
    },
    "tags": []
   },
   "source": [
    "## Save the dataframe"
   ]
  },
  {
   "cell_type": "code",
   "execution_count": 111,
   "metadata": {
    "execution": {
     "iopub.execute_input": "2022-07-30T20:13:43.310060Z",
     "iopub.status.busy": "2022-07-30T20:13:43.309636Z",
     "iopub.status.idle": "2022-07-30T20:13:43.409368Z",
     "shell.execute_reply": "2022-07-30T20:13:43.408407Z"
    },
    "papermill": {
     "duration": 0.124649,
     "end_time": "2022-07-30T20:13:43.411828",
     "exception": false,
     "start_time": "2022-07-30T20:13:43.287179",
     "status": "completed"
    },
    "tags": []
   },
   "outputs": [],
   "source": [
    "# Save this dataframe because it shows which images we have prepared\n",
    "\n",
    "path = 'df_data.csv'\n",
    "df_data.to_csv(path, index=False)"
   ]
  },
  {
   "cell_type": "markdown",
   "metadata": {
    "papermill": {
     "duration": 0.020904,
     "end_time": "2022-07-30T20:13:43.453624",
     "exception": false,
     "start_time": "2022-07-30T20:13:43.432720",
     "status": "completed"
    },
    "tags": []
   },
   "source": [
    "## Save the image folders"
   ]
  },
  {
   "cell_type": "code",
   "execution_count": 25,
   "metadata": {
    "execution": {
     "iopub.execute_input": "2022-07-30T20:13:43.497998Z",
     "iopub.status.busy": "2022-07-30T20:13:43.497556Z",
     "iopub.status.idle": "2022-07-30T20:13:43.502272Z",
     "shell.execute_reply": "2022-07-30T20:13:43.501283Z"
    },
    "papermill": {
     "duration": 0.02958,
     "end_time": "2022-07-30T20:13:43.504627",
     "exception": false,
     "start_time": "2022-07-30T20:13:43.475047",
     "status": "completed"
    },
    "tags": []
   },
   "outputs": [],
   "source": [
    "# Compress the folders so they can appear\n",
    "# in the notebook output.\n",
    "# Source: https://www.kaggle.com/xhlulu/vinbigdata-process-and-resize-to-image\n",
    "\n",
    "#!tar -zcf images.tar.gz -C \"images_dir/\" .\n"
   ]
  },
  {
   "cell_type": "code",
   "execution_count": 26,
   "metadata": {
    "execution": {
     "iopub.execute_input": "2022-07-30T20:13:43.548140Z",
     "iopub.status.busy": "2022-07-30T20:13:43.547720Z",
     "iopub.status.idle": "2022-07-30T20:13:44.326034Z",
     "shell.execute_reply": "2022-07-30T20:13:44.324732Z"
    },
    "papermill": {
     "duration": 0.803429,
     "end_time": "2022-07-30T20:13:44.328908",
     "exception": false,
     "start_time": "2022-07-30T20:13:43.525479",
     "status": "completed"
    },
    "tags": []
   },
   "outputs": [
    {
     "name": "stdout",
     "output_type": "stream",
     "text": [
      "__notebook__.ipynb  df_data.csv  image.png  images_dir\r\n"
     ]
    }
   ],
   "source": [
    "!ls"
   ]
  },
  {
   "cell_type": "code",
   "execution_count": 27,
   "metadata": {
    "execution": {
     "iopub.execute_input": "2022-07-30T20:13:44.375265Z",
     "iopub.status.busy": "2022-07-30T20:13:44.374441Z",
     "iopub.status.idle": "2022-07-30T20:13:44.379837Z",
     "shell.execute_reply": "2022-07-30T20:13:44.378957Z"
    },
    "papermill": {
     "duration": 0.031954,
     "end_time": "2022-07-30T20:13:44.382236",
     "exception": false,
     "start_time": "2022-07-30T20:13:44.350282",
     "status": "completed"
    },
    "tags": []
   },
   "outputs": [],
   "source": [
    "# Delete the folders to prevent a Kaggle error.\n",
    "\n",
    "#if os.path.isdir('images_dir') == True:\n",
    "    #shutil.rmtree('images_dir')\n",
    "    "
   ]
  },
  {
   "cell_type": "code",
   "execution_count": null,
   "metadata": {
    "papermill": {
     "duration": 0.020768,
     "end_time": "2022-07-30T20:13:44.544756",
     "exception": false,
     "start_time": "2022-07-30T20:13:44.523988",
     "status": "completed"
    },
    "tags": []
   },
   "outputs": [],
   "source": []
  }
 ],
 "metadata": {
  "kernelspec": {
   "display_name": "Python 3",
   "language": "python",
   "name": "python3"
  },
  "language_info": {
   "codemirror_mode": {
    "name": "ipython",
    "version": 3
   },
   "file_extension": ".py",
   "mimetype": "text/x-python",
   "name": "python",
   "nbconvert_exporter": "python",
   "pygments_lexer": "ipython3",
   "version": "3.6.8"
  },
  "papermill": {
   "default_parameters": {},
   "duration": 575.158884,
   "end_time": "2022-07-30T20:13:45.692723",
   "environment_variables": {},
   "exception": null,
   "input_path": "__notebook__.ipynb",
   "output_path": "__notebook__.ipynb",
   "parameters": {},
   "start_time": "2022-07-30T20:04:10.533839",
   "version": "2.3.4"
  },
  "widgets": {
   "application/vnd.jupyter.widget-state+json": {
    "state": {
     "145ac4f392c04a10a85e88392088c1d4": {
      "model_module": "@jupyter-widgets/controls",
      "model_module_version": "1.5.0",
      "model_name": "HBoxModel",
      "state": {
       "_dom_classes": [],
       "_model_module": "@jupyter-widgets/controls",
       "_model_module_version": "1.5.0",
       "_model_name": "HBoxModel",
       "_view_count": null,
       "_view_module": "@jupyter-widgets/controls",
       "_view_module_version": "1.5.0",
       "_view_name": "HBoxView",
       "box_style": "",
       "children": [
        "IPY_MODEL_37ebd8746d27482cbd8dcfb8f155b4a6",
        "IPY_MODEL_99a01b1b74084baa80c1861295e316a5",
        "IPY_MODEL_3af9ed47f78e4e7d83f15d2114ed2154"
       ],
       "layout": "IPY_MODEL_abcdade867c646bc90ef6b868b3aca76"
      }
     },
     "358185edf17d4e4283be63b718d331af": {
      "model_module": "@jupyter-widgets/base",
      "model_module_version": "1.2.0",
      "model_name": "LayoutModel",
      "state": {
       "_model_module": "@jupyter-widgets/base",
       "_model_module_version": "1.2.0",
       "_model_name": "LayoutModel",
       "_view_count": null,
       "_view_module": "@jupyter-widgets/base",
       "_view_module_version": "1.2.0",
       "_view_name": "LayoutView",
       "align_content": null,
       "align_items": null,
       "align_self": null,
       "border": null,
       "bottom": null,
       "display": null,
       "flex": null,
       "flex_flow": null,
       "grid_area": null,
       "grid_auto_columns": null,
       "grid_auto_flow": null,
       "grid_auto_rows": null,
       "grid_column": null,
       "grid_gap": null,
       "grid_row": null,
       "grid_template_areas": null,
       "grid_template_columns": null,
       "grid_template_rows": null,
       "height": null,
       "justify_content": null,
       "justify_items": null,
       "left": null,
       "margin": null,
       "max_height": null,
       "max_width": null,
       "min_height": null,
       "min_width": null,
       "object_fit": null,
       "object_position": null,
       "order": null,
       "overflow": null,
       "overflow_x": null,
       "overflow_y": null,
       "padding": null,
       "right": null,
       "top": null,
       "visibility": null,
       "width": null
      }
     },
     "37ebd8746d27482cbd8dcfb8f155b4a6": {
      "model_module": "@jupyter-widgets/controls",
      "model_module_version": "1.5.0",
      "model_name": "HTMLModel",
      "state": {
       "_dom_classes": [],
       "_model_module": "@jupyter-widgets/controls",
       "_model_module_version": "1.5.0",
       "_model_name": "HTMLModel",
       "_view_count": null,
       "_view_module": "@jupyter-widgets/controls",
       "_view_module_version": "1.5.0",
       "_view_name": "HTMLView",
       "description": "",
       "description_tooltip": null,
       "layout": "IPY_MODEL_358185edf17d4e4283be63b718d331af",
       "placeholder": "​",
       "style": "IPY_MODEL_c39d3f124f744b6d95594c7c305a0d90",
       "value": "100%"
      }
     },
     "3af9ed47f78e4e7d83f15d2114ed2154": {
      "model_module": "@jupyter-widgets/controls",
      "model_module_version": "1.5.0",
      "model_name": "HTMLModel",
      "state": {
       "_dom_classes": [],
       "_model_module": "@jupyter-widgets/controls",
       "_model_module_version": "1.5.0",
       "_model_name": "HTMLModel",
       "_view_count": null,
       "_view_module": "@jupyter-widgets/controls",
       "_view_module_version": "1.5.0",
       "_view_name": "HTMLView",
       "description": "",
       "description_tooltip": null,
       "layout": "IPY_MODEL_85605c790b9e43f4bf799585e4772d02",
       "placeholder": "​",
       "style": "IPY_MODEL_e2754cc875504a0aad06931eec54130d",
       "value": " 8217/8217 [08:09&lt;00:00, 18.42it/s]"
      }
     },
     "588e83d4a04b4530922c7c8ad60cafdd": {
      "model_module": "@jupyter-widgets/base",
      "model_module_version": "1.2.0",
      "model_name": "LayoutModel",
      "state": {
       "_model_module": "@jupyter-widgets/base",
       "_model_module_version": "1.2.0",
       "_model_name": "LayoutModel",
       "_view_count": null,
       "_view_module": "@jupyter-widgets/base",
       "_view_module_version": "1.2.0",
       "_view_name": "LayoutView",
       "align_content": null,
       "align_items": null,
       "align_self": null,
       "border": null,
       "bottom": null,
       "display": null,
       "flex": null,
       "flex_flow": null,
       "grid_area": null,
       "grid_auto_columns": null,
       "grid_auto_flow": null,
       "grid_auto_rows": null,
       "grid_column": null,
       "grid_gap": null,
       "grid_row": null,
       "grid_template_areas": null,
       "grid_template_columns": null,
       "grid_template_rows": null,
       "height": null,
       "justify_content": null,
       "justify_items": null,
       "left": null,
       "margin": null,
       "max_height": null,
       "max_width": null,
       "min_height": null,
       "min_width": null,
       "object_fit": null,
       "object_position": null,
       "order": null,
       "overflow": null,
       "overflow_x": null,
       "overflow_y": null,
       "padding": null,
       "right": null,
       "top": null,
       "visibility": null,
       "width": null
      }
     },
     "85605c790b9e43f4bf799585e4772d02": {
      "model_module": "@jupyter-widgets/base",
      "model_module_version": "1.2.0",
      "model_name": "LayoutModel",
      "state": {
       "_model_module": "@jupyter-widgets/base",
       "_model_module_version": "1.2.0",
       "_model_name": "LayoutModel",
       "_view_count": null,
       "_view_module": "@jupyter-widgets/base",
       "_view_module_version": "1.2.0",
       "_view_name": "LayoutView",
       "align_content": null,
       "align_items": null,
       "align_self": null,
       "border": null,
       "bottom": null,
       "display": null,
       "flex": null,
       "flex_flow": null,
       "grid_area": null,
       "grid_auto_columns": null,
       "grid_auto_flow": null,
       "grid_auto_rows": null,
       "grid_column": null,
       "grid_gap": null,
       "grid_row": null,
       "grid_template_areas": null,
       "grid_template_columns": null,
       "grid_template_rows": null,
       "height": null,
       "justify_content": null,
       "justify_items": null,
       "left": null,
       "margin": null,
       "max_height": null,
       "max_width": null,
       "min_height": null,
       "min_width": null,
       "object_fit": null,
       "object_position": null,
       "order": null,
       "overflow": null,
       "overflow_x": null,
       "overflow_y": null,
       "padding": null,
       "right": null,
       "top": null,
       "visibility": null,
       "width": null
      }
     },
     "8dbb4bdd954e4620888caac377a904ee": {
      "model_module": "@jupyter-widgets/controls",
      "model_module_version": "1.5.0",
      "model_name": "ProgressStyleModel",
      "state": {
       "_model_module": "@jupyter-widgets/controls",
       "_model_module_version": "1.5.0",
       "_model_name": "ProgressStyleModel",
       "_view_count": null,
       "_view_module": "@jupyter-widgets/base",
       "_view_module_version": "1.2.0",
       "_view_name": "StyleView",
       "bar_color": null,
       "description_width": ""
      }
     },
     "99a01b1b74084baa80c1861295e316a5": {
      "model_module": "@jupyter-widgets/controls",
      "model_module_version": "1.5.0",
      "model_name": "FloatProgressModel",
      "state": {
       "_dom_classes": [],
       "_model_module": "@jupyter-widgets/controls",
       "_model_module_version": "1.5.0",
       "_model_name": "FloatProgressModel",
       "_view_count": null,
       "_view_module": "@jupyter-widgets/controls",
       "_view_module_version": "1.5.0",
       "_view_name": "ProgressView",
       "bar_style": "success",
       "description": "",
       "description_tooltip": null,
       "layout": "IPY_MODEL_588e83d4a04b4530922c7c8ad60cafdd",
       "max": 8217,
       "min": 0,
       "orientation": "horizontal",
       "style": "IPY_MODEL_8dbb4bdd954e4620888caac377a904ee",
       "value": 8217
      }
     },
     "abcdade867c646bc90ef6b868b3aca76": {
      "model_module": "@jupyter-widgets/base",
      "model_module_version": "1.2.0",
      "model_name": "LayoutModel",
      "state": {
       "_model_module": "@jupyter-widgets/base",
       "_model_module_version": "1.2.0",
       "_model_name": "LayoutModel",
       "_view_count": null,
       "_view_module": "@jupyter-widgets/base",
       "_view_module_version": "1.2.0",
       "_view_name": "LayoutView",
       "align_content": null,
       "align_items": null,
       "align_self": null,
       "border": null,
       "bottom": null,
       "display": null,
       "flex": null,
       "flex_flow": null,
       "grid_area": null,
       "grid_auto_columns": null,
       "grid_auto_flow": null,
       "grid_auto_rows": null,
       "grid_column": null,
       "grid_gap": null,
       "grid_row": null,
       "grid_template_areas": null,
       "grid_template_columns": null,
       "grid_template_rows": null,
       "height": null,
       "justify_content": null,
       "justify_items": null,
       "left": null,
       "margin": null,
       "max_height": null,
       "max_width": null,
       "min_height": null,
       "min_width": null,
       "object_fit": null,
       "object_position": null,
       "order": null,
       "overflow": null,
       "overflow_x": null,
       "overflow_y": null,
       "padding": null,
       "right": null,
       "top": null,
       "visibility": null,
       "width": null
      }
     },
     "c39d3f124f744b6d95594c7c305a0d90": {
      "model_module": "@jupyter-widgets/controls",
      "model_module_version": "1.5.0",
      "model_name": "DescriptionStyleModel",
      "state": {
       "_model_module": "@jupyter-widgets/controls",
       "_model_module_version": "1.5.0",
       "_model_name": "DescriptionStyleModel",
       "_view_count": null,
       "_view_module": "@jupyter-widgets/base",
       "_view_module_version": "1.2.0",
       "_view_name": "StyleView",
       "description_width": ""
      }
     },
     "e2754cc875504a0aad06931eec54130d": {
      "model_module": "@jupyter-widgets/controls",
      "model_module_version": "1.5.0",
      "model_name": "DescriptionStyleModel",
      "state": {
       "_model_module": "@jupyter-widgets/controls",
       "_model_module_version": "1.5.0",
       "_model_name": "DescriptionStyleModel",
       "_view_count": null,
       "_view_module": "@jupyter-widgets/base",
       "_view_module_version": "1.2.0",
       "_view_name": "StyleView",
       "description_width": ""
      }
     }
    },
    "version_major": 2,
    "version_minor": 0
   }
  }
 },
 "nbformat": 4,
 "nbformat_minor": 5
}
