{
 "cells": [
  {
   "cell_type": "code",
   "execution_count": 1,
   "id": "885da1b1",
   "metadata": {
    "execution": {
     "iopub.execute_input": "2022-11-29T05:51:22.648640Z",
     "iopub.status.busy": "2022-11-29T05:51:22.647698Z",
     "iopub.status.idle": "2022-11-29T05:51:22.654664Z",
     "shell.execute_reply": "2022-11-29T05:51:22.653228Z"
    },
    "papermill": {
     "duration": 0.030813,
     "end_time": "2022-11-29T05:51:22.657374",
     "exception": false,
     "start_time": "2022-11-29T05:51:22.626561",
     "status": "completed"
    },
    "tags": []
   },
   "outputs": [],
   "source": [
    "# Targets:\n",
    "# 0 = normal\n",
    "# 1 = mass"
   ]
  },
  {
   "cell_type": "code",
   "execution_count": 2,
   "id": "d67e53f4",
   "metadata": {
    "execution": {
     "iopub.execute_input": "2022-11-29T05:51:22.689474Z",
     "iopub.status.busy": "2022-11-29T05:51:22.688767Z",
     "iopub.status.idle": "2022-11-29T05:51:27.972610Z",
     "shell.execute_reply": "2022-11-29T05:51:27.971285Z"
    },
    "papermill": {
     "duration": 5.303651,
     "end_time": "2022-11-29T05:51:27.975864",
     "exception": false,
     "start_time": "2022-11-29T05:51:22.672213",
     "status": "completed"
    },
    "tags": []
   },
   "outputs": [
    {
     "name": "stdout",
     "output_type": "stream",
     "text": [
      "1.11.0+cpu\n",
      "0.12.0+cpu\n"
     ]
    }
   ],
   "source": [
    "import pandas as pd\n",
    "import numpy as np\n",
    "import os\n",
    "\n",
    "\n",
    "import cv2\n",
    "import time\n",
    "import shutil\n",
    "\n",
    "import torch\n",
    "import torch.nn as nn\n",
    "import torch.optim as optim\n",
    "import torch.nn.functional as F\n",
    "\n",
    "import torchvision\n",
    "import torchvision.transforms as transforms\n",
    "\n",
    "from torch.utils.data import Dataset, DataLoader\n",
    "from torchvision import transforms, utils\n",
    "\n",
    "from torch.utils.data import Dataset, DataLoader\n",
    "\n",
    "#from tqdm import tqdm\n",
    "\n",
    "# tqdm doesn't work well in colab.\n",
    "# This is the solution:\n",
    "# https://stackoverflow.com/questions/41707229/tqdm-printing-to-newline\n",
    "#import tqdm.notebook as tq\n",
    "#for i in tq.tqdm(...):\n",
    "\n",
    "from tqdm import tqdm_notebook as tqdm\n",
    "\n",
    "\n",
    "import gc\n",
    "\n",
    "\n",
    "import albumentations as albu\n",
    "from albumentations import Compose\n",
    "\n",
    "\n",
    "from sklearn import model_selection\n",
    "from sklearn.utils import shuffle\n",
    "from sklearn import metrics\n",
    "from sklearn.metrics import confusion_matrix\n",
    "from sklearn.metrics import classification_report, jaccard_score\n",
    "import itertools\n",
    "\n",
    "\n",
    "# load image with Pillow\n",
    "from PIL import Image\n",
    "\n",
    "from numpy import asarray\n",
    "\n",
    "from skimage.transform import resize\n",
    "\n",
    "\n",
    "import matplotlib.pyplot as plt\n",
    "\n",
    "# Don't Show Warning Messages\n",
    "import warnings\n",
    "warnings.filterwarnings('ignore')\n",
    "\n",
    "# Note: Pytorch uses a channels-first format:\n",
    "# [batch_size, num_channels, height, width]\n",
    "\n",
    "print(torch.__version__)\n",
    "print(torchvision.__version__)"
   ]
  },
  {
   "cell_type": "code",
   "execution_count": 3,
   "id": "437db520",
   "metadata": {
    "execution": {
     "iopub.execute_input": "2022-11-29T05:51:28.010817Z",
     "iopub.status.busy": "2022-11-29T05:51:28.010184Z",
     "iopub.status.idle": "2022-11-29T05:51:28.021443Z",
     "shell.execute_reply": "2022-11-29T05:51:28.019293Z"
    },
    "papermill": {
     "duration": 0.031324,
     "end_time": "2022-11-29T05:51:28.024340",
     "exception": false,
     "start_time": "2022-11-29T05:51:27.993016",
     "status": "completed"
    },
    "tags": []
   },
   "outputs": [],
   "source": [
    "# Set the seed values\n",
    "\n",
    "import random\n",
    "\n",
    "# Set the seed value all over the place to make this reproducible.\n",
    "seed_val = 101\n",
    "\n",
    "os.environ['PYTHONHASHSEED'] = str(seed_val)\n",
    "random.seed(seed_val)\n",
    "np.random.seed(seed_val)\n",
    "torch.manual_seed(seed_val)\n",
    "torch.cuda.manual_seed_all(seed_val)\n",
    "torch.backends.cudnn.deterministic = True"
   ]
  },
  {
   "cell_type": "code",
   "execution_count": 4,
   "id": "1004d062",
   "metadata": {
    "execution": {
     "iopub.execute_input": "2022-11-29T05:51:28.058176Z",
     "iopub.status.busy": "2022-11-29T05:51:28.056936Z",
     "iopub.status.idle": "2022-11-29T05:51:28.062096Z",
     "shell.execute_reply": "2022-11-29T05:51:28.061163Z"
    },
    "papermill": {
     "duration": 0.024807,
     "end_time": "2022-11-29T05:51:28.064487",
     "exception": false,
     "start_time": "2022-11-29T05:51:28.039680",
     "status": "completed"
    },
    "tags": []
   },
   "outputs": [],
   "source": [
    "base_path = '../input/smart-mammo-data/'\n"
   ]
  },
  {
   "cell_type": "code",
   "execution_count": 5,
   "id": "a67d0c79",
   "metadata": {
    "execution": {
     "iopub.execute_input": "2022-11-29T05:51:28.096118Z",
     "iopub.status.busy": "2022-11-29T05:51:28.095351Z",
     "iopub.status.idle": "2022-11-29T05:51:28.108379Z",
     "shell.execute_reply": "2022-11-29T05:51:28.107341Z"
    },
    "papermill": {
     "duration": 0.031892,
     "end_time": "2022-11-29T05:51:28.110978",
     "exception": false,
     "start_time": "2022-11-29T05:51:28.079086",
     "status": "completed"
    },
    "tags": []
   },
   "outputs": [
    {
     "data": {
      "text/plain": [
       "['df_data_bens.csv',\n",
       " 'v2_images_dir',\n",
       " 'exp06-spine-prepare-the-images-original-size.ipynb',\n",
       " 'df_data.csv',\n",
       " 'VinDR-Mammo-Data',\n",
       " 'images_dir',\n",
       " 'df_data_padded.csv',\n",
       " 'exp33_best.pt',\n",
       " 'Exp_51-VAST',\n",
       " 'bens_images_dir',\n",
       " 'Exp_50-VAST',\n",
       " 'data_for_simulation',\n",
       " 'exp17-LOCAL-pad--prepare-the-images-original-size.ipynb']"
      ]
     },
     "execution_count": 5,
     "metadata": {},
     "output_type": "execute_result"
    }
   ],
   "source": [
    "os.listdir('../input/smart-mammo-data')"
   ]
  },
  {
   "cell_type": "markdown",
   "id": "bd53f6e6",
   "metadata": {
    "papermill": {
     "duration": 0.015035,
     "end_time": "2022-11-29T05:51:28.140964",
     "exception": false,
     "start_time": "2022-11-29T05:51:28.125929",
     "status": "completed"
    },
    "tags": []
   },
   "source": [
    "## Config"
   ]
  },
  {
   "cell_type": "code",
   "execution_count": 6,
   "id": "3ec4e544",
   "metadata": {
    "execution": {
     "iopub.execute_input": "2022-11-29T05:51:28.172630Z",
     "iopub.status.busy": "2022-11-29T05:51:28.172209Z",
     "iopub.status.idle": "2022-11-29T05:51:28.179820Z",
     "shell.execute_reply": "2022-11-29T05:51:28.179033Z"
    },
    "papermill": {
     "duration": 0.025814,
     "end_time": "2022-11-29T05:51:28.182120",
     "exception": false,
     "start_time": "2022-11-29T05:51:28.156306",
     "status": "completed"
    },
    "tags": []
   },
   "outputs": [
    {
     "data": {
      "text/plain": [
       "4"
      ]
     },
     "execution_count": 6,
     "metadata": {},
     "output_type": "execute_result"
    }
   ],
   "source": [
    "# Yolo setup:\n",
    "NUM_EPOCHS = 90 #80\n",
    "BATCH_SIZE = 10 #32\n",
    "IMAGE_SIZE = 1024 # Yolo will automatically resize the input images to this size.\n",
    "\n",
    "# This is the fold that Yolo is trained on\n",
    "CHOSEN_FOLD = 0\n",
    "\n",
    "NUM_FOLDS = 5\n",
    "\n",
    "NUM_CORES = os.cpu_count()\n",
    "NUM_CORES"
   ]
  },
  {
   "cell_type": "markdown",
   "id": "43eeff5d",
   "metadata": {
    "papermill": {
     "duration": 0.017474,
     "end_time": "2022-11-29T05:51:28.215458",
     "exception": false,
     "start_time": "2022-11-29T05:51:28.197984",
     "status": "completed"
    },
    "tags": []
   },
   "source": [
    "## Set up Yolov5 - For offline use\n",
    "\n",
    "The Yolov5 model being used here needs to have the internet turned for training to work. However, it does not need to have the internet on during inference."
   ]
  },
  {
   "cell_type": "code",
   "execution_count": 7,
   "id": "43eecbbc",
   "metadata": {
    "execution": {
     "iopub.execute_input": "2022-11-29T05:51:28.249903Z",
     "iopub.status.busy": "2022-11-29T05:51:28.249183Z",
     "iopub.status.idle": "2022-11-29T05:51:38.246950Z",
     "shell.execute_reply": "2022-11-29T05:51:38.245256Z"
    },
    "papermill": {
     "duration": 10.019409,
     "end_time": "2022-11-29T05:51:38.250444",
     "exception": false,
     "start_time": "2022-11-29T05:51:28.231035",
     "status": "completed"
    },
    "tags": []
   },
   "outputs": [],
   "source": [
    "# Copy the yolov5 folder from the notebook to  /kaggle/working/\n",
    "\n",
    "# We will use yolov5-v5.0 for the ensembling\n",
    "\n",
    "if os.path.isdir('/kaggle/working/yolov5') == False:\n",
    "\n",
    "    shutil.copytree('../input/my-yolov5-for-offline-use/yolov5-v5.0', '/kaggle/working/yolov5')"
   ]
  },
  {
   "cell_type": "code",
   "execution_count": 8,
   "id": "427fecab",
   "metadata": {
    "execution": {
     "iopub.execute_input": "2022-11-29T05:51:38.286773Z",
     "iopub.status.busy": "2022-11-29T05:51:38.286348Z",
     "iopub.status.idle": "2022-11-29T05:51:39.400289Z",
     "shell.execute_reply": "2022-11-29T05:51:39.398300Z"
    },
    "papermill": {
     "duration": 1.136535,
     "end_time": "2022-11-29T05:51:39.403548",
     "exception": false,
     "start_time": "2022-11-29T05:51:38.267013",
     "status": "completed"
    },
    "tags": []
   },
   "outputs": [
    {
     "name": "stdout",
     "output_type": "stream",
     "text": [
      "__notebook__.ipynb  yolov5\r\n"
     ]
    }
   ],
   "source": [
    "!ls"
   ]
  },
  {
   "cell_type": "markdown",
   "id": "50ed7f0b",
   "metadata": {
    "papermill": {
     "duration": 0.014674,
     "end_time": "2022-11-29T05:51:39.433398",
     "exception": false,
     "start_time": "2022-11-29T05:51:39.418724",
     "status": "completed"
    },
    "tags": []
   },
   "source": [
    "## Load the train data"
   ]
  },
  {
   "cell_type": "code",
   "execution_count": 9,
   "id": "b2171cad",
   "metadata": {
    "execution": {
     "iopub.execute_input": "2022-11-29T05:51:39.465824Z",
     "iopub.status.busy": "2022-11-29T05:51:39.465359Z",
     "iopub.status.idle": "2022-11-29T05:51:39.528048Z",
     "shell.execute_reply": "2022-11-29T05:51:39.526647Z"
    },
    "papermill": {
     "duration": 0.081883,
     "end_time": "2022-11-29T05:51:39.530647",
     "exception": false,
     "start_time": "2022-11-29T05:51:39.448764",
     "status": "completed"
    },
    "tags": []
   },
   "outputs": [
    {
     "name": "stdout",
     "output_type": "stream",
     "text": [
      "(1426, 20)\n"
     ]
    },
    {
     "data": {
      "text/html": [
       "<div>\n",
       "<style scoped>\n",
       "    .dataframe tbody tr th:only-of-type {\n",
       "        vertical-align: middle;\n",
       "    }\n",
       "\n",
       "    .dataframe tbody tr th {\n",
       "        vertical-align: top;\n",
       "    }\n",
       "\n",
       "    .dataframe thead th {\n",
       "        text-align: right;\n",
       "    }\n",
       "</style>\n",
       "<table border=\"1\" class=\"dataframe\">\n",
       "  <thead>\n",
       "    <tr style=\"text-align: right;\">\n",
       "      <th></th>\n",
       "      <th>study_id</th>\n",
       "      <th>series_id</th>\n",
       "      <th>image_id</th>\n",
       "      <th>laterality</th>\n",
       "      <th>view_position</th>\n",
       "      <th>height</th>\n",
       "      <th>width</th>\n",
       "      <th>breast_birads</th>\n",
       "      <th>breast_density</th>\n",
       "      <th>finding_categories</th>\n",
       "      <th>finding_birads</th>\n",
       "      <th>xmin</th>\n",
       "      <th>ymin</th>\n",
       "      <th>xmax</th>\n",
       "      <th>ymax</th>\n",
       "      <th>split</th>\n",
       "      <th>path</th>\n",
       "      <th>num_findings</th>\n",
       "      <th>target</th>\n",
       "      <th>fold</th>\n",
       "    </tr>\n",
       "  </thead>\n",
       "  <tbody>\n",
       "    <tr>\n",
       "      <th>0</th>\n",
       "      <td>517563a43eab4f90efc650fcb0d215d5</td>\n",
       "      <td>37d2595b7ec81bd31a18d26afdb0aabf</td>\n",
       "      <td>c54fbe3a374b9e157280479c4649b11a</td>\n",
       "      <td>L</td>\n",
       "      <td>MLO</td>\n",
       "      <td>2812</td>\n",
       "      <td>2012</td>\n",
       "      <td>BI-RADS 1</td>\n",
       "      <td>DENSITY C</td>\n",
       "      <td>['No Finding']</td>\n",
       "      <td>NaN</td>\n",
       "      <td>NaN</td>\n",
       "      <td>NaN</td>\n",
       "      <td>NaN</td>\n",
       "      <td>NaN</td>\n",
       "      <td>test</td>\n",
       "      <td>../input/smart-mammo-data/images_dir/images_di...</td>\n",
       "      <td>1</td>\n",
       "      <td>0</td>\n",
       "      <td>2.0</td>\n",
       "    </tr>\n",
       "    <tr>\n",
       "      <th>1</th>\n",
       "      <td>f8894c9173aaa865bd43751eeeacd3b0</td>\n",
       "      <td>1225d3a302306aca94552c0f8c30fe2c</td>\n",
       "      <td>78dfa5f3dd380341cc17955f52279728</td>\n",
       "      <td>R</td>\n",
       "      <td>MLO</td>\n",
       "      <td>3518</td>\n",
       "      <td>2800</td>\n",
       "      <td>BI-RADS 1</td>\n",
       "      <td>DENSITY C</td>\n",
       "      <td>['No Finding']</td>\n",
       "      <td>NaN</td>\n",
       "      <td>NaN</td>\n",
       "      <td>NaN</td>\n",
       "      <td>NaN</td>\n",
       "      <td>NaN</td>\n",
       "      <td>test</td>\n",
       "      <td>../input/smart-mammo-data/images_dir/images_di...</td>\n",
       "      <td>1</td>\n",
       "      <td>0</td>\n",
       "      <td>2.0</td>\n",
       "    </tr>\n",
       "    <tr>\n",
       "      <th>2</th>\n",
       "      <td>05783bf55ed93d5ec21d4e0e8546a5f0</td>\n",
       "      <td>da0aae7d4ed0388e3e15da1fd90af2e1</td>\n",
       "      <td>f9c2fd2f75598e0d7c311687693c31a7</td>\n",
       "      <td>R</td>\n",
       "      <td>CC</td>\n",
       "      <td>3518</td>\n",
       "      <td>2800</td>\n",
       "      <td>BI-RADS 1</td>\n",
       "      <td>DENSITY C</td>\n",
       "      <td>['No Finding']</td>\n",
       "      <td>NaN</td>\n",
       "      <td>NaN</td>\n",
       "      <td>NaN</td>\n",
       "      <td>NaN</td>\n",
       "      <td>NaN</td>\n",
       "      <td>training</td>\n",
       "      <td>../input/smart-mammo-data/images_dir/images_di...</td>\n",
       "      <td>1</td>\n",
       "      <td>0</td>\n",
       "      <td>5.0</td>\n",
       "    </tr>\n",
       "    <tr>\n",
       "      <th>3</th>\n",
       "      <td>ea8a09a16763d310b4065fe94c6c04cd</td>\n",
       "      <td>b714ced6a887a6528768db77b239dcd9</td>\n",
       "      <td>58d70109b957243aeaf19b95ed5322d4</td>\n",
       "      <td>R</td>\n",
       "      <td>MLO</td>\n",
       "      <td>3518</td>\n",
       "      <td>2800</td>\n",
       "      <td>BI-RADS 1</td>\n",
       "      <td>DENSITY C</td>\n",
       "      <td>['No Finding']</td>\n",
       "      <td>NaN</td>\n",
       "      <td>NaN</td>\n",
       "      <td>NaN</td>\n",
       "      <td>NaN</td>\n",
       "      <td>NaN</td>\n",
       "      <td>training</td>\n",
       "      <td>../input/smart-mammo-data/images_dir/images_di...</td>\n",
       "      <td>1</td>\n",
       "      <td>0</td>\n",
       "      <td>3.0</td>\n",
       "    </tr>\n",
       "    <tr>\n",
       "      <th>4</th>\n",
       "      <td>38c28cfa153bb4a7a1ade330738df1b7</td>\n",
       "      <td>9b0f078012d78f9ddc0fe2482a33bf28</td>\n",
       "      <td>6cf20761dccfd17caa6ae4877b744db5</td>\n",
       "      <td>R</td>\n",
       "      <td>CC</td>\n",
       "      <td>2812</td>\n",
       "      <td>2012</td>\n",
       "      <td>BI-RADS 1</td>\n",
       "      <td>DENSITY D</td>\n",
       "      <td>['No Finding']</td>\n",
       "      <td>NaN</td>\n",
       "      <td>NaN</td>\n",
       "      <td>NaN</td>\n",
       "      <td>NaN</td>\n",
       "      <td>NaN</td>\n",
       "      <td>test</td>\n",
       "      <td>../input/smart-mammo-data/images_dir/images_di...</td>\n",
       "      <td>1</td>\n",
       "      <td>0</td>\n",
       "      <td>7.0</td>\n",
       "    </tr>\n",
       "  </tbody>\n",
       "</table>\n",
       "</div>"
      ],
      "text/plain": [
       "                           study_id                         series_id  \\\n",
       "0  517563a43eab4f90efc650fcb0d215d5  37d2595b7ec81bd31a18d26afdb0aabf   \n",
       "1  f8894c9173aaa865bd43751eeeacd3b0  1225d3a302306aca94552c0f8c30fe2c   \n",
       "2  05783bf55ed93d5ec21d4e0e8546a5f0  da0aae7d4ed0388e3e15da1fd90af2e1   \n",
       "3  ea8a09a16763d310b4065fe94c6c04cd  b714ced6a887a6528768db77b239dcd9   \n",
       "4  38c28cfa153bb4a7a1ade330738df1b7  9b0f078012d78f9ddc0fe2482a33bf28   \n",
       "\n",
       "                           image_id laterality view_position  height  width  \\\n",
       "0  c54fbe3a374b9e157280479c4649b11a          L           MLO    2812   2012   \n",
       "1  78dfa5f3dd380341cc17955f52279728          R           MLO    3518   2800   \n",
       "2  f9c2fd2f75598e0d7c311687693c31a7          R            CC    3518   2800   \n",
       "3  58d70109b957243aeaf19b95ed5322d4          R           MLO    3518   2800   \n",
       "4  6cf20761dccfd17caa6ae4877b744db5          R            CC    2812   2012   \n",
       "\n",
       "  breast_birads breast_density finding_categories finding_birads  xmin  ymin  \\\n",
       "0     BI-RADS 1      DENSITY C     ['No Finding']            NaN   NaN   NaN   \n",
       "1     BI-RADS 1      DENSITY C     ['No Finding']            NaN   NaN   NaN   \n",
       "2     BI-RADS 1      DENSITY C     ['No Finding']            NaN   NaN   NaN   \n",
       "3     BI-RADS 1      DENSITY C     ['No Finding']            NaN   NaN   NaN   \n",
       "4     BI-RADS 1      DENSITY D     ['No Finding']            NaN   NaN   NaN   \n",
       "\n",
       "   xmax  ymax     split                                               path  \\\n",
       "0   NaN   NaN      test  ../input/smart-mammo-data/images_dir/images_di...   \n",
       "1   NaN   NaN      test  ../input/smart-mammo-data/images_dir/images_di...   \n",
       "2   NaN   NaN  training  ../input/smart-mammo-data/images_dir/images_di...   \n",
       "3   NaN   NaN  training  ../input/smart-mammo-data/images_dir/images_di...   \n",
       "4   NaN   NaN      test  ../input/smart-mammo-data/images_dir/images_di...   \n",
       "\n",
       "   num_findings  target  fold  \n",
       "0             1       0   2.0  \n",
       "1             1       0   2.0  \n",
       "2             1       0   5.0  \n",
       "3             1       0   3.0  \n",
       "4             1       0   7.0  "
      ]
     },
     "execution_count": 9,
     "metadata": {},
     "output_type": "execute_result"
    }
   ],
   "source": [
    "# This is the fold data that both models were trained on.\n",
    "path = '../input/exp49-mammo-create-the-10-folds/df_data_w_folds.csv'\n",
    "\n",
    "df_data = pd.read_csv(path)\n",
    "\n",
    "print(df_data.shape)\n",
    "\n",
    "df_data.head()"
   ]
  },
  {
   "cell_type": "code",
   "execution_count": 10,
   "id": "15a0442b",
   "metadata": {
    "execution": {
     "iopub.execute_input": "2022-11-29T05:51:39.562973Z",
     "iopub.status.busy": "2022-11-29T05:51:39.562579Z",
     "iopub.status.idle": "2022-11-29T05:51:39.576317Z",
     "shell.execute_reply": "2022-11-29T05:51:39.575452Z"
    },
    "papermill": {
     "duration": 0.032475,
     "end_time": "2022-11-29T05:51:39.578474",
     "exception": false,
     "start_time": "2022-11-29T05:51:39.545999",
     "status": "completed"
    },
    "tags": []
   },
   "outputs": [
    {
     "data": {
      "text/plain": [
       "1    1226\n",
       "0     200\n",
       "Name: target, dtype: int64"
      ]
     },
     "execution_count": 10,
     "metadata": {},
     "output_type": "execute_result"
    }
   ],
   "source": [
    "df_data['target'].value_counts()"
   ]
  },
  {
   "cell_type": "markdown",
   "id": "357bb688",
   "metadata": {
    "papermill": {
     "duration": 0.015428,
     "end_time": "2022-11-29T05:51:39.609228",
     "exception": false,
     "start_time": "2022-11-29T05:51:39.593800",
     "status": "completed"
    },
    "tags": []
   },
   "source": [
    "## Process the train data"
   ]
  },
  {
   "cell_type": "code",
   "execution_count": 11,
   "id": "f6cb8363",
   "metadata": {
    "execution": {
     "iopub.execute_input": "2022-11-29T05:51:39.642289Z",
     "iopub.status.busy": "2022-11-29T05:51:39.641826Z",
     "iopub.status.idle": "2022-11-29T05:51:39.676267Z",
     "shell.execute_reply": "2022-11-29T05:51:39.674430Z"
    },
    "papermill": {
     "duration": 0.053565,
     "end_time": "2022-11-29T05:51:39.678885",
     "exception": false,
     "start_time": "2022-11-29T05:51:39.625320",
     "status": "completed"
    },
    "tags": []
   },
   "outputs": [
    {
     "name": "stdout",
     "output_type": "stream",
     "text": [
      "(1426, 20)\n"
     ]
    }
   ],
   "source": [
    "# Get the path to each image\n",
    "\n",
    "def get_path(row):\n",
    "    \n",
    "    study_id = row['study_id']\n",
    "    image_id = row['image_id']\n",
    "    path = base_path + 'images_dir/images_dir/' + image_id + '.dicom'\n",
    "    \n",
    "    return path\n",
    "\n",
    "\n",
    "df_data['path'] = df_data.apply(get_path, axis=1)\n",
    "\n",
    "print(df_data.shape)\n",
    "\n",
    "#df_data.head()"
   ]
  },
  {
   "cell_type": "code",
   "execution_count": 12,
   "id": "64dc8a7d",
   "metadata": {
    "execution": {
     "iopub.execute_input": "2022-11-29T05:51:39.712254Z",
     "iopub.status.busy": "2022-11-29T05:51:39.711792Z",
     "iopub.status.idle": "2022-11-29T05:51:39.721832Z",
     "shell.execute_reply": "2022-11-29T05:51:39.720513Z"
    },
    "papermill": {
     "duration": 0.02965,
     "end_time": "2022-11-29T05:51:39.724307",
     "exception": false,
     "start_time": "2022-11-29T05:51:39.694657",
     "status": "completed"
    },
    "tags": []
   },
   "outputs": [
    {
     "data": {
      "text/plain": [
       "1    1226\n",
       "0     200\n",
       "Name: target, dtype: int64"
      ]
     },
     "execution_count": 12,
     "metadata": {},
     "output_type": "execute_result"
    }
   ],
   "source": [
    "# Targets:\n",
    "# 0 = normal\n",
    "# 1 = fracture\n",
    "\n",
    "df_data['target'].value_counts()"
   ]
  },
  {
   "cell_type": "markdown",
   "id": "fa2975b6",
   "metadata": {
    "papermill": {
     "duration": 0.015176,
     "end_time": "2022-11-29T05:51:39.755784",
     "exception": false,
     "start_time": "2022-11-29T05:51:39.740608",
     "status": "completed"
    },
    "tags": []
   },
   "source": [
    "## Create a column for the bbox info"
   ]
  },
  {
   "cell_type": "code",
   "execution_count": 13,
   "id": "0f9ea0ff",
   "metadata": {
    "execution": {
     "iopub.execute_input": "2022-11-29T05:51:39.789059Z",
     "iopub.status.busy": "2022-11-29T05:51:39.788652Z",
     "iopub.status.idle": "2022-11-29T05:51:39.896229Z",
     "shell.execute_reply": "2022-11-29T05:51:39.895170Z"
    },
    "papermill": {
     "duration": 0.127547,
     "end_time": "2022-11-29T05:51:39.899053",
     "exception": false,
     "start_time": "2022-11-29T05:51:39.771506",
     "status": "completed"
    },
    "tags": []
   },
   "outputs": [],
   "source": [
    "# Put the bbox info for each image into a list of bbox dicts\n",
    "\n",
    "\n",
    "bbox_list = []\n",
    "\n",
    "for i in range(0, len(df_data)):\n",
    "    \n",
    "    target = df_data.loc[i, 'target']\n",
    "    study_slice = df_data.loc[i, 'image_id']\n",
    "    \n",
    "    if target == 1:\n",
    "    \n",
    "        xmin = df_data.loc[i, 'xmin']\n",
    "        ymin = df_data.loc[i, 'ymin']\n",
    "        xmax = df_data.loc[i, 'xmax']\n",
    "        ymax = df_data.loc[i, 'ymax']\n",
    "        \n",
    "        x = round(xmin)\n",
    "        y = round(ymin)\n",
    "        width = round(xmax - xmin)\n",
    "        height = round(ymax - ymin)\n",
    "\n",
    "        bbox_dict ={\n",
    "            'x': x,\n",
    "            'y': y,\n",
    "            'width': width,\n",
    "            'height': height\n",
    "        }\n",
    "\n",
    "        bbox_list.append(bbox_dict)\n",
    "        \n",
    "    else:\n",
    "        bbox_list.append('none')\n",
    "        \n",
    "        \n",
    "# Add the bbox_list to df_data\n",
    "\n",
    "df_data['boxes'] = bbox_list\n",
    "\n",
    "#print(df_data.shape)\n",
    "\n",
    "#df_data.head()"
   ]
  },
  {
   "cell_type": "markdown",
   "id": "59d27688",
   "metadata": {
    "papermill": {
     "duration": 0.015128,
     "end_time": "2022-11-29T05:51:39.930020",
     "exception": false,
     "start_time": "2022-11-29T05:51:39.914892",
     "status": "completed"
    },
    "tags": []
   },
   "source": [
    "## Create df_train and df_val"
   ]
  },
  {
   "cell_type": "code",
   "execution_count": 14,
   "id": "e60f5559",
   "metadata": {
    "execution": {
     "iopub.execute_input": "2022-11-29T05:51:39.963793Z",
     "iopub.status.busy": "2022-11-29T05:51:39.962880Z",
     "iopub.status.idle": "2022-11-29T05:51:39.976853Z",
     "shell.execute_reply": "2022-11-29T05:51:39.975615Z"
    },
    "papermill": {
     "duration": 0.033597,
     "end_time": "2022-11-29T05:51:39.979526",
     "exception": false,
     "start_time": "2022-11-29T05:51:39.945929",
     "status": "completed"
    },
    "tags": []
   },
   "outputs": [
    {
     "name": "stdout",
     "output_type": "stream",
     "text": [
      "1    1100\n",
      "0     180\n",
      "Name: target, dtype: int64\n",
      "\n",
      "1    126\n",
      "0     20\n",
      "Name: target, dtype: int64\n"
     ]
    }
   ],
   "source": [
    "# Choose the fold to train on.\n",
    "fold_index = CHOSEN_FOLD\n",
    "\n",
    "df_train = df_data[df_data['fold'] != fold_index]\n",
    "df_val = df_data[df_data['fold'] == fold_index]\n",
    "\n",
    "print(df_train['target'].value_counts())\n",
    "print('')\n",
    "print(df_val['target'].value_counts())"
   ]
  },
  {
   "cell_type": "markdown",
   "id": "320d99b6",
   "metadata": {
    "papermill": {
     "duration": 0.015047,
     "end_time": "2022-11-29T05:51:40.010195",
     "exception": false,
     "start_time": "2022-11-29T05:51:39.995148",
     "status": "completed"
    },
    "tags": []
   },
   "source": [
    "## Helper functions"
   ]
  },
  {
   "cell_type": "code",
   "execution_count": 15,
   "id": "2ad295ee",
   "metadata": {
    "execution": {
     "iopub.execute_input": "2022-11-29T05:51:40.043137Z",
     "iopub.status.busy": "2022-11-29T05:51:40.042510Z",
     "iopub.status.idle": "2022-11-29T05:51:40.053720Z",
     "shell.execute_reply": "2022-11-29T05:51:40.052703Z"
    },
    "papermill": {
     "duration": 0.030539,
     "end_time": "2022-11-29T05:51:40.056222",
     "exception": false,
     "start_time": "2022-11-29T05:51:40.025683",
     "status": "completed"
    },
    "tags": []
   },
   "outputs": [],
   "source": [
    "# Confusion matrix where the size of the plot and the text size can be changed\n",
    "\n",
    "# Source: Scikit Learn website\n",
    "# http://scikit-learn.org/stable/auto_examples/\n",
    "# model_selection/plot_confusion_matrix.html#sphx-glr-auto-examples-model-\n",
    "# selection-plot-confusion-matrix-py\n",
    "\n",
    "\n",
    "def plot_confusion_matrix(cm, classes,\n",
    "                          normalize=False,\n",
    "                          title='Confusion matrix',\n",
    "                          cmap=plt.cm.Blues,\n",
    "                         text_size=12):\n",
    "    \"\"\"\n",
    "    This function prints and plots the confusion matrix.\n",
    "    Normalization can be applied by setting `normalize=True`.\n",
    "    \"\"\"\n",
    "    if normalize:\n",
    "        cm = cm.astype('float') / cm.sum(axis=1)[:, np.newaxis]\n",
    "        print(\"Normalized confusion matrix\")\n",
    "    else:\n",
    "        print('Confusion matrix, without normalization')\n",
    "\n",
    "    print(cm)\n",
    "\n",
    "    plt.imshow(cm, interpolation='nearest', cmap=cmap)\n",
    "    plt.title(title)\n",
    "    plt.colorbar()\n",
    "    tick_marks = np.arange(len(classes))\n",
    "    plt.xticks(tick_marks, classes, rotation=45, fontsize=text_size)\n",
    "    plt.yticks(tick_marks, classes, fontsize=text_size)\n",
    "\n",
    "    fmt = '.2f' if normalize else 'd'\n",
    "    thresh = cm.max() / 2.\n",
    "    for i, j in itertools.product(range(cm.shape[0]), range(cm.shape[1])):\n",
    "        plt.text(j, i, format(cm[i, j], fmt),\n",
    "                 horizontalalignment=\"center\",\n",
    "                 color=\"white\" if cm[i, j] > thresh else \"black\", fontsize=text_size)\n",
    "\n",
    "    plt.ylabel('True label', fontsize=text_size)\n",
    "    plt.xlabel('Predicted label', fontsize=text_size)\n",
    "    plt.tight_layout()"
   ]
  },
  {
   "cell_type": "code",
   "execution_count": 16,
   "id": "6223b38c",
   "metadata": {
    "execution": {
     "iopub.execute_input": "2022-11-29T05:51:40.090403Z",
     "iopub.status.busy": "2022-11-29T05:51:40.089750Z",
     "iopub.status.idle": "2022-11-29T05:51:40.233162Z",
     "shell.execute_reply": "2022-11-29T05:51:40.231875Z"
    },
    "papermill": {
     "duration": 0.163457,
     "end_time": "2022-11-29T05:51:40.235994",
     "exception": false,
     "start_time": "2022-11-29T05:51:40.072537",
     "status": "completed"
    },
    "tags": []
   },
   "outputs": [],
   "source": [
    "# Source: https://www.kaggle.com/xhlulu/siim-covid-19-convert-to-jpg-256px\n",
    "\n",
    "from PIL import Image\n",
    "import pydicom\n",
    "from pydicom.pixel_data_handlers.util import apply_voi_lut\n",
    "\n",
    "\n",
    "def read_xray(path, voi_lut = True, fix_monochrome = True):\n",
    "    # Original from: https://www.kaggle.com/raddar/convert-dicom-to-np-array-the-correct-way\n",
    "    dicom = pydicom.read_file(path)\n",
    "    \n",
    "    # VOI LUT (if available by DICOM device) is used to transform raw DICOM data to \n",
    "    # \"human-friendly\" view\n",
    "    if voi_lut:\n",
    "        data = apply_voi_lut(dicom.pixel_array, dicom)\n",
    "    else:\n",
    "        data = dicom.pixel_array\n",
    "               \n",
    "    # depending on this value, X-ray may look inverted - fix that:\n",
    "    if fix_monochrome and dicom.PhotometricInterpretation == \"MONOCHROME1\":\n",
    "        data = np.amax(data) - data\n",
    "        \n",
    "    data = data - np.min(data)\n",
    "    data = data / np.max(data)\n",
    "    data = (data * 255).astype(np.uint8)\n",
    "        \n",
    "    return data\n",
    "\n",
    "\n",
    "\n",
    "\n",
    "def resize(array, size, keep_ratio=False, resample=Image.LANCZOS):\n",
    "    # Original from: https://www.kaggle.com/xhlulu/vinbigdata-process-and-resize-to-image\n",
    "    im = Image.fromarray(array)\n",
    "    \n",
    "    if keep_ratio:\n",
    "        im.thumbnail((size, size), resample)\n",
    "    else:\n",
    "        im = im.resize((size, size), resample)\n",
    "    \n",
    "    return im"
   ]
  },
  {
   "cell_type": "markdown",
   "id": "c96d8c80",
   "metadata": {
    "papermill": {
     "duration": 0.015142,
     "end_time": "2022-11-29T05:51:40.266743",
     "exception": false,
     "start_time": "2022-11-29T05:51:40.251601",
     "status": "completed"
    },
    "tags": []
   },
   "source": [
    "## Make a prediction on the val set"
   ]
  },
  {
   "cell_type": "code",
   "execution_count": 17,
   "id": "e8fb2874",
   "metadata": {
    "execution": {
     "iopub.execute_input": "2022-11-29T05:51:40.299585Z",
     "iopub.status.busy": "2022-11-29T05:51:40.299149Z",
     "iopub.status.idle": "2022-11-29T05:51:42.340551Z",
     "shell.execute_reply": "2022-11-29T05:51:42.339483Z"
    },
    "papermill": {
     "duration": 2.061029,
     "end_time": "2022-11-29T05:51:42.343312",
     "exception": false,
     "start_time": "2022-11-29T05:51:40.282283",
     "status": "completed"
    },
    "tags": []
   },
   "outputs": [
    {
     "data": {
      "text/plain": [
       "132"
      ]
     },
     "execution_count": 17,
     "metadata": {},
     "output_type": "execute_result"
    }
   ],
   "source": [
    "# Create a folder to store the extracted files\n",
    "if os.path.isdir('yolo_images_dir') == False:\n",
    "    yolo_images_dir = 'yolo_images_dir'\n",
    "    os.mkdir(yolo_images_dir)\n",
    "    \n",
    "    \n",
    "    \n",
    "val_fname_list = list(df_val['image_id'])\n",
    "\n",
    "for image_id in val_fname_list:\n",
    "    \n",
    "    fname = image_id + '.png'\n",
    "    \n",
    "    # Copy the image to images\n",
    "    # Set the path to the images here.\n",
    "    shutil.copyfile(\n",
    "        f\"{base_path}/images_dir/images_dir/{fname}\",\n",
    "        f\"yolo_images_dir/{fname}\")\n",
    "    \n",
    "    \n",
    "len(os.listdir('yolo_images_dir'))"
   ]
  },
  {
   "cell_type": "code",
   "execution_count": 18,
   "id": "d854a2a9",
   "metadata": {
    "execution": {
     "iopub.execute_input": "2022-11-29T05:51:42.376780Z",
     "iopub.status.busy": "2022-11-29T05:51:42.376297Z",
     "iopub.status.idle": "2022-11-29T05:51:43.486423Z",
     "shell.execute_reply": "2022-11-29T05:51:43.485216Z"
    },
    "papermill": {
     "duration": 1.130162,
     "end_time": "2022-11-29T05:51:43.489156",
     "exception": false,
     "start_time": "2022-11-29T05:51:42.358994",
     "status": "completed"
    },
    "tags": []
   },
   "outputs": [
    {
     "name": "stdout",
     "output_type": "stream",
     "text": [
      "__notebook__.ipynb  yolo_images_dir  yolov5\r\n"
     ]
    }
   ],
   "source": [
    "!ls"
   ]
  },
  {
   "cell_type": "code",
   "execution_count": 19,
   "id": "6590ca5a",
   "metadata": {
    "execution": {
     "iopub.execute_input": "2022-11-29T05:51:43.524081Z",
     "iopub.status.busy": "2022-11-29T05:51:43.523607Z",
     "iopub.status.idle": "2022-11-29T05:51:44.668985Z",
     "shell.execute_reply": "2022-11-29T05:51:44.667693Z"
    },
    "papermill": {
     "duration": 1.166532,
     "end_time": "2022-11-29T05:51:44.671715",
     "exception": false,
     "start_time": "2022-11-29T05:51:43.505183",
     "status": "completed"
    },
    "tags": []
   },
   "outputs": [
    {
     "name": "stdout",
     "output_type": "stream",
     "text": [
      "/kaggle/working/yolov5\r\n"
     ]
    }
   ],
   "source": [
    "# change the working directory\n",
    "os.chdir('/kaggle/working/yolov5')\n",
    "\n",
    "!pwd"
   ]
  },
  {
   "cell_type": "code",
   "execution_count": 20,
   "id": "4a17c6dd",
   "metadata": {
    "_kg_hide-output": true,
    "execution": {
     "iopub.execute_input": "2022-11-29T05:51:44.705464Z",
     "iopub.status.busy": "2022-11-29T05:51:44.704991Z",
     "iopub.status.idle": "2022-11-29T06:03:01.246574Z",
     "shell.execute_reply": "2022-11-29T06:03:01.245092Z"
    },
    "papermill": {
     "duration": 676.561935,
     "end_time": "2022-11-29T06:03:01.249477",
     "exception": false,
     "start_time": "2022-11-29T05:51:44.687542",
     "status": "completed"
    },
    "tags": []
   },
   "outputs": [
    {
     "name": "stdout",
     "output_type": "stream",
     "text": [
      "Namespace(agnostic_nms=False, augment=False, classes=None, conf_thres=0.25, device='', exist_ok=True, img_size=1024, iou_thres=0.45, name='exp', nosave=False, project='runs/detect', save_conf=True, save_txt=True, source='/kaggle/working/yolo_images_dir', update=False, view_img=False, weights=['/kaggle/input/smart-mammo-data/Exp_50-VAST/exp50_best.pt', '/kaggle/input/smart-mammo-data/Exp_51-VAST/exp51_best.pt'])\r\n",
      "Fusing layers... \r\n",
      "Fusing layers... \r\n",
      "Ensemble created with ['/kaggle/input/smart-mammo-data/Exp_50-VAST/exp50_best.pt', '/kaggle/input/smart-mammo-data/Exp_51-VAST/exp51_best.pt']\r\n",
      "\r\n",
      "/opt/conda/lib/python3.7/site-packages/torch/functional.py:568: UserWarning: torch.meshgrid: in an upcoming release, it will be required to pass the indexing argument. (Triggered internally at  ../aten/src/ATen/native/TensorShape.cpp:2228.)\r\n",
      "  return _VF.meshgrid(tensors, **kwargs)  # type: ignore[attr-defined]\r\n",
      "image 1/132 /kaggle/working/yolo_images_dir/008c66563c73b2f5b8e42915b2cd6af5.png: 1024x736 1 1, Done. (4.456s)\r\n",
      "image 2/132 /kaggle/working/yolo_images_dir/01fb871dc222684a9950609b62b76772.png: 1024x832 1 1, Done. (4.860s)\r\n",
      "image 3/132 /kaggle/working/yolo_images_dir/031592807c30b54e2fb4bd2400e634e8.png: 1024x832 Done. (4.942s)\r\n",
      "image 4/132 /kaggle/working/yolo_images_dir/033e4f9ee05749cd591c958aa873dc8b.png: 1024x832 Done. (5.245s)\r\n",
      "image 5/132 /kaggle/working/yolo_images_dir/06073969e7453f71ac8108c6081dc9b8.png: 1024x832 1 1, Done. (4.927s)\r\n",
      "image 6/132 /kaggle/working/yolo_images_dir/074775a9e94c93ed3ee32a82d2864c68.png: 1024x832 2 1s, Done. (4.696s)\r\n",
      "image 7/132 /kaggle/working/yolo_images_dir/07f468d6fff5b3e3b512e4b95cf0cdda.png: 1024x832 2 1s, Done. (4.806s)\r\n",
      "image 8/132 /kaggle/working/yolo_images_dir/0c48ef2d25c7fe685e4a9d20b676c3a7.png: 1024x832 1 1, Done. (4.635s)\r\n",
      "image 9/132 /kaggle/working/yolo_images_dir/0d0c76cf04069b224806e8d8d3a9351b.png: 1024x832 1 1, Done. (4.784s)\r\n",
      "image 10/132 /kaggle/working/yolo_images_dir/0dc38f7b2936fff46ec10a0beb5aaeb2.png: 1024x832 1 1, Done. (5.226s)\r\n",
      "image 11/132 /kaggle/working/yolo_images_dir/0f0009a94c664c2b67ae78fd675f323c.png: 1024x800 Done. (4.796s)\r\n",
      "image 12/132 /kaggle/working/yolo_images_dir/100f9f1f5392774416f1a1e66a5a4c71.png: 1024x832 1 1, Done. (4.736s)\r\n",
      "image 13/132 /kaggle/working/yolo_images_dir/1176a356c1d5571f4aefeff8fbf5bb4b.png: 1024x832 Done. (4.843s)\r\n",
      "image 14/132 /kaggle/working/yolo_images_dir/11b953e33bdaee7933f8d1db574942af.png: 1024x832 1 1, Done. (4.706s)\r\n",
      "image 15/132 /kaggle/working/yolo_images_dir/1a726ea772cfde63af2de1d9d1fba472.png: 1024x832 1 1, Done. (4.795s)\r\n",
      "image 16/132 /kaggle/working/yolo_images_dir/1bad693bff15cd631e84f1cfc717f3bb.png: 1024x800 Done. (4.672s)\r\n",
      "image 17/132 /kaggle/working/yolo_images_dir/1c77399720e266b2124c6151b7bec82b.png: 1024x832 Done. (5.241s)\r\n",
      "image 18/132 /kaggle/working/yolo_images_dir/1d136d5f293069a1f77f544cf0f8265b.png: 1024x832 2 1s, Done. (4.734s)\r\n",
      "image 19/132 /kaggle/working/yolo_images_dir/20e22b55458ddc1002871f0b10bc0c91.png: 1024x832 1 1, Done. (4.892s)\r\n",
      "image 20/132 /kaggle/working/yolo_images_dir/26eff7e7822b45d98c11fc3e51b46277.png: 1024x832 1 1, Done. (4.802s)\r\n",
      "image 21/132 /kaggle/working/yolo_images_dir/27fdb282ea9e69942db9b9917472932d.png: 1024x832 1 1, Done. (4.872s)\r\n",
      "image 22/132 /kaggle/working/yolo_images_dir/2973bcf878fad1e9edade25be62602ce.png: 1024x736 1 1, Done. (4.272s)\r\n",
      "image 23/132 /kaggle/working/yolo_images_dir/2b5cec9cad04a6c5eaf1cd2ec2e7a6f2.png: 1024x736 1 1, Done. (4.657s)\r\n",
      "image 24/132 /kaggle/working/yolo_images_dir/2cbc958d02aef84dc63e210e2ed810a2.png: 1024x768 Done. (4.531s)\r\n",
      "image 25/132 /kaggle/working/yolo_images_dir/2ce389a2252ceb3a87a7be9a14721692.png: 1024x832 1 1, Done. (4.665s)\r\n",
      "image 26/132 /kaggle/working/yolo_images_dir/30caea823462601262e5d393e6d0312a.png: 1024x832 1 1, Done. (4.633s)\r\n",
      "image 27/132 /kaggle/working/yolo_images_dir/31c3acc9ef4579964abea92c254709a4.png: 1024x832 1 1, Done. (4.762s)\r\n",
      "image 28/132 /kaggle/working/yolo_images_dir/32778aee1d68f09b110dcca3ea5a549e.png: 1024x832 Done. (4.758s)\r\n",
      "image 29/132 /kaggle/working/yolo_images_dir/338460bf0c6de576629169b75370964b.png: 1024x832 1 1, Done. (5.364s)\r\n",
      "image 30/132 /kaggle/working/yolo_images_dir/389c6de05c56e4f55375be89356b31f7.png: 1024x832 1 1, Done. (4.764s)\r\n",
      "image 31/132 /kaggle/working/yolo_images_dir/395bca158c0fcea6171e410a19a019a8.png: 1024x832 Done. (4.927s)\r\n",
      "image 32/132 /kaggle/working/yolo_images_dir/396bea28fd4be11598bc53bf5f2b7460.png: 1024x832 1 1, Done. (4.809s)\r\n",
      "image 33/132 /kaggle/working/yolo_images_dir/39f3ef0e8046a9b4e6c81262d634053d.png: 1024x832 1 1, Done. (4.879s)\r\n",
      "image 34/132 /kaggle/working/yolo_images_dir/4222799fe0cfa6c38deebb89967baec9.png: 1024x832 2 1s, Done. (4.763s)\r\n",
      "image 35/132 /kaggle/working/yolo_images_dir/45a8bc598847fa7a8ccb5f6e77e95ed5.png: 1024x736 1 1, Done. (4.863s)\r\n",
      "image 36/132 /kaggle/working/yolo_images_dir/46d9c0dced48fa61647ce80db623491e.png: 1024x832 1 1, Done. (4.775s)\r\n",
      "image 37/132 /kaggle/working/yolo_images_dir/493609b26e1341ce737a60b5b930a757.png: 1024x832 2 1s, Done. (4.847s)\r\n",
      "image 38/132 /kaggle/working/yolo_images_dir/49cf189f3a033a24396459793ad27017.png: 1024x736 Done. (4.175s)\r\n",
      "image 39/132 /kaggle/working/yolo_images_dir/49d1e8a82b271d3d589dfad38f72f73d.png: 1024x832 1 1, Done. (4.761s)\r\n",
      "image 40/132 /kaggle/working/yolo_images_dir/4b1e47252823c8f580ac4b9e6c2429ce.png: 1024x832 1 1, Done. (4.778s)\r\n",
      "image 41/132 /kaggle/working/yolo_images_dir/52b403c5c51efa04629aebd1629bd1a5.png: 1024x832 2 1s, Done. (5.276s)\r\n",
      "image 42/132 /kaggle/working/yolo_images_dir/53c092e62d94e3193734c7bdf81a6b49.png: 1024x832 2 1s, Done. (4.784s)\r\n",
      "image 43/132 /kaggle/working/yolo_images_dir/54cdbb11f9da7660575eef584b9ce520.png: 1024x832 Done. (4.724s)\r\n",
      "image 44/132 /kaggle/working/yolo_images_dir/592fc7ae253f7e6d8f070f06c5d3bed0.png: 1024x832 Done. (4.766s)\r\n",
      "image 45/132 /kaggle/working/yolo_images_dir/59cdcc53f76f8c12741f7770d8fb372d.png: 1024x736 1 1, Done. (4.188s)\r\n",
      "image 46/132 /kaggle/working/yolo_images_dir/59efa30f975f06c7d17042c190fd7c42.png: 1024x832 1 1, Done. (4.816s)\r\n",
      "image 47/132 /kaggle/working/yolo_images_dir/5d9efa5b29d0b6ac316a010f3f77acf6.png: 1024x832 1 1, Done. (4.711s)\r\n",
      "image 48/132 /kaggle/working/yolo_images_dir/60fafaf810c5967c7f3bc03ebca7591d.png: 1024x832 1 1, Done. (5.168s)\r\n",
      "image 49/132 /kaggle/working/yolo_images_dir/6266ffa44d75d2edc9d3c725b20b6d49.png: 1024x736 1 1, Done. (4.180s)\r\n",
      "image 50/132 /kaggle/working/yolo_images_dir/638d80ea028aed5905c4a2acb4cfbb0f.png: 1024x832 Done. (4.763s)\r\n",
      "image 51/132 /kaggle/working/yolo_images_dir/6392630b844031e3aa5ce15acd2852af.png: 1024x832 Done. (4.708s)\r\n",
      "image 52/132 /kaggle/working/yolo_images_dir/66d392ec44df82ac333d01411a01679d.png: 1024x832 1 1, Done. (4.698s)\r\n",
      "image 53/132 /kaggle/working/yolo_images_dir/6c571a3fb5a3abe21141333f65b5bf09.png: 1024x832 2 1s, Done. (4.744s)\r\n",
      "image 54/132 /kaggle/working/yolo_images_dir/6e4448eaeab5fd0eb114a59553faae7c.png: 1024x832 3 1s, Done. (5.286s)\r\n",
      "image 55/132 /kaggle/working/yolo_images_dir/6ec73d7e74c73265c4f9ed781ccecd71.png: 1024x736 Done. (4.206s)\r\n",
      "image 56/132 /kaggle/working/yolo_images_dir/700d65782e684be66b823b388366620e.png: 1024x832 1 1, Done. (4.721s)\r\n",
      "image 57/132 /kaggle/working/yolo_images_dir/7147d78a9fef08b6eba38c0cae4d822f.png: 1024x832 Done. (4.792s)\r\n",
      "image 58/132 /kaggle/working/yolo_images_dir/726e579eb8982c5fb3c120039a64fe01.png: 1024x832 1 1, Done. (4.726s)\r\n",
      "image 59/132 /kaggle/working/yolo_images_dir/7323314998471cde47c6fba70ae6d32c.png: 1024x736 1 1, Done. (4.337s)\r\n",
      "image 60/132 /kaggle/working/yolo_images_dir/7518414a42a0f0e517b57067066f6dd7.png: 1024x832 Done. (5.214s)\r\n",
      "image 61/132 /kaggle/working/yolo_images_dir/7a53b6689ed19c4006227e46b158906f.png: 1024x832 1 1, Done. (4.720s)\r\n",
      "image 62/132 /kaggle/working/yolo_images_dir/7be2e5f9ade68ae2bfe4e5edb4968654.png: 1024x736 2 1s, Done. (4.204s)\r\n",
      "image 63/132 /kaggle/working/yolo_images_dir/7d0b427e2b5e194df200885b9008a9fb.png: 1024x832 1 1, Done. (4.792s)\r\n",
      "image 64/132 /kaggle/working/yolo_images_dir/7fd757ca1303a6a62f157b83f1f0c929.png: 1024x832 Done. (4.825s)\r\n",
      "image 65/132 /kaggle/working/yolo_images_dir/80440acf117f4cecd3ac74097adc8101.png: 1024x832 1 1, Done. (4.713s)\r\n",
      "image 66/132 /kaggle/working/yolo_images_dir/80ae11a78bfd7c9598138c82cd756ad3.png: 1024x832 1 1, Done. (5.209s)\r\n",
      "image 67/132 /kaggle/working/yolo_images_dir/8294fb1bf4db22fa923e36f8b12997dd.png: 1024x832 1 1, Done. (4.705s)\r\n",
      "image 68/132 /kaggle/working/yolo_images_dir/82ce050e4866fc273dd87e0a7498c0da.png: 1024x832 1 1, Done. (4.750s)\r\n",
      "image 69/132 /kaggle/working/yolo_images_dir/8470557fec9bd5f0f1b30ec48b1d8654.png: 1024x736 1 1, Done. (4.086s)\r\n",
      "image 70/132 /kaggle/working/yolo_images_dir/85939e3cfdb707f342917c1f56a56306.png: 1024x832 Done. (4.792s)\r\n",
      "image 71/132 /kaggle/working/yolo_images_dir/86ab85b00f60d2d8e238594886880438.png: 1024x832 1 1, Done. (4.736s)\r\n",
      "image 72/132 /kaggle/working/yolo_images_dir/899a09abd9ab542682b3a41724bcccdc.png: 1024x736 Done. (4.149s)\r\n",
      "image 73/132 /kaggle/working/yolo_images_dir/8ed0618edab59a40763a118c052a52ba.png: 1024x832 2 1s, Done. (5.417s)\r\n",
      "image 74/132 /kaggle/working/yolo_images_dir/93960b56ba5808e9047aff73cf9b0762.png: 1024x832 Done. (4.747s)\r\n",
      "image 75/132 /kaggle/working/yolo_images_dir/944ae44a56fe698b87f5b435c32b3769.png: 1024x832 1 1, Done. (4.778s)\r\n",
      "image 76/132 /kaggle/working/yolo_images_dir/96eb9c4bdf059f2f8da825bfc0a3ba69.png: 1024x832 1 1, Done. (4.695s)\r\n",
      "image 77/132 /kaggle/working/yolo_images_dir/98325e2b9e96c4423e9818411a7a862f.png: 1024x832 1 1, Done. (4.779s)\r\n",
      "image 78/132 /kaggle/working/yolo_images_dir/98d9121596f36834a1de8441d0aab483.png: 1024x832 Done. (4.951s)\r\n",
      "image 79/132 /kaggle/working/yolo_images_dir/9a728250069ba3419ccc1f35b94bd252.png: 1024x832 Done. (5.564s)\r\n",
      "image 80/132 /kaggle/working/yolo_images_dir/9dc911bbf82a852387976bad85e7a142.png: 1024x832 1 1, Done. (4.935s)\r\n",
      "image 81/132 /kaggle/working/yolo_images_dir/a3214c506a005b639b4d720de9cea847.png: 1024x832 Done. (4.791s)\r\n",
      "image 82/132 /kaggle/working/yolo_images_dir/a4940f4a5e68cc3f959039fc7a7101fa.png: 1024x832 2 1s, Done. (4.697s)\r\n",
      "image 83/132 /kaggle/working/yolo_images_dir/a4d498287af7763bac9ccb7b596d4939.png: 1024x832 1 1, Done. (4.744s)\r\n",
      "image 84/132 /kaggle/working/yolo_images_dir/a7215359f4ab5efc6d81f57543d0a8bd.png: 1024x736 1 1, Done. (4.132s)\r\n",
      "image 85/132 /kaggle/working/yolo_images_dir/a726e03b371093bf18cf884c39dad799.png: 1024x736 1 1, Done. (4.706s)\r\n",
      "image 86/132 /kaggle/working/yolo_images_dir/aa02e8c5422114d20da11c573d0ee8ee.png: 1024x832 Done. (4.629s)\r\n",
      "image 87/132 /kaggle/working/yolo_images_dir/ad1006a223318d07bbc3e58443a621a0.png: 1024x832 1 1, Done. (4.662s)\r\n",
      "image 88/132 /kaggle/working/yolo_images_dir/ae672f355541acfae894998dea1ec998.png: 1024x832 1 1, Done. (4.784s)\r\n",
      "image 89/132 /kaggle/working/yolo_images_dir/af34fd8e49975ab42bd8343e4f5eb821.png: 1024x736 1 1, Done. (4.052s)\r\n",
      "image 90/132 /kaggle/working/yolo_images_dir/b245b5394e517f3950c4268471e92d20.png: 1024x832 Done. (4.642s)\r\n",
      "image 91/132 /kaggle/working/yolo_images_dir/b68bf8e5a0640f159ad977f0e64aac69.png: 1024x832 1 1, Done. (4.688s)\r\n",
      "image 92/132 /kaggle/working/yolo_images_dir/b6db414be07dc1fb3cbf82a9e3a4966a.png: 1024x832 Done. (4.948s)\r\n",
      "image 93/132 /kaggle/working/yolo_images_dir/b74f95f32636aff0b94540891c6b1f14.png: 1024x832 Done. (4.782s)\r\n",
      "image 94/132 /kaggle/working/yolo_images_dir/b7d9bfff242190b8793b2a412ae1d68e.png: 1024x832 1 1, Done. (4.795s)\r\n",
      "image 95/132 /kaggle/working/yolo_images_dir/bb8713e5123f6c09c16aca25c51845b5.png: 1024x832 1 1, Done. (4.709s)\r\n",
      "image 96/132 /kaggle/working/yolo_images_dir/bc44e100d187ad2eecc32236ec7c2b11.png: 1024x832 Done. (4.664s)\r\n",
      "image 97/132 /kaggle/working/yolo_images_dir/c09132c25d096cb951dd2d99f29c8230.png: 1024x832 1 1, Done. (4.656s)\r\n",
      "image 98/132 /kaggle/working/yolo_images_dir/c171fed7a869e9cb41c9a10e7ee6f4f9.png: 1024x832 Done. (5.299s)\r\n",
      "image 99/132 /kaggle/working/yolo_images_dir/c58233033d21865c0c1e8f9b353d60ba.png: 1024x832 Done. (4.797s)\r\n",
      "image 100/132 /kaggle/working/yolo_images_dir/c8fc55b240f0f3dd7c075b367160f289.png: 1024x832 1 1, Done. (4.696s)\r\n",
      "image 101/132 /kaggle/working/yolo_images_dir/c99fc0b9b7bc0618d0b156db5d1905d8.png: 1024x832 Done. (4.756s)\r\n",
      "image 102/132 /kaggle/working/yolo_images_dir/cac15b7c21ed74ac4f86a1adc37cd40e.png: 1024x832 1 1, Done. (4.693s)\r\n",
      "image 103/132 /kaggle/working/yolo_images_dir/cb02caed6492a9619e93a3bd265a9c7f.png: 1024x832 Done. (4.761s)\r\n",
      "image 104/132 /kaggle/working/yolo_images_dir/d55fe35cb1cac106c8b5f05967642991.png: 1024x832 1 1, Done. (5.392s)\r\n",
      "image 105/132 /kaggle/working/yolo_images_dir/da4b052520acb60e2711a091f8f0bba3.png: 1024x832 1 1, Done. (4.778s)\r\n",
      "image 106/132 /kaggle/working/yolo_images_dir/db3d24caffbb3814596361025e73aca3.png: 1024x736 1 1, Done. (4.156s)\r\n",
      "image 107/132 /kaggle/working/yolo_images_dir/db70c6572ab2f8633feb484aa6d7d38d.png: 1024x736 1 1, Done. (4.158s)\r\n",
      "image 108/132 /kaggle/working/yolo_images_dir/dba34fe8cb1a32449568d8da90f786cb.png: 1024x832 Done. (4.598s)\r\n",
      "image 109/132 /kaggle/working/yolo_images_dir/dbfffde4219dfb6aab1a5fe2d21a99d0.png: 1024x832 1 1, Done. (4.635s)\r\n",
      "image 110/132 /kaggle/working/yolo_images_dir/dce7898554efd8b922dd5425d828db8d.png: 1024x832 Done. (5.240s)\r\n",
      "image 111/132 /kaggle/working/yolo_images_dir/dee30355cc67413cbe4c12770a0d088f.png: 1024x832 1 1, Done. (4.733s)\r\n",
      "image 112/132 /kaggle/working/yolo_images_dir/df17a9f399b214cb863d754e376f8673.png: 1024x832 1 1, Done. (4.723s)\r\n",
      "image 113/132 /kaggle/working/yolo_images_dir/df4b1cfb384dab76abc34cc4db0f5b30.png: 1024x832 1 1, Done. (4.664s)\r\n",
      "image 114/132 /kaggle/working/yolo_images_dir/e13c80239d7714e3d964b5f3e37bcff6.png: 1024x832 Done. (4.722s)\r\n",
      "image 115/132 /kaggle/working/yolo_images_dir/e22e24c243bde531bd5ed18e90702768.png: 1024x832 Done. (4.696s)\r\n",
      "image 116/132 /kaggle/working/yolo_images_dir/e358f2f0c30528fdb453c51e21f9e3f1.png: 1024x832 1 1, Done. (5.232s)\r\n",
      "image 117/132 /kaggle/working/yolo_images_dir/e584baaff798425b74b2f255c6eaf02e.png: 1024x768 Done. (4.414s)\r\n",
      "image 118/132 /kaggle/working/yolo_images_dir/e61d36901ebb6b37ac41f6ca84e5c81b.png: 1024x832 Done. (4.798s)\r\n",
      "image 119/132 /kaggle/working/yolo_images_dir/e6a5252283c2aea95e089c564ca6260f.png: 1024x832 1 1, Done. (4.784s)\r\n",
      "image 120/132 /kaggle/working/yolo_images_dir/e788be650ac8e1f81beda55451f217e3.png: 1024x832 1 1, Done. (4.736s)\r\n",
      "image 121/132 /kaggle/working/yolo_images_dir/e793562ebc24362abe53753378f9cf28.png: 1024x768 1 1, Done. (4.377s)\r\n",
      "image 122/132 /kaggle/working/yolo_images_dir/e79f419d756e9902fc6ff80ca0d7f7a3.png: 1024x832 1 1, Done. (4.743s)\r\n",
      "image 123/132 /kaggle/working/yolo_images_dir/e9c639f5926584509413a6d71f7be603.png: 1024x832 1 1, Done. (5.156s)\r\n",
      "image 124/132 /kaggle/working/yolo_images_dir/eceb26b4e6e65380b4e320233a755cfc.png: 1024x832 1 1, Done. (4.679s)\r\n",
      "image 125/132 /kaggle/working/yolo_images_dir/f1f79501410a98782c0a03b48e66df83.png: 1024x832 Done. (4.776s)\r\n",
      "image 126/132 /kaggle/working/yolo_images_dir/f5b9c502a087f77d0606b0291a2e0606.png: 1024x832 1 1, Done. (4.714s)\r\n",
      "image 127/132 /kaggle/working/yolo_images_dir/f75e7aff7268ba2e462c284e30cfc5b5.png: 1024x832 1 1, Done. (4.785s)\r\n",
      "image 128/132 /kaggle/working/yolo_images_dir/f78853b3aa2445fb60d677f6f5d82ca7.png: 1024x736 Done. (4.157s)\r\n",
      "image 129/132 /kaggle/working/yolo_images_dir/f978cb9d32a74171873fb280779aa37f.png: 1024x736 2 1s, Done. (4.815s)\r\n",
      "image 130/132 /kaggle/working/yolo_images_dir/f9a54449757586583a8f36ccc821f7ac.png: 1024x832 1 1, Done. (4.640s)\r\n",
      "image 131/132 /kaggle/working/yolo_images_dir/fa2f7816bf1b07f2104aa4edeff9b107.png: 1024x832 2 1s, Done. (4.619s)\r\n",
      "image 132/132 /kaggle/working/yolo_images_dir/fc6a348a61d4282a66ac2dc6dbec5981.png: 1024x832 Done. (4.676s)\r\n",
      "Results saved to runs/detect/exp\r\n",
      "90 labels saved to runs/detect/exp/labels\r\n",
      "Done. (665.582s)\r\n"
     ]
    }
   ],
   "source": [
    "# Make a prediction on all images in images_dir\n",
    "\n",
    "# The model only creates a txt file if it finds objects on an image.\n",
    "\n",
    "test_images_path = '/kaggle/working/yolo_images_dir'\n",
    "#yolo_model_path = '/kaggle/working/best.pt'\n",
    "exp50_model_path = '/kaggle/input/smart-mammo-data/Exp_50-VAST/exp50_best.pt'\n",
    "exp51_model_path = '/kaggle/input/smart-mammo-data/Exp_51-VAST/exp51_best.pt'\n",
    "\n",
    "# Ensembling two Yolo models\n",
    "# How to ensemble Yolov5 models:\n",
    "# Ref: https://github.com/ultralytics/yolov5/issues/318\n",
    "\n",
    "!python detect.py --source $test_images_path --weights $exp50_model_path $exp51_model_path --img $IMAGE_SIZE --save-txt --save-conf --exist-ok"
   ]
  },
  {
   "cell_type": "markdown",
   "id": "9ec37810",
   "metadata": {
    "papermill": {
     "duration": 0.023598,
     "end_time": "2022-11-29T06:03:01.298369",
     "exception": false,
     "start_time": "2022-11-29T06:03:01.274771",
     "status": "completed"
    },
    "tags": []
   },
   "source": [
    "## Process the predictions"
   ]
  },
  {
   "cell_type": "code",
   "execution_count": 21,
   "id": "7cbe69df",
   "metadata": {
    "execution": {
     "iopub.execute_input": "2022-11-29T06:03:01.347921Z",
     "iopub.status.busy": "2022-11-29T06:03:01.347514Z",
     "iopub.status.idle": "2022-11-29T06:03:01.354408Z",
     "shell.execute_reply": "2022-11-29T06:03:01.353011Z"
    },
    "papermill": {
     "duration": 0.0347,
     "end_time": "2022-11-29T06:03:01.356630",
     "exception": false,
     "start_time": "2022-11-29T06:03:01.321930",
     "status": "completed"
    },
    "tags": []
   },
   "outputs": [
    {
     "name": "stdout",
     "output_type": "stream",
     "text": [
      "90\n",
      "01fb871dc222684a9950609b62b76772.txt\n"
     ]
    }
   ],
   "source": [
    "txt_files_list = os.listdir('runs/detect/exp/labels')\n",
    "\n",
    "print(len(txt_files_list))\n",
    "print(txt_files_list[0])"
   ]
  },
  {
   "cell_type": "code",
   "execution_count": 22,
   "id": "1a9e6c66",
   "metadata": {
    "execution": {
     "iopub.execute_input": "2022-11-29T06:03:01.406018Z",
     "iopub.status.busy": "2022-11-29T06:03:01.405571Z",
     "iopub.status.idle": "2022-11-29T06:03:01.674469Z",
     "shell.execute_reply": "2022-11-29T06:03:01.673187Z"
    },
    "papermill": {
     "duration": 0.29762,
     "end_time": "2022-11-29T06:03:01.677932",
     "exception": false,
     "start_time": "2022-11-29T06:03:01.380312",
     "status": "completed"
    },
    "tags": []
   },
   "outputs": [
    {
     "name": "stdout",
     "output_type": "stream",
     "text": [
      "90\n",
      "90\n",
      "(105, 7)\n"
     ]
    },
    {
     "data": {
      "text/html": [
       "<div>\n",
       "<style scoped>\n",
       "    .dataframe tbody tr th:only-of-type {\n",
       "        vertical-align: middle;\n",
       "    }\n",
       "\n",
       "    .dataframe tbody tr th {\n",
       "        vertical-align: top;\n",
       "    }\n",
       "\n",
       "    .dataframe thead th {\n",
       "        text-align: right;\n",
       "    }\n",
       "</style>\n",
       "<table border=\"1\" class=\"dataframe\">\n",
       "  <thead>\n",
       "    <tr style=\"text-align: right;\">\n",
       "      <th></th>\n",
       "      <th>class</th>\n",
       "      <th>x-center</th>\n",
       "      <th>y-center</th>\n",
       "      <th>bbox_width</th>\n",
       "      <th>bbox_height</th>\n",
       "      <th>conf-score</th>\n",
       "      <th>id</th>\n",
       "    </tr>\n",
       "  </thead>\n",
       "  <tbody>\n",
       "    <tr>\n",
       "      <th>0</th>\n",
       "      <td>1</td>\n",
       "      <td>0.228750</td>\n",
       "      <td>0.416998</td>\n",
       "      <td>0.064643</td>\n",
       "      <td>0.055145</td>\n",
       "      <td>0.303736</td>\n",
       "      <td>01fb871dc222684a9950609b62b76772.png</td>\n",
       "    </tr>\n",
       "    <tr>\n",
       "      <th>0</th>\n",
       "      <td>1</td>\n",
       "      <td>0.775357</td>\n",
       "      <td>0.465463</td>\n",
       "      <td>0.117857</td>\n",
       "      <td>0.102615</td>\n",
       "      <td>0.523016</td>\n",
       "      <td>e788be650ac8e1f81beda55451f217e3.png</td>\n",
       "    </tr>\n",
       "    <tr>\n",
       "      <th>0</th>\n",
       "      <td>1</td>\n",
       "      <td>0.046786</td>\n",
       "      <td>0.687749</td>\n",
       "      <td>0.076429</td>\n",
       "      <td>0.060546</td>\n",
       "      <td>0.270443</td>\n",
       "      <td>07f468d6fff5b3e3b512e4b95cf0cdda.png</td>\n",
       "    </tr>\n",
       "    <tr>\n",
       "      <th>1</th>\n",
       "      <td>1</td>\n",
       "      <td>0.286429</td>\n",
       "      <td>0.511228</td>\n",
       "      <td>0.113571</td>\n",
       "      <td>0.086128</td>\n",
       "      <td>0.281382</td>\n",
       "      <td>07f468d6fff5b3e3b512e4b95cf0cdda.png</td>\n",
       "    </tr>\n",
       "    <tr>\n",
       "      <th>0</th>\n",
       "      <td>1</td>\n",
       "      <td>0.807143</td>\n",
       "      <td>0.416572</td>\n",
       "      <td>0.110000</td>\n",
       "      <td>0.089539</td>\n",
       "      <td>0.281311</td>\n",
       "      <td>074775a9e94c93ed3ee32a82d2864c68.png</td>\n",
       "    </tr>\n",
       "  </tbody>\n",
       "</table>\n",
       "</div>"
      ],
      "text/plain": [
       "   class  x-center  y-center  bbox_width  bbox_height  conf-score  \\\n",
       "0      1  0.228750  0.416998    0.064643     0.055145    0.303736   \n",
       "0      1  0.775357  0.465463    0.117857     0.102615    0.523016   \n",
       "0      1  0.046786  0.687749    0.076429     0.060546    0.270443   \n",
       "1      1  0.286429  0.511228    0.113571     0.086128    0.281382   \n",
       "0      1  0.807143  0.416572    0.110000     0.089539    0.281311   \n",
       "\n",
       "                                     id  \n",
       "0  01fb871dc222684a9950609b62b76772.png  \n",
       "0  e788be650ac8e1f81beda55451f217e3.png  \n",
       "0  07f468d6fff5b3e3b512e4b95cf0cdda.png  \n",
       "1  07f468d6fff5b3e3b512e4b95cf0cdda.png  \n",
       "0  074775a9e94c93ed3ee32a82d2864c68.png  "
      ]
     },
     "execution_count": 22,
     "metadata": {},
     "output_type": "execute_result"
    }
   ],
   "source": [
    "# Put the info inside all the txt files into one dataframe.\n",
    "# Remember that if the image does not have any bounding boxes\n",
    "# then Yolo does not create a txt file for it.\n",
    "\n",
    "txt_files_list = os.listdir('runs/detect/exp/labels')\n",
    "\n",
    "for i, txt_file in enumerate(txt_files_list):\n",
    "    \n",
    "    # set the path\n",
    "    path = f'runs/detect/exp/labels/{txt_file}'\n",
    "    \n",
    "    # create a list of column names\n",
    "    cols = ['class', 'x-center', 'y-center', 'bbox_width', 'bbox_height', 'conf-score']\n",
    "\n",
    "    # put the file contents into a dataframe\n",
    "    df = pd.read_csv(path, sep=\" \", header=None)\n",
    "    \n",
    "    # add the column names to the datafrae\n",
    "    df.columns = cols\n",
    "    \n",
    "    # Split the txt fname on the full stop and choose the first item \n",
    "    # in the list. The add the .jpg extension.\n",
    "    # 87a0829f53c1.txt becomes 87a0829f53c1_image\n",
    "    #fname = txt_file.split('.')[0] + '.png'\n",
    "    fname = txt_file.replace(\"txt\", \"png\")\n",
    "    \n",
    "    # add a new column with the fname\n",
    "    df['id'] = fname\n",
    " \n",
    "    # stack the dataframes for each txt file\n",
    "    if i == 0:\n",
    "        \n",
    "        df_test_preds = df\n",
    "    else:\n",
    "        \n",
    "        df_test_preds = pd.concat([df_test_preds, df], axis=0)\n",
    "       \n",
    "    \n",
    "    \n",
    "print(len(txt_files_list))\n",
    "print(df_test_preds['id'].nunique())\n",
    "print(df_test_preds.shape)\n",
    "\n",
    "df_test_preds.head()"
   ]
  },
  {
   "cell_type": "code",
   "execution_count": null,
   "id": "e2c06646",
   "metadata": {
    "papermill": {
     "duration": 0.023928,
     "end_time": "2022-11-29T06:03:01.726005",
     "exception": false,
     "start_time": "2022-11-29T06:03:01.702077",
     "status": "completed"
    },
    "tags": []
   },
   "outputs": [],
   "source": []
  },
  {
   "cell_type": "code",
   "execution_count": 23,
   "id": "f9e05eff",
   "metadata": {
    "execution": {
     "iopub.execute_input": "2022-11-29T06:03:01.776167Z",
     "iopub.status.busy": "2022-11-29T06:03:01.775589Z",
     "iopub.status.idle": "2022-11-29T06:03:01.791998Z",
     "shell.execute_reply": "2022-11-29T06:03:01.790975Z"
    },
    "papermill": {
     "duration": 0.04407,
     "end_time": "2022-11-29T06:03:01.794216",
     "exception": false,
     "start_time": "2022-11-29T06:03:01.750146",
     "status": "completed"
    },
    "tags": []
   },
   "outputs": [
    {
     "data": {
      "text/plain": [
       "1    103\n",
       "0     43\n",
       "Name: preds, dtype: int64"
      ]
     },
     "execution_count": 23,
     "metadata": {},
     "output_type": "execute_result"
    }
   ],
   "source": [
    "# Add the predictions to df_val\n",
    "\n",
    "# reset the index\n",
    "df_val = df_val.reset_index(drop=True)\n",
    "\n",
    "# create a new column called 'id'\n",
    "df_val['id'] =  df_val['image_id'] + '.png'\n",
    "\n",
    "val_pred_list = []\n",
    "pred_rel_bbox_list = []\n",
    "\n",
    "pred_list = list(df_test_preds['id'])\n",
    "\n",
    "for i in range(0, len(df_val)):\n",
    "    \n",
    "    #fname = df_val.loc[i, 'study_slice']\n",
    "    #fname = study_slice + '.png'\n",
    "    \n",
    "    # get the fname\n",
    "    fname = df_val.loc[i, 'id']\n",
    "    \n",
    "    # The fname will only be in the pred list if Yolo created a txt file for the val image.\n",
    "    # Yolo will only create a txt file if a fracture was detected on the image.\n",
    "    if fname in pred_list:\n",
    "        \n",
    "        val_pred_list.append(1)\n",
    "\n",
    "    else:\n",
    "        val_pred_list.append(0)\n",
    "    \n",
    "    \n",
    "df_val['preds'] = val_pred_list\n",
    "\n",
    "# Check the distribution of the predicted classes\n",
    "df_val['preds'].value_counts()"
   ]
  },
  {
   "cell_type": "code",
   "execution_count": 24,
   "id": "848da24a",
   "metadata": {
    "execution": {
     "iopub.execute_input": "2022-11-29T06:03:01.844669Z",
     "iopub.status.busy": "2022-11-29T06:03:01.844289Z",
     "iopub.status.idle": "2022-11-29T06:03:01.851426Z",
     "shell.execute_reply": "2022-11-29T06:03:01.850345Z"
    },
    "papermill": {
     "duration": 0.035309,
     "end_time": "2022-11-29T06:03:01.853767",
     "exception": false,
     "start_time": "2022-11-29T06:03:01.818458",
     "status": "completed"
    },
    "tags": []
   },
   "outputs": [
    {
     "data": {
      "text/plain": [
       "Index(['study_id', 'series_id', 'image_id', 'laterality', 'view_position',\n",
       "       'height', 'width', 'breast_birads', 'breast_density',\n",
       "       'finding_categories', 'finding_birads', 'xmin', 'ymin', 'xmax', 'ymax',\n",
       "       'split', 'path', 'num_findings', 'target', 'fold', 'boxes', 'id',\n",
       "       'preds'],\n",
       "      dtype='object')"
      ]
     },
     "execution_count": 24,
     "metadata": {},
     "output_type": "execute_result"
    }
   ],
   "source": [
    "df_val.columns"
   ]
  },
  {
   "cell_type": "code",
   "execution_count": null,
   "id": "b6cf122b",
   "metadata": {
    "papermill": {
     "duration": 0.024273,
     "end_time": "2022-11-29T06:03:01.903205",
     "exception": false,
     "start_time": "2022-11-29T06:03:01.878932",
     "status": "completed"
    },
    "tags": []
   },
   "outputs": [],
   "source": []
  },
  {
   "cell_type": "markdown",
   "id": "c9cd36db",
   "metadata": {
    "papermill": {
     "duration": 0.024503,
     "end_time": "2022-11-29T06:03:01.952873",
     "exception": false,
     "start_time": "2022-11-29T06:03:01.928370",
     "status": "completed"
    },
    "tags": []
   },
   "source": [
    "## Convert the true bboxes into masks"
   ]
  },
  {
   "cell_type": "code",
   "execution_count": 25,
   "id": "9eb928f1",
   "metadata": {
    "execution": {
     "iopub.execute_input": "2022-11-29T06:03:02.004529Z",
     "iopub.status.busy": "2022-11-29T06:03:02.004072Z",
     "iopub.status.idle": "2022-11-29T06:03:03.095126Z",
     "shell.execute_reply": "2022-11-29T06:03:03.093853Z"
    },
    "papermill": {
     "duration": 1.120269,
     "end_time": "2022-11-29T06:03:03.097834",
     "exception": false,
     "start_time": "2022-11-29T06:03:01.977565",
     "status": "completed"
    },
    "tags": []
   },
   "outputs": [
    {
     "name": "stdout",
     "output_type": "stream",
     "text": [
      "/kaggle/working/yolov5\r\n"
     ]
    }
   ],
   "source": [
    "!pwd"
   ]
  },
  {
   "cell_type": "code",
   "execution_count": 26,
   "id": "8546fb2a",
   "metadata": {
    "execution": {
     "iopub.execute_input": "2022-11-29T06:03:03.149628Z",
     "iopub.status.busy": "2022-11-29T06:03:03.149217Z",
     "iopub.status.idle": "2022-11-29T06:03:04.236635Z",
     "shell.execute_reply": "2022-11-29T06:03:04.235206Z"
    },
    "papermill": {
     "duration": 1.116852,
     "end_time": "2022-11-29T06:03:04.239567",
     "exception": false,
     "start_time": "2022-11-29T06:03:03.122715",
     "status": "completed"
    },
    "tags": []
   },
   "outputs": [
    {
     "name": "stdout",
     "output_type": "stream",
     "text": [
      "/kaggle/working\r\n"
     ]
    }
   ],
   "source": [
    "# change the working directory\n",
    "os.chdir('/kaggle/working/')\n",
    "\n",
    "!pwd"
   ]
  },
  {
   "cell_type": "code",
   "execution_count": 27,
   "id": "42c042e5",
   "metadata": {
    "execution": {
     "iopub.execute_input": "2022-11-29T06:03:04.293502Z",
     "iopub.status.busy": "2022-11-29T06:03:04.292408Z",
     "iopub.status.idle": "2022-11-29T06:03:05.386658Z",
     "shell.execute_reply": "2022-11-29T06:03:05.385488Z"
    },
    "papermill": {
     "duration": 1.124032,
     "end_time": "2022-11-29T06:03:05.389171",
     "exception": false,
     "start_time": "2022-11-29T06:03:04.265139",
     "status": "completed"
    },
    "tags": []
   },
   "outputs": [
    {
     "name": "stdout",
     "output_type": "stream",
     "text": [
      "__notebook__.ipynb  true_masks_dir  yolo_images_dir  yolov5\r\n"
     ]
    }
   ],
   "source": [
    "# Create a folder to store the true val masks\n",
    "\n",
    "if os.path.isdir('true_masks_dir') != True:\n",
    "    \n",
    "    true_masks_dir = 'true_masks_dir'\n",
    "    os.mkdir(true_masks_dir)\n",
    "    \n",
    "!ls"
   ]
  },
  {
   "cell_type": "code",
   "execution_count": 28,
   "id": "2a94b576",
   "metadata": {
    "execution": {
     "iopub.execute_input": "2022-11-29T06:03:05.441643Z",
     "iopub.status.busy": "2022-11-29T06:03:05.441208Z",
     "iopub.status.idle": "2022-11-29T06:03:28.098703Z",
     "shell.execute_reply": "2022-11-29T06:03:28.097659Z"
    },
    "papermill": {
     "duration": 22.686258,
     "end_time": "2022-11-29T06:03:28.100939",
     "exception": false,
     "start_time": "2022-11-29T06:03:05.414681",
     "status": "completed"
    },
    "tags": []
   },
   "outputs": [
    {
     "data": {
      "application/vnd.jupyter.widget-view+json": {
       "model_id": "b5ddbaa4c50942089197cbe94f9fa8c5",
       "version_major": 2,
       "version_minor": 0
      },
      "text/plain": [
       "  0%|          | 0/146 [00:00<?, ?it/s]"
      ]
     },
     "metadata": {},
     "output_type": "display_data"
    },
    {
     "data": {
      "text/plain": [
       "132"
      ]
     },
     "execution_count": 28,
     "metadata": {},
     "output_type": "execute_result"
    }
   ],
   "source": [
    "# Create true val masks\n",
    "\n",
    "df = df_val.reset_index(drop=True)\n",
    "\n",
    "saved_list = []\n",
    "\n",
    "for index in tqdm(range(0, len(df)), total=len(df)):\n",
    "    \n",
    "    target = df.loc[index, 'target']\n",
    "    \n",
    "    image_id = df.loc[index, 'image_id']\n",
    "    \n",
    "    fname = image_id + '.png'\n",
    "    \n",
    "    # Read the image using cv2.\n",
    "    # We use cv2 because it's the fastest by far.\n",
    "    # But be careful. Keep in mind that cv2 uses a (width, height) input format\n",
    "    # instead of the (height, width) format used by matplotlib.\n",
    "    # Also, cv2 reads images in BGR format by default instead of RGB.\n",
    "    # If your images look blue then they have been read in BGR format.\n",
    "    path = base_path + 'images_dir/images_dir/' + image_id + '.png'\n",
    "    image = cv2.imread(path)\n",
    "    \n",
    "    # cv2 reads in BGR format therefore convert from BGR to RGB.\n",
    "    image = cv2.cvtColor(image, cv2.COLOR_BGR2RGB)\n",
    "\n",
    "    # create a blank mask\n",
    "    mask = np.zeros((image.shape[0], image.shape[1]))\n",
    "    \n",
    "    # Only create a mask if the target is 1 else the\n",
    "    # blank mask will be saved.\n",
    "    if target == 1:\n",
    "        \n",
    "        if fname not in saved_list:\n",
    "\n",
    "            x = round(df.loc[index, 'xmin'])\n",
    "            y = round(df.loc[index, 'ymin'])\n",
    "            xmax = round(df.loc[index, 'xmax'])\n",
    "            ymax = round(df.loc[index, 'ymax'])\n",
    "\n",
    "            w = xmax - x\n",
    "            h = ymax - y\n",
    "\n",
    "            # Add the bbox mask to the blank mask created above.\n",
    "            # Remember that in images the origin coord (0,0) is\n",
    "            # in the top left corner and not in the botton left corner\n",
    "            # like on a graph.\n",
    "            mask[y:y+h, x:x+w] = 1\n",
    "            \n",
    "        else: # Some images have more than on bbox\n",
    "            \n",
    "            # Load the previously saved mask\n",
    "            path = 'true_masks_dir/' + fname\n",
    "            mask = plt.imread(path)\n",
    "            \n",
    "            x = round(df.loc[index, 'xmin'])\n",
    "            y = round(df.loc[index, 'ymin'])\n",
    "            xmax = round(df.loc[index, 'xmax'])\n",
    "            ymax = round(df.loc[index, 'ymax'])\n",
    "\n",
    "            w = xmax - x\n",
    "            h = ymax - y\n",
    "\n",
    "            # Add the bbox mask to the blank mask created above.\n",
    "            # Remember that in images the origin coord (0,0) is\n",
    "            # in the top left corner and not in the botton left corner\n",
    "            # like on a graph.\n",
    "            mask[y:y+h, x:x+w] = 1\n",
    "            \n",
    "    \n",
    "    # Save the mask as an image in the folder\n",
    "    # that we created.\n",
    "    #fname = image_id + '.png'\n",
    "    dst = os.path.join(true_masks_dir, fname)\n",
    "    \n",
    "    cv2.imwrite(dst, mask)\n",
    "    \n",
    "    saved_list.append(fname)\n",
    "    \n",
    "    \n",
    "\n",
    "# Check how mane files are in the new directory\n",
    "\n",
    "file_list = os.listdir('true_masks_dir')\n",
    "\n",
    "len(file_list)"
   ]
  },
  {
   "cell_type": "code",
   "execution_count": 29,
   "id": "5a9d35b6",
   "metadata": {
    "execution": {
     "iopub.execute_input": "2022-11-29T06:03:28.152560Z",
     "iopub.status.busy": "2022-11-29T06:03:28.152175Z",
     "iopub.status.idle": "2022-11-29T06:03:29.238918Z",
     "shell.execute_reply": "2022-11-29T06:03:29.237525Z"
    },
    "papermill": {
     "duration": 1.115495,
     "end_time": "2022-11-29T06:03:29.241515",
     "exception": false,
     "start_time": "2022-11-29T06:03:28.126020",
     "status": "completed"
    },
    "tags": []
   },
   "outputs": [
    {
     "name": "stdout",
     "output_type": "stream",
     "text": [
      "(3518, 2800)\n"
     ]
    },
    {
     "data": {
      "text/plain": [
       "<matplotlib.image.AxesImage at 0x7f9fc8117d10>"
      ]
     },
     "execution_count": 29,
     "metadata": {},
     "output_type": "execute_result"
    },
    {
     "data": {
      "image/png": "[encoded data removed]",
      "text/plain": [
       "<Figure size 432x288 with 1 Axes>"
      ]
     },
     "metadata": {
      "needs_background": "light"
     },
     "output_type": "display_data"
    }
   ],
   "source": [
    "true_mask_list = os.listdir('true_masks_dir')\n",
    "\n",
    "i = 0\n",
    "\n",
    "path = 'true_masks_dir/' + true_mask_list[i]\n",
    "\n",
    "image = plt.imread(path)\n",
    "\n",
    "print(image.shape)\n",
    "\n",
    "plt.imshow(image)"
   ]
  },
  {
   "cell_type": "markdown",
   "id": "055b7d19",
   "metadata": {
    "papermill": {
     "duration": 0.024794,
     "end_time": "2022-11-29T06:03:29.291943",
     "exception": false,
     "start_time": "2022-11-29T06:03:29.267149",
     "status": "completed"
    },
    "tags": []
   },
   "source": [
    "## Convert the pred bboxes into masks"
   ]
  },
  {
   "cell_type": "code",
   "execution_count": 30,
   "id": "767c094b",
   "metadata": {
    "execution": {
     "iopub.execute_input": "2022-11-29T06:03:29.345000Z",
     "iopub.status.busy": "2022-11-29T06:03:29.343992Z",
     "iopub.status.idle": "2022-11-29T06:03:29.359463Z",
     "shell.execute_reply": "2022-11-29T06:03:29.358284Z"
    },
    "papermill": {
     "duration": 0.044202,
     "end_time": "2022-11-29T06:03:29.362079",
     "exception": false,
     "start_time": "2022-11-29T06:03:29.317877",
     "status": "completed"
    },
    "tags": []
   },
   "outputs": [
    {
     "data": {
      "text/html": [
       "<div>\n",
       "<style scoped>\n",
       "    .dataframe tbody tr th:only-of-type {\n",
       "        vertical-align: middle;\n",
       "    }\n",
       "\n",
       "    .dataframe tbody tr th {\n",
       "        vertical-align: top;\n",
       "    }\n",
       "\n",
       "    .dataframe thead th {\n",
       "        text-align: right;\n",
       "    }\n",
       "</style>\n",
       "<table border=\"1\" class=\"dataframe\">\n",
       "  <thead>\n",
       "    <tr style=\"text-align: right;\">\n",
       "      <th></th>\n",
       "      <th>class</th>\n",
       "      <th>x-center</th>\n",
       "      <th>y-center</th>\n",
       "      <th>bbox_width</th>\n",
       "      <th>bbox_height</th>\n",
       "      <th>conf-score</th>\n",
       "      <th>id</th>\n",
       "    </tr>\n",
       "  </thead>\n",
       "  <tbody>\n",
       "    <tr>\n",
       "      <th>0</th>\n",
       "      <td>1</td>\n",
       "      <td>0.228750</td>\n",
       "      <td>0.416998</td>\n",
       "      <td>0.064643</td>\n",
       "      <td>0.055145</td>\n",
       "      <td>0.303736</td>\n",
       "      <td>01fb871dc222684a9950609b62b76772.png</td>\n",
       "    </tr>\n",
       "    <tr>\n",
       "      <th>0</th>\n",
       "      <td>1</td>\n",
       "      <td>0.775357</td>\n",
       "      <td>0.465463</td>\n",
       "      <td>0.117857</td>\n",
       "      <td>0.102615</td>\n",
       "      <td>0.523016</td>\n",
       "      <td>e788be650ac8e1f81beda55451f217e3.png</td>\n",
       "    </tr>\n",
       "    <tr>\n",
       "      <th>0</th>\n",
       "      <td>1</td>\n",
       "      <td>0.046786</td>\n",
       "      <td>0.687749</td>\n",
       "      <td>0.076429</td>\n",
       "      <td>0.060546</td>\n",
       "      <td>0.270443</td>\n",
       "      <td>07f468d6fff5b3e3b512e4b95cf0cdda.png</td>\n",
       "    </tr>\n",
       "    <tr>\n",
       "      <th>1</th>\n",
       "      <td>1</td>\n",
       "      <td>0.286429</td>\n",
       "      <td>0.511228</td>\n",
       "      <td>0.113571</td>\n",
       "      <td>0.086128</td>\n",
       "      <td>0.281382</td>\n",
       "      <td>07f468d6fff5b3e3b512e4b95cf0cdda.png</td>\n",
       "    </tr>\n",
       "    <tr>\n",
       "      <th>0</th>\n",
       "      <td>1</td>\n",
       "      <td>0.807143</td>\n",
       "      <td>0.416572</td>\n",
       "      <td>0.110000</td>\n",
       "      <td>0.089539</td>\n",
       "      <td>0.281311</td>\n",
       "      <td>074775a9e94c93ed3ee32a82d2864c68.png</td>\n",
       "    </tr>\n",
       "  </tbody>\n",
       "</table>\n",
       "</div>"
      ],
      "text/plain": [
       "   class  x-center  y-center  bbox_width  bbox_height  conf-score  \\\n",
       "0      1  0.228750  0.416998    0.064643     0.055145    0.303736   \n",
       "0      1  0.775357  0.465463    0.117857     0.102615    0.523016   \n",
       "0      1  0.046786  0.687749    0.076429     0.060546    0.270443   \n",
       "1      1  0.286429  0.511228    0.113571     0.086128    0.281382   \n",
       "0      1  0.807143  0.416572    0.110000     0.089539    0.281311   \n",
       "\n",
       "                                     id  \n",
       "0  01fb871dc222684a9950609b62b76772.png  \n",
       "0  e788be650ac8e1f81beda55451f217e3.png  \n",
       "0  07f468d6fff5b3e3b512e4b95cf0cdda.png  \n",
       "1  07f468d6fff5b3e3b512e4b95cf0cdda.png  \n",
       "0  074775a9e94c93ed3ee32a82d2864c68.png  "
      ]
     },
     "execution_count": 30,
     "metadata": {},
     "output_type": "execute_result"
    }
   ],
   "source": [
    "df_test_preds.head()"
   ]
  },
  {
   "cell_type": "code",
   "execution_count": 31,
   "id": "d551cc8d",
   "metadata": {
    "execution": {
     "iopub.execute_input": "2022-11-29T06:03:29.417197Z",
     "iopub.status.busy": "2022-11-29T06:03:29.416441Z",
     "iopub.status.idle": "2022-11-29T06:03:30.508122Z",
     "shell.execute_reply": "2022-11-29T06:03:30.506731Z"
    },
    "papermill": {
     "duration": 1.122839,
     "end_time": "2022-11-29T06:03:30.511133",
     "exception": false,
     "start_time": "2022-11-29T06:03:29.388294",
     "status": "completed"
    },
    "tags": []
   },
   "outputs": [
    {
     "name": "stdout",
     "output_type": "stream",
     "text": [
      "__notebook__.ipynb  pred_masks_dir  true_masks_dir  yolo_images_dir  yolov5\r\n"
     ]
    }
   ],
   "source": [
    "# Create a folder to store the true val masks\n",
    "\n",
    "if os.path.isdir('pred_masks_dir') != True:\n",
    "    \n",
    "    pred_masks_dir = 'pred_masks_dir'\n",
    "    os.mkdir(pred_masks_dir)\n",
    "    \n",
    "!ls"
   ]
  },
  {
   "cell_type": "code",
   "execution_count": 32,
   "id": "7d123143",
   "metadata": {
    "execution": {
     "iopub.execute_input": "2022-11-29T06:03:30.565959Z",
     "iopub.status.busy": "2022-11-29T06:03:30.565522Z",
     "iopub.status.idle": "2022-11-29T06:03:30.574954Z",
     "shell.execute_reply": "2022-11-29T06:03:30.573804Z"
    },
    "papermill": {
     "duration": 0.039567,
     "end_time": "2022-11-29T06:03:30.577420",
     "exception": false,
     "start_time": "2022-11-29T06:03:30.537853",
     "status": "completed"
    },
    "tags": []
   },
   "outputs": [
    {
     "data": {
      "text/plain": [
       "90"
      ]
     },
     "execution_count": 32,
     "metadata": {},
     "output_type": "execute_result"
    }
   ],
   "source": [
    "df_test_preds['id'].nunique()"
   ]
  },
  {
   "cell_type": "code",
   "execution_count": 33,
   "id": "447ae83b",
   "metadata": {
    "execution": {
     "iopub.execute_input": "2022-11-29T06:03:30.631159Z",
     "iopub.status.busy": "2022-11-29T06:03:30.630450Z",
     "iopub.status.idle": "2022-11-29T06:03:49.056935Z",
     "shell.execute_reply": "2022-11-29T06:03:49.055876Z"
    },
    "papermill": {
     "duration": 18.456088,
     "end_time": "2022-11-29T06:03:49.059270",
     "exception": false,
     "start_time": "2022-11-29T06:03:30.603182",
     "status": "completed"
    },
    "tags": []
   },
   "outputs": [
    {
     "data": {
      "application/vnd.jupyter.widget-view+json": {
       "model_id": "132ed04109964794b5ae03b7f5f9b2dd",
       "version_major": 2,
       "version_minor": 0
      },
      "text/plain": [
       "  0%|          | 0/105 [00:00<?, ?it/s]"
      ]
     },
     "metadata": {},
     "output_type": "display_data"
    },
    {
     "data": {
      "text/plain": [
       "90"
      ]
     },
     "execution_count": 33,
     "metadata": {},
     "output_type": "execute_result"
    }
   ],
   "source": [
    "saved_list = []\n",
    "\n",
    "df_test_preds = df_test_preds.reset_index(drop=True)\n",
    "\n",
    "for i in tqdm(range(0, len(df_test_preds)), total=len(df_test_preds)):\n",
    "    \n",
    "    fname = df_test_preds.loc[i, 'id']\n",
    "    \n",
    "    # Read the image\n",
    "    path = base_path + 'images_dir/images_dir/' + fname\n",
    "    \n",
    "    image = cv2.imread(path)\n",
    "    \n",
    "    # cv2 reads in BGR format therefore convert from BGR to RGB.\n",
    "    image = cv2.cvtColor(image, cv2.COLOR_BGR2RGB)\n",
    "\n",
    "    # create a blank mask\n",
    "    mask = np.zeros((image.shape[0], image.shape[1])).astype(np.uint8)\n",
    "    \n",
    "\n",
    "        \n",
    "    if fname not in saved_list:\n",
    "\n",
    "        # image_png_size_list: [(h,w), ...]\n",
    "        orig_image_h = image.shape[0]\n",
    "        orig_image_w = image.shape[1]\n",
    "\n",
    "\n",
    "        w = int(df_test_preds.loc[i,'bbox_width'] * orig_image_w)\n",
    "        h = int(df_test_preds.loc[i,'bbox_height'] * orig_image_h)\n",
    "\n",
    "        x_cent = orig_image_w * df_test_preds.loc[i,'x-center']\n",
    "        y_cent = orig_image_h * df_test_preds.loc[i,'y-center']\n",
    "\n",
    "        x = int(x_cent - (w / 2))\n",
    "        y = int(y_cent - (h / 2))\n",
    "\n",
    "        xmax = xmin + w\n",
    "        ymax = ymin + h\n",
    "\n",
    "        # Add the bbox mask to the blank mask created above.\n",
    "        # Remember that in images the origin coord (0,0) is\n",
    "        # in the top left corner and not in the botton left corner\n",
    "        # like on a graph.\n",
    "        mask[y:y+h, x:x+w] = 1\n",
    "\n",
    "    else: # some pred images have more than one mask\n",
    "\n",
    "        # Load the previous mask\n",
    "        # Read the image\n",
    "        path = 'pred_masks_dir/' + fname\n",
    "        mask = plt.imread(path)\n",
    "\n",
    "        # image_png_size_list: [(h,w), ...]\n",
    "        orig_image_h = image.shape[0]\n",
    "        orig_image_w = image.shape[1]\n",
    "\n",
    "\n",
    "        w = int(df_test_preds.loc[i,'bbox_width'] * orig_image_w)\n",
    "        h = int(df_test_preds.loc[i,'bbox_height'] * orig_image_h)\n",
    "\n",
    "        x_cent = orig_image_w * df_test_preds.loc[i,'x-center']\n",
    "        y_cent = orig_image_h * df_test_preds.loc[i,'y-center']\n",
    "\n",
    "        x = int(x_cent - (w / 2))\n",
    "        y = int(y_cent - (h / 2))\n",
    "\n",
    "        xmax = xmin + w\n",
    "        ymax = ymin + h\n",
    "\n",
    "        # Add the bbox mask to the blank mask created above.\n",
    "        # Remember that in images the origin coord (0,0) is\n",
    "        # in the top left corner and not in the botton left corner\n",
    "        # like on a graph.\n",
    "        mask[y:y+h, x:x+w] = 1\n",
    "        \n",
    "    \n",
    "    # Save the mask as an image in the folder\n",
    "    # that we created.\n",
    "    dst = os.path.join(pred_masks_dir, fname)\n",
    "    \n",
    "    cv2.imwrite(dst, mask)\n",
    "    \n",
    "    saved_list.append(fname)\n",
    "    \n",
    "\n",
    "# Check how mane files are in the new directory\n",
    "file_list = os.listdir('pred_masks_dir')\n",
    "\n",
    "len(file_list)"
   ]
  },
  {
   "cell_type": "code",
   "execution_count": 34,
   "id": "c9898a6c",
   "metadata": {
    "execution": {
     "iopub.execute_input": "2022-11-29T06:03:49.113537Z",
     "iopub.status.busy": "2022-11-29T06:03:49.113093Z",
     "iopub.status.idle": "2022-11-29T06:03:55.855467Z",
     "shell.execute_reply": "2022-11-29T06:03:55.854407Z"
    },
    "papermill": {
     "duration": 6.773539,
     "end_time": "2022-11-29T06:03:55.859083",
     "exception": false,
     "start_time": "2022-11-29T06:03:49.085544",
     "status": "completed"
    },
    "tags": []
   },
   "outputs": [
    {
     "data": {
      "application/vnd.jupyter.widget-view+json": {
       "model_id": "9435a7667de34dee90514ce1aa0addf9",
       "version_major": 2,
       "version_minor": 0
      },
      "text/plain": [
       "  0%|          | 0/146 [00:00<?, ?it/s]"
      ]
     },
     "metadata": {},
     "output_type": "display_data"
    },
    {
     "data": {
      "text/plain": [
       "132"
      ]
     },
     "execution_count": 34,
     "metadata": {},
     "output_type": "execute_result"
    }
   ],
   "source": [
    "# Create blank masks for all val images for which\n",
    "# no bboxes were predicted.\n",
    "# Store these masks in pred_masks_dir\n",
    "\n",
    "pred_list = list(df_test_preds['id'])\n",
    "\n",
    "for i in tqdm(range(0, len(df_val)), total=len(df_val)):\n",
    "    \n",
    "    fname = df_val.loc[i, 'id']\n",
    "    \n",
    "    if fname not in pred_list:\n",
    "        \n",
    "        path = base_path + 'images_dir/images_dir/' + fname\n",
    "        image = cv2.imread(path)\n",
    "\n",
    "        # cv2 reads in BGR format therefore convert from BGR to RGB.\n",
    "        image = cv2.cvtColor(image, cv2.COLOR_BGR2RGB)\n",
    "\n",
    "        # create a blank mask\n",
    "        mask = np.zeros((image.shape[0], image.shape[1]))\n",
    "        \n",
    "        # Save the blank mask in pred_nasks_dir\n",
    "        dst = os.path.join(pred_masks_dir, fname)\n",
    "\n",
    "        cv2.imwrite(dst, mask)\n",
    "        \n",
    "        \n",
    "# Check how mane files are in the new directory\n",
    "file_list = os.listdir('pred_masks_dir')\n",
    "\n",
    "len(file_list)"
   ]
  },
  {
   "cell_type": "code",
   "execution_count": 35,
   "id": "15134b9d",
   "metadata": {
    "execution": {
     "iopub.execute_input": "2022-11-29T06:03:55.914637Z",
     "iopub.status.busy": "2022-11-29T06:03:55.914251Z",
     "iopub.status.idle": "2022-11-29T06:03:55.921874Z",
     "shell.execute_reply": "2022-11-29T06:03:55.920856Z"
    },
    "papermill": {
     "duration": 0.03829,
     "end_time": "2022-11-29T06:03:55.924287",
     "exception": false,
     "start_time": "2022-11-29T06:03:55.885997",
     "status": "completed"
    },
    "tags": []
   },
   "outputs": [
    {
     "data": {
      "text/plain": [
       "132"
      ]
     },
     "execution_count": 35,
     "metadata": {},
     "output_type": "execute_result"
    }
   ],
   "source": [
    "df_val['id'].nunique()"
   ]
  },
  {
   "cell_type": "code",
   "execution_count": 36,
   "id": "4bf33679",
   "metadata": {
    "execution": {
     "iopub.execute_input": "2022-11-29T06:03:55.980826Z",
     "iopub.status.busy": "2022-11-29T06:03:55.980452Z",
     "iopub.status.idle": "2022-11-29T06:03:57.016413Z",
     "shell.execute_reply": "2022-11-29T06:03:57.015178Z"
    },
    "papermill": {
     "duration": 1.066831,
     "end_time": "2022-11-29T06:03:57.018888",
     "exception": false,
     "start_time": "2022-11-29T06:03:55.952057",
     "status": "completed"
    },
    "tags": []
   },
   "outputs": [
    {
     "name": "stdout",
     "output_type": "stream",
     "text": [
      "(3518, 2800)\n"
     ]
    },
    {
     "data": {
      "text/plain": [
       "<matplotlib.image.AxesImage at 0x7f9ff0acac10>"
      ]
     },
     "execution_count": 36,
     "metadata": {},
     "output_type": "execute_result"
    },
    {
     "data": {
      "image/png": "[encoded data removed]",
      "text/plain": [
       "<Figure size 432x288 with 1 Axes>"
      ]
     },
     "metadata": {
      "needs_background": "light"
     },
     "output_type": "display_data"
    }
   ],
   "source": [
    "pred_mask_list = os.listdir('pred_masks_dir')\n",
    "\n",
    "i = 21\n",
    "\n",
    "path = 'true_masks_dir/' + pred_mask_list[i]\n",
    "\n",
    "image = plt.imread(path)\n",
    "\n",
    "print(image.shape)\n",
    "\n",
    "plt.imshow(image)"
   ]
  },
  {
   "cell_type": "markdown",
   "id": "a3eedcca",
   "metadata": {
    "papermill": {
     "duration": 0.026442,
     "end_time": "2022-11-29T06:03:57.072627",
     "exception": false,
     "start_time": "2022-11-29T06:03:57.046185",
     "status": "completed"
    },
    "tags": []
   },
   "source": [
    "## Test the iou code"
   ]
  },
  {
   "cell_type": "code",
   "execution_count": 37,
   "id": "ff7af6c3",
   "metadata": {
    "execution": {
     "iopub.execute_input": "2022-11-29T06:03:57.128035Z",
     "iopub.status.busy": "2022-11-29T06:03:57.127623Z",
     "iopub.status.idle": "2022-11-29T06:03:57.135693Z",
     "shell.execute_reply": "2022-11-29T06:03:57.134621Z"
    },
    "papermill": {
     "duration": 0.03879,
     "end_time": "2022-11-29T06:03:57.137983",
     "exception": false,
     "start_time": "2022-11-29T06:03:57.099193",
     "status": "completed"
    },
    "tags": []
   },
   "outputs": [],
   "source": [
    "def calculate_iou(y_true, y_pred):\n",
    "    \n",
    "    \"\"\"\n",
    "    Input: Numpy arrays with shape (image_h, image_w)\n",
    "    Values must be either 1 or 0.\n",
    "    \n",
    "    Output: IOU value as a number.\n",
    "    \n",
    "    \n",
    "    This works only for single images and not\n",
    "    for a batch of images.\n",
    "    \"\"\"\n",
    "    \n",
    "\n",
    "    # If both images are blank\n",
    "    if y_true.max() == 0 and y_pred.max() == 0:\n",
    "        \n",
    "        IOU = 'both_blank'\n",
    "        \n",
    "    else:\n",
    "    \n",
    "        # Set the matrix values to be either 1 or 0.\n",
    "        # This can also be done like this: mask = (mask > 0).astype(np.uint8)\n",
    "        y_true = y_true.astype(np.bool)\n",
    "        y_pred = y_pred.astype(np.bool)\n",
    "\n",
    "        y_true_flat = y_true.flatten()\n",
    "        y_pred_flat = y_pred.flatten()\n",
    "\n",
    "        result = (y_true_flat * y_pred_flat)\n",
    "\n",
    "        area_of_intersection = np.sum(result)\n",
    "\n",
    "        area_of_union = (np.sum(y_true_flat) + np.sum(y_pred_flat)) - area_of_intersection\n",
    "\n",
    "        # add 0.00001 to prevent a zero division error.\n",
    "        IOU = (area_of_intersection)/(area_of_union + 0.00001)\n",
    "\n",
    "        # Round to three decimal places\n",
    "        IOU = round(IOU, 3)\n",
    "    \n",
    "    return IOU\n"
   ]
  },
  {
   "cell_type": "code",
   "execution_count": 38,
   "id": "c66f59b7",
   "metadata": {
    "execution": {
     "iopub.execute_input": "2022-11-29T06:03:57.193939Z",
     "iopub.status.busy": "2022-11-29T06:03:57.192907Z",
     "iopub.status.idle": "2022-11-29T06:03:58.229960Z",
     "shell.execute_reply": "2022-11-29T06:03:58.228865Z"
    },
    "papermill": {
     "duration": 1.067649,
     "end_time": "2022-11-29T06:03:58.232585",
     "exception": false,
     "start_time": "2022-11-29T06:03:57.164936",
     "status": "completed"
    },
    "tags": []
   },
   "outputs": [
    {
     "name": "stdout",
     "output_type": "stream",
     "text": [
      "(3518, 2800)\n",
      "float32\n",
      "0.0\n",
      "0.003921569\n"
     ]
    },
    {
     "data": {
      "text/plain": [
       "<matplotlib.image.AxesImage at 0x7f9ff0a66bd0>"
      ]
     },
     "execution_count": 38,
     "metadata": {},
     "output_type": "execute_result"
    },
    {
     "data": {
      "image/png": "[encoded data removed]",
      "text/plain": [
       "<Figure size 432x288 with 1 Axes>"
      ]
     },
     "metadata": {
      "needs_background": "light"
     },
     "output_type": "display_data"
    }
   ],
   "source": [
    "# Test the IOU function\n",
    "\n",
    "pred_mask_list = os.listdir('pred_masks_dir')\n",
    "\n",
    "i = 10\n",
    "\n",
    "path = 'true_masks_dir/' + pred_mask_list[i]\n",
    "\n",
    "mask = plt.imread(path) #.astype(np.bool)\n",
    "\n",
    "# Threshold the mask\n",
    "#mask = (mask > 0).astype(np.uint8)\n",
    "\n",
    "print(mask.shape)\n",
    "print(mask.dtype)\n",
    "print(mask.min())\n",
    "print(mask.max())\n",
    "\n",
    "plt.imshow(mask)"
   ]
  },
  {
   "cell_type": "code",
   "execution_count": 39,
   "id": "e533608f",
   "metadata": {
    "execution": {
     "iopub.execute_input": "2022-11-29T06:03:58.290077Z",
     "iopub.status.busy": "2022-11-29T06:03:58.289637Z",
     "iopub.status.idle": "2022-11-29T06:03:58.306832Z",
     "shell.execute_reply": "2022-11-29T06:03:58.305813Z"
    },
    "papermill": {
     "duration": 0.049054,
     "end_time": "2022-11-29T06:03:58.309377",
     "exception": false,
     "start_time": "2022-11-29T06:03:58.260323",
     "status": "completed"
    },
    "tags": []
   },
   "outputs": [],
   "source": [
    "# Change all values to zero\n",
    "mask1 = mask * 0"
   ]
  },
  {
   "cell_type": "code",
   "execution_count": 40,
   "id": "ca369b8d",
   "metadata": {
    "execution": {
     "iopub.execute_input": "2022-11-29T06:03:58.366813Z",
     "iopub.status.busy": "2022-11-29T06:03:58.365981Z",
     "iopub.status.idle": "2022-11-29T06:03:58.381415Z",
     "shell.execute_reply": "2022-11-29T06:03:58.380265Z"
    },
    "papermill": {
     "duration": 0.04637,
     "end_time": "2022-11-29T06:03:58.383753",
     "exception": false,
     "start_time": "2022-11-29T06:03:58.337383",
     "status": "completed"
    },
    "tags": []
   },
   "outputs": [
    {
     "data": {
      "text/plain": [
       "'both_blank'"
      ]
     },
     "execution_count": 40,
     "metadata": {},
     "output_type": "execute_result"
    }
   ],
   "source": [
    "# *** Note that if both masks are blank then the iou returned is 0.\n",
    "\n",
    "y_true = mask1\n",
    "y_pred = mask1\n",
    "\n",
    "iou = calculate_iou(y_true, y_pred)\n",
    "\n",
    "iou"
   ]
  },
  {
   "cell_type": "markdown",
   "id": "98b2671e",
   "metadata": {
    "papermill": {
     "duration": 0.027239,
     "end_time": "2022-11-29T06:03:58.438508",
     "exception": false,
     "start_time": "2022-11-29T06:03:58.411269",
     "status": "completed"
    },
    "tags": []
   },
   "source": [
    "## Calculate the IOU for all val rows"
   ]
  },
  {
   "cell_type": "code",
   "execution_count": 41,
   "id": "64f4dbca",
   "metadata": {
    "execution": {
     "iopub.execute_input": "2022-11-29T06:03:58.496262Z",
     "iopub.status.busy": "2022-11-29T06:03:58.495080Z",
     "iopub.status.idle": "2022-11-29T06:04:24.914810Z",
     "shell.execute_reply": "2022-11-29T06:04:24.913607Z"
    },
    "papermill": {
     "duration": 26.451078,
     "end_time": "2022-11-29T06:04:24.917400",
     "exception": false,
     "start_time": "2022-11-29T06:03:58.466322",
     "status": "completed"
    },
    "tags": []
   },
   "outputs": [
    {
     "data": {
      "application/vnd.jupyter.widget-view+json": {
       "model_id": "7d1b21c3c94743bdad4fb1173cb7e5e9",
       "version_major": 2,
       "version_minor": 0
      },
      "text/plain": [
       "  0%|          | 0/146 [00:00<?, ?it/s]"
      ]
     },
     "metadata": {},
     "output_type": "display_data"
    }
   ],
   "source": [
    "iou_list = []\n",
    "\n",
    "for i in tqdm(range(0, len(df_val)), total=len(df_val)):\n",
    "    \n",
    "    # Get the fname\n",
    "    fname = df_val.loc[i, 'id']\n",
    "    \n",
    "    # Load the mask from true_masks_dir\n",
    "    path = 'true_masks_dir/' + fname\n",
    "    true_mask = plt.imread(path)\n",
    "    \n",
    "    \n",
    "    # Load the pred mask\n",
    "    path =  'pred_masks_dir/' + fname\n",
    "    pred_mask = plt.imread(path)\n",
    "    \n",
    "    # Calculate the iou\n",
    "    iou = calculate_iou(true_mask, pred_mask)\n",
    "    \n",
    "    iou_list.append(iou)\n",
    "    \n",
    "    \n",
    "# Add iou list to df_val\n",
    "df_val['iou'] = iou_list"
   ]
  },
  {
   "cell_type": "code",
   "execution_count": 42,
   "id": "6388f9d3",
   "metadata": {
    "execution": {
     "iopub.execute_input": "2022-11-29T06:04:24.977846Z",
     "iopub.status.busy": "2022-11-29T06:04:24.977033Z",
     "iopub.status.idle": "2022-11-29T06:04:24.987560Z",
     "shell.execute_reply": "2022-11-29T06:04:24.986148Z"
    },
    "papermill": {
     "duration": 0.043307,
     "end_time": "2022-11-29T06:04:24.989911",
     "exception": false,
     "start_time": "2022-11-29T06:04:24.946604",
     "status": "completed"
    },
    "tags": []
   },
   "outputs": [
    {
     "name": "stdout",
     "output_type": "stream",
     "text": [
      "0.0\n",
      "0.914\n",
      "0.4223358778625952\n"
     ]
    }
   ],
   "source": [
    "df = df_val[df_val['iou'] != 'both_blank']\n",
    "\n",
    "print(df['iou'].min())\n",
    "print(df['iou'].max())\n",
    "print(df['iou'].mean())"
   ]
  },
  {
   "cell_type": "markdown",
   "id": "888f9635",
   "metadata": {
    "papermill": {
     "duration": 0.029518,
     "end_time": "2022-11-29T06:04:25.048015",
     "exception": false,
     "start_time": "2022-11-29T06:04:25.018497",
     "status": "completed"
    },
    "tags": []
   },
   "source": [
    "## Adjust the preds\n",
    "\n",
    "There are cases where the true image does ontain a bbox, and the model also predicted a bbox for that image - but the pred bbox did not overlap with the true bbox. In those cases we need to change the pred from 1 to 0."
   ]
  },
  {
   "cell_type": "code",
   "execution_count": 43,
   "id": "d2140885",
   "metadata": {
    "execution": {
     "iopub.execute_input": "2022-11-29T06:04:25.105980Z",
     "iopub.status.busy": "2022-11-29T06:04:25.105557Z",
     "iopub.status.idle": "2022-11-29T06:04:25.135650Z",
     "shell.execute_reply": "2022-11-29T06:04:25.134496Z"
    },
    "papermill": {
     "duration": 0.06177,
     "end_time": "2022-11-29T06:04:25.138013",
     "exception": false,
     "start_time": "2022-11-29T06:04:25.076243",
     "status": "completed"
    },
    "tags": []
   },
   "outputs": [
    {
     "data": {
      "text/html": [
       "<div>\n",
       "<style scoped>\n",
       "    .dataframe tbody tr th:only-of-type {\n",
       "        vertical-align: middle;\n",
       "    }\n",
       "\n",
       "    .dataframe tbody tr th {\n",
       "        vertical-align: top;\n",
       "    }\n",
       "\n",
       "    .dataframe thead th {\n",
       "        text-align: right;\n",
       "    }\n",
       "</style>\n",
       "<table border=\"1\" class=\"dataframe\">\n",
       "  <thead>\n",
       "    <tr style=\"text-align: right;\">\n",
       "      <th></th>\n",
       "      <th>study_id</th>\n",
       "      <th>series_id</th>\n",
       "      <th>image_id</th>\n",
       "      <th>laterality</th>\n",
       "      <th>view_position</th>\n",
       "      <th>height</th>\n",
       "      <th>width</th>\n",
       "      <th>breast_birads</th>\n",
       "      <th>breast_density</th>\n",
       "      <th>finding_categories</th>\n",
       "      <th>...</th>\n",
       "      <th>ymax</th>\n",
       "      <th>split</th>\n",
       "      <th>path</th>\n",
       "      <th>num_findings</th>\n",
       "      <th>target</th>\n",
       "      <th>fold</th>\n",
       "      <th>boxes</th>\n",
       "      <th>id</th>\n",
       "      <th>preds</th>\n",
       "      <th>iou</th>\n",
       "    </tr>\n",
       "  </thead>\n",
       "  <tbody>\n",
       "    <tr>\n",
       "      <th>0</th>\n",
       "      <td>b4fe06383379a0760f9086dae96f7309</td>\n",
       "      <td>107744bf8d951e85014716913012ab1a</td>\n",
       "      <td>9a728250069ba3419ccc1f35b94bd252</td>\n",
       "      <td>L</td>\n",
       "      <td>MLO</td>\n",
       "      <td>3518</td>\n",
       "      <td>2800</td>\n",
       "      <td>BI-RADS 1</td>\n",
       "      <td>DENSITY C</td>\n",
       "      <td>['No Finding']</td>\n",
       "      <td>...</td>\n",
       "      <td>NaN</td>\n",
       "      <td>training</td>\n",
       "      <td>../input/smart-mammo-data/images_dir/images_di...</td>\n",
       "      <td>1</td>\n",
       "      <td>0</td>\n",
       "      <td>0.0</td>\n",
       "      <td>none</td>\n",
       "      <td>9a728250069ba3419ccc1f35b94bd252.png</td>\n",
       "      <td>0</td>\n",
       "      <td>both_blank</td>\n",
       "    </tr>\n",
       "    <tr>\n",
       "      <th>1</th>\n",
       "      <td>00c3c05f7ff415d71fae16ae999c178d</td>\n",
       "      <td>f27d5f20db2d58ed5729d1f3d78c54c0</td>\n",
       "      <td>033e4f9ee05749cd591c958aa873dc8b</td>\n",
       "      <td>L</td>\n",
       "      <td>CC</td>\n",
       "      <td>3518</td>\n",
       "      <td>2800</td>\n",
       "      <td>BI-RADS 1</td>\n",
       "      <td>DENSITY C</td>\n",
       "      <td>['No Finding']</td>\n",
       "      <td>...</td>\n",
       "      <td>NaN</td>\n",
       "      <td>training</td>\n",
       "      <td>../input/smart-mammo-data/images_dir/images_di...</td>\n",
       "      <td>1</td>\n",
       "      <td>0</td>\n",
       "      <td>0.0</td>\n",
       "      <td>none</td>\n",
       "      <td>033e4f9ee05749cd591c958aa873dc8b.png</td>\n",
       "      <td>0</td>\n",
       "      <td>both_blank</td>\n",
       "    </tr>\n",
       "    <tr>\n",
       "      <th>2</th>\n",
       "      <td>1749223c9b8005f17587fe51a62c6af7</td>\n",
       "      <td>99b93f91510bce11c6986374a18624ed</td>\n",
       "      <td>b7d9bfff242190b8793b2a412ae1d68e</td>\n",
       "      <td>R</td>\n",
       "      <td>CC</td>\n",
       "      <td>3518</td>\n",
       "      <td>2800</td>\n",
       "      <td>BI-RADS 1</td>\n",
       "      <td>DENSITY C</td>\n",
       "      <td>['No Finding']</td>\n",
       "      <td>...</td>\n",
       "      <td>NaN</td>\n",
       "      <td>training</td>\n",
       "      <td>../input/smart-mammo-data/images_dir/images_di...</td>\n",
       "      <td>1</td>\n",
       "      <td>0</td>\n",
       "      <td>0.0</td>\n",
       "      <td>none</td>\n",
       "      <td>b7d9bfff242190b8793b2a412ae1d68e.png</td>\n",
       "      <td>1</td>\n",
       "      <td>0.0</td>\n",
       "    </tr>\n",
       "    <tr>\n",
       "      <th>3</th>\n",
       "      <td>46293ae7e87ee76a172f0ac1b2d06ea5</td>\n",
       "      <td>064776530dbd717b0c1975a6357af8e4</td>\n",
       "      <td>c99fc0b9b7bc0618d0b156db5d1905d8</td>\n",
       "      <td>L</td>\n",
       "      <td>CC</td>\n",
       "      <td>3518</td>\n",
       "      <td>2800</td>\n",
       "      <td>BI-RADS 1</td>\n",
       "      <td>DENSITY C</td>\n",
       "      <td>['No Finding']</td>\n",
       "      <td>...</td>\n",
       "      <td>NaN</td>\n",
       "      <td>training</td>\n",
       "      <td>../input/smart-mammo-data/images_dir/images_di...</td>\n",
       "      <td>1</td>\n",
       "      <td>0</td>\n",
       "      <td>0.0</td>\n",
       "      <td>none</td>\n",
       "      <td>c99fc0b9b7bc0618d0b156db5d1905d8.png</td>\n",
       "      <td>0</td>\n",
       "      <td>both_blank</td>\n",
       "    </tr>\n",
       "    <tr>\n",
       "      <th>4</th>\n",
       "      <td>c37a433bcaacd344775af66d571c7471</td>\n",
       "      <td>b8ab27600b5c3634f0785f88f44fbff7</td>\n",
       "      <td>7147d78a9fef08b6eba38c0cae4d822f</td>\n",
       "      <td>L</td>\n",
       "      <td>CC</td>\n",
       "      <td>3518</td>\n",
       "      <td>2800</td>\n",
       "      <td>BI-RADS 1</td>\n",
       "      <td>DENSITY C</td>\n",
       "      <td>['No Finding']</td>\n",
       "      <td>...</td>\n",
       "      <td>NaN</td>\n",
       "      <td>training</td>\n",
       "      <td>../input/smart-mammo-data/images_dir/images_di...</td>\n",
       "      <td>1</td>\n",
       "      <td>0</td>\n",
       "      <td>0.0</td>\n",
       "      <td>none</td>\n",
       "      <td>7147d78a9fef08b6eba38c0cae4d822f.png</td>\n",
       "      <td>0</td>\n",
       "      <td>both_blank</td>\n",
       "    </tr>\n",
       "  </tbody>\n",
       "</table>\n",
       "<p>5 rows × 24 columns</p>\n",
       "</div>"
      ],
      "text/plain": [
       "                           study_id                         series_id  \\\n",
       "0  b4fe06383379a0760f9086dae96f7309  107744bf8d951e85014716913012ab1a   \n",
       "1  00c3c05f7ff415d71fae16ae999c178d  f27d5f20db2d58ed5729d1f3d78c54c0   \n",
       "2  1749223c9b8005f17587fe51a62c6af7  99b93f91510bce11c6986374a18624ed   \n",
       "3  46293ae7e87ee76a172f0ac1b2d06ea5  064776530dbd717b0c1975a6357af8e4   \n",
       "4  c37a433bcaacd344775af66d571c7471  b8ab27600b5c3634f0785f88f44fbff7   \n",
       "\n",
       "                           image_id laterality view_position  height  width  \\\n",
       "0  9a728250069ba3419ccc1f35b94bd252          L           MLO    3518   2800   \n",
       "1  033e4f9ee05749cd591c958aa873dc8b          L            CC    3518   2800   \n",
       "2  b7d9bfff242190b8793b2a412ae1d68e          R            CC    3518   2800   \n",
       "3  c99fc0b9b7bc0618d0b156db5d1905d8          L            CC    3518   2800   \n",
       "4  7147d78a9fef08b6eba38c0cae4d822f          L            CC    3518   2800   \n",
       "\n",
       "  breast_birads breast_density finding_categories  ... ymax     split  \\\n",
       "0     BI-RADS 1      DENSITY C     ['No Finding']  ...  NaN  training   \n",
       "1     BI-RADS 1      DENSITY C     ['No Finding']  ...  NaN  training   \n",
       "2     BI-RADS 1      DENSITY C     ['No Finding']  ...  NaN  training   \n",
       "3     BI-RADS 1      DENSITY C     ['No Finding']  ...  NaN  training   \n",
       "4     BI-RADS 1      DENSITY C     ['No Finding']  ...  NaN  training   \n",
       "\n",
       "                                                path  num_findings  target  \\\n",
       "0  ../input/smart-mammo-data/images_dir/images_di...             1       0   \n",
       "1  ../input/smart-mammo-data/images_dir/images_di...             1       0   \n",
       "2  ../input/smart-mammo-data/images_dir/images_di...             1       0   \n",
       "3  ../input/smart-mammo-data/images_dir/images_di...             1       0   \n",
       "4  ../input/smart-mammo-data/images_dir/images_di...             1       0   \n",
       "\n",
       "  fold boxes                                    id  preds         iou  \n",
       "0  0.0  none  9a728250069ba3419ccc1f35b94bd252.png      0  both_blank  \n",
       "1  0.0  none  033e4f9ee05749cd591c958aa873dc8b.png      0  both_blank  \n",
       "2  0.0  none  b7d9bfff242190b8793b2a412ae1d68e.png      1         0.0  \n",
       "3  0.0  none  c99fc0b9b7bc0618d0b156db5d1905d8.png      0  both_blank  \n",
       "4  0.0  none  7147d78a9fef08b6eba38c0cae4d822f.png      0  both_blank  \n",
       "\n",
       "[5 rows x 24 columns]"
      ]
     },
     "execution_count": 43,
     "metadata": {},
     "output_type": "execute_result"
    }
   ],
   "source": [
    "df_val.head()"
   ]
  },
  {
   "cell_type": "code",
   "execution_count": 44,
   "id": "a3c534a9",
   "metadata": {
    "execution": {
     "iopub.execute_input": "2022-11-29T06:04:25.196913Z",
     "iopub.status.busy": "2022-11-29T06:04:25.196542Z",
     "iopub.status.idle": "2022-11-29T06:04:25.204503Z",
     "shell.execute_reply": "2022-11-29T06:04:25.203274Z"
    },
    "papermill": {
     "duration": 0.04006,
     "end_time": "2022-11-29T06:04:25.206655",
     "exception": false,
     "start_time": "2022-11-29T06:04:25.166595",
     "status": "completed"
    },
    "tags": []
   },
   "outputs": [
    {
     "data": {
      "text/plain": [
       "1    103\n",
       "0     43\n",
       "Name: preds, dtype: int64"
      ]
     },
     "execution_count": 44,
     "metadata": {},
     "output_type": "execute_result"
    }
   ],
   "source": [
    "df_val['preds'].value_counts()"
   ]
  },
  {
   "cell_type": "code",
   "execution_count": 45,
   "id": "43a031ac",
   "metadata": {
    "execution": {
     "iopub.execute_input": "2022-11-29T06:04:25.265823Z",
     "iopub.status.busy": "2022-11-29T06:04:25.265040Z",
     "iopub.status.idle": "2022-11-29T06:04:25.277087Z",
     "shell.execute_reply": "2022-11-29T06:04:25.275797Z"
    },
    "papermill": {
     "duration": 0.044547,
     "end_time": "2022-11-29T06:04:25.279706",
     "exception": false,
     "start_time": "2022-11-29T06:04:25.235159",
     "status": "completed"
    },
    "tags": []
   },
   "outputs": [],
   "source": [
    "def check_pred_iou(row):\n",
    "    \n",
    "    target = row['target']\n",
    "    pred = row['preds']\n",
    "    iou = row['iou']\n",
    "    \n",
    "    if target == 1 and pred == 1:\n",
    "        \n",
    "        if iou > 0:\n",
    "            return pred # pred is 1\n",
    "        else:\n",
    "            return 0\n",
    "    else:\n",
    "        \n",
    "        return pred\n",
    "\n",
    "        \n",
    "df_val['iou_preds'] = df_val.apply(check_pred_iou, axis=1)\n"
   ]
  },
  {
   "cell_type": "code",
   "execution_count": 46,
   "id": "0e016a4b",
   "metadata": {
    "execution": {
     "iopub.execute_input": "2022-11-29T06:04:25.340293Z",
     "iopub.status.busy": "2022-11-29T06:04:25.339035Z",
     "iopub.status.idle": "2022-11-29T06:04:25.348195Z",
     "shell.execute_reply": "2022-11-29T06:04:25.347153Z"
    },
    "papermill": {
     "duration": 0.041553,
     "end_time": "2022-11-29T06:04:25.350410",
     "exception": false,
     "start_time": "2022-11-29T06:04:25.308857",
     "status": "completed"
    },
    "tags": []
   },
   "outputs": [
    {
     "data": {
      "text/plain": [
       "1    85\n",
       "0    61\n",
       "Name: iou_preds, dtype: int64"
      ]
     },
     "execution_count": 46,
     "metadata": {},
     "output_type": "execute_result"
    }
   ],
   "source": [
    "df_val['iou_preds'].value_counts()"
   ]
  },
  {
   "cell_type": "markdown",
   "id": "6b3273ed",
   "metadata": {
    "papermill": {
     "duration": 0.028408,
     "end_time": "2022-11-29T06:04:25.407921",
     "exception": false,
     "start_time": "2022-11-29T06:04:25.379513",
     "status": "completed"
    },
    "tags": []
   },
   "source": [
    "## Confusion Matrix"
   ]
  },
  {
   "cell_type": "code",
   "execution_count": 47,
   "id": "ad74ac30",
   "metadata": {
    "execution": {
     "iopub.execute_input": "2022-11-29T06:04:25.467409Z",
     "iopub.status.busy": "2022-11-29T06:04:25.466690Z",
     "iopub.status.idle": "2022-11-29T06:04:25.478388Z",
     "shell.execute_reply": "2022-11-29T06:04:25.477147Z"
    },
    "papermill": {
     "duration": 0.044607,
     "end_time": "2022-11-29T06:04:25.481340",
     "exception": false,
     "start_time": "2022-11-29T06:04:25.436733",
     "status": "completed"
    },
    "tags": []
   },
   "outputs": [
    {
     "name": "stdout",
     "output_type": "stream",
     "text": [
      "\n",
      "[[15  5]\n",
      " [46 80]]\n",
      "['Normal', 'Mass']\n"
     ]
    }
   ],
   "source": [
    "from sklearn.metrics import confusion_matrix\n",
    "\n",
    "CLASS_LIST = ['Normal', 'Mass']\n",
    "    \n",
    "# targets\n",
    "y_true = list(df_val['target'])\n",
    "\n",
    "# get the preds as integers\n",
    "y_pred = list(df_val['iou_preds'])\n",
    "\n",
    "# argmax returns the index of the max value in each row.\n",
    "cm = confusion_matrix(y_true, y_pred)\n",
    "\n",
    "# Display the confusion matrix.\n",
    "print()\n",
    "print(cm)\n",
    "print(CLASS_LIST)"
   ]
  },
  {
   "cell_type": "code",
   "execution_count": 48,
   "id": "489efb38",
   "metadata": {
    "execution": {
     "iopub.execute_input": "2022-11-29T06:04:25.542087Z",
     "iopub.status.busy": "2022-11-29T06:04:25.541659Z",
     "iopub.status.idle": "2022-11-29T06:04:25.816842Z",
     "shell.execute_reply": "2022-11-29T06:04:25.815664Z"
    },
    "papermill": {
     "duration": 0.307599,
     "end_time": "2022-11-29T06:04:25.819074",
     "exception": false,
     "start_time": "2022-11-29T06:04:25.511475",
     "status": "completed"
    },
    "tags": []
   },
   "outputs": [
    {
     "name": "stdout",
     "output_type": "stream",
     "text": [
      "Confusion matrix, without normalization\n",
      "[[15  5]\n",
      " [46 80]]\n"
     ]
    },
    {
     "data": {
      "image/png": "[encoded data removed]",
      "text/plain": [
       "<Figure size 432x288 with 2 Axes>"
      ]
     },
     "metadata": {
      "needs_background": "light"
     },
     "output_type": "display_data"
    }
   ],
   "source": [
    "cm_plot_labels = ['normal', 'mass']\n",
    "\n",
    "# Set the size of the plot.\n",
    "#plt.figure(figsize=(10,7))\n",
    "\n",
    "# Set the size of the text\n",
    "text_size=12\n",
    "\n",
    "plot_confusion_matrix(cm, cm_plot_labels, title='Confusion Matrix', text_size=text_size)"
   ]
  },
  {
   "cell_type": "markdown",
   "id": "22bd672e",
   "metadata": {
    "papermill": {
     "duration": 0.029342,
     "end_time": "2022-11-29T06:04:25.878352",
     "exception": false,
     "start_time": "2022-11-29T06:04:25.849010",
     "status": "completed"
    },
    "tags": []
   },
   "source": [
    "## Classification Report"
   ]
  },
  {
   "cell_type": "code",
   "execution_count": 49,
   "id": "8d70d6ea",
   "metadata": {
    "execution": {
     "iopub.execute_input": "2022-11-29T06:04:25.939135Z",
     "iopub.status.busy": "2022-11-29T06:04:25.938701Z",
     "iopub.status.idle": "2022-11-29T06:04:25.949898Z",
     "shell.execute_reply": "2022-11-29T06:04:25.948394Z"
    },
    "papermill": {
     "duration": 0.044209,
     "end_time": "2022-11-29T06:04:25.952264",
     "exception": false,
     "start_time": "2022-11-29T06:04:25.908055",
     "status": "completed"
    },
    "tags": []
   },
   "outputs": [
    {
     "name": "stdout",
     "output_type": "stream",
     "text": [
      "\n",
      "              precision    recall  f1-score   support\n",
      "\n",
      "      normal       0.25      0.75      0.37        20\n",
      "        mass       0.94      0.63      0.76       126\n",
      "\n",
      "    accuracy                           0.65       146\n",
      "   macro avg       0.59      0.69      0.56       146\n",
      "weighted avg       0.85      0.65      0.71       146\n",
      "\n"
     ]
    }
   ],
   "source": [
    "from sklearn.metrics import classification_report\n",
    "    \n",
    "report = classification_report(y_true, y_pred, target_names=cm_plot_labels)\n",
    "\n",
    "print()\n",
    "print(report)"
   ]
  },
  {
   "cell_type": "markdown",
   "id": "ab1934c8",
   "metadata": {
    "papermill": {
     "duration": 0.029174,
     "end_time": "2022-11-29T06:04:26.010925",
     "exception": false,
     "start_time": "2022-11-29T06:04:25.981751",
     "status": "completed"
    },
    "tags": []
   },
   "source": [
    "### Precision\n",
    "\n",
    "Given a prediction, what is the probability that the prediction is correct. In other words, how much can we trust a prediction made by the model?\n",
    "\n",
    "### Recall\n",
    "\n",
    "What percentage of the total number of objects did the model detect? Given an object, what is the probability that the model will detect it? Example: Did the computer vision model in the self driving car detect all the pedestrians?"
   ]
  },
  {
   "cell_type": "code",
   "execution_count": null,
   "id": "10d9df17",
   "metadata": {
    "papermill": {
     "duration": 0.029062,
     "end_time": "2022-11-29T06:04:26.069232",
     "exception": false,
     "start_time": "2022-11-29T06:04:26.040170",
     "status": "completed"
    },
    "tags": []
   },
   "outputs": [],
   "source": []
  },
  {
   "cell_type": "markdown",
   "id": "bd596f40",
   "metadata": {
    "papermill": {
     "duration": 0.029026,
     "end_time": "2022-11-29T06:04:26.127359",
     "exception": false,
     "start_time": "2022-11-29T06:04:26.098333",
     "status": "completed"
    },
    "tags": []
   },
   "source": [
    "## Delete images to prevent notebook commit errors"
   ]
  },
  {
   "cell_type": "code",
   "execution_count": 50,
   "id": "7f3a87a3",
   "metadata": {
    "execution": {
     "iopub.execute_input": "2022-11-29T06:04:26.189454Z",
     "iopub.status.busy": "2022-11-29T06:04:26.188765Z",
     "iopub.status.idle": "2022-11-29T06:04:27.279190Z",
     "shell.execute_reply": "2022-11-29T06:04:27.277667Z"
    },
    "papermill": {
     "duration": 1.124408,
     "end_time": "2022-11-29T06:04:27.281923",
     "exception": false,
     "start_time": "2022-11-29T06:04:26.157515",
     "status": "completed"
    },
    "tags": []
   },
   "outputs": [
    {
     "name": "stdout",
     "output_type": "stream",
     "text": [
      "/kaggle/working/yolov5\r\n"
     ]
    }
   ],
   "source": [
    "# change the working directory to yolov5\n",
    "\n",
    "os.chdir('/kaggle/working/yolov5')\n",
    "\n",
    "!pwd"
   ]
  },
  {
   "cell_type": "code",
   "execution_count": 51,
   "id": "99053dd4",
   "metadata": {
    "execution": {
     "iopub.execute_input": "2022-11-29T06:04:27.348789Z",
     "iopub.status.busy": "2022-11-29T06:04:27.348347Z",
     "iopub.status.idle": "2022-11-29T06:04:27.354357Z",
     "shell.execute_reply": "2022-11-29T06:04:27.353071Z"
    },
    "papermill": {
     "duration": 0.043931,
     "end_time": "2022-11-29T06:04:27.356685",
     "exception": false,
     "start_time": "2022-11-29T06:04:27.312754",
     "status": "completed"
    },
    "tags": []
   },
   "outputs": [],
   "source": [
    "# Delete the folder to prevent a Kaggle error.\n",
    "\n",
    "if os.path.isdir('base_dir') == True:\n",
    "    shutil.rmtree('base_dir')"
   ]
  },
  {
   "cell_type": "code",
   "execution_count": null,
   "id": "b272a24e",
   "metadata": {
    "papermill": {
     "duration": 0.029931,
     "end_time": "2022-11-29T06:04:27.418017",
     "exception": false,
     "start_time": "2022-11-29T06:04:27.388086",
     "status": "completed"
    },
    "tags": []
   },
   "outputs": [],
   "source": []
  },
  {
   "cell_type": "code",
   "execution_count": 52,
   "id": "e2260304",
   "metadata": {
    "execution": {
     "iopub.execute_input": "2022-11-29T06:04:27.480195Z",
     "iopub.status.busy": "2022-11-29T06:04:27.479503Z",
     "iopub.status.idle": "2022-11-29T06:04:28.574160Z",
     "shell.execute_reply": "2022-11-29T06:04:28.572718Z"
    },
    "papermill": {
     "duration": 1.128732,
     "end_time": "2022-11-29T06:04:28.576806",
     "exception": false,
     "start_time": "2022-11-29T06:04:27.448074",
     "status": "completed"
    },
    "tags": []
   },
   "outputs": [
    {
     "name": "stdout",
     "output_type": "stream",
     "text": [
      "/kaggle/working\r\n"
     ]
    }
   ],
   "source": [
    "# change the working directory\n",
    "\n",
    "os.chdir('/kaggle/working/')\n",
    "\n",
    "!pwd"
   ]
  },
  {
   "cell_type": "code",
   "execution_count": 53,
   "id": "4c41bb39",
   "metadata": {
    "execution": {
     "iopub.execute_input": "2022-11-29T06:04:28.639057Z",
     "iopub.status.busy": "2022-11-29T06:04:28.638227Z",
     "iopub.status.idle": "2022-11-29T06:04:28.644032Z",
     "shell.execute_reply": "2022-11-29T06:04:28.643202Z"
    },
    "papermill": {
     "duration": 0.039287,
     "end_time": "2022-11-29T06:04:28.646059",
     "exception": false,
     "start_time": "2022-11-29T06:04:28.606772",
     "status": "completed"
    },
    "tags": []
   },
   "outputs": [],
   "source": [
    "# Delete the folder to prevent a Kaggle error.\n",
    "\n",
    "if os.path.isdir('images_dir') == True:\n",
    "    shutil.rmtree('images_dir')\n",
    "    \n",
    "if os.path.isdir('val_images_dir') == True:\n",
    "    shutil.rmtree('val_images_dir')"
   ]
  },
  {
   "cell_type": "code",
   "execution_count": 54,
   "id": "5af6afde",
   "metadata": {
    "execution": {
     "iopub.execute_input": "2022-11-29T06:04:28.708101Z",
     "iopub.status.busy": "2022-11-29T06:04:28.706919Z",
     "iopub.status.idle": "2022-11-29T06:04:29.800704Z",
     "shell.execute_reply": "2022-11-29T06:04:29.799462Z"
    },
    "papermill": {
     "duration": 1.127416,
     "end_time": "2022-11-29T06:04:29.803460",
     "exception": false,
     "start_time": "2022-11-29T06:04:28.676044",
     "status": "completed"
    },
    "tags": []
   },
   "outputs": [
    {
     "name": "stdout",
     "output_type": "stream",
     "text": [
      "__notebook__.ipynb  pred_masks_dir  true_masks_dir  yolo_images_dir  yolov5\r\n"
     ]
    }
   ],
   "source": [
    "!ls"
   ]
  },
  {
   "cell_type": "code",
   "execution_count": 55,
   "id": "c6f89438",
   "metadata": {
    "execution": {
     "iopub.execute_input": "2022-11-29T06:04:29.867408Z",
     "iopub.status.busy": "2022-11-29T06:04:29.866576Z",
     "iopub.status.idle": "2022-11-29T06:04:29.874338Z",
     "shell.execute_reply": "2022-11-29T06:04:29.873420Z"
    },
    "papermill": {
     "duration": 0.042578,
     "end_time": "2022-11-29T06:04:29.876555",
     "exception": false,
     "start_time": "2022-11-29T06:04:29.833977",
     "status": "completed"
    },
    "tags": []
   },
   "outputs": [
    {
     "data": {
      "text/plain": [
       "7.1433333333333335"
      ]
     },
     "execution_count": 55,
     "metadata": {},
     "output_type": "execute_result"
    }
   ],
   "source": [
    "25716/60/60"
   ]
  },
  {
   "cell_type": "code",
   "execution_count": null,
   "id": "fd2cf32d",
   "metadata": {
    "papermill": {
     "duration": 0.030219,
     "end_time": "2022-11-29T06:04:29.937618",
     "exception": false,
     "start_time": "2022-11-29T06:04:29.907399",
     "status": "completed"
    },
    "tags": []
   },
   "outputs": [],
   "source": []
  }
 ],
 "metadata": {
  "kernelspec": {
   "display_name": "Python 3",
   "language": "python",
   "name": "python3"
  },
  "language_info": {
   "codemirror_mode": {
    "name": "ipython",
    "version": 3
   },
   "file_extension": ".py",
   "mimetype": "text/x-python",
   "name": "python",
   "nbconvert_exporter": "python",
   "pygments_lexer": "ipython3",
   "version": "3.7.12"
  },
  "papermill": {
   "default_parameters": {},
   "duration": 798.441192,
   "end_time": "2022-11-29T06:04:31.092971",
   "environment_variables": {},
   "exception": null,
   "input_path": "__notebook__.ipynb",
   "output_path": "__notebook__.ipynb",
   "parameters": {},
   "start_time": "2022-11-29T05:51:12.651779",
   "version": "2.3.4"
  },
  "widgets": {
   "application/vnd.jupyter.widget-state+json": {
    "state": {
     "0d099f7dcc534c3d9e230217fbb10f65": {
      "model_module": "@jupyter-widgets/controls",
      "model_module_version": "1.5.0",
      "model_name": "DescriptionStyleModel",
      "state": {
       "_model_module": "@jupyter-widgets/controls",
       "_model_module_version": "1.5.0",
       "_model_name": "DescriptionStyleModel",
       "_view_count": null,
       "_view_module": "@jupyter-widgets/base",
       "_view_module_version": "1.2.0",
       "_view_name": "StyleView",
       "description_width": ""
      }
     },
     "132ed04109964794b5ae03b7f5f9b2dd": {
      "model_module": "@jupyter-widgets/controls",
      "model_module_version": "1.5.0",
      "model_name": "HBoxModel",
      "state": {
       "_dom_classes": [],
       "_model_module": "@jupyter-widgets/controls",
       "_model_module_version": "1.5.0",
       "_model_name": "HBoxModel",
       "_view_count": null,
       "_view_module": "@jupyter-widgets/controls",
       "_view_module_version": "1.5.0",
       "_view_name": "HBoxView",
       "box_style": "",
       "children": [
        "IPY_MODEL_85480e4c6f31474ebe591af30a3c6d4a",
        "IPY_MODEL_54045d604d294100825453e2a76e745e",
        "IPY_MODEL_3f8c18c3e4f04293b2c235fb2ee0c6ab"
       ],
       "layout": "IPY_MODEL_2c525b1d14b741d38cd658c1c9b7f14f"
      }
     },
     "1e964e0e27214574b00ae2d4b0a88384": {
      "model_module": "@jupyter-widgets/base",
      "model_module_version": "1.2.0",
      "model_name": "LayoutModel",
      "state": {
       "_model_module": "@jupyter-widgets/base",
       "_model_module_version": "1.2.0",
       "_model_name": "LayoutModel",
       "_view_count": null,
       "_view_module": "@jupyter-widgets/base",
       "_view_module_version": "1.2.0",
       "_view_name": "LayoutView",
       "align_content": null,
       "align_items": null,
       "align_self": null,
       "border": null,
       "bottom": null,
       "display": null,
       "flex": null,
       "flex_flow": null,
       "grid_area": null,
       "grid_auto_columns": null,
       "grid_auto_flow": null,
       "grid_auto_rows": null,
       "grid_column": null,
       "grid_gap": null,
       "grid_row": null,
       "grid_template_areas": null,
       "grid_template_columns": null,
       "grid_template_rows": null,
       "height": null,
       "justify_content": null,
       "justify_items": null,
       "left": null,
       "margin": null,
       "max_height": null,
       "max_width": null,
       "min_height": null,
       "min_width": null,
       "object_fit": null,
       "object_position": null,
       "order": null,
       "overflow": null,
       "overflow_x": null,
       "overflow_y": null,
       "padding": null,
       "right": null,
       "top": null,
       "visibility": null,
       "width": null
      }
     },
     "21ae79a130b94eddb84a0ca7a4998dd7": {
      "model_module": "@jupyter-widgets/base",
      "model_module_version": "1.2.0",
      "model_name": "LayoutModel",
      "state": {
       "_model_module": "@jupyter-widgets/base",
       "_model_module_version": "1.2.0",
       "_model_name": "LayoutModel",
       "_view_count": null,
       "_view_module": "@jupyter-widgets/base",
       "_view_module_version": "1.2.0",
       "_view_name": "LayoutView",
       "align_content": null,
       "align_items": null,
       "align_self": null,
       "border": null,
       "bottom": null,
       "display": null,
       "flex": null,
       "flex_flow": null,
       "grid_area": null,
       "grid_auto_columns": null,
       "grid_auto_flow": null,
       "grid_auto_rows": null,
       "grid_column": null,
       "grid_gap": null,
       "grid_row": null,
       "grid_template_areas": null,
       "grid_template_columns": null,
       "grid_template_rows": null,
       "height": null,
       "justify_content": null,
       "justify_items": null,
       "left": null,
       "margin": null,
       "max_height": null,
       "max_width": null,
       "min_height": null,
       "min_width": null,
       "object_fit": null,
       "object_position": null,
       "order": null,
       "overflow": null,
       "overflow_x": null,
       "overflow_y": null,
       "padding": null,
       "right": null,
       "top": null,
       "visibility": null,
       "width": null
      }
     },
     "28d840131ae048468269fa055b296c9d": {
      "model_module": "@jupyter-widgets/controls",
      "model_module_version": "1.5.0",
      "model_name": "FloatProgressModel",
      "state": {
       "_dom_classes": [],
       "_model_module": "@jupyter-widgets/controls",
       "_model_module_version": "1.5.0",
       "_model_name": "FloatProgressModel",
       "_view_count": null,
       "_view_module": "@jupyter-widgets/controls",
       "_view_module_version": "1.5.0",
       "_view_name": "ProgressView",
       "bar_style": "success",
       "description": "",
       "description_tooltip": null,
       "layout": "IPY_MODEL_54f82429d4ef49adb958d9be5ffa3a66",
       "max": 146.0,
       "min": 0.0,
       "orientation": "horizontal",
       "style": "IPY_MODEL_a5349b21d06842c6a3688c8b97ade20c",
       "value": 146.0
      }
     },
     "2bc42a9569a244e0896a3478ef8ade51": {
      "model_module": "@jupyter-widgets/controls",
      "model_module_version": "1.5.0",
      "model_name": "HTMLModel",
      "state": {
       "_dom_classes": [],
       "_model_module": "@jupyter-widgets/controls",
       "_model_module_version": "1.5.0",
       "_model_name": "HTMLModel",
       "_view_count": null,
       "_view_module": "@jupyter-widgets/controls",
       "_view_module_version": "1.5.0",
       "_view_name": "HTMLView",
       "description": "",
       "description_tooltip": null,
       "layout": "IPY_MODEL_5d224b3cfe244abf84267d9a94bdf534",
       "placeholder": "​",
       "style": "IPY_MODEL_d2dcfb1ef6204516bf0db4a96d787a60",
       "value": "100%"
      }
     },
     "2c525b1d14b741d38cd658c1c9b7f14f": {
      "model_module": "@jupyter-widgets/base",
      "model_module_version": "1.2.0",
      "model_name": "LayoutModel",
      "state": {
       "_model_module": "@jupyter-widgets/base",
       "_model_module_version": "1.2.0",
       "_model_name": "LayoutModel",
       "_view_count": null,
       "_view_module": "@jupyter-widgets/base",
       "_view_module_version": "1.2.0",
       "_view_name": "LayoutView",
       "align_content": null,
       "align_items": null,
       "align_self": null,
       "border": null,
       "bottom": null,
       "display": null,
       "flex": null,
       "flex_flow": null,
       "grid_area": null,
       "grid_auto_columns": null,
       "grid_auto_flow": null,
       "grid_auto_rows": null,
       "grid_column": null,
       "grid_gap": null,
       "grid_row": null,
       "grid_template_areas": null,
       "grid_template_columns": null,
       "grid_template_rows": null,
       "height": null,
       "justify_content": null,
       "justify_items": null,
       "left": null,
       "margin": null,
       "max_height": null,
       "max_width": null,
       "min_height": null,
       "min_width": null,
       "object_fit": null,
       "object_position": null,
       "order": null,
       "overflow": null,
       "overflow_x": null,
       "overflow_y": null,
       "padding": null,
       "right": null,
       "top": null,
       "visibility": null,
       "width": null
      }
     },
     "362ed4fcfe45469eb10dbb6de80b9ac8": {
      "model_module": "@jupyter-widgets/base",
      "model_module_version": "1.2.0",
      "model_name": "LayoutModel",
      "state": {
       "_model_module": "@jupyter-widgets/base",
       "_model_module_version": "1.2.0",
       "_model_name": "LayoutModel",
       "_view_count": null,
       "_view_module": "@jupyter-widgets/base",
       "_view_module_version": "1.2.0",
       "_view_name": "LayoutView",
       "align_content": null,
       "align_items": null,
       "align_self": null,
       "border": null,
       "bottom": null,
       "display": null,
       "flex": null,
       "flex_flow": null,
       "grid_area": null,
       "grid_auto_columns": null,
       "grid_auto_flow": null,
       "grid_auto_rows": null,
       "grid_column": null,
       "grid_gap": null,
       "grid_row": null,
       "grid_template_areas": null,
       "grid_template_columns": null,
       "grid_template_rows": null,
       "height": null,
       "justify_content": null,
       "justify_items": null,
       "left": null,
       "margin": null,
       "max_height": null,
       "max_width": null,
       "min_height": null,
       "min_width": null,
       "object_fit": null,
       "object_position": null,
       "order": null,
       "overflow": null,
       "overflow_x": null,
       "overflow_y": null,
       "padding": null,
       "right": null,
       "top": null,
       "visibility": null,
       "width": null
      }
     },
     "3cc840e321634d6493655f737940f626": {
      "model_module": "@jupyter-widgets/controls",
      "model_module_version": "1.5.0",
      "model_name": "HTMLModel",
      "state": {
       "_dom_classes": [],
       "_model_module": "@jupyter-widgets/controls",
       "_model_module_version": "1.5.0",
       "_model_name": "HTMLModel",
       "_view_count": null,
       "_view_module": "@jupyter-widgets/controls",
       "_view_module_version": "1.5.0",
       "_view_name": "HTMLView",
       "description": "",
       "description_tooltip": null,
       "layout": "IPY_MODEL_583f3571d12e4498926b47ed44e6071e",
       "placeholder": "​",
       "style": "IPY_MODEL_ad2a1f59ab484e52a588db97c24ca96a",
       "value": "100%"
      }
     },
     "3e54cc4be0094cc28dda2d62c3807949": {
      "model_module": "@jupyter-widgets/base",
      "model_module_version": "1.2.0",
      "model_name": "LayoutModel",
      "state": {
       "_model_module": "@jupyter-widgets/base",
       "_model_module_version": "1.2.0",
       "_model_name": "LayoutModel",
       "_view_count": null,
       "_view_module": "@jupyter-widgets/base",
       "_view_module_version": "1.2.0",
       "_view_name": "LayoutView",
       "align_content": null,
       "align_items": null,
       "align_self": null,
       "border": null,
       "bottom": null,
       "display": null,
       "flex": null,
       "flex_flow": null,
       "grid_area": null,
       "grid_auto_columns": null,
       "grid_auto_flow": null,
       "grid_auto_rows": null,
       "grid_column": null,
       "grid_gap": null,
       "grid_row": null,
       "grid_template_areas": null,
       "grid_template_columns": null,
       "grid_template_rows": null,
       "height": null,
       "justify_content": null,
       "justify_items": null,
       "left": null,
       "margin": null,
       "max_height": null,
       "max_width": null,
       "min_height": null,
       "min_width": null,
       "object_fit": null,
       "object_position": null,
       "order": null,
       "overflow": null,
       "overflow_x": null,
       "overflow_y": null,
       "padding": null,
       "right": null,
       "top": null,
       "visibility": null,
       "width": null
      }
     },
     "3f8c18c3e4f04293b2c235fb2ee0c6ab": {
      "model_module": "@jupyter-widgets/controls",
      "model_module_version": "1.5.0",
      "model_name": "HTMLModel",
      "state": {
       "_dom_classes": [],
       "_model_module": "@jupyter-widgets/controls",
       "_model_module_version": "1.5.0",
       "_model_name": "HTMLModel",
       "_view_count": null,
       "_view_module": "@jupyter-widgets/controls",
       "_view_module_version": "1.5.0",
       "_view_name": "HTMLView",
       "description": "",
       "description_tooltip": null,
       "layout": "IPY_MODEL_41e341daf2204c1ba00d318520f704bb",
       "placeholder": "​",
       "style": "IPY_MODEL_af651ec76b294150a686e58e40f2d161",
       "value": " 105/105 [00:18&lt;00:00,  6.65it/s]"
      }
     },
     "41e341daf2204c1ba00d318520f704bb": {
      "model_module": "@jupyter-widgets/base",
      "model_module_version": "1.2.0",
      "model_name": "LayoutModel",
      "state": {
       "_model_module": "@jupyter-widgets/base",
       "_model_module_version": "1.2.0",
       "_model_name": "LayoutModel",
       "_view_count": null,
       "_view_module": "@jupyter-widgets/base",
       "_view_module_version": "1.2.0",
       "_view_name": "LayoutView",
       "align_content": null,
       "align_items": null,
       "align_self": null,
       "border": null,
       "bottom": null,
       "display": null,
       "flex": null,
       "flex_flow": null,
       "grid_area": null,
       "grid_auto_columns": null,
       "grid_auto_flow": null,
       "grid_auto_rows": null,
       "grid_column": null,
       "grid_gap": null,
       "grid_row": null,
       "grid_template_areas": null,
       "grid_template_columns": null,
       "grid_template_rows": null,
       "height": null,
       "justify_content": null,
       "justify_items": null,
       "left": null,
       "margin": null,
       "max_height": null,
       "max_width": null,
       "min_height": null,
       "min_width": null,
       "object_fit": null,
       "object_position": null,
       "order": null,
       "overflow": null,
       "overflow_x": null,
       "overflow_y": null,
       "padding": null,
       "right": null,
       "top": null,
       "visibility": null,
       "width": null
      }
     },
     "44182b4daa4042b785cd49a33302a511": {
      "model_module": "@jupyter-widgets/controls",
      "model_module_version": "1.5.0",
      "model_name": "DescriptionStyleModel",
      "state": {
       "_model_module": "@jupyter-widgets/controls",
       "_model_module_version": "1.5.0",
       "_model_name": "DescriptionStyleModel",
       "_view_count": null,
       "_view_module": "@jupyter-widgets/base",
       "_view_module_version": "1.2.0",
       "_view_name": "StyleView",
       "description_width": ""
      }
     },
     "54045d604d294100825453e2a76e745e": {
      "model_module": "@jupyter-widgets/controls",
      "model_module_version": "1.5.0",
      "model_name": "FloatProgressModel",
      "state": {
       "_dom_classes": [],
       "_model_module": "@jupyter-widgets/controls",
       "_model_module_version": "1.5.0",
       "_model_name": "FloatProgressModel",
       "_view_count": null,
       "_view_module": "@jupyter-widgets/controls",
       "_view_module_version": "1.5.0",
       "_view_name": "ProgressView",
       "bar_style": "success",
       "description": "",
       "description_tooltip": null,
       "layout": "IPY_MODEL_21ae79a130b94eddb84a0ca7a4998dd7",
       "max": 105.0,
       "min": 0.0,
       "orientation": "horizontal",
       "style": "IPY_MODEL_fea2df2baeec4705a23f2a1e0e31c153",
       "value": 105.0
      }
     },
     "54f82429d4ef49adb958d9be5ffa3a66": {
      "model_module": "@jupyter-widgets/base",
      "model_module_version": "1.2.0",
      "model_name": "LayoutModel",
      "state": {
       "_model_module": "@jupyter-widgets/base",
       "_model_module_version": "1.2.0",
       "_model_name": "LayoutModel",
       "_view_count": null,
       "_view_module": "@jupyter-widgets/base",
       "_view_module_version": "1.2.0",
       "_view_name": "LayoutView",
       "align_content": null,
       "align_items": null,
       "align_self": null,
       "border": null,
       "bottom": null,
       "display": null,
       "flex": null,
       "flex_flow": null,
       "grid_area": null,
       "grid_auto_columns": null,
       "grid_auto_flow": null,
       "grid_auto_rows": null,
       "grid_column": null,
       "grid_gap": null,
       "grid_row": null,
       "grid_template_areas": null,
       "grid_template_columns": null,
       "grid_template_rows": null,
       "height": null,
       "justify_content": null,
       "justify_items": null,
       "left": null,
       "margin": null,
       "max_height": null,
       "max_width": null,
       "min_height": null,
       "min_width": null,
       "object_fit": null,
       "object_position": null,
       "order": null,
       "overflow": null,
       "overflow_x": null,
       "overflow_y": null,
       "padding": null,
       "right": null,
       "top": null,
       "visibility": null,
       "width": null
      }
     },
     "583f3571d12e4498926b47ed44e6071e": {
      "model_module": "@jupyter-widgets/base",
      "model_module_version": "1.2.0",
      "model_name": "LayoutModel",
      "state": {
       "_model_module": "@jupyter-widgets/base",
       "_model_module_version": "1.2.0",
       "_model_name": "LayoutModel",
       "_view_count": null,
       "_view_module": "@jupyter-widgets/base",
       "_view_module_version": "1.2.0",
       "_view_name": "LayoutView",
       "align_content": null,
       "align_items": null,
       "align_self": null,
       "border": null,
       "bottom": null,
       "display": null,
       "flex": null,
       "flex_flow": null,
       "grid_area": null,
       "grid_auto_columns": null,
       "grid_auto_flow": null,
       "grid_auto_rows": null,
       "grid_column": null,
       "grid_gap": null,
       "grid_row": null,
       "grid_template_areas": null,
       "grid_template_columns": null,
       "grid_template_rows": null,
       "height": null,
       "justify_content": null,
       "justify_items": null,
       "left": null,
       "margin": null,
       "max_height": null,
       "max_width": null,
       "min_height": null,
       "min_width": null,
       "object_fit": null,
       "object_position": null,
       "order": null,
       "overflow": null,
       "overflow_x": null,
       "overflow_y": null,
       "padding": null,
       "right": null,
       "top": null,
       "visibility": null,
       "width": null
      }
     },
     "5d224b3cfe244abf84267d9a94bdf534": {
      "model_module": "@jupyter-widgets/base",
      "model_module_version": "1.2.0",
      "model_name": "LayoutModel",
      "state": {
       "_model_module": "@jupyter-widgets/base",
       "_model_module_version": "1.2.0",
       "_model_name": "LayoutModel",
       "_view_count": null,
       "_view_module": "@jupyter-widgets/base",
       "_view_module_version": "1.2.0",
       "_view_name": "LayoutView",
       "align_content": null,
       "align_items": null,
       "align_self": null,
       "border": null,
       "bottom": null,
       "display": null,
       "flex": null,
       "flex_flow": null,
       "grid_area": null,
       "grid_auto_columns": null,
       "grid_auto_flow": null,
       "grid_auto_rows": null,
       "grid_column": null,
       "grid_gap": null,
       "grid_row": null,
       "grid_template_areas": null,
       "grid_template_columns": null,
       "grid_template_rows": null,
       "height": null,
       "justify_content": null,
       "justify_items": null,
       "left": null,
       "margin": null,
       "max_height": null,
       "max_width": null,
       "min_height": null,
       "min_width": null,
       "object_fit": null,
       "object_position": null,
       "order": null,
       "overflow": null,
       "overflow_x": null,
       "overflow_y": null,
       "padding": null,
       "right": null,
       "top": null,
       "visibility": null,
       "width": null
      }
     },
     "5f050dfeb63444f188a8e36c0821177b": {
      "model_module": "@jupyter-widgets/base",
      "model_module_version": "1.2.0",
      "model_name": "LayoutModel",
      "state": {
       "_model_module": "@jupyter-widgets/base",
       "_model_module_version": "1.2.0",
       "_model_name": "LayoutModel",
       "_view_count": null,
       "_view_module": "@jupyter-widgets/base",
       "_view_module_version": "1.2.0",
       "_view_name": "LayoutView",
       "align_content": null,
       "align_items": null,
       "align_self": null,
       "border": null,
       "bottom": null,
       "display": null,
       "flex": null,
       "flex_flow": null,
       "grid_area": null,
       "grid_auto_columns": null,
       "grid_auto_flow": null,
       "grid_auto_rows": null,
       "grid_column": null,
       "grid_gap": null,
       "grid_row": null,
       "grid_template_areas": null,
       "grid_template_columns": null,
       "grid_template_rows": null,
       "height": null,
       "justify_content": null,
       "justify_items": null,
       "left": null,
       "margin": null,
       "max_height": null,
       "max_width": null,
       "min_height": null,
       "min_width": null,
       "object_fit": null,
       "object_position": null,
       "order": null,
       "overflow": null,
       "overflow_x": null,
       "overflow_y": null,
       "padding": null,
       "right": null,
       "top": null,
       "visibility": null,
       "width": null
      }
     },
     "6616da89542443f6b28ca6abe5500dfa": {
      "model_module": "@jupyter-widgets/controls",
      "model_module_version": "1.5.0",
      "model_name": "DescriptionStyleModel",
      "state": {
       "_model_module": "@jupyter-widgets/controls",
       "_model_module_version": "1.5.0",
       "_model_name": "DescriptionStyleModel",
       "_view_count": null,
       "_view_module": "@jupyter-widgets/base",
       "_view_module_version": "1.2.0",
       "_view_name": "StyleView",
       "description_width": ""
      }
     },
     "71b89cf9637647f191a0a9a39b28441a": {
      "model_module": "@jupyter-widgets/controls",
      "model_module_version": "1.5.0",
      "model_name": "HTMLModel",
      "state": {
       "_dom_classes": [],
       "_model_module": "@jupyter-widgets/controls",
       "_model_module_version": "1.5.0",
       "_model_name": "HTMLModel",
       "_view_count": null,
       "_view_module": "@jupyter-widgets/controls",
       "_view_module_version": "1.5.0",
       "_view_name": "HTMLView",
       "description": "",
       "description_tooltip": null,
       "layout": "IPY_MODEL_8720859ec0b449548a318912b70add96",
       "placeholder": "​",
       "style": "IPY_MODEL_97b3f67be3ee444a981cd03b83998dfe",
       "value": " 146/146 [00:22&lt;00:00,  5.45it/s]"
      }
     },
     "7d1b21c3c94743bdad4fb1173cb7e5e9": {
      "model_module": "@jupyter-widgets/controls",
      "model_module_version": "1.5.0",
      "model_name": "HBoxModel",
      "state": {
       "_dom_classes": [],
       "_model_module": "@jupyter-widgets/controls",
       "_model_module_version": "1.5.0",
       "_model_name": "HBoxModel",
       "_view_count": null,
       "_view_module": "@jupyter-widgets/controls",
       "_view_module_version": "1.5.0",
       "_view_name": "HBoxView",
       "box_style": "",
       "children": [
        "IPY_MODEL_80d4375f843d4d1ea3e7e1138162865f",
        "IPY_MODEL_8eca0645133b4364a4c98513f7d54a3e",
        "IPY_MODEL_828a2f40301a4b4aab005bb94ba2746a"
       ],
       "layout": "IPY_MODEL_1e964e0e27214574b00ae2d4b0a88384"
      }
     },
     "80cd51f729414f5a81396a6c685fe24e": {
      "model_module": "@jupyter-widgets/base",
      "model_module_version": "1.2.0",
      "model_name": "LayoutModel",
      "state": {
       "_model_module": "@jupyter-widgets/base",
       "_model_module_version": "1.2.0",
       "_model_name": "LayoutModel",
       "_view_count": null,
       "_view_module": "@jupyter-widgets/base",
       "_view_module_version": "1.2.0",
       "_view_name": "LayoutView",
       "align_content": null,
       "align_items": null,
       "align_self": null,
       "border": null,
       "bottom": null,
       "display": null,
       "flex": null,
       "flex_flow": null,
       "grid_area": null,
       "grid_auto_columns": null,
       "grid_auto_flow": null,
       "grid_auto_rows": null,
       "grid_column": null,
       "grid_gap": null,
       "grid_row": null,
       "grid_template_areas": null,
       "grid_template_columns": null,
       "grid_template_rows": null,
       "height": null,
       "justify_content": null,
       "justify_items": null,
       "left": null,
       "margin": null,
       "max_height": null,
       "max_width": null,
       "min_height": null,
       "min_width": null,
       "object_fit": null,
       "object_position": null,
       "order": null,
       "overflow": null,
       "overflow_x": null,
       "overflow_y": null,
       "padding": null,
       "right": null,
       "top": null,
       "visibility": null,
       "width": null
      }
     },
     "80d4375f843d4d1ea3e7e1138162865f": {
      "model_module": "@jupyter-widgets/controls",
      "model_module_version": "1.5.0",
      "model_name": "HTMLModel",
      "state": {
       "_dom_classes": [],
       "_model_module": "@jupyter-widgets/controls",
       "_model_module_version": "1.5.0",
       "_model_name": "HTMLModel",
       "_view_count": null,
       "_view_module": "@jupyter-widgets/controls",
       "_view_module_version": "1.5.0",
       "_view_name": "HTMLView",
       "description": "",
       "description_tooltip": null,
       "layout": "IPY_MODEL_b6c0c575acd74a87a2e8b120797640a4",
       "placeholder": "​",
       "style": "IPY_MODEL_44182b4daa4042b785cd49a33302a511",
       "value": "100%"
      }
     },
     "828a2f40301a4b4aab005bb94ba2746a": {
      "model_module": "@jupyter-widgets/controls",
      "model_module_version": "1.5.0",
      "model_name": "HTMLModel",
      "state": {
       "_dom_classes": [],
       "_model_module": "@jupyter-widgets/controls",
       "_model_module_version": "1.5.0",
       "_model_name": "HTMLModel",
       "_view_count": null,
       "_view_module": "@jupyter-widgets/controls",
       "_view_module_version": "1.5.0",
       "_view_name": "HTMLView",
       "description": "",
       "description_tooltip": null,
       "layout": "IPY_MODEL_3e54cc4be0094cc28dda2d62c3807949",
       "placeholder": "​",
       "style": "IPY_MODEL_9b5825f457344542b4df68a335261fd8",
       "value": " 146/146 [00:26&lt;00:00,  4.97it/s]"
      }
     },
     "85480e4c6f31474ebe591af30a3c6d4a": {
      "model_module": "@jupyter-widgets/controls",
      "model_module_version": "1.5.0",
      "model_name": "HTMLModel",
      "state": {
       "_dom_classes": [],
       "_model_module": "@jupyter-widgets/controls",
       "_model_module_version": "1.5.0",
       "_model_name": "HTMLModel",
       "_view_count": null,
       "_view_module": "@jupyter-widgets/controls",
       "_view_module_version": "1.5.0",
       "_view_name": "HTMLView",
       "description": "",
       "description_tooltip": null,
       "layout": "IPY_MODEL_9585eeb824f54e549826397f6b0f83d6",
       "placeholder": "​",
       "style": "IPY_MODEL_0d099f7dcc534c3d9e230217fbb10f65",
       "value": "100%"
      }
     },
     "8720859ec0b449548a318912b70add96": {
      "model_module": "@jupyter-widgets/base",
      "model_module_version": "1.2.0",
      "model_name": "LayoutModel",
      "state": {
       "_model_module": "@jupyter-widgets/base",
       "_model_module_version": "1.2.0",
       "_model_name": "LayoutModel",
       "_view_count": null,
       "_view_module": "@jupyter-widgets/base",
       "_view_module_version": "1.2.0",
       "_view_name": "LayoutView",
       "align_content": null,
       "align_items": null,
       "align_self": null,
       "border": null,
       "bottom": null,
       "display": null,
       "flex": null,
       "flex_flow": null,
       "grid_area": null,
       "grid_auto_columns": null,
       "grid_auto_flow": null,
       "grid_auto_rows": null,
       "grid_column": null,
       "grid_gap": null,
       "grid_row": null,
       "grid_template_areas": null,
       "grid_template_columns": null,
       "grid_template_rows": null,
       "height": null,
       "justify_content": null,
       "justify_items": null,
       "left": null,
       "margin": null,
       "max_height": null,
       "max_width": null,
       "min_height": null,
       "min_width": null,
       "object_fit": null,
       "object_position": null,
       "order": null,
       "overflow": null,
       "overflow_x": null,
       "overflow_y": null,
       "padding": null,
       "right": null,
       "top": null,
       "visibility": null,
       "width": null
      }
     },
     "8eca0645133b4364a4c98513f7d54a3e": {
      "model_module": "@jupyter-widgets/controls",
      "model_module_version": "1.5.0",
      "model_name": "FloatProgressModel",
      "state": {
       "_dom_classes": [],
       "_model_module": "@jupyter-widgets/controls",
       "_model_module_version": "1.5.0",
       "_model_name": "FloatProgressModel",
       "_view_count": null,
       "_view_module": "@jupyter-widgets/controls",
       "_view_module_version": "1.5.0",
       "_view_name": "ProgressView",
       "bar_style": "success",
       "description": "",
       "description_tooltip": null,
       "layout": "IPY_MODEL_dc6b15455d0c4c90bd39a3de8eafa75e",
       "max": 146.0,
       "min": 0.0,
       "orientation": "horizontal",
       "style": "IPY_MODEL_d32d05ccc6914a96a91342b962ad5c1c",
       "value": 146.0
      }
     },
     "9435a7667de34dee90514ce1aa0addf9": {
      "model_module": "@jupyter-widgets/controls",
      "model_module_version": "1.5.0",
      "model_name": "HBoxModel",
      "state": {
       "_dom_classes": [],
       "_model_module": "@jupyter-widgets/controls",
       "_model_module_version": "1.5.0",
       "_model_name": "HBoxModel",
       "_view_count": null,
       "_view_module": "@jupyter-widgets/controls",
       "_view_module_version": "1.5.0",
       "_view_name": "HBoxView",
       "box_style": "",
       "children": [
        "IPY_MODEL_2bc42a9569a244e0896a3478ef8ade51",
        "IPY_MODEL_a940b133500c418cb205dc6bcdedd1f3",
        "IPY_MODEL_a9704cef859c488cbebf8ddb3f225044"
       ],
       "layout": "IPY_MODEL_bd779e51afac43b8b47ae925d069b571"
      }
     },
     "9585eeb824f54e549826397f6b0f83d6": {
      "model_module": "@jupyter-widgets/base",
      "model_module_version": "1.2.0",
      "model_name": "LayoutModel",
      "state": {
       "_model_module": "@jupyter-widgets/base",
       "_model_module_version": "1.2.0",
       "_model_name": "LayoutModel",
       "_view_count": null,
       "_view_module": "@jupyter-widgets/base",
       "_view_module_version": "1.2.0",
       "_view_name": "LayoutView",
       "align_content": null,
       "align_items": null,
       "align_self": null,
       "border": null,
       "bottom": null,
       "display": null,
       "flex": null,
       "flex_flow": null,
       "grid_area": null,
       "grid_auto_columns": null,
       "grid_auto_flow": null,
       "grid_auto_rows": null,
       "grid_column": null,
       "grid_gap": null,
       "grid_row": null,
       "grid_template_areas": null,
       "grid_template_columns": null,
       "grid_template_rows": null,
       "height": null,
       "justify_content": null,
       "justify_items": null,
       "left": null,
       "margin": null,
       "max_height": null,
       "max_width": null,
       "min_height": null,
       "min_width": null,
       "object_fit": null,
       "object_position": null,
       "order": null,
       "overflow": null,
       "overflow_x": null,
       "overflow_y": null,
       "padding": null,
       "right": null,
       "top": null,
       "visibility": null,
       "width": null
      }
     },
     "97b3f67be3ee444a981cd03b83998dfe": {
      "model_module": "@jupyter-widgets/controls",
      "model_module_version": "1.5.0",
      "model_name": "DescriptionStyleModel",
      "state": {
       "_model_module": "@jupyter-widgets/controls",
       "_model_module_version": "1.5.0",
       "_model_name": "DescriptionStyleModel",
       "_view_count": null,
       "_view_module": "@jupyter-widgets/base",
       "_view_module_version": "1.2.0",
       "_view_name": "StyleView",
       "description_width": ""
      }
     },
     "9b5825f457344542b4df68a335261fd8": {
      "model_module": "@jupyter-widgets/controls",
      "model_module_version": "1.5.0",
      "model_name": "DescriptionStyleModel",
      "state": {
       "_model_module": "@jupyter-widgets/controls",
       "_model_module_version": "1.5.0",
       "_model_name": "DescriptionStyleModel",
       "_view_count": null,
       "_view_module": "@jupyter-widgets/base",
       "_view_module_version": "1.2.0",
       "_view_name": "StyleView",
       "description_width": ""
      }
     },
     "a5349b21d06842c6a3688c8b97ade20c": {
      "model_module": "@jupyter-widgets/controls",
      "model_module_version": "1.5.0",
      "model_name": "ProgressStyleModel",
      "state": {
       "_model_module": "@jupyter-widgets/controls",
       "_model_module_version": "1.5.0",
       "_model_name": "ProgressStyleModel",
       "_view_count": null,
       "_view_module": "@jupyter-widgets/base",
       "_view_module_version": "1.2.0",
       "_view_name": "StyleView",
       "bar_color": null,
       "description_width": ""
      }
     },
     "a940b133500c418cb205dc6bcdedd1f3": {
      "model_module": "@jupyter-widgets/controls",
      "model_module_version": "1.5.0",
      "model_name": "FloatProgressModel",
      "state": {
       "_dom_classes": [],
       "_model_module": "@jupyter-widgets/controls",
       "_model_module_version": "1.5.0",
       "_model_name": "FloatProgressModel",
       "_view_count": null,
       "_view_module": "@jupyter-widgets/controls",
       "_view_module_version": "1.5.0",
       "_view_name": "ProgressView",
       "bar_style": "success",
       "description": "",
       "description_tooltip": null,
       "layout": "IPY_MODEL_362ed4fcfe45469eb10dbb6de80b9ac8",
       "max": 146.0,
       "min": 0.0,
       "orientation": "horizontal",
       "style": "IPY_MODEL_ae1b0e59f0704144bacd0faa35573805",
       "value": 146.0
      }
     },
     "a9704cef859c488cbebf8ddb3f225044": {
      "model_module": "@jupyter-widgets/controls",
      "model_module_version": "1.5.0",
      "model_name": "HTMLModel",
      "state": {
       "_dom_classes": [],
       "_model_module": "@jupyter-widgets/controls",
       "_model_module_version": "1.5.0",
       "_model_name": "HTMLModel",
       "_view_count": null,
       "_view_module": "@jupyter-widgets/controls",
       "_view_module_version": "1.5.0",
       "_view_name": "HTMLView",
       "description": "",
       "description_tooltip": null,
       "layout": "IPY_MODEL_5f050dfeb63444f188a8e36c0821177b",
       "placeholder": "​",
       "style": "IPY_MODEL_6616da89542443f6b28ca6abe5500dfa",
       "value": " 146/146 [00:06&lt;00:00, 30.40it/s]"
      }
     },
     "ad2a1f59ab484e52a588db97c24ca96a": {
      "model_module": "@jupyter-widgets/controls",
      "model_module_version": "1.5.0",
      "model_name": "DescriptionStyleModel",
      "state": {
       "_model_module": "@jupyter-widgets/controls",
       "_model_module_version": "1.5.0",
       "_model_name": "DescriptionStyleModel",
       "_view_count": null,
       "_view_module": "@jupyter-widgets/base",
       "_view_module_version": "1.2.0",
       "_view_name": "StyleView",
       "description_width": ""
      }
     },
     "ae1b0e59f0704144bacd0faa35573805": {
      "model_module": "@jupyter-widgets/controls",
      "model_module_version": "1.5.0",
      "model_name": "ProgressStyleModel",
      "state": {
       "_model_module": "@jupyter-widgets/controls",
       "_model_module_version": "1.5.0",
       "_model_name": "ProgressStyleModel",
       "_view_count": null,
       "_view_module": "@jupyter-widgets/base",
       "_view_module_version": "1.2.0",
       "_view_name": "StyleView",
       "bar_color": null,
       "description_width": ""
      }
     },
     "af651ec76b294150a686e58e40f2d161": {
      "model_module": "@jupyter-widgets/controls",
      "model_module_version": "1.5.0",
      "model_name": "DescriptionStyleModel",
      "state": {
       "_model_module": "@jupyter-widgets/controls",
       "_model_module_version": "1.5.0",
       "_model_name": "DescriptionStyleModel",
       "_view_count": null,
       "_view_module": "@jupyter-widgets/base",
       "_view_module_version": "1.2.0",
       "_view_name": "StyleView",
       "description_width": ""
      }
     },
     "b5ddbaa4c50942089197cbe94f9fa8c5": {
      "model_module": "@jupyter-widgets/controls",
      "model_module_version": "1.5.0",
      "model_name": "HBoxModel",
      "state": {
       "_dom_classes": [],
       "_model_module": "@jupyter-widgets/controls",
       "_model_module_version": "1.5.0",
       "_model_name": "HBoxModel",
       "_view_count": null,
       "_view_module": "@jupyter-widgets/controls",
       "_view_module_version": "1.5.0",
       "_view_name": "HBoxView",
       "box_style": "",
       "children": [
        "IPY_MODEL_3cc840e321634d6493655f737940f626",
        "IPY_MODEL_28d840131ae048468269fa055b296c9d",
        "IPY_MODEL_71b89cf9637647f191a0a9a39b28441a"
       ],
       "layout": "IPY_MODEL_80cd51f729414f5a81396a6c685fe24e"
      }
     },
     "b6c0c575acd74a87a2e8b120797640a4": {
      "model_module": "@jupyter-widgets/base",
      "model_module_version": "1.2.0",
      "model_name": "LayoutModel",
      "state": {
       "_model_module": "@jupyter-widgets/base",
       "_model_module_version": "1.2.0",
       "_model_name": "LayoutModel",
       "_view_count": null,
       "_view_module": "@jupyter-widgets/base",
       "_view_module_version": "1.2.0",
       "_view_name": "LayoutView",
       "align_content": null,
       "align_items": null,
       "align_self": null,
       "border": null,
       "bottom": null,
       "display": null,
       "flex": null,
       "flex_flow": null,
       "grid_area": null,
       "grid_auto_columns": null,
       "grid_auto_flow": null,
       "grid_auto_rows": null,
       "grid_column": null,
       "grid_gap": null,
       "grid_row": null,
       "grid_template_areas": null,
       "grid_template_columns": null,
       "grid_template_rows": null,
       "height": null,
       "justify_content": null,
       "justify_items": null,
       "left": null,
       "margin": null,
       "max_height": null,
       "max_width": null,
       "min_height": null,
       "min_width": null,
       "object_fit": null,
       "object_position": null,
       "order": null,
       "overflow": null,
       "overflow_x": null,
       "overflow_y": null,
       "padding": null,
       "right": null,
       "top": null,
       "visibility": null,
       "width": null
      }
     },
     "bd779e51afac43b8b47ae925d069b571": {
      "model_module": "@jupyter-widgets/base",
      "model_module_version": "1.2.0",
      "model_name": "LayoutModel",
      "state": {
       "_model_module": "@jupyter-widgets/base",
       "_model_module_version": "1.2.0",
       "_model_name": "LayoutModel",
       "_view_count": null,
       "_view_module": "@jupyter-widgets/base",
       "_view_module_version": "1.2.0",
       "_view_name": "LayoutView",
       "align_content": null,
       "align_items": null,
       "align_self": null,
       "border": null,
       "bottom": null,
       "display": null,
       "flex": null,
       "flex_flow": null,
       "grid_area": null,
       "grid_auto_columns": null,
       "grid_auto_flow": null,
       "grid_auto_rows": null,
       "grid_column": null,
       "grid_gap": null,
       "grid_row": null,
       "grid_template_areas": null,
       "grid_template_columns": null,
       "grid_template_rows": null,
       "height": null,
       "justify_content": null,
       "justify_items": null,
       "left": null,
       "margin": null,
       "max_height": null,
       "max_width": null,
       "min_height": null,
       "min_width": null,
       "object_fit": null,
       "object_position": null,
       "order": null,
       "overflow": null,
       "overflow_x": null,
       "overflow_y": null,
       "padding": null,
       "right": null,
       "top": null,
       "visibility": null,
       "width": null
      }
     },
     "d2dcfb1ef6204516bf0db4a96d787a60": {
      "model_module": "@jupyter-widgets/controls",
      "model_module_version": "1.5.0",
      "model_name": "DescriptionStyleModel",
      "state": {
       "_model_module": "@jupyter-widgets/controls",
       "_model_module_version": "1.5.0",
       "_model_name": "DescriptionStyleModel",
       "_view_count": null,
       "_view_module": "@jupyter-widgets/base",
       "_view_module_version": "1.2.0",
       "_view_name": "StyleView",
       "description_width": ""
      }
     },
     "d32d05ccc6914a96a91342b962ad5c1c": {
      "model_module": "@jupyter-widgets/controls",
      "model_module_version": "1.5.0",
      "model_name": "ProgressStyleModel",
      "state": {
       "_model_module": "@jupyter-widgets/controls",
       "_model_module_version": "1.5.0",
       "_model_name": "ProgressStyleModel",
       "_view_count": null,
       "_view_module": "@jupyter-widgets/base",
       "_view_module_version": "1.2.0",
       "_view_name": "StyleView",
       "bar_color": null,
       "description_width": ""
      }
     },
     "dc6b15455d0c4c90bd39a3de8eafa75e": {
      "model_module": "@jupyter-widgets/base",
      "model_module_version": "1.2.0",
      "model_name": "LayoutModel",
      "state": {
       "_model_module": "@jupyter-widgets/base",
       "_model_module_version": "1.2.0",
       "_model_name": "LayoutModel",
       "_view_count": null,
       "_view_module": "@jupyter-widgets/base",
       "_view_module_version": "1.2.0",
       "_view_name": "LayoutView",
       "align_content": null,
       "align_items": null,
       "align_self": null,
       "border": null,
       "bottom": null,
       "display": null,
       "flex": null,
       "flex_flow": null,
       "grid_area": null,
       "grid_auto_columns": null,
       "grid_auto_flow": null,
       "grid_auto_rows": null,
       "grid_column": null,
       "grid_gap": null,
       "grid_row": null,
       "grid_template_areas": null,
       "grid_template_columns": null,
       "grid_template_rows": null,
       "height": null,
       "justify_content": null,
       "justify_items": null,
       "left": null,
       "margin": null,
       "max_height": null,
       "max_width": null,
       "min_height": null,
       "min_width": null,
       "object_fit": null,
       "object_position": null,
       "order": null,
       "overflow": null,
       "overflow_x": null,
       "overflow_y": null,
       "padding": null,
       "right": null,
       "top": null,
       "visibility": null,
       "width": null
      }
     },
     "fea2df2baeec4705a23f2a1e0e31c153": {
      "model_module": "@jupyter-widgets/controls",
      "model_module_version": "1.5.0",
      "model_name": "ProgressStyleModel",
      "state": {
       "_model_module": "@jupyter-widgets/controls",
       "_model_module_version": "1.5.0",
       "_model_name": "ProgressStyleModel",
       "_view_count": null,
       "_view_module": "@jupyter-widgets/base",
       "_view_module_version": "1.2.0",
       "_view_name": "StyleView",
       "bar_color": null,
       "description_width": ""
      }
     }
    },
    "version_major": 2,
    "version_minor": 0
   }
  }
 },
 "nbformat": 4,
 "nbformat_minor": 5
}
