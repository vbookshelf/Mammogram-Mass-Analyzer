{
 "cells": [
  {
   "cell_type": "code",
   "execution_count": null,
   "metadata": {},
   "outputs": [],
   "source": []
  },
  {
   "cell_type": "code",
   "execution_count": 1,
   "metadata": {
    "execution": {
     "iopub.execute_input": "2022-11-28T01:49:29.423237Z",
     "iopub.status.busy": "2022-11-28T01:49:29.422676Z",
     "iopub.status.idle": "2022-11-28T01:49:29.457415Z",
     "shell.execute_reply": "2022-11-28T01:49:29.456202Z",
     "shell.execute_reply.started": "2022-11-28T01:49:29.423134Z"
    }
   },
   "outputs": [],
   "source": [
    "ENV = 'VAST' # Colab, VAST, Kaggle"
   ]
  },
  {
   "cell_type": "code",
   "execution_count": 2,
   "metadata": {
    "execution": {
     "iopub.execute_input": "2022-11-28T01:49:29.459968Z",
     "iopub.status.busy": "2022-11-28T01:49:29.459577Z",
     "iopub.status.idle": "2022-11-28T01:49:34.019795Z",
     "shell.execute_reply": "2022-11-28T01:49:34.018647Z",
     "shell.execute_reply.started": "2022-11-28T01:49:29.459923Z"
    },
    "papermill": {
     "duration": 11.55616,
     "end_time": "2021-07-18T05:38:38.821538",
     "exception": false,
     "start_time": "2021-07-18T05:38:27.265378",
     "status": "completed"
    },
    "tags": []
   },
   "outputs": [
    {
     "name": "stdout",
     "output_type": "stream",
     "text": [
      "1.12.0.dev20220327+cu113\n",
      "0.13.0.dev20220327+cu113\n"
     ]
    }
   ],
   "source": [
    "import pandas as pd\n",
    "import numpy as np\n",
    "import os\n",
    "\n",
    "\n",
    "import cv2\n",
    "import time\n",
    "import shutil\n",
    "\n",
    "import torch\n",
    "import torch.nn as nn\n",
    "import torch.optim as optim\n",
    "import torch.nn.functional as F\n",
    "\n",
    "import torchvision\n",
    "import torchvision.transforms as transforms\n",
    "\n",
    "from torch.utils.data import Dataset, DataLoader\n",
    "from torchvision import transforms, utils\n",
    "\n",
    "from torch.utils.data import Dataset, DataLoader\n",
    "\n",
    "#from tqdm import tqdm\n",
    "\n",
    "# tqdm doesn't work well in colab.\n",
    "# This is the solution:\n",
    "# https://stackoverflow.com/questions/41707229/tqdm-printing-to-newline\n",
    "import tqdm.notebook as tq\n",
    "#for i in tq.tqdm(...):\n",
    "\n",
    "from tqdm import tqdm_notebook as tqdm\n",
    "\n",
    "import gc\n",
    "\n",
    "\n",
    "import albumentations as albu\n",
    "from albumentations import Compose\n",
    "\n",
    "\n",
    "from sklearn import model_selection\n",
    "from sklearn.utils import shuffle\n",
    "from sklearn import metrics\n",
    "from sklearn.metrics import confusion_matrix\n",
    "from sklearn.metrics import classification_report, jaccard_score\n",
    "import itertools\n",
    "\n",
    "\n",
    "# load image with Pillow\n",
    "from PIL import Image\n",
    "\n",
    "from numpy import asarray\n",
    "\n",
    "from skimage.transform import resize\n",
    "\n",
    "\n",
    "import matplotlib.pyplot as plt\n",
    "\n",
    "# Don't Show Warning Messages\n",
    "import warnings\n",
    "warnings.filterwarnings('ignore')\n",
    "\n",
    "# Note: Pytorch uses a channels-first format:\n",
    "# [batch_size, num_channels, height, width]\n",
    "\n",
    "print(torch.__version__)\n",
    "\n",
    "print(torchvision.__version__)"
   ]
  },
  {
   "cell_type": "code",
   "execution_count": 3,
   "metadata": {
    "execution": {
     "iopub.execute_input": "2022-11-28T01:49:34.022089Z",
     "iopub.status.busy": "2022-11-28T01:49:34.021313Z",
     "iopub.status.idle": "2022-11-28T01:49:34.031409Z",
     "shell.execute_reply": "2022-11-28T01:49:34.030054Z",
     "shell.execute_reply.started": "2022-11-28T01:49:34.022054Z"
    },
    "papermill": {
     "duration": 0.227737,
     "end_time": "2021-07-18T05:38:39.265366",
     "exception": false,
     "start_time": "2021-07-18T05:38:39.037629",
     "status": "completed"
    },
    "tags": []
   },
   "outputs": [],
   "source": [
    "# Set the seed values\n",
    "\n",
    "import random\n",
    "\n",
    "# Set the seed value all over the place to make this reproducible.\n",
    "seed_val = 101\n",
    "\n",
    "os.environ['PYTHONHASHSEED'] = str(seed_val)\n",
    "random.seed(seed_val)\n",
    "np.random.seed(seed_val)\n",
    "torch.manual_seed(seed_val)\n",
    "torch.cuda.manual_seed_all(seed_val)\n",
    "torch.backends.cudnn.deterministic = True"
   ]
  },
  {
   "cell_type": "code",
   "execution_count": 4,
   "metadata": {},
   "outputs": [
    {
     "name": "stdout",
     "output_type": "stream",
     "text": [
      "Num GPUs: 2\n",
      "GPU Type: NVIDIA RTX A5000\n"
     ]
    }
   ],
   "source": [
    "if torch.cuda.is_available():\n",
    "    print('Num GPUs:', torch.cuda.device_count())\n",
    "    print('GPU Type:', torch.cuda.get_device_name(0))"
   ]
  },
  {
   "cell_type": "code",
   "execution_count": 5,
   "metadata": {
    "execution": {
     "iopub.execute_input": "2022-11-28T01:49:34.036070Z",
     "iopub.status.busy": "2022-11-28T01:49:34.034859Z",
     "iopub.status.idle": "2022-11-28T01:49:34.045742Z",
     "shell.execute_reply": "2022-11-28T01:49:34.044656Z",
     "shell.execute_reply.started": "2022-11-28T01:49:34.035999Z"
    }
   },
   "outputs": [
    {
     "name": "stdout",
     "output_type": "stream",
     "text": [
      "VAST\n"
     ]
    }
   ],
   "source": [
    "IMAGES_FOLDER = 'images_dir'\n",
    "\n",
    "if ENV == 'VAST':\n",
    "    \n",
    "    root = '/root'\n",
    "    base_path = '/root/smart-mammo-data/'\n",
    "    data_path = '/root/exp49_10f_df_data_w_folds.csv'\n",
    "    \n",
    "\n",
    "if ENV == 'Kaggle':\n",
    "    \n",
    "    root = '/kaggle/working'\n",
    "    base_path = '../input/smart-mammo-data/'\n",
    "    data_path = '../input/exp49-mammo-create-the-7-folds/df_data_w_folds.csv'\n",
    "    \n",
    "    \n",
    "print(ENV)"
   ]
  },
  {
   "cell_type": "code",
   "execution_count": 6,
   "metadata": {
    "execution": {
     "iopub.execute_input": "2022-11-28T01:49:34.047597Z",
     "iopub.status.busy": "2022-11-28T01:49:34.047201Z",
     "iopub.status.idle": "2022-11-28T01:49:34.072644Z",
     "shell.execute_reply": "2022-11-28T01:49:34.071473Z",
     "shell.execute_reply.started": "2022-11-28T01:49:34.047562Z"
    },
    "papermill": {
     "duration": 0.22636,
     "end_time": "2021-07-18T05:38:39.705411",
     "exception": false,
     "start_time": "2021-07-18T05:38:39.479051",
     "status": "completed"
    },
    "tags": []
   },
   "outputs": [
    {
     "data": {
      "text/plain": [
       "['VinDR-Mammo-Data',\n",
       " 'bens_images_dir',\n",
       " 'data_for_simulation',\n",
       " 'df_data.csv',\n",
       " 'df_data_bens.csv',\n",
       " 'df_data_padded.csv',\n",
       " 'exp06-spine-prepare-the-images-original-size.ipynb',\n",
       " 'exp17-LOCAL-pad--prepare-the-images-original-size.ipynb',\n",
       " 'exp33_best.pt',\n",
       " 'images_dir',\n",
       " 'v2_images_dir']"
      ]
     },
     "execution_count": 6,
     "metadata": {},
     "output_type": "execute_result"
    }
   ],
   "source": [
    "os.listdir(base_path)"
   ]
  },
  {
   "cell_type": "markdown",
   "metadata": {},
   "source": [
    "## Config"
   ]
  },
  {
   "cell_type": "code",
   "execution_count": 7,
   "metadata": {
    "execution": {
     "iopub.execute_input": "2022-11-28T01:49:34.074917Z",
     "iopub.status.busy": "2022-11-28T01:49:34.074463Z",
     "iopub.status.idle": "2022-11-28T01:49:34.083069Z",
     "shell.execute_reply": "2022-11-28T01:49:34.081889Z",
     "shell.execute_reply.started": "2022-11-28T01:49:34.074873Z"
    },
    "papermill": {
     "duration": 0.225834,
     "end_time": "2021-07-18T05:38:40.577433",
     "exception": false,
     "start_time": "2021-07-18T05:38:40.351599",
     "status": "completed"
    },
    "tags": []
   },
   "outputs": [
    {
     "data": {
      "text/plain": [
       "128"
      ]
     },
     "execution_count": 7,
     "metadata": {},
     "output_type": "execute_result"
    }
   ],
   "source": [
    "# This is the fold that Yolo is trained on\n",
    "CHOSEN_FOLD = 0\n",
    "\n",
    "\n",
    "# Yolo setup:\n",
    "NUM_EPOCHS = 90\n",
    "\n",
    "# The batch size must be a even number when using multiple GPUs\n",
    "BATCH_SIZE = 32\n",
    "IMAGE_SIZE = 1024 # Yolo will automatically resize the input images to this size.\n",
    "\n",
    "NUM_CORES = os.cpu_count()\n",
    "NUM_CORES"
   ]
  },
  {
   "cell_type": "markdown",
   "metadata": {
    "papermill": {
     "duration": 0.215149,
     "end_time": "2021-07-18T05:38:41.008781",
     "exception": false,
     "start_time": "2021-07-18T05:38:40.793632",
     "status": "completed"
    },
    "tags": []
   },
   "source": [
    "## Set up Yolov5 - For offline use\n",
    "\n",
    "The Yolov5 model being used here needs to have the internet turned for training to work. However, it does not need to have the internet on during inference."
   ]
  },
  {
   "cell_type": "code",
   "execution_count": 8,
   "metadata": {
    "execution": {
     "iopub.execute_input": "2022-11-28T01:49:34.085575Z",
     "iopub.status.busy": "2022-11-28T01:49:34.084585Z",
     "iopub.status.idle": "2022-11-28T01:49:42.883739Z",
     "shell.execute_reply": "2022-11-28T01:49:42.882468Z",
     "shell.execute_reply.started": "2022-11-28T01:49:34.085529Z"
    },
    "papermill": {
     "duration": 1.303094,
     "end_time": "2021-07-18T05:38:42.525305",
     "exception": false,
     "start_time": "2021-07-18T05:38:41.222211",
     "status": "completed"
    },
    "tags": []
   },
   "outputs": [],
   "source": [
    "# Copy the yolov5 folder from the notebook to  /kaggle/working/\n",
    "# The folder will be renamed yolov5 when copied.\n",
    "# The yolov5-v5.0 folder also contains the trained weights.\n",
    "\n",
    "\n",
    "if os.path.isdir(f'{root}/yolov5') == False:\n",
    "    \n",
    "    if ENV == 'Kaggle':\n",
    "        shutil.copytree('../input/my-yolov5-for-offline-use/yolov5-v5.0', '/kaggle/working/yolov5')\n",
    "        \n",
    "    if ENV == 'VAST':\n",
    "        shutil.copytree('my-yolov5-for-offline-use/yolov5-v5.0', f'{root}/yolov5')"
   ]
  },
  {
   "cell_type": "code",
   "execution_count": 9,
   "metadata": {
    "execution": {
     "iopub.execute_input": "2022-11-28T01:49:42.885971Z",
     "iopub.status.busy": "2022-11-28T01:49:42.885390Z",
     "iopub.status.idle": "2022-11-28T01:49:43.998608Z",
     "shell.execute_reply": "2022-11-28T01:49:43.997337Z",
     "shell.execute_reply.started": "2022-11-28T01:49:42.885904Z"
    },
    "papermill": {
     "duration": 1.013171,
     "end_time": "2021-07-18T05:38:43.756671",
     "exception": false,
     "start_time": "2021-07-18T05:38:42.7435",
     "status": "completed"
    },
    "tags": []
   },
   "outputs": [
    {
     "name": "stdout",
     "output_type": "stream",
     "text": [
      "/bin/bash: warning: setlocale: LC_ALL: cannot change locale (en_US.UTF-8)\r\n",
      "VAST_Setup_Notebook_for_Mammo.ipynb   onstart.sh\r\n",
      "exp49_10f_df_data_w_folds.csv\t      ports.log\r\n",
      "exp50-mammo-yolov5-5-0-yolov5l.ipynb  requirements.txt\r\n",
      "input\t\t\t\t      smart-mammo-data\r\n",
      "my-yolov5-for-offline-use\t      yolov5\r\n",
      "onstart.log\r\n"
     ]
    }
   ],
   "source": [
    "!ls"
   ]
  },
  {
   "cell_type": "markdown",
   "metadata": {
    "papermill": {
     "duration": 0.215286,
     "end_time": "2021-07-18T05:38:44.189361",
     "exception": false,
     "start_time": "2021-07-18T05:38:43.974075",
     "status": "completed"
    },
    "tags": []
   },
   "source": [
    "## Load the train data"
   ]
  },
  {
   "cell_type": "code",
   "execution_count": 10,
   "metadata": {
    "execution": {
     "iopub.execute_input": "2022-11-28T01:49:44.000776Z",
     "iopub.status.busy": "2022-11-28T01:49:44.000233Z",
     "iopub.status.idle": "2022-11-28T01:49:44.067117Z",
     "shell.execute_reply": "2022-11-28T01:49:44.065817Z",
     "shell.execute_reply.started": "2022-11-28T01:49:44.000741Z"
    },
    "papermill": {
     "duration": 0.415195,
     "end_time": "2021-07-18T05:38:44.823811",
     "exception": false,
     "start_time": "2021-07-18T05:38:44.408616",
     "status": "completed"
    },
    "tags": []
   },
   "outputs": [
    {
     "name": "stdout",
     "output_type": "stream",
     "text": [
      "(1426, 20)\n"
     ]
    },
    {
     "data": {
      "text/html": [
       "<div>\n",
       "<style scoped>\n",
       "    .dataframe tbody tr th:only-of-type {\n",
       "        vertical-align: middle;\n",
       "    }\n",
       "\n",
       "    .dataframe tbody tr th {\n",
       "        vertical-align: top;\n",
       "    }\n",
       "\n",
       "    .dataframe thead th {\n",
       "        text-align: right;\n",
       "    }\n",
       "</style>\n",
       "<table border=\"1\" class=\"dataframe\">\n",
       "  <thead>\n",
       "    <tr style=\"text-align: right;\">\n",
       "      <th></th>\n",
       "      <th>study_id</th>\n",
       "      <th>series_id</th>\n",
       "      <th>image_id</th>\n",
       "      <th>laterality</th>\n",
       "      <th>view_position</th>\n",
       "      <th>height</th>\n",
       "      <th>width</th>\n",
       "      <th>breast_birads</th>\n",
       "      <th>breast_density</th>\n",
       "      <th>finding_categories</th>\n",
       "      <th>finding_birads</th>\n",
       "      <th>xmin</th>\n",
       "      <th>ymin</th>\n",
       "      <th>xmax</th>\n",
       "      <th>ymax</th>\n",
       "      <th>split</th>\n",
       "      <th>path</th>\n",
       "      <th>num_findings</th>\n",
       "      <th>target</th>\n",
       "      <th>fold</th>\n",
       "    </tr>\n",
       "  </thead>\n",
       "  <tbody>\n",
       "    <tr>\n",
       "      <th>0</th>\n",
       "      <td>517563a43eab4f90efc650fcb0d215d5</td>\n",
       "      <td>37d2595b7ec81bd31a18d26afdb0aabf</td>\n",
       "      <td>c54fbe3a374b9e157280479c4649b11a</td>\n",
       "      <td>L</td>\n",
       "      <td>MLO</td>\n",
       "      <td>2812</td>\n",
       "      <td>2012</td>\n",
       "      <td>BI-RADS 1</td>\n",
       "      <td>DENSITY C</td>\n",
       "      <td>['No Finding']</td>\n",
       "      <td>NaN</td>\n",
       "      <td>NaN</td>\n",
       "      <td>NaN</td>\n",
       "      <td>NaN</td>\n",
       "      <td>NaN</td>\n",
       "      <td>test</td>\n",
       "      <td>../input/smart-mammo-data/images_dir/images_di...</td>\n",
       "      <td>1</td>\n",
       "      <td>0</td>\n",
       "      <td>2.0</td>\n",
       "    </tr>\n",
       "    <tr>\n",
       "      <th>1</th>\n",
       "      <td>f8894c9173aaa865bd43751eeeacd3b0</td>\n",
       "      <td>1225d3a302306aca94552c0f8c30fe2c</td>\n",
       "      <td>78dfa5f3dd380341cc17955f52279728</td>\n",
       "      <td>R</td>\n",
       "      <td>MLO</td>\n",
       "      <td>3518</td>\n",
       "      <td>2800</td>\n",
       "      <td>BI-RADS 1</td>\n",
       "      <td>DENSITY C</td>\n",
       "      <td>['No Finding']</td>\n",
       "      <td>NaN</td>\n",
       "      <td>NaN</td>\n",
       "      <td>NaN</td>\n",
       "      <td>NaN</td>\n",
       "      <td>NaN</td>\n",
       "      <td>test</td>\n",
       "      <td>../input/smart-mammo-data/images_dir/images_di...</td>\n",
       "      <td>1</td>\n",
       "      <td>0</td>\n",
       "      <td>2.0</td>\n",
       "    </tr>\n",
       "    <tr>\n",
       "      <th>2</th>\n",
       "      <td>05783bf55ed93d5ec21d4e0e8546a5f0</td>\n",
       "      <td>da0aae7d4ed0388e3e15da1fd90af2e1</td>\n",
       "      <td>f9c2fd2f75598e0d7c311687693c31a7</td>\n",
       "      <td>R</td>\n",
       "      <td>CC</td>\n",
       "      <td>3518</td>\n",
       "      <td>2800</td>\n",
       "      <td>BI-RADS 1</td>\n",
       "      <td>DENSITY C</td>\n",
       "      <td>['No Finding']</td>\n",
       "      <td>NaN</td>\n",
       "      <td>NaN</td>\n",
       "      <td>NaN</td>\n",
       "      <td>NaN</td>\n",
       "      <td>NaN</td>\n",
       "      <td>training</td>\n",
       "      <td>../input/smart-mammo-data/images_dir/images_di...</td>\n",
       "      <td>1</td>\n",
       "      <td>0</td>\n",
       "      <td>5.0</td>\n",
       "    </tr>\n",
       "    <tr>\n",
       "      <th>3</th>\n",
       "      <td>ea8a09a16763d310b4065fe94c6c04cd</td>\n",
       "      <td>b714ced6a887a6528768db77b239dcd9</td>\n",
       "      <td>58d70109b957243aeaf19b95ed5322d4</td>\n",
       "      <td>R</td>\n",
       "      <td>MLO</td>\n",
       "      <td>3518</td>\n",
       "      <td>2800</td>\n",
       "      <td>BI-RADS 1</td>\n",
       "      <td>DENSITY C</td>\n",
       "      <td>['No Finding']</td>\n",
       "      <td>NaN</td>\n",
       "      <td>NaN</td>\n",
       "      <td>NaN</td>\n",
       "      <td>NaN</td>\n",
       "      <td>NaN</td>\n",
       "      <td>training</td>\n",
       "      <td>../input/smart-mammo-data/images_dir/images_di...</td>\n",
       "      <td>1</td>\n",
       "      <td>0</td>\n",
       "      <td>3.0</td>\n",
       "    </tr>\n",
       "    <tr>\n",
       "      <th>4</th>\n",
       "      <td>38c28cfa153bb4a7a1ade330738df1b7</td>\n",
       "      <td>9b0f078012d78f9ddc0fe2482a33bf28</td>\n",
       "      <td>6cf20761dccfd17caa6ae4877b744db5</td>\n",
       "      <td>R</td>\n",
       "      <td>CC</td>\n",
       "      <td>2812</td>\n",
       "      <td>2012</td>\n",
       "      <td>BI-RADS 1</td>\n",
       "      <td>DENSITY D</td>\n",
       "      <td>['No Finding']</td>\n",
       "      <td>NaN</td>\n",
       "      <td>NaN</td>\n",
       "      <td>NaN</td>\n",
       "      <td>NaN</td>\n",
       "      <td>NaN</td>\n",
       "      <td>test</td>\n",
       "      <td>../input/smart-mammo-data/images_dir/images_di...</td>\n",
       "      <td>1</td>\n",
       "      <td>0</td>\n",
       "      <td>7.0</td>\n",
       "    </tr>\n",
       "  </tbody>\n",
       "</table>\n",
       "</div>"
      ],
      "text/plain": [
       "                           study_id                         series_id  \\\n",
       "0  517563a43eab4f90efc650fcb0d215d5  37d2595b7ec81bd31a18d26afdb0aabf   \n",
       "1  f8894c9173aaa865bd43751eeeacd3b0  1225d3a302306aca94552c0f8c30fe2c   \n",
       "2  05783bf55ed93d5ec21d4e0e8546a5f0  da0aae7d4ed0388e3e15da1fd90af2e1   \n",
       "3  ea8a09a16763d310b4065fe94c6c04cd  b714ced6a887a6528768db77b239dcd9   \n",
       "4  38c28cfa153bb4a7a1ade330738df1b7  9b0f078012d78f9ddc0fe2482a33bf28   \n",
       "\n",
       "                           image_id laterality view_position  height  width  \\\n",
       "0  c54fbe3a374b9e157280479c4649b11a          L           MLO    2812   2012   \n",
       "1  78dfa5f3dd380341cc17955f52279728          R           MLO    3518   2800   \n",
       "2  f9c2fd2f75598e0d7c311687693c31a7          R            CC    3518   2800   \n",
       "3  58d70109b957243aeaf19b95ed5322d4          R           MLO    3518   2800   \n",
       "4  6cf20761dccfd17caa6ae4877b744db5          R            CC    2812   2012   \n",
       "\n",
       "  breast_birads breast_density finding_categories finding_birads  xmin  ymin  \\\n",
       "0     BI-RADS 1      DENSITY C     ['No Finding']            NaN   NaN   NaN   \n",
       "1     BI-RADS 1      DENSITY C     ['No Finding']            NaN   NaN   NaN   \n",
       "2     BI-RADS 1      DENSITY C     ['No Finding']            NaN   NaN   NaN   \n",
       "3     BI-RADS 1      DENSITY C     ['No Finding']            NaN   NaN   NaN   \n",
       "4     BI-RADS 1      DENSITY D     ['No Finding']            NaN   NaN   NaN   \n",
       "\n",
       "   xmax  ymax     split                                               path  \\\n",
       "0   NaN   NaN      test  ../input/smart-mammo-data/images_dir/images_di...   \n",
       "1   NaN   NaN      test  ../input/smart-mammo-data/images_dir/images_di...   \n",
       "2   NaN   NaN  training  ../input/smart-mammo-data/images_dir/images_di...   \n",
       "3   NaN   NaN  training  ../input/smart-mammo-data/images_dir/images_di...   \n",
       "4   NaN   NaN      test  ../input/smart-mammo-data/images_dir/images_di...   \n",
       "\n",
       "   num_findings  target  fold  \n",
       "0             1       0   2.0  \n",
       "1             1       0   2.0  \n",
       "2             1       0   5.0  \n",
       "3             1       0   3.0  \n",
       "4             1       0   7.0  "
      ]
     },
     "execution_count": 10,
     "metadata": {},
     "output_type": "execute_result"
    }
   ],
   "source": [
    "path = data_path\n",
    "\n",
    "df_data = pd.read_csv(path)\n",
    "\n",
    "print(df_data.shape)\n",
    "\n",
    "df_data.head()"
   ]
  },
  {
   "cell_type": "markdown",
   "metadata": {
    "papermill": {
     "duration": 0.217084,
     "end_time": "2021-07-18T05:38:45.726327",
     "exception": false,
     "start_time": "2021-07-18T05:38:45.509243",
     "status": "completed"
    },
    "tags": []
   },
   "source": [
    "## Process the train data"
   ]
  },
  {
   "cell_type": "code",
   "execution_count": 11,
   "metadata": {
    "execution": {
     "iopub.execute_input": "2022-11-28T01:49:44.071348Z",
     "iopub.status.busy": "2022-11-28T01:49:44.070946Z",
     "iopub.status.idle": "2022-11-28T01:49:44.108260Z",
     "shell.execute_reply": "2022-11-28T01:49:44.107006Z",
     "shell.execute_reply.started": "2022-11-28T01:49:44.071311Z"
    }
   },
   "outputs": [
    {
     "name": "stdout",
     "output_type": "stream",
     "text": [
      "(1426, 20)\n"
     ]
    }
   ],
   "source": [
    "# Get the path to each image\n",
    "\n",
    "def get_path(row):\n",
    "    \n",
    "    study_id = row['study_id']\n",
    "    image_id = row['image_id']\n",
    "    path = base_path + f'{IMAGES_FOLDER}/{IMAGES_FOLDER}/' + image_id + '.png'\n",
    "    \n",
    "    return path\n",
    "\n",
    "\n",
    "df_data['path'] = df_data.apply(get_path, axis=1)\n",
    "\n",
    "print(df_data.shape)\n",
    "\n",
    "#df_data.head()"
   ]
  },
  {
   "cell_type": "markdown",
   "metadata": {},
   "source": [
    "## Create a column for the bbox info"
   ]
  },
  {
   "cell_type": "code",
   "execution_count": 12,
   "metadata": {
    "execution": {
     "iopub.execute_input": "2022-11-28T01:49:44.110249Z",
     "iopub.status.busy": "2022-11-28T01:49:44.109870Z",
     "iopub.status.idle": "2022-11-28T01:49:44.222408Z",
     "shell.execute_reply": "2022-11-28T01:49:44.221065Z",
     "shell.execute_reply.started": "2022-11-28T01:49:44.110217Z"
    }
   },
   "outputs": [],
   "source": [
    "# Put the bbox info for each image into a list of bbox dicts\n",
    "\n",
    "\n",
    "bbox_list = []\n",
    "\n",
    "for i in range(0, len(df_data)):\n",
    "    \n",
    "    target = df_data.loc[i, 'target']\n",
    "    study_slice = df_data.loc[i, 'image_id']\n",
    "    \n",
    "    if target == 1:\n",
    "    \n",
    "        xmin = df_data.loc[i, 'xmin']\n",
    "        ymin = df_data.loc[i, 'ymin']\n",
    "        xmax = df_data.loc[i, 'xmax']\n",
    "        ymax = df_data.loc[i, 'ymax']\n",
    "        \n",
    "        x = round(xmin)\n",
    "        y = round(ymin)\n",
    "        width = round(xmax - xmin)\n",
    "        height = round(ymax - ymin)\n",
    "\n",
    "        bbox_dict ={\n",
    "            'x': x,\n",
    "            'y': y,\n",
    "            'width': width,\n",
    "            'height': height\n",
    "        }\n",
    "\n",
    "        bbox_list.append(bbox_dict)\n",
    "        \n",
    "    else:\n",
    "        bbox_list.append('none')\n",
    "        \n",
    "        \n",
    "# Add the bbox_list to df_data\n",
    "\n",
    "df_data['boxes'] = bbox_list\n",
    "\n",
    "#print(df_data.shape)\n",
    "\n",
    "#df_data.head()"
   ]
  },
  {
   "cell_type": "code",
   "execution_count": 13,
   "metadata": {
    "execution": {
     "iopub.execute_input": "2022-11-28T01:49:44.225092Z",
     "iopub.status.busy": "2022-11-28T01:49:44.224714Z",
     "iopub.status.idle": "2022-11-28T01:49:44.256599Z",
     "shell.execute_reply": "2022-11-28T01:49:44.255401Z",
     "shell.execute_reply.started": "2022-11-28T01:49:44.225059Z"
    }
   },
   "outputs": [
    {
     "data": {
      "text/html": [
       "<div>\n",
       "<style scoped>\n",
       "    .dataframe tbody tr th:only-of-type {\n",
       "        vertical-align: middle;\n",
       "    }\n",
       "\n",
       "    .dataframe tbody tr th {\n",
       "        vertical-align: top;\n",
       "    }\n",
       "\n",
       "    .dataframe thead th {\n",
       "        text-align: right;\n",
       "    }\n",
       "</style>\n",
       "<table border=\"1\" class=\"dataframe\">\n",
       "  <thead>\n",
       "    <tr style=\"text-align: right;\">\n",
       "      <th></th>\n",
       "      <th>study_id</th>\n",
       "      <th>series_id</th>\n",
       "      <th>image_id</th>\n",
       "      <th>laterality</th>\n",
       "      <th>view_position</th>\n",
       "      <th>height</th>\n",
       "      <th>width</th>\n",
       "      <th>breast_birads</th>\n",
       "      <th>breast_density</th>\n",
       "      <th>finding_categories</th>\n",
       "      <th>...</th>\n",
       "      <th>xmin</th>\n",
       "      <th>ymin</th>\n",
       "      <th>xmax</th>\n",
       "      <th>ymax</th>\n",
       "      <th>split</th>\n",
       "      <th>path</th>\n",
       "      <th>num_findings</th>\n",
       "      <th>target</th>\n",
       "      <th>fold</th>\n",
       "      <th>boxes</th>\n",
       "    </tr>\n",
       "  </thead>\n",
       "  <tbody>\n",
       "    <tr>\n",
       "      <th>0</th>\n",
       "      <td>517563a43eab4f90efc650fcb0d215d5</td>\n",
       "      <td>37d2595b7ec81bd31a18d26afdb0aabf</td>\n",
       "      <td>c54fbe3a374b9e157280479c4649b11a</td>\n",
       "      <td>L</td>\n",
       "      <td>MLO</td>\n",
       "      <td>2812</td>\n",
       "      <td>2012</td>\n",
       "      <td>BI-RADS 1</td>\n",
       "      <td>DENSITY C</td>\n",
       "      <td>['No Finding']</td>\n",
       "      <td>...</td>\n",
       "      <td>NaN</td>\n",
       "      <td>NaN</td>\n",
       "      <td>NaN</td>\n",
       "      <td>NaN</td>\n",
       "      <td>test</td>\n",
       "      <td>/root/smart-mammo-data/images_dir/images_dir/c...</td>\n",
       "      <td>1</td>\n",
       "      <td>0</td>\n",
       "      <td>2.0</td>\n",
       "      <td>none</td>\n",
       "    </tr>\n",
       "    <tr>\n",
       "      <th>1</th>\n",
       "      <td>f8894c9173aaa865bd43751eeeacd3b0</td>\n",
       "      <td>1225d3a302306aca94552c0f8c30fe2c</td>\n",
       "      <td>78dfa5f3dd380341cc17955f52279728</td>\n",
       "      <td>R</td>\n",
       "      <td>MLO</td>\n",
       "      <td>3518</td>\n",
       "      <td>2800</td>\n",
       "      <td>BI-RADS 1</td>\n",
       "      <td>DENSITY C</td>\n",
       "      <td>['No Finding']</td>\n",
       "      <td>...</td>\n",
       "      <td>NaN</td>\n",
       "      <td>NaN</td>\n",
       "      <td>NaN</td>\n",
       "      <td>NaN</td>\n",
       "      <td>test</td>\n",
       "      <td>/root/smart-mammo-data/images_dir/images_dir/7...</td>\n",
       "      <td>1</td>\n",
       "      <td>0</td>\n",
       "      <td>2.0</td>\n",
       "      <td>none</td>\n",
       "    </tr>\n",
       "  </tbody>\n",
       "</table>\n",
       "<p>2 rows × 21 columns</p>\n",
       "</div>"
      ],
      "text/plain": [
       "                           study_id                         series_id  \\\n",
       "0  517563a43eab4f90efc650fcb0d215d5  37d2595b7ec81bd31a18d26afdb0aabf   \n",
       "1  f8894c9173aaa865bd43751eeeacd3b0  1225d3a302306aca94552c0f8c30fe2c   \n",
       "\n",
       "                           image_id laterality view_position  height  width  \\\n",
       "0  c54fbe3a374b9e157280479c4649b11a          L           MLO    2812   2012   \n",
       "1  78dfa5f3dd380341cc17955f52279728          R           MLO    3518   2800   \n",
       "\n",
       "  breast_birads breast_density finding_categories  ... xmin  ymin  xmax  ymax  \\\n",
       "0     BI-RADS 1      DENSITY C     ['No Finding']  ...  NaN   NaN   NaN   NaN   \n",
       "1     BI-RADS 1      DENSITY C     ['No Finding']  ...  NaN   NaN   NaN   NaN   \n",
       "\n",
       "   split                                               path num_findings  \\\n",
       "0   test  /root/smart-mammo-data/images_dir/images_dir/c...            1   \n",
       "1   test  /root/smart-mammo-data/images_dir/images_dir/7...            1   \n",
       "\n",
       "   target  fold  boxes  \n",
       "0       0   2.0   none  \n",
       "1       0   2.0   none  \n",
       "\n",
       "[2 rows x 21 columns]"
      ]
     },
     "execution_count": 13,
     "metadata": {},
     "output_type": "execute_result"
    }
   ],
   "source": [
    "df_data.head(2)"
   ]
  },
  {
   "cell_type": "code",
   "execution_count": 14,
   "metadata": {
    "execution": {
     "iopub.execute_input": "2022-11-28T01:49:44.258215Z",
     "iopub.status.busy": "2022-11-28T01:49:44.257861Z",
     "iopub.status.idle": "2022-11-28T01:49:44.344858Z",
     "shell.execute_reply": "2022-11-28T01:49:44.343443Z",
     "shell.execute_reply.started": "2022-11-28T01:49:44.258184Z"
    }
   },
   "outputs": [
    {
     "data": {
      "text/plain": [
       "'none'"
      ]
     },
     "execution_count": 14,
     "metadata": {},
     "output_type": "execute_result"
    }
   ],
   "source": [
    "# Display one entry\n",
    "\n",
    "df_data.loc[0, 'boxes']"
   ]
  },
  {
   "cell_type": "markdown",
   "metadata": {},
   "source": [
    "## Create df_train and df_val"
   ]
  },
  {
   "cell_type": "code",
   "execution_count": 15,
   "metadata": {
    "execution": {
     "iopub.execute_input": "2022-11-28T01:49:44.346986Z",
     "iopub.status.busy": "2022-11-28T01:49:44.346628Z",
     "iopub.status.idle": "2022-11-28T01:49:44.365375Z",
     "shell.execute_reply": "2022-11-28T01:49:44.364118Z",
     "shell.execute_reply.started": "2022-11-28T01:49:44.346932Z"
    }
   },
   "outputs": [
    {
     "name": "stdout",
     "output_type": "stream",
     "text": [
      "1    1100\n",
      "0     180\n",
      "Name: target, dtype: int64\n",
      "\n",
      "1    126\n",
      "0     20\n",
      "Name: target, dtype: int64\n"
     ]
    }
   ],
   "source": [
    "# Choose the fold to train on.\n",
    "fold_index = CHOSEN_FOLD\n",
    "\n",
    "df_train = df_data[df_data['fold'] != fold_index]\n",
    "df_val = df_data[df_data['fold'] == fold_index]\n",
    "\n",
    "print(df_train['target'].value_counts())\n",
    "print('')\n",
    "print(df_val['target'].value_counts())"
   ]
  },
  {
   "cell_type": "code",
   "execution_count": 16,
   "metadata": {
    "execution": {
     "iopub.execute_input": "2022-11-28T01:49:44.367362Z",
     "iopub.status.busy": "2022-11-28T01:49:44.367020Z",
     "iopub.status.idle": "2022-11-28T01:49:44.377372Z",
     "shell.execute_reply": "2022-11-28T01:49:44.376330Z",
     "shell.execute_reply.started": "2022-11-28T01:49:44.367332Z"
    }
   },
   "outputs": [
    {
     "name": "stdout",
     "output_type": "stream",
     "text": [
      "DENSITY C    1035\n",
      "DENSITY B     158\n",
      "DENSITY D      81\n",
      "DENSITY A       6\n",
      "Name: breast_density, dtype: int64\n",
      "\n",
      "DENSITY C    113\n",
      "DENSITY D     17\n",
      "DENSITY B     16\n",
      "Name: breast_density, dtype: int64\n"
     ]
    }
   ],
   "source": [
    "print(df_train['breast_density'].value_counts())\n",
    "print('')\n",
    "print(df_val['breast_density'].value_counts())"
   ]
  },
  {
   "cell_type": "markdown",
   "metadata": {
    "papermill": {
     "duration": 0.401781,
     "end_time": "2021-07-18T05:38:47.878685",
     "exception": false,
     "start_time": "2021-07-18T05:38:47.476904",
     "status": "completed"
    },
    "tags": []
   },
   "source": [
    "## Helper functions"
   ]
  },
  {
   "cell_type": "code",
   "execution_count": 17,
   "metadata": {
    "execution": {
     "iopub.execute_input": "2022-11-28T01:49:44.379459Z",
     "iopub.status.busy": "2022-11-28T01:49:44.378579Z",
     "iopub.status.idle": "2022-11-28T01:49:44.391611Z",
     "shell.execute_reply": "2022-11-28T01:49:44.390460Z",
     "shell.execute_reply.started": "2022-11-28T01:49:44.379423Z"
    },
    "papermill": {
     "duration": 0.227809,
     "end_time": "2021-07-18T05:38:48.408535",
     "exception": false,
     "start_time": "2021-07-18T05:38:48.180726",
     "status": "completed"
    },
    "tags": []
   },
   "outputs": [],
   "source": [
    "# Confusion matrix where the size of the plot and the text size can be changed\n",
    "\n",
    "# Source: Scikit Learn website\n",
    "# http://scikit-learn.org/stable/auto_examples/\n",
    "# model_selection/plot_confusion_matrix.html#sphx-glr-auto-examples-model-\n",
    "# selection-plot-confusion-matrix-py\n",
    "\n",
    "\n",
    "def plot_confusion_matrix(cm, classes,\n",
    "                          normalize=False,\n",
    "                          title='Confusion matrix',\n",
    "                          cmap=plt.cm.Blues,\n",
    "                         text_size=12):\n",
    "    \"\"\"\n",
    "    This function prints and plots the confusion matrix.\n",
    "    Normalization can be applied by setting `normalize=True`.\n",
    "    \"\"\"\n",
    "    if normalize:\n",
    "        cm = cm.astype('float') / cm.sum(axis=1)[:, np.newaxis]\n",
    "        print(\"Normalized confusion matrix\")\n",
    "    else:\n",
    "        print('Confusion matrix, without normalization')\n",
    "\n",
    "    print(cm)\n",
    "\n",
    "    plt.imshow(cm, interpolation='nearest', cmap=cmap)\n",
    "    plt.title(title)\n",
    "    plt.colorbar()\n",
    "    tick_marks = np.arange(len(classes))\n",
    "    plt.xticks(tick_marks, classes, rotation=45, fontsize=text_size)\n",
    "    plt.yticks(tick_marks, classes, fontsize=text_size)\n",
    "\n",
    "    fmt = '.2f' if normalize else 'd'\n",
    "    thresh = cm.max() / 2.\n",
    "    for i, j in itertools.product(range(cm.shape[0]), range(cm.shape[1])):\n",
    "        plt.text(j, i, format(cm[i, j], fmt),\n",
    "                 horizontalalignment=\"center\",\n",
    "                 color=\"white\" if cm[i, j] > thresh else \"black\", fontsize=text_size)\n",
    "\n",
    "    plt.ylabel('True label', fontsize=text_size)\n",
    "    plt.xlabel('Predicted label', fontsize=text_size)\n",
    "    plt.tight_layout()"
   ]
  },
  {
   "cell_type": "code",
   "execution_count": 18,
   "metadata": {
    "execution": {
     "iopub.execute_input": "2022-11-28T01:49:44.393938Z",
     "iopub.status.busy": "2022-11-28T01:49:44.392926Z",
     "iopub.status.idle": "2022-11-28T01:49:44.547727Z",
     "shell.execute_reply": "2022-11-28T01:49:44.546336Z",
     "shell.execute_reply.started": "2022-11-28T01:49:44.393901Z"
    },
    "papermill": {
     "duration": 0.411458,
     "end_time": "2021-07-18T05:38:50.75773",
     "exception": false,
     "start_time": "2021-07-18T05:38:50.346272",
     "status": "completed"
    },
    "tags": []
   },
   "outputs": [],
   "source": [
    "# Source: https://www.kaggle.com/xhlulu/siim-covid-19-convert-to-jpg-256px\n",
    "\n",
    "from PIL import Image\n",
    "import pydicom\n",
    "from pydicom.pixel_data_handlers.util import apply_voi_lut\n",
    "\n",
    "\n",
    "def read_xray(path, voi_lut = True, fix_monochrome = True):\n",
    "    # Original from: https://www.kaggle.com/raddar/convert-dicom-to-np-array-the-correct-way\n",
    "    dicom = pydicom.read_file(path)\n",
    "    \n",
    "    # VOI LUT (if available by DICOM device) is used to transform raw DICOM data to \n",
    "    # \"human-friendly\" view\n",
    "    if voi_lut:\n",
    "        data = apply_voi_lut(dicom.pixel_array, dicom)\n",
    "    else:\n",
    "        data = dicom.pixel_array\n",
    "               \n",
    "    # depending on this value, X-ray may look inverted - fix that:\n",
    "    if fix_monochrome and dicom.PhotometricInterpretation == \"MONOCHROME1\":\n",
    "        data = np.amax(data) - data\n",
    "        \n",
    "    data = data - np.min(data)\n",
    "    data = data / np.max(data)\n",
    "    data = (data * 255).astype(np.uint8)\n",
    "        \n",
    "    return data\n",
    "\n",
    "\n",
    "\n",
    "\n",
    "def resize(array, size, keep_ratio=False, resample=Image.LANCZOS):\n",
    "    # Original from: https://www.kaggle.com/xhlulu/vinbigdata-process-and-resize-to-image\n",
    "    im = Image.fromarray(array)\n",
    "    \n",
    "    if keep_ratio:\n",
    "        im.thumbnail((size, size), resample)\n",
    "    else:\n",
    "        im = im.resize((size, size), resample)\n",
    "    \n",
    "    return im"
   ]
  },
  {
   "cell_type": "markdown",
   "metadata": {
    "papermill": {
     "duration": 0.214448,
     "end_time": "2021-07-18T05:39:00.717004",
     "exception": false,
     "start_time": "2021-07-18T05:39:00.502556",
     "status": "completed"
    },
    "tags": []
   },
   "source": [
    "## Create the Yolo directory structure\n",
    "\n",
    "We need to create a directory structure inside the yolov5 folder. This is where the training and validation data will need to be stored"
   ]
  },
  {
   "cell_type": "code",
   "execution_count": 19,
   "metadata": {
    "execution": {
     "iopub.execute_input": "2022-11-28T01:49:44.550428Z",
     "iopub.status.busy": "2022-11-28T01:49:44.549689Z",
     "iopub.status.idle": "2022-11-28T01:49:44.556472Z",
     "shell.execute_reply": "2022-11-28T01:49:44.555134Z",
     "shell.execute_reply.started": "2022-11-28T01:49:44.550374Z"
    },
    "papermill": {
     "duration": 0.241002,
     "end_time": "2021-07-18T05:39:01.171558",
     "exception": false,
     "start_time": "2021-07-18T05:39:00.930556",
     "status": "completed"
    },
    "tags": []
   },
   "outputs": [],
   "source": [
    "# Note the the following folder structure must be\n",
    "# located inside the yolov5 folder\n",
    "\n",
    "# base_dir\n",
    "    # images\n",
    "        # train (contains image files)\n",
    "        # validation (contains image files)\n",
    "    # labels \n",
    "        # train (contains .txt files)\n",
    "        # validation (contains .txt files)\n",
    "        \n",
    "# Yolo expects the bounding box dimensions to be\n",
    "# normalized to have values between 0 and 1.\n",
    "        \n",
    "# Label format in .txt file\n",
    "# class x-center y-center width height\n",
    "# E.g. 0 0.1 0.2 200 300\n",
    "\n",
    "# Each label is on a new line, in the .txt file:\n",
    "# 0 0.1 0.2 200 300\n",
    "# 0 0.1 0.2 200 300"
   ]
  },
  {
   "cell_type": "code",
   "execution_count": 20,
   "metadata": {
    "execution": {
     "iopub.execute_input": "2022-11-28T01:49:44.559578Z",
     "iopub.status.busy": "2022-11-28T01:49:44.558460Z",
     "iopub.status.idle": "2022-11-28T01:49:45.683902Z",
     "shell.execute_reply": "2022-11-28T01:49:45.682103Z",
     "shell.execute_reply.started": "2022-11-28T01:49:44.559534Z"
    },
    "papermill": {
     "duration": 1.026715,
     "end_time": "2021-07-18T05:39:02.410223",
     "exception": false,
     "start_time": "2021-07-18T05:39:01.383508",
     "status": "completed"
    },
    "tags": []
   },
   "outputs": [
    {
     "name": "stdout",
     "output_type": "stream",
     "text": [
      "/bin/bash: warning: setlocale: LC_ALL: cannot change locale (en_US.UTF-8)\r\n",
      "/bin/bash: tree: command not found\r\n"
     ]
    }
   ],
   "source": [
    "# change the working directory to yolov5\n",
    "os.chdir(f'{root}/yolov5')\n",
    "\n",
    "# Create a new directory (this is happening inside the yolov5 directory)\n",
    "\n",
    "base_dir = 'base_dir'\n",
    "os.mkdir(base_dir)\n",
    "\n",
    "\n",
    "# Now we create folders inside 'base_dir':\n",
    "\n",
    "# base_dir\n",
    "\n",
    "    # images\n",
    "        # train\n",
    "        # validation\n",
    "\n",
    "    # labels\n",
    "        # train\n",
    "        # validation\n",
    "\n",
    "# images\n",
    "images = os.path.join(base_dir, 'images')\n",
    "os.mkdir(images)\n",
    "\n",
    "# labels\n",
    "labels = os.path.join(base_dir, 'labels')\n",
    "os.mkdir(labels)\n",
    "\n",
    "\n",
    "\n",
    "# Inside each folder we create seperate folders for each class\n",
    "\n",
    "# create new folders inside images\n",
    "train = os.path.join(images, 'train')\n",
    "os.mkdir(train)\n",
    "validation = os.path.join(images, 'validation')\n",
    "os.mkdir(validation)\n",
    "\n",
    "\n",
    "# create new folders inside labels\n",
    "train = os.path.join(labels, 'train')\n",
    "os.mkdir(train)\n",
    "validation = os.path.join(labels, 'validation')\n",
    "os.mkdir(validation)\n",
    "\n",
    "# Display the folder structure\n",
    "!tree base_dir"
   ]
  },
  {
   "cell_type": "markdown",
   "metadata": {
    "papermill": {
     "duration": 0.376731,
     "end_time": "2021-07-18T05:39:03.198014",
     "exception": false,
     "start_time": "2021-07-18T05:39:02.821283",
     "status": "completed"
    },
    "tags": []
   },
   "source": [
    "## Process the data\n",
    "\n",
    "Here we will write a function to process the training and validation data. \n",
    "\n",
    "We need to create a separate txt file for each image that contains the details of all the bounding boxes on that image.  This function will also move the training and val data into the directory structure that we created above. We won't need to do any image resizing for Yolo. It will do that automatically during training."
   ]
  },
  {
   "cell_type": "code",
   "execution_count": 21,
   "metadata": {
    "execution": {
     "iopub.execute_input": "2022-11-28T01:49:45.688887Z",
     "iopub.status.busy": "2022-11-28T01:49:45.688379Z",
     "iopub.status.idle": "2022-11-28T01:49:46.827406Z",
     "shell.execute_reply": "2022-11-28T01:49:46.826123Z",
     "shell.execute_reply.started": "2022-11-28T01:49:45.688839Z"
    },
    "papermill": {
     "duration": 0.227543,
     "end_time": "2021-07-18T05:39:03.850619",
     "exception": false,
     "start_time": "2021-07-18T05:39:03.623076",
     "status": "completed"
    },
    "tags": []
   },
   "outputs": [
    {
     "name": "stdout",
     "output_type": "stream",
     "text": [
      "/bin/bash: warning: setlocale: LC_ALL: cannot change locale (en_US.UTF-8)\r\n",
      "/root\r\n"
     ]
    }
   ],
   "source": [
    "# Change the working directory\n",
    "os.chdir(root)\n",
    "\n",
    "!pwd"
   ]
  },
  {
   "cell_type": "code",
   "execution_count": 22,
   "metadata": {
    "execution": {
     "iopub.execute_input": "2022-11-28T01:49:46.829847Z",
     "iopub.status.busy": "2022-11-28T01:49:46.829465Z",
     "iopub.status.idle": "2022-11-28T01:50:17.516076Z",
     "shell.execute_reply": "2022-11-28T01:50:17.515009Z",
     "shell.execute_reply.started": "2022-11-28T01:49:46.829813Z"
    },
    "papermill": {
     "duration": 3.555252,
     "end_time": "2021-07-18T05:39:11.818383",
     "exception": false,
     "start_time": "2021-07-18T05:39:08.263131",
     "status": "completed"
    },
    "tags": []
   },
   "outputs": [
    {
     "data": {
      "application/vnd.jupyter.widget-view+json": {
       "model_id": "1ee4dd7d27a04d438016c4358cc3ddd9",
       "version_major": 2,
       "version_minor": 0
      },
      "text/plain": [
       "  0%|          | 0/1280 [00:00<?, ?it/s]"
      ]
     },
     "metadata": {},
     "output_type": "display_data"
    },
    {
     "data": {
      "application/vnd.jupyter.widget-view+json": {
       "model_id": "0a715ef34ccf4cc6b21ddb8b98b1f01c",
       "version_major": 2,
       "version_minor": 0
      },
      "text/plain": [
       "  0%|          | 0/146 [00:00<?, ?it/s]"
      ]
     },
     "metadata": {},
     "output_type": "display_data"
    }
   ],
   "source": [
    "# Iterate through each row in the dataframe\n",
    "\n",
    "# We run the function below separately for\n",
    "# the train and val sets.\n",
    "# Remember that each image gets it's own text file\n",
    "# containing the info for all bboxes on that image.\n",
    "\n",
    "# For each image:\n",
    "# 1- get the info for each bounding box\n",
    "# 2- write the bounding box info to a txt file\n",
    "# 3- save the txt file in the correct folder\n",
    "# 4- copy the image to the correct folder\n",
    "\n",
    "# Note on bboxes:\n",
    "# For each image we have a list of dictionaries. Each dict \n",
    "# contains the coords one one bbox on that image.\n",
    "# We don't need to do anything if the image does not have any bboxes.\n",
    "\n",
    "\n",
    "def process_data_for_yolo(df, data_type='train'):\n",
    "\n",
    "    for _, row in tq.tqdm(df.iterrows(), total=len(df)):\n",
    "        \n",
    "        # Get the target\n",
    "        target = row['target']\n",
    "        \n",
    "        # Create the image file name\n",
    "        image_id = row['image_id']\n",
    "        fname = image_id + '.png'\n",
    "        \n",
    "        \n",
    "        # Only create txt files for class 1 images\n",
    "        if target == 1:\n",
    "        \n",
    "            # Get the list of bboxes on the image.\n",
    "            # Each item in the list is a dict containing the image coords.\n",
    "            bbox_dict = row['boxes']\n",
    "            \n",
    "            # put the coords into a list\n",
    "            bbox_list = [bbox_dict]\n",
    "            \n",
    "            # These are the original image sizes.\n",
    "            # If we have resized the images then this must be changed to\n",
    "            # the new sizes. We will then also be using resized bbox coords.\n",
    "            image_width = row['width']\n",
    "            image_height = row['height']\n",
    "\n",
    "\n",
    "            # Convert into the Yolo input format\n",
    "            # ...................................\n",
    "            \n",
    "            yolo_data = []\n",
    "\n",
    "            # row by row\n",
    "            for coord_dict in bbox_list:\n",
    "\n",
    "                xmin = int(coord_dict['x'])\n",
    "                ymin = int(coord_dict['y'])\n",
    "                bbox_w = int(coord_dict['width'])\n",
    "                bbox_h = int(coord_dict['height'])\n",
    "\n",
    "                # We only have one class i.e. opacity\n",
    "                # We will set the class_id to 0 for all images.\n",
    "                # Class numbers must start from 0.\n",
    "                class_id = target\n",
    "\n",
    "                x_center = xmin + (bbox_w/2)\n",
    "                y_center = ymin + (bbox_h/2)\n",
    "\n",
    "\n",
    "                # Normalize\n",
    "                # Yolo expects the dimensions to be normalized i.e.\n",
    "                # all values between 0 and 1.\n",
    "\n",
    "                x_center = x_center/image_width\n",
    "                y_center = y_center/image_height\n",
    "                bbox_w = bbox_w/image_width\n",
    "                bbox_h = bbox_h/image_height\n",
    "\n",
    "                # [class_id, x-center, y-center, width, height]\n",
    "                yolo_list = [class_id, x_center, y_center, bbox_w, bbox_h]\n",
    "\n",
    "                yolo_data.append(yolo_list)\n",
    "\n",
    "            # convert to nump array\n",
    "            yolo_data = np.array(yolo_data)\n",
    "\n",
    "\n",
    "            # Write the image bbox info to a txt file\n",
    "            #image_id = image_name.split('.')[0]\n",
    "            np.savetxt(os.path.join('yolov5/base_dir', \n",
    "                        f\"labels/{data_type}/{image_id}.txt\"),\n",
    "                        yolo_data, \n",
    "                        fmt=[\"%d\", \"%f\", \"%f\", \"%f\", \"%f\"]\n",
    "                        ) # fmt means format the columns\n",
    "\n",
    "\n",
    "\n",
    "        # Copy the image to images\n",
    "        # Set the path to the images here.\n",
    "        shutil.copyfile(\n",
    "            f\"{base_path}/{IMAGES_FOLDER}/{IMAGES_FOLDER}/{fname}\",\n",
    "            os.path.join('yolov5/base_dir', f\"images/{data_type}/{fname}\")\n",
    "        )\n",
    "        \n",
    "        \n",
    "\n",
    "# Call the function    \n",
    "process_data_for_yolo(df_train, data_type='train')\n",
    "process_data_for_yolo(df_val, data_type='validation')"
   ]
  },
  {
   "cell_type": "code",
   "execution_count": 23,
   "metadata": {
    "execution": {
     "iopub.execute_input": "2022-11-28T01:50:17.518064Z",
     "iopub.status.busy": "2022-11-28T01:50:17.517594Z",
     "iopub.status.idle": "2022-11-28T01:50:18.613770Z",
     "shell.execute_reply": "2022-11-28T01:50:18.611938Z",
     "shell.execute_reply.started": "2022-11-28T01:50:17.518029Z"
    }
   },
   "outputs": [
    {
     "name": "stdout",
     "output_type": "stream",
     "text": [
      "/bin/bash: warning: setlocale: LC_ALL: cannot change locale (en_US.UTF-8)\r\n",
      "VAST_Setup_Notebook_for_Mammo.ipynb   onstart.sh\r\n",
      "exp49_10f_df_data_w_folds.csv\t      ports.log\r\n",
      "exp50-mammo-yolov5-5-0-yolov5l.ipynb  requirements.txt\r\n",
      "input\t\t\t\t      smart-mammo-data\r\n",
      "my-yolov5-for-offline-use\t      yolov5\r\n",
      "onstart.log\r\n"
     ]
    }
   ],
   "source": [
    "!ls"
   ]
  },
  {
   "cell_type": "code",
   "execution_count": 24,
   "metadata": {
    "execution": {
     "iopub.execute_input": "2022-11-28T01:50:18.616421Z",
     "iopub.status.busy": "2022-11-28T01:50:18.615836Z",
     "iopub.status.idle": "2022-11-28T01:50:18.626211Z",
     "shell.execute_reply": "2022-11-28T01:50:18.625034Z",
     "shell.execute_reply.started": "2022-11-28T01:50:18.616382Z"
    },
    "papermill": {
     "duration": 0.237175,
     "end_time": "2021-07-18T05:39:12.278949",
     "exception": false,
     "start_time": "2021-07-18T05:39:12.041774",
     "status": "completed"
    },
    "tags": []
   },
   "outputs": [
    {
     "name": "stdout",
     "output_type": "stream",
     "text": [
      "1173\n",
      "132\n",
      "1001\n",
      "112\n"
     ]
    }
   ],
   "source": [
    "# Check that the files have been created\n",
    "\n",
    "print(len(os.listdir('yolov5/base_dir/images/train')))\n",
    "print(len(os.listdir('yolov5/base_dir/images/validation')))\n",
    "\n",
    "print(len(os.listdir('yolov5/base_dir/labels/train')))\n",
    "print(len(os.listdir('yolov5/base_dir/labels/validation')))"
   ]
  },
  {
   "cell_type": "code",
   "execution_count": 25,
   "metadata": {
    "execution": {
     "iopub.execute_input": "2022-11-28T01:50:18.627711Z",
     "iopub.status.busy": "2022-11-28T01:50:18.627326Z",
     "iopub.status.idle": "2022-11-28T01:50:18.637615Z",
     "shell.execute_reply": "2022-11-28T01:50:18.636376Z",
     "shell.execute_reply.started": "2022-11-28T01:50:18.627680Z"
    },
    "papermill": {
     "duration": 0.234228,
     "end_time": "2021-07-18T05:39:12.743254",
     "exception": false,
     "start_time": "2021-07-18T05:39:12.509026",
     "status": "completed"
    },
    "tags": []
   },
   "outputs": [
    {
     "data": {
      "text/plain": [
       "'4e3a578fe535ea4f5258d3f7f4419db8.txt'"
      ]
     },
     "execution_count": 25,
     "metadata": {},
     "output_type": "execute_result"
    }
   ],
   "source": [
    "text_file_list = os.listdir('yolov5/base_dir/labels/train')\n",
    "\n",
    "text_file = text_file_list[0]\n",
    "\n",
    "text_file"
   ]
  },
  {
   "cell_type": "code",
   "execution_count": 26,
   "metadata": {
    "execution": {
     "iopub.execute_input": "2022-11-28T01:50:18.640269Z",
     "iopub.status.busy": "2022-11-28T01:50:18.638947Z",
     "iopub.status.idle": "2022-11-28T01:50:19.740883Z",
     "shell.execute_reply": "2022-11-28T01:50:19.739583Z",
     "shell.execute_reply.started": "2022-11-28T01:50:18.640234Z"
    },
    "papermill": {
     "duration": 1.008666,
     "end_time": "2021-07-18T05:39:13.974188",
     "exception": false,
     "start_time": "2021-07-18T05:39:12.965522",
     "status": "completed"
    },
    "tags": []
   },
   "outputs": [
    {
     "name": "stdout",
     "output_type": "stream",
     "text": [
      "/bin/bash: warning: setlocale: LC_ALL: cannot change locale (en_US.UTF-8)\r\n",
      "1 0.148750 0.478539 0.148214 0.146958\r\n"
     ]
    }
   ],
   "source": [
    "# Display the contents of a text file\n",
    "\n",
    "! cat 'yolov5/base_dir/labels/train/19aa7e28743b204e978558c4fed12fd2.txt'"
   ]
  },
  {
   "cell_type": "markdown",
   "metadata": {
    "papermill": {
     "duration": 0.222359,
     "end_time": "2021-07-18T05:39:14.419466",
     "exception": false,
     "start_time": "2021-07-18T05:39:14.197107",
     "status": "completed"
    },
    "tags": []
   },
   "source": [
    "## Create the yaml file\n",
    "Yolo requires that we also create a yaml file inside the yolov5 folder."
   ]
  },
  {
   "cell_type": "code",
   "execution_count": 27,
   "metadata": {
    "execution": {
     "iopub.execute_input": "2022-11-28T01:50:19.743037Z",
     "iopub.status.busy": "2022-11-28T01:50:19.742626Z",
     "iopub.status.idle": "2022-11-28T01:50:19.751406Z",
     "shell.execute_reply": "2022-11-28T01:50:19.750424Z",
     "shell.execute_reply.started": "2022-11-28T01:50:19.742995Z"
    },
    "papermill": {
     "duration": 0.245553,
     "end_time": "2021-07-18T05:39:14.886293",
     "exception": false,
     "start_time": "2021-07-18T05:39:14.64074",
     "status": "completed"
    },
    "tags": []
   },
   "outputs": [],
   "source": [
    "# Ref:\n",
    "# Reading and Writing YAML to a File in Python\n",
    "# https://stackabuse.com/reading-and-writing-yaml-to-a-file-in-python\n",
    "\n",
    "yaml_dict = {'train': 'base_dir/images/train',   # path to the train folder\n",
    "            'val': 'base_dir/images/validation', # path to the val folder\n",
    "            'nc': 2,                             # number of classes\n",
    "            'names': ['0', '1']}                # list of label names\n",
    "\n",
    "\n",
    "\n",
    "# Create the yaml file called my_data.yaml\n",
    "# We will save this file inside the yolov5 folder.\n",
    "\n",
    "import yaml\n",
    "\n",
    "with open(r'yolov5/my_data.yaml', 'w') as file:\n",
    "    documents = yaml.dump(yaml_dict, file)"
   ]
  },
  {
   "cell_type": "code",
   "execution_count": 28,
   "metadata": {
    "execution": {
     "iopub.execute_input": "2022-11-28T01:50:19.752822Z",
     "iopub.status.busy": "2022-11-28T01:50:19.752455Z",
     "iopub.status.idle": "2022-11-28T01:50:19.767344Z",
     "shell.execute_reply": "2022-11-28T01:50:19.766028Z",
     "shell.execute_reply.started": "2022-11-28T01:50:19.752790Z"
    },
    "papermill": {
     "duration": 0.233988,
     "end_time": "2021-07-18T05:39:15.342968",
     "exception": false,
     "start_time": "2021-07-18T05:39:15.10898",
     "status": "completed"
    },
    "tags": []
   },
   "outputs": [
    {
     "data": {
      "text/plain": [
       "['.dockerignore',\n",
       " '.gitattributes',\n",
       " '.github',\n",
       " '.gitignore',\n",
       " 'Dockerfile',\n",
       " 'LICENSE',\n",
       " 'README.md',\n",
       " 'data',\n",
       " 'detect.py',\n",
       " 'hubconf.py',\n",
       " 'models',\n",
       " 'requirements.txt',\n",
       " 'test.py',\n",
       " 'train.py',\n",
       " 'tutorial.ipynb',\n",
       " 'utils',\n",
       " 'weights',\n",
       " 'yolov5-v5.0-performance-graph.png',\n",
       " 'yolov5l.pt',\n",
       " 'yolov5l6.pt',\n",
       " 'yolov5m.pt',\n",
       " 'yolov5m6.pt',\n",
       " 'yolov5x.pt',\n",
       " 'yolov5x6.pt',\n",
       " 'base_dir',\n",
       " 'my_data.yaml']"
      ]
     },
     "execution_count": 28,
     "metadata": {},
     "output_type": "execute_result"
    }
   ],
   "source": [
    "# Check that the my_data.yaml file is in the yolov5 folder.\n",
    "# It should appear in the list of files.\n",
    "\n",
    "os.listdir('yolov5')"
   ]
  },
  {
   "cell_type": "code",
   "execution_count": 29,
   "metadata": {
    "execution": {
     "iopub.execute_input": "2022-11-28T01:50:19.783137Z",
     "iopub.status.busy": "2022-11-28T01:50:19.782587Z",
     "iopub.status.idle": "2022-11-28T01:50:20.880406Z",
     "shell.execute_reply": "2022-11-28T01:50:20.878910Z",
     "shell.execute_reply.started": "2022-11-28T01:50:19.783088Z"
    },
    "papermill": {
     "duration": 1.026811,
     "end_time": "2021-07-18T05:39:16.593576",
     "exception": false,
     "start_time": "2021-07-18T05:39:15.566765",
     "status": "completed"
    },
    "tags": []
   },
   "outputs": [
    {
     "name": "stdout",
     "output_type": "stream",
     "text": [
      "/bin/bash: warning: setlocale: LC_ALL: cannot change locale (en_US.UTF-8)\r\n",
      "names:\r\n",
      "- '0'\r\n",
      "- '1'\r\n",
      "nc: 2\r\n",
      "train: base_dir/images/train\r\n",
      "val: base_dir/images/validation\r\n"
     ]
    }
   ],
   "source": [
    "# Display the contents of the yaml file\n",
    "\n",
    "! cat 'yolov5/my_data.yaml'"
   ]
  },
  {
   "cell_type": "markdown",
   "metadata": {
    "papermill": {
     "duration": 0.223307,
     "end_time": "2021-07-18T05:39:17.039924",
     "exception": false,
     "start_time": "2021-07-18T05:39:16.816617",
     "status": "completed"
    },
    "tags": []
   },
   "source": [
    "## Create a custom hyperameter/augmentation yaml file"
   ]
  },
  {
   "cell_type": "code",
   "execution_count": 30,
   "metadata": {
    "execution": {
     "iopub.execute_input": "2022-11-28T01:50:20.885549Z",
     "iopub.status.busy": "2022-11-28T01:50:20.885150Z",
     "iopub.status.idle": "2022-11-28T01:50:20.897732Z",
     "shell.execute_reply": "2022-11-28T01:50:20.896456Z",
     "shell.execute_reply.started": "2022-11-28T01:50:20.885512Z"
    },
    "papermill": {
     "duration": 0.239227,
     "end_time": "2021-07-18T05:39:17.506221",
     "exception": false,
     "start_time": "2021-07-18T05:39:17.266994",
     "status": "completed"
    },
    "tags": []
   },
   "outputs": [],
   "source": [
    "# Ref:\n",
    "# Reading and Writing YAML to a File in Python\n",
    "# https://stackabuse.com/reading-and-writing-yaml-to-a-file-in-python\n",
    "\n",
    "\n",
    "yaml_dict = {\n",
    "    \n",
    "'lr0': 0.01,  # initial learning rate (SGD=1E-2, Adam=1E-3)\n",
    "'lrf': 0.032,  # final OneCycleLR learning rate (lr0 * lrf)\n",
    "'momentum': 0.937,  # SGD momentum/Adam beta1\n",
    "'weight_decay': 0.0005,  # optimizer weight decay 5e-4\n",
    "'warmup_epochs': 3.0,  # warmup epochs (fractions ok)\n",
    "'warmup_momentum': 0.8,  # warmup initial momentum\n",
    "'warmup_bias_lr': 0.1,  # warmup initial bias lr\n",
    "'box': 0.1,  # box loss gain\n",
    "'cls': 1.0,  # cls loss gain\n",
    "'cls_pw': 0.5,  # cls BCELoss positive_weight\n",
    "'obj': 2.0,  # obj loss gain (scale with pixels)\n",
    "'obj_pw': 0.5,  # obj BCELoss positive_weight\n",
    "'iou_t': 0.20,  # IoU training threshold\n",
    "'anchor_t': 4.0,  # anchor-multiple threshold\n",
    "'anchors': 0,  # anchors per output layer (0 to ignore)\n",
    "'fl_gamma': 0.0,  # focal loss gamma (efficientDet default gamma=1.5)\n",
    "'hsv_h': 0,  # image HSV-Hue augmentation (fraction)\n",
    "'hsv_s': 0,  # image HSV-Saturation augmentation (fraction)\n",
    "'hsv_v': 0,  # image HSV-Value augmentation (fraction)\n",
    "'degrees': 30.0,  # image rotation (+/- deg)\n",
    "'translate': 0.2,  # image translation (+/- fraction)\n",
    "'scale': 0.3,  # image scale (+/- gain)\n",
    "'shear': 0.0,  # image shear (+/- deg)\n",
    "'perspective': 0.0,  # image perspective (+/- fraction), range 0-0.001\n",
    "'flipud': 0.2,  # image flip up-down (probability)\n",
    "'fliplr': 0.5,  # image flip left-right (probability)\n",
    "'mosaic': 0.8,  # image mosaic (probability)\n",
    "'mixup': 0.0  # image mixup (probability)\n",
    "    \n",
    "}\n",
    "\n",
    "\n",
    "# Create the yaml file called my_hyp.yaml\n",
    "# We will save this file inside the yolov5 folder.\n",
    "\n",
    "import yaml\n",
    "\n",
    "with open(r'yolov5/my_hyp.yaml', 'w') as file:\n",
    "    documents = yaml.dump(yaml_dict, file)"
   ]
  },
  {
   "cell_type": "code",
   "execution_count": 31,
   "metadata": {
    "execution": {
     "iopub.execute_input": "2022-11-28T01:50:20.900354Z",
     "iopub.status.busy": "2022-11-28T01:50:20.899501Z",
     "iopub.status.idle": "2022-11-28T01:50:20.918185Z",
     "shell.execute_reply": "2022-11-28T01:50:20.916889Z",
     "shell.execute_reply.started": "2022-11-28T01:50:20.900234Z"
    },
    "papermill": {
     "duration": 0.234891,
     "end_time": "2021-07-18T05:39:17.96441",
     "exception": false,
     "start_time": "2021-07-18T05:39:17.729519",
     "status": "completed"
    },
    "tags": []
   },
   "outputs": [
    {
     "data": {
      "text/plain": [
       "['.dockerignore',\n",
       " '.gitattributes',\n",
       " '.github',\n",
       " '.gitignore',\n",
       " 'Dockerfile',\n",
       " 'LICENSE',\n",
       " 'README.md',\n",
       " 'data',\n",
       " 'detect.py',\n",
       " 'hubconf.py',\n",
       " 'models',\n",
       " 'requirements.txt',\n",
       " 'test.py',\n",
       " 'train.py',\n",
       " 'tutorial.ipynb',\n",
       " 'utils',\n",
       " 'weights',\n",
       " 'yolov5-v5.0-performance-graph.png',\n",
       " 'yolov5l.pt',\n",
       " 'yolov5l6.pt',\n",
       " 'yolov5m.pt',\n",
       " 'yolov5m6.pt',\n",
       " 'yolov5x.pt',\n",
       " 'yolov5x6.pt',\n",
       " 'base_dir',\n",
       " 'my_data.yaml',\n",
       " 'my_hyp.yaml']"
      ]
     },
     "execution_count": 31,
     "metadata": {},
     "output_type": "execute_result"
    }
   ],
   "source": [
    "# Check that the my_data.yaml file is in the yolov5 folder.\n",
    "# It should appear in the list of files.\n",
    "\n",
    "os.listdir('yolov5')"
   ]
  },
  {
   "cell_type": "code",
   "execution_count": 32,
   "metadata": {
    "execution": {
     "iopub.execute_input": "2022-11-28T01:50:20.920045Z",
     "iopub.status.busy": "2022-11-28T01:50:20.919631Z",
     "iopub.status.idle": "2022-11-28T01:50:22.012863Z",
     "shell.execute_reply": "2022-11-28T01:50:22.011273Z",
     "shell.execute_reply.started": "2022-11-28T01:50:20.919992Z"
    },
    "papermill": {
     "duration": 1.010899,
     "end_time": "2021-07-18T05:39:19.194646",
     "exception": false,
     "start_time": "2021-07-18T05:39:18.183747",
     "status": "completed"
    },
    "tags": []
   },
   "outputs": [
    {
     "name": "stdout",
     "output_type": "stream",
     "text": [
      "/bin/bash: warning: setlocale: LC_ALL: cannot change locale (en_US.UTF-8)\r\n",
      "anchor_t: 4.0\r\n",
      "anchors: 0\r\n",
      "box: 0.1\r\n",
      "cls: 1.0\r\n",
      "cls_pw: 0.5\r\n",
      "degrees: 30.0\r\n",
      "fl_gamma: 0.0\r\n",
      "fliplr: 0.5\r\n",
      "flipud: 0.2\r\n",
      "hsv_h: 0\r\n",
      "hsv_s: 0\r\n",
      "hsv_v: 0\r\n",
      "iou_t: 0.2\r\n",
      "lr0: 0.01\r\n",
      "lrf: 0.032\r\n",
      "mixup: 0.0\r\n",
      "momentum: 0.937\r\n",
      "mosaic: 0.8\r\n",
      "obj: 2.0\r\n",
      "obj_pw: 0.5\r\n",
      "perspective: 0.0\r\n",
      "scale: 0.3\r\n",
      "shear: 0.0\r\n",
      "translate: 0.2\r\n",
      "warmup_bias_lr: 0.1\r\n",
      "warmup_epochs: 3.0\r\n",
      "warmup_momentum: 0.8\r\n",
      "weight_decay: 0.0005\r\n"
     ]
    }
   ],
   "source": [
    "# Display the contents of the  my_hyp.yaml file\n",
    "\n",
    "! cat 'yolov5/my_hyp.yaml'"
   ]
  },
  {
   "cell_type": "markdown",
   "metadata": {
    "papermill": {
     "duration": 0.239099,
     "end_time": "2021-07-18T05:39:19.65831",
     "exception": false,
     "start_time": "2021-07-18T05:39:19.419211",
     "status": "completed"
    },
    "tags": []
   },
   "source": [
    "## Train the model"
   ]
  },
  {
   "cell_type": "code",
   "execution_count": 33,
   "metadata": {
    "execution": {
     "iopub.execute_input": "2022-11-28T01:50:22.015749Z",
     "iopub.status.busy": "2022-11-28T01:50:22.015313Z",
     "iopub.status.idle": "2022-11-28T01:50:23.108016Z",
     "shell.execute_reply": "2022-11-28T01:50:23.106040Z",
     "shell.execute_reply.started": "2022-11-28T01:50:22.015711Z"
    },
    "papermill": {
     "duration": 1.119913,
     "end_time": "2021-07-18T05:39:21.005032",
     "exception": false,
     "start_time": "2021-07-18T05:39:19.885119",
     "status": "completed"
    },
    "tags": []
   },
   "outputs": [
    {
     "name": "stdout",
     "output_type": "stream",
     "text": [
      "/bin/bash: warning: setlocale: LC_ALL: cannot change locale (en_US.UTF-8)\r\n",
      "/root/yolov5\r\n"
     ]
    }
   ],
   "source": [
    "# change the working directory to yolov5\n",
    "os.chdir(f'{root}/yolov5')\n",
    "\n",
    "!pwd"
   ]
  },
  {
   "cell_type": "code",
   "execution_count": 34,
   "metadata": {
    "execution": {
     "iopub.execute_input": "2022-11-28T01:50:23.110278Z",
     "iopub.status.busy": "2022-11-28T01:50:23.109865Z",
     "iopub.status.idle": "2022-11-28T01:50:23.116678Z",
     "shell.execute_reply": "2022-11-28T01:50:23.115500Z",
     "shell.execute_reply.started": "2022-11-28T01:50:23.110237Z"
    },
    "papermill": {
     "duration": 0.234227,
     "end_time": "2021-07-18T05:39:21.512445",
     "exception": false,
     "start_time": "2021-07-18T05:39:21.278218",
     "status": "completed"
    },
    "tags": []
   },
   "outputs": [],
   "source": [
    "# What some of the parameters mean:\n",
    "\n",
    "# --weights => the path to the pre-trained model that we are using\n",
    "# --save-txt => The predicted bbox coordinates get saved to a txt file. One txt file per image.\n",
    "# --save-conf => The conf score gets included in the above txt file.\n",
    "# --img => The image will be resized to this size before creating the mosaic.\n",
    "# --conf => The confidence threshold\n",
    "# --rect => Means don't use mosaic augmentation during training\n",
    "# --name => Give a model a name e.g. --name my_model\n",
    "# --batch => batch size\n",
    "# --epochs => number of training epochs\n",
    "# --data => the yaml file path\n",
    "# --exist-ok => do not increment the project names with each run i.e. don't change exp to epx2, exp3 etc.\n",
    "# --nosave => do not save the images/videos (helpful when deploying to a server)\n",
    "\n",
    "# It's helpful to review the source code in detect.py to know what the above parameters mean.\n",
    "# detect.py is located inside the yolov5 folder."
   ]
  },
  {
   "cell_type": "code",
   "execution_count": 35,
   "metadata": {
    "_kg_hide-output": false,
    "execution": {
     "iopub.execute_input": "2022-11-28T01:50:23.118448Z",
     "iopub.status.busy": "2022-11-28T01:50:23.118120Z"
    },
    "papermill": {
     "duration": 4424.742752,
     "end_time": "2021-07-18T06:53:06.478556",
     "exception": false,
     "start_time": "2021-07-18T05:39:21.735804",
     "status": "completed"
    },
    "tags": []
   },
   "outputs": [
    {
     "name": "stdout",
     "output_type": "stream",
     "text": [
      "/bin/bash: warning: setlocale: LC_ALL: cannot change locale (en_US.UTF-8)\n",
      "\u001b[34m\u001b[1mgithub: \u001b[0mskipping check (not a git repository)\n",
      "\u001b[31m\u001b[1mrequirements:\u001b[0m thop not found and is required by YOLOv5, attempting auto-update...\n",
      "\u001b[33mWARNING: Running pip as the 'root' user can result in broken permissions and conflicting behaviour with the system package manager. It is recommended to use a virtual environment instead: https://pip.pypa.io/warnings/venv\u001b[0m\u001b[33m\n",
      "\u001b[0m\u001b[33mWARNING: You are using pip version 22.0.4; however, version 22.3.1 is available.\n",
      "You should consider upgrading via the '/usr/bin/python3.8 -m pip install --upgrade pip' command.\u001b[0m\u001b[33m\n",
      "\u001b[0mCollecting thop\n",
      "  Downloading thop-0.1.1.post2209072238-py3-none-any.whl (15 kB)\n",
      "Requirement already satisfied: torch in /usr/local/lib/python3.8/dist-packages (from thop) (1.12.0.dev20220327+cu113)\n",
      "Requirement already satisfied: typing-extensions in /usr/local/lib/python3.8/dist-packages (from torch->thop) (4.1.1)\n",
      "Installing collected packages: thop\n",
      "Successfully installed thop-0.1.1.post2209072238\n",
      "\n",
      "\u001b[31m\u001b[1mrequirements:\u001b[0m pycocotools>=2.0 not found and is required by YOLOv5, attempting auto-update...\n",
      "\u001b[33mWARNING: Running pip as the 'root' user can result in broken permissions and conflicting behaviour with the system package manager. It is recommended to use a virtual environment instead: https://pip.pypa.io/warnings/venv\u001b[0m\u001b[33m\n",
      "\u001b[0m\u001b[33mWARNING: You are using pip version 22.0.4; however, version 22.3.1 is available.\n",
      "You should consider upgrading via the '/usr/bin/python3.8 -m pip install --upgrade pip' command.\u001b[0m\u001b[33m\n",
      "\u001b[0mCollecting pycocotools>=2.0\n",
      "  Downloading pycocotools-2.0.6.tar.gz (24 kB)\n",
      "  Installing build dependencies: started\n",
      "  Installing build dependencies: finished with status 'done'\n",
      "  Getting requirements to build wheel: started\n",
      "  Getting requirements to build wheel: finished with status 'done'\n",
      "  Preparing metadata (pyproject.toml): started\n",
      "  Preparing metadata (pyproject.toml): finished with status 'done'\n",
      "Requirement already satisfied: matplotlib>=2.1.0 in /usr/local/lib/python3.8/dist-packages (from pycocotools>=2.0) (3.5.1)\n",
      "Requirement already satisfied: numpy in /usr/local/lib/python3.8/dist-packages (from pycocotools>=2.0) (1.22.3)\n",
      "Requirement already satisfied: pillow>=6.2.0 in /usr/local/lib/python3.8/dist-packages (from matplotlib>=2.1.0->pycocotools>=2.0) (9.0.1)\n",
      "Requirement already satisfied: kiwisolver>=1.0.1 in /usr/local/lib/python3.8/dist-packages (from matplotlib>=2.1.0->pycocotools>=2.0) (1.4.2)\n",
      "Requirement already satisfied: pyparsing>=2.2.1 in /usr/local/lib/python3.8/dist-packages (from matplotlib>=2.1.0->pycocotools>=2.0) (3.0.7)\n",
      "Requirement already satisfied: python-dateutil>=2.7 in /usr/local/lib/python3.8/dist-packages (from matplotlib>=2.1.0->pycocotools>=2.0) (2.8.2)\n",
      "Requirement already satisfied: fonttools>=4.22.0 in /usr/local/lib/python3.8/dist-packages (from matplotlib>=2.1.0->pycocotools>=2.0) (4.31.2)\n",
      "Requirement already satisfied: packaging>=20.0 in /usr/local/lib/python3.8/dist-packages (from matplotlib>=2.1.0->pycocotools>=2.0) (21.3)\n",
      "Requirement already satisfied: cycler>=0.10 in /usr/local/lib/python3.8/dist-packages (from matplotlib>=2.1.0->pycocotools>=2.0) (0.11.0)\n",
      "Requirement already satisfied: six>=1.5 in /usr/local/lib/python3.8/dist-packages (from python-dateutil>=2.7->matplotlib>=2.1.0->pycocotools>=2.0) (1.16.0)\n",
      "Building wheels for collected packages: pycocotools\n",
      "  Building wheel for pycocotools (pyproject.toml): started\n",
      "  Building wheel for pycocotools (pyproject.toml): finished with status 'done'\n",
      "  Created wheel for pycocotools: filename=pycocotools-2.0.6-cp38-cp38-linux_x86_64.whl size=420812 sha256=910b74d577ccf8335d6611aee7b080259cab29b20e552a17c7c0616c3aa135b6\n",
      "  Stored in directory: /root/.cache/pip/wheels/3e/08/ac/58126fe59992032701437336493f6132e1b72381a62d00b595\n",
      "Successfully built pycocotools\n",
      "Installing collected packages: pycocotools\n",
      "Successfully installed pycocotools-2.0.6\n",
      "\n",
      "\u001b[31m\u001b[1mrequirements:\u001b[0m 2 packages updated per /root/yolov5/requirements.txt\n",
      "\u001b[31m\u001b[1mrequirements:\u001b[0m ⚠️ \u001b[1mRestart runtime or rerun command for updates to take effect\u001b[0m\n",
      "\n",
      "YOLOv5 🚀 2022-11-22 torch 1.12.0.dev20220327+cu113 CUDA:0 (NVIDIA RTX A5000, 24256.375MB)\n",
      "                                                   CUDA:1 (NVIDIA RTX A5000, 24256.375MB)\n",
      "\n",
      "Namespace(adam=False, artifact_alias='latest', batch_size=32, bbox_interval=-1, bucket='', cache_images=False, cfg='', data='my_data.yaml', device='', entity=None, epochs=90, evolve=False, exist_ok=False, global_rank=-1, hyp='my_hyp.yaml', image_weights=False, img_size=[1024, 1024], label_smoothing=0.0, linear_lr=False, local_rank=-1, multi_scale=False, name='exp', noautoanchor=False, nosave=False, notest=False, project='runs/train', quad=False, rect=False, resume=False, save_dir='runs/train/exp', save_period=-1, single_cls=False, sync_bn=False, total_batch_size=32, upload_dataset=False, weights='yolov5l.pt', workers=8, world_size=1)\n",
      "\u001b[34m\u001b[1mtensorboard: \u001b[0mStart with 'tensorboard --logdir runs/train', view at http://localhost:6006/\n",
      "\u001b[34m\u001b[1mhyperparameters: \u001b[0manchor_t=4.0, anchors=0, box=0.1, cls=1.0, cls_pw=0.5, degrees=30.0, fl_gamma=0.0, fliplr=0.5, flipud=0.2, hsv_h=0, hsv_s=0, hsv_v=0, iou_t=0.2, lr0=0.01, lrf=0.032, mixup=0.0, momentum=0.937, mosaic=0.8, obj=2.0, obj_pw=0.5, perspective=0.0, scale=0.3, shear=0.0, translate=0.2, warmup_bias_lr=0.1, warmup_epochs=3.0, warmup_momentum=0.8, weight_decay=0.0005\n",
      "\u001b[34m\u001b[1mwandb: \u001b[0mInstall Weights & Biases for YOLOv5 logging with 'pip install wandb' (recommended)\n",
      "Overriding model.yaml nc=80 with nc=2\n",
      "\n",
      "                 from  n    params  module                                  arguments                     \n",
      "  0                -1  1      7040  models.common.Focus                     [3, 64, 3]                    \n",
      "  1                -1  1     73984  models.common.Conv                      [64, 128, 3, 2]               \n",
      "  2                -1  1    156928  models.common.C3                        [128, 128, 3]                 \n",
      "  3                -1  1    295424  models.common.Conv                      [128, 256, 3, 2]              \n",
      "  4                -1  1   1611264  models.common.C3                        [256, 256, 9]                 \n",
      "  5                -1  1   1180672  models.common.Conv                      [256, 512, 3, 2]              \n",
      "  6                -1  1   6433792  models.common.C3                        [512, 512, 9]                 \n",
      "  7                -1  1   4720640  models.common.Conv                      [512, 1024, 3, 2]             \n",
      "  8                -1  1   2624512  models.common.SPP                       [1024, 1024, [5, 9, 13]]      \n",
      "  9                -1  1   9971712  models.common.C3                        [1024, 1024, 3, False]        \n",
      " 10                -1  1    525312  models.common.Conv                      [1024, 512, 1, 1]             \n",
      " 11                -1  1         0  torch.nn.modules.upsampling.Upsample    [None, 2, 'nearest']          \n",
      " 12           [-1, 6]  1         0  models.common.Concat                    [1]                           \n",
      " 13                -1  1   2757632  models.common.C3                        [1024, 512, 3, False]         \n",
      " 14                -1  1    131584  models.common.Conv                      [512, 256, 1, 1]              \n",
      " 15                -1  1         0  torch.nn.modules.upsampling.Upsample    [None, 2, 'nearest']          \n",
      " 16           [-1, 4]  1         0  models.common.Concat                    [1]                           \n",
      " 17                -1  1    690688  models.common.C3                        [512, 256, 3, False]          \n",
      " 18                -1  1    590336  models.common.Conv                      [256, 256, 3, 2]              \n",
      " 19          [-1, 14]  1         0  models.common.Concat                    [1]                           \n",
      " 20                -1  1   2495488  models.common.C3                        [512, 512, 3, False]          \n",
      " 21                -1  1   2360320  models.common.Conv                      [512, 512, 3, 2]              \n",
      " 22          [-1, 10]  1         0  models.common.Concat                    [1]                           \n",
      " 23                -1  1   9971712  models.common.C3                        [1024, 1024, 3, False]        \n",
      " 24      [17, 20, 23]  1     37695  models.yolo.Detect                      [2, [[10, 13, 16, 30, 33, 23], [30, 61, 62, 45, 59, 119], [116, 90, 156, 198, 373, 326]], [256, 512, 1024]]\n",
      "/usr/local/lib/python3.8/dist-packages/torch/functional.py:599: UserWarning: torch.meshgrid: in an upcoming release, it will be required to pass the indexing argument. (Triggered internally at  ../aten/src/ATen/native/TensorShape.cpp:2315.)\n",
      "  return _VF.meshgrid(tensors, **kwargs)  # type: ignore[attr-defined]\n",
      "Model Summary: 499 layers, 46636735 parameters, 46636735 gradients, 114.6 GFLOPS\n",
      "\n",
      "/usr/local/lib/python3.8/dist-packages/torch/nn/modules/module.py:1383: UserWarning: positional arguments and argument \"destination\" are deprecated. nn.Module.state_dict will not accept them in the future. Refer to https://pytorch.org/docs/master/generated/torch.nn.Module.html#torch.nn.Module.state_dict for details.\n",
      "  warnings.warn(\n",
      "Transferred 644/650 items from yolov5l.pt\n",
      "Scaled weight_decay = 0.0005\n",
      "Optimizer groups: 110 .bias, 110 conv.weight, 107 other\n",
      "\u001b[34m\u001b[1mtrain: \u001b[0mScanning 'base_dir/labels/train' images and labels... 1001 found, 172 mis\u001b[0m\n",
      "\u001b[34m\u001b[1mtrain: \u001b[0mNew cache created: base_dir/labels/train.cache\n",
      "\u001b[34m\u001b[1mval: \u001b[0mScanning 'base_dir/labels/validation' images and labels... 112 found, 20 mi\u001b[0m\n",
      "\u001b[34m\u001b[1mval: \u001b[0mNew cache created: base_dir/labels/validation.cache\n",
      "Plotting labels... \n",
      "\n",
      "\u001b[34m\u001b[1mautoanchor: \u001b[0mAnalyzing anchors... anchors/target = 5.97, Best Possible Recall (BPR) = 1.0000\n",
      "Image sizes 1024 train, 1024 test\n",
      "Using 8 dataloader workers\n",
      "Logging results to runs/train/exp\n",
      "Starting training for 90 epochs...\n",
      "\n",
      "     Epoch   gpu_mem       box       obj       cls     total    labels  img_size\n",
      "  0%|                                                    | 0/37 [00:00<?, ?it/s]/usr/local/lib/python3.8/dist-packages/torch/nn/modules/module.py:1383: UserWarning: positional arguments and argument \"destination\" are deprecated. nn.Module.state_dict will not accept them in the future. Refer to https://pytorch.org/docs/master/generated/torch.nn.Module.html#torch.nn.Module.state_dict for details.\n",
      "  warnings.warn(\n",
      "      0/89     18.9G    0.1898   0.05115   0.02835    0.2693        20      1024\n",
      "               Class      Images      Labels           P           R      mAP@.5\n",
      "                 all         132         112    0.000823       0.286    0.000243    3.81e-05\n",
      "\n",
      "     Epoch   gpu_mem       box       obj       cls     total    labels  img_size\n",
      "      1/89     22.7G    0.1458   0.02465  0.008517     0.179        21      1024\n",
      "               Class      Images      Labels           P           R      mAP@.5\n",
      "                 all         132         112       0.173       0.125      0.0707      0.0202\n",
      "\n",
      "     Epoch   gpu_mem       box       obj       cls     total    labels  img_size\n",
      "      2/89     22.7G    0.1217   0.02323  0.003655    0.1486        25      1024\n",
      "               Class      Images      Labels           P           R      mAP@.5\n",
      "                 all         132         112       0.183       0.438       0.199      0.0457\n",
      "\n",
      "     Epoch   gpu_mem       box       obj       cls     total    labels  img_size\n",
      "      3/89     22.7G    0.1145   0.02149  0.002819    0.1388        25      1024\n",
      "               Class      Images      Labels           P           R      mAP@.5\n",
      "                 all         132         112       0.481       0.455       0.401       0.135\n",
      "\n",
      "     Epoch   gpu_mem       box       obj       cls     total    labels  img_size\n",
      "      4/89     22.7G    0.1103   0.02092  0.002492    0.1337        21      1024\n",
      "               Class      Images      Labels           P           R      mAP@.5\n",
      "                 all         132         112       0.461       0.455       0.375       0.109\n",
      "\n",
      "     Epoch   gpu_mem       box       obj       cls     total    labels  img_size\n",
      "      5/89     22.7G     0.108   0.01966  0.002275    0.1299        30      1024\n",
      "               Class      Images      Labels           P           R      mAP@.5\n",
      "                 all         132         112       0.395       0.491       0.383       0.131\n",
      "\n",
      "     Epoch   gpu_mem       box       obj       cls     total    labels  img_size\n",
      "      6/89     22.7G    0.1028   0.01877  0.001974    0.1236        27      1024\n",
      "               Class      Images      Labels           P           R      mAP@.5\n",
      "                 all         132         112       0.355       0.464       0.279      0.0783\n",
      "\n",
      "     Epoch   gpu_mem       box       obj       cls     total    labels  img_size\n",
      "      7/89     22.7G    0.1032   0.01775  0.001806    0.1228        19      1024\n",
      "               Class      Images      Labels           P           R      mAP@.5\n",
      "                 all         132         112       0.562       0.482       0.492       0.178\n",
      "\n",
      "     Epoch   gpu_mem       box       obj       cls     total    labels  img_size\n",
      "      8/89     22.7G    0.1023   0.01722  0.001647    0.1212        23      1024\n",
      "               Class      Images      Labels           P           R      mAP@.5\n",
      "                 all         132         112       0.405       0.455       0.303      0.0802\n",
      "\n",
      "     Epoch   gpu_mem       box       obj       cls     total    labels  img_size\n",
      "      9/89     22.7G    0.1015   0.01672  0.001609    0.1199        20      1024\n",
      "               Class      Images      Labels           P           R      mAP@.5\n",
      "                 all         132         112       0.626       0.509       0.481       0.158\n",
      "\n",
      "     Epoch   gpu_mem       box       obj       cls     total    labels  img_size\n",
      "     10/89     22.7G    0.1004   0.01592  0.001504    0.1178        24      1024\n",
      "               Class      Images      Labels           P           R      mAP@.5\n",
      "                 all         132         112       0.441       0.482       0.424       0.168\n",
      "\n",
      "     Epoch   gpu_mem       box       obj       cls     total    labels  img_size\n",
      "     11/89     22.7G   0.09669   0.01509  0.001361    0.1131        20      1024\n",
      "               Class      Images      Labels           P           R      mAP@.5\n",
      "                 all         132         112       0.624       0.464       0.496       0.186\n",
      "\n",
      "     Epoch   gpu_mem       box       obj       cls     total    labels  img_size\n",
      "     12/89     22.7G   0.09943   0.01486  0.001341    0.1156        17      1024\n",
      "               Class      Images      Labels           P           R      mAP@.5\n",
      "                 all         132         112       0.643        0.42       0.458       0.154\n",
      "\n",
      "     Epoch   gpu_mem       box       obj       cls     total    labels  img_size\n",
      "     13/89     22.7G    0.1033   0.01457  0.001484    0.1193        24      1024\n",
      "               Class      Images      Labels           P           R      mAP@.5\n",
      "                 all         132         112       0.449       0.445       0.331      0.0813\n",
      "\n",
      "     Epoch   gpu_mem       box       obj       cls     total    labels  img_size\n",
      "     14/89     22.7G    0.1054    0.0152  0.001776    0.1224        28      1024\n",
      "               Class      Images      Labels           P           R      mAP@.5\n",
      "                 all         132         112       0.546       0.598       0.487       0.172\n",
      "\n",
      "     Epoch   gpu_mem       box       obj       cls     total    labels  img_size\n",
      "     15/89     22.7G    0.1019   0.01517  0.001666    0.1187        19      1024\n",
      "               Class      Images      Labels           P           R      mAP@.5\n",
      "                 all         132         112       0.477       0.399       0.336       0.107\n",
      "\n",
      "     Epoch   gpu_mem       box       obj       cls     total    labels  img_size\n",
      "     16/89     22.7G   0.09907   0.01547  0.001592    0.1161        23      1024\n",
      "               Class      Images      Labels           P           R      mAP@.5\n",
      "                 all         132         112        0.65         0.5       0.541       0.224\n",
      "\n",
      "     Epoch   gpu_mem       box       obj       cls     total    labels  img_size\n",
      "     17/89     22.7G   0.09901   0.01518  0.001466    0.1156        21      1024\n",
      "               Class      Images      Labels           P           R      mAP@.5\n",
      "                 all         132         112       0.623       0.473       0.467       0.143\n",
      "\n",
      "     Epoch   gpu_mem       box       obj       cls     total    labels  img_size\n",
      "     18/89     22.7G    0.1014    0.0153  0.001492    0.1182        25      1024\n",
      "               Class      Images      Labels           P           R      mAP@.5\n",
      "                 all         132         112       0.496       0.312       0.299      0.0916\n",
      "\n",
      "     Epoch   gpu_mem       box       obj       cls     total    labels  img_size\n",
      "     19/89     22.7G    0.1001   0.01459  0.001313     0.116        27      1024\n",
      "               Class      Images      Labels           P           R      mAP@.5\n",
      "                 all         132         112       0.544         0.5       0.459       0.151\n",
      "\n",
      "     Epoch   gpu_mem       box       obj       cls     total    labels  img_size\n",
      "     20/89     22.7G   0.09774   0.01448  0.001214    0.1134        22      1024\n",
      "               Class      Images      Labels           P           R      mAP@.5\n",
      "                 all         132         112       0.549       0.536       0.498       0.163\n",
      "\n",
      "     Epoch   gpu_mem       box       obj       cls     total    labels  img_size\n",
      "     21/89     22.7G       0.1   0.01438  0.001247    0.1157        16      1024\n",
      "               Class      Images      Labels           P           R      mAP@.5\n",
      "                 all         132         112       0.671       0.446       0.488       0.155\n",
      "\n",
      "     Epoch   gpu_mem       box       obj       cls     total    labels  img_size\n",
      "     22/89     22.7G   0.09694    0.0147  0.001153    0.1128        23      1024\n",
      "               Class      Images      Labels           P           R      mAP@.5\n",
      "                 all         132         112        0.61       0.391       0.418       0.126\n",
      "\n",
      "     Epoch   gpu_mem       box       obj       cls     total    labels  img_size\n",
      "     23/89     22.7G   0.09695   0.01461  0.001017    0.1126        20      1024\n",
      "               Class      Images      Labels           P           R      mAP@.5\n",
      "                 all         132         112       0.597       0.518       0.504       0.185\n",
      "\n",
      "     Epoch   gpu_mem       box       obj       cls     total    labels  img_size\n",
      "     24/89     22.7G   0.09692   0.01422  0.001011    0.1121        25      1024\n",
      "               Class      Images      Labels           P           R      mAP@.5\n",
      "                 all         132         112       0.663       0.598       0.589       0.199\n",
      "\n",
      "     Epoch   gpu_mem       box       obj       cls     total    labels  img_size\n",
      "     25/89     22.7G   0.09642   0.01419 0.0009938    0.1116        17      1024\n",
      "               Class      Images      Labels           P           R      mAP@.5\n",
      "                 all         132         112       0.481       0.375       0.325      0.0843\n",
      "\n",
      "     Epoch   gpu_mem       box       obj       cls     total    labels  img_size\n",
      "     26/89     22.7G   0.09568   0.01486 0.0009714    0.1115        24      1024\n",
      "               Class      Images      Labels           P           R      mAP@.5\n",
      "                 all         132         112       0.585       0.366       0.376       0.125\n",
      "\n",
      "     Epoch   gpu_mem       box       obj       cls     total    labels  img_size\n",
      "     27/89     22.7G   0.09428   0.01459 0.0008977    0.1098        25      1024\n",
      "               Class      Images      Labels           P           R      mAP@.5\n",
      "                 all         132         112       0.594       0.357       0.415       0.142\n",
      "\n",
      "     Epoch   gpu_mem       box       obj       cls     total    labels  img_size\n",
      "     28/89     22.7G   0.09397   0.01428 0.0008275    0.1091        25      1024\n",
      "               Class      Images      Labels           P           R      mAP@.5\n",
      "                 all         132         112        0.41        0.42       0.273      0.0794\n",
      "\n",
      "     Epoch   gpu_mem       box       obj       cls     total    labels  img_size\n",
      "     29/89     22.7G   0.09566   0.01401 0.0007267    0.1104        25      1024\n",
      "               Class      Images      Labels           P           R      mAP@.5\n",
      "                 all         132         112       0.521       0.544       0.513       0.178\n",
      "\n",
      "     Epoch   gpu_mem       box       obj       cls     total    labels  img_size\n",
      "     30/89     22.7G   0.09304   0.01408 0.0007688    0.1079        21      1024\n",
      "               Class      Images      Labels           P           R      mAP@.5\n",
      "                 all         132         112       0.645       0.545       0.572       0.211\n",
      "\n",
      "     Epoch   gpu_mem       box       obj       cls     total    labels  img_size\n",
      "     31/89     22.7G   0.09162   0.01416 0.0006555    0.1064        20      1024\n",
      "               Class      Images      Labels           P           R      mAP@.5\n",
      "                 all         132         112       0.713       0.312       0.411       0.138\n",
      "\n",
      "     Epoch   gpu_mem       box       obj       cls     total    labels  img_size\n",
      "     32/89     22.7G   0.09381   0.01384 0.0006515    0.1083        28      1024\n",
      "               Class      Images      Labels           P           R      mAP@.5\n",
      "                 all         132         112       0.591       0.464        0.47       0.191\n",
      "\n",
      "     Epoch   gpu_mem       box       obj       cls     total    labels  img_size\n",
      "     33/89     22.7G    0.0883    0.0133 0.0006632    0.1023        15      1024\n",
      "               Class      Images      Labels           P           R      mAP@.5\n",
      "                 all         132         112       0.615       0.473       0.495       0.174\n",
      "\n",
      "     Epoch   gpu_mem       box       obj       cls     total    labels  img_size\n",
      "     34/89     22.7G   0.08928   0.01431 0.0006079    0.1042        28      1024\n",
      "               Class      Images      Labels           P           R      mAP@.5\n",
      "                 all         132         112       0.567       0.438       0.421       0.114\n",
      "\n",
      "     Epoch   gpu_mem       box       obj       cls     total    labels  img_size\n",
      "     35/89     22.7G   0.08814   0.01429  0.000574     0.103        22      1024\n",
      "               Class      Images      Labels           P           R      mAP@.5\n",
      "                 all         132         112       0.626       0.374       0.381       0.145\n",
      "\n",
      "     Epoch   gpu_mem       box       obj       cls     total    labels  img_size\n",
      "     36/89     22.7G   0.08678   0.01361 0.0005088    0.1009        26      1024\n",
      "               Class      Images      Labels           P           R      mAP@.5\n",
      "                 all         132         112       0.767         0.5       0.511       0.192\n",
      "\n",
      "     Epoch   gpu_mem       box       obj       cls     total    labels  img_size\n",
      "     37/89     22.7G    0.0888    0.0133 0.0004839    0.1026        25      1024\n",
      "               Class      Images      Labels           P           R      mAP@.5\n",
      "                 all         132         112       0.674       0.535       0.519       0.205\n",
      "\n",
      "     Epoch   gpu_mem       box       obj       cls     total    labels  img_size\n",
      "     38/89     22.7G   0.08307   0.01411 0.0005471   0.09772        18      1024\n",
      "               Class      Images      Labels           P           R      mAP@.5\n",
      "                 all         132         112       0.702       0.509       0.534       0.225\n",
      "\n",
      "     Epoch   gpu_mem       box       obj       cls     total    labels  img_size\n",
      "     39/89     22.7G   0.08424   0.01337 0.0004825   0.09809        25      1024\n",
      "               Class      Images      Labels           P           R      mAP@.5\n",
      "                 all         132         112        0.63       0.472       0.498       0.209\n",
      "\n",
      "     Epoch   gpu_mem       box       obj       cls     total    labels  img_size\n",
      "     40/89     22.7G   0.08389   0.01372  0.000491   0.09809        20      1024\n",
      "               Class      Images      Labels           P           R      mAP@.5\n",
      "                 all         132         112       0.772       0.518       0.591       0.226\n",
      "\n",
      "     Epoch   gpu_mem       box       obj       cls     total    labels  img_size\n",
      "     41/89     22.7G   0.08279   0.01323 0.0004759    0.0965        32      1024\n",
      "               Class      Images      Labels           P           R      mAP@.5\n",
      "                 all         132         112       0.631        0.58        0.55       0.237\n",
      "\n",
      "     Epoch   gpu_mem       box       obj       cls     total    labels  img_size\n",
      "     42/89     22.7G   0.08234   0.01357 0.0004435   0.09635        21      1024\n",
      "               Class      Images      Labels           P           R      mAP@.5\n",
      "                 all         132         112       0.695        0.57        0.59       0.226\n",
      "\n",
      "     Epoch   gpu_mem       box       obj       cls     total    labels  img_size\n",
      "     43/89     22.7G   0.08017   0.01311 0.0004037   0.09368        20      1024\n",
      "               Class      Images      Labels           P           R      mAP@.5\n",
      "                 all         132         112       0.575       0.615       0.511       0.215\n",
      "\n",
      "     Epoch   gpu_mem       box       obj       cls     total    labels  img_size\n",
      "     44/89     22.7G    0.0811   0.01337 0.0003952   0.09487        23      1024\n",
      "               Class      Images      Labels           P           R      mAP@.5\n",
      "                 all         132         112       0.727       0.571       0.573       0.264\n",
      "\n",
      "     Epoch   gpu_mem       box       obj       cls     total    labels  img_size\n",
      "     45/89     22.7G   0.08257    0.0137 0.0003911   0.09666        28      1024\n",
      "               Class      Images      Labels           P           R      mAP@.5\n",
      "                 all         132         112       0.717       0.544       0.556       0.215\n",
      "\n",
      "     Epoch   gpu_mem       box       obj       cls     total    labels  img_size\n",
      "     46/89     22.7G   0.08118   0.01367 0.0004097   0.09526        24      1024\n",
      "               Class      Images      Labels           P           R      mAP@.5\n",
      "                 all         132         112       0.641       0.562       0.554       0.219\n",
      "\n",
      "     Epoch   gpu_mem       box       obj       cls     total    labels  img_size\n",
      "     47/89     22.7G   0.08043   0.01329 0.0003904    0.0941        22      1024\n",
      "               Class      Images      Labels           P           R      mAP@.5\n",
      "                 all         132         112       0.589       0.616       0.606       0.269\n",
      "\n",
      "     Epoch   gpu_mem       box       obj       cls     total    labels  img_size\n",
      "     48/89     22.7G   0.07798   0.01347 0.0003627   0.09181        22      1024\n",
      "               Class      Images      Labels           P           R      mAP@.5\n",
      "                 all         132         112       0.771       0.571       0.584       0.247\n",
      "\n",
      "     Epoch   gpu_mem       box       obj       cls     total    labels  img_size\n",
      "     49/89     22.7G   0.07741   0.01352 0.0003377   0.09127        24      1024\n",
      "               Class      Images      Labels           P           R      mAP@.5\n",
      "                 all         132         112       0.621       0.569       0.473        0.18\n",
      "\n",
      "     Epoch   gpu_mem       box       obj       cls     total    labels  img_size\n",
      "     50/89     22.7G   0.07801   0.01336 0.0003133   0.09168        19      1024\n",
      "               Class      Images      Labels           P           R      mAP@.5\n",
      "                 all         132         112       0.677       0.598       0.589       0.248\n",
      "\n",
      "     Epoch   gpu_mem       box       obj       cls     total    labels  img_size\n",
      "     51/89     22.7G   0.07339   0.01256 0.0003205   0.08627        24      1024\n",
      "               Class      Images      Labels           P           R      mAP@.5\n",
      "                 all         132         112       0.686       0.509       0.531       0.238\n",
      "\n",
      "     Epoch   gpu_mem       box       obj       cls     total    labels  img_size\n",
      "     52/89     22.7G   0.07616   0.01299 0.0003142   0.08947        21      1024\n",
      "               Class      Images      Labels           P           R      mAP@.5\n",
      "                 all         132         112        0.74       0.509       0.552       0.263\n",
      "\n",
      "     Epoch   gpu_mem       box       obj       cls     total    labels  img_size\n",
      "     53/89     22.7G   0.07277   0.01273 0.0003182   0.08582        26      1024\n",
      "               Class      Images      Labels           P           R      mAP@.5\n",
      "                 all         132         112       0.708       0.562       0.581       0.265\n",
      "\n",
      "     Epoch   gpu_mem       box       obj       cls     total    labels  img_size\n",
      "     54/89     22.7G   0.07281   0.01251 0.0002944   0.08561        20      1024\n",
      "               Class      Images      Labels           P           R      mAP@.5\n",
      "                 all         132         112       0.707       0.518       0.552       0.254\n",
      "\n",
      "     Epoch   gpu_mem       box       obj       cls     total    labels  img_size\n",
      "     55/89     22.7G   0.07192   0.01296 0.0002915   0.08517        23      1024\n",
      "               Class      Images      Labels           P           R      mAP@.5\n",
      "                 all         132         112        0.67        0.58       0.554       0.243\n",
      "\n",
      "     Epoch   gpu_mem       box       obj       cls     total    labels  img_size\n",
      "     56/89     22.7G   0.07134   0.01217 0.0002866    0.0838        23      1024\n",
      "               Class      Images      Labels           P           R      mAP@.5\n",
      "                 all         132         112       0.703       0.571       0.571       0.249\n",
      "\n",
      "     Epoch   gpu_mem       box       obj       cls     total    labels  img_size\n",
      "     57/89     22.7G   0.07176   0.01237 0.0002767    0.0844        22      1024\n",
      "               Class      Images      Labels           P           R      mAP@.5\n",
      "                 all         132         112       0.687       0.589        0.59       0.271\n",
      "\n",
      "     Epoch   gpu_mem       box       obj       cls     total    labels  img_size\n",
      "     58/89     22.7G   0.07013   0.01238 0.0002534   0.08277        22      1024\n",
      "               Class      Images      Labels           P           R      mAP@.5\n",
      "                 all         132         112       0.703       0.633       0.606       0.269\n",
      "\n",
      "     Epoch   gpu_mem       box       obj       cls     total    labels  img_size\n",
      "     59/89     22.7G   0.06857   0.01254  0.000251   0.08137        27      1024\n",
      "               Class      Images      Labels           P           R      mAP@.5\n",
      "                 all         132         112       0.688       0.571       0.588       0.259\n",
      "\n",
      "     Epoch   gpu_mem       box       obj       cls     total    labels  img_size\n",
      "     60/89     22.7G   0.07005   0.01264 0.0002504   0.08295        20      1024\n",
      "               Class      Images      Labels           P           R      mAP@.5\n",
      "                 all         132         112       0.788       0.571       0.577       0.273\n",
      "\n",
      "     Epoch   gpu_mem       box       obj       cls     total    labels  img_size\n",
      "     61/89     22.7G   0.06736   0.01281 0.0002383   0.08041        20      1024\n",
      "               Class      Images      Labels           P           R      mAP@.5\n",
      "                 all         132         112       0.574       0.589       0.565       0.264\n",
      "\n",
      "     Epoch   gpu_mem       box       obj       cls     total    labels  img_size\n",
      "     62/89     22.7G   0.06762   0.01231 0.0002412   0.08017        20      1024\n",
      "               Class      Images      Labels           P           R      mAP@.5\n",
      "                 all         132         112       0.612        0.58       0.569       0.279\n",
      "\n",
      "     Epoch   gpu_mem       box       obj       cls     total    labels  img_size\n",
      "     63/89     22.7G   0.06498   0.01223 0.0002211   0.07743        20      1024\n",
      "               Class      Images      Labels           P           R      mAP@.5\n",
      "                 all         132         112       0.776       0.589        0.61       0.284\n",
      "\n",
      "     Epoch   gpu_mem       box       obj       cls     total    labels  img_size\n",
      "     64/89     22.7G    0.0652   0.01227 0.0002233   0.07769        26      1024\n",
      "               Class      Images      Labels           P           R      mAP@.5\n",
      "                 all         132         112       0.819       0.527       0.591       0.278\n",
      "\n",
      "     Epoch   gpu_mem       box       obj       cls     total    labels  img_size\n",
      "     65/89     22.7G    0.0657   0.01196 0.0002105   0.07787        22      1024\n",
      "               Class      Images      Labels           P           R      mAP@.5\n",
      "                 all         132         112       0.691        0.58         0.6       0.268\n",
      "\n",
      "     Epoch   gpu_mem       box       obj       cls     total    labels  img_size\n",
      "     66/89     22.7G   0.06373    0.0117 0.0002037   0.07563        25      1024\n",
      "               Class      Images      Labels           P           R      mAP@.5\n",
      "                 all         132         112       0.767       0.589        0.61       0.273\n",
      "\n",
      "     Epoch   gpu_mem       box       obj       cls     total    labels  img_size\n",
      "     67/89     22.7G   0.06522   0.01194  0.000205   0.07737        21      1024\n",
      "               Class      Images      Labels           P           R      mAP@.5\n",
      "                 all         132         112       0.772       0.545       0.599       0.286\n",
      "\n",
      "     Epoch   gpu_mem       box       obj       cls     total    labels  img_size\n",
      "     68/89     22.7G   0.06278   0.01209 0.0001988   0.07507        21      1024\n",
      "               Class      Images      Labels           P           R      mAP@.5\n",
      "                 all         132         112       0.724       0.562       0.579       0.249\n",
      "\n",
      "     Epoch   gpu_mem       box       obj       cls     total    labels  img_size\n",
      "     69/89     22.7G   0.06257   0.01195 0.0001889   0.07471        25      1024\n",
      "               Class      Images      Labels           P           R      mAP@.5\n",
      "                 all         132         112       0.795       0.553       0.625       0.266\n",
      "\n",
      "     Epoch   gpu_mem       box       obj       cls     total    labels  img_size\n",
      "     70/89     22.7G   0.06167   0.01191 0.0001861   0.07378        21      1024\n",
      "               Class      Images      Labels           P           R      mAP@.5\n",
      "                 all         132         112       0.652       0.652       0.614       0.264\n",
      "\n",
      "     Epoch   gpu_mem       box       obj       cls     total    labels  img_size\n",
      "     71/89     22.7G   0.06087   0.01177  0.000186   0.07282        22      1024\n",
      "               Class      Images      Labels           P           R      mAP@.5\n",
      "                 all         132         112       0.795       0.624       0.637       0.295\n",
      "\n",
      "     Epoch   gpu_mem       box       obj       cls     total    labels  img_size\n",
      "     72/89     22.7G   0.05866   0.01194 0.0001782   0.07078        22      1024\n",
      "               Class      Images      Labels           P           R      mAP@.5\n",
      "                 all         132         112        0.81       0.571        0.63        0.28\n",
      "\n",
      "     Epoch   gpu_mem       box       obj       cls     total    labels  img_size\n",
      "     73/89     22.7G   0.05961   0.01143 0.0001786   0.07123        22      1024\n",
      "               Class      Images      Labels           P           R      mAP@.5\n",
      "                 all         132         112       0.776       0.589       0.632       0.278\n",
      "\n",
      "     Epoch   gpu_mem       box       obj       cls     total    labels  img_size\n",
      "     74/89     22.7G   0.05878   0.01125 0.0001721    0.0702        24      1024\n",
      "               Class      Images      Labels           P           R      mAP@.5\n",
      "                 all         132         112        0.74       0.643       0.632       0.296\n",
      "\n",
      "     Epoch   gpu_mem       box       obj       cls     total    labels  img_size\n",
      "     75/89     22.7G   0.05961   0.01157 0.0001747   0.07135        18      1024\n",
      "               Class      Images      Labels           P           R      mAP@.5\n",
      "                 all         132         112       0.779       0.598        0.63       0.283\n",
      "\n",
      "     Epoch   gpu_mem       box       obj       cls     total    labels  img_size\n",
      "     76/89     22.7G   0.05692   0.01141 0.0001651    0.0685        28      1024\n",
      "               Class      Images      Labels           P           R      mAP@.5\n",
      "                 all         132         112       0.786       0.562       0.602       0.278\n",
      "\n",
      "     Epoch   gpu_mem       box       obj       cls     total    labels  img_size\n",
      "     77/89     22.7G   0.05835   0.01189 0.0001634    0.0704        14      1024\n",
      "               Class      Images      Labels           P           R      mAP@.5\n",
      "                 all         132         112       0.706        0.58       0.578       0.257\n",
      "\n",
      "     Epoch   gpu_mem       box       obj       cls     total    labels  img_size\n",
      "     78/89     22.7G     0.057    0.0114 0.0001592   0.06856        18      1024\n",
      "               Class      Images      Labels           P           R      mAP@.5\n",
      "                 all         132         112        0.79       0.571       0.604       0.294\n",
      "\n",
      "     Epoch   gpu_mem       box       obj       cls     total    labels  img_size\n",
      "     79/89     22.7G   0.05569   0.01103 0.0001493   0.06687        26      1024\n",
      "               Class      Images      Labels           P           R      mAP@.5\n",
      "                 all         132         112       0.768       0.536        0.58       0.273\n",
      "\n",
      "     Epoch   gpu_mem       box       obj       cls     total    labels  img_size\n",
      "     80/89     22.7G    0.0554   0.01104 0.0001483   0.06659        21      1024\n",
      "               Class      Images      Labels           P           R      mAP@.5\n",
      "                 all         132         112       0.777       0.562       0.606       0.273\n",
      "\n",
      "     Epoch   gpu_mem       box       obj       cls     total    labels  img_size\n",
      "     81/89     22.7G   0.05552   0.01073  0.000145   0.06639        19      1024\n",
      "               Class      Images      Labels           P           R      mAP@.5\n",
      "                 all         132         112       0.787       0.562       0.606       0.276\n",
      "\n",
      "     Epoch   gpu_mem       box       obj       cls     total    labels  img_size\n",
      "     82/89     22.7G   0.05528   0.01084  0.000143   0.06626        23      1024\n",
      "               Class      Images      Labels           P           R      mAP@.5\n",
      "                 all         132         112       0.815       0.554       0.618       0.282\n",
      "\n",
      "     Epoch   gpu_mem       box       obj       cls     total    labels  img_size\n",
      "     83/89     22.7G   0.05538   0.01103  0.000146   0.06656        23      1024\n",
      "               Class      Images      Labels           P           R      mAP@.5\n",
      "                 all         132         112       0.679       0.643       0.621       0.294\n",
      "\n",
      "     Epoch   gpu_mem       box       obj       cls     total    labels  img_size\n",
      "     84/89     22.7G   0.05396   0.01109 0.0001425   0.06519        25      1024\n",
      "               Class      Images      Labels           P           R      mAP@.5\n",
      "                 all         132         112       0.782       0.545       0.613       0.283\n",
      "\n",
      "     Epoch   gpu_mem       box       obj       cls     total    labels  img_size\n",
      "     85/89     22.7G   0.05401   0.01062  0.000139   0.06477        21      1024\n",
      "               Class      Images      Labels           P           R      mAP@.5\n",
      "                 all         132         112       0.871       0.545        0.62       0.292\n",
      "\n",
      "     Epoch   gpu_mem       box       obj       cls     total    labels  img_size\n",
      "     86/89     22.7G   0.05394   0.01085   0.00014   0.06492        24      1024\n",
      "               Class      Images      Labels           P           R      mAP@.5\n",
      "                 all         132         112        0.79       0.571       0.629       0.284\n",
      "\n",
      "     Epoch   gpu_mem       box       obj       cls     total    labels  img_size\n",
      "     87/89     22.7G    0.0535    0.0111 0.0001374   0.06474        24      1024\n",
      "               Class      Images      Labels           P           R      mAP@.5\n",
      "                 all         132         112       0.805       0.589       0.625       0.284\n",
      "\n",
      "     Epoch   gpu_mem       box       obj       cls     total    labels  img_size\n",
      "     88/89     22.7G   0.05254   0.01069 0.0001333   0.06336        19      1024\n",
      "               Class      Images      Labels           P           R      mAP@.5\n",
      "                 all         132         112       0.722        0.58       0.607       0.277\n",
      "\n",
      "     Epoch   gpu_mem       box       obj       cls     total    labels  img_size\n",
      "     89/89     22.7G   0.05197   0.01021  0.000131    0.0623        20      1024\n",
      "               Class      Images      Labels           P           R      mAP@.5\n",
      "                 all         132         112       0.777       0.562       0.604       0.278\n",
      "                   1         132         112       0.777       0.562       0.604       0.278\n",
      "90 epochs completed in 0.807 hours.\n",
      "\n",
      "Optimizer stripped from runs/train/exp/weights/last.pt, 93.8MB\n",
      "Optimizer stripped from runs/train/exp/weights/best.pt, 93.8MB\n"
     ]
    }
   ],
   "source": [
    "# Path to the weights stored in the yolov5 folder\n",
    "yolo_model_path = 'yolov5l.pt'\n",
    "\n",
    "\n",
    "# Note that now hyp=my_hyp.yaml in the printout below.\n",
    "!WANDB_MODE=\"dryrun\" python train.py --img $IMAGE_SIZE --batch $BATCH_SIZE --epochs $NUM_EPOCHS --data my_data.yaml --hyp my_hyp.yaml --weights $yolo_model_path\n"
   ]
  },
  {
   "cell_type": "code",
   "execution_count": null,
   "metadata": {
    "papermill": {
     "duration": 4.359494,
     "end_time": "2021-07-18T06:53:14.249096",
     "exception": false,
     "start_time": "2021-07-18T06:53:09.889602",
     "status": "completed"
    },
    "tags": []
   },
   "outputs": [],
   "source": []
  },
  {
   "cell_type": "markdown",
   "metadata": {
    "papermill": {
     "duration": 3.382839,
     "end_time": "2021-07-18T06:53:20.977817",
     "exception": false,
     "start_time": "2021-07-18T06:53:17.594978",
     "status": "completed"
    },
    "tags": []
   },
   "source": [
    "## Copy the trained model\n",
    "\n",
    "We will copy the trained model to the Kaggle working directory. This will make the model easier to access."
   ]
  },
  {
   "cell_type": "code",
   "execution_count": 36,
   "metadata": {
    "papermill": {
     "duration": 3.680092,
     "end_time": "2021-07-18T06:53:27.975342",
     "exception": false,
     "start_time": "2021-07-18T06:53:24.29525",
     "status": "completed"
    },
    "tags": []
   },
   "outputs": [
    {
     "data": {
      "text/plain": [
       "['last.pt', 'best.pt']"
      ]
     },
     "execution_count": 36,
     "metadata": {},
     "output_type": "execute_result"
    }
   ],
   "source": [
    "# This is where the trained model is stored\n",
    "\n",
    "path = 'runs/train/exp/weights/'\n",
    "\n",
    "os.listdir(path)"
   ]
  },
  {
   "cell_type": "code",
   "execution_count": 37,
   "metadata": {
    "papermill": {
     "duration": 4.147132,
     "end_time": "2021-07-18T06:53:35.505998",
     "exception": false,
     "start_time": "2021-07-18T06:53:31.358866",
     "status": "completed"
    },
    "tags": []
   },
   "outputs": [
    {
     "name": "stdout",
     "output_type": "stream",
     "text": [
      "/bin/bash: warning: setlocale: LC_ALL: cannot change locale (en_US.UTF-8)\r\n",
      "/root\r\n"
     ]
    }
   ],
   "source": [
    "# change the working directory\n",
    "os.chdir(root)\n",
    "\n",
    "!pwd"
   ]
  },
  {
   "cell_type": "code",
   "execution_count": 38,
   "metadata": {
    "papermill": {
     "duration": 4.267281,
     "end_time": "2021-07-18T06:53:43.461979",
     "exception": false,
     "start_time": "2021-07-18T06:53:39.194698",
     "status": "completed"
    },
    "tags": []
   },
   "outputs": [
    {
     "name": "stdout",
     "output_type": "stream",
     "text": [
      "/bin/bash: warning: setlocale: LC_ALL: cannot change locale (en_US.UTF-8)\r\n",
      "VAST_Setup_Notebook_for_Mammo.ipynb   onstart.log\r\n",
      "best.pt\t\t\t\t      onstart.sh\r\n",
      "exp49_10f_df_data_w_folds.csv\t      ports.log\r\n",
      "exp50-mammo-yolov5-5-0-yolov5l.ipynb  requirements.txt\r\n",
      "input\t\t\t\t      smart-mammo-data\r\n",
      "my-yolov5-for-offline-use\t      yolov5\r\n"
     ]
    }
   ],
   "source": [
    "# Copy the best model to the kaggle/working\n",
    "\n",
    "shutil.copyfile(\n",
    "    f'{root}/yolov5/runs/train/exp/weights/best.pt',\n",
    "    f'{root}/best.pt')\n",
    "\n",
    "\n",
    "!ls"
   ]
  },
  {
   "cell_type": "markdown",
   "metadata": {
    "papermill": {
     "duration": 3.532048,
     "end_time": "2021-07-18T06:53:51.514652",
     "exception": false,
     "start_time": "2021-07-18T06:53:47.982604",
     "status": "completed"
    },
    "tags": []
   },
   "source": [
    "## Get the name of the last experiment\n",
    "\n",
    "Yolov5 saves every training run as an experiment."
   ]
  },
  {
   "cell_type": "code",
   "execution_count": 39,
   "metadata": {
    "papermill": {
     "duration": 4.55418,
     "end_time": "2021-07-18T06:53:59.475607",
     "exception": false,
     "start_time": "2021-07-18T06:53:54.921427",
     "status": "completed"
    },
    "tags": []
   },
   "outputs": [
    {
     "name": "stdout",
     "output_type": "stream",
     "text": [
      "/bin/bash: warning: setlocale: LC_ALL: cannot change locale (en_US.UTF-8)\r\n",
      "/root/yolov5\r\n"
     ]
    }
   ],
   "source": [
    "# change the working directory to yolov5\n",
    "os.chdir(f'{root}/yolov5')\n",
    "\n",
    "!pwd"
   ]
  },
  {
   "cell_type": "code",
   "execution_count": 40,
   "metadata": {
    "papermill": {
     "duration": 3.405475,
     "end_time": "2021-07-18T06:54:06.248916",
     "exception": false,
     "start_time": "2021-07-18T06:54:02.843441",
     "status": "completed"
    },
    "tags": []
   },
   "outputs": [
    {
     "data": {
      "text/plain": [
       "['exp']"
      ]
     },
     "execution_count": 40,
     "metadata": {},
     "output_type": "execute_result"
    }
   ],
   "source": [
    "os.listdir('runs/train/')"
   ]
  },
  {
   "cell_type": "code",
   "execution_count": 41,
   "metadata": {
    "papermill": {
     "duration": 3.377704,
     "end_time": "2021-07-18T06:54:13.375338",
     "exception": false,
     "start_time": "2021-07-18T06:54:09.997634",
     "status": "completed"
    },
    "tags": []
   },
   "outputs": [
    {
     "data": {
      "text/plain": [
       "['exp']"
      ]
     },
     "execution_count": 41,
     "metadata": {},
     "output_type": "execute_result"
    }
   ],
   "source": [
    "# get a list of experiments\n",
    "exp_list = os.listdir('runs/train/')\n",
    "\n",
    "exp_list"
   ]
  },
  {
   "cell_type": "code",
   "execution_count": 42,
   "metadata": {
    "papermill": {
     "duration": 4.272773,
     "end_time": "2021-07-18T06:54:21.146894",
     "exception": false,
     "start_time": "2021-07-18T06:54:16.874121",
     "status": "completed"
    },
    "tags": []
   },
   "outputs": [
    {
     "data": {
      "text/plain": [
       "'exp'"
      ]
     },
     "execution_count": 42,
     "metadata": {},
     "output_type": "execute_result"
    }
   ],
   "source": [
    "# Get the latest exp.\n",
    "# Because this is comitted on Kaggle there should be only one experiment.\n",
    "# Be careful here. Sometimes the latest experiment is the first list item and\n",
    "# sometimes it's the last item.\n",
    "exp = exp_list[0]\n",
    "\n",
    "exp"
   ]
  },
  {
   "cell_type": "code",
   "execution_count": 43,
   "metadata": {
    "papermill": {
     "duration": 3.352582,
     "end_time": "2021-07-18T06:54:27.864267",
     "exception": false,
     "start_time": "2021-07-18T06:54:24.511685",
     "status": "completed"
    },
    "tags": []
   },
   "outputs": [
    {
     "data": {
      "text/plain": [
       "['events.out.tfevents.1669685456.03faa3dd0b78.3949.0',\n",
       " 'weights',\n",
       " 'hyp.yaml',\n",
       " 'opt.yaml',\n",
       " 'labels_correlogram.jpg',\n",
       " 'labels.jpg',\n",
       " 'train_batch0.jpg',\n",
       " 'train_batch1.jpg',\n",
       " 'train_batch2.jpg',\n",
       " 'results.txt',\n",
       " 'test_batch0_labels.jpg',\n",
       " 'test_batch0_pred.jpg',\n",
       " 'PR_curve.png',\n",
       " 'test_batch2_labels.jpg',\n",
       " 'test_batch2_pred.jpg',\n",
       " 'test_batch1_labels.jpg',\n",
       " 'F1_curve.png',\n",
       " 'test_batch1_pred.jpg',\n",
       " 'P_curve.png',\n",
       " 'R_curve.png',\n",
       " 'confusion_matrix.png',\n",
       " 'results.png']"
      ]
     },
     "execution_count": 43,
     "metadata": {},
     "output_type": "execute_result"
    }
   ],
   "source": [
    "# Display the contents of the \"exp\" folder\n",
    "os.listdir(f'runs/train/{exp}')"
   ]
  },
  {
   "cell_type": "markdown",
   "metadata": {
    "papermill": {
     "duration": 3.34843,
     "end_time": "2021-07-18T06:54:34.867454",
     "exception": false,
     "start_time": "2021-07-18T06:54:31.519024",
     "status": "completed"
    },
    "tags": []
   },
   "source": [
    "## Training and Validation Review"
   ]
  },
  {
   "cell_type": "code",
   "execution_count": 44,
   "metadata": {
    "papermill": {
     "duration": 3.490772,
     "end_time": "2021-07-18T06:54:41.697612",
     "exception": false,
     "start_time": "2021-07-18T06:54:38.20684",
     "status": "completed"
    },
    "tags": []
   },
   "outputs": [
    {
     "data": {
      "text/plain": [
       "['events.out.tfevents.1669685456.03faa3dd0b78.3949.0',\n",
       " 'weights',\n",
       " 'hyp.yaml',\n",
       " 'opt.yaml',\n",
       " 'labels_correlogram.jpg',\n",
       " 'labels.jpg',\n",
       " 'train_batch0.jpg',\n",
       " 'train_batch1.jpg',\n",
       " 'train_batch2.jpg',\n",
       " 'results.txt',\n",
       " 'test_batch0_labels.jpg',\n",
       " 'test_batch0_pred.jpg',\n",
       " 'PR_curve.png',\n",
       " 'test_batch2_labels.jpg',\n",
       " 'test_batch2_pred.jpg',\n",
       " 'test_batch1_labels.jpg',\n",
       " 'F1_curve.png',\n",
       " 'test_batch1_pred.jpg',\n",
       " 'P_curve.png',\n",
       " 'R_curve.png',\n",
       " 'confusion_matrix.png',\n",
       " 'results.png']"
      ]
     },
     "execution_count": 44,
     "metadata": {},
     "output_type": "execute_result"
    }
   ],
   "source": [
    "# Display the contents of the \"exp\" folder\n",
    "os.listdir(f'runs/train/{exp}')"
   ]
  },
  {
   "cell_type": "code",
   "execution_count": 45,
   "metadata": {
    "papermill": {
     "duration": 4.17146,
     "end_time": "2021-07-18T06:54:49.377868",
     "exception": false,
     "start_time": "2021-07-18T06:54:45.206408",
     "status": "completed"
    },
    "tags": []
   },
   "outputs": [
    {
     "name": "stdout",
     "output_type": "stream",
     "text": [
      "/bin/bash: warning: setlocale: LC_ALL: cannot change locale (en_US.UTF-8)\r\n",
      "/root/yolov5\r\n"
     ]
    }
   ],
   "source": [
    "# change the working directory to yolov5\n",
    "\n",
    "os.chdir(f'{root}/yolov5')\n",
    "\n",
    "!pwd"
   ]
  },
  {
   "cell_type": "markdown",
   "metadata": {
    "papermill": {
     "duration": 3.348482,
     "end_time": "2021-07-18T06:54:56.99484",
     "exception": false,
     "start_time": "2021-07-18T06:54:53.646358",
     "status": "completed"
    },
    "tags": []
   },
   "source": [
    "## Display the training curves"
   ]
  },
  {
   "cell_type": "code",
   "execution_count": 92,
   "metadata": {
    "papermill": {
     "duration": 4.331596,
     "end_time": "2021-07-18T06:55:04.665328",
     "exception": false,
     "start_time": "2021-07-18T06:55:00.333732",
     "status": "completed"
    },
    "tags": []
   },
   "outputs": [
    {
     "data": {
      "text/plain": [
       "<Figure size 1080x1080 with 0 Axes>"
      ]
     },
     "execution_count": 92,
     "metadata": {},
     "output_type": "execute_result"
    },
    {
     "data": {
      "text/plain": [
       "<Figure size 1080x1080 with 0 Axes>"
      ]
     },
     "metadata": {},
     "output_type": "display_data"
    }
   ],
   "source": [
    "plt.figure(figsize = (15, 15))\n",
    "#plt.imshow(plt.imread(f'runs/train/{exp}/results.png'))"
   ]
  },
  {
   "cell_type": "markdown",
   "metadata": {
    "papermill": {
     "duration": 3.325504,
     "end_time": "2021-07-18T06:55:11.376077",
     "exception": false,
     "start_time": "2021-07-18T06:55:08.050573",
     "status": "completed"
    },
    "tags": []
   },
   "source": [
    "## Get the best mAP and best epoch"
   ]
  },
  {
   "cell_type": "code",
   "execution_count": 47,
   "metadata": {
    "papermill": {
     "duration": 4.486321,
     "end_time": "2021-07-18T06:55:19.433214",
     "exception": false,
     "start_time": "2021-07-18T06:55:14.946893",
     "status": "completed"
    },
    "tags": []
   },
   "outputs": [
    {
     "name": "stdout",
     "output_type": "stream",
     "text": [
      "/bin/bash: warning: setlocale: LC_ALL: cannot change locale (en_US.UTF-8)\r\n",
      "Dockerfile   hubconf.py        train.py\t\t\t\t  yolov5m.pt\r\n",
      "LICENSE      models\t       tutorial.ipynb\t\t\t  yolov5m6.pt\r\n",
      "README.md    my_data.yaml      utils\t\t\t\t  yolov5x.pt\r\n",
      "__pycache__  my_hyp.yaml       weights\t\t\t\t  yolov5x6.pt\r\n",
      "base_dir     requirements.txt  yolov5-v5.0-performance-graph.png\r\n",
      "data\t     runs\t       yolov5l.pt\r\n",
      "detect.py    test.py\t       yolov5l6.pt\r\n"
     ]
    }
   ],
   "source": [
    "!ls"
   ]
  },
  {
   "cell_type": "code",
   "execution_count": 48,
   "metadata": {
    "papermill": {
     "duration": 5.156095,
     "end_time": "2021-07-18T06:55:27.939715",
     "exception": false,
     "start_time": "2021-07-18T06:55:22.78362",
     "status": "completed"
    },
    "tags": []
   },
   "outputs": [
    {
     "name": "stdout",
     "output_type": "stream",
     "text": [
      "/bin/bash: warning: setlocale: LC_ALL: cannot change locale (en_US.UTF-8)\r\n",
      "      0/89     18.9G    0.1898   0.05115   0.02835    0.2693        20      1024 0.0008234    0.2857 0.0002425 3.806e-05    0.1779   0.02476   0.01748\r\n",
      "      1/89     22.7G    0.1458   0.02465  0.008517     0.179        21      1024    0.1733     0.125   0.07066    0.0202    0.1399   0.02468  0.005203\r\n",
      "      2/89     22.7G    0.1217   0.02323  0.003655    0.1486        25      1024    0.1834    0.4375    0.1986   0.04569    0.1207   0.02313  0.002694\r\n",
      "      3/89     22.7G    0.1145   0.02149  0.002819    0.1388        25      1024    0.4806    0.4554    0.4006    0.1352    0.1058   0.02371  0.002073\r\n",
      "      4/89     22.7G    0.1103   0.02092  0.002492    0.1337        21      1024     0.461    0.4554     0.375    0.1094    0.1049   0.02199  0.001953\r\n",
      "      5/89     22.7G     0.108   0.01966  0.002275    0.1299        30      1024    0.3954    0.4911    0.3833    0.1311    0.1012   0.02135  0.001748\r\n",
      "      6/89     22.7G    0.1028   0.01877  0.001974    0.1236        27      1024    0.3554    0.4643    0.2793   0.07828     0.114   0.01861  0.001653\r\n",
      "      7/89     22.7G    0.1032   0.01775  0.001806    0.1228        19      1024    0.5618    0.4821    0.4922    0.1776   0.09567   0.01894  0.001382\r\n",
      "      8/89     22.7G    0.1023   0.01722  0.001647    0.1212        23      1024    0.4054    0.4554    0.3033   0.08016    0.1198    0.0175  0.001492\r\n",
      "      9/89     22.7G    0.1015   0.01672  0.001609    0.1199        20      1024    0.6257    0.5089    0.4808    0.1582    0.1042   0.01697  0.001409\r\n",
      "     10/89     22.7G    0.1004   0.01592  0.001504    0.1178        24      1024    0.4407    0.4821    0.4239    0.1685    0.1059   0.01828  0.001196\r\n",
      "     11/89     22.7G   0.09669   0.01509  0.001361    0.1131        20      1024    0.6236    0.4643    0.4958    0.1864    0.1072   0.01733  0.001163\r\n",
      "     12/89     22.7G   0.09943   0.01486  0.001341    0.1156        17      1024    0.6427    0.4196     0.458    0.1542    0.1141   0.01582  0.001142\r\n",
      "     13/89     22.7G    0.1033   0.01457  0.001484    0.1193        24      1024    0.4494    0.4446    0.3312   0.08131    0.1161   0.01613  0.001653\r\n",
      "     14/89     22.7G    0.1054    0.0152  0.001776    0.1224        28      1024    0.5461    0.5982    0.4875    0.1719    0.1058    0.0176  0.001395\r\n",
      "     15/89     22.7G    0.1019   0.01517  0.001666    0.1187        19      1024    0.4767    0.3985    0.3357    0.1073     0.122   0.01622  0.001764\r\n",
      "     16/89     22.7G   0.09907   0.01547  0.001592    0.1161        23      1024      0.65       0.5    0.5413    0.2243    0.1058   0.01678  0.001156\r\n",
      "     17/89     22.7G   0.09901   0.01518  0.001466    0.1156        21      1024    0.6233    0.4732    0.4667    0.1431    0.1165   0.01613  0.001475\r\n",
      "     18/89     22.7G    0.1014    0.0153  0.001492    0.1182        25      1024    0.4959    0.3125     0.299   0.09163    0.1148   0.01687  0.001076\r\n",
      "     19/89     22.7G    0.1001   0.01459  0.001313     0.116        27      1024    0.5436    0.4999    0.4595    0.1515   0.09674   0.01736  0.001138\r\n",
      "     20/89     22.7G   0.09774   0.01448  0.001214    0.1134        22      1024    0.5485    0.5357    0.4981    0.1634    0.1049   0.01693 0.0009367\r\n",
      "     21/89     22.7G       0.1   0.01438  0.001247    0.1157        16      1024    0.6714    0.4464    0.4881     0.155     0.104   0.01792  0.001099\r\n",
      "     22/89     22.7G   0.09694    0.0147  0.001153    0.1128        23      1024    0.6101    0.3912    0.4182    0.1263    0.1108   0.01442 0.0009811\r\n",
      "     23/89     22.7G   0.09695   0.01461  0.001017    0.1126        20      1024    0.5968    0.5179    0.5041    0.1848   0.09927   0.01748 0.0009061\r\n",
      "     24/89     22.7G   0.09692   0.01422  0.001011    0.1121        25      1024    0.6631    0.5975     0.589    0.1987    0.1031   0.01604 0.0008704\r\n",
      "     25/89     22.7G   0.09642   0.01419 0.0009938    0.1116        17      1024    0.4812     0.375    0.3247   0.08431    0.1148   0.01674 0.0008822\r\n",
      "     26/89     22.7G   0.09568   0.01486 0.0009714    0.1115        24      1024    0.5851    0.3661    0.3765    0.1245     0.111   0.01642 0.0009089\r\n",
      "     27/89     22.7G   0.09428   0.01459 0.0008977    0.1098        25      1024    0.5936    0.3571    0.4147    0.1418    0.1089   0.01958 0.0007615\r\n",
      "     28/89     22.7G   0.09397   0.01428 0.0008275    0.1091        25      1024    0.4102    0.4196     0.273   0.07942    0.1189   0.01905 0.0007268\r\n",
      "     29/89     22.7G   0.09566   0.01401 0.0007267    0.1104        25      1024    0.5211    0.5441    0.5134    0.1775    0.1056   0.01491 0.0007399\r\n",
      "     30/89     22.7G   0.09304   0.01408 0.0007688    0.1079        21      1024    0.6453    0.5446    0.5723    0.2114    0.1018    0.0147 0.0007017\r\n",
      "     31/89     22.7G   0.09162   0.01416 0.0006555    0.1064        20      1024    0.7134    0.3125    0.4108     0.138    0.1092    0.0162 0.0006792\r\n",
      "     32/89     22.7G   0.09381   0.01384 0.0006515    0.1083        28      1024    0.5908    0.4641    0.4702    0.1907   0.09966   0.01707 0.0006172\r\n",
      "     33/89     22.7G    0.0883    0.0133 0.0006632    0.1023        15      1024     0.615    0.4732    0.4953     0.174   0.09787   0.01649 0.0005822\r\n",
      "     34/89     22.7G   0.08928   0.01431 0.0006079    0.1042        28      1024     0.567    0.4375    0.4207    0.1137    0.1165    0.0146 0.0006668\r\n",
      "     35/89     22.7G   0.08814   0.01429  0.000574     0.103        22      1024    0.6263     0.374     0.381    0.1447    0.1059   0.01649 0.0005955\r\n",
      "     36/89     22.7G   0.08678   0.01361 0.0005088    0.1009        26      1024    0.7671    0.4999    0.5114    0.1923    0.1116   0.01499 0.0004618\r\n",
      "     37/89     22.7G    0.0888    0.0133 0.0004839    0.1026        25      1024    0.6739     0.535    0.5192    0.2046    0.1111   0.01476  0.000562\r\n",
      "     38/89     22.7G   0.08307   0.01411 0.0005471   0.09772        18      1024    0.7022    0.5089    0.5336    0.2246   0.09827   0.01565 0.0005217\r\n",
      "     39/89     22.7G   0.08424   0.01337 0.0004825   0.09809        25      1024    0.6302    0.4716    0.4981    0.2086    0.1075   0.01599 0.0006077\r\n",
      "     40/89     22.7G   0.08389   0.01372  0.000491   0.09809        20      1024    0.7715    0.5179    0.5912    0.2261    0.0942   0.01526 0.0005063\r\n",
      "     41/89     22.7G   0.08279   0.01323 0.0004759    0.0965        32      1024     0.631    0.5801    0.5501     0.237     0.104   0.01501 0.0004729\r\n",
      "     42/89     22.7G   0.08234   0.01357 0.0004435   0.09635        21      1024     0.695    0.5697    0.5899    0.2258    0.1055   0.01408 0.0004919\r\n",
      "     43/89     22.7G   0.08017   0.01311 0.0004037   0.09368        20      1024    0.5746    0.6152    0.5113    0.2146   0.09969   0.01615 0.0004478\r\n",
      "     44/89     22.7G    0.0811   0.01337 0.0003952   0.09487        23      1024    0.7272    0.5712     0.573    0.2644    0.1002   0.01466 0.0003928\r\n",
      "     45/89     22.7G   0.08257    0.0137 0.0003911   0.09666        28      1024    0.7175    0.5442     0.556     0.215    0.1017   0.01545 0.0004418\r\n",
      "     46/89     22.7G   0.08118   0.01367 0.0004097   0.09526        24      1024    0.6411    0.5625    0.5541    0.2194    0.1023   0.01405 0.0003965\r\n",
      "     47/89     22.7G   0.08043   0.01329 0.0003904    0.0941        22      1024    0.5891    0.6161    0.6062     0.269   0.09952    0.0142 0.0003517\r\n",
      "     48/89     22.7G   0.07798   0.01347 0.0003627   0.09181        22      1024    0.7707    0.5714    0.5842    0.2473   0.09759   0.01462 0.0003625\r\n",
      "     49/89     22.7G   0.07741   0.01352 0.0003377   0.09127        24      1024    0.6205    0.5694    0.4731    0.1803    0.1178   0.01447 0.0004602\r\n",
      "     50/89     22.7G   0.07801   0.01336 0.0003133   0.09168        19      1024    0.6767     0.598    0.5891    0.2477   0.09955   0.01366 0.0003073\r\n",
      "     51/89     22.7G   0.07339   0.01256 0.0003205   0.08627        24      1024    0.6865    0.5089    0.5306     0.238   0.09896   0.01433 0.0003181\r\n",
      "     52/89     22.7G   0.07616   0.01299 0.0003142   0.08947        21      1024    0.7402    0.5087    0.5515    0.2631    0.1038   0.01461 0.0003172\r\n",
      "     53/89     22.7G   0.07277   0.01273 0.0003182   0.08582        26      1024    0.7076    0.5618    0.5806    0.2648   0.09421    0.0145 0.0002885\r\n",
      "     54/89     22.7G   0.07281   0.01251 0.0002944   0.08561        20      1024    0.7072    0.5179     0.552    0.2542   0.09195   0.01491 0.0002727\r\n",
      "     55/89     22.7G   0.07192   0.01296 0.0002915   0.08517        23      1024    0.6701    0.5803    0.5543    0.2431   0.09811   0.01414 0.0003107\r\n",
      "     56/89     22.7G   0.07134   0.01217 0.0002866    0.0838        23      1024    0.7028    0.5714    0.5715    0.2488   0.09978   0.01388 0.0003065\r\n",
      "     57/89     22.7G   0.07176   0.01237 0.0002767    0.0844        22      1024    0.6874     0.589    0.5895    0.2713   0.09723   0.01431 0.0002805\r\n",
      "     58/89     22.7G   0.07013   0.01238 0.0002534   0.08277        22      1024    0.7028    0.6334    0.6063    0.2686   0.09822   0.01433  0.000283\r\n",
      "     59/89     22.7G   0.06857   0.01254  0.000251   0.08137        27      1024    0.6877    0.5714     0.588    0.2594   0.09737   0.01481 0.0003007\r\n",
      "     60/89     22.7G   0.07005   0.01264 0.0002504   0.08295        20      1024    0.7883    0.5714    0.5772    0.2727   0.09419   0.01412 0.0003041\r\n",
      "     61/89     22.7G   0.06736   0.01281 0.0002383   0.08041        20      1024    0.5737    0.5888    0.5653    0.2636   0.09568   0.01443 0.0002415\r\n",
      "     62/89     22.7G   0.06762   0.01231 0.0002412   0.08017        20      1024    0.6125    0.5804    0.5685    0.2795    0.0949   0.01407 0.0002805\r\n",
      "     63/89     22.7G   0.06498   0.01223 0.0002211   0.07743        20      1024    0.7764    0.5889    0.6103    0.2837   0.09284   0.01442 0.0002549\r\n",
      "     64/89     22.7G    0.0652   0.01227 0.0002233   0.07769        26      1024    0.8192    0.5268    0.5912    0.2777   0.09642   0.01469 0.0002638\r\n",
      "     65/89     22.7G    0.0657   0.01196 0.0002105   0.07787        22      1024     0.691    0.5804    0.6004    0.2685    0.0939   0.01465 0.0002467\r\n",
      "     66/89     22.7G   0.06373    0.0117 0.0002037   0.07563        25      1024    0.7672    0.5885    0.6098    0.2729   0.09485   0.01433 0.0002489\r\n",
      "     67/89     22.7G   0.06522   0.01194  0.000205   0.07737        21      1024    0.7717    0.5446    0.5991    0.2865   0.08989   0.01506 0.0002304\r\n",
      "     68/89     22.7G   0.06278   0.01209 0.0001988   0.07507        21      1024    0.7241    0.5625    0.5793    0.2487   0.09508   0.01472 0.0002208\r\n",
      "     69/89     22.7G   0.06257   0.01195 0.0001889   0.07471        25      1024    0.7946    0.5526    0.6251    0.2656    0.0951   0.01478 0.0002199\r\n",
      "     70/89     22.7G   0.06167   0.01191 0.0001861   0.07378        21      1024    0.6517    0.6518     0.614    0.2643   0.09639   0.01417 0.0002423\r\n",
      "     71/89     22.7G   0.06087   0.01177  0.000186   0.07282        22      1024    0.7951    0.6236    0.6375    0.2953   0.09423   0.01461  0.000211\r\n",
      "     72/89     22.7G   0.05866   0.01194 0.0001782   0.07078        22      1024    0.8101    0.5714    0.6305    0.2799   0.09235     0.014 0.0001914\r\n",
      "     73/89     22.7G   0.05961   0.01143 0.0001786   0.07123        22      1024    0.7763    0.5886    0.6316    0.2781   0.09125   0.01426 0.0002029\r\n",
      "     74/89     22.7G   0.05878   0.01125 0.0001721    0.0702        24      1024    0.7405    0.6429    0.6322    0.2964   0.09238    0.0141 0.0002031\r\n",
      "     75/89     22.7G   0.05961   0.01157 0.0001747   0.07135        18      1024     0.779    0.5979    0.6297    0.2831   0.09175    0.0148 0.0001938\r\n",
      "     76/89     22.7G   0.05692   0.01141 0.0001651    0.0685        28      1024    0.7863    0.5625    0.6019    0.2779   0.09397   0.01478 0.0002033\r\n",
      "     77/89     22.7G   0.05835   0.01189 0.0001634    0.0704        14      1024    0.7065    0.5802    0.5776    0.2571   0.09568   0.01518 0.0002011\r\n",
      "     78/89     22.7G     0.057    0.0114 0.0001592   0.06856        18      1024    0.7901    0.5712    0.6038    0.2935    0.0916   0.01524 0.0001847\r\n",
      "     79/89     22.7G   0.05569   0.01103 0.0001493   0.06687        26      1024    0.7683    0.5357    0.5797     0.273   0.09146   0.01511 0.0001774\r\n",
      "     80/89     22.7G    0.0554   0.01104 0.0001483   0.06659        21      1024    0.7771    0.5625    0.6056    0.2731   0.09462   0.01539  0.000188\r\n",
      "     81/89     22.7G   0.05552   0.01073  0.000145   0.06639        19      1024    0.7868    0.5625    0.6059    0.2761   0.09436   0.01573 0.0001963\r\n",
      "     82/89     22.7G   0.05528   0.01084  0.000143   0.06626        23      1024     0.815    0.5536    0.6183    0.2823   0.09405    0.0157 0.0001911\r\n",
      "     83/89     22.7G   0.05538   0.01103  0.000146   0.06656        23      1024    0.6792    0.6427    0.6213    0.2941   0.09272   0.01524 0.0001701\r\n",
      "     84/89     22.7G   0.05396   0.01109 0.0001425   0.06519        25      1024     0.782    0.5446    0.6127    0.2831   0.09348   0.01483   0.00017\r\n",
      "     85/89     22.7G   0.05401   0.01062  0.000139   0.06477        21      1024    0.8711    0.5446    0.6199    0.2915   0.09252   0.01502 0.0001646\r\n",
      "     86/89     22.7G   0.05394   0.01085   0.00014   0.06492        24      1024    0.7901    0.5713    0.6287    0.2835   0.09273   0.01551 0.0001659\r\n",
      "     87/89     22.7G    0.0535    0.0111 0.0001374   0.06474        24      1024    0.8047    0.5888    0.6253    0.2839   0.09485   0.01554 0.0001735\r\n",
      "     88/89     22.7G   0.05254   0.01069 0.0001333   0.06336        19      1024    0.7222    0.5802    0.6072    0.2769    0.0939   0.01544  0.000168\r\n",
      "     89/89     22.7G   0.05197   0.01021  0.000131    0.0623        20      1024    0.7775    0.5625    0.6038    0.2777   0.09312   0.01558 0.0001711\r\n"
     ]
    }
   ],
   "source": [
    "# Display the contents of the results.txt file\n",
    "\n",
    "path = f'runs/train/{exp}/results.txt'\n",
    "\n",
    "!cat $path"
   ]
  },
  {
   "cell_type": "code",
   "execution_count": 49,
   "metadata": {
    "papermill": {
     "duration": 3.36078,
     "end_time": "2021-07-18T06:55:34.638954",
     "exception": false,
     "start_time": "2021-07-18T06:55:31.278174",
     "status": "completed"
    },
    "tags": []
   },
   "outputs": [
    {
     "data": {
      "text/plain": [
       "90"
      ]
     },
     "execution_count": 49,
     "metadata": {},
     "output_type": "execute_result"
    }
   ],
   "source": [
    "# Read the results from the training log: results.txt\n",
    "\n",
    "# https://stackoverflow.com/questions/3277503/how-to-read-a-file-line-by-line-into-a-list\n",
    "# https://stackoverflow.com/questions/65381312/how-to-convert-a-yolo-darknet-format-into-csv-file\n",
    "\n",
    "\n",
    "filename = f'runs/train/{exp}/results.txt'\n",
    "\n",
    "file_list = []\n",
    "\n",
    "with open(filename) as f:\n",
    "    # read a line into a list, format: ['item item item', 'item item item', ...]\n",
    "    file_line_list = f.readlines()\n",
    "    \n",
    "    \n",
    "for i in range(0, len(file_line_list)):\n",
    "    \n",
    "    # Get the first item in the list and split on the spaces.\n",
    "    # This returns a list of all items in the line: ['item', 'item', 'item']\n",
    "    line_list = file_line_list[i].split()\n",
    "    \n",
    "    # remove whitespace characters like `\\n` at the end of each line\n",
    "    line_list = [x.strip() for x in line_list]\n",
    "    \n",
    "    # Save the list.\n",
    "    # all_lines_list is a list of lists\n",
    "    file_list.append(line_list)\n",
    "    \n",
    "len(file_list)"
   ]
  },
  {
   "cell_type": "code",
   "execution_count": 50,
   "metadata": {
    "papermill": {
     "duration": 3.393293,
     "end_time": "2021-07-18T06:55:41.765059",
     "exception": false,
     "start_time": "2021-07-18T06:55:38.371766",
     "status": "completed"
    },
    "tags": []
   },
   "outputs": [
    {
     "data": {
      "text/html": [
       "<div>\n",
       "<style scoped>\n",
       "    .dataframe tbody tr th:only-of-type {\n",
       "        vertical-align: middle;\n",
       "    }\n",
       "\n",
       "    .dataframe tbody tr th {\n",
       "        vertical-align: top;\n",
       "    }\n",
       "\n",
       "    .dataframe thead th {\n",
       "        text-align: right;\n",
       "    }\n",
       "</style>\n",
       "<table border=\"1\" class=\"dataframe\">\n",
       "  <thead>\n",
       "    <tr style=\"text-align: right;\">\n",
       "      <th></th>\n",
       "      <th>0</th>\n",
       "      <th>1</th>\n",
       "      <th>2</th>\n",
       "      <th>3</th>\n",
       "      <th>4</th>\n",
       "      <th>5</th>\n",
       "      <th>6</th>\n",
       "      <th>7</th>\n",
       "      <th>8</th>\n",
       "      <th>9</th>\n",
       "      <th>10</th>\n",
       "      <th>11</th>\n",
       "      <th>12</th>\n",
       "      <th>13</th>\n",
       "      <th>14</th>\n",
       "    </tr>\n",
       "  </thead>\n",
       "  <tbody>\n",
       "    <tr>\n",
       "      <th>0</th>\n",
       "      <td>0/89</td>\n",
       "      <td>18.9G</td>\n",
       "      <td>0.1898</td>\n",
       "      <td>0.05115</td>\n",
       "      <td>0.02835</td>\n",
       "      <td>0.2693</td>\n",
       "      <td>20</td>\n",
       "      <td>1024</td>\n",
       "      <td>0.0008234</td>\n",
       "      <td>0.2857</td>\n",
       "      <td>0.0002425</td>\n",
       "      <td>3.806e-05</td>\n",
       "      <td>0.1779</td>\n",
       "      <td>0.02476</td>\n",
       "      <td>0.01748</td>\n",
       "    </tr>\n",
       "    <tr>\n",
       "      <th>1</th>\n",
       "      <td>1/89</td>\n",
       "      <td>22.7G</td>\n",
       "      <td>0.1458</td>\n",
       "      <td>0.02465</td>\n",
       "      <td>0.008517</td>\n",
       "      <td>0.179</td>\n",
       "      <td>21</td>\n",
       "      <td>1024</td>\n",
       "      <td>0.1733</td>\n",
       "      <td>0.125</td>\n",
       "      <td>0.07066</td>\n",
       "      <td>0.0202</td>\n",
       "      <td>0.1399</td>\n",
       "      <td>0.02468</td>\n",
       "      <td>0.005203</td>\n",
       "    </tr>\n",
       "    <tr>\n",
       "      <th>2</th>\n",
       "      <td>2/89</td>\n",
       "      <td>22.7G</td>\n",
       "      <td>0.1217</td>\n",
       "      <td>0.02323</td>\n",
       "      <td>0.003655</td>\n",
       "      <td>0.1486</td>\n",
       "      <td>25</td>\n",
       "      <td>1024</td>\n",
       "      <td>0.1834</td>\n",
       "      <td>0.4375</td>\n",
       "      <td>0.1986</td>\n",
       "      <td>0.04569</td>\n",
       "      <td>0.1207</td>\n",
       "      <td>0.02313</td>\n",
       "      <td>0.002694</td>\n",
       "    </tr>\n",
       "    <tr>\n",
       "      <th>3</th>\n",
       "      <td>3/89</td>\n",
       "      <td>22.7G</td>\n",
       "      <td>0.1145</td>\n",
       "      <td>0.02149</td>\n",
       "      <td>0.002819</td>\n",
       "      <td>0.1388</td>\n",
       "      <td>25</td>\n",
       "      <td>1024</td>\n",
       "      <td>0.4806</td>\n",
       "      <td>0.4554</td>\n",
       "      <td>0.4006</td>\n",
       "      <td>0.1352</td>\n",
       "      <td>0.1058</td>\n",
       "      <td>0.02371</td>\n",
       "      <td>0.002073</td>\n",
       "    </tr>\n",
       "    <tr>\n",
       "      <th>4</th>\n",
       "      <td>4/89</td>\n",
       "      <td>22.7G</td>\n",
       "      <td>0.1103</td>\n",
       "      <td>0.02092</td>\n",
       "      <td>0.002492</td>\n",
       "      <td>0.1337</td>\n",
       "      <td>21</td>\n",
       "      <td>1024</td>\n",
       "      <td>0.461</td>\n",
       "      <td>0.4554</td>\n",
       "      <td>0.375</td>\n",
       "      <td>0.1094</td>\n",
       "      <td>0.1049</td>\n",
       "      <td>0.02199</td>\n",
       "      <td>0.001953</td>\n",
       "    </tr>\n",
       "    <tr>\n",
       "      <th>5</th>\n",
       "      <td>5/89</td>\n",
       "      <td>22.7G</td>\n",
       "      <td>0.108</td>\n",
       "      <td>0.01966</td>\n",
       "      <td>0.002275</td>\n",
       "      <td>0.1299</td>\n",
       "      <td>30</td>\n",
       "      <td>1024</td>\n",
       "      <td>0.3954</td>\n",
       "      <td>0.4911</td>\n",
       "      <td>0.3833</td>\n",
       "      <td>0.1311</td>\n",
       "      <td>0.1012</td>\n",
       "      <td>0.02135</td>\n",
       "      <td>0.001748</td>\n",
       "    </tr>\n",
       "    <tr>\n",
       "      <th>6</th>\n",
       "      <td>6/89</td>\n",
       "      <td>22.7G</td>\n",
       "      <td>0.1028</td>\n",
       "      <td>0.01877</td>\n",
       "      <td>0.001974</td>\n",
       "      <td>0.1236</td>\n",
       "      <td>27</td>\n",
       "      <td>1024</td>\n",
       "      <td>0.3554</td>\n",
       "      <td>0.4643</td>\n",
       "      <td>0.2793</td>\n",
       "      <td>0.07828</td>\n",
       "      <td>0.114</td>\n",
       "      <td>0.01861</td>\n",
       "      <td>0.001653</td>\n",
       "    </tr>\n",
       "    <tr>\n",
       "      <th>7</th>\n",
       "      <td>7/89</td>\n",
       "      <td>22.7G</td>\n",
       "      <td>0.1032</td>\n",
       "      <td>0.01775</td>\n",
       "      <td>0.001806</td>\n",
       "      <td>0.1228</td>\n",
       "      <td>19</td>\n",
       "      <td>1024</td>\n",
       "      <td>0.5618</td>\n",
       "      <td>0.4821</td>\n",
       "      <td>0.4922</td>\n",
       "      <td>0.1776</td>\n",
       "      <td>0.09567</td>\n",
       "      <td>0.01894</td>\n",
       "      <td>0.001382</td>\n",
       "    </tr>\n",
       "    <tr>\n",
       "      <th>8</th>\n",
       "      <td>8/89</td>\n",
       "      <td>22.7G</td>\n",
       "      <td>0.1023</td>\n",
       "      <td>0.01722</td>\n",
       "      <td>0.001647</td>\n",
       "      <td>0.1212</td>\n",
       "      <td>23</td>\n",
       "      <td>1024</td>\n",
       "      <td>0.4054</td>\n",
       "      <td>0.4554</td>\n",
       "      <td>0.3033</td>\n",
       "      <td>0.08016</td>\n",
       "      <td>0.1198</td>\n",
       "      <td>0.0175</td>\n",
       "      <td>0.001492</td>\n",
       "    </tr>\n",
       "    <tr>\n",
       "      <th>9</th>\n",
       "      <td>9/89</td>\n",
       "      <td>22.7G</td>\n",
       "      <td>0.1015</td>\n",
       "      <td>0.01672</td>\n",
       "      <td>0.001609</td>\n",
       "      <td>0.1199</td>\n",
       "      <td>20</td>\n",
       "      <td>1024</td>\n",
       "      <td>0.6257</td>\n",
       "      <td>0.5089</td>\n",
       "      <td>0.4808</td>\n",
       "      <td>0.1582</td>\n",
       "      <td>0.1042</td>\n",
       "      <td>0.01697</td>\n",
       "      <td>0.001409</td>\n",
       "    </tr>\n",
       "  </tbody>\n",
       "</table>\n",
       "</div>"
      ],
      "text/plain": [
       "     0      1       2        3         4       5   6     7          8   \\\n",
       "0  0/89  18.9G  0.1898  0.05115   0.02835  0.2693  20  1024  0.0008234   \n",
       "1  1/89  22.7G  0.1458  0.02465  0.008517   0.179  21  1024     0.1733   \n",
       "2  2/89  22.7G  0.1217  0.02323  0.003655  0.1486  25  1024     0.1834   \n",
       "3  3/89  22.7G  0.1145  0.02149  0.002819  0.1388  25  1024     0.4806   \n",
       "4  4/89  22.7G  0.1103  0.02092  0.002492  0.1337  21  1024      0.461   \n",
       "5  5/89  22.7G   0.108  0.01966  0.002275  0.1299  30  1024     0.3954   \n",
       "6  6/89  22.7G  0.1028  0.01877  0.001974  0.1236  27  1024     0.3554   \n",
       "7  7/89  22.7G  0.1032  0.01775  0.001806  0.1228  19  1024     0.5618   \n",
       "8  8/89  22.7G  0.1023  0.01722  0.001647  0.1212  23  1024     0.4054   \n",
       "9  9/89  22.7G  0.1015  0.01672  0.001609  0.1199  20  1024     0.6257   \n",
       "\n",
       "       9          10         11       12       13        14  \n",
       "0  0.2857  0.0002425  3.806e-05   0.1779  0.02476   0.01748  \n",
       "1   0.125    0.07066     0.0202   0.1399  0.02468  0.005203  \n",
       "2  0.4375     0.1986    0.04569   0.1207  0.02313  0.002694  \n",
       "3  0.4554     0.4006     0.1352   0.1058  0.02371  0.002073  \n",
       "4  0.4554      0.375     0.1094   0.1049  0.02199  0.001953  \n",
       "5  0.4911     0.3833     0.1311   0.1012  0.02135  0.001748  \n",
       "6  0.4643     0.2793    0.07828    0.114  0.01861  0.001653  \n",
       "7  0.4821     0.4922     0.1776  0.09567  0.01894  0.001382  \n",
       "8  0.4554     0.3033    0.08016   0.1198   0.0175  0.001492  \n",
       "9  0.5089     0.4808     0.1582   0.1042  0.01697  0.001409  "
      ]
     },
     "execution_count": 50,
     "metadata": {},
     "output_type": "execute_result"
    }
   ],
   "source": [
    "# Put the file data into a dataframe\n",
    "\n",
    "df = pd.DataFrame(file_list)\n",
    "\n",
    "df.head(10)"
   ]
  },
  {
   "cell_type": "code",
   "execution_count": 51,
   "metadata": {
    "papermill": {
     "duration": 3.75076,
     "end_time": "2021-07-18T06:55:48.88542",
     "exception": false,
     "start_time": "2021-07-18T06:55:45.13466",
     "status": "completed"
    },
    "tags": []
   },
   "outputs": [
    {
     "data": {
      "text/html": [
       "<div>\n",
       "<style scoped>\n",
       "    .dataframe tbody tr th:only-of-type {\n",
       "        vertical-align: middle;\n",
       "    }\n",
       "\n",
       "    .dataframe tbody tr th {\n",
       "        vertical-align: top;\n",
       "    }\n",
       "\n",
       "    .dataframe thead th {\n",
       "        text-align: right;\n",
       "    }\n",
       "</style>\n",
       "<table border=\"1\" class=\"dataframe\">\n",
       "  <thead>\n",
       "    <tr style=\"text-align: right;\">\n",
       "      <th></th>\n",
       "      <th>epoch</th>\n",
       "      <th>P</th>\n",
       "      <th>R</th>\n",
       "      <th>map0.5</th>\n",
       "      <th>map0.5:0.95</th>\n",
       "    </tr>\n",
       "  </thead>\n",
       "  <tbody>\n",
       "    <tr>\n",
       "      <th>0</th>\n",
       "      <td>0/89</td>\n",
       "      <td>0.0008234</td>\n",
       "      <td>0.2857</td>\n",
       "      <td>0.0002425</td>\n",
       "      <td>3.806e-05</td>\n",
       "    </tr>\n",
       "    <tr>\n",
       "      <th>1</th>\n",
       "      <td>1/89</td>\n",
       "      <td>0.1733</td>\n",
       "      <td>0.125</td>\n",
       "      <td>0.07066</td>\n",
       "      <td>0.0202</td>\n",
       "    </tr>\n",
       "    <tr>\n",
       "      <th>2</th>\n",
       "      <td>2/89</td>\n",
       "      <td>0.1834</td>\n",
       "      <td>0.4375</td>\n",
       "      <td>0.1986</td>\n",
       "      <td>0.04569</td>\n",
       "    </tr>\n",
       "    <tr>\n",
       "      <th>3</th>\n",
       "      <td>3/89</td>\n",
       "      <td>0.4806</td>\n",
       "      <td>0.4554</td>\n",
       "      <td>0.4006</td>\n",
       "      <td>0.1352</td>\n",
       "    </tr>\n",
       "    <tr>\n",
       "      <th>4</th>\n",
       "      <td>4/89</td>\n",
       "      <td>0.461</td>\n",
       "      <td>0.4554</td>\n",
       "      <td>0.375</td>\n",
       "      <td>0.1094</td>\n",
       "    </tr>\n",
       "    <tr>\n",
       "      <th>5</th>\n",
       "      <td>5/89</td>\n",
       "      <td>0.3954</td>\n",
       "      <td>0.4911</td>\n",
       "      <td>0.3833</td>\n",
       "      <td>0.1311</td>\n",
       "    </tr>\n",
       "    <tr>\n",
       "      <th>6</th>\n",
       "      <td>6/89</td>\n",
       "      <td>0.3554</td>\n",
       "      <td>0.4643</td>\n",
       "      <td>0.2793</td>\n",
       "      <td>0.07828</td>\n",
       "    </tr>\n",
       "    <tr>\n",
       "      <th>7</th>\n",
       "      <td>7/89</td>\n",
       "      <td>0.5618</td>\n",
       "      <td>0.4821</td>\n",
       "      <td>0.4922</td>\n",
       "      <td>0.1776</td>\n",
       "    </tr>\n",
       "    <tr>\n",
       "      <th>8</th>\n",
       "      <td>8/89</td>\n",
       "      <td>0.4054</td>\n",
       "      <td>0.4554</td>\n",
       "      <td>0.3033</td>\n",
       "      <td>0.08016</td>\n",
       "    </tr>\n",
       "    <tr>\n",
       "      <th>9</th>\n",
       "      <td>9/89</td>\n",
       "      <td>0.6257</td>\n",
       "      <td>0.5089</td>\n",
       "      <td>0.4808</td>\n",
       "      <td>0.1582</td>\n",
       "    </tr>\n",
       "  </tbody>\n",
       "</table>\n",
       "</div>"
      ],
      "text/plain": [
       "  epoch          P       R     map0.5 map0.5:0.95\n",
       "0  0/89  0.0008234  0.2857  0.0002425   3.806e-05\n",
       "1  1/89     0.1733   0.125    0.07066      0.0202\n",
       "2  2/89     0.1834  0.4375     0.1986     0.04569\n",
       "3  3/89     0.4806  0.4554     0.4006      0.1352\n",
       "4  4/89      0.461  0.4554      0.375      0.1094\n",
       "5  5/89     0.3954  0.4911     0.3833      0.1311\n",
       "6  6/89     0.3554  0.4643     0.2793     0.07828\n",
       "7  7/89     0.5618  0.4821     0.4922      0.1776\n",
       "8  8/89     0.4054  0.4554     0.3033     0.08016\n",
       "9  9/89     0.6257  0.5089     0.4808      0.1582"
      ]
     },
     "execution_count": 51,
     "metadata": {},
     "output_type": "execute_result"
    }
   ],
   "source": [
    "# choose only the columns we want\n",
    "\n",
    "col_names = ['epoch', 'P', 'R', 'map0.5', 'map0.5:0.95']\n",
    "\n",
    "# filter out specific columns\n",
    "df_results = df[[0, 8, 9, 10, 11]]\n",
    "\n",
    "df_results.columns = col_names\n",
    "\n",
    "# change the column names\n",
    "df_results.head(10)"
   ]
  },
  {
   "cell_type": "code",
   "execution_count": 52,
   "metadata": {
    "papermill": {
     "duration": 3.438387,
     "end_time": "2021-07-18T06:55:55.694216",
     "exception": false,
     "start_time": "2021-07-18T06:55:52.255829",
     "status": "completed"
    },
    "tags": []
   },
   "outputs": [
    {
     "name": "stdout",
     "output_type": "stream",
     "text": [
      "---------------------\n",
      "Best map0.5: 0.6375\n",
      "\n",
      "    epoch       P       R  map0.5 map0.5:0.95\n",
      "71  71/89  0.7951  0.6236  0.6375      0.2953\n",
      "---------------------\n"
     ]
    }
   ],
   "source": [
    "# Get the best map0.5\n",
    "\n",
    "best_map = df_results['map0.5'].max()\n",
    "\n",
    "print('---------------------')\n",
    "\n",
    "print('Best map0.5:', best_map)\n",
    "print()\n",
    "\n",
    "# print the row that contains the best map0.5\n",
    "df = df_results[df_results['map0.5'] == best_map]\n",
    "\n",
    "print(df.head())\n",
    "\n",
    "print('---------------------')"
   ]
  },
  {
   "cell_type": "markdown",
   "metadata": {
    "execution": {
     "iopub.execute_input": "2021-07-05T08:19:53.683161Z",
     "iopub.status.busy": "2021-07-05T08:19:53.682523Z",
     "iopub.status.idle": "2021-07-05T08:19:53.68887Z",
     "shell.execute_reply": "2021-07-05T08:19:53.687579Z",
     "shell.execute_reply.started": "2021-07-05T08:19:53.683105Z"
    },
    "papermill": {
     "duration": 3.572099,
     "end_time": "2021-07-18T06:56:03.775207",
     "exception": false,
     "start_time": "2021-07-18T06:56:00.203108",
     "status": "completed"
    },
    "tags": []
   },
   "source": [
    "## Display one batch of train images"
   ]
  },
  {
   "cell_type": "code",
   "execution_count": 53,
   "metadata": {
    "papermill": {
     "duration": 4.375391,
     "end_time": "2021-07-18T06:56:11.494857",
     "exception": false,
     "start_time": "2021-07-18T06:56:07.119466",
     "status": "completed"
    },
    "tags": []
   },
   "outputs": [
    {
     "data": {
      "text/plain": [
       "<Figure size 1080x1080 with 0 Axes>"
      ]
     },
     "execution_count": 53,
     "metadata": {},
     "output_type": "execute_result"
    },
    {
     "data": {
      "text/plain": [
       "<Figure size 1080x1080 with 0 Axes>"
      ]
     },
     "metadata": {},
     "output_type": "display_data"
    }
   ],
   "source": [
    "# Train\n",
    "# One mosaic batch of train images with labels\n",
    "\n",
    "plt.figure(figsize = (15, 15))\n",
    "#plt.imshow(plt.imread(f'runs/train/{exp}/train_batch0.jpg'))"
   ]
  },
  {
   "cell_type": "markdown",
   "metadata": {
    "papermill": {
     "duration": 3.378424,
     "end_time": "2021-07-18T06:56:18.287695",
     "exception": false,
     "start_time": "2021-07-18T06:56:14.909271",
     "status": "completed"
    },
    "tags": []
   },
   "source": [
    "## Display true and predicted val set bboxes\n",
    "\n",
    "Here we will display the true and predicted bboxes for two val batches."
   ]
  },
  {
   "cell_type": "code",
   "execution_count": 54,
   "metadata": {
    "papermill": {
     "duration": 3.956924,
     "end_time": "2021-07-18T06:56:25.962776",
     "exception": false,
     "start_time": "2021-07-18T06:56:22.005852",
     "status": "completed"
    },
    "tags": []
   },
   "outputs": [
    {
     "data": {
      "text/plain": [
       "<Figure size 1080x1080 with 0 Axes>"
      ]
     },
     "execution_count": 54,
     "metadata": {},
     "output_type": "execute_result"
    },
    {
     "data": {
      "text/plain": [
       "<Figure size 1080x1080 with 0 Axes>"
      ]
     },
     "metadata": {},
     "output_type": "display_data"
    }
   ],
   "source": [
    "# BATCH 0 - TRUE BBOXES\n",
    "\n",
    "plt.figure(figsize = (15, 15))\n",
    "#plt.imshow(plt.imread(f'runs/train/{exp}/test_batch0_labels.jpg'))"
   ]
  },
  {
   "cell_type": "code",
   "execution_count": 55,
   "metadata": {
    "papermill": {
     "duration": 4.657357,
     "end_time": "2021-07-18T06:56:34.292266",
     "exception": false,
     "start_time": "2021-07-18T06:56:29.634909",
     "status": "completed"
    },
    "tags": []
   },
   "outputs": [
    {
     "data": {
      "text/plain": [
       "<Figure size 1080x1080 with 0 Axes>"
      ]
     },
     "execution_count": 55,
     "metadata": {},
     "output_type": "execute_result"
    },
    {
     "data": {
      "text/plain": [
       "<Figure size 1080x1080 with 0 Axes>"
      ]
     },
     "metadata": {},
     "output_type": "display_data"
    }
   ],
   "source": [
    "# BATCH 0 - PREDICTED BBOXES\n",
    "\n",
    "plt.figure(figsize = (15, 15))\n",
    "#plt.imshow(plt.imread(f'runs/train/{exp}/test_batch0_pred.jpg'))"
   ]
  },
  {
   "cell_type": "code",
   "execution_count": 56,
   "metadata": {
    "papermill": {
     "duration": 4.052771,
     "end_time": "2021-07-18T06:56:41.741357",
     "exception": false,
     "start_time": "2021-07-18T06:56:37.688586",
     "status": "completed"
    },
    "tags": []
   },
   "outputs": [
    {
     "data": {
      "text/plain": [
       "<Figure size 1080x1080 with 0 Axes>"
      ]
     },
     "execution_count": 56,
     "metadata": {},
     "output_type": "execute_result"
    },
    {
     "data": {
      "text/plain": [
       "<Figure size 1080x1080 with 0 Axes>"
      ]
     },
     "metadata": {},
     "output_type": "display_data"
    }
   ],
   "source": [
    "# BATCH 1 - TRUE BBOXES\n",
    "\n",
    "plt.figure(figsize = (15, 15))\n",
    "#plt.imshow(plt.imread(f'runs/train/{exp}/test_batch1_labels.jpg'))"
   ]
  },
  {
   "cell_type": "code",
   "execution_count": 57,
   "metadata": {
    "papermill": {
     "duration": 4.138354,
     "end_time": "2021-07-18T06:56:49.649222",
     "exception": false,
     "start_time": "2021-07-18T06:56:45.510868",
     "status": "completed"
    },
    "tags": []
   },
   "outputs": [
    {
     "data": {
      "text/plain": [
       "<Figure size 1080x1080 with 0 Axes>"
      ]
     },
     "execution_count": 57,
     "metadata": {},
     "output_type": "execute_result"
    },
    {
     "data": {
      "text/plain": [
       "<Figure size 1080x1080 with 0 Axes>"
      ]
     },
     "metadata": {},
     "output_type": "display_data"
    }
   ],
   "source": [
    "# BATCH 1 - PREDICTED BBOXES\n",
    "\n",
    "plt.figure(figsize = (15, 15))\n",
    "#plt.imshow(plt.imread(f'runs/train/{exp}/test_batch1_pred.jpg'))"
   ]
  },
  {
   "cell_type": "code",
   "execution_count": null,
   "metadata": {
    "papermill": {
     "duration": 3.82951,
     "end_time": "2021-07-18T06:56:56.920429",
     "exception": false,
     "start_time": "2021-07-18T06:56:53.090919",
     "status": "completed"
    },
    "tags": []
   },
   "outputs": [],
   "source": []
  },
  {
   "cell_type": "markdown",
   "metadata": {
    "papermill": {
     "duration": 4.04488,
     "end_time": "2021-07-18T06:57:04.446831",
     "exception": false,
     "start_time": "2021-07-18T06:57:00.401951",
     "status": "completed"
    },
    "tags": []
   },
   "source": [
    "## Make a prediction on the val set"
   ]
  },
  {
   "cell_type": "code",
   "execution_count": 58,
   "metadata": {
    "papermill": {
     "duration": 4.204321,
     "end_time": "2021-07-18T06:57:12.466427",
     "exception": false,
     "start_time": "2021-07-18T06:57:08.262106",
     "status": "completed"
    },
    "tags": []
   },
   "outputs": [
    {
     "name": "stdout",
     "output_type": "stream",
     "text": [
      "/bin/bash: warning: setlocale: LC_ALL: cannot change locale (en_US.UTF-8)\r\n",
      "/root\r\n"
     ]
    }
   ],
   "source": [
    "# change the working directory\n",
    "os.chdir(root)\n",
    "\n",
    "!pwd"
   ]
  },
  {
   "cell_type": "code",
   "execution_count": 59,
   "metadata": {
    "papermill": {
     "duration": 5.227336,
     "end_time": "2021-07-18T06:57:28.383883",
     "exception": false,
     "start_time": "2021-07-18T06:57:23.156547",
     "status": "completed"
    },
    "tags": []
   },
   "outputs": [
    {
     "data": {
      "text/plain": [
       "132"
      ]
     },
     "execution_count": 59,
     "metadata": {},
     "output_type": "execute_result"
    }
   ],
   "source": [
    "# Create a folder to store the extracted files\n",
    "if os.path.isdir('yolo_images_dir') == False:\n",
    "    yolo_images_dir = 'yolo_images_dir'\n",
    "    os.mkdir(yolo_images_dir)\n",
    "    \n",
    "    \n",
    "    \n",
    "val_fname_list = list(df_val['image_id'])\n",
    "\n",
    "for image_id in val_fname_list:\n",
    "    \n",
    "    fname = image_id + '.png'\n",
    "    \n",
    "    # Copy the image to images\n",
    "    # Set the path to the images here.\n",
    "    shutil.copyfile(\n",
    "        f\"{base_path}/{IMAGES_FOLDER}/{IMAGES_FOLDER}/{fname}\",\n",
    "        f\"yolo_images_dir/{fname}\")\n",
    "    \n",
    "    \n",
    "len(os.listdir('yolo_images_dir'))"
   ]
  },
  {
   "cell_type": "code",
   "execution_count": 60,
   "metadata": {
    "papermill": {
     "duration": 4.662857,
     "end_time": "2021-07-18T06:57:36.513146",
     "exception": false,
     "start_time": "2021-07-18T06:57:31.850289",
     "status": "completed"
    },
    "tags": []
   },
   "outputs": [
    {
     "name": "stdout",
     "output_type": "stream",
     "text": [
      "/bin/bash: warning: setlocale: LC_ALL: cannot change locale (en_US.UTF-8)\r\n",
      "VAST_Setup_Notebook_for_Mammo.ipynb   onstart.sh\r\n",
      "best.pt\t\t\t\t      ports.log\r\n",
      "exp49_10f_df_data_w_folds.csv\t      requirements.txt\r\n",
      "exp50-mammo-yolov5-5-0-yolov5l.ipynb  smart-mammo-data\r\n",
      "input\t\t\t\t      yolo_images_dir\r\n",
      "my-yolov5-for-offline-use\t      yolov5\r\n",
      "onstart.log\r\n"
     ]
    }
   ],
   "source": [
    "!ls"
   ]
  },
  {
   "cell_type": "code",
   "execution_count": 61,
   "metadata": {
    "papermill": {
     "duration": 4.277636,
     "end_time": "2021-07-18T06:57:44.58411",
     "exception": false,
     "start_time": "2021-07-18T06:57:40.306474",
     "status": "completed"
    },
    "tags": []
   },
   "outputs": [
    {
     "name": "stdout",
     "output_type": "stream",
     "text": [
      "/bin/bash: warning: setlocale: LC_ALL: cannot change locale (en_US.UTF-8)\r\n",
      "/root/yolov5\r\n"
     ]
    }
   ],
   "source": [
    "# change the working directory\n",
    "os.chdir(f'{root}/yolov5')\n",
    "\n",
    "!pwd"
   ]
  },
  {
   "cell_type": "code",
   "execution_count": 62,
   "metadata": {
    "_kg_hide-output": true,
    "papermill": {
     "duration": 41.782806,
     "end_time": "2021-07-18T06:58:29.775248",
     "exception": false,
     "start_time": "2021-07-18T06:57:47.992442",
     "status": "completed"
    },
    "tags": []
   },
   "outputs": [
    {
     "name": "stdout",
     "output_type": "stream",
     "text": [
      "/bin/bash: warning: setlocale: LC_ALL: cannot change locale (en_US.UTF-8)\n",
      "Namespace(agnostic_nms=False, augment=False, classes=None, conf_thres=0.25, device='', exist_ok=True, img_size=1024, iou_thres=0.45, name='exp', nosave=False, project='runs/detect', save_conf=True, save_txt=True, source='/root/yolo_images_dir', update=False, view_img=False, weights=['/root/best.pt'])\n",
      "YOLOv5 🚀 2022-11-22 torch 1.12.0.dev20220327+cu113 CUDA:0 (NVIDIA RTX A5000, 24256.375MB)\n",
      "                                                   CUDA:1 (NVIDIA RTX A5000, 24256.375MB)\n",
      "\n",
      "Fusing layers... \n",
      "/usr/local/lib/python3.8/dist-packages/torch/functional.py:599: UserWarning: torch.meshgrid: in an upcoming release, it will be required to pass the indexing argument. (Triggered internally at  ../aten/src/ATen/native/TensorShape.cpp:2315.)\n",
      "  return _VF.meshgrid(tensors, **kwargs)  # type: ignore[attr-defined]\n",
      "Model Summary: 392 layers, 46605951 parameters, 0 gradients, 113.9 GFLOPS\n",
      "image 1/132 /root/yolo_images_dir/008c66563c73b2f5b8e42915b2cd6af5.png: 1024x736 1 1, Done. (0.042s)\n",
      "image 2/132 /root/yolo_images_dir/01fb871dc222684a9950609b62b76772.png: 1024x832 Done. (0.041s)\n",
      "image 3/132 /root/yolo_images_dir/031592807c30b54e2fb4bd2400e634e8.png: 1024x832 Done. (0.013s)\n",
      "image 4/132 /root/yolo_images_dir/033e4f9ee05749cd591c958aa873dc8b.png: 1024x832 Done. (0.012s)\n",
      "image 5/132 /root/yolo_images_dir/06073969e7453f71ac8108c6081dc9b8.png: 1024x832 1 1, Done. (0.013s)\n",
      "image 6/132 /root/yolo_images_dir/074775a9e94c93ed3ee32a82d2864c68.png: 1024x832 1 1, Done. (0.014s)\n",
      "image 7/132 /root/yolo_images_dir/07f468d6fff5b3e3b512e4b95cf0cdda.png: 1024x832 Done. (0.012s)\n",
      "image 8/132 /root/yolo_images_dir/0c48ef2d25c7fe685e4a9d20b676c3a7.png: 1024x832 1 1, Done. (0.014s)\n",
      "image 9/132 /root/yolo_images_dir/0d0c76cf04069b224806e8d8d3a9351b.png: 1024x832 1 1, Done. (0.014s)\n",
      "image 10/132 /root/yolo_images_dir/0dc38f7b2936fff46ec10a0beb5aaeb2.png: 1024x832 1 1, Done. (0.013s)\n",
      "image 11/132 /root/yolo_images_dir/0f0009a94c664c2b67ae78fd675f323c.png: 1024x800 Done. (0.041s)\n",
      "image 12/132 /root/yolo_images_dir/100f9f1f5392774416f1a1e66a5a4c71.png: 1024x832 1 1, Done. (0.015s)\n",
      "image 13/132 /root/yolo_images_dir/1176a356c1d5571f4aefeff8fbf5bb4b.png: 1024x832 Done. (0.013s)\n",
      "image 14/132 /root/yolo_images_dir/11b953e33bdaee7933f8d1db574942af.png: 1024x832 1 1, Done. (0.013s)\n",
      "image 15/132 /root/yolo_images_dir/1a726ea772cfde63af2de1d9d1fba472.png: 1024x832 1 1, Done. (0.013s)\n",
      "image 16/132 /root/yolo_images_dir/1bad693bff15cd631e84f1cfc717f3bb.png: 1024x800 Done. (0.012s)\n",
      "image 17/132 /root/yolo_images_dir/1c77399720e266b2124c6151b7bec82b.png: 1024x832 Done. (0.013s)\n",
      "image 18/132 /root/yolo_images_dir/1d136d5f293069a1f77f544cf0f8265b.png: 1024x832 2 1s, Done. (0.013s)\n",
      "image 19/132 /root/yolo_images_dir/20e22b55458ddc1002871f0b10bc0c91.png: 1024x832 1 1, Done. (0.013s)\n",
      "image 20/132 /root/yolo_images_dir/26eff7e7822b45d98c11fc3e51b46277.png: 1024x832 Done. (0.014s)\n",
      "image 21/132 /root/yolo_images_dir/27fdb282ea9e69942db9b9917472932d.png: 1024x832 1 1, Done. (0.015s)\n",
      "image 22/132 /root/yolo_images_dir/2973bcf878fad1e9edade25be62602ce.png: 1024x736 1 1, Done. (0.015s)\n",
      "image 23/132 /root/yolo_images_dir/2b5cec9cad04a6c5eaf1cd2ec2e7a6f2.png: 1024x736 1 1, Done. (0.015s)\n",
      "image 24/132 /root/yolo_images_dir/2cbc958d02aef84dc63e210e2ed810a2.png: 1024x768 Done. (0.043s)\n",
      "image 25/132 /root/yolo_images_dir/2ce389a2252ceb3a87a7be9a14721692.png: 1024x832 1 1, Done. (0.015s)\n",
      "image 26/132 /root/yolo_images_dir/30caea823462601262e5d393e6d0312a.png: 1024x832 1 1, Done. (0.013s)\n",
      "image 27/132 /root/yolo_images_dir/31c3acc9ef4579964abea92c254709a4.png: 1024x832 1 1, Done. (0.013s)\n",
      "image 28/132 /root/yolo_images_dir/32778aee1d68f09b110dcca3ea5a549e.png: 1024x832 Done. (0.014s)\n",
      "image 29/132 /root/yolo_images_dir/338460bf0c6de576629169b75370964b.png: 1024x832 1 1, Done. (0.014s)\n",
      "image 30/132 /root/yolo_images_dir/389c6de05c56e4f55375be89356b31f7.png: 1024x832 Done. (0.013s)\n",
      "image 31/132 /root/yolo_images_dir/395bca158c0fcea6171e410a19a019a8.png: 1024x832 Done. (0.012s)\n",
      "image 32/132 /root/yolo_images_dir/396bea28fd4be11598bc53bf5f2b7460.png: 1024x832 1 1, Done. (0.013s)\n",
      "image 33/132 /root/yolo_images_dir/39f3ef0e8046a9b4e6c81262d634053d.png: 1024x832 1 1, Done. (0.013s)\n",
      "image 34/132 /root/yolo_images_dir/4222799fe0cfa6c38deebb89967baec9.png: 1024x832 2 1s, Done. (0.013s)\n",
      "image 35/132 /root/yolo_images_dir/45a8bc598847fa7a8ccb5f6e77e95ed5.png: 1024x736 1 1, Done. (0.016s)\n",
      "image 36/132 /root/yolo_images_dir/46d9c0dced48fa61647ce80db623491e.png: 1024x832 1 1, Done. (0.014s)\n",
      "image 37/132 /root/yolo_images_dir/493609b26e1341ce737a60b5b930a757.png: 1024x832 1 1, Done. (0.014s)\n",
      "image 38/132 /root/yolo_images_dir/49cf189f3a033a24396459793ad27017.png: 1024x736 Done. (0.015s)\n",
      "image 39/132 /root/yolo_images_dir/49d1e8a82b271d3d589dfad38f72f73d.png: 1024x832 Done. (0.015s)\n",
      "image 40/132 /root/yolo_images_dir/4b1e47252823c8f580ac4b9e6c2429ce.png: 1024x832 1 1, Done. (0.013s)\n",
      "image 41/132 /root/yolo_images_dir/52b403c5c51efa04629aebd1629bd1a5.png: 1024x832 1 1, Done. (0.014s)\n",
      "image 42/132 /root/yolo_images_dir/53c092e62d94e3193734c7bdf81a6b49.png: 1024x832 1 1, Done. (0.015s)\n",
      "image 43/132 /root/yolo_images_dir/54cdbb11f9da7660575eef584b9ce520.png: 1024x832 Done. (0.012s)\n",
      "image 44/132 /root/yolo_images_dir/592fc7ae253f7e6d8f070f06c5d3bed0.png: 1024x832 Done. (0.013s)\n",
      "image 45/132 /root/yolo_images_dir/59cdcc53f76f8c12741f7770d8fb372d.png: 1024x736 1 1, Done. (0.016s)\n",
      "image 46/132 /root/yolo_images_dir/59efa30f975f06c7d17042c190fd7c42.png: 1024x832 Done. (0.013s)\n",
      "image 47/132 /root/yolo_images_dir/5d9efa5b29d0b6ac316a010f3f77acf6.png: 1024x832 1 1, Done. (0.013s)\n",
      "image 48/132 /root/yolo_images_dir/60fafaf810c5967c7f3bc03ebca7591d.png: 1024x832 1 1, Done. (0.014s)\n",
      "image 49/132 /root/yolo_images_dir/6266ffa44d75d2edc9d3c725b20b6d49.png: 1024x736 1 1, Done. (0.015s)\n",
      "image 50/132 /root/yolo_images_dir/638d80ea028aed5905c4a2acb4cfbb0f.png: 1024x832 Done. (0.013s)\n",
      "image 51/132 /root/yolo_images_dir/6392630b844031e3aa5ce15acd2852af.png: 1024x832 Done. (0.014s)\n",
      "image 52/132 /root/yolo_images_dir/66d392ec44df82ac333d01411a01679d.png: 1024x832 Done. (0.012s)\n",
      "image 53/132 /root/yolo_images_dir/6c571a3fb5a3abe21141333f65b5bf09.png: 1024x832 1 1, Done. (0.013s)\n",
      "image 54/132 /root/yolo_images_dir/6e4448eaeab5fd0eb114a59553faae7c.png: 1024x832 1 1, Done. (0.013s)\n",
      "image 55/132 /root/yolo_images_dir/6ec73d7e74c73265c4f9ed781ccecd71.png: 1024x736 Done. (0.014s)\n",
      "image 56/132 /root/yolo_images_dir/700d65782e684be66b823b388366620e.png: 1024x832 Done. (0.012s)\n",
      "image 57/132 /root/yolo_images_dir/7147d78a9fef08b6eba38c0cae4d822f.png: 1024x832 Done. (0.014s)\n",
      "image 58/132 /root/yolo_images_dir/726e579eb8982c5fb3c120039a64fe01.png: 1024x832 1 1, Done. (0.013s)\n",
      "image 59/132 /root/yolo_images_dir/7323314998471cde47c6fba70ae6d32c.png: 1024x736 1 1, Done. (0.016s)\n",
      "image 60/132 /root/yolo_images_dir/7518414a42a0f0e517b57067066f6dd7.png: 1024x832 Done. (0.016s)\n",
      "image 61/132 /root/yolo_images_dir/7a53b6689ed19c4006227e46b158906f.png: 1024x832 1 1, Done. (0.016s)\n",
      "image 62/132 /root/yolo_images_dir/7be2e5f9ade68ae2bfe4e5edb4968654.png: 1024x736 2 1s, Done. (0.014s)\n",
      "image 63/132 /root/yolo_images_dir/7d0b427e2b5e194df200885b9008a9fb.png: 1024x832 1 1, Done. (0.013s)\n",
      "image 64/132 /root/yolo_images_dir/7fd757ca1303a6a62f157b83f1f0c929.png: 1024x832 Done. (0.013s)\n",
      "image 65/132 /root/yolo_images_dir/80440acf117f4cecd3ac74097adc8101.png: 1024x832 1 1, Done. (0.013s)\n",
      "image 66/132 /root/yolo_images_dir/80ae11a78bfd7c9598138c82cd756ad3.png: 1024x832 1 1, Done. (0.013s)\n",
      "image 67/132 /root/yolo_images_dir/8294fb1bf4db22fa923e36f8b12997dd.png: 1024x832 1 1, Done. (0.013s)\n",
      "image 68/132 /root/yolo_images_dir/82ce050e4866fc273dd87e0a7498c0da.png: 1024x832 1 1, Done. (0.013s)\n",
      "image 69/132 /root/yolo_images_dir/8470557fec9bd5f0f1b30ec48b1d8654.png: 1024x736 1 1, Done. (0.014s)\n",
      "image 70/132 /root/yolo_images_dir/85939e3cfdb707f342917c1f56a56306.png: 1024x832 Done. (0.013s)\n",
      "image 71/132 /root/yolo_images_dir/86ab85b00f60d2d8e238594886880438.png: 1024x832 1 1, Done. (0.013s)\n",
      "image 72/132 /root/yolo_images_dir/899a09abd9ab542682b3a41724bcccdc.png: 1024x736 Done. (0.014s)\n",
      "image 73/132 /root/yolo_images_dir/8ed0618edab59a40763a118c052a52ba.png: 1024x832 Done. (0.013s)\n",
      "image 74/132 /root/yolo_images_dir/93960b56ba5808e9047aff73cf9b0762.png: 1024x832 Done. (0.013s)\n",
      "image 75/132 /root/yolo_images_dir/944ae44a56fe698b87f5b435c32b3769.png: 1024x832 1 1, Done. (0.013s)\n",
      "image 76/132 /root/yolo_images_dir/96eb9c4bdf059f2f8da825bfc0a3ba69.png: 1024x832 1 1, Done. (0.014s)\n",
      "image 77/132 /root/yolo_images_dir/98325e2b9e96c4423e9818411a7a862f.png: 1024x832 1 1, Done. (0.015s)\n",
      "image 78/132 /root/yolo_images_dir/98d9121596f36834a1de8441d0aab483.png: 1024x832 Done. (0.012s)\n",
      "image 79/132 /root/yolo_images_dir/9a728250069ba3419ccc1f35b94bd252.png: 1024x832 Done. (0.013s)\n",
      "image 80/132 /root/yolo_images_dir/9dc911bbf82a852387976bad85e7a142.png: 1024x832 1 1, Done. (0.014s)\n",
      "image 81/132 /root/yolo_images_dir/a3214c506a005b639b4d720de9cea847.png: 1024x832 Done. (0.013s)\n",
      "image 82/132 /root/yolo_images_dir/a4940f4a5e68cc3f959039fc7a7101fa.png: 1024x832 1 1, Done. (0.013s)\n",
      "image 83/132 /root/yolo_images_dir/a4d498287af7763bac9ccb7b596d4939.png: 1024x832 1 1, Done. (0.013s)\n",
      "image 84/132 /root/yolo_images_dir/a7215359f4ab5efc6d81f57543d0a8bd.png: 1024x736 Done. (0.015s)\n",
      "image 85/132 /root/yolo_images_dir/a726e03b371093bf18cf884c39dad799.png: 1024x736 1 1, Done. (0.014s)\n",
      "image 86/132 /root/yolo_images_dir/aa02e8c5422114d20da11c573d0ee8ee.png: 1024x832 Done. (0.013s)\n",
      "image 87/132 /root/yolo_images_dir/ad1006a223318d07bbc3e58443a621a0.png: 1024x832 1 1, Done. (0.013s)\n",
      "image 88/132 /root/yolo_images_dir/ae672f355541acfae894998dea1ec998.png: 1024x832 1 1, Done. (0.013s)\n",
      "image 89/132 /root/yolo_images_dir/af34fd8e49975ab42bd8343e4f5eb821.png: 1024x736 1 1, Done. (0.015s)\n",
      "image 90/132 /root/yolo_images_dir/b245b5394e517f3950c4268471e92d20.png: 1024x832 Done. (0.013s)\n",
      "image 91/132 /root/yolo_images_dir/b68bf8e5a0640f159ad977f0e64aac69.png: 1024x832 1 1, Done. (0.015s)\n",
      "image 92/132 /root/yolo_images_dir/b6db414be07dc1fb3cbf82a9e3a4966a.png: 1024x832 Done. (0.012s)\n",
      "image 93/132 /root/yolo_images_dir/b74f95f32636aff0b94540891c6b1f14.png: 1024x832 Done. (0.012s)\n",
      "image 94/132 /root/yolo_images_dir/b7d9bfff242190b8793b2a412ae1d68e.png: 1024x832 Done. (0.013s)\n",
      "image 95/132 /root/yolo_images_dir/bb8713e5123f6c09c16aca25c51845b5.png: 1024x832 1 1, Done. (0.013s)\n",
      "image 96/132 /root/yolo_images_dir/bc44e100d187ad2eecc32236ec7c2b11.png: 1024x832 Done. (0.012s)\n",
      "image 97/132 /root/yolo_images_dir/c09132c25d096cb951dd2d99f29c8230.png: 1024x832 Done. (0.013s)\n",
      "image 98/132 /root/yolo_images_dir/c171fed7a869e9cb41c9a10e7ee6f4f9.png: 1024x832 Done. (0.012s)\n",
      "image 99/132 /root/yolo_images_dir/c58233033d21865c0c1e8f9b353d60ba.png: 1024x832 Done. (0.012s)\n",
      "image 100/132 /root/yolo_images_dir/c8fc55b240f0f3dd7c075b367160f289.png: 1024x832 1 1, Done. (0.013s)\n",
      "image 101/132 /root/yolo_images_dir/c99fc0b9b7bc0618d0b156db5d1905d8.png: 1024x832 Done. (0.012s)\n",
      "image 102/132 /root/yolo_images_dir/cac15b7c21ed74ac4f86a1adc37cd40e.png: 1024x832 Done. (0.015s)\n",
      "image 103/132 /root/yolo_images_dir/cb02caed6492a9619e93a3bd265a9c7f.png: 1024x832 Done. (0.012s)\n",
      "image 104/132 /root/yolo_images_dir/d55fe35cb1cac106c8b5f05967642991.png: 1024x832 1 1, Done. (0.013s)\n",
      "image 105/132 /root/yolo_images_dir/da4b052520acb60e2711a091f8f0bba3.png: 1024x832 Done. (0.012s)\n",
      "image 106/132 /root/yolo_images_dir/db3d24caffbb3814596361025e73aca3.png: 1024x736 1 1, Done. (0.014s)\n",
      "image 107/132 /root/yolo_images_dir/db70c6572ab2f8633feb484aa6d7d38d.png: 1024x736 1 1, Done. (0.014s)\n",
      "image 108/132 /root/yolo_images_dir/dba34fe8cb1a32449568d8da90f786cb.png: 1024x832 Done. (0.013s)\n",
      "image 109/132 /root/yolo_images_dir/dbfffde4219dfb6aab1a5fe2d21a99d0.png: 1024x832 1 1, Done. (0.013s)\n",
      "image 110/132 /root/yolo_images_dir/dce7898554efd8b922dd5425d828db8d.png: 1024x832 Done. (0.013s)\n",
      "image 111/132 /root/yolo_images_dir/dee30355cc67413cbe4c12770a0d088f.png: 1024x832 1 1, Done. (0.013s)\n",
      "image 112/132 /root/yolo_images_dir/df17a9f399b214cb863d754e376f8673.png: 1024x832 1 1, Done. (0.013s)\n",
      "image 113/132 /root/yolo_images_dir/df4b1cfb384dab76abc34cc4db0f5b30.png: 1024x832 1 1, Done. (0.014s)\n",
      "image 114/132 /root/yolo_images_dir/e13c80239d7714e3d964b5f3e37bcff6.png: 1024x832 Done. (0.013s)\n",
      "image 115/132 /root/yolo_images_dir/e22e24c243bde531bd5ed18e90702768.png: 1024x832 Done. (0.013s)\n",
      "image 116/132 /root/yolo_images_dir/e358f2f0c30528fdb453c51e21f9e3f1.png: 1024x832 1 1, Done. (0.013s)\n",
      "image 117/132 /root/yolo_images_dir/e584baaff798425b74b2f255c6eaf02e.png: 1024x768 Done. (0.013s)\n",
      "image 118/132 /root/yolo_images_dir/e61d36901ebb6b37ac41f6ca84e5c81b.png: 1024x832 Done. (0.016s)\n",
      "image 119/132 /root/yolo_images_dir/e6a5252283c2aea95e089c564ca6260f.png: 1024x832 1 1, Done. (0.013s)\n",
      "image 120/132 /root/yolo_images_dir/e788be650ac8e1f81beda55451f217e3.png: 1024x832 1 1, Done. (0.014s)\n",
      "image 121/132 /root/yolo_images_dir/e793562ebc24362abe53753378f9cf28.png: 1024x768 1 1, Done. (0.014s)\n",
      "image 122/132 /root/yolo_images_dir/e79f419d756e9902fc6ff80ca0d7f7a3.png: 1024x832 1 1, Done. (0.014s)\n",
      "image 123/132 /root/yolo_images_dir/e9c639f5926584509413a6d71f7be603.png: 1024x832 1 1, Done. (0.013s)\n",
      "image 124/132 /root/yolo_images_dir/eceb26b4e6e65380b4e320233a755cfc.png: 1024x832 1 1, Done. (0.015s)\n",
      "image 125/132 /root/yolo_images_dir/f1f79501410a98782c0a03b48e66df83.png: 1024x832 Done. (0.012s)\n",
      "image 126/132 /root/yolo_images_dir/f5b9c502a087f77d0606b0291a2e0606.png: 1024x832 1 1, Done. (0.013s)\n",
      "image 127/132 /root/yolo_images_dir/f75e7aff7268ba2e462c284e30cfc5b5.png: 1024x832 1 1, Done. (0.013s)\n",
      "image 128/132 /root/yolo_images_dir/f78853b3aa2445fb60d677f6f5d82ca7.png: 1024x736 Done. (0.015s)\n",
      "image 129/132 /root/yolo_images_dir/f978cb9d32a74171873fb280779aa37f.png: 1024x736 1 1, Done. (0.015s)\n",
      "image 130/132 /root/yolo_images_dir/f9a54449757586583a8f36ccc821f7ac.png: 1024x832 1 1, Done. (0.014s)\n",
      "image 131/132 /root/yolo_images_dir/fa2f7816bf1b07f2104aa4edeff9b107.png: 1024x832 1 1, Done. (0.013s)\n",
      "image 132/132 /root/yolo_images_dir/fc6a348a61d4282a66ac2dc6dbec5981.png: 1024x832 Done. (0.012s)\n",
      "Results saved to runs/detect/exp\n",
      "76 labels saved to runs/detect/exp/labels\n",
      "Done. (30.541s)\n"
     ]
    }
   ],
   "source": [
    "# Make a prediction on all images in images_dir\n",
    "\n",
    "# The model only creates a txt file if it finds objects on an image.\n",
    "\n",
    "test_images_path = f'{root}/yolo_images_dir'\n",
    "yolo_model_path = f'{root}/best.pt'\n",
    "\n",
    "# Ensembling two Yolo models\n",
    "# How to ensemble Yolov5 models:\n",
    "# Ref: https://github.com/ultralytics/yolov5/issues/318\n",
    "\n",
    "!python detect.py --source $test_images_path --weights $yolo_model_path --img $IMAGE_SIZE --save-txt --save-conf --exist-ok"
   ]
  },
  {
   "cell_type": "markdown",
   "metadata": {
    "papermill": {
     "duration": 3.642808,
     "end_time": "2021-07-18T06:58:37.370203",
     "exception": false,
     "start_time": "2021-07-18T06:58:33.727395",
     "status": "completed"
    },
    "tags": []
   },
   "source": [
    "## Process the predictions"
   ]
  },
  {
   "cell_type": "code",
   "execution_count": 63,
   "metadata": {
    "papermill": {
     "duration": 4.536142,
     "end_time": "2021-07-18T06:58:45.507384",
     "exception": false,
     "start_time": "2021-07-18T06:58:40.971242",
     "status": "completed"
    },
    "tags": []
   },
   "outputs": [
    {
     "name": "stdout",
     "output_type": "stream",
     "text": [
      "76\n",
      "008c66563c73b2f5b8e42915b2cd6af5.txt\n"
     ]
    }
   ],
   "source": [
    "txt_files_list = os.listdir('runs/detect/exp/labels')\n",
    "\n",
    "print(len(txt_files_list))\n",
    "print(txt_files_list[0])"
   ]
  },
  {
   "cell_type": "code",
   "execution_count": 64,
   "metadata": {
    "papermill": {
     "duration": 5.758562,
     "end_time": "2021-07-18T06:58:54.922543",
     "exception": false,
     "start_time": "2021-07-18T06:58:49.163981",
     "status": "completed"
    },
    "tags": []
   },
   "outputs": [
    {
     "name": "stdout",
     "output_type": "stream",
     "text": [
      "76\n",
      "76\n",
      "(79, 7)\n"
     ]
    },
    {
     "data": {
      "text/html": [
       "<div>\n",
       "<style scoped>\n",
       "    .dataframe tbody tr th:only-of-type {\n",
       "        vertical-align: middle;\n",
       "    }\n",
       "\n",
       "    .dataframe tbody tr th {\n",
       "        vertical-align: top;\n",
       "    }\n",
       "\n",
       "    .dataframe thead th {\n",
       "        text-align: right;\n",
       "    }\n",
       "</style>\n",
       "<table border=\"1\" class=\"dataframe\">\n",
       "  <thead>\n",
       "    <tr style=\"text-align: right;\">\n",
       "      <th></th>\n",
       "      <th>class</th>\n",
       "      <th>x-center</th>\n",
       "      <th>y-center</th>\n",
       "      <th>bbox_width</th>\n",
       "      <th>bbox_height</th>\n",
       "      <th>conf-score</th>\n",
       "      <th>id</th>\n",
       "    </tr>\n",
       "  </thead>\n",
       "  <tbody>\n",
       "    <tr>\n",
       "      <th>0</th>\n",
       "      <td>1</td>\n",
       "      <td>0.043241</td>\n",
       "      <td>0.594239</td>\n",
       "      <td>0.057654</td>\n",
       "      <td>0.039829</td>\n",
       "      <td>0.425781</td>\n",
       "      <td>008c66563c73b2f5b8e42915b2cd6af5.png</td>\n",
       "    </tr>\n",
       "    <tr>\n",
       "      <th>0</th>\n",
       "      <td>1</td>\n",
       "      <td>0.066964</td>\n",
       "      <td>0.534252</td>\n",
       "      <td>0.072500</td>\n",
       "      <td>0.057703</td>\n",
       "      <td>0.643555</td>\n",
       "      <td>06073969e7453f71ac8108c6081dc9b8.png</td>\n",
       "    </tr>\n",
       "    <tr>\n",
       "      <th>0</th>\n",
       "      <td>1</td>\n",
       "      <td>0.730000</td>\n",
       "      <td>0.566373</td>\n",
       "      <td>0.065000</td>\n",
       "      <td>0.052587</td>\n",
       "      <td>0.538574</td>\n",
       "      <td>074775a9e94c93ed3ee32a82d2864c68.png</td>\n",
       "    </tr>\n",
       "    <tr>\n",
       "      <th>0</th>\n",
       "      <td>1</td>\n",
       "      <td>0.104286</td>\n",
       "      <td>0.451109</td>\n",
       "      <td>0.125000</td>\n",
       "      <td>0.099488</td>\n",
       "      <td>0.610840</td>\n",
       "      <td>0c48ef2d25c7fe685e4a9d20b676c3a7.png</td>\n",
       "    </tr>\n",
       "    <tr>\n",
       "      <th>0</th>\n",
       "      <td>1</td>\n",
       "      <td>0.033962</td>\n",
       "      <td>0.653771</td>\n",
       "      <td>0.067923</td>\n",
       "      <td>0.082961</td>\n",
       "      <td>0.313965</td>\n",
       "      <td>0d0c76cf04069b224806e8d8d3a9351b.png</td>\n",
       "    </tr>\n",
       "  </tbody>\n",
       "</table>\n",
       "</div>"
      ],
      "text/plain": [
       "   class  x-center  y-center  bbox_width  bbox_height  conf-score  \\\n",
       "0      1  0.043241  0.594239    0.057654     0.039829    0.425781   \n",
       "0      1  0.066964  0.534252    0.072500     0.057703    0.643555   \n",
       "0      1  0.730000  0.566373    0.065000     0.052587    0.538574   \n",
       "0      1  0.104286  0.451109    0.125000     0.099488    0.610840   \n",
       "0      1  0.033962  0.653771    0.067923     0.082961    0.313965   \n",
       "\n",
       "                                     id  \n",
       "0  008c66563c73b2f5b8e42915b2cd6af5.png  \n",
       "0  06073969e7453f71ac8108c6081dc9b8.png  \n",
       "0  074775a9e94c93ed3ee32a82d2864c68.png  \n",
       "0  0c48ef2d25c7fe685e4a9d20b676c3a7.png  \n",
       "0  0d0c76cf04069b224806e8d8d3a9351b.png  "
      ]
     },
     "execution_count": 64,
     "metadata": {},
     "output_type": "execute_result"
    }
   ],
   "source": [
    "# Put the info inside all the txt files into one dataframe.\n",
    "# Remember that if the image does not have any bounding boxes\n",
    "# then Yolo does not create a txt file for it.\n",
    "\n",
    "txt_files_list = os.listdir('runs/detect/exp/labels')\n",
    "\n",
    "for i, txt_file in enumerate(txt_files_list):\n",
    "    \n",
    "    # set the path\n",
    "    path = f'runs/detect/exp/labels/{txt_file}'\n",
    "    \n",
    "    # create a list of column names\n",
    "    cols = ['class', 'x-center', 'y-center', 'bbox_width', 'bbox_height', 'conf-score']\n",
    "\n",
    "    # put the file contents into a dataframe\n",
    "    df = pd.read_csv(path, sep=\" \", header=None)\n",
    "    \n",
    "    # add the column names to the datafrae\n",
    "    df.columns = cols\n",
    "    \n",
    "    # Split the txt fname on the full stop and choose the first item \n",
    "    # in the list. The add the .jpg extension.\n",
    "    # 87a0829f53c1.txt becomes 87a0829f53c1_image\n",
    "    #fname = txt_file.split('.')[0] + '.png'\n",
    "    fname = txt_file.replace(\"txt\", \"png\")\n",
    "    \n",
    "    # add a new column with the fname\n",
    "    df['id'] = fname\n",
    " \n",
    "    # stack the dataframes for each txt file\n",
    "    if i == 0:\n",
    "        \n",
    "        df_test_preds = df\n",
    "    else:\n",
    "        \n",
    "        df_test_preds = pd.concat([df_test_preds, df], axis=0)\n",
    "       \n",
    "    \n",
    "    \n",
    "print(len(txt_files_list))\n",
    "print(df_test_preds['id'].nunique())\n",
    "print(df_test_preds.shape)\n",
    "\n",
    "df_test_preds.head()"
   ]
  },
  {
   "cell_type": "code",
   "execution_count": 65,
   "metadata": {
    "papermill": {
     "duration": 3.732707,
     "end_time": "2021-07-18T06:59:02.462832",
     "exception": false,
     "start_time": "2021-07-18T06:58:58.730125",
     "status": "completed"
    },
    "tags": []
   },
   "outputs": [
    {
     "data": {
      "text/plain": [
       "1    89\n",
       "0    57\n",
       "Name: preds, dtype: int64"
      ]
     },
     "execution_count": 65,
     "metadata": {},
     "output_type": "execute_result"
    }
   ],
   "source": [
    "# Add the predictions to df_val\n",
    "\n",
    "# reset the index\n",
    "df_val = df_val.reset_index(drop=True)\n",
    "\n",
    "# create a new column called 'id'\n",
    "df_val['id'] =  df_val['image_id'] + '.png'\n",
    "\n",
    "val_pred_list = []\n",
    "\n",
    "pred_list = list(df_test_preds['id'])\n",
    "\n",
    "for i in range(0, len(df_val)):\n",
    "    \n",
    "    #fname = df_val.loc[i, 'study_slice']\n",
    "    #fname = study_slice + '.png'\n",
    "    \n",
    "    # get the fname\n",
    "    fname = df_val.loc[i, 'id']\n",
    "    \n",
    "    # The fname will only be in the pred list if Yolo created a txt file for the val image.\n",
    "    # Yolo will only create a txt file if a fracture was detected on the image.\n",
    "    if fname in pred_list:\n",
    "        \n",
    "        val_pred_list.append(1)\n",
    "    else:\n",
    "        val_pred_list.append(0)\n",
    "    \n",
    "    \n",
    "df_val['preds'] = val_pred_list\n",
    "\n",
    "# Check the distribution of the predicted classes\n",
    "df_val['preds'].value_counts()"
   ]
  },
  {
   "cell_type": "markdown",
   "metadata": {},
   "source": [
    "## Convert the true bboxes into masks"
   ]
  },
  {
   "cell_type": "code",
   "execution_count": 66,
   "metadata": {},
   "outputs": [
    {
     "name": "stdout",
     "output_type": "stream",
     "text": [
      "/bin/bash: warning: setlocale: LC_ALL: cannot change locale (en_US.UTF-8)\r\n",
      "/root\r\n"
     ]
    }
   ],
   "source": [
    "# change the working directory\n",
    "os.chdir(root)\n",
    "\n",
    "!pwd"
   ]
  },
  {
   "cell_type": "code",
   "execution_count": 67,
   "metadata": {},
   "outputs": [
    {
     "name": "stdout",
     "output_type": "stream",
     "text": [
      "/bin/bash: warning: setlocale: LC_ALL: cannot change locale (en_US.UTF-8)\r\n",
      "VAST_Setup_Notebook_for_Mammo.ipynb   onstart.sh\r\n",
      "best.pt\t\t\t\t      ports.log\r\n",
      "exp49_10f_df_data_w_folds.csv\t      requirements.txt\r\n",
      "exp50-mammo-yolov5-5-0-yolov5l.ipynb  smart-mammo-data\r\n",
      "input\t\t\t\t      true_masks_dir\r\n",
      "my-yolov5-for-offline-use\t      yolo_images_dir\r\n",
      "onstart.log\t\t\t      yolov5\r\n"
     ]
    }
   ],
   "source": [
    "# Create a folder to store the true val masks\n",
    "\n",
    "if os.path.isdir('true_masks_dir') != True:\n",
    "    \n",
    "    true_masks_dir = 'true_masks_dir'\n",
    "    os.mkdir(true_masks_dir)\n",
    "    \n",
    "!ls"
   ]
  },
  {
   "cell_type": "code",
   "execution_count": 68,
   "metadata": {},
   "outputs": [
    {
     "data": {
      "application/vnd.jupyter.widget-view+json": {
       "model_id": "c3c05dca92bc4d6895d748cf9aaf8765",
       "version_major": 2,
       "version_minor": 0
      },
      "text/plain": [
       "  0%|          | 0/146 [00:00<?, ?it/s]"
      ]
     },
     "metadata": {},
     "output_type": "display_data"
    },
    {
     "data": {
      "text/plain": [
       "132"
      ]
     },
     "execution_count": 68,
     "metadata": {},
     "output_type": "execute_result"
    }
   ],
   "source": [
    "# Create true val masks\n",
    "\n",
    "df = df_val.reset_index(drop=True)\n",
    "\n",
    "saved_list = []\n",
    "\n",
    "for index in tqdm(range(0, len(df)), total=len(df)):\n",
    "    \n",
    "    target = df.loc[index, 'target']\n",
    "    \n",
    "    image_id = df.loc[index, 'image_id']\n",
    "    \n",
    "    fname = image_id + '.png'\n",
    "    \n",
    "    # Read the image using cv2.\n",
    "    # We use cv2 because it's the fastest by far.\n",
    "    # But be careful. Keep in mind that cv2 uses a (width, height) input format\n",
    "    # instead of the (height, width) format used by matplotlib.\n",
    "    # Also, cv2 reads images in BGR format by default instead of RGB.\n",
    "    # If your images look blue then they have been read in BGR format.\n",
    "    path = base_path + 'images_dir/images_dir/' + image_id + '.png'\n",
    "    image = cv2.imread(path)\n",
    "    \n",
    "    # cv2 reads in BGR format therefore convert from BGR to RGB.\n",
    "    image = cv2.cvtColor(image, cv2.COLOR_BGR2RGB)\n",
    "\n",
    "    # create a blank mask\n",
    "    mask = np.zeros((image.shape[0], image.shape[1]))\n",
    "    \n",
    "    # Only create a mask if the target is 1 else the\n",
    "    # blank mask will be saved.\n",
    "    if target == 1:\n",
    "        \n",
    "        if fname not in saved_list:\n",
    "\n",
    "            x = round(df.loc[index, 'xmin'])\n",
    "            y = round(df.loc[index, 'ymin'])\n",
    "            xmax = round(df.loc[index, 'xmax'])\n",
    "            ymax = round(df.loc[index, 'ymax'])\n",
    "\n",
    "            w = xmax - x\n",
    "            h = ymax - y\n",
    "\n",
    "            # Add the bbox mask to the blank mask created above.\n",
    "            # Remember that in images the origin coord (0,0) is\n",
    "            # in the top left corner and not in the botton left corner\n",
    "            # like on a graph.\n",
    "            mask[y:y+h, x:x+w] = 1\n",
    "            \n",
    "        else: # Some images have more than on bbox\n",
    "            \n",
    "            # Load the previously saved mask\n",
    "            path = 'true_masks_dir/' + fname\n",
    "            mask = plt.imread(path)\n",
    "            \n",
    "            x = round(df.loc[index, 'xmin'])\n",
    "            y = round(df.loc[index, 'ymin'])\n",
    "            xmax = round(df.loc[index, 'xmax'])\n",
    "            ymax = round(df.loc[index, 'ymax'])\n",
    "\n",
    "            w = xmax - x\n",
    "            h = ymax - y\n",
    "\n",
    "            # Add the bbox mask to the blank mask created above.\n",
    "            # Remember that in images the origin coord (0,0) is\n",
    "            # in the top left corner and not in the botton left corner\n",
    "            # like on a graph.\n",
    "            mask[y:y+h, x:x+w] = 1\n",
    "            \n",
    "    \n",
    "    # Save the mask as an image in the folder\n",
    "    # that we created.\n",
    "    #fname = image_id + '.png'\n",
    "    dst = os.path.join(true_masks_dir, fname)\n",
    "    \n",
    "    cv2.imwrite(dst, mask)\n",
    "    \n",
    "    saved_list.append(fname)\n",
    "    \n",
    "    \n",
    "\n",
    "# Check how mane files are in the new directory\n",
    "\n",
    "file_list = os.listdir('true_masks_dir')\n",
    "\n",
    "len(file_list)"
   ]
  },
  {
   "cell_type": "code",
   "execution_count": 69,
   "metadata": {},
   "outputs": [
    {
     "name": "stdout",
     "output_type": "stream",
     "text": [
      "(3518, 2800)\n"
     ]
    },
    {
     "data": {
      "text/plain": [
       "<matplotlib.image.AxesImage at 0x7ff939f8eac0>"
      ]
     },
     "execution_count": 69,
     "metadata": {},
     "output_type": "execute_result"
    },
    {
     "data": {
      "image/png": "[encoded data removed]",
      "text/plain": [
       "<Figure size 432x288 with 1 Axes>"
      ]
     },
     "metadata": {
      "needs_background": "light"
     },
     "output_type": "display_data"
    }
   ],
   "source": [
    "true_mask_list = os.listdir('true_masks_dir')\n",
    "\n",
    "i = 0\n",
    "\n",
    "path = 'true_masks_dir/' + true_mask_list[i]\n",
    "\n",
    "image = plt.imread(path)\n",
    "\n",
    "print(image.shape)\n",
    "\n",
    "plt.imshow(image)"
   ]
  },
  {
   "cell_type": "markdown",
   "metadata": {},
   "source": [
    "## Convert the pred bboxes into masks"
   ]
  },
  {
   "cell_type": "code",
   "execution_count": 70,
   "metadata": {},
   "outputs": [
    {
     "name": "stdout",
     "output_type": "stream",
     "text": [
      "/bin/bash: warning: setlocale: LC_ALL: cannot change locale (en_US.UTF-8)\r\n",
      "VAST_Setup_Notebook_for_Mammo.ipynb   ports.log\r\n",
      "best.pt\t\t\t\t      pred_masks_dir\r\n",
      "exp49_10f_df_data_w_folds.csv\t      requirements.txt\r\n",
      "exp50-mammo-yolov5-5-0-yolov5l.ipynb  smart-mammo-data\r\n",
      "input\t\t\t\t      true_masks_dir\r\n",
      "my-yolov5-for-offline-use\t      yolo_images_dir\r\n",
      "onstart.log\t\t\t      yolov5\r\n",
      "onstart.sh\r\n"
     ]
    }
   ],
   "source": [
    "# Create a folder to store the true val masks\n",
    "\n",
    "if os.path.isdir('pred_masks_dir') != True:\n",
    "    \n",
    "    pred_masks_dir = 'pred_masks_dir'\n",
    "    os.mkdir(pred_masks_dir)\n",
    "    \n",
    "!ls"
   ]
  },
  {
   "cell_type": "code",
   "execution_count": 71,
   "metadata": {},
   "outputs": [
    {
     "data": {
      "application/vnd.jupyter.widget-view+json": {
       "model_id": "8ec586e0b3ae48409fdde802260cb8a9",
       "version_major": 2,
       "version_minor": 0
      },
      "text/plain": [
       "  0%|          | 0/79 [00:00<?, ?it/s]"
      ]
     },
     "metadata": {},
     "output_type": "display_data"
    },
    {
     "data": {
      "text/plain": [
       "76"
      ]
     },
     "execution_count": 71,
     "metadata": {},
     "output_type": "execute_result"
    }
   ],
   "source": [
    "saved_list = []\n",
    "\n",
    "df_test_preds = df_test_preds.reset_index(drop=True)\n",
    "\n",
    "for i in tqdm(range(0, len(df_test_preds)), total=len(df_test_preds)):\n",
    "    \n",
    "    fname = df_test_preds.loc[i, 'id']\n",
    "    \n",
    "    # Read the image\n",
    "    path = base_path + 'images_dir/images_dir/' + fname\n",
    "    \n",
    "    image = cv2.imread(path)\n",
    "    \n",
    "    # cv2 reads in BGR format therefore convert from BGR to RGB.\n",
    "    image = cv2.cvtColor(image, cv2.COLOR_BGR2RGB)\n",
    "\n",
    "    # create a blank mask\n",
    "    mask = np.zeros((image.shape[0], image.shape[1])).astype(np.uint8)\n",
    "    \n",
    "\n",
    "        \n",
    "    if fname not in saved_list:\n",
    "\n",
    "        # image_png_size_list: [(h,w), ...]\n",
    "        orig_image_h = image.shape[0]\n",
    "        orig_image_w = image.shape[1]\n",
    "\n",
    "\n",
    "        w = int(df_test_preds.loc[i,'bbox_width'] * orig_image_w)\n",
    "        h = int(df_test_preds.loc[i,'bbox_height'] * orig_image_h)\n",
    "\n",
    "        x_cent = orig_image_w * df_test_preds.loc[i,'x-center']\n",
    "        y_cent = orig_image_h * df_test_preds.loc[i,'y-center']\n",
    "\n",
    "        x = int(x_cent - (w / 2))\n",
    "        y = int(y_cent - (h / 2))\n",
    "\n",
    "        xmax = xmin + w\n",
    "        ymax = ymin + h\n",
    "\n",
    "        # Add the bbox mask to the blank mask created above.\n",
    "        # Remember that in images the origin coord (0,0) is\n",
    "        # in the top left corner and not in the botton left corner\n",
    "        # like on a graph.\n",
    "        mask[y:y+h, x:x+w] = 1\n",
    "\n",
    "    else: # some pred images have more than one mask\n",
    "\n",
    "        # Load the previous mask\n",
    "        # Read the image\n",
    "        path = 'pred_masks_dir/' + fname\n",
    "        mask = plt.imread(path)\n",
    "\n",
    "        # image_png_size_list: [(h,w), ...]\n",
    "        orig_image_h = image.shape[0]\n",
    "        orig_image_w = image.shape[1]\n",
    "\n",
    "\n",
    "        w = int(df_test_preds.loc[i,'bbox_width'] * orig_image_w)\n",
    "        h = int(df_test_preds.loc[i,'bbox_height'] * orig_image_h)\n",
    "\n",
    "        x_cent = orig_image_w * df_test_preds.loc[i,'x-center']\n",
    "        y_cent = orig_image_h * df_test_preds.loc[i,'y-center']\n",
    "\n",
    "        x = int(x_cent - (w / 2))\n",
    "        y = int(y_cent - (h / 2))\n",
    "\n",
    "        xmax = xmin + w\n",
    "        ymax = ymin + h\n",
    "\n",
    "        # Add the bbox mask to the blank mask created above.\n",
    "        # Remember that in images the origin coord (0,0) is\n",
    "        # in the top left corner and not in the botton left corner\n",
    "        # like on a graph.\n",
    "        mask[y:y+h, x:x+w] = 1\n",
    "        \n",
    "    \n",
    "    # Save the mask as an image in the folder\n",
    "    # that we created.\n",
    "    dst = os.path.join(pred_masks_dir, fname)\n",
    "    \n",
    "    cv2.imwrite(dst, mask)\n",
    "    \n",
    "    saved_list.append(fname)\n",
    "    \n",
    "\n",
    "# Check how mane files are in the new directory\n",
    "file_list = os.listdir('pred_masks_dir')\n",
    "\n",
    "len(file_list)"
   ]
  },
  {
   "cell_type": "code",
   "execution_count": 72,
   "metadata": {},
   "outputs": [
    {
     "data": {
      "application/vnd.jupyter.widget-view+json": {
       "model_id": "ce407475d7cf4665ab741456728e645b",
       "version_major": 2,
       "version_minor": 0
      },
      "text/plain": [
       "  0%|          | 0/146 [00:00<?, ?it/s]"
      ]
     },
     "metadata": {},
     "output_type": "display_data"
    },
    {
     "data": {
      "text/plain": [
       "132"
      ]
     },
     "execution_count": 72,
     "metadata": {},
     "output_type": "execute_result"
    }
   ],
   "source": [
    "# Create blank masks for all val images for which\n",
    "# no bboxes were predicted.\n",
    "# Store these masks in pred_masks_dir\n",
    "\n",
    "pred_list = list(df_test_preds['id'])\n",
    "\n",
    "for i in tqdm(range(0, len(df_val)), total=len(df_val)):\n",
    "    \n",
    "    fname = df_val.loc[i, 'id']\n",
    "    \n",
    "    if fname not in pred_list:\n",
    "        \n",
    "        path = base_path + 'images_dir/images_dir/' + fname\n",
    "        image = cv2.imread(path)\n",
    "\n",
    "        # cv2 reads in BGR format therefore convert from BGR to RGB.\n",
    "        image = cv2.cvtColor(image, cv2.COLOR_BGR2RGB)\n",
    "\n",
    "        # create a blank mask\n",
    "        mask = np.zeros((image.shape[0], image.shape[1]))\n",
    "        \n",
    "        # Save the blank mask in pred_nasks_dir\n",
    "        dst = os.path.join(pred_masks_dir, fname)\n",
    "\n",
    "        cv2.imwrite(dst, mask)\n",
    "        \n",
    "        \n",
    "# Check how mane files are in the new directory\n",
    "file_list = os.listdir('pred_masks_dir')\n",
    "\n",
    "len(file_list)"
   ]
  },
  {
   "cell_type": "code",
   "execution_count": 73,
   "metadata": {},
   "outputs": [
    {
     "name": "stdout",
     "output_type": "stream",
     "text": [
      "(2812, 2012)\n"
     ]
    },
    {
     "data": {
      "text/plain": [
       "<matplotlib.image.AxesImage at 0x7ff939e9fe80>"
      ]
     },
     "execution_count": 73,
     "metadata": {},
     "output_type": "execute_result"
    },
    {
     "data": {
      "image/png": "[encoded data removed]",
      "text/plain": [
       "<Figure size 432x288 with 1 Axes>"
      ]
     },
     "metadata": {
      "needs_background": "light"
     },
     "output_type": "display_data"
    }
   ],
   "source": [
    "pred_mask_list = os.listdir('pred_masks_dir')\n",
    "\n",
    "i = 21\n",
    "\n",
    "path = 'true_masks_dir/' + pred_mask_list[i]\n",
    "\n",
    "image = plt.imread(path)\n",
    "\n",
    "print(image.shape)\n",
    "\n",
    "plt.imshow(image)"
   ]
  },
  {
   "cell_type": "markdown",
   "metadata": {},
   "source": [
    "## Test the iou code"
   ]
  },
  {
   "cell_type": "code",
   "execution_count": 74,
   "metadata": {},
   "outputs": [],
   "source": [
    "def calculate_iou(y_true, y_pred):\n",
    "    \n",
    "    \"\"\"\n",
    "    Input: Numpy arrays with shape (image_h, image_w)\n",
    "    Values must be either 1 or 0.\n",
    "    \n",
    "    Output: IOU value as a number.\n",
    "    \n",
    "    \n",
    "    This works only for single images and not\n",
    "    for a batch of images.\n",
    "    \"\"\"\n",
    "    \n",
    "\n",
    "    # If both images are blank\n",
    "    if y_true.max() == 0 and y_pred.max() == 0:\n",
    "        \n",
    "        IOU = 'both_blank'\n",
    "        \n",
    "    else:\n",
    "    \n",
    "        # Set the matrix values to be either 1 or 0.\n",
    "        # This can also be done like this: mask = (mask > 0).astype(np.uint8)\n",
    "        y_true = y_true.astype(np.bool)\n",
    "        y_pred = y_pred.astype(np.bool)\n",
    "\n",
    "        y_true_flat = y_true.flatten()\n",
    "        y_pred_flat = y_pred.flatten()\n",
    "\n",
    "        result = (y_true_flat * y_pred_flat)\n",
    "\n",
    "        area_of_intersection = np.sum(result)\n",
    "\n",
    "        area_of_union = (np.sum(y_true_flat) + np.sum(y_pred_flat)) - area_of_intersection\n",
    "\n",
    "        # add 0.00001 to prevent a zero division error.\n",
    "        IOU = (area_of_intersection)/(area_of_union + 0.00001)\n",
    "\n",
    "        # Round to three decimal places\n",
    "        IOU = round(IOU, 3)\n",
    "    \n",
    "    return IOU"
   ]
  },
  {
   "cell_type": "code",
   "execution_count": 75,
   "metadata": {},
   "outputs": [
    {
     "name": "stdout",
     "output_type": "stream",
     "text": [
      "(3518, 2800)\n",
      "float32\n",
      "0.0\n",
      "0.003921569\n"
     ]
    },
    {
     "data": {
      "text/plain": [
       "<matplotlib.image.AxesImage at 0x7ff939e13910>"
      ]
     },
     "execution_count": 75,
     "metadata": {},
     "output_type": "execute_result"
    },
    {
     "data": {
      "image/png": "[encoded data removed]",
      "text/plain": [
       "<Figure size 432x288 with 1 Axes>"
      ]
     },
     "metadata": {
      "needs_background": "light"
     },
     "output_type": "display_data"
    }
   ],
   "source": [
    "# Test the IOU function\n",
    "\n",
    "pred_mask_list = os.listdir('pred_masks_dir')\n",
    "\n",
    "i = 10\n",
    "\n",
    "path = 'true_masks_dir/' + pred_mask_list[i]\n",
    "\n",
    "mask = plt.imread(path) #.astype(np.bool)\n",
    "\n",
    "# Threshold the mask\n",
    "#mask = (mask > 0).astype(np.uint8)\n",
    "\n",
    "print(mask.shape)\n",
    "print(mask.dtype)\n",
    "print(mask.min())\n",
    "print(mask.max())\n",
    "\n",
    "plt.imshow(mask)"
   ]
  },
  {
   "cell_type": "code",
   "execution_count": 76,
   "metadata": {},
   "outputs": [],
   "source": [
    "# Change all values to zero\n",
    "mask1 = mask * 0"
   ]
  },
  {
   "cell_type": "code",
   "execution_count": 77,
   "metadata": {},
   "outputs": [
    {
     "data": {
      "text/plain": [
       "'both_blank'"
      ]
     },
     "execution_count": 77,
     "metadata": {},
     "output_type": "execute_result"
    }
   ],
   "source": [
    "# *** Note that if both masks are blank then the iou returned is 0.\n",
    "\n",
    "y_true = mask1\n",
    "y_pred = mask1\n",
    "\n",
    "iou = calculate_iou(y_true, y_pred)\n",
    "\n",
    "iou"
   ]
  },
  {
   "cell_type": "markdown",
   "metadata": {},
   "source": [
    "## Calculate the IOU for all val rows"
   ]
  },
  {
   "cell_type": "code",
   "execution_count": 78,
   "metadata": {},
   "outputs": [
    {
     "data": {
      "application/vnd.jupyter.widget-view+json": {
       "model_id": "c29d92935f9d4f4d8c17c84b67ae9d58",
       "version_major": 2,
       "version_minor": 0
      },
      "text/plain": [
       "  0%|          | 0/146 [00:00<?, ?it/s]"
      ]
     },
     "metadata": {},
     "output_type": "display_data"
    }
   ],
   "source": [
    "iou_list = []\n",
    "\n",
    "for i in tqdm(range(0, len(df_val)), total=len(df_val)):\n",
    "    \n",
    "    # Get the fname\n",
    "    fname = df_val.loc[i, 'id']\n",
    "    \n",
    "    # Load the mask from true_masks_dir\n",
    "    path = 'true_masks_dir/' + fname\n",
    "    true_mask = plt.imread(path)\n",
    "    \n",
    "    \n",
    "    # Load the pred mask\n",
    "    path =  'pred_masks_dir/' + fname\n",
    "    pred_mask = plt.imread(path)\n",
    "    \n",
    "    # Calculate the iou\n",
    "    iou = calculate_iou(true_mask, pred_mask)\n",
    "    \n",
    "    iou_list.append(iou)\n",
    "    \n",
    "    \n",
    "# Add iou list to df_val\n",
    "df_val['iou'] = iou_list"
   ]
  },
  {
   "cell_type": "code",
   "execution_count": 79,
   "metadata": {},
   "outputs": [
    {
     "name": "stdout",
     "output_type": "stream",
     "text": [
      "0.0\n",
      "0.923\n",
      "0.3861550387596898\n"
     ]
    }
   ],
   "source": [
    "df = df_val[df_val['iou'] != 'both_blank']\n",
    "\n",
    "print(df['iou'].min())\n",
    "print(df['iou'].max())\n",
    "print(df['iou'].mean())"
   ]
  },
  {
   "cell_type": "markdown",
   "metadata": {},
   "source": [
    "## Adjust the preds\n",
    "There are cases where the true image has a bbox, and the model also predicted a bbox for that image - but the pred bbox did not overlap with the true bbox. In those cases we need to change the pred from 1 to 0."
   ]
  },
  {
   "cell_type": "code",
   "execution_count": 80,
   "metadata": {},
   "outputs": [],
   "source": [
    "def check_pred_iou(row):\n",
    "    \n",
    "    target = row['target']\n",
    "    pred = row['preds']\n",
    "    iou = row['iou']\n",
    "    \n",
    "    if target == 1 and pred == 1:\n",
    "        \n",
    "        if iou > 0:\n",
    "            return pred # pred is 1\n",
    "        else:\n",
    "            return 0\n",
    "    else:\n",
    "        \n",
    "        return pred\n",
    "\n",
    "        \n",
    "df_val['iou_preds'] = df_val.apply(check_pred_iou, axis=1)"
   ]
  },
  {
   "cell_type": "code",
   "execution_count": 81,
   "metadata": {},
   "outputs": [
    {
     "data": {
      "text/plain": [
       "1    74\n",
       "0    72\n",
       "Name: iou_preds, dtype: int64"
      ]
     },
     "execution_count": 81,
     "metadata": {},
     "output_type": "execute_result"
    }
   ],
   "source": [
    "df_val['iou_preds'].value_counts()"
   ]
  },
  {
   "cell_type": "code",
   "execution_count": null,
   "metadata": {},
   "outputs": [],
   "source": []
  },
  {
   "cell_type": "markdown",
   "metadata": {
    "papermill": {
     "duration": 3.706424,
     "end_time": "2021-07-18T06:59:10.094022",
     "exception": false,
     "start_time": "2021-07-18T06:59:06.387598",
     "status": "completed"
    },
    "tags": []
   },
   "source": [
    "## Confusion Matrix"
   ]
  },
  {
   "cell_type": "code",
   "execution_count": 82,
   "metadata": {
    "papermill": {
     "duration": 4.773196,
     "end_time": "2021-07-18T06:59:18.504453",
     "exception": false,
     "start_time": "2021-07-18T06:59:13.731257",
     "status": "completed"
    },
    "tags": []
   },
   "outputs": [
    {
     "name": "stdout",
     "output_type": "stream",
     "text": [
      "\n",
      "[[17  3]\n",
      " [55 71]]\n",
      "['Normal', 'Mass']\n"
     ]
    }
   ],
   "source": [
    "from sklearn.metrics import confusion_matrix\n",
    "\n",
    "CLASS_LIST = ['Normal', 'Mass']\n",
    "    \n",
    "# targets\n",
    "y_true = list(df_val['target'])\n",
    "\n",
    "# get the preds as integers\n",
    "#y_pred = list(df_val['preds'])\n",
    "y_pred = list(df_val['iou_preds'])\n",
    "\n",
    "# argmax returns the index of the max value in each row.\n",
    "cm = confusion_matrix(y_true, y_pred)\n",
    "\n",
    "# Display the confusion matrix.\n",
    "print()\n",
    "print(cm)\n",
    "print(CLASS_LIST)"
   ]
  },
  {
   "cell_type": "code",
   "execution_count": 83,
   "metadata": {
    "papermill": {
     "duration": 3.838768,
     "end_time": "2021-07-18T06:59:26.204345",
     "exception": false,
     "start_time": "2021-07-18T06:59:22.365577",
     "status": "completed"
    },
    "tags": []
   },
   "outputs": [
    {
     "name": "stdout",
     "output_type": "stream",
     "text": [
      "Confusion matrix, without normalization\n",
      "[[17  3]\n",
      " [55 71]]\n"
     ]
    },
    {
     "data": {
      "image/png": "[encoded data removed]",
      "text/plain": [
       "<Figure size 432x288 with 2 Axes>"
      ]
     },
     "metadata": {
      "needs_background": "light"
     },
     "output_type": "display_data"
    }
   ],
   "source": [
    "cm_plot_labels = ['normal', 'mass']\n",
    "\n",
    "# Set the size of the plot.\n",
    "#plt.figure(figsize=(10,7))\n",
    "\n",
    "# Set the size of the text\n",
    "text_size=12\n",
    "\n",
    "plot_confusion_matrix(cm, cm_plot_labels, title='Confusion Matrix', text_size=text_size)"
   ]
  },
  {
   "cell_type": "markdown",
   "metadata": {
    "papermill": {
     "duration": 3.649494,
     "end_time": "2021-07-18T06:59:33.878606",
     "exception": false,
     "start_time": "2021-07-18T06:59:30.229112",
     "status": "completed"
    },
    "tags": []
   },
   "source": [
    "## Classification Report"
   ]
  },
  {
   "cell_type": "code",
   "execution_count": 84,
   "metadata": {
    "papermill": {
     "duration": 4.01076,
     "end_time": "2021-07-18T06:59:41.630028",
     "exception": false,
     "start_time": "2021-07-18T06:59:37.619268",
     "status": "completed"
    },
    "tags": []
   },
   "outputs": [
    {
     "name": "stdout",
     "output_type": "stream",
     "text": [
      "\n",
      "              precision    recall  f1-score   support\n",
      "\n",
      "      normal       0.24      0.85      0.37        20\n",
      "        mass       0.96      0.56      0.71       126\n",
      "\n",
      "    accuracy                           0.60       146\n",
      "   macro avg       0.60      0.71      0.54       146\n",
      "weighted avg       0.86      0.60      0.66       146\n",
      "\n"
     ]
    }
   ],
   "source": [
    "from sklearn.metrics import classification_report\n",
    "    \n",
    "report = classification_report(y_true, y_pred, target_names=cm_plot_labels)\n",
    "\n",
    "print()\n",
    "print(report)"
   ]
  },
  {
   "cell_type": "markdown",
   "metadata": {
    "papermill": {
     "duration": 4.032807,
     "end_time": "2021-07-18T07:01:09.4492",
     "exception": false,
     "start_time": "2021-07-18T07:01:05.416393",
     "status": "completed"
    },
    "tags": []
   },
   "source": [
    "### Precision\n",
    "\n",
    "Given a prediction, what is the probability that the prediction is correct. In other words, how much can we trust a prediction made by the model?\n",
    "\n",
    "### Recall\n",
    "\n",
    "What percentage of the total number of objects did the model detect? Given an object, what is the probability that the model will detect it? Example: Did the computer vision model in the self driving car detect all the pedestrians?"
   ]
  },
  {
   "cell_type": "markdown",
   "metadata": {},
   "source": [
    "## Save df_val"
   ]
  },
  {
   "cell_type": "code",
   "execution_count": 85,
   "metadata": {},
   "outputs": [],
   "source": [
    "path = 'df_val.csv'\n",
    "df_val.to_csv(path, index=False)"
   ]
  },
  {
   "cell_type": "markdown",
   "metadata": {
    "papermill": {
     "duration": 3.660432,
     "end_time": "2021-07-18T07:01:16.804923",
     "exception": false,
     "start_time": "2021-07-18T07:01:13.144491",
     "status": "completed"
    },
    "tags": []
   },
   "source": [
    "## Delete images to prevent notebook commit errors"
   ]
  },
  {
   "cell_type": "code",
   "execution_count": 86,
   "metadata": {
    "papermill": {
     "duration": 4.440213,
     "end_time": "2021-07-18T07:01:25.213035",
     "exception": false,
     "start_time": "2021-07-18T07:01:20.772822",
     "status": "completed"
    },
    "tags": []
   },
   "outputs": [
    {
     "name": "stdout",
     "output_type": "stream",
     "text": [
      "/bin/bash: warning: setlocale: LC_ALL: cannot change locale (en_US.UTF-8)\r\n",
      "/root/yolov5\r\n"
     ]
    }
   ],
   "source": [
    "# change the working directory to yolov5\n",
    "\n",
    "os.chdir(f'{root}/yolov5')\n",
    "\n",
    "!pwd"
   ]
  },
  {
   "cell_type": "code",
   "execution_count": 87,
   "metadata": {
    "papermill": {
     "duration": 3.868434,
     "end_time": "2021-07-18T07:01:33.690109",
     "exception": false,
     "start_time": "2021-07-18T07:01:29.821675",
     "status": "completed"
    },
    "tags": []
   },
   "outputs": [],
   "source": [
    "# Delete the folder to prevent a Kaggle error.\n",
    "\n",
    "if os.path.isdir('base_dir') == True:\n",
    "    shutil.rmtree('base_dir')"
   ]
  },
  {
   "cell_type": "code",
   "execution_count": null,
   "metadata": {
    "papermill": {
     "duration": 3.962382,
     "end_time": "2021-07-18T07:01:41.32886",
     "exception": false,
     "start_time": "2021-07-18T07:01:37.366478",
     "status": "completed"
    },
    "tags": []
   },
   "outputs": [],
   "source": []
  },
  {
   "cell_type": "code",
   "execution_count": 88,
   "metadata": {
    "papermill": {
     "duration": 4.532111,
     "end_time": "2021-07-18T07:01:49.531092",
     "exception": false,
     "start_time": "2021-07-18T07:01:44.998981",
     "status": "completed"
    },
    "tags": []
   },
   "outputs": [
    {
     "name": "stdout",
     "output_type": "stream",
     "text": [
      "/bin/bash: warning: setlocale: LC_ALL: cannot change locale (en_US.UTF-8)\r\n",
      "/root\r\n"
     ]
    }
   ],
   "source": [
    "# change the working directory\n",
    "\n",
    "os.chdir(root)\n",
    "\n",
    "!pwd"
   ]
  },
  {
   "cell_type": "code",
   "execution_count": 89,
   "metadata": {
    "papermill": {
     "duration": 3.99797,
     "end_time": "2021-07-18T07:01:57.52992",
     "exception": false,
     "start_time": "2021-07-18T07:01:53.53195",
     "status": "completed"
    },
    "tags": []
   },
   "outputs": [],
   "source": [
    "# Delete the folder to prevent a Kaggle error.\n",
    "\n",
    "if os.path.isdir('images_dir') == True:\n",
    "    shutil.rmtree('images_dir')\n",
    "    \n",
    "if os.path.isdir('val_images_dir') == True:\n",
    "    shutil.rmtree('val_images_dir')"
   ]
  },
  {
   "cell_type": "code",
   "execution_count": 90,
   "metadata": {
    "papermill": {
     "duration": 4.459884,
     "end_time": "2021-07-18T07:02:06.52872",
     "exception": false,
     "start_time": "2021-07-18T07:02:02.068836",
     "status": "completed"
    },
    "tags": []
   },
   "outputs": [
    {
     "name": "stdout",
     "output_type": "stream",
     "text": [
      "/bin/bash: warning: setlocale: LC_ALL: cannot change locale (en_US.UTF-8)\r\n",
      "VAST_Setup_Notebook_for_Mammo.ipynb   onstart.sh\r\n",
      "best.pt\t\t\t\t      ports.log\r\n",
      "df_val.csv\t\t\t      pred_masks_dir\r\n",
      "exp49_10f_df_data_w_folds.csv\t      requirements.txt\r\n",
      "exp50-mammo-yolov5-5-0-yolov5l.ipynb  smart-mammo-data\r\n",
      "input\t\t\t\t      true_masks_dir\r\n",
      "my-yolov5-for-offline-use\t      yolo_images_dir\r\n",
      "onstart.log\t\t\t      yolov5\r\n"
     ]
    }
   ],
   "source": [
    "!ls"
   ]
  },
  {
   "cell_type": "code",
   "execution_count": null,
   "metadata": {
    "papermill": {
     "duration": 3.959534,
     "end_time": "2021-07-18T07:02:14.134322",
     "exception": false,
     "start_time": "2021-07-18T07:02:10.174788",
     "status": "completed"
    },
    "tags": []
   },
   "outputs": [],
   "source": []
  },
  {
   "cell_type": "code",
   "execution_count": null,
   "metadata": {},
   "outputs": [],
   "source": []
  }
 ],
 "metadata": {
  "kernelspec": {
   "display_name": "Python 3 (ipykernel)",
   "language": "python",
   "name": "python3"
  },
  "language_info": {
   "codemirror_mode": {
    "name": "ipython",
    "version": 3
   },
   "file_extension": ".py",
   "mimetype": "text/x-python",
   "name": "python",
   "nbconvert_exporter": "python",
   "pygments_lexer": "ipython3",
   "version": "3.8.10"
  }
 },
 "nbformat": 4,
 "nbformat_minor": 4
}
